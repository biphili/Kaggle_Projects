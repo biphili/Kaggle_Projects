{
 "cells": [
  {
   "cell_type": "markdown",
   "execution_count": null,
   "metadata": {},
   "source": [
    "In this dataset we have real estate data.We have features like number of bedrooms,size in sqaure foot and age of the house.Our task is to build a model which can predict the price of the house using the data.If you like the work please do vote."
   ]
  },
  {
   "cell_type": "code",
   "execution_count": 1,
   "metadata": {
    "_cell_guid": "b1076dfc-b9ad-4769-8c92-a6c4dae69d19",
    "_kg_hide-input": true,
    "_uuid": "8f2839f25d086af736a60e9eeb907d3b93b6e0e5"
   },
   "outputs": [
    {
     "name": "stdout",
     "output_type": "stream",
     "text": [
      "/kaggle/input/housing-data.csv\n"
     ]
    }
   ],
   "source": [
    "# This Python 3 environment comes with many helpful analytics libraries installed\n",
    "# It is defined by the kaggle/python Docker image: https://github.com/kaggle/docker-python\n",
    "# For example, here's several helpful packages to load\n",
    "\n",
    "import numpy as np # linear algebra\n",
    "import pandas as pd # data processing, CSV file I/O (e.g. pd.read_csv)\n",
    "\n",
    "# Input data files are available in the read-only \"../input/\" directory\n",
    "# For example, running this (by clicking run or pressing Shift+Enter) will list all files under the input directory\n",
    "\n",
    "import os\n",
    "for dirname, _, filenames in os.walk('/kaggle/input'):\n",
    "    for filename in filenames:\n",
    "        print(os.path.join(dirname, filename))\n",
    "\n",
    "# You can write up to 5GB to the current directory (/kaggle/working/) that gets preserved as output when you create a version using \"Save & Run All\" \n",
    "# You can also write temporary files to /kaggle/temp/, but they won't be saved outside of the current session"
   ]
  },
  {
   "cell_type": "markdown",
   "execution_count": null,
   "metadata": {},
   "source": [
    "### Importing Python modules"
   ]
  },
  {
   "cell_type": "code",
   "execution_count": 2,
   "metadata": {
    "_kg_hide-input": true
   },
   "outputs": [],
   "source": [
    "import numpy as np \n",
    "import pandas as pd\n",
    "import matplotlib.pyplot as plt\n"
   ]
  },
  {
   "cell_type": "markdown",
   "execution_count": null,
   "metadata": {},
   "source": [
    "### Importing the dataset"
   ]
  },
  {
   "cell_type": "code",
   "execution_count": 3,
   "metadata": {
    "_kg_hide-input": true
   },
   "outputs": [
    {
     "data": {
      "text/html": [
       "<div>\n",
       "<style scoped>\n",
       "    .dataframe tbody tr th:only-of-type {\n",
       "        vertical-align: middle;\n",
       "    }\n",
       "\n",
       "    .dataframe tbody tr th {\n",
       "        vertical-align: top;\n",
       "    }\n",
       "\n",
       "    .dataframe thead th {\n",
       "        text-align: right;\n",
       "    }\n",
       "</style>\n",
       "<table border=\"1\" class=\"dataframe\">\n",
       "  <thead>\n",
       "    <tr style=\"text-align: right;\">\n",
       "      <th></th>\n",
       "      <th>sqft</th>\n",
       "      <th>bdrms</th>\n",
       "      <th>age</th>\n",
       "      <th>price</th>\n",
       "    </tr>\n",
       "  </thead>\n",
       "  <tbody>\n",
       "    <tr>\n",
       "      <th>0</th>\n",
       "      <td>2104</td>\n",
       "      <td>3</td>\n",
       "      <td>70</td>\n",
       "      <td>399900</td>\n",
       "    </tr>\n",
       "    <tr>\n",
       "      <th>1</th>\n",
       "      <td>1600</td>\n",
       "      <td>3</td>\n",
       "      <td>28</td>\n",
       "      <td>329900</td>\n",
       "    </tr>\n",
       "    <tr>\n",
       "      <th>2</th>\n",
       "      <td>2400</td>\n",
       "      <td>3</td>\n",
       "      <td>44</td>\n",
       "      <td>369000</td>\n",
       "    </tr>\n",
       "    <tr>\n",
       "      <th>3</th>\n",
       "      <td>1416</td>\n",
       "      <td>2</td>\n",
       "      <td>49</td>\n",
       "      <td>232000</td>\n",
       "    </tr>\n",
       "    <tr>\n",
       "      <th>4</th>\n",
       "      <td>3000</td>\n",
       "      <td>4</td>\n",
       "      <td>75</td>\n",
       "      <td>539900</td>\n",
       "    </tr>\n",
       "  </tbody>\n",
       "</table>\n",
       "</div>"
      ],
      "text/plain": [
       "   sqft  bdrms  age   price\n",
       "0  2104      3   70  399900\n",
       "1  1600      3   28  329900\n",
       "2  2400      3   44  369000\n",
       "3  1416      2   49  232000\n",
       "4  3000      4   75  539900"
      ]
     },
     "execution_count": 3,
     "metadata": {},
     "output_type": "execute_result"
    }
   ],
   "source": [
    "df = pd.read_csv('../input/housing-data.csv')\n",
    "df.head()"
   ]
  },
  {
   "cell_type": "markdown",
   "execution_count": null,
   "metadata": {},
   "source": [
    "We have 47 rows of data and have values of area,rooms,age and the price of house."
   ]
  },
  {
   "cell_type": "markdown",
   "execution_count": null,
   "metadata": {},
   "source": [
    "### Plotting Histogram"
   ]
  },
  {
   "cell_type": "code",
   "execution_count": 4,
   "metadata": {
    "_kg_hide-input": true
   },
   "outputs": [
    {
     "data": {
      "image/png": "[encoded data removed]",
      "text/plain": [
       "<Figure size 1080x360 with 4 Axes>"
      ]
     },
     "metadata": {
      "needs_background": "light"
     },
     "output_type": "display_data"
    }
   ],
   "source": [
    "plt.figure(figsize = (15,5))\n",
    "for i, feature in enumerate(df.columns):\n",
    "    plt.subplot(1,4,i+1)\n",
    "    df[feature].plot(kind='hist',title =feature)\n",
    "    plt.xlabel(feature)"
   ]
  },
  {
   "cell_type": "markdown",
   "execution_count": null,
   "metadata": {},
   "source": [
    "We have the distribution of all the four features in our dataset.Now we will be using the values of Area,Rooms and Age to predict he price of the house."
   ]
  },
  {
   "cell_type": "markdown",
   "execution_count": null,
   "metadata": {},
   "source": [
    "### Creating the Matrix of Features"
   ]
  },
  {
   "cell_type": "code",
   "execution_count": 5,
   "metadata": {
    "_kg_hide-input": true
   },
   "outputs": [],
   "source": [
    "X = df[['sqft','bdrms','age']].values\n",
    "y = df[['price']].values"
   ]
  },
  {
   "cell_type": "markdown",
   "execution_count": null,
   "metadata": {},
   "source": [
    "### Building up the Model "
   ]
  },
  {
   "cell_type": "code",
   "execution_count": 6,
   "metadata": {
    "_kg_hide-input": true
   },
   "outputs": [],
   "source": [
    "X = df[['sqft','bdrms','age']].values\n",
    "y = df['price'].values"
   ]
  },
  {
   "cell_type": "markdown",
   "execution_count": null,
   "metadata": {},
   "source": [
    "### Building Linear Regression Model"
   ]
  },
  {
   "cell_type": "code",
   "execution_count": 7,
   "metadata": {
    "_kg_hide-input": true
   },
   "outputs": [
    {
     "name": "stderr",
     "output_type": "stream",
     "text": [
      "Using TensorFlow backend.\n"
     ]
    }
   ],
   "source": [
    "from keras.models import Sequential \n",
    "from keras.layers import Dense \n",
    "from keras.optimizers import Adam"
   ]
  },
  {
   "cell_type": "code",
   "execution_count": 8,
   "metadata": {
    "_kg_hide-input": true
   },
   "outputs": [],
   "source": [
    "model = Sequential()\n",
    "model.add(Dense(1,input_shape=(3,)))\n",
    "model.compile(Adam(lr=0.8),'mean_squared_error')"
   ]
  },
  {
   "cell_type": "code",
   "execution_count": 9,
   "metadata": {
    "_kg_hide-input": true
   },
   "outputs": [
    {
     "data": {
      "text/plain": [
       "37"
      ]
     },
     "execution_count": 9,
     "metadata": {},
     "output_type": "execute_result"
    }
   ],
   "source": [
    "from sklearn.model_selection import train_test_split\n",
    "X_train,X_test,y_train,y_test = train_test_split(X,y,test_size = 0.2)\n",
    "len(X_train)"
   ]
  },
  {
   "cell_type": "code",
   "execution_count": 10,
   "metadata": {
    "_kg_hide-input": true
   },
   "outputs": [
    {
     "name": "stdout",
     "output_type": "stream",
     "text": [
      "Epoch 1/10\n",
      "37/37 [==============================] - 0s 5ms/step - loss: 127694705857.7297\n",
      "Epoch 2/10\n",
      "37/37 [==============================] - 0s 100us/step - loss: 125692670948.3243\n",
      "Epoch 3/10\n",
      "37/37 [==============================] - 0s 95us/step - loss: 123507213395.0270\n",
      "Epoch 4/10\n",
      "37/37 [==============================] - 0s 95us/step - loss: 121197974500.3243\n",
      "Epoch 5/10\n",
      "37/37 [==============================] - 0s 87us/step - loss: 118862919956.7568\n",
      "Epoch 6/10\n",
      "37/37 [==============================] - 0s 121us/step - loss: 116688999839.1351\n",
      "Epoch 7/10\n",
      "37/37 [==============================] - 0s 108us/step - loss: 114420245144.2162\n",
      "Epoch 8/10\n",
      "37/37 [==============================] - 0s 95us/step - loss: 112201309543.7838\n",
      "Epoch 9/10\n",
      "37/37 [==============================] - 0s 94us/step - loss: 109971436959.1351\n",
      "Epoch 10/10\n",
      "37/37 [==============================] - 0s 100us/step - loss: 107889379272.6487\n"
     ]
    },
    {
     "data": {
      "text/plain": [
       "<keras.callbacks.callbacks.History at 0x7fc395f54a10>"
      ]
     },
     "execution_count": 10,
     "metadata": {},
     "output_type": "execute_result"
    }
   ],
   "source": [
    "model.fit(X_train,y_train,epochs=10)"
   ]
  },
  {
   "cell_type": "code",
   "execution_count": 11,
   "metadata": {
    "_kg_hide-input": true
   },
   "outputs": [
    {
     "data": {
      "text/plain": [
       "169900"
      ]
     },
     "execution_count": 11,
     "metadata": {},
     "output_type": "execute_result"
    }
   ],
   "source": [
    "df['price'].min()"
   ]
  },
  {
   "cell_type": "code",
   "execution_count": 12,
   "metadata": {
    "_kg_hide-input": true
   },
   "outputs": [
    {
     "data": {
      "text/plain": [
       "699900"
      ]
     },
     "execution_count": 12,
     "metadata": {},
     "output_type": "execute_result"
    }
   ],
   "source": [
    "df['price'].max()"
   ]
  },
  {
   "cell_type": "markdown",
   "execution_count": null,
   "metadata": {},
   "source": [
    "We can see that the loss function is going down but it has very big value.Because the loss is calculated interm of difference of actual and predicted prices.If we look at the house price in the dataset the minimum and maximum values are 169900 and 699900 respectively.So when we calculate the loss function the value of the loss function is also bigger.One more problem here is we have only 47 data point.This is very less data for our neural network."
   ]
  },
  {
   "cell_type": "code",
   "execution_count": 13,
   "metadata": {
    "_kg_hide-input": true
   },
   "outputs": [
    {
     "data": {
      "text/html": [
       "<div>\n",
       "<style scoped>\n",
       "    .dataframe tbody tr th:only-of-type {\n",
       "        vertical-align: middle;\n",
       "    }\n",
       "\n",
       "    .dataframe tbody tr th {\n",
       "        vertical-align: top;\n",
       "    }\n",
       "\n",
       "    .dataframe thead th {\n",
       "        text-align: right;\n",
       "    }\n",
       "</style>\n",
       "<table border=\"1\" class=\"dataframe\">\n",
       "  <thead>\n",
       "    <tr style=\"text-align: right;\">\n",
       "      <th></th>\n",
       "      <th>sqft</th>\n",
       "      <th>bdrms</th>\n",
       "      <th>age</th>\n",
       "      <th>price</th>\n",
       "    </tr>\n",
       "  </thead>\n",
       "  <tbody>\n",
       "    <tr>\n",
       "      <th>count</th>\n",
       "      <td>47.000000</td>\n",
       "      <td>47.000000</td>\n",
       "      <td>47.000000</td>\n",
       "      <td>47.000000</td>\n",
       "    </tr>\n",
       "    <tr>\n",
       "      <th>mean</th>\n",
       "      <td>2000.680851</td>\n",
       "      <td>3.170213</td>\n",
       "      <td>42.744681</td>\n",
       "      <td>340412.659574</td>\n",
       "    </tr>\n",
       "    <tr>\n",
       "      <th>std</th>\n",
       "      <td>794.702354</td>\n",
       "      <td>0.760982</td>\n",
       "      <td>22.873440</td>\n",
       "      <td>125039.899586</td>\n",
       "    </tr>\n",
       "    <tr>\n",
       "      <th>min</th>\n",
       "      <td>852.000000</td>\n",
       "      <td>1.000000</td>\n",
       "      <td>5.000000</td>\n",
       "      <td>169900.000000</td>\n",
       "    </tr>\n",
       "    <tr>\n",
       "      <th>25%</th>\n",
       "      <td>1432.000000</td>\n",
       "      <td>3.000000</td>\n",
       "      <td>24.500000</td>\n",
       "      <td>249900.000000</td>\n",
       "    </tr>\n",
       "    <tr>\n",
       "      <th>50%</th>\n",
       "      <td>1888.000000</td>\n",
       "      <td>3.000000</td>\n",
       "      <td>44.000000</td>\n",
       "      <td>299900.000000</td>\n",
       "    </tr>\n",
       "    <tr>\n",
       "      <th>75%</th>\n",
       "      <td>2269.000000</td>\n",
       "      <td>4.000000</td>\n",
       "      <td>61.500000</td>\n",
       "      <td>384450.000000</td>\n",
       "    </tr>\n",
       "    <tr>\n",
       "      <th>max</th>\n",
       "      <td>4478.000000</td>\n",
       "      <td>5.000000</td>\n",
       "      <td>79.000000</td>\n",
       "      <td>699900.000000</td>\n",
       "    </tr>\n",
       "  </tbody>\n",
       "</table>\n",
       "</div>"
      ],
      "text/plain": [
       "              sqft      bdrms        age          price\n",
       "count    47.000000  47.000000  47.000000      47.000000\n",
       "mean   2000.680851   3.170213  42.744681  340412.659574\n",
       "std     794.702354   0.760982  22.873440  125039.899586\n",
       "min     852.000000   1.000000   5.000000  169900.000000\n",
       "25%    1432.000000   3.000000  24.500000  249900.000000\n",
       "50%    1888.000000   3.000000  44.000000  299900.000000\n",
       "75%    2269.000000   4.000000  61.500000  384450.000000\n",
       "max    4478.000000   5.000000  79.000000  699900.000000"
      ]
     },
     "execution_count": 13,
     "metadata": {},
     "output_type": "execute_result"
    }
   ],
   "source": [
    "df.describe()"
   ]
  },
  {
   "cell_type": "markdown",
   "execution_count": null,
   "metadata": {},
   "source": [
    "From the describe option we can seee that there is a big difference in the value range of Area,Price and the Age of the House.There is a possibility of improving our results with feature scaling/normalization.Which we will try out and see."
   ]
  },
  {
   "cell_type": "markdown",
   "execution_count": null,
   "metadata": {},
   "source": [
    "### Scaling the Features"
   ]
  },
  {
   "cell_type": "code",
   "execution_count": 14,
   "metadata": {
    "_kg_hide-input": true
   },
   "outputs": [],
   "source": [
    "df['sqft1000'] = df['sqft']/1000\n",
    "df['age10'] = df['age']/10\n",
    "df['price100k'] = df['price']/1e5"
   ]
  },
  {
   "cell_type": "code",
   "execution_count": 15,
   "metadata": {
    "_kg_hide-input": true
   },
   "outputs": [],
   "source": [
    "X = df[['sqft1000','bdrms','age10']].values\n",
    "y = df['price100k'].values"
   ]
  },
  {
   "cell_type": "code",
   "execution_count": 16,
   "metadata": {
    "_kg_hide-input": true
   },
   "outputs": [],
   "source": [
    "X_train,X_test,y_train,y_test = train_test_split(X,y,test_size=0.2)"
   ]
  },
  {
   "cell_type": "code",
   "execution_count": 17,
   "metadata": {
    "_kg_hide-input": true
   },
   "outputs": [
    {
     "name": "stdout",
     "output_type": "stream",
     "text": [
      "Epoch 1/50\n",
      "37/37 [==============================] - 0s 2ms/step - loss: 65.6764\n",
      "Epoch 2/50\n",
      "37/37 [==============================] - 0s 101us/step - loss: 37.4111\n",
      "Epoch 3/50\n",
      "37/37 [==============================] - 0s 80us/step - loss: 17.6061\n",
      "Epoch 4/50\n",
      "37/37 [==============================] - 0s 85us/step - loss: 5.6449\n",
      "Epoch 5/50\n",
      "37/37 [==============================] - 0s 92us/step - loss: 1.9176\n",
      "Epoch 6/50\n",
      "37/37 [==============================] - 0s 102us/step - loss: 3.4137\n",
      "Epoch 7/50\n",
      "37/37 [==============================] - 0s 92us/step - loss: 7.2029\n",
      "Epoch 8/50\n",
      "37/37 [==============================] - 0s 94us/step - loss: 9.8045\n",
      "Epoch 9/50\n",
      "37/37 [==============================] - 0s 100us/step - loss: 9.7994\n",
      "Epoch 10/50\n",
      "37/37 [==============================] - 0s 84us/step - loss: 7.7340\n",
      "Epoch 11/50\n",
      "37/37 [==============================] - 0s 93us/step - loss: 5.1724\n",
      "Epoch 12/50\n",
      "37/37 [==============================] - 0s 93us/step - loss: 2.8342\n",
      "Epoch 13/50\n",
      "37/37 [==============================] - 0s 100us/step - loss: 1.8319\n",
      "Epoch 14/50\n",
      "37/37 [==============================] - 0s 94us/step - loss: 1.8056\n",
      "Epoch 15/50\n",
      "37/37 [==============================] - 0s 94us/step - loss: 2.5110\n",
      "Epoch 16/50\n",
      "37/37 [==============================] - 0s 90us/step - loss: 3.1022\n",
      "Epoch 17/50\n",
      "37/37 [==============================] - 0s 111us/step - loss: 3.3648\n",
      "Epoch 18/50\n",
      "37/37 [==============================] - 0s 87us/step - loss: 3.1193\n",
      "Epoch 19/50\n",
      "37/37 [==============================] - 0s 109us/step - loss: 2.4632\n",
      "Epoch 20/50\n",
      "37/37 [==============================] - 0s 100us/step - loss: 1.7507\n",
      "Epoch 21/50\n",
      "37/37 [==============================] - 0s 91us/step - loss: 1.5300\n",
      "Epoch 22/50\n",
      "37/37 [==============================] - 0s 89us/step - loss: 1.6077\n",
      "Epoch 23/50\n",
      "37/37 [==============================] - 0s 93us/step - loss: 1.7691\n",
      "Epoch 24/50\n",
      "37/37 [==============================] - 0s 93us/step - loss: 1.7799\n",
      "Epoch 25/50\n",
      "37/37 [==============================] - 0s 104us/step - loss: 1.6178\n",
      "Epoch 26/50\n",
      "37/37 [==============================] - 0s 101us/step - loss: 1.4270\n",
      "Epoch 27/50\n",
      "37/37 [==============================] - 0s 96us/step - loss: 1.2810\n",
      "Epoch 28/50\n",
      "37/37 [==============================] - 0s 97us/step - loss: 1.2939\n",
      "Epoch 29/50\n",
      "37/37 [==============================] - 0s 100us/step - loss: 1.4001\n",
      "Epoch 30/50\n",
      "37/37 [==============================] - 0s 91us/step - loss: 1.5160\n",
      "Epoch 31/50\n",
      "37/37 [==============================] - 0s 95us/step - loss: 1.5069\n",
      "Epoch 32/50\n",
      "37/37 [==============================] - 0s 94us/step - loss: 1.3835\n",
      "Epoch 33/50\n",
      "37/37 [==============================] - 0s 90us/step - loss: 1.2449\n",
      "Epoch 34/50\n",
      "37/37 [==============================] - 0s 86us/step - loss: 1.1506\n",
      "Epoch 35/50\n",
      "37/37 [==============================] - 0s 91us/step - loss: 1.1048\n",
      "Epoch 36/50\n",
      "37/37 [==============================] - 0s 88us/step - loss: 1.1326\n",
      "Epoch 37/50\n",
      "37/37 [==============================] - 0s 99us/step - loss: 1.1427\n",
      "Epoch 38/50\n",
      "37/37 [==============================] - 0s 75us/step - loss: 1.1388\n",
      "Epoch 39/50\n",
      "37/37 [==============================] - 0s 94us/step - loss: 1.1262\n",
      "Epoch 40/50\n",
      "37/37 [==============================] - 0s 100us/step - loss: 1.0956\n",
      "Epoch 41/50\n",
      "37/37 [==============================] - 0s 98us/step - loss: 1.0292\n",
      "Epoch 42/50\n",
      "37/37 [==============================] - 0s 116us/step - loss: 0.9820\n",
      "Epoch 43/50\n",
      "37/37 [==============================] - 0s 108us/step - loss: 0.9643\n",
      "Epoch 44/50\n",
      "37/37 [==============================] - 0s 116us/step - loss: 0.9746\n",
      "Epoch 45/50\n",
      "37/37 [==============================] - 0s 101us/step - loss: 0.9770\n",
      "Epoch 46/50\n",
      "37/37 [==============================] - 0s 114us/step - loss: 0.9612\n",
      "Epoch 47/50\n",
      "37/37 [==============================] - 0s 114us/step - loss: 0.9315\n",
      "Epoch 48/50\n",
      "37/37 [==============================] - 0s 101us/step - loss: 0.9029\n",
      "Epoch 49/50\n",
      "37/37 [==============================] - 0s 90us/step - loss: 0.8767\n",
      "Epoch 50/50\n",
      "37/37 [==============================] - 0s 86us/step - loss: 0.8532\n"
     ]
    },
    {
     "data": {
      "text/plain": [
       "<keras.callbacks.callbacks.History at 0x7fc39419e310>"
      ]
     },
     "execution_count": 17,
     "metadata": {},
     "output_type": "execute_result"
    }
   ],
   "source": [
    "model = Sequential()\n",
    "model.add(Dense(1,input_dim =3))\n",
    "model.compile(Adam(lr=0.1),'mean_squared_error')\n",
    "model.fit(X_train,y_train,epochs = 50)"
   ]
  },
  {
   "cell_type": "markdown",
   "execution_count": null,
   "metadata": {},
   "source": [
    "Now we can see that the the loss function has considerably reduced by scaling the features.This shows the affect of scaling on improving the accuaracy of a Machine Learning Model."
   ]
  },
  {
   "cell_type": "markdown",
   "execution_count": null,
   "metadata": {},
   "source": [
    "### R Square Accuracy of the model"
   ]
  },
  {
   "cell_type": "code",
   "execution_count": 18,
   "metadata": {
    "_kg_hide-input": true
   },
   "outputs": [],
   "source": [
    "from sklearn.metrics import r2_score"
   ]
  },
  {
   "cell_type": "code",
   "execution_count": 19,
   "metadata": {
    "_kg_hide-input": true
   },
   "outputs": [
    {
     "name": "stdout",
     "output_type": "stream",
     "text": [
      "The R2 score on the Train set is:\t0.442\n",
      "The R2 score on the Test set is:\t0.664\n"
     ]
    }
   ],
   "source": [
    "y_train_pred = model.predict(X_train)\n",
    "y_test_pred = model.predict(X_test)\n",
    "\n",
    "print(\"The R2 score on the Train set is:\\t{:0.3f}\".format(r2_score(y_train,y_train_pred)))\n",
    "print(\"The R2 score on the Test set is:\\t{:0.3f}\".format(r2_score(y_test,y_test_pred)))"
   ]
  },
  {
   "cell_type": "markdown",
   "execution_count": null,
   "metadata": {},
   "source": [
    "So we can see that our Acuracy score test set is lower than for train set. We can get better results if we have more data and if we can add more layers to our neural network."
   ]
  },
  {
   "cell_type": "code",
   "execution_count": null,
   "metadata": {},
   "outputs": [],
   "source": []
  }
 ],
 "metadata": {
  "kernelspec": {
   "display_name": "Python 3",
   "language": "python",
   "name": "python3"
  },
  "language_info": {
   "codemirror_mode": {
    "name": "ipython",
    "version": 3
   },
   "file_extension": ".py",
   "mimetype": "text/x-python",
   "name": "python",
   "nbconvert_exporter": "python",
   "pygments_lexer": "ipython3",
   "version": "3.7.6"
  }
 },
 "nbformat": 4,
 "nbformat_minor": 4
}
