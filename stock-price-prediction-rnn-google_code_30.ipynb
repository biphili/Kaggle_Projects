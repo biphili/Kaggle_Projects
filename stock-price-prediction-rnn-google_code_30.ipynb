{
 "cells": [
  {
   "cell_type": "markdown",
   "metadata": {},
   "source": [
    "Here we will be working with Google stock Price data.We will be using five year of google Stock price data and try to predict the future stock price using RNN.This Kernel is a work in process.If you like my work please do vote."
   ]
  },
  {
   "cell_type": "code",
   "execution_count": 1,
   "metadata": {
    "_cell_guid": "b1076dfc-b9ad-4769-8c92-a6c4dae69d19",
    "_kg_hide-input": true,
    "_uuid": "8f2839f25d086af736a60e9eeb907d3b93b6e0e5"
   },
   "outputs": [
    {
     "name": "stdout",
     "output_type": "stream",
     "text": [
      "/kaggle/input/feature-scaling/Normalization.PNG\n",
      "/kaggle/input/google-test/Google_Stock_Price_Test.csv\n",
      "/kaggle/input/googledta/trainset.csv\n",
      "/kaggle/input/googledta/testset.csv\n"
     ]
    }
   ],
   "source": [
    "# This Python 3 environment comes with many helpful analytics libraries installed\n",
    "# It is defined by the kaggle/python docker image: https://github.com/kaggle/docker-python\n",
    "# For example, here's several helpful packages to load in \n",
    "\n",
    "import numpy as np # linear algebra\n",
    "import pandas as pd # data processing, CSV file I/O (e.g. pd.read_csv)\n",
    "\n",
    "# Input data files are available in the \"../input/\" directory.\n",
    "# For example, running this (by clicking run or pressing Shift+Enter) will list all files under the input directory\n",
    "\n",
    "import os\n",
    "for dirname, _, filenames in os.walk('/kaggle/input'):\n",
    "    for filename in filenames:\n",
    "        print(os.path.join(dirname, filename))\n",
    "\n",
    "# Any results you write to the current directory are saved as output."
   ]
  },
  {
   "cell_type": "markdown",
   "metadata": {},
   "source": [
    "**Importing Python Modules**"
   ]
  },
  {
   "cell_type": "code",
   "execution_count": 2,
   "metadata": {
    "_cell_guid": "79c7e3d0-c299-4dcb-8224-4455121ee9b0",
    "_uuid": "d629ff2d2480ee46fbb7e2d37f6b5fab8052498a"
   },
   "outputs": [],
   "source": [
    "import numpy as np\n",
    "import matplotlib.pyplot as plt\n",
    "import pandas as pd"
   ]
  },
  {
   "cell_type": "markdown",
   "metadata": {},
   "source": [
    "**Importing the dataset** "
   ]
  },
  {
   "cell_type": "code",
   "execution_count": 3,
   "metadata": {},
   "outputs": [
    {
     "data": {
      "text/html": [
       "<div>\n",
       "<style scoped>\n",
       "    .dataframe tbody tr th:only-of-type {\n",
       "        vertical-align: middle;\n",
       "    }\n",
       "\n",
       "    .dataframe tbody tr th {\n",
       "        vertical-align: top;\n",
       "    }\n",
       "\n",
       "    .dataframe thead th {\n",
       "        text-align: right;\n",
       "    }\n",
       "</style>\n",
       "<table border=\"1\" class=\"dataframe\">\n",
       "  <thead>\n",
       "    <tr style=\"text-align: right;\">\n",
       "      <th></th>\n",
       "      <th>Date</th>\n",
       "      <th>Open</th>\n",
       "      <th>High</th>\n",
       "      <th>Low</th>\n",
       "      <th>Close</th>\n",
       "      <th>Adj Close</th>\n",
       "      <th>Volume</th>\n",
       "    </tr>\n",
       "  </thead>\n",
       "  <tbody>\n",
       "    <tr>\n",
       "      <th>1254</th>\n",
       "      <td>2017-12-22</td>\n",
       "      <td>1061.109985</td>\n",
       "      <td>1064.199951</td>\n",
       "      <td>1059.439941</td>\n",
       "      <td>1060.119995</td>\n",
       "      <td>1060.119995</td>\n",
       "      <td>755100</td>\n",
       "    </tr>\n",
       "    <tr>\n",
       "      <th>1255</th>\n",
       "      <td>2017-12-26</td>\n",
       "      <td>1058.069946</td>\n",
       "      <td>1060.119995</td>\n",
       "      <td>1050.199951</td>\n",
       "      <td>1056.739990</td>\n",
       "      <td>1056.739990</td>\n",
       "      <td>760600</td>\n",
       "    </tr>\n",
       "    <tr>\n",
       "      <th>1256</th>\n",
       "      <td>2017-12-27</td>\n",
       "      <td>1057.390015</td>\n",
       "      <td>1058.369995</td>\n",
       "      <td>1048.050049</td>\n",
       "      <td>1049.369995</td>\n",
       "      <td>1049.369995</td>\n",
       "      <td>1271900</td>\n",
       "    </tr>\n",
       "    <tr>\n",
       "      <th>1257</th>\n",
       "      <td>2017-12-28</td>\n",
       "      <td>1051.599976</td>\n",
       "      <td>1054.750000</td>\n",
       "      <td>1044.770020</td>\n",
       "      <td>1048.140015</td>\n",
       "      <td>1048.140015</td>\n",
       "      <td>837100</td>\n",
       "    </tr>\n",
       "    <tr>\n",
       "      <th>1258</th>\n",
       "      <td>2017-12-29</td>\n",
       "      <td>1046.719971</td>\n",
       "      <td>1049.699951</td>\n",
       "      <td>1044.900024</td>\n",
       "      <td>1046.400024</td>\n",
       "      <td>1046.400024</td>\n",
       "      <td>887500</td>\n",
       "    </tr>\n",
       "  </tbody>\n",
       "</table>\n",
       "</div>"
      ],
      "text/plain": [
       "            Date         Open         High          Low        Close  \\\n",
       "1254  2017-12-22  1061.109985  1064.199951  1059.439941  1060.119995   \n",
       "1255  2017-12-26  1058.069946  1060.119995  1050.199951  1056.739990   \n",
       "1256  2017-12-27  1057.390015  1058.369995  1048.050049  1049.369995   \n",
       "1257  2017-12-28  1051.599976  1054.750000  1044.770020  1048.140015   \n",
       "1258  2017-12-29  1046.719971  1049.699951  1044.900024  1046.400024   \n",
       "\n",
       "        Adj Close   Volume  \n",
       "1254  1060.119995   755100  \n",
       "1255  1056.739990   760600  \n",
       "1256  1049.369995  1271900  \n",
       "1257  1048.140015   837100  \n",
       "1258  1046.400024   887500  "
      ]
     },
     "execution_count": 3,
     "metadata": {},
     "output_type": "execute_result"
    }
   ],
   "source": [
    "dataset_train=pd.read_csv('../input/googledta/trainset.csv')\n",
    "dataset_train.tail()"
   ]
  },
  {
   "cell_type": "code",
   "execution_count": 4,
   "metadata": {},
   "outputs": [
    {
     "data": {
      "text/html": [
       "<div>\n",
       "<style scoped>\n",
       "    .dataframe tbody tr th:only-of-type {\n",
       "        vertical-align: middle;\n",
       "    }\n",
       "\n",
       "    .dataframe tbody tr th {\n",
       "        vertical-align: top;\n",
       "    }\n",
       "\n",
       "    .dataframe thead th {\n",
       "        text-align: right;\n",
       "    }\n",
       "</style>\n",
       "<table border=\"1\" class=\"dataframe\">\n",
       "  <thead>\n",
       "    <tr style=\"text-align: right;\">\n",
       "      <th></th>\n",
       "      <th>Date</th>\n",
       "      <th>Open</th>\n",
       "      <th>High</th>\n",
       "      <th>Low</th>\n",
       "      <th>Close</th>\n",
       "      <th>Volume</th>\n",
       "    </tr>\n",
       "  </thead>\n",
       "  <tbody>\n",
       "    <tr>\n",
       "      <th>0</th>\n",
       "      <td>1/3/2017</td>\n",
       "      <td>778.81</td>\n",
       "      <td>789.63</td>\n",
       "      <td>775.80</td>\n",
       "      <td>786.14</td>\n",
       "      <td>1,657,300</td>\n",
       "    </tr>\n",
       "    <tr>\n",
       "      <th>1</th>\n",
       "      <td>1/4/2017</td>\n",
       "      <td>788.36</td>\n",
       "      <td>791.34</td>\n",
       "      <td>783.16</td>\n",
       "      <td>786.90</td>\n",
       "      <td>1,073,000</td>\n",
       "    </tr>\n",
       "    <tr>\n",
       "      <th>2</th>\n",
       "      <td>1/5/2017</td>\n",
       "      <td>786.08</td>\n",
       "      <td>794.48</td>\n",
       "      <td>785.02</td>\n",
       "      <td>794.02</td>\n",
       "      <td>1,335,200</td>\n",
       "    </tr>\n",
       "    <tr>\n",
       "      <th>3</th>\n",
       "      <td>1/6/2017</td>\n",
       "      <td>795.26</td>\n",
       "      <td>807.90</td>\n",
       "      <td>792.20</td>\n",
       "      <td>806.15</td>\n",
       "      <td>1,640,200</td>\n",
       "    </tr>\n",
       "    <tr>\n",
       "      <th>4</th>\n",
       "      <td>1/9/2017</td>\n",
       "      <td>806.40</td>\n",
       "      <td>809.97</td>\n",
       "      <td>802.83</td>\n",
       "      <td>806.65</td>\n",
       "      <td>1,272,400</td>\n",
       "    </tr>\n",
       "  </tbody>\n",
       "</table>\n",
       "</div>"
      ],
      "text/plain": [
       "       Date    Open    High     Low   Close     Volume\n",
       "0  1/3/2017  778.81  789.63  775.80  786.14  1,657,300\n",
       "1  1/4/2017  788.36  791.34  783.16  786.90  1,073,000\n",
       "2  1/5/2017  786.08  794.48  785.02  794.02  1,335,200\n",
       "3  1/6/2017  795.26  807.90  792.20  806.15  1,640,200\n",
       "4  1/9/2017  806.40  809.97  802.83  806.65  1,272,400"
      ]
     },
     "execution_count": 4,
     "metadata": {},
     "output_type": "execute_result"
    }
   ],
   "source": [
    "dataset_test=pd.read_csv('../input/google-test/Google_Stock_Price_Test.csv')\n",
    "dataset_test.head()"
   ]
  },
  {
   "cell_type": "markdown",
   "metadata": {},
   "source": [
    "**Part1:Data Preprocessing **"
   ]
  },
  {
   "cell_type": "code",
   "execution_count": 5,
   "metadata": {},
   "outputs": [],
   "source": [
    "training_set=dataset_train.iloc[:,1:2].values"
   ]
  },
  {
   "cell_type": "markdown",
   "metadata": {},
   "source": [
    "We are considering the open stock price for prediction.Taking the range 1:2 means only column of Open Price is selected and we also have an numpy array"
   ]
  },
  {
   "cell_type": "markdown",
   "metadata": {},
   "source": [
    "**Applying Feature Scaling **"
   ]
  },
  {
   "cell_type": "code",
   "execution_count": 6,
   "metadata": {
    "_kg_hide-input": true
   },
   "outputs": [
    {
     "data": {
      "image/png": "[encoded data removed]",
      "text/plain": [
       "<Figure size 720x720 with 1 Axes>"
      ]
     },
     "metadata": {
      "needs_background": "light"
     },
     "output_type": "display_data"
    }
   ],
   "source": [
    "import matplotlib.pyplot as plt\n",
    "from PIL import Image\n",
    "%matplotlib inline\n",
    "import numpy as np\n",
    "img=np.array(Image.open('../input/feature-scaling/Normalization.PNG'))\n",
    "fig=plt.figure(figsize=(10,10))\n",
    "plt.imshow(img,interpolation='bilinear')\n",
    "plt.axis('off')\n",
    "plt.show()"
   ]
  },
  {
   "cell_type": "markdown",
   "metadata": {},
   "source": [
    "We can used Feature scaling Method like Standardisation and Normalization on our Dataset.For RNN we prefer Normalization as it work well if Sigmoid function is used for activation in the output layer"
   ]
  },
  {
   "cell_type": "code",
   "execution_count": 7,
   "metadata": {},
   "outputs": [],
   "source": [
    "from sklearn.preprocessing import MinMaxScaler\n",
    "sc=MinMaxScaler(feature_range=(0,1))\n",
    "training_set_scaled=sc.fit_transform(training_set)"
   ]
  },
  {
   "cell_type": "code",
   "execution_count": 8,
   "metadata": {},
   "outputs": [
    {
     "data": {
      "text/plain": [
       "(1259, 1)"
      ]
     },
     "execution_count": 8,
     "metadata": {},
     "output_type": "execute_result"
    }
   ],
   "source": [
    "training_set_scaled.shape"
   ]
  },
  {
   "cell_type": "markdown",
   "metadata": {},
   "source": [
    "Now we have the stock prices in ranged of 0 to 1 due to scaling."
   ]
  },
  {
   "cell_type": "markdown",
   "metadata": {},
   "source": [
    "**Creating a data Structure with 60 timesteps and one output **\n",
    "\n",
    "We will be taking the reference of past 60 days of data to predict the future stock price.It is observed that taking 60 days of past data gives us best results.In this data set 60 days of data means 3 months of data.Every month as 20 days of Stock price. X train will have data of 60 days prior to our date and y train will have data of one day after our date"
   ]
  },
  {
   "cell_type": "code",
   "execution_count": 9,
   "metadata": {},
   "outputs": [],
   "source": [
    "X_train=[]\n",
    "y_train=[]\n",
    "for i in range(60,1259):\n",
    "    X_train.append(training_set_scaled[i-60:i,0])\n",
    "    y_train.append(training_set_scaled[i,0]) \n",
    "X_train,y_train=np.array(X_train),np.array(y_train)"
   ]
  },
  {
   "cell_type": "markdown",
   "metadata": {},
   "source": [
    "**Reshaping the data**"
   ]
  },
  {
   "cell_type": "code",
   "execution_count": 10,
   "metadata": {},
   "outputs": [
    {
     "data": {
      "text/plain": [
       "1199"
      ]
     },
     "execution_count": 10,
     "metadata": {},
     "output_type": "execute_result"
    }
   ],
   "source": [
    "X_train.shape[0]"
   ]
  },
  {
   "cell_type": "code",
   "execution_count": 11,
   "metadata": {},
   "outputs": [
    {
     "data": {
      "text/plain": [
       "60"
      ]
     },
     "execution_count": 11,
     "metadata": {},
     "output_type": "execute_result"
    }
   ],
   "source": [
    "X_train.shape[1]"
   ]
  },
  {
   "cell_type": "code",
   "execution_count": 12,
   "metadata": {},
   "outputs": [],
   "source": [
    "X_train=np.reshape(X_train,(X_train.shape[0],X_train.shape[1],1))"
   ]
  },
  {
   "cell_type": "code",
   "execution_count": 13,
   "metadata": {},
   "outputs": [
    {
     "data": {
      "text/plain": [
       "(1199, 60, 1)"
      ]
     },
     "execution_count": 13,
     "metadata": {},
     "output_type": "execute_result"
    }
   ],
   "source": [
    "X_train.shape"
   ]
  },
  {
   "cell_type": "markdown",
   "metadata": {},
   "source": [
    "Now we have the right shape for our data in three dimensons.\n",
    "\n",
    "1-Number of stock prices -1199\n",
    "\n",
    "2-Number of time steps -60\n",
    "\n",
    "3.Number of Indicator -1"
   ]
  },
  {
   "cell_type": "markdown",
   "metadata": {},
   "source": [
    "**Part2:Building the RNN** "
   ]
  },
  {
   "cell_type": "markdown",
   "metadata": {},
   "source": [
    "**Importing the Keras packages**"
   ]
  },
  {
   "cell_type": "code",
   "execution_count": 14,
   "metadata": {},
   "outputs": [
    {
     "name": "stderr",
     "output_type": "stream",
     "text": [
      "Using TensorFlow backend.\n"
     ]
    }
   ],
   "source": [
    "from keras.models import Sequential \n",
    "from keras.layers import Dense \n",
    "from keras.layers import LSTM\n",
    "from keras.layers import Dropout"
   ]
  },
  {
   "cell_type": "markdown",
   "metadata": {},
   "source": [
    "**Initalize RNN **"
   ]
  },
  {
   "cell_type": "code",
   "execution_count": 15,
   "metadata": {},
   "outputs": [],
   "source": [
    "regressor=Sequential()"
   ]
  },
  {
   "cell_type": "markdown",
   "metadata": {},
   "source": [
    "* **Adding the first LSTM Layer and Dropout regularization**"
   ]
  },
  {
   "cell_type": "code",
   "execution_count": 16,
   "metadata": {},
   "outputs": [],
   "source": [
    "regressor.add(LSTM(units=50,return_sequences=True,input_shape=(X_train.shape[1],1)))\n",
    "regressor.add(Dropout(0.2))"
   ]
  },
  {
   "cell_type": "markdown",
   "metadata": {},
   "source": [
    "**Adding second layer of LSTM and dropout regularization**"
   ]
  },
  {
   "cell_type": "code",
   "execution_count": 17,
   "metadata": {},
   "outputs": [],
   "source": [
    "regressor.add(LSTM(units=50,return_sequences=True))\n",
    "regressor.add(Dropout(0.2))"
   ]
  },
  {
   "cell_type": "markdown",
   "metadata": {},
   "source": [
    "> **Adding third layer of LSTM and dropout regularization**"
   ]
  },
  {
   "cell_type": "code",
   "execution_count": 18,
   "metadata": {},
   "outputs": [],
   "source": [
    "regressor.add(LSTM(units=50,return_sequences=True))\n",
    "regressor.add(Dropout(0.2))"
   ]
  },
  {
   "cell_type": "markdown",
   "metadata": {},
   "source": [
    "**Adding third layer of LSTM and dropout regularization**"
   ]
  },
  {
   "cell_type": "code",
   "execution_count": 19,
   "metadata": {},
   "outputs": [],
   "source": [
    "regressor.add(LSTM(units=50,return_sequences=False))\n",
    "regressor.add(Dropout(0.2))"
   ]
  },
  {
   "cell_type": "markdown",
   "metadata": {},
   "source": [
    "**Adding the output Layer **"
   ]
  },
  {
   "cell_type": "code",
   "execution_count": 20,
   "metadata": {},
   "outputs": [],
   "source": [
    "regressor.add(Dense(units=1))"
   ]
  },
  {
   "cell_type": "markdown",
   "metadata": {},
   "source": [
    "**Compiling the RNN**"
   ]
  },
  {
   "cell_type": "code",
   "execution_count": 21,
   "metadata": {},
   "outputs": [],
   "source": [
    "regressor.compile(optimizer='adam',loss='mean_squared_error')"
   ]
  },
  {
   "cell_type": "markdown",
   "metadata": {},
   "source": [
    "> **Fitting the RNN to training set**"
   ]
  },
  {
   "cell_type": "code",
   "execution_count": 22,
   "metadata": {},
   "outputs": [
    {
     "name": "stdout",
     "output_type": "stream",
     "text": [
      "Epoch 1/100\n",
      "1199/1199 [==============================] - 7s 6ms/step - loss: 0.0318\n",
      "Epoch 2/100\n",
      "1199/1199 [==============================] - 6s 5ms/step - loss: 0.0044\n",
      "Epoch 3/100\n",
      "1199/1199 [==============================] - 5s 4ms/step - loss: 0.0038\n",
      "Epoch 4/100\n",
      "1199/1199 [==============================] - 5s 4ms/step - loss: 0.0039\n",
      "Epoch 5/100\n",
      "1199/1199 [==============================] - 5s 5ms/step - loss: 0.0037\n",
      "Epoch 6/100\n",
      "1199/1199 [==============================] - 5s 4ms/step - loss: 0.0036\n",
      "Epoch 7/100\n",
      "1199/1199 [==============================] - 5s 4ms/step - loss: 0.0034\n",
      "Epoch 8/100\n",
      "1199/1199 [==============================] - 5s 4ms/step - loss: 0.0033\n",
      "Epoch 9/100\n",
      "1199/1199 [==============================] - 5s 5ms/step - loss: 0.0036\n",
      "Epoch 10/100\n",
      "1199/1199 [==============================] - 5s 4ms/step - loss: 0.0035\n",
      "Epoch 11/100\n",
      "1199/1199 [==============================] - 5s 5ms/step - loss: 0.0039\n",
      "Epoch 12/100\n",
      "1199/1199 [==============================] - 5s 5ms/step - loss: 0.0032\n",
      "Epoch 13/100\n",
      "1199/1199 [==============================] - 5s 5ms/step - loss: 0.0029\n",
      "Epoch 14/100\n",
      "1199/1199 [==============================] - 5s 5ms/step - loss: 0.0025\n",
      "Epoch 15/100\n",
      "1199/1199 [==============================] - 5s 5ms/step - loss: 0.0027\n",
      "Epoch 16/100\n",
      "1199/1199 [==============================] - 5s 5ms/step - loss: 0.0026\n",
      "Epoch 17/100\n",
      "1199/1199 [==============================] - 5s 5ms/step - loss: 0.0028\n",
      "Epoch 18/100\n",
      "1199/1199 [==============================] - 5s 5ms/step - loss: 0.0023\n",
      "Epoch 19/100\n",
      "1199/1199 [==============================] - 5s 5ms/step - loss: 0.0031\n",
      "Epoch 20/100\n",
      "1199/1199 [==============================] - 5s 5ms/step - loss: 0.0028\n",
      "Epoch 21/100\n",
      "1199/1199 [==============================] - 6s 5ms/step - loss: 0.0026\n",
      "Epoch 22/100\n",
      "1199/1199 [==============================] - 5s 4ms/step - loss: 0.0025\n",
      "Epoch 23/100\n",
      "1199/1199 [==============================] - 5s 5ms/step - loss: 0.0026\n",
      "Epoch 24/100\n",
      "1199/1199 [==============================] - 5s 5ms/step - loss: 0.0023\n",
      "Epoch 25/100\n",
      "1199/1199 [==============================] - 5s 5ms/step - loss: 0.0024\n",
      "Epoch 26/100\n",
      "1199/1199 [==============================] - 5s 5ms/step - loss: 0.0025\n",
      "Epoch 27/100\n",
      "1199/1199 [==============================] - 5s 5ms/step - loss: 0.0025\n",
      "Epoch 28/100\n",
      "1199/1199 [==============================] - 5s 5ms/step - loss: 0.0024\n",
      "Epoch 29/100\n",
      "1199/1199 [==============================] - 5s 5ms/step - loss: 0.0024\n",
      "Epoch 30/100\n",
      "1199/1199 [==============================] - 6s 5ms/step - loss: 0.0023\n",
      "Epoch 31/100\n",
      "1199/1199 [==============================] - 5s 5ms/step - loss: 0.0020\n",
      "Epoch 32/100\n",
      "1199/1199 [==============================] - 6s 5ms/step - loss: 0.0022\n",
      "Epoch 33/100\n",
      "1199/1199 [==============================] - 5s 5ms/step - loss: 0.0022\n",
      "Epoch 34/100\n",
      "1199/1199 [==============================] - 5s 5ms/step - loss: 0.0022\n",
      "Epoch 35/100\n",
      "1199/1199 [==============================] - 5s 5ms/step - loss: 0.0018\n",
      "Epoch 36/100\n",
      "1199/1199 [==============================] - 5s 5ms/step - loss: 0.0019\n",
      "Epoch 37/100\n",
      "1199/1199 [==============================] - 5s 5ms/step - loss: 0.0020\n",
      "Epoch 38/100\n",
      "1199/1199 [==============================] - 5s 5ms/step - loss: 0.0020\n",
      "Epoch 39/100\n",
      "1199/1199 [==============================] - 5s 5ms/step - loss: 0.0021\n",
      "Epoch 40/100\n",
      "1199/1199 [==============================] - 5s 5ms/step - loss: 0.0019\n",
      "Epoch 41/100\n",
      "1199/1199 [==============================] - 5s 5ms/step - loss: 0.0020\n",
      "Epoch 42/100\n",
      "1199/1199 [==============================] - 5s 5ms/step - loss: 0.0018\n",
      "Epoch 43/100\n",
      "1199/1199 [==============================] - 6s 5ms/step - loss: 0.0018\n",
      "Epoch 44/100\n",
      "1199/1199 [==============================] - 6s 5ms/step - loss: 0.0018\n",
      "Epoch 45/100\n",
      "1199/1199 [==============================] - 6s 5ms/step - loss: 0.0020\n",
      "Epoch 46/100\n",
      "1199/1199 [==============================] - 5s 5ms/step - loss: 0.0018\n",
      "Epoch 47/100\n",
      "1199/1199 [==============================] - 6s 5ms/step - loss: 0.0021\n",
      "Epoch 48/100\n",
      "1199/1199 [==============================] - 5s 5ms/step - loss: 0.0019\n",
      "Epoch 49/100\n",
      "1199/1199 [==============================] - 6s 5ms/step - loss: 0.0017\n",
      "Epoch 50/100\n",
      "1199/1199 [==============================] - 6s 5ms/step - loss: 0.0019\n",
      "Epoch 51/100\n",
      "1199/1199 [==============================] - 6s 5ms/step - loss: 0.0017\n",
      "Epoch 52/100\n",
      "1199/1199 [==============================] - 5s 5ms/step - loss: 0.0017\n",
      "Epoch 53/100\n",
      "1199/1199 [==============================] - 5s 5ms/step - loss: 0.0016\n",
      "Epoch 54/100\n",
      "1199/1199 [==============================] - 5s 5ms/step - loss: 0.0016\n",
      "Epoch 55/100\n",
      "1199/1199 [==============================] - 5s 5ms/step - loss: 0.0018\n",
      "Epoch 56/100\n",
      "1199/1199 [==============================] - 5s 5ms/step - loss: 0.0015\n",
      "Epoch 57/100\n",
      "1199/1199 [==============================] - 5s 5ms/step - loss: 0.0016\n",
      "Epoch 58/100\n",
      "1199/1199 [==============================] - 6s 5ms/step - loss: 0.0016\n",
      "Epoch 59/100\n",
      "1199/1199 [==============================] - 5s 5ms/step - loss: 0.0015\n",
      "Epoch 60/100\n",
      "1199/1199 [==============================] - 5s 5ms/step - loss: 0.0015\n",
      "Epoch 61/100\n",
      "1199/1199 [==============================] - 5s 5ms/step - loss: 0.0015\n",
      "Epoch 62/100\n",
      "1199/1199 [==============================] - 5s 5ms/step - loss: 0.0016\n",
      "Epoch 63/100\n",
      "1199/1199 [==============================] - 5s 4ms/step - loss: 0.0016\n",
      "Epoch 64/100\n",
      "1199/1199 [==============================] - 5s 5ms/step - loss: 0.0014\n",
      "Epoch 65/100\n",
      "1199/1199 [==============================] - 5s 5ms/step - loss: 0.0014\n",
      "Epoch 66/100\n",
      "1199/1199 [==============================] - 5s 4ms/step - loss: 0.0014\n",
      "Epoch 67/100\n",
      "1199/1199 [==============================] - 5s 4ms/step - loss: 0.0013\n",
      "Epoch 68/100\n",
      "1199/1199 [==============================] - 5s 5ms/step - loss: 0.0015\n",
      "Epoch 69/100\n",
      "1199/1199 [==============================] - 5s 5ms/step - loss: 0.0016\n",
      "Epoch 70/100\n",
      "1199/1199 [==============================] - 6s 5ms/step - loss: 0.0014\n",
      "Epoch 71/100\n",
      "1199/1199 [==============================] - 5s 5ms/step - loss: 0.0014\n",
      "Epoch 72/100\n",
      "1199/1199 [==============================] - 5s 4ms/step - loss: 0.0015\n",
      "Epoch 73/100\n",
      "1199/1199 [==============================] - 5s 5ms/step - loss: 0.0014\n",
      "Epoch 74/100\n",
      "1199/1199 [==============================] - 5s 4ms/step - loss: 0.0014\n",
      "Epoch 75/100\n",
      "1199/1199 [==============================] - 5s 5ms/step - loss: 0.0014\n",
      "Epoch 76/100\n",
      "1199/1199 [==============================] - 5s 4ms/step - loss: 0.0014\n",
      "Epoch 77/100\n",
      "1199/1199 [==============================] - 5s 4ms/step - loss: 0.0015\n",
      "Epoch 78/100\n",
      "1199/1199 [==============================] - 5s 4ms/step - loss: 0.0012\n",
      "Epoch 79/100\n",
      "1199/1199 [==============================] - 5s 4ms/step - loss: 0.0013\n",
      "Epoch 80/100\n",
      "1199/1199 [==============================] - 5s 5ms/step - loss: 0.0012\n",
      "Epoch 81/100\n",
      "1199/1199 [==============================] - 5s 4ms/step - loss: 0.0012\n",
      "Epoch 82/100\n",
      "1199/1199 [==============================] - 5s 5ms/step - loss: 0.0012\n",
      "Epoch 83/100\n",
      "1199/1199 [==============================] - 5s 4ms/step - loss: 0.0012\n",
      "Epoch 84/100\n",
      "1199/1199 [==============================] - 5s 4ms/step - loss: 0.0011\n",
      "Epoch 85/100\n",
      "1199/1199 [==============================] - 5s 5ms/step - loss: 0.0011\n",
      "Epoch 86/100\n",
      "1199/1199 [==============================] - 6s 5ms/step - loss: 0.0011\n",
      "Epoch 87/100\n",
      "1199/1199 [==============================] - 5s 5ms/step - loss: 0.0012\n",
      "Epoch 88/100\n",
      "1199/1199 [==============================] - 6s 5ms/step - loss: 0.0011\n",
      "Epoch 89/100\n",
      "1199/1199 [==============================] - 6s 5ms/step - loss: 0.0011\n",
      "Epoch 90/100\n",
      "1199/1199 [==============================] - 6s 5ms/step - loss: 0.0011\n",
      "Epoch 91/100\n",
      "1199/1199 [==============================] - 6s 5ms/step - loss: 0.0011\n",
      "Epoch 92/100\n",
      "1199/1199 [==============================] - 6s 5ms/step - loss: 0.0011\n",
      "Epoch 93/100\n",
      "1199/1199 [==============================] - 6s 5ms/step - loss: 0.0011\n",
      "Epoch 94/100\n",
      "1199/1199 [==============================] - 6s 5ms/step - loss: 0.0012\n",
      "Epoch 95/100\n",
      "1199/1199 [==============================] - 6s 5ms/step - loss: 9.9548e-04\n",
      "Epoch 96/100\n",
      "1199/1199 [==============================] - 6s 5ms/step - loss: 9.7703e-04\n",
      "Epoch 97/100\n",
      "1199/1199 [==============================] - 6s 5ms/step - loss: 0.0012\n",
      "Epoch 98/100\n",
      "1199/1199 [==============================] - 6s 5ms/step - loss: 0.0011\n",
      "Epoch 99/100\n",
      "1199/1199 [==============================] - 6s 5ms/step - loss: 0.0012\n",
      "Epoch 100/100\n",
      "1199/1199 [==============================] - 6s 5ms/step - loss: 0.0011\n"
     ]
    },
    {
     "data": {
      "text/plain": [
       "<keras.callbacks.callbacks.History at 0x7f21295b8cc0>"
      ]
     },
     "execution_count": 22,
     "metadata": {},
     "output_type": "execute_result"
    }
   ],
   "source": [
    "regressor.fit(X_train,y_train,epochs=100,batch_size=32)"
   ]
  },
  {
   "cell_type": "markdown",
   "metadata": {},
   "source": [
    "**Part3:Making Predictions and Making Visulization**"
   ]
  },
  {
   "cell_type": "markdown",
   "metadata": {},
   "source": [
    "Getting the real stock price of 2017"
   ]
  },
  {
   "cell_type": "code",
   "execution_count": 23,
   "metadata": {},
   "outputs": [
    {
     "data": {
      "text/html": [
       "<div>\n",
       "<style scoped>\n",
       "    .dataframe tbody tr th:only-of-type {\n",
       "        vertical-align: middle;\n",
       "    }\n",
       "\n",
       "    .dataframe tbody tr th {\n",
       "        vertical-align: top;\n",
       "    }\n",
       "\n",
       "    .dataframe thead th {\n",
       "        text-align: right;\n",
       "    }\n",
       "</style>\n",
       "<table border=\"1\" class=\"dataframe\">\n",
       "  <thead>\n",
       "    <tr style=\"text-align: right;\">\n",
       "      <th></th>\n",
       "      <th>Date</th>\n",
       "      <th>Open</th>\n",
       "      <th>High</th>\n",
       "      <th>Low</th>\n",
       "      <th>Close</th>\n",
       "      <th>Volume</th>\n",
       "    </tr>\n",
       "  </thead>\n",
       "  <tbody>\n",
       "    <tr>\n",
       "      <th>0</th>\n",
       "      <td>1/3/2017</td>\n",
       "      <td>778.81</td>\n",
       "      <td>789.63</td>\n",
       "      <td>775.80</td>\n",
       "      <td>786.14</td>\n",
       "      <td>1,657,300</td>\n",
       "    </tr>\n",
       "    <tr>\n",
       "      <th>1</th>\n",
       "      <td>1/4/2017</td>\n",
       "      <td>788.36</td>\n",
       "      <td>791.34</td>\n",
       "      <td>783.16</td>\n",
       "      <td>786.90</td>\n",
       "      <td>1,073,000</td>\n",
       "    </tr>\n",
       "    <tr>\n",
       "      <th>2</th>\n",
       "      <td>1/5/2017</td>\n",
       "      <td>786.08</td>\n",
       "      <td>794.48</td>\n",
       "      <td>785.02</td>\n",
       "      <td>794.02</td>\n",
       "      <td>1,335,200</td>\n",
       "    </tr>\n",
       "    <tr>\n",
       "      <th>3</th>\n",
       "      <td>1/6/2017</td>\n",
       "      <td>795.26</td>\n",
       "      <td>807.90</td>\n",
       "      <td>792.20</td>\n",
       "      <td>806.15</td>\n",
       "      <td>1,640,200</td>\n",
       "    </tr>\n",
       "    <tr>\n",
       "      <th>4</th>\n",
       "      <td>1/9/2017</td>\n",
       "      <td>806.40</td>\n",
       "      <td>809.97</td>\n",
       "      <td>802.83</td>\n",
       "      <td>806.65</td>\n",
       "      <td>1,272,400</td>\n",
       "    </tr>\n",
       "  </tbody>\n",
       "</table>\n",
       "</div>"
      ],
      "text/plain": [
       "       Date    Open    High     Low   Close     Volume\n",
       "0  1/3/2017  778.81  789.63  775.80  786.14  1,657,300\n",
       "1  1/4/2017  788.36  791.34  783.16  786.90  1,073,000\n",
       "2  1/5/2017  786.08  794.48  785.02  794.02  1,335,200\n",
       "3  1/6/2017  795.26  807.90  792.20  806.15  1,640,200\n",
       "4  1/9/2017  806.40  809.97  802.83  806.65  1,272,400"
      ]
     },
     "execution_count": 23,
     "metadata": {},
     "output_type": "execute_result"
    }
   ],
   "source": [
    "dataset_test=pd.read_csv('../input/google-test/Google_Stock_Price_Test.csv')\n",
    "dataset_test.head()"
   ]
  },
  {
   "cell_type": "code",
   "execution_count": 24,
   "metadata": {},
   "outputs": [],
   "source": [
    "real_stock_price=dataset_test.iloc[:,1:2].values"
   ]
  },
  {
   "cell_type": "code",
   "execution_count": 25,
   "metadata": {
    "_cell_guid": "",
    "_uuid": ""
   },
   "outputs": [],
   "source": [
    "dataset_total=pd.concat((dataset_train['Open'],dataset_test['Open']),axis=0)\n",
    "inputs=dataset_total[len(dataset_total)-len(dataset_test)-60:].values\n",
    "inputs=inputs.reshape(-1,1)\n",
    "inputs=sc.transform(inputs)"
   ]
  },
  {
   "cell_type": "code",
   "execution_count": 26,
   "metadata": {},
   "outputs": [],
   "source": [
    "X_test=[]\n",
    "for i in range(60,80):\n",
    "    X_test.append(inputs[i-60:i,0])\n",
    "X_test =np.array(X_test)"
   ]
  },
  {
   "cell_type": "code",
   "execution_count": 27,
   "metadata": {},
   "outputs": [],
   "source": [
    "X_test=np.reshape(X_test,(X_test.shape[0],X_test.shape[1],1))\n",
    "predicted_stock_price=regressor.predict(X_test)\n",
    "predicted_stock_price=sc.inverse_transform(predicted_stock_price)"
   ]
  },
  {
   "cell_type": "code",
   "execution_count": 28,
   "metadata": {},
   "outputs": [
    {
     "data": {
      "text/plain": [
       "(20, 1)"
      ]
     },
     "execution_count": 28,
     "metadata": {},
     "output_type": "execute_result"
    }
   ],
   "source": [
    "predicted_stock_price.shape"
   ]
  },
  {
   "cell_type": "code",
   "execution_count": 29,
   "metadata": {},
   "outputs": [
    {
     "data": {
      "text/plain": [
       "(20, 1)"
      ]
     },
     "execution_count": 29,
     "metadata": {},
     "output_type": "execute_result"
    }
   ],
   "source": [
    "real_stock_price.shape"
   ]
  },
  {
   "cell_type": "markdown",
   "metadata": {},
   "source": [
    "**Visualizing the results**"
   ]
  },
  {
   "cell_type": "code",
   "execution_count": 30,
   "metadata": {
    "_kg_hide-input": true
   },
   "outputs": [
    {
     "data": {
      "image/png": "[encoded data removed]",
      "text/plain": [
       "<Figure size 432x288 with 1 Axes>"
      ]
     },
     "metadata": {
      "needs_background": "light"
     },
     "output_type": "display_data"
    }
   ],
   "source": [
    "plt.plot(real_stock_price,color='red',label='Real Google Stock Price')\n",
    "plt.plot(predicted_stock_price,color='blue',label='Predicted Google Stock Price')\n",
    "plt.title('Google Stock Price Prediction')\n",
    "plt.xlabel('Time')\n",
    "plt.ylabel('Google Stock Price')\n",
    "plt.legend()\n",
    "plt.show()"
   ]
  },
  {
   "cell_type": "code",
   "execution_count": null,
   "metadata": {},
   "outputs": [],
   "source": []
  }
 ],
 "metadata": {
  "kernelspec": {
   "display_name": "Python 3",
   "language": "python",
   "name": "python3"
  },
  "language_info": {
   "codemirror_mode": {
    "name": "ipython",
    "version": 3
   },
   "file_extension": ".py",
   "mimetype": "text/x-python",
   "name": "python",
   "nbconvert_exporter": "python",
   "pygments_lexer": "ipython3",
   "version": "3.6.6"
  }
 },
 "nbformat": 4,
 "nbformat_minor": 1
}
