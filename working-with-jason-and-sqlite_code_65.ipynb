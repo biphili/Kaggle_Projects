{
 "cells": [
  {
   "cell_type": "markdown",
   "metadata": {
    "papermill": {
     "duration": 0.046582,
     "end_time": "2020-09-13T13:34:24.731462",
     "exception": false,
     "start_time": "2020-09-13T13:34:24.684880",
     "status": "completed"
    },
    "tags": []
   },
   "source": [
    "1. In this kernel we will be creating a database file from the json data.Also we will covers topics related to doing queries with SQLite.This kernel is work in process and if you like the kernel please do vote."
   ]
  },
  {
   "cell_type": "code",
   "execution_count": 1,
   "metadata": {
    "_cell_guid": "b1076dfc-b9ad-4769-8c92-a6c4dae69d19",
    "_kg_hide-input": true,
    "_uuid": "8f2839f25d086af736a60e9eeb907d3b93b6e0e5",
    "execution": {
     "iopub.execute_input": "2020-09-13T13:34:24.827469Z",
     "iopub.status.busy": "2020-09-13T13:34:24.826623Z",
     "iopub.status.idle": "2020-09-13T13:34:24.839419Z",
     "shell.execute_reply": "2020-09-13T13:34:24.838553Z"
    },
    "papermill": {
     "duration": 0.062128,
     "end_time": "2020-09-13T13:34:24.839600",
     "exception": false,
     "start_time": "2020-09-13T13:34:24.777472",
     "status": "completed"
    },
    "tags": []
   },
   "outputs": [
    {
     "name": "stdout",
     "output_type": "stream",
     "text": [
      "/kaggle/input/movies-sql/some_movies.json\n"
     ]
    }
   ],
   "source": [
    "# This Python 3 environment comes with many helpful analytics libraries installed\n",
    "# It is defined by the kaggle/python Docker image: https://github.com/kaggle/docker-python\n",
    "# For example, here's several helpful packages to load\n",
    "\n",
    "import numpy as np # linear algebra\n",
    "import pandas as pd # data processing, CSV file I/O (e.g. pd.read_csv)\n",
    "\n",
    "# Input data files are available in the read-only \"../input/\" directory\n",
    "# For example, running this (by clicking run or pressing Shift+Enter) will list all files under the input directory\n",
    "\n",
    "import os\n",
    "for dirname, _, filenames in os.walk('/kaggle/input'):\n",
    "    for filename in filenames:\n",
    "        print(os.path.join(dirname, filename))\n",
    "\n",
    "# You can write up to 5GB to the current directory (/kaggle/working/) that gets preserved as output when you create a version using \"Save & Run All\" \n",
    "# You can also write temporary files to /kaggle/temp/, but they won't be saved outside of the current session"
   ]
  },
  {
   "cell_type": "markdown",
   "metadata": {
    "papermill": {
     "duration": 0.041639,
     "end_time": "2020-09-13T13:34:24.925446",
     "exception": false,
     "start_time": "2020-09-13T13:34:24.883807",
     "status": "completed"
    },
    "tags": []
   },
   "source": [
    "# Creating an SQL Database(Movies Dataset)"
   ]
  },
  {
   "cell_type": "code",
   "execution_count": 2,
   "metadata": {
    "_cell_guid": "79c7e3d0-c299-4dcb-8224-4455121ee9b0",
    "_kg_hide-input": true,
    "_uuid": "d629ff2d2480ee46fbb7e2d37f6b5fab8052498a",
    "execution": {
     "iopub.execute_input": "2020-09-13T13:34:25.017218Z",
     "iopub.status.busy": "2020-09-13T13:34:25.016532Z",
     "iopub.status.idle": "2020-09-13T13:34:25.019559Z",
     "shell.execute_reply": "2020-09-13T13:34:25.018942Z"
    },
    "papermill": {
     "duration": 0.050993,
     "end_time": "2020-09-13T13:34:25.019694",
     "exception": false,
     "start_time": "2020-09-13T13:34:24.968701",
     "status": "completed"
    },
    "tags": []
   },
   "outputs": [],
   "source": [
    "import sqlite3 as sq3"
   ]
  },
  {
   "cell_type": "markdown",
   "metadata": {
    "papermill": {
     "duration": 0.043656,
     "end_time": "2020-09-13T13:34:25.106076",
     "exception": false,
     "start_time": "2020-09-13T13:34:25.062420",
     "status": "completed"
    },
    "tags": []
   },
   "source": [
    "### Creating a new Database and connection to the database"
   ]
  },
  {
   "cell_type": "code",
   "execution_count": 3,
   "metadata": {
    "execution": {
     "iopub.execute_input": "2020-09-13T13:34:25.197557Z",
     "iopub.status.busy": "2020-09-13T13:34:25.196789Z",
     "iopub.status.idle": "2020-09-13T13:34:25.200854Z",
     "shell.execute_reply": "2020-09-13T13:34:25.200258Z"
    },
    "papermill": {
     "duration": 0.051893,
     "end_time": "2020-09-13T13:34:25.201015",
     "exception": false,
     "start_time": "2020-09-13T13:34:25.149122",
     "status": "completed"
    },
    "tags": []
   },
   "outputs": [],
   "source": [
    "con = sq3.connect(\"movies.db\")"
   ]
  },
  {
   "cell_type": "code",
   "execution_count": 4,
   "metadata": {
    "execution": {
     "iopub.execute_input": "2020-09-13T13:34:25.295800Z",
     "iopub.status.busy": "2020-09-13T13:34:25.295041Z",
     "iopub.status.idle": "2020-09-13T13:34:25.299109Z",
     "shell.execute_reply": "2020-09-13T13:34:25.298454Z"
    },
    "papermill": {
     "duration": 0.054833,
     "end_time": "2020-09-13T13:34:25.299240",
     "exception": false,
     "start_time": "2020-09-13T13:34:25.244407",
     "status": "completed"
    },
    "tags": []
   },
   "outputs": [
    {
     "data": {
      "text/plain": [
       "<sqlite3.Connection at 0x7fd387055c70>"
      ]
     },
     "execution_count": 4,
     "metadata": {},
     "output_type": "execute_result"
    }
   ],
   "source": [
    "con"
   ]
  },
  {
   "cell_type": "code",
   "execution_count": 5,
   "metadata": {
    "_kg_hide-input": true,
    "execution": {
     "iopub.execute_input": "2020-09-13T13:34:25.391358Z",
     "iopub.status.busy": "2020-09-13T13:34:25.390437Z",
     "iopub.status.idle": "2020-09-13T13:34:25.396700Z",
     "shell.execute_reply": "2020-09-13T13:34:25.396028Z"
    },
    "papermill": {
     "duration": 0.054495,
     "end_time": "2020-09-13T13:34:25.396840",
     "exception": false,
     "start_time": "2020-09-13T13:34:25.342345",
     "status": "completed"
    },
    "tags": []
   },
   "outputs": [
    {
     "data": {
      "text/plain": [
       "[]"
      ]
     },
     "execution_count": 5,
     "metadata": {},
     "output_type": "execute_result"
    }
   ],
   "source": [
    "# Checking tables in the newly created database movies\n",
    "con.execute(\"Select * FROM sqlite_master\").fetchall()"
   ]
  },
  {
   "cell_type": "markdown",
   "metadata": {
    "papermill": {
     "duration": 0.043415,
     "end_time": "2020-09-13T13:34:25.484689",
     "exception": false,
     "start_time": "2020-09-13T13:34:25.441274",
     "status": "completed"
    },
    "tags": []
   },
   "source": [
    "As expected there are no tables in out database."
   ]
  },
  {
   "cell_type": "code",
   "execution_count": 6,
   "metadata": {
    "execution": {
     "iopub.execute_input": "2020-09-13T13:34:25.586124Z",
     "iopub.status.busy": "2020-09-13T13:34:25.585122Z",
     "iopub.status.idle": "2020-09-13T13:34:25.590210Z",
     "shell.execute_reply": "2020-09-13T13:34:25.589612Z"
    },
    "papermill": {
     "duration": 0.061763,
     "end_time": "2020-09-13T13:34:25.590343",
     "exception": false,
     "start_time": "2020-09-13T13:34:25.528580",
     "status": "completed"
    },
    "tags": []
   },
   "outputs": [
    {
     "data": {
      "text/plain": [
       "[]"
      ]
     },
     "execution_count": 6,
     "metadata": {},
     "output_type": "execute_result"
    }
   ],
   "source": [
    "# Getting List of Table names \n",
    "con.execute(\"SELECT name FROM sqlite_master WHERE type='table' ORDER BY name\").fetchall()"
   ]
  },
  {
   "cell_type": "markdown",
   "metadata": {
    "papermill": {
     "duration": 0.044771,
     "end_time": "2020-09-13T13:34:25.680503",
     "exception": false,
     "start_time": "2020-09-13T13:34:25.635732",
     "status": "completed"
    },
    "tags": []
   },
   "source": [
    "As we dont have any tables in database we didnt get the names of the tables."
   ]
  },
  {
   "cell_type": "code",
   "execution_count": 7,
   "metadata": {
    "execution": {
     "iopub.execute_input": "2020-09-13T13:34:25.774531Z",
     "iopub.status.busy": "2020-09-13T13:34:25.773645Z",
     "iopub.status.idle": "2020-09-13T13:34:25.776731Z",
     "shell.execute_reply": "2020-09-13T13:34:25.776171Z"
    },
    "papermill": {
     "duration": 0.05255,
     "end_time": "2020-09-13T13:34:25.776846",
     "exception": false,
     "start_time": "2020-09-13T13:34:25.724296",
     "status": "completed"
    },
    "tags": []
   },
   "outputs": [],
   "source": [
    "# Closing connection\n",
    "con.close()"
   ]
  },
  {
   "cell_type": "markdown",
   "metadata": {
    "papermill": {
     "duration": 0.043385,
     "end_time": "2020-09-13T13:34:25.864092",
     "exception": false,
     "start_time": "2020-09-13T13:34:25.820707",
     "status": "completed"
    },
    "tags": []
   },
   "source": [
    "# Loading Data from DataFrames into an SQLite Database"
   ]
  },
  {
   "cell_type": "code",
   "execution_count": 8,
   "metadata": {
    "_kg_hide-input": true,
    "execution": {
     "iopub.execute_input": "2020-09-13T13:34:25.954795Z",
     "iopub.status.busy": "2020-09-13T13:34:25.954150Z",
     "iopub.status.idle": "2020-09-13T13:34:25.957849Z",
     "shell.execute_reply": "2020-09-13T13:34:25.958425Z"
    },
    "papermill": {
     "duration": 0.050522,
     "end_time": "2020-09-13T13:34:25.958615",
     "exception": false,
     "start_time": "2020-09-13T13:34:25.908093",
     "status": "completed"
    },
    "tags": []
   },
   "outputs": [],
   "source": [
    "import pandas as pd\n",
    "import json\n",
    "import sqlite3 as sq3"
   ]
  },
  {
   "cell_type": "code",
   "execution_count": 9,
   "metadata": {
    "_kg_hide-input": true,
    "execution": {
     "iopub.execute_input": "2020-09-13T13:34:26.050699Z",
     "iopub.status.busy": "2020-09-13T13:34:26.050053Z",
     "iopub.status.idle": "2020-09-13T13:34:26.060778Z",
     "shell.execute_reply": "2020-09-13T13:34:26.061339Z"
    },
    "papermill": {
     "duration": 0.059166,
     "end_time": "2020-09-13T13:34:26.061492",
     "exception": false,
     "start_time": "2020-09-13T13:34:26.002326",
     "status": "completed"
    },
    "tags": []
   },
   "outputs": [],
   "source": [
    "with open(\"../input/movies-sql/some_movies.json\") as f:\n",
    "    data = json.load(f)"
   ]
  },
  {
   "cell_type": "code",
   "execution_count": 10,
   "metadata": {
    "execution": {
     "iopub.execute_input": "2020-09-13T13:34:26.152504Z",
     "iopub.status.busy": "2020-09-13T13:34:26.151872Z",
     "iopub.status.idle": "2020-09-13T13:34:26.156353Z",
     "shell.execute_reply": "2020-09-13T13:34:26.155784Z"
    },
    "papermill": {
     "duration": 0.051082,
     "end_time": "2020-09-13T13:34:26.156469",
     "exception": false,
     "start_time": "2020-09-13T13:34:26.105387",
     "status": "completed"
    },
    "tags": []
   },
   "outputs": [],
   "source": [
    "#data.head(1)"
   ]
  },
  {
   "cell_type": "code",
   "execution_count": 11,
   "metadata": {
    "_kg_hide-input": true,
    "execution": {
     "iopub.execute_input": "2020-09-13T13:34:26.253759Z",
     "iopub.status.busy": "2020-09-13T13:34:26.252982Z",
     "iopub.status.idle": "2020-09-13T13:34:26.311503Z",
     "shell.execute_reply": "2020-09-13T13:34:26.310438Z"
    },
    "papermill": {
     "duration": 0.111007,
     "end_time": "2020-09-13T13:34:26.311627",
     "exception": false,
     "start_time": "2020-09-13T13:34:26.200620",
     "status": "completed"
    },
    "tags": []
   },
   "outputs": [
    {
     "data": {
      "text/html": [
       "<div>\n",
       "<style scoped>\n",
       "    .dataframe tbody tr th:only-of-type {\n",
       "        vertical-align: middle;\n",
       "    }\n",
       "\n",
       "    .dataframe tbody tr th {\n",
       "        vertical-align: top;\n",
       "    }\n",
       "\n",
       "    .dataframe thead th {\n",
       "        text-align: right;\n",
       "    }\n",
       "</style>\n",
       "<table border=\"1\" class=\"dataframe\">\n",
       "  <thead>\n",
       "    <tr style=\"text-align: right;\">\n",
       "      <th></th>\n",
       "      <th>adult</th>\n",
       "      <th>backdrop_path</th>\n",
       "      <th>budget</th>\n",
       "      <th>genres</th>\n",
       "      <th>homepage</th>\n",
       "      <th>id</th>\n",
       "      <th>imdb_id</th>\n",
       "      <th>original_language</th>\n",
       "      <th>original_title</th>\n",
       "      <th>overview</th>\n",
       "      <th>...</th>\n",
       "      <th>tagline</th>\n",
       "      <th>title</th>\n",
       "      <th>video</th>\n",
       "      <th>vote_average</th>\n",
       "      <th>vote_count</th>\n",
       "      <th>belongs_to_collection_id</th>\n",
       "      <th>belongs_to_collection_name</th>\n",
       "      <th>belongs_to_collection_poster_path</th>\n",
       "      <th>belongs_to_collection_backdrop_path</th>\n",
       "      <th>belongs_to_collection</th>\n",
       "    </tr>\n",
       "  </thead>\n",
       "  <tbody>\n",
       "    <tr>\n",
       "      <th>0</th>\n",
       "      <td>False</td>\n",
       "      <td>/orjiB3oUIsyz60hoEqkiGpy5CeO.jpg</td>\n",
       "      <td>356000000</td>\n",
       "      <td>[{'id': 12, 'name': 'Adventure'}, {'id': 878, ...</td>\n",
       "      <td>https://www.marvel.com/movies/avengers-endgame</td>\n",
       "      <td>299534</td>\n",
       "      <td>tt4154796</td>\n",
       "      <td>en</td>\n",
       "      <td>Avengers: Endgame</td>\n",
       "      <td>After the devastating events of Avengers: Infi...</td>\n",
       "      <td>...</td>\n",
       "      <td>Part of the journey is the end.</td>\n",
       "      <td>Avengers: Endgame</td>\n",
       "      <td>False</td>\n",
       "      <td>8.3</td>\n",
       "      <td>12607</td>\n",
       "      <td>86311.0</td>\n",
       "      <td>The Avengers Collection</td>\n",
       "      <td>/yFSIUVTCvgYrpalUktulvk3Gi5Y.jpg</td>\n",
       "      <td>/zuW6fOiusv4X9nnW3paHGfXcSll.jpg</td>\n",
       "      <td>NaN</td>\n",
       "    </tr>\n",
       "    <tr>\n",
       "      <th>1</th>\n",
       "      <td>False</td>\n",
       "      <td>/wcC7kCICL6x6zHUlUyNp9pWoqW1.jpg</td>\n",
       "      <td>237000000</td>\n",
       "      <td>[{'id': 28, 'name': 'Action'}, {'id': 12, 'nam...</td>\n",
       "      <td>http://www.avatarmovie.com/</td>\n",
       "      <td>19995</td>\n",
       "      <td>tt0499549</td>\n",
       "      <td>en</td>\n",
       "      <td>Avatar</td>\n",
       "      <td>In the 22nd century, a paraplegic Marine is di...</td>\n",
       "      <td>...</td>\n",
       "      <td>Enter the World of Pandora.</td>\n",
       "      <td>Avatar</td>\n",
       "      <td>False</td>\n",
       "      <td>7.4</td>\n",
       "      <td>21000</td>\n",
       "      <td>87096.0</td>\n",
       "      <td>Avatar Collection</td>\n",
       "      <td>/nslJVsO58Etqkk17oXMuVK4gNOF.jpg</td>\n",
       "      <td>/8nCr9W7sKus2q9PLbYsnT7iCkuT.jpg</td>\n",
       "      <td>NaN</td>\n",
       "    </tr>\n",
       "    <tr>\n",
       "      <th>2</th>\n",
       "      <td>False</td>\n",
       "      <td>/8BTsTfln4jlQrLXUBquXJ0ASQy9.jpg</td>\n",
       "      <td>245000000</td>\n",
       "      <td>[{'id': 28, 'name': 'Action'}, {'id': 12, 'nam...</td>\n",
       "      <td>http://www.starwars.com/films/star-wars-episod...</td>\n",
       "      <td>140607</td>\n",
       "      <td>tt2488496</td>\n",
       "      <td>en</td>\n",
       "      <td>Star Wars: The Force Awakens</td>\n",
       "      <td>Thirty years after defeating the Galactic Empi...</td>\n",
       "      <td>...</td>\n",
       "      <td>Every generation has a story.</td>\n",
       "      <td>Star Wars: The Force Awakens</td>\n",
       "      <td>False</td>\n",
       "      <td>7.4</td>\n",
       "      <td>14205</td>\n",
       "      <td>10.0</td>\n",
       "      <td>Star Wars Collection</td>\n",
       "      <td>/r8Ph5MYXL04Qzu4QBbq2KjqwtkQ.jpg</td>\n",
       "      <td>/d8duYyyC9J5T825Hg7grmaabfxQ.jpg</td>\n",
       "      <td>NaN</td>\n",
       "    </tr>\n",
       "    <tr>\n",
       "      <th>3</th>\n",
       "      <td>False</td>\n",
       "      <td>/lmZFxXgJE3vgrciwuDib0N8CfQo.jpg</td>\n",
       "      <td>300000000</td>\n",
       "      <td>[{'id': 12, 'name': 'Adventure'}, {'id': 28, '...</td>\n",
       "      <td>https://www.marvel.com/movies/avengers-infinit...</td>\n",
       "      <td>299536</td>\n",
       "      <td>tt4154756</td>\n",
       "      <td>en</td>\n",
       "      <td>Avengers: Infinity War</td>\n",
       "      <td>As the Avengers and their allies have continue...</td>\n",
       "      <td>...</td>\n",
       "      <td>An entire universe. Once and for all.</td>\n",
       "      <td>Avengers: Infinity War</td>\n",
       "      <td>False</td>\n",
       "      <td>8.3</td>\n",
       "      <td>17718</td>\n",
       "      <td>86311.0</td>\n",
       "      <td>The Avengers Collection</td>\n",
       "      <td>/yFSIUVTCvgYrpalUktulvk3Gi5Y.jpg</td>\n",
       "      <td>/zuW6fOiusv4X9nnW3paHGfXcSll.jpg</td>\n",
       "      <td>NaN</td>\n",
       "    </tr>\n",
       "    <tr>\n",
       "      <th>4</th>\n",
       "      <td>False</td>\n",
       "      <td>/6VmFqApQRyZZzmiGOQq2C92jyvH.jpg</td>\n",
       "      <td>200000000</td>\n",
       "      <td>[{'id': 18, 'name': 'Drama'}, {'id': 10749, 'n...</td>\n",
       "      <td></td>\n",
       "      <td>597</td>\n",
       "      <td>tt0120338</td>\n",
       "      <td>en</td>\n",
       "      <td>Titanic</td>\n",
       "      <td>101-year-old Rose DeWitt Bukater tells the sto...</td>\n",
       "      <td>...</td>\n",
       "      <td>Nothing on Earth could come between them.</td>\n",
       "      <td>Titanic</td>\n",
       "      <td>False</td>\n",
       "      <td>7.8</td>\n",
       "      <td>16661</td>\n",
       "      <td>NaN</td>\n",
       "      <td>NaN</td>\n",
       "      <td>NaN</td>\n",
       "      <td>NaN</td>\n",
       "      <td>NaN</td>\n",
       "    </tr>\n",
       "  </tbody>\n",
       "</table>\n",
       "<p>5 rows × 29 columns</p>\n",
       "</div>"
      ],
      "text/plain": [
       "   adult                     backdrop_path     budget  \\\n",
       "0  False  /orjiB3oUIsyz60hoEqkiGpy5CeO.jpg  356000000   \n",
       "1  False  /wcC7kCICL6x6zHUlUyNp9pWoqW1.jpg  237000000   \n",
       "2  False  /8BTsTfln4jlQrLXUBquXJ0ASQy9.jpg  245000000   \n",
       "3  False  /lmZFxXgJE3vgrciwuDib0N8CfQo.jpg  300000000   \n",
       "4  False  /6VmFqApQRyZZzmiGOQq2C92jyvH.jpg  200000000   \n",
       "\n",
       "                                              genres  \\\n",
       "0  [{'id': 12, 'name': 'Adventure'}, {'id': 878, ...   \n",
       "1  [{'id': 28, 'name': 'Action'}, {'id': 12, 'nam...   \n",
       "2  [{'id': 28, 'name': 'Action'}, {'id': 12, 'nam...   \n",
       "3  [{'id': 12, 'name': 'Adventure'}, {'id': 28, '...   \n",
       "4  [{'id': 18, 'name': 'Drama'}, {'id': 10749, 'n...   \n",
       "\n",
       "                                            homepage      id    imdb_id  \\\n",
       "0     https://www.marvel.com/movies/avengers-endgame  299534  tt4154796   \n",
       "1                        http://www.avatarmovie.com/   19995  tt0499549   \n",
       "2  http://www.starwars.com/films/star-wars-episod...  140607  tt2488496   \n",
       "3  https://www.marvel.com/movies/avengers-infinit...  299536  tt4154756   \n",
       "4                                                        597  tt0120338   \n",
       "\n",
       "  original_language                original_title  \\\n",
       "0                en             Avengers: Endgame   \n",
       "1                en                        Avatar   \n",
       "2                en  Star Wars: The Force Awakens   \n",
       "3                en        Avengers: Infinity War   \n",
       "4                en                       Titanic   \n",
       "\n",
       "                                            overview  ...  \\\n",
       "0  After the devastating events of Avengers: Infi...  ...   \n",
       "1  In the 22nd century, a paraplegic Marine is di...  ...   \n",
       "2  Thirty years after defeating the Galactic Empi...  ...   \n",
       "3  As the Avengers and their allies have continue...  ...   \n",
       "4  101-year-old Rose DeWitt Bukater tells the sto...  ...   \n",
       "\n",
       "                                     tagline                         title  \\\n",
       "0            Part of the journey is the end.             Avengers: Endgame   \n",
       "1                Enter the World of Pandora.                        Avatar   \n",
       "2              Every generation has a story.  Star Wars: The Force Awakens   \n",
       "3      An entire universe. Once and for all.        Avengers: Infinity War   \n",
       "4  Nothing on Earth could come between them.                       Titanic   \n",
       "\n",
       "   video vote_average vote_count  belongs_to_collection_id  \\\n",
       "0  False          8.3      12607                   86311.0   \n",
       "1  False          7.4      21000                   87096.0   \n",
       "2  False          7.4      14205                      10.0   \n",
       "3  False          8.3      17718                   86311.0   \n",
       "4  False          7.8      16661                       NaN   \n",
       "\n",
       "   belongs_to_collection_name belongs_to_collection_poster_path  \\\n",
       "0     The Avengers Collection  /yFSIUVTCvgYrpalUktulvk3Gi5Y.jpg   \n",
       "1           Avatar Collection  /nslJVsO58Etqkk17oXMuVK4gNOF.jpg   \n",
       "2        Star Wars Collection  /r8Ph5MYXL04Qzu4QBbq2KjqwtkQ.jpg   \n",
       "3     The Avengers Collection  /yFSIUVTCvgYrpalUktulvk3Gi5Y.jpg   \n",
       "4                         NaN                               NaN   \n",
       "\n",
       "  belongs_to_collection_backdrop_path belongs_to_collection  \n",
       "0    /zuW6fOiusv4X9nnW3paHGfXcSll.jpg                   NaN  \n",
       "1    /8nCr9W7sKus2q9PLbYsnT7iCkuT.jpg                   NaN  \n",
       "2    /d8duYyyC9J5T825Hg7grmaabfxQ.jpg                   NaN  \n",
       "3    /zuW6fOiusv4X9nnW3paHGfXcSll.jpg                   NaN  \n",
       "4                                 NaN                   NaN  \n",
       "\n",
       "[5 rows x 29 columns]"
      ]
     },
     "execution_count": 11,
     "metadata": {},
     "output_type": "execute_result"
    }
   ],
   "source": [
    "# Conveting the json file to pandas dataframe\n",
    "df = pd.json_normalize(data,sep = \"_\")\n",
    "df.head()"
   ]
  },
  {
   "cell_type": "markdown",
   "metadata": {
    "papermill": {
     "duration": 0.044874,
     "end_time": "2020-09-13T13:34:26.401533",
     "exception": false,
     "start_time": "2020-09-13T13:34:26.356659",
     "status": "completed"
    },
    "tags": []
   },
   "source": [
    "### Creating a dataframe movies,votes,generes and prod with important features"
   ]
  },
  {
   "cell_type": "code",
   "execution_count": 12,
   "metadata": {
    "_kg_hide-input": true,
    "execution": {
     "iopub.execute_input": "2020-09-13T13:34:26.501667Z",
     "iopub.status.busy": "2020-09-13T13:34:26.500843Z",
     "iopub.status.idle": "2020-09-13T13:34:26.503776Z",
     "shell.execute_reply": "2020-09-13T13:34:26.503172Z"
    },
    "papermill": {
     "duration": 0.057515,
     "end_time": "2020-09-13T13:34:26.503885",
     "exception": false,
     "start_time": "2020-09-13T13:34:26.446370",
     "status": "completed"
    },
    "tags": []
   },
   "outputs": [],
   "source": [
    "# Creating a dataframe movies with important features\n",
    "movies = df[[\"id\",\"title\",\"budget\",\"revenue\",\"belongs_to_collection_name\",\"release_date\"]].copy()"
   ]
  },
  {
   "cell_type": "code",
   "execution_count": 13,
   "metadata": {
    "execution": {
     "iopub.execute_input": "2020-09-13T13:34:26.598116Z",
     "iopub.status.busy": "2020-09-13T13:34:26.597464Z",
     "iopub.status.idle": "2020-09-13T13:34:26.615393Z",
     "shell.execute_reply": "2020-09-13T13:34:26.614444Z"
    },
    "papermill": {
     "duration": 0.06621,
     "end_time": "2020-09-13T13:34:26.615547",
     "exception": false,
     "start_time": "2020-09-13T13:34:26.549337",
     "status": "completed"
    },
    "tags": []
   },
   "outputs": [
    {
     "name": "stdout",
     "output_type": "stream",
     "text": [
      "<class 'pandas.core.frame.DataFrame'>\n",
      "RangeIndex: 18 entries, 0 to 17\n",
      "Data columns (total 6 columns):\n",
      " #   Column                      Non-Null Count  Dtype \n",
      "---  ------                      --------------  ----- \n",
      " 0   id                          18 non-null     int64 \n",
      " 1   title                       18 non-null     object\n",
      " 2   budget                      18 non-null     int64 \n",
      " 3   revenue                     18 non-null     int64 \n",
      " 4   belongs_to_collection_name  15 non-null     object\n",
      " 5   release_date                18 non-null     object\n",
      "dtypes: int64(3), object(3)\n",
      "memory usage: 992.0+ bytes\n"
     ]
    }
   ],
   "source": [
    "movies.info()"
   ]
  },
  {
   "cell_type": "markdown",
   "metadata": {
    "papermill": {
     "duration": 0.045647,
     "end_time": "2020-09-13T13:34:26.712264",
     "exception": false,
     "start_time": "2020-09-13T13:34:26.666617",
     "status": "completed"
    },
    "tags": []
   },
   "source": [
    "Here the release data should be converted from Object to Datatime type. We will also convert the revenue and budget in terms of millions of usa dollar."
   ]
  },
  {
   "cell_type": "code",
   "execution_count": 14,
   "metadata": {
    "_kg_hide-input": true,
    "execution": {
     "iopub.execute_input": "2020-09-13T13:34:26.810397Z",
     "iopub.status.busy": "2020-09-13T13:34:26.809710Z",
     "iopub.status.idle": "2020-09-13T13:34:26.816149Z",
     "shell.execute_reply": "2020-09-13T13:34:26.816624Z"
    },
    "papermill": {
     "duration": 0.057402,
     "end_time": "2020-09-13T13:34:26.816787",
     "exception": false,
     "start_time": "2020-09-13T13:34:26.759385",
     "status": "completed"
    },
    "tags": []
   },
   "outputs": [],
   "source": [
    "movies.release_date = pd.to_datetime(df.release_date)"
   ]
  },
  {
   "cell_type": "code",
   "execution_count": 15,
   "metadata": {
    "_kg_hide-input": true,
    "execution": {
     "iopub.execute_input": "2020-09-13T13:34:26.912261Z",
     "iopub.status.busy": "2020-09-13T13:34:26.911572Z",
     "iopub.status.idle": "2020-09-13T13:34:26.948420Z",
     "shell.execute_reply": "2020-09-13T13:34:26.948976Z"
    },
    "papermill": {
     "duration": 0.08632,
     "end_time": "2020-09-13T13:34:26.949150",
     "exception": false,
     "start_time": "2020-09-13T13:34:26.862830",
     "status": "completed"
    },
    "tags": []
   },
   "outputs": [
    {
     "data": {
      "text/html": [
       "<div>\n",
       "<style scoped>\n",
       "    .dataframe tbody tr th:only-of-type {\n",
       "        vertical-align: middle;\n",
       "    }\n",
       "\n",
       "    .dataframe tbody tr th {\n",
       "        vertical-align: top;\n",
       "    }\n",
       "\n",
       "    .dataframe thead th {\n",
       "        text-align: right;\n",
       "    }\n",
       "</style>\n",
       "<table border=\"1\" class=\"dataframe\">\n",
       "  <thead>\n",
       "    <tr style=\"text-align: right;\">\n",
       "      <th></th>\n",
       "      <th>id</th>\n",
       "      <th>title</th>\n",
       "      <th>budget</th>\n",
       "      <th>revenue</th>\n",
       "      <th>belongs_to_collection_name</th>\n",
       "      <th>release_date</th>\n",
       "    </tr>\n",
       "  </thead>\n",
       "  <tbody>\n",
       "    <tr>\n",
       "      <th>0</th>\n",
       "      <td>299534</td>\n",
       "      <td>Avengers: Endgame</td>\n",
       "      <td>356.0</td>\n",
       "      <td>2797.800564</td>\n",
       "      <td>The Avengers Collection</td>\n",
       "      <td>2019-04-24</td>\n",
       "    </tr>\n",
       "    <tr>\n",
       "      <th>1</th>\n",
       "      <td>19995</td>\n",
       "      <td>Avatar</td>\n",
       "      <td>237.0</td>\n",
       "      <td>2787.965087</td>\n",
       "      <td>Avatar Collection</td>\n",
       "      <td>2009-12-10</td>\n",
       "    </tr>\n",
       "    <tr>\n",
       "      <th>2</th>\n",
       "      <td>140607</td>\n",
       "      <td>Star Wars: The Force Awakens</td>\n",
       "      <td>245.0</td>\n",
       "      <td>2068.223624</td>\n",
       "      <td>Star Wars Collection</td>\n",
       "      <td>2015-12-15</td>\n",
       "    </tr>\n",
       "    <tr>\n",
       "      <th>3</th>\n",
       "      <td>299536</td>\n",
       "      <td>Avengers: Infinity War</td>\n",
       "      <td>300.0</td>\n",
       "      <td>2046.239637</td>\n",
       "      <td>The Avengers Collection</td>\n",
       "      <td>2018-04-25</td>\n",
       "    </tr>\n",
       "    <tr>\n",
       "      <th>4</th>\n",
       "      <td>597</td>\n",
       "      <td>Titanic</td>\n",
       "      <td>200.0</td>\n",
       "      <td>1845.034188</td>\n",
       "      <td>NaN</td>\n",
       "      <td>1997-11-18</td>\n",
       "    </tr>\n",
       "  </tbody>\n",
       "</table>\n",
       "</div>"
      ],
      "text/plain": [
       "       id                         title  budget      revenue  \\\n",
       "0  299534             Avengers: Endgame   356.0  2797.800564   \n",
       "1   19995                        Avatar   237.0  2787.965087   \n",
       "2  140607  Star Wars: The Force Awakens   245.0  2068.223624   \n",
       "3  299536        Avengers: Infinity War   300.0  2046.239637   \n",
       "4     597                       Titanic   200.0  1845.034188   \n",
       "\n",
       "  belongs_to_collection_name release_date  \n",
       "0    The Avengers Collection   2019-04-24  \n",
       "1          Avatar Collection   2009-12-10  \n",
       "2       Star Wars Collection   2015-12-15  \n",
       "3    The Avengers Collection   2018-04-25  \n",
       "4                        NaN   1997-11-18  "
      ]
     },
     "execution_count": 15,
     "metadata": {},
     "output_type": "execute_result"
    }
   ],
   "source": [
    "movies.revenue = df.revenue/1000000\n",
    "movies.budget = df.budget/1000000\n",
    "movies.head()"
   ]
  },
  {
   "cell_type": "code",
   "execution_count": 16,
   "metadata": {
    "_kg_hide-input": true,
    "execution": {
     "iopub.execute_input": "2020-09-13T13:34:27.047102Z",
     "iopub.status.busy": "2020-09-13T13:34:27.046087Z",
     "iopub.status.idle": "2020-09-13T13:34:27.057475Z",
     "shell.execute_reply": "2020-09-13T13:34:27.058015Z"
    },
    "papermill": {
     "duration": 0.062642,
     "end_time": "2020-09-13T13:34:27.058170",
     "exception": false,
     "start_time": "2020-09-13T13:34:26.995528",
     "status": "completed"
    },
    "tags": []
   },
   "outputs": [
    {
     "data": {
      "text/html": [
       "<div>\n",
       "<style scoped>\n",
       "    .dataframe tbody tr th:only-of-type {\n",
       "        vertical-align: middle;\n",
       "    }\n",
       "\n",
       "    .dataframe tbody tr th {\n",
       "        vertical-align: top;\n",
       "    }\n",
       "\n",
       "    .dataframe thead th {\n",
       "        text-align: right;\n",
       "    }\n",
       "</style>\n",
       "<table border=\"1\" class=\"dataframe\">\n",
       "  <thead>\n",
       "    <tr style=\"text-align: right;\">\n",
       "      <th></th>\n",
       "      <th>id</th>\n",
       "      <th>vote_count</th>\n",
       "      <th>vote_average</th>\n",
       "    </tr>\n",
       "  </thead>\n",
       "  <tbody>\n",
       "    <tr>\n",
       "      <th>0</th>\n",
       "      <td>299534</td>\n",
       "      <td>12607</td>\n",
       "      <td>8.3</td>\n",
       "    </tr>\n",
       "    <tr>\n",
       "      <th>1</th>\n",
       "      <td>19995</td>\n",
       "      <td>21000</td>\n",
       "      <td>7.4</td>\n",
       "    </tr>\n",
       "    <tr>\n",
       "      <th>2</th>\n",
       "      <td>140607</td>\n",
       "      <td>14205</td>\n",
       "      <td>7.4</td>\n",
       "    </tr>\n",
       "    <tr>\n",
       "      <th>3</th>\n",
       "      <td>299536</td>\n",
       "      <td>17718</td>\n",
       "      <td>8.3</td>\n",
       "    </tr>\n",
       "    <tr>\n",
       "      <th>4</th>\n",
       "      <td>597</td>\n",
       "      <td>16661</td>\n",
       "      <td>7.8</td>\n",
       "    </tr>\n",
       "  </tbody>\n",
       "</table>\n",
       "</div>"
      ],
      "text/plain": [
       "       id  vote_count  vote_average\n",
       "0  299534       12607           8.3\n",
       "1   19995       21000           7.4\n",
       "2  140607       14205           7.4\n",
       "3  299536       17718           8.3\n",
       "4     597       16661           7.8"
      ]
     },
     "execution_count": 16,
     "metadata": {},
     "output_type": "execute_result"
    }
   ],
   "source": [
    "votes = df[['id','vote_count','vote_average']].copy()\n",
    "votes.head()"
   ]
  },
  {
   "cell_type": "code",
   "execution_count": 17,
   "metadata": {
    "execution": {
     "iopub.execute_input": "2020-09-13T13:34:27.163400Z",
     "iopub.status.busy": "2020-09-13T13:34:27.162416Z",
     "iopub.status.idle": "2020-09-13T13:34:27.172779Z",
     "shell.execute_reply": "2020-09-13T13:34:27.172159Z"
    },
    "papermill": {
     "duration": 0.067121,
     "end_time": "2020-09-13T13:34:27.172892",
     "exception": false,
     "start_time": "2020-09-13T13:34:27.105771",
     "status": "completed"
    },
    "tags": []
   },
   "outputs": [
    {
     "data": {
      "text/html": [
       "<div>\n",
       "<style scoped>\n",
       "    .dataframe tbody tr th:only-of-type {\n",
       "        vertical-align: middle;\n",
       "    }\n",
       "\n",
       "    .dataframe tbody tr th {\n",
       "        vertical-align: top;\n",
       "    }\n",
       "\n",
       "    .dataframe thead th {\n",
       "        text-align: right;\n",
       "    }\n",
       "</style>\n",
       "<table border=\"1\" class=\"dataframe\">\n",
       "  <thead>\n",
       "    <tr style=\"text-align: right;\">\n",
       "      <th></th>\n",
       "      <th>genre_id</th>\n",
       "      <th>genre_name</th>\n",
       "      <th>id</th>\n",
       "    </tr>\n",
       "  </thead>\n",
       "  <tbody>\n",
       "    <tr>\n",
       "      <th>0</th>\n",
       "      <td>12</td>\n",
       "      <td>Adventure</td>\n",
       "      <td>299534</td>\n",
       "    </tr>\n",
       "    <tr>\n",
       "      <th>1</th>\n",
       "      <td>878</td>\n",
       "      <td>Science Fiction</td>\n",
       "      <td>299534</td>\n",
       "    </tr>\n",
       "    <tr>\n",
       "      <th>2</th>\n",
       "      <td>28</td>\n",
       "      <td>Action</td>\n",
       "      <td>299534</td>\n",
       "    </tr>\n",
       "    <tr>\n",
       "      <th>3</th>\n",
       "      <td>28</td>\n",
       "      <td>Action</td>\n",
       "      <td>19995</td>\n",
       "    </tr>\n",
       "    <tr>\n",
       "      <th>4</th>\n",
       "      <td>12</td>\n",
       "      <td>Adventure</td>\n",
       "      <td>19995</td>\n",
       "    </tr>\n",
       "  </tbody>\n",
       "</table>\n",
       "</div>"
      ],
      "text/plain": [
       "   genre_id       genre_name      id\n",
       "0        12        Adventure  299534\n",
       "1       878  Science Fiction  299534\n",
       "2        28           Action  299534\n",
       "3        28           Action   19995\n",
       "4        12        Adventure   19995"
      ]
     },
     "execution_count": 17,
     "metadata": {},
     "output_type": "execute_result"
    }
   ],
   "source": [
    "genres = pd.json_normalize(data=data,record_path='genres',meta='id',record_prefix='genre_')\n",
    "genres.head()"
   ]
  },
  {
   "cell_type": "code",
   "execution_count": 18,
   "metadata": {
    "execution": {
     "iopub.execute_input": "2020-09-13T13:34:27.285645Z",
     "iopub.status.busy": "2020-09-13T13:34:27.284959Z",
     "iopub.status.idle": "2020-09-13T13:34:27.288121Z",
     "shell.execute_reply": "2020-09-13T13:34:27.288616Z"
    },
    "papermill": {
     "duration": 0.067558,
     "end_time": "2020-09-13T13:34:27.288759",
     "exception": false,
     "start_time": "2020-09-13T13:34:27.221201",
     "status": "completed"
    },
    "tags": []
   },
   "outputs": [
    {
     "data": {
      "text/html": [
       "<div>\n",
       "<style scoped>\n",
       "    .dataframe tbody tr th:only-of-type {\n",
       "        vertical-align: middle;\n",
       "    }\n",
       "\n",
       "    .dataframe tbody tr th {\n",
       "        vertical-align: top;\n",
       "    }\n",
       "\n",
       "    .dataframe thead th {\n",
       "        text-align: right;\n",
       "    }\n",
       "</style>\n",
       "<table border=\"1\" class=\"dataframe\">\n",
       "  <thead>\n",
       "    <tr style=\"text-align: right;\">\n",
       "      <th></th>\n",
       "      <th>prod_id</th>\n",
       "      <th>prod_logo_path</th>\n",
       "      <th>prod_name</th>\n",
       "      <th>prod_origin_country</th>\n",
       "      <th>id</th>\n",
       "    </tr>\n",
       "  </thead>\n",
       "  <tbody>\n",
       "    <tr>\n",
       "      <th>0</th>\n",
       "      <td>420</td>\n",
       "      <td>/hUzeosd33nzE5MCNsZxCGEKTXaQ.png</td>\n",
       "      <td>Marvel Studios</td>\n",
       "      <td>US</td>\n",
       "      <td>299534</td>\n",
       "    </tr>\n",
       "    <tr>\n",
       "      <th>1</th>\n",
       "      <td>444</td>\n",
       "      <td>/42UPdZl6B2cFXgNUASR8hSt9mpS.png</td>\n",
       "      <td>Dune Entertainment</td>\n",
       "      <td>US</td>\n",
       "      <td>19995</td>\n",
       "    </tr>\n",
       "    <tr>\n",
       "      <th>2</th>\n",
       "      <td>574</td>\n",
       "      <td>/iB6GjNVHs5hOqcEYt2rcjBqIjki.png</td>\n",
       "      <td>Lightstorm Entertainment</td>\n",
       "      <td>US</td>\n",
       "      <td>19995</td>\n",
       "    </tr>\n",
       "    <tr>\n",
       "      <th>3</th>\n",
       "      <td>25</td>\n",
       "      <td>/qZCc1lty5FzX30aOCVRBLzaVmcp.png</td>\n",
       "      <td>20th Century Fox</td>\n",
       "      <td>US</td>\n",
       "      <td>19995</td>\n",
       "    </tr>\n",
       "    <tr>\n",
       "      <th>4</th>\n",
       "      <td>290</td>\n",
       "      <td>/Q8mw2AOQQc8Qg0uNwLWq86DVZv.png</td>\n",
       "      <td>Ingenious Media</td>\n",
       "      <td>GB</td>\n",
       "      <td>19995</td>\n",
       "    </tr>\n",
       "  </tbody>\n",
       "</table>\n",
       "</div>"
      ],
      "text/plain": [
       "   prod_id                    prod_logo_path                 prod_name  \\\n",
       "0      420  /hUzeosd33nzE5MCNsZxCGEKTXaQ.png            Marvel Studios   \n",
       "1      444  /42UPdZl6B2cFXgNUASR8hSt9mpS.png        Dune Entertainment   \n",
       "2      574  /iB6GjNVHs5hOqcEYt2rcjBqIjki.png  Lightstorm Entertainment   \n",
       "3       25  /qZCc1lty5FzX30aOCVRBLzaVmcp.png          20th Century Fox   \n",
       "4      290   /Q8mw2AOQQc8Qg0uNwLWq86DVZv.png           Ingenious Media   \n",
       "\n",
       "  prod_origin_country      id  \n",
       "0                  US  299534  \n",
       "1                  US   19995  \n",
       "2                  US   19995  \n",
       "3                  US   19995  \n",
       "4                  GB   19995  "
      ]
     },
     "execution_count": 18,
     "metadata": {},
     "output_type": "execute_result"
    }
   ],
   "source": [
    "prod = pd.json_normalize(data=data,record_path='production_companies',meta='id',record_prefix='prod_')\n",
    "prod.head()"
   ]
  },
  {
   "cell_type": "code",
   "execution_count": 19,
   "metadata": {
    "_kg_hide-input": true,
    "execution": {
     "iopub.execute_input": "2020-09-13T13:34:27.390328Z",
     "iopub.status.busy": "2020-09-13T13:34:27.389684Z",
     "iopub.status.idle": "2020-09-13T13:34:27.393815Z",
     "shell.execute_reply": "2020-09-13T13:34:27.394338Z"
    },
    "papermill": {
     "duration": 0.056489,
     "end_time": "2020-09-13T13:34:27.394484",
     "exception": false,
     "start_time": "2020-09-13T13:34:27.337995",
     "status": "completed"
    },
    "tags": []
   },
   "outputs": [],
   "source": [
    "# Connecting to data base\n",
    "con = sq3.connect(\"movies.db\")"
   ]
  },
  {
   "cell_type": "code",
   "execution_count": 20,
   "metadata": {
    "_kg_hide-input": true,
    "execution": {
     "iopub.execute_input": "2020-09-13T13:34:27.496239Z",
     "iopub.status.busy": "2020-09-13T13:34:27.495540Z",
     "iopub.status.idle": "2020-09-13T13:34:27.503741Z",
     "shell.execute_reply": "2020-09-13T13:34:27.504237Z"
    },
    "papermill": {
     "duration": 0.06108,
     "end_time": "2020-09-13T13:34:27.504426",
     "exception": false,
     "start_time": "2020-09-13T13:34:27.443346",
     "status": "completed"
    },
    "tags": []
   },
   "outputs": [
    {
     "data": {
      "text/plain": [
       "<sqlite3.Connection at 0x7fd386719810>"
      ]
     },
     "execution_count": 20,
     "metadata": {},
     "output_type": "execute_result"
    }
   ],
   "source": [
    "con"
   ]
  },
  {
   "cell_type": "markdown",
   "metadata": {
    "papermill": {
     "duration": 0.049884,
     "end_time": "2020-09-13T13:34:27.604724",
     "exception": false,
     "start_time": "2020-09-13T13:34:27.554840",
     "status": "completed"
    },
    "tags": []
   },
   "source": [
    "### Creating Tables"
   ]
  },
  {
   "cell_type": "code",
   "execution_count": 21,
   "metadata": {
    "_kg_hide-input": true,
    "execution": {
     "iopub.execute_input": "2020-09-13T13:34:27.712652Z",
     "iopub.status.busy": "2020-09-13T13:34:27.711955Z",
     "iopub.status.idle": "2020-09-13T13:34:27.761319Z",
     "shell.execute_reply": "2020-09-13T13:34:27.760699Z"
    },
    "papermill": {
     "duration": 0.105384,
     "end_time": "2020-09-13T13:34:27.761459",
     "exception": false,
     "start_time": "2020-09-13T13:34:27.656075",
     "status": "completed"
    },
    "tags": []
   },
   "outputs": [],
   "source": [
    "movies.to_sql(\"Movies\",con,index=False)"
   ]
  },
  {
   "cell_type": "code",
   "execution_count": 22,
   "metadata": {
    "execution": {
     "iopub.execute_input": "2020-09-13T13:34:27.878316Z",
     "iopub.status.busy": "2020-09-13T13:34:27.877592Z",
     "iopub.status.idle": "2020-09-13T13:34:27.913205Z",
     "shell.execute_reply": "2020-09-13T13:34:27.914368Z"
    },
    "papermill": {
     "duration": 0.101376,
     "end_time": "2020-09-13T13:34:27.914622",
     "exception": false,
     "start_time": "2020-09-13T13:34:27.813246",
     "status": "completed"
    },
    "tags": []
   },
   "outputs": [],
   "source": [
    "votes.to_sql(\"Votes\",con,index=False)"
   ]
  },
  {
   "cell_type": "code",
   "execution_count": 23,
   "metadata": {
    "execution": {
     "iopub.execute_input": "2020-09-13T13:34:28.045443Z",
     "iopub.status.busy": "2020-09-13T13:34:28.044768Z",
     "iopub.status.idle": "2020-09-13T13:34:28.077597Z",
     "shell.execute_reply": "2020-09-13T13:34:28.078157Z"
    },
    "papermill": {
     "duration": 0.086663,
     "end_time": "2020-09-13T13:34:28.078321",
     "exception": false,
     "start_time": "2020-09-13T13:34:27.991658",
     "status": "completed"
    },
    "tags": []
   },
   "outputs": [],
   "source": [
    "genres.to_sql(\"Genres\",con,index=False)"
   ]
  },
  {
   "cell_type": "code",
   "execution_count": 24,
   "metadata": {
    "execution": {
     "iopub.execute_input": "2020-09-13T13:34:28.181521Z",
     "iopub.status.busy": "2020-09-13T13:34:28.180503Z",
     "iopub.status.idle": "2020-09-13T13:34:28.215231Z",
     "shell.execute_reply": "2020-09-13T13:34:28.214487Z"
    },
    "papermill": {
     "duration": 0.087369,
     "end_time": "2020-09-13T13:34:28.215352",
     "exception": false,
     "start_time": "2020-09-13T13:34:28.127983",
     "status": "completed"
    },
    "tags": []
   },
   "outputs": [],
   "source": [
    "prod.to_sql(\"Prod\",con,index=False)"
   ]
  },
  {
   "cell_type": "code",
   "execution_count": 25,
   "metadata": {
    "execution": {
     "iopub.execute_input": "2020-09-13T13:34:28.319888Z",
     "iopub.status.busy": "2020-09-13T13:34:28.319275Z",
     "iopub.status.idle": "2020-09-13T13:34:28.325132Z",
     "shell.execute_reply": "2020-09-13T13:34:28.325594Z"
    },
    "papermill": {
     "duration": 0.060539,
     "end_time": "2020-09-13T13:34:28.325741",
     "exception": false,
     "start_time": "2020-09-13T13:34:28.265202",
     "status": "completed"
    },
    "tags": []
   },
   "outputs": [
    {
     "data": {
      "text/plain": [
       "[('table',\n",
       "  'Movies',\n",
       "  'Movies',\n",
       "  2,\n",
       "  'CREATE TABLE \"Movies\" (\\n\"id\" INTEGER,\\n  \"title\" TEXT,\\n  \"budget\" REAL,\\n  \"revenue\" REAL,\\n  \"belongs_to_collection_name\" TEXT,\\n  \"release_date\" TIMESTAMP\\n)'),\n",
       " ('table',\n",
       "  'Votes',\n",
       "  'Votes',\n",
       "  3,\n",
       "  'CREATE TABLE \"Votes\" (\\n\"id\" INTEGER,\\n  \"vote_count\" INTEGER,\\n  \"vote_average\" REAL\\n)'),\n",
       " ('table',\n",
       "  'Genres',\n",
       "  'Genres',\n",
       "  4,\n",
       "  'CREATE TABLE \"Genres\" (\\n\"genre_id\" INTEGER,\\n  \"genre_name\" TEXT,\\n  \"id\" INTEGER\\n)'),\n",
       " ('table',\n",
       "  'Prod',\n",
       "  'Prod',\n",
       "  5,\n",
       "  'CREATE TABLE \"Prod\" (\\n\"prod_id\" INTEGER,\\n  \"prod_logo_path\" TEXT,\\n  \"prod_name\" TEXT,\\n  \"prod_origin_country\" TEXT,\\n  \"id\" INTEGER\\n)')]"
      ]
     },
     "execution_count": 25,
     "metadata": {},
     "output_type": "execute_result"
    }
   ],
   "source": [
    "# Getting the table details \n",
    "con.execute(\"Select * FROM sqlite_master\").fetchall()"
   ]
  },
  {
   "cell_type": "code",
   "execution_count": 26,
   "metadata": {
    "_kg_hide-input": true,
    "execution": {
     "iopub.execute_input": "2020-09-13T13:34:28.431608Z",
     "iopub.status.busy": "2020-09-13T13:34:28.430950Z",
     "iopub.status.idle": "2020-09-13T13:34:28.438752Z",
     "shell.execute_reply": "2020-09-13T13:34:28.438221Z"
    },
    "papermill": {
     "duration": 0.062016,
     "end_time": "2020-09-13T13:34:28.438872",
     "exception": false,
     "start_time": "2020-09-13T13:34:28.376856",
     "status": "completed"
    },
    "tags": []
   },
   "outputs": [
    {
     "data": {
      "text/plain": [
       "[('Genres',), ('Movies',), ('Prod',), ('Votes',)]"
      ]
     },
     "execution_count": 26,
     "metadata": {},
     "output_type": "execute_result"
    }
   ],
   "source": [
    "# Getting the table names\n",
    "con.execute(\"SELECT name FROM sqlite_master WHERE type='table' ORDER BY name\").fetchall()"
   ]
  },
  {
   "cell_type": "code",
   "execution_count": 27,
   "metadata": {
    "execution": {
     "iopub.execute_input": "2020-09-13T13:34:28.546612Z",
     "iopub.status.busy": "2020-09-13T13:34:28.545722Z",
     "iopub.status.idle": "2020-09-13T13:34:28.550266Z",
     "shell.execute_reply": "2020-09-13T13:34:28.549714Z"
    },
    "papermill": {
     "duration": 0.06061,
     "end_time": "2020-09-13T13:34:28.550389",
     "exception": false,
     "start_time": "2020-09-13T13:34:28.489779",
     "status": "completed"
    },
    "tags": []
   },
   "outputs": [],
   "source": [
    "con.close()"
   ]
  },
  {
   "cell_type": "markdown",
   "metadata": {
    "papermill": {
     "duration": 0.053005,
     "end_time": "2020-09-13T13:34:28.655329",
     "exception": false,
     "start_time": "2020-09-13T13:34:28.602324",
     "status": "completed"
    },
    "tags": []
   },
   "source": [
    "# Loading Data from SQLite Database into DataFrames"
   ]
  },
  {
   "cell_type": "code",
   "execution_count": 28,
   "metadata": {
    "_kg_hide-input": true,
    "execution": {
     "iopub.execute_input": "2020-09-13T13:34:28.764697Z",
     "iopub.status.busy": "2020-09-13T13:34:28.764060Z",
     "iopub.status.idle": "2020-09-13T13:34:28.766079Z",
     "shell.execute_reply": "2020-09-13T13:34:28.766550Z"
    },
    "papermill": {
     "duration": 0.058635,
     "end_time": "2020-09-13T13:34:28.766701",
     "exception": false,
     "start_time": "2020-09-13T13:34:28.708066",
     "status": "completed"
    },
    "tags": []
   },
   "outputs": [],
   "source": [
    "import pandas as pd\n",
    "import sqlite3 as sq3"
   ]
  },
  {
   "cell_type": "code",
   "execution_count": 29,
   "metadata": {
    "execution": {
     "iopub.execute_input": "2020-09-13T13:34:28.922761Z",
     "iopub.status.busy": "2020-09-13T13:34:28.922140Z",
     "iopub.status.idle": "2020-09-13T13:34:28.927303Z",
     "shell.execute_reply": "2020-09-13T13:34:28.926520Z"
    },
    "papermill": {
     "duration": 0.059681,
     "end_time": "2020-09-13T13:34:28.927435",
     "exception": false,
     "start_time": "2020-09-13T13:34:28.867754",
     "status": "completed"
    },
    "tags": []
   },
   "outputs": [],
   "source": [
    "con = sq3.connect(\"movies.db\")"
   ]
  },
  {
   "cell_type": "code",
   "execution_count": 30,
   "metadata": {
    "execution": {
     "iopub.execute_input": "2020-09-13T13:34:29.035779Z",
     "iopub.status.busy": "2020-09-13T13:34:29.035069Z",
     "iopub.status.idle": "2020-09-13T13:34:29.039118Z",
     "shell.execute_reply": "2020-09-13T13:34:29.038435Z"
    },
    "papermill": {
     "duration": 0.060594,
     "end_time": "2020-09-13T13:34:29.039241",
     "exception": false,
     "start_time": "2020-09-13T13:34:28.978647",
     "status": "completed"
    },
    "tags": []
   },
   "outputs": [],
   "source": [
    "#con.execute(\"Select * FROM sqlite_master\").fetchall()"
   ]
  },
  {
   "cell_type": "code",
   "execution_count": 31,
   "metadata": {
    "execution": {
     "iopub.execute_input": "2020-09-13T13:34:29.160289Z",
     "iopub.status.busy": "2020-09-13T13:34:29.146568Z",
     "iopub.status.idle": "2020-09-13T13:34:29.164603Z",
     "shell.execute_reply": "2020-09-13T13:34:29.164058Z"
    },
    "papermill": {
     "duration": 0.073682,
     "end_time": "2020-09-13T13:34:29.164724",
     "exception": false,
     "start_time": "2020-09-13T13:34:29.091042",
     "status": "completed"
    },
    "tags": []
   },
   "outputs": [
    {
     "data": {
      "text/html": [
       "<div>\n",
       "<style scoped>\n",
       "    .dataframe tbody tr th:only-of-type {\n",
       "        vertical-align: middle;\n",
       "    }\n",
       "\n",
       "    .dataframe tbody tr th {\n",
       "        vertical-align: top;\n",
       "    }\n",
       "\n",
       "    .dataframe thead th {\n",
       "        text-align: right;\n",
       "    }\n",
       "</style>\n",
       "<table border=\"1\" class=\"dataframe\">\n",
       "  <thead>\n",
       "    <tr style=\"text-align: right;\">\n",
       "      <th></th>\n",
       "      <th>id</th>\n",
       "      <th>title</th>\n",
       "      <th>budget</th>\n",
       "      <th>revenue</th>\n",
       "      <th>belongs_to_collection_name</th>\n",
       "      <th>release_date</th>\n",
       "    </tr>\n",
       "  </thead>\n",
       "  <tbody>\n",
       "    <tr>\n",
       "      <th>0</th>\n",
       "      <td>299534</td>\n",
       "      <td>Avengers: Endgame</td>\n",
       "      <td>356.0</td>\n",
       "      <td>2797.800564</td>\n",
       "      <td>The Avengers Collection</td>\n",
       "      <td>2019-04-24 00:00:00</td>\n",
       "    </tr>\n",
       "    <tr>\n",
       "      <th>1</th>\n",
       "      <td>19995</td>\n",
       "      <td>Avatar</td>\n",
       "      <td>237.0</td>\n",
       "      <td>2787.965087</td>\n",
       "      <td>Avatar Collection</td>\n",
       "      <td>2009-12-10 00:00:00</td>\n",
       "    </tr>\n",
       "    <tr>\n",
       "      <th>2</th>\n",
       "      <td>140607</td>\n",
       "      <td>Star Wars: The Force Awakens</td>\n",
       "      <td>245.0</td>\n",
       "      <td>2068.223624</td>\n",
       "      <td>Star Wars Collection</td>\n",
       "      <td>2015-12-15 00:00:00</td>\n",
       "    </tr>\n",
       "    <tr>\n",
       "      <th>3</th>\n",
       "      <td>299536</td>\n",
       "      <td>Avengers: Infinity War</td>\n",
       "      <td>300.0</td>\n",
       "      <td>2046.239637</td>\n",
       "      <td>The Avengers Collection</td>\n",
       "      <td>2018-04-25 00:00:00</td>\n",
       "    </tr>\n",
       "    <tr>\n",
       "      <th>4</th>\n",
       "      <td>597</td>\n",
       "      <td>Titanic</td>\n",
       "      <td>200.0</td>\n",
       "      <td>1845.034188</td>\n",
       "      <td>None</td>\n",
       "      <td>1997-11-18 00:00:00</td>\n",
       "    </tr>\n",
       "    <tr>\n",
       "      <th>5</th>\n",
       "      <td>135397</td>\n",
       "      <td>Jurassic World</td>\n",
       "      <td>150.0</td>\n",
       "      <td>1671.713208</td>\n",
       "      <td>Jurassic Park Collection</td>\n",
       "      <td>2015-06-06 00:00:00</td>\n",
       "    </tr>\n",
       "    <tr>\n",
       "      <th>6</th>\n",
       "      <td>420818</td>\n",
       "      <td>The Lion King</td>\n",
       "      <td>260.0</td>\n",
       "      <td>1656.943394</td>\n",
       "      <td>None</td>\n",
       "      <td>2019-07-12 00:00:00</td>\n",
       "    </tr>\n",
       "    <tr>\n",
       "      <th>7</th>\n",
       "      <td>24428</td>\n",
       "      <td>The Avengers</td>\n",
       "      <td>220.0</td>\n",
       "      <td>1519.557910</td>\n",
       "      <td>The Avengers Collection</td>\n",
       "      <td>2012-04-25 00:00:00</td>\n",
       "    </tr>\n",
       "    <tr>\n",
       "      <th>8</th>\n",
       "      <td>168259</td>\n",
       "      <td>Furious 7</td>\n",
       "      <td>190.0</td>\n",
       "      <td>1515.047671</td>\n",
       "      <td>The Fast and the Furious Collection</td>\n",
       "      <td>2015-04-01 00:00:00</td>\n",
       "    </tr>\n",
       "    <tr>\n",
       "      <th>9</th>\n",
       "      <td>99861</td>\n",
       "      <td>Avengers: Age of Ultron</td>\n",
       "      <td>250.0</td>\n",
       "      <td>1405.403694</td>\n",
       "      <td>The Avengers Collection</td>\n",
       "      <td>2015-04-22 00:00:00</td>\n",
       "    </tr>\n",
       "    <tr>\n",
       "      <th>10</th>\n",
       "      <td>284054</td>\n",
       "      <td>Black Panther</td>\n",
       "      <td>200.0</td>\n",
       "      <td>1346.739107</td>\n",
       "      <td>Black Panther Collection</td>\n",
       "      <td>2018-02-13 00:00:00</td>\n",
       "    </tr>\n",
       "    <tr>\n",
       "      <th>11</th>\n",
       "      <td>12445</td>\n",
       "      <td>Harry Potter and the Deathly Hallows: Part 2</td>\n",
       "      <td>125.0</td>\n",
       "      <td>1341.511219</td>\n",
       "      <td>Harry Potter Collection</td>\n",
       "      <td>2011-07-07 00:00:00</td>\n",
       "    </tr>\n",
       "    <tr>\n",
       "      <th>12</th>\n",
       "      <td>181808</td>\n",
       "      <td>Star Wars: The Last Jedi</td>\n",
       "      <td>200.0</td>\n",
       "      <td>1332.539889</td>\n",
       "      <td>Star Wars Collection</td>\n",
       "      <td>2017-12-13 00:00:00</td>\n",
       "    </tr>\n",
       "    <tr>\n",
       "      <th>13</th>\n",
       "      <td>330457</td>\n",
       "      <td>Frozen II</td>\n",
       "      <td>150.0</td>\n",
       "      <td>1330.764959</td>\n",
       "      <td>Frozen Collection</td>\n",
       "      <td>2019-11-20 00:00:00</td>\n",
       "    </tr>\n",
       "    <tr>\n",
       "      <th>14</th>\n",
       "      <td>351286</td>\n",
       "      <td>Jurassic World: Fallen Kingdom</td>\n",
       "      <td>170.0</td>\n",
       "      <td>1303.459585</td>\n",
       "      <td>Jurassic Park Collection</td>\n",
       "      <td>2018-06-06 00:00:00</td>\n",
       "    </tr>\n",
       "    <tr>\n",
       "      <th>15</th>\n",
       "      <td>109445</td>\n",
       "      <td>Frozen</td>\n",
       "      <td>150.0</td>\n",
       "      <td>1274.219009</td>\n",
       "      <td>Frozen Collection</td>\n",
       "      <td>2013-11-27 00:00:00</td>\n",
       "    </tr>\n",
       "    <tr>\n",
       "      <th>16</th>\n",
       "      <td>321612</td>\n",
       "      <td>Beauty and the Beast</td>\n",
       "      <td>160.0</td>\n",
       "      <td>1263.521126</td>\n",
       "      <td>None</td>\n",
       "      <td>2017-03-16 00:00:00</td>\n",
       "    </tr>\n",
       "    <tr>\n",
       "      <th>17</th>\n",
       "      <td>260513</td>\n",
       "      <td>Incredibles 2</td>\n",
       "      <td>200.0</td>\n",
       "      <td>1241.891456</td>\n",
       "      <td>The Incredibles Collection</td>\n",
       "      <td>2018-06-14 00:00:00</td>\n",
       "    </tr>\n",
       "  </tbody>\n",
       "</table>\n",
       "</div>"
      ],
      "text/plain": [
       "        id                                         title  budget      revenue  \\\n",
       "0   299534                             Avengers: Endgame   356.0  2797.800564   \n",
       "1    19995                                        Avatar   237.0  2787.965087   \n",
       "2   140607                  Star Wars: The Force Awakens   245.0  2068.223624   \n",
       "3   299536                        Avengers: Infinity War   300.0  2046.239637   \n",
       "4      597                                       Titanic   200.0  1845.034188   \n",
       "5   135397                                Jurassic World   150.0  1671.713208   \n",
       "6   420818                                 The Lion King   260.0  1656.943394   \n",
       "7    24428                                  The Avengers   220.0  1519.557910   \n",
       "8   168259                                     Furious 7   190.0  1515.047671   \n",
       "9    99861                       Avengers: Age of Ultron   250.0  1405.403694   \n",
       "10  284054                                 Black Panther   200.0  1346.739107   \n",
       "11   12445  Harry Potter and the Deathly Hallows: Part 2   125.0  1341.511219   \n",
       "12  181808                      Star Wars: The Last Jedi   200.0  1332.539889   \n",
       "13  330457                                     Frozen II   150.0  1330.764959   \n",
       "14  351286                Jurassic World: Fallen Kingdom   170.0  1303.459585   \n",
       "15  109445                                        Frozen   150.0  1274.219009   \n",
       "16  321612                          Beauty and the Beast   160.0  1263.521126   \n",
       "17  260513                                 Incredibles 2   200.0  1241.891456   \n",
       "\n",
       "             belongs_to_collection_name         release_date  \n",
       "0               The Avengers Collection  2019-04-24 00:00:00  \n",
       "1                     Avatar Collection  2009-12-10 00:00:00  \n",
       "2                  Star Wars Collection  2015-12-15 00:00:00  \n",
       "3               The Avengers Collection  2018-04-25 00:00:00  \n",
       "4                                  None  1997-11-18 00:00:00  \n",
       "5              Jurassic Park Collection  2015-06-06 00:00:00  \n",
       "6                                  None  2019-07-12 00:00:00  \n",
       "7               The Avengers Collection  2012-04-25 00:00:00  \n",
       "8   The Fast and the Furious Collection  2015-04-01 00:00:00  \n",
       "9               The Avengers Collection  2015-04-22 00:00:00  \n",
       "10             Black Panther Collection  2018-02-13 00:00:00  \n",
       "11              Harry Potter Collection  2011-07-07 00:00:00  \n",
       "12                 Star Wars Collection  2017-12-13 00:00:00  \n",
       "13                    Frozen Collection  2019-11-20 00:00:00  \n",
       "14             Jurassic Park Collection  2018-06-06 00:00:00  \n",
       "15                    Frozen Collection  2013-11-27 00:00:00  \n",
       "16                                 None  2017-03-16 00:00:00  \n",
       "17           The Incredibles Collection  2018-06-14 00:00:00  "
      ]
     },
     "execution_count": 31,
     "metadata": {},
     "output_type": "execute_result"
    }
   ],
   "source": [
    "# Getting table info\n",
    "pd.read_sql(\"SELECT * FROM Movies\",con)"
   ]
  },
  {
   "cell_type": "markdown",
   "metadata": {
    "papermill": {
     "duration": 0.052207,
     "end_time": "2020-09-13T13:34:29.270793",
     "exception": false,
     "start_time": "2020-09-13T13:34:29.218586",
     "status": "completed"
    },
    "tags": []
   },
   "source": [
    "### Converting table to Pandas data frame "
   ]
  },
  {
   "cell_type": "code",
   "execution_count": 32,
   "metadata": {
    "execution": {
     "iopub.execute_input": "2020-09-13T13:34:29.392603Z",
     "iopub.status.busy": "2020-09-13T13:34:29.380760Z",
     "iopub.status.idle": "2020-09-13T13:34:29.396631Z",
     "shell.execute_reply": "2020-09-13T13:34:29.397133Z"
    },
    "papermill": {
     "duration": 0.074003,
     "end_time": "2020-09-13T13:34:29.397290",
     "exception": false,
     "start_time": "2020-09-13T13:34:29.323287",
     "status": "completed"
    },
    "tags": []
   },
   "outputs": [
    {
     "data": {
      "text/html": [
       "<div>\n",
       "<style scoped>\n",
       "    .dataframe tbody tr th:only-of-type {\n",
       "        vertical-align: middle;\n",
       "    }\n",
       "\n",
       "    .dataframe tbody tr th {\n",
       "        vertical-align: top;\n",
       "    }\n",
       "\n",
       "    .dataframe thead th {\n",
       "        text-align: right;\n",
       "    }\n",
       "</style>\n",
       "<table border=\"1\" class=\"dataframe\">\n",
       "  <thead>\n",
       "    <tr style=\"text-align: right;\">\n",
       "      <th></th>\n",
       "      <th>title</th>\n",
       "      <th>budget</th>\n",
       "      <th>revenue</th>\n",
       "      <th>belongs_to_collection_name</th>\n",
       "      <th>release_date</th>\n",
       "    </tr>\n",
       "    <tr>\n",
       "      <th>id</th>\n",
       "      <th></th>\n",
       "      <th></th>\n",
       "      <th></th>\n",
       "      <th></th>\n",
       "      <th></th>\n",
       "    </tr>\n",
       "  </thead>\n",
       "  <tbody>\n",
       "    <tr>\n",
       "      <th>299534</th>\n",
       "      <td>Avengers: Endgame</td>\n",
       "      <td>356.0</td>\n",
       "      <td>2797.800564</td>\n",
       "      <td>The Avengers Collection</td>\n",
       "      <td>2019-04-24</td>\n",
       "    </tr>\n",
       "    <tr>\n",
       "      <th>19995</th>\n",
       "      <td>Avatar</td>\n",
       "      <td>237.0</td>\n",
       "      <td>2787.965087</td>\n",
       "      <td>Avatar Collection</td>\n",
       "      <td>2009-12-10</td>\n",
       "    </tr>\n",
       "    <tr>\n",
       "      <th>140607</th>\n",
       "      <td>Star Wars: The Force Awakens</td>\n",
       "      <td>245.0</td>\n",
       "      <td>2068.223624</td>\n",
       "      <td>Star Wars Collection</td>\n",
       "      <td>2015-12-15</td>\n",
       "    </tr>\n",
       "    <tr>\n",
       "      <th>299536</th>\n",
       "      <td>Avengers: Infinity War</td>\n",
       "      <td>300.0</td>\n",
       "      <td>2046.239637</td>\n",
       "      <td>The Avengers Collection</td>\n",
       "      <td>2018-04-25</td>\n",
       "    </tr>\n",
       "    <tr>\n",
       "      <th>597</th>\n",
       "      <td>Titanic</td>\n",
       "      <td>200.0</td>\n",
       "      <td>1845.034188</td>\n",
       "      <td>None</td>\n",
       "      <td>1997-11-18</td>\n",
       "    </tr>\n",
       "  </tbody>\n",
       "</table>\n",
       "</div>"
      ],
      "text/plain": [
       "                               title  budget      revenue  \\\n",
       "id                                                          \n",
       "299534             Avengers: Endgame   356.0  2797.800564   \n",
       "19995                         Avatar   237.0  2787.965087   \n",
       "140607  Star Wars: The Force Awakens   245.0  2068.223624   \n",
       "299536        Avengers: Infinity War   300.0  2046.239637   \n",
       "597                          Titanic   200.0  1845.034188   \n",
       "\n",
       "       belongs_to_collection_name release_date  \n",
       "id                                              \n",
       "299534    The Avengers Collection   2019-04-24  \n",
       "19995           Avatar Collection   2009-12-10  \n",
       "140607       Star Wars Collection   2015-12-15  \n",
       "299536    The Avengers Collection   2018-04-25  \n",
       "597                          None   1997-11-18  "
      ]
     },
     "execution_count": 32,
     "metadata": {},
     "output_type": "execute_result"
    }
   ],
   "source": [
    "df = pd.read_sql(\"SELECT * FROM Movies\",con,index_col='id',parse_dates='release_date')\n",
    "df.head()"
   ]
  },
  {
   "cell_type": "code",
   "execution_count": 33,
   "metadata": {
    "execution": {
     "iopub.execute_input": "2020-09-13T13:34:29.510093Z",
     "iopub.status.busy": "2020-09-13T13:34:29.509380Z",
     "iopub.status.idle": "2020-09-13T13:34:29.512861Z",
     "shell.execute_reply": "2020-09-13T13:34:29.512199Z"
    },
    "papermill": {
     "duration": 0.06231,
     "end_time": "2020-09-13T13:34:29.512992",
     "exception": false,
     "start_time": "2020-09-13T13:34:29.450682",
     "status": "completed"
    },
    "tags": []
   },
   "outputs": [],
   "source": [
    "#df.info()"
   ]
  },
  {
   "cell_type": "code",
   "execution_count": 34,
   "metadata": {
    "execution": {
     "iopub.execute_input": "2020-09-13T13:34:29.632054Z",
     "iopub.status.busy": "2020-09-13T13:34:29.624866Z",
     "iopub.status.idle": "2020-09-13T13:34:29.637762Z",
     "shell.execute_reply": "2020-09-13T13:34:29.637117Z"
    },
    "papermill": {
     "duration": 0.071546,
     "end_time": "2020-09-13T13:34:29.637920",
     "exception": false,
     "start_time": "2020-09-13T13:34:29.566374",
     "status": "completed"
    },
    "tags": []
   },
   "outputs": [
    {
     "data": {
      "text/html": [
       "<div>\n",
       "<style scoped>\n",
       "    .dataframe tbody tr th:only-of-type {\n",
       "        vertical-align: middle;\n",
       "    }\n",
       "\n",
       "    .dataframe tbody tr th {\n",
       "        vertical-align: top;\n",
       "    }\n",
       "\n",
       "    .dataframe thead th {\n",
       "        text-align: right;\n",
       "    }\n",
       "</style>\n",
       "<table border=\"1\" class=\"dataframe\">\n",
       "  <thead>\n",
       "    <tr style=\"text-align: right;\">\n",
       "      <th></th>\n",
       "      <th>genre_id</th>\n",
       "      <th>genre_name</th>\n",
       "    </tr>\n",
       "    <tr>\n",
       "      <th>id</th>\n",
       "      <th></th>\n",
       "      <th></th>\n",
       "    </tr>\n",
       "  </thead>\n",
       "  <tbody>\n",
       "    <tr>\n",
       "      <th>299534</th>\n",
       "      <td>12</td>\n",
       "      <td>Adventure</td>\n",
       "    </tr>\n",
       "    <tr>\n",
       "      <th>299534</th>\n",
       "      <td>878</td>\n",
       "      <td>Science Fiction</td>\n",
       "    </tr>\n",
       "    <tr>\n",
       "      <th>299534</th>\n",
       "      <td>28</td>\n",
       "      <td>Action</td>\n",
       "    </tr>\n",
       "    <tr>\n",
       "      <th>19995</th>\n",
       "      <td>28</td>\n",
       "      <td>Action</td>\n",
       "    </tr>\n",
       "    <tr>\n",
       "      <th>19995</th>\n",
       "      <td>12</td>\n",
       "      <td>Adventure</td>\n",
       "    </tr>\n",
       "  </tbody>\n",
       "</table>\n",
       "</div>"
      ],
      "text/plain": [
       "        genre_id       genre_name\n",
       "id                               \n",
       "299534        12        Adventure\n",
       "299534       878  Science Fiction\n",
       "299534        28           Action\n",
       "19995         28           Action\n",
       "19995         12        Adventure"
      ]
     },
     "execution_count": 34,
     "metadata": {},
     "output_type": "execute_result"
    }
   ],
   "source": [
    "genres = pd.read_sql(\"SELECT * FROM Genres\",con,index_col='id')\n",
    "genres.head()"
   ]
  },
  {
   "cell_type": "code",
   "execution_count": 35,
   "metadata": {
    "execution": {
     "iopub.execute_input": "2020-09-13T13:34:29.773656Z",
     "iopub.status.busy": "2020-09-13T13:34:29.773015Z",
     "iopub.status.idle": "2020-09-13T13:34:29.775845Z",
     "shell.execute_reply": "2020-09-13T13:34:29.775226Z"
    },
    "papermill": {
     "duration": 0.072278,
     "end_time": "2020-09-13T13:34:29.775978",
     "exception": false,
     "start_time": "2020-09-13T13:34:29.703700",
     "status": "completed"
    },
    "tags": []
   },
   "outputs": [],
   "source": [
    "con.close()"
   ]
  },
  {
   "cell_type": "markdown",
   "metadata": {
    "papermill": {
     "duration": 0.054183,
     "end_time": "2020-09-13T13:34:29.885178",
     "exception": false,
     "start_time": "2020-09-13T13:34:29.830995",
     "status": "completed"
    },
    "tags": []
   },
   "source": [
    "# Simple SQL Queries"
   ]
  },
  {
   "cell_type": "code",
   "execution_count": 36,
   "metadata": {
    "_kg_hide-input": true,
    "execution": {
     "iopub.execute_input": "2020-09-13T13:34:29.998346Z",
     "iopub.status.busy": "2020-09-13T13:34:29.997633Z",
     "iopub.status.idle": "2020-09-13T13:34:30.001202Z",
     "shell.execute_reply": "2020-09-13T13:34:30.000615Z"
    },
    "papermill": {
     "duration": 0.062246,
     "end_time": "2020-09-13T13:34:30.001323",
     "exception": false,
     "start_time": "2020-09-13T13:34:29.939077",
     "status": "completed"
    },
    "tags": []
   },
   "outputs": [],
   "source": [
    "import pandas as pd\n",
    "import sqlite3 as sq3"
   ]
  },
  {
   "cell_type": "code",
   "execution_count": 37,
   "metadata": {
    "_kg_hide-input": true,
    "execution": {
     "iopub.execute_input": "2020-09-13T13:34:30.114720Z",
     "iopub.status.busy": "2020-09-13T13:34:30.114076Z",
     "iopub.status.idle": "2020-09-13T13:34:30.117758Z",
     "shell.execute_reply": "2020-09-13T13:34:30.117100Z"
    },
    "papermill": {
     "duration": 0.062238,
     "end_time": "2020-09-13T13:34:30.117869",
     "exception": false,
     "start_time": "2020-09-13T13:34:30.055631",
     "status": "completed"
    },
    "tags": []
   },
   "outputs": [],
   "source": [
    "con = sq3.connect(\"movies.db\")"
   ]
  },
  {
   "cell_type": "code",
   "execution_count": 38,
   "metadata": {
    "_kg_hide-input": true,
    "execution": {
     "iopub.execute_input": "2020-09-13T13:34:30.233225Z",
     "iopub.status.busy": "2020-09-13T13:34:30.232535Z",
     "iopub.status.idle": "2020-09-13T13:34:30.251890Z",
     "shell.execute_reply": "2020-09-13T13:34:30.251317Z"
    },
    "papermill": {
     "duration": 0.078598,
     "end_time": "2020-09-13T13:34:30.252035",
     "exception": false,
     "start_time": "2020-09-13T13:34:30.173437",
     "status": "completed"
    },
    "tags": []
   },
   "outputs": [
    {
     "data": {
      "text/html": [
       "<div>\n",
       "<style scoped>\n",
       "    .dataframe tbody tr th:only-of-type {\n",
       "        vertical-align: middle;\n",
       "    }\n",
       "\n",
       "    .dataframe tbody tr th {\n",
       "        vertical-align: top;\n",
       "    }\n",
       "\n",
       "    .dataframe thead th {\n",
       "        text-align: right;\n",
       "    }\n",
       "</style>\n",
       "<table border=\"1\" class=\"dataframe\">\n",
       "  <thead>\n",
       "    <tr style=\"text-align: right;\">\n",
       "      <th></th>\n",
       "      <th>id</th>\n",
       "      <th>title</th>\n",
       "      <th>budget</th>\n",
       "      <th>revenue</th>\n",
       "      <th>belongs_to_collection_name</th>\n",
       "      <th>release_date</th>\n",
       "    </tr>\n",
       "  </thead>\n",
       "  <tbody>\n",
       "    <tr>\n",
       "      <th>0</th>\n",
       "      <td>299534</td>\n",
       "      <td>Avengers: Endgame</td>\n",
       "      <td>356.0</td>\n",
       "      <td>2797.800564</td>\n",
       "      <td>The Avengers Collection</td>\n",
       "      <td>2019-04-24 00:00:00</td>\n",
       "    </tr>\n",
       "    <tr>\n",
       "      <th>1</th>\n",
       "      <td>19995</td>\n",
       "      <td>Avatar</td>\n",
       "      <td>237.0</td>\n",
       "      <td>2787.965087</td>\n",
       "      <td>Avatar Collection</td>\n",
       "      <td>2009-12-10 00:00:00</td>\n",
       "    </tr>\n",
       "    <tr>\n",
       "      <th>2</th>\n",
       "      <td>140607</td>\n",
       "      <td>Star Wars: The Force Awakens</td>\n",
       "      <td>245.0</td>\n",
       "      <td>2068.223624</td>\n",
       "      <td>Star Wars Collection</td>\n",
       "      <td>2015-12-15 00:00:00</td>\n",
       "    </tr>\n",
       "    <tr>\n",
       "      <th>3</th>\n",
       "      <td>299536</td>\n",
       "      <td>Avengers: Infinity War</td>\n",
       "      <td>300.0</td>\n",
       "      <td>2046.239637</td>\n",
       "      <td>The Avengers Collection</td>\n",
       "      <td>2018-04-25 00:00:00</td>\n",
       "    </tr>\n",
       "    <tr>\n",
       "      <th>4</th>\n",
       "      <td>597</td>\n",
       "      <td>Titanic</td>\n",
       "      <td>200.0</td>\n",
       "      <td>1845.034188</td>\n",
       "      <td>None</td>\n",
       "      <td>1997-11-18 00:00:00</td>\n",
       "    </tr>\n",
       "    <tr>\n",
       "      <th>5</th>\n",
       "      <td>135397</td>\n",
       "      <td>Jurassic World</td>\n",
       "      <td>150.0</td>\n",
       "      <td>1671.713208</td>\n",
       "      <td>Jurassic Park Collection</td>\n",
       "      <td>2015-06-06 00:00:00</td>\n",
       "    </tr>\n",
       "    <tr>\n",
       "      <th>6</th>\n",
       "      <td>420818</td>\n",
       "      <td>The Lion King</td>\n",
       "      <td>260.0</td>\n",
       "      <td>1656.943394</td>\n",
       "      <td>None</td>\n",
       "      <td>2019-07-12 00:00:00</td>\n",
       "    </tr>\n",
       "    <tr>\n",
       "      <th>7</th>\n",
       "      <td>24428</td>\n",
       "      <td>The Avengers</td>\n",
       "      <td>220.0</td>\n",
       "      <td>1519.557910</td>\n",
       "      <td>The Avengers Collection</td>\n",
       "      <td>2012-04-25 00:00:00</td>\n",
       "    </tr>\n",
       "    <tr>\n",
       "      <th>8</th>\n",
       "      <td>168259</td>\n",
       "      <td>Furious 7</td>\n",
       "      <td>190.0</td>\n",
       "      <td>1515.047671</td>\n",
       "      <td>The Fast and the Furious Collection</td>\n",
       "      <td>2015-04-01 00:00:00</td>\n",
       "    </tr>\n",
       "    <tr>\n",
       "      <th>9</th>\n",
       "      <td>99861</td>\n",
       "      <td>Avengers: Age of Ultron</td>\n",
       "      <td>250.0</td>\n",
       "      <td>1405.403694</td>\n",
       "      <td>The Avengers Collection</td>\n",
       "      <td>2015-04-22 00:00:00</td>\n",
       "    </tr>\n",
       "    <tr>\n",
       "      <th>10</th>\n",
       "      <td>284054</td>\n",
       "      <td>Black Panther</td>\n",
       "      <td>200.0</td>\n",
       "      <td>1346.739107</td>\n",
       "      <td>Black Panther Collection</td>\n",
       "      <td>2018-02-13 00:00:00</td>\n",
       "    </tr>\n",
       "    <tr>\n",
       "      <th>11</th>\n",
       "      <td>12445</td>\n",
       "      <td>Harry Potter and the Deathly Hallows: Part 2</td>\n",
       "      <td>125.0</td>\n",
       "      <td>1341.511219</td>\n",
       "      <td>Harry Potter Collection</td>\n",
       "      <td>2011-07-07 00:00:00</td>\n",
       "    </tr>\n",
       "    <tr>\n",
       "      <th>12</th>\n",
       "      <td>181808</td>\n",
       "      <td>Star Wars: The Last Jedi</td>\n",
       "      <td>200.0</td>\n",
       "      <td>1332.539889</td>\n",
       "      <td>Star Wars Collection</td>\n",
       "      <td>2017-12-13 00:00:00</td>\n",
       "    </tr>\n",
       "    <tr>\n",
       "      <th>13</th>\n",
       "      <td>330457</td>\n",
       "      <td>Frozen II</td>\n",
       "      <td>150.0</td>\n",
       "      <td>1330.764959</td>\n",
       "      <td>Frozen Collection</td>\n",
       "      <td>2019-11-20 00:00:00</td>\n",
       "    </tr>\n",
       "    <tr>\n",
       "      <th>14</th>\n",
       "      <td>351286</td>\n",
       "      <td>Jurassic World: Fallen Kingdom</td>\n",
       "      <td>170.0</td>\n",
       "      <td>1303.459585</td>\n",
       "      <td>Jurassic Park Collection</td>\n",
       "      <td>2018-06-06 00:00:00</td>\n",
       "    </tr>\n",
       "    <tr>\n",
       "      <th>15</th>\n",
       "      <td>109445</td>\n",
       "      <td>Frozen</td>\n",
       "      <td>150.0</td>\n",
       "      <td>1274.219009</td>\n",
       "      <td>Frozen Collection</td>\n",
       "      <td>2013-11-27 00:00:00</td>\n",
       "    </tr>\n",
       "    <tr>\n",
       "      <th>16</th>\n",
       "      <td>321612</td>\n",
       "      <td>Beauty and the Beast</td>\n",
       "      <td>160.0</td>\n",
       "      <td>1263.521126</td>\n",
       "      <td>None</td>\n",
       "      <td>2017-03-16 00:00:00</td>\n",
       "    </tr>\n",
       "    <tr>\n",
       "      <th>17</th>\n",
       "      <td>260513</td>\n",
       "      <td>Incredibles 2</td>\n",
       "      <td>200.0</td>\n",
       "      <td>1241.891456</td>\n",
       "      <td>The Incredibles Collection</td>\n",
       "      <td>2018-06-14 00:00:00</td>\n",
       "    </tr>\n",
       "  </tbody>\n",
       "</table>\n",
       "</div>"
      ],
      "text/plain": [
       "        id                                         title  budget      revenue  \\\n",
       "0   299534                             Avengers: Endgame   356.0  2797.800564   \n",
       "1    19995                                        Avatar   237.0  2787.965087   \n",
       "2   140607                  Star Wars: The Force Awakens   245.0  2068.223624   \n",
       "3   299536                        Avengers: Infinity War   300.0  2046.239637   \n",
       "4      597                                       Titanic   200.0  1845.034188   \n",
       "5   135397                                Jurassic World   150.0  1671.713208   \n",
       "6   420818                                 The Lion King   260.0  1656.943394   \n",
       "7    24428                                  The Avengers   220.0  1519.557910   \n",
       "8   168259                                     Furious 7   190.0  1515.047671   \n",
       "9    99861                       Avengers: Age of Ultron   250.0  1405.403694   \n",
       "10  284054                                 Black Panther   200.0  1346.739107   \n",
       "11   12445  Harry Potter and the Deathly Hallows: Part 2   125.0  1341.511219   \n",
       "12  181808                      Star Wars: The Last Jedi   200.0  1332.539889   \n",
       "13  330457                                     Frozen II   150.0  1330.764959   \n",
       "14  351286                Jurassic World: Fallen Kingdom   170.0  1303.459585   \n",
       "15  109445                                        Frozen   150.0  1274.219009   \n",
       "16  321612                          Beauty and the Beast   160.0  1263.521126   \n",
       "17  260513                                 Incredibles 2   200.0  1241.891456   \n",
       "\n",
       "             belongs_to_collection_name         release_date  \n",
       "0               The Avengers Collection  2019-04-24 00:00:00  \n",
       "1                     Avatar Collection  2009-12-10 00:00:00  \n",
       "2                  Star Wars Collection  2015-12-15 00:00:00  \n",
       "3               The Avengers Collection  2018-04-25 00:00:00  \n",
       "4                                  None  1997-11-18 00:00:00  \n",
       "5              Jurassic Park Collection  2015-06-06 00:00:00  \n",
       "6                                  None  2019-07-12 00:00:00  \n",
       "7               The Avengers Collection  2012-04-25 00:00:00  \n",
       "8   The Fast and the Furious Collection  2015-04-01 00:00:00  \n",
       "9               The Avengers Collection  2015-04-22 00:00:00  \n",
       "10             Black Panther Collection  2018-02-13 00:00:00  \n",
       "11              Harry Potter Collection  2011-07-07 00:00:00  \n",
       "12                 Star Wars Collection  2017-12-13 00:00:00  \n",
       "13                    Frozen Collection  2019-11-20 00:00:00  \n",
       "14             Jurassic Park Collection  2018-06-06 00:00:00  \n",
       "15                    Frozen Collection  2013-11-27 00:00:00  \n",
       "16                                 None  2017-03-16 00:00:00  \n",
       "17           The Incredibles Collection  2018-06-14 00:00:00  "
      ]
     },
     "execution_count": 38,
     "metadata": {},
     "output_type": "execute_result"
    }
   ],
   "source": [
    "pd.read_sql(\"SELECT * FROM Movies\",con)"
   ]
  },
  {
   "cell_type": "code",
   "execution_count": 39,
   "metadata": {
    "_kg_hide-input": false,
    "execution": {
     "iopub.execute_input": "2020-09-13T13:34:30.383427Z",
     "iopub.status.busy": "2020-09-13T13:34:30.382747Z",
     "iopub.status.idle": "2020-09-13T13:34:30.386654Z",
     "shell.execute_reply": "2020-09-13T13:34:30.386103Z"
    },
    "papermill": {
     "duration": 0.079469,
     "end_time": "2020-09-13T13:34:30.386769",
     "exception": false,
     "start_time": "2020-09-13T13:34:30.307300",
     "status": "completed"
    },
    "tags": []
   },
   "outputs": [
    {
     "data": {
      "text/html": [
       "<div>\n",
       "<style scoped>\n",
       "    .dataframe tbody tr th:only-of-type {\n",
       "        vertical-align: middle;\n",
       "    }\n",
       "\n",
       "    .dataframe tbody tr th {\n",
       "        vertical-align: top;\n",
       "    }\n",
       "\n",
       "    .dataframe thead th {\n",
       "        text-align: right;\n",
       "    }\n",
       "</style>\n",
       "<table border=\"1\" class=\"dataframe\">\n",
       "  <thead>\n",
       "    <tr style=\"text-align: right;\">\n",
       "      <th></th>\n",
       "      <th>id</th>\n",
       "      <th>title</th>\n",
       "      <th>budget</th>\n",
       "      <th>revenue</th>\n",
       "      <th>belongs_to_collection_name</th>\n",
       "      <th>release_date</th>\n",
       "    </tr>\n",
       "  </thead>\n",
       "  <tbody>\n",
       "    <tr>\n",
       "      <th>0</th>\n",
       "      <td>299534</td>\n",
       "      <td>Avengers: Endgame</td>\n",
       "      <td>356.0</td>\n",
       "      <td>2797.800564</td>\n",
       "      <td>The Avengers Collection</td>\n",
       "      <td>2019-04-24 00:00:00</td>\n",
       "    </tr>\n",
       "    <tr>\n",
       "      <th>1</th>\n",
       "      <td>19995</td>\n",
       "      <td>Avatar</td>\n",
       "      <td>237.0</td>\n",
       "      <td>2787.965087</td>\n",
       "      <td>Avatar Collection</td>\n",
       "      <td>2009-12-10 00:00:00</td>\n",
       "    </tr>\n",
       "    <tr>\n",
       "      <th>2</th>\n",
       "      <td>140607</td>\n",
       "      <td>Star Wars: The Force Awakens</td>\n",
       "      <td>245.0</td>\n",
       "      <td>2068.223624</td>\n",
       "      <td>Star Wars Collection</td>\n",
       "      <td>2015-12-15 00:00:00</td>\n",
       "    </tr>\n",
       "    <tr>\n",
       "      <th>3</th>\n",
       "      <td>299536</td>\n",
       "      <td>Avengers: Infinity War</td>\n",
       "      <td>300.0</td>\n",
       "      <td>2046.239637</td>\n",
       "      <td>The Avengers Collection</td>\n",
       "      <td>2018-04-25 00:00:00</td>\n",
       "    </tr>\n",
       "    <tr>\n",
       "      <th>4</th>\n",
       "      <td>597</td>\n",
       "      <td>Titanic</td>\n",
       "      <td>200.0</td>\n",
       "      <td>1845.034188</td>\n",
       "      <td>None</td>\n",
       "      <td>1997-11-18 00:00:00</td>\n",
       "    </tr>\n",
       "    <tr>\n",
       "      <th>5</th>\n",
       "      <td>135397</td>\n",
       "      <td>Jurassic World</td>\n",
       "      <td>150.0</td>\n",
       "      <td>1671.713208</td>\n",
       "      <td>Jurassic Park Collection</td>\n",
       "      <td>2015-06-06 00:00:00</td>\n",
       "    </tr>\n",
       "    <tr>\n",
       "      <th>6</th>\n",
       "      <td>420818</td>\n",
       "      <td>The Lion King</td>\n",
       "      <td>260.0</td>\n",
       "      <td>1656.943394</td>\n",
       "      <td>None</td>\n",
       "      <td>2019-07-12 00:00:00</td>\n",
       "    </tr>\n",
       "    <tr>\n",
       "      <th>7</th>\n",
       "      <td>24428</td>\n",
       "      <td>The Avengers</td>\n",
       "      <td>220.0</td>\n",
       "      <td>1519.557910</td>\n",
       "      <td>The Avengers Collection</td>\n",
       "      <td>2012-04-25 00:00:00</td>\n",
       "    </tr>\n",
       "    <tr>\n",
       "      <th>8</th>\n",
       "      <td>168259</td>\n",
       "      <td>Furious 7</td>\n",
       "      <td>190.0</td>\n",
       "      <td>1515.047671</td>\n",
       "      <td>The Fast and the Furious Collection</td>\n",
       "      <td>2015-04-01 00:00:00</td>\n",
       "    </tr>\n",
       "    <tr>\n",
       "      <th>9</th>\n",
       "      <td>99861</td>\n",
       "      <td>Avengers: Age of Ultron</td>\n",
       "      <td>250.0</td>\n",
       "      <td>1405.403694</td>\n",
       "      <td>The Avengers Collection</td>\n",
       "      <td>2015-04-22 00:00:00</td>\n",
       "    </tr>\n",
       "    <tr>\n",
       "      <th>10</th>\n",
       "      <td>284054</td>\n",
       "      <td>Black Panther</td>\n",
       "      <td>200.0</td>\n",
       "      <td>1346.739107</td>\n",
       "      <td>Black Panther Collection</td>\n",
       "      <td>2018-02-13 00:00:00</td>\n",
       "    </tr>\n",
       "    <tr>\n",
       "      <th>11</th>\n",
       "      <td>12445</td>\n",
       "      <td>Harry Potter and the Deathly Hallows: Part 2</td>\n",
       "      <td>125.0</td>\n",
       "      <td>1341.511219</td>\n",
       "      <td>Harry Potter Collection</td>\n",
       "      <td>2011-07-07 00:00:00</td>\n",
       "    </tr>\n",
       "    <tr>\n",
       "      <th>12</th>\n",
       "      <td>181808</td>\n",
       "      <td>Star Wars: The Last Jedi</td>\n",
       "      <td>200.0</td>\n",
       "      <td>1332.539889</td>\n",
       "      <td>Star Wars Collection</td>\n",
       "      <td>2017-12-13 00:00:00</td>\n",
       "    </tr>\n",
       "    <tr>\n",
       "      <th>13</th>\n",
       "      <td>330457</td>\n",
       "      <td>Frozen II</td>\n",
       "      <td>150.0</td>\n",
       "      <td>1330.764959</td>\n",
       "      <td>Frozen Collection</td>\n",
       "      <td>2019-11-20 00:00:00</td>\n",
       "    </tr>\n",
       "    <tr>\n",
       "      <th>14</th>\n",
       "      <td>351286</td>\n",
       "      <td>Jurassic World: Fallen Kingdom</td>\n",
       "      <td>170.0</td>\n",
       "      <td>1303.459585</td>\n",
       "      <td>Jurassic Park Collection</td>\n",
       "      <td>2018-06-06 00:00:00</td>\n",
       "    </tr>\n",
       "    <tr>\n",
       "      <th>15</th>\n",
       "      <td>109445</td>\n",
       "      <td>Frozen</td>\n",
       "      <td>150.0</td>\n",
       "      <td>1274.219009</td>\n",
       "      <td>Frozen Collection</td>\n",
       "      <td>2013-11-27 00:00:00</td>\n",
       "    </tr>\n",
       "    <tr>\n",
       "      <th>16</th>\n",
       "      <td>321612</td>\n",
       "      <td>Beauty and the Beast</td>\n",
       "      <td>160.0</td>\n",
       "      <td>1263.521126</td>\n",
       "      <td>None</td>\n",
       "      <td>2017-03-16 00:00:00</td>\n",
       "    </tr>\n",
       "    <tr>\n",
       "      <th>17</th>\n",
       "      <td>260513</td>\n",
       "      <td>Incredibles 2</td>\n",
       "      <td>200.0</td>\n",
       "      <td>1241.891456</td>\n",
       "      <td>The Incredibles Collection</td>\n",
       "      <td>2018-06-14 00:00:00</td>\n",
       "    </tr>\n",
       "  </tbody>\n",
       "</table>\n",
       "</div>"
      ],
      "text/plain": [
       "        id                                         title  budget      revenue  \\\n",
       "0   299534                             Avengers: Endgame   356.0  2797.800564   \n",
       "1    19995                                        Avatar   237.0  2787.965087   \n",
       "2   140607                  Star Wars: The Force Awakens   245.0  2068.223624   \n",
       "3   299536                        Avengers: Infinity War   300.0  2046.239637   \n",
       "4      597                                       Titanic   200.0  1845.034188   \n",
       "5   135397                                Jurassic World   150.0  1671.713208   \n",
       "6   420818                                 The Lion King   260.0  1656.943394   \n",
       "7    24428                                  The Avengers   220.0  1519.557910   \n",
       "8   168259                                     Furious 7   190.0  1515.047671   \n",
       "9    99861                       Avengers: Age of Ultron   250.0  1405.403694   \n",
       "10  284054                                 Black Panther   200.0  1346.739107   \n",
       "11   12445  Harry Potter and the Deathly Hallows: Part 2   125.0  1341.511219   \n",
       "12  181808                      Star Wars: The Last Jedi   200.0  1332.539889   \n",
       "13  330457                                     Frozen II   150.0  1330.764959   \n",
       "14  351286                Jurassic World: Fallen Kingdom   170.0  1303.459585   \n",
       "15  109445                                        Frozen   150.0  1274.219009   \n",
       "16  321612                          Beauty and the Beast   160.0  1263.521126   \n",
       "17  260513                                 Incredibles 2   200.0  1241.891456   \n",
       "\n",
       "             belongs_to_collection_name         release_date  \n",
       "0               The Avengers Collection  2019-04-24 00:00:00  \n",
       "1                     Avatar Collection  2009-12-10 00:00:00  \n",
       "2                  Star Wars Collection  2015-12-15 00:00:00  \n",
       "3               The Avengers Collection  2018-04-25 00:00:00  \n",
       "4                                  None  1997-11-18 00:00:00  \n",
       "5              Jurassic Park Collection  2015-06-06 00:00:00  \n",
       "6                                  None  2019-07-12 00:00:00  \n",
       "7               The Avengers Collection  2012-04-25 00:00:00  \n",
       "8   The Fast and the Furious Collection  2015-04-01 00:00:00  \n",
       "9               The Avengers Collection  2015-04-22 00:00:00  \n",
       "10             Black Panther Collection  2018-02-13 00:00:00  \n",
       "11              Harry Potter Collection  2011-07-07 00:00:00  \n",
       "12                 Star Wars Collection  2017-12-13 00:00:00  \n",
       "13                    Frozen Collection  2019-11-20 00:00:00  \n",
       "14             Jurassic Park Collection  2018-06-06 00:00:00  \n",
       "15                    Frozen Collection  2013-11-27 00:00:00  \n",
       "16                                 None  2017-03-16 00:00:00  \n",
       "17           The Incredibles Collection  2018-06-14 00:00:00  "
      ]
     },
     "execution_count": 39,
     "metadata": {},
     "output_type": "execute_result"
    }
   ],
   "source": [
    "# Following the SQL code Standard of writing codes in different line\n",
    "pd.read_sql(\"SELECT * \\\n",
    "             FROM Movies\",con)"
   ]
  },
  {
   "cell_type": "code",
   "execution_count": 40,
   "metadata": {
    "execution": {
     "iopub.execute_input": "2020-09-13T13:34:30.514058Z",
     "iopub.status.busy": "2020-09-13T13:34:30.504891Z",
     "iopub.status.idle": "2020-09-13T13:34:30.518957Z",
     "shell.execute_reply": "2020-09-13T13:34:30.518399Z"
    },
    "papermill": {
     "duration": 0.075876,
     "end_time": "2020-09-13T13:34:30.519075",
     "exception": false,
     "start_time": "2020-09-13T13:34:30.443199",
     "status": "completed"
    },
    "tags": []
   },
   "outputs": [
    {
     "data": {
      "text/html": [
       "<div>\n",
       "<style scoped>\n",
       "    .dataframe tbody tr th:only-of-type {\n",
       "        vertical-align: middle;\n",
       "    }\n",
       "\n",
       "    .dataframe tbody tr th {\n",
       "        vertical-align: top;\n",
       "    }\n",
       "\n",
       "    .dataframe thead th {\n",
       "        text-align: right;\n",
       "    }\n",
       "</style>\n",
       "<table border=\"1\" class=\"dataframe\">\n",
       "  <thead>\n",
       "    <tr style=\"text-align: right;\">\n",
       "      <th></th>\n",
       "      <th>id</th>\n",
       "      <th>revenue</th>\n",
       "      <th>release_date</th>\n",
       "    </tr>\n",
       "  </thead>\n",
       "  <tbody>\n",
       "    <tr>\n",
       "      <th>0</th>\n",
       "      <td>299534</td>\n",
       "      <td>2797.800564</td>\n",
       "      <td>2019-04-24 00:00:00</td>\n",
       "    </tr>\n",
       "    <tr>\n",
       "      <th>1</th>\n",
       "      <td>19995</td>\n",
       "      <td>2787.965087</td>\n",
       "      <td>2009-12-10 00:00:00</td>\n",
       "    </tr>\n",
       "    <tr>\n",
       "      <th>2</th>\n",
       "      <td>140607</td>\n",
       "      <td>2068.223624</td>\n",
       "      <td>2015-12-15 00:00:00</td>\n",
       "    </tr>\n",
       "    <tr>\n",
       "      <th>3</th>\n",
       "      <td>299536</td>\n",
       "      <td>2046.239637</td>\n",
       "      <td>2018-04-25 00:00:00</td>\n",
       "    </tr>\n",
       "    <tr>\n",
       "      <th>4</th>\n",
       "      <td>597</td>\n",
       "      <td>1845.034188</td>\n",
       "      <td>1997-11-18 00:00:00</td>\n",
       "    </tr>\n",
       "    <tr>\n",
       "      <th>5</th>\n",
       "      <td>135397</td>\n",
       "      <td>1671.713208</td>\n",
       "      <td>2015-06-06 00:00:00</td>\n",
       "    </tr>\n",
       "    <tr>\n",
       "      <th>6</th>\n",
       "      <td>420818</td>\n",
       "      <td>1656.943394</td>\n",
       "      <td>2019-07-12 00:00:00</td>\n",
       "    </tr>\n",
       "    <tr>\n",
       "      <th>7</th>\n",
       "      <td>24428</td>\n",
       "      <td>1519.557910</td>\n",
       "      <td>2012-04-25 00:00:00</td>\n",
       "    </tr>\n",
       "    <tr>\n",
       "      <th>8</th>\n",
       "      <td>168259</td>\n",
       "      <td>1515.047671</td>\n",
       "      <td>2015-04-01 00:00:00</td>\n",
       "    </tr>\n",
       "    <tr>\n",
       "      <th>9</th>\n",
       "      <td>99861</td>\n",
       "      <td>1405.403694</td>\n",
       "      <td>2015-04-22 00:00:00</td>\n",
       "    </tr>\n",
       "    <tr>\n",
       "      <th>10</th>\n",
       "      <td>284054</td>\n",
       "      <td>1346.739107</td>\n",
       "      <td>2018-02-13 00:00:00</td>\n",
       "    </tr>\n",
       "    <tr>\n",
       "      <th>11</th>\n",
       "      <td>12445</td>\n",
       "      <td>1341.511219</td>\n",
       "      <td>2011-07-07 00:00:00</td>\n",
       "    </tr>\n",
       "    <tr>\n",
       "      <th>12</th>\n",
       "      <td>181808</td>\n",
       "      <td>1332.539889</td>\n",
       "      <td>2017-12-13 00:00:00</td>\n",
       "    </tr>\n",
       "    <tr>\n",
       "      <th>13</th>\n",
       "      <td>330457</td>\n",
       "      <td>1330.764959</td>\n",
       "      <td>2019-11-20 00:00:00</td>\n",
       "    </tr>\n",
       "    <tr>\n",
       "      <th>14</th>\n",
       "      <td>351286</td>\n",
       "      <td>1303.459585</td>\n",
       "      <td>2018-06-06 00:00:00</td>\n",
       "    </tr>\n",
       "    <tr>\n",
       "      <th>15</th>\n",
       "      <td>109445</td>\n",
       "      <td>1274.219009</td>\n",
       "      <td>2013-11-27 00:00:00</td>\n",
       "    </tr>\n",
       "    <tr>\n",
       "      <th>16</th>\n",
       "      <td>321612</td>\n",
       "      <td>1263.521126</td>\n",
       "      <td>2017-03-16 00:00:00</td>\n",
       "    </tr>\n",
       "    <tr>\n",
       "      <th>17</th>\n",
       "      <td>260513</td>\n",
       "      <td>1241.891456</td>\n",
       "      <td>2018-06-14 00:00:00</td>\n",
       "    </tr>\n",
       "  </tbody>\n",
       "</table>\n",
       "</div>"
      ],
      "text/plain": [
       "        id      revenue         release_date\n",
       "0   299534  2797.800564  2019-04-24 00:00:00\n",
       "1    19995  2787.965087  2009-12-10 00:00:00\n",
       "2   140607  2068.223624  2015-12-15 00:00:00\n",
       "3   299536  2046.239637  2018-04-25 00:00:00\n",
       "4      597  1845.034188  1997-11-18 00:00:00\n",
       "5   135397  1671.713208  2015-06-06 00:00:00\n",
       "6   420818  1656.943394  2019-07-12 00:00:00\n",
       "7    24428  1519.557910  2012-04-25 00:00:00\n",
       "8   168259  1515.047671  2015-04-01 00:00:00\n",
       "9    99861  1405.403694  2015-04-22 00:00:00\n",
       "10  284054  1346.739107  2018-02-13 00:00:00\n",
       "11   12445  1341.511219  2011-07-07 00:00:00\n",
       "12  181808  1332.539889  2017-12-13 00:00:00\n",
       "13  330457  1330.764959  2019-11-20 00:00:00\n",
       "14  351286  1303.459585  2018-06-06 00:00:00\n",
       "15  109445  1274.219009  2013-11-27 00:00:00\n",
       "16  321612  1263.521126  2017-03-16 00:00:00\n",
       "17  260513  1241.891456  2018-06-14 00:00:00"
      ]
     },
     "execution_count": 40,
     "metadata": {},
     "output_type": "execute_result"
    }
   ],
   "source": [
    "# Selecting specific columns of the table\n",
    "pd.read_sql(\"SELECT id,revenue,release_date FROM Movies\",con)"
   ]
  },
  {
   "cell_type": "code",
   "execution_count": 41,
   "metadata": {
    "execution": {
     "iopub.execute_input": "2020-09-13T13:34:30.642648Z",
     "iopub.status.busy": "2020-09-13T13:34:30.641857Z",
     "iopub.status.idle": "2020-09-13T13:34:30.645568Z",
     "shell.execute_reply": "2020-09-13T13:34:30.644950Z"
    },
    "papermill": {
     "duration": 0.069307,
     "end_time": "2020-09-13T13:34:30.645678",
     "exception": false,
     "start_time": "2020-09-13T13:34:30.576371",
     "status": "completed"
    },
    "tags": []
   },
   "outputs": [
    {
     "data": {
      "text/html": [
       "<div>\n",
       "<style scoped>\n",
       "    .dataframe tbody tr th:only-of-type {\n",
       "        vertical-align: middle;\n",
       "    }\n",
       "\n",
       "    .dataframe tbody tr th {\n",
       "        vertical-align: top;\n",
       "    }\n",
       "\n",
       "    .dataframe thead th {\n",
       "        text-align: right;\n",
       "    }\n",
       "</style>\n",
       "<table border=\"1\" class=\"dataframe\">\n",
       "  <thead>\n",
       "    <tr style=\"text-align: right;\">\n",
       "      <th></th>\n",
       "      <th>sum(revenue)</th>\n",
       "    </tr>\n",
       "  </thead>\n",
       "  <tbody>\n",
       "    <tr>\n",
       "      <th>0</th>\n",
       "      <td>29748.575327</td>\n",
       "    </tr>\n",
       "  </tbody>\n",
       "</table>\n",
       "</div>"
      ],
      "text/plain": [
       "   sum(revenue)\n",
       "0  29748.575327"
      ]
     },
     "execution_count": 41,
     "metadata": {},
     "output_type": "execute_result"
    }
   ],
   "source": [
    "# Summing up the revence \n",
    "pd.read_sql(\"SELECT sum(revenue) FROM Movies\",con)"
   ]
  },
  {
   "cell_type": "code",
   "execution_count": 42,
   "metadata": {
    "execution": {
     "iopub.execute_input": "2020-09-13T13:34:30.767918Z",
     "iopub.status.busy": "2020-09-13T13:34:30.766809Z",
     "iopub.status.idle": "2020-09-13T13:34:30.771267Z",
     "shell.execute_reply": "2020-09-13T13:34:30.771934Z"
    },
    "papermill": {
     "duration": 0.068581,
     "end_time": "2020-09-13T13:34:30.772086",
     "exception": false,
     "start_time": "2020-09-13T13:34:30.703505",
     "status": "completed"
    },
    "tags": []
   },
   "outputs": [
    {
     "data": {
      "text/plain": [
       "29748.575327000002"
      ]
     },
     "execution_count": 42,
     "metadata": {},
     "output_type": "execute_result"
    }
   ],
   "source": [
    "# Summing up the revence \n",
    "con.execute(\"SELECT sum(revenue) FROM Movies\").fetchall()[0][0]"
   ]
  },
  {
   "cell_type": "code",
   "execution_count": 43,
   "metadata": {
    "execution": {
     "iopub.execute_input": "2020-09-13T13:34:30.899555Z",
     "iopub.status.busy": "2020-09-13T13:34:30.898477Z",
     "iopub.status.idle": "2020-09-13T13:34:30.903349Z",
     "shell.execute_reply": "2020-09-13T13:34:30.902702Z"
    },
    "papermill": {
     "duration": 0.072729,
     "end_time": "2020-09-13T13:34:30.903466",
     "exception": false,
     "start_time": "2020-09-13T13:34:30.830737",
     "status": "completed"
    },
    "tags": []
   },
   "outputs": [
    {
     "data": {
      "text/html": [
       "<div>\n",
       "<style scoped>\n",
       "    .dataframe tbody tr th:only-of-type {\n",
       "        vertical-align: middle;\n",
       "    }\n",
       "\n",
       "    .dataframe tbody tr th {\n",
       "        vertical-align: top;\n",
       "    }\n",
       "\n",
       "    .dataframe thead th {\n",
       "        text-align: right;\n",
       "    }\n",
       "</style>\n",
       "<table border=\"1\" class=\"dataframe\">\n",
       "  <thead>\n",
       "    <tr style=\"text-align: right;\">\n",
       "      <th></th>\n",
       "      <th>count(title)</th>\n",
       "    </tr>\n",
       "  </thead>\n",
       "  <tbody>\n",
       "    <tr>\n",
       "      <th>0</th>\n",
       "      <td>18</td>\n",
       "    </tr>\n",
       "  </tbody>\n",
       "</table>\n",
       "</div>"
      ],
      "text/plain": [
       "   count(title)\n",
       "0            18"
      ]
     },
     "execution_count": 43,
     "metadata": {},
     "output_type": "execute_result"
    }
   ],
   "source": [
    "# Counting the Distinct entries in title\n",
    "pd.read_sql(\"SELECT count(title) FROM Movies\",con)"
   ]
  },
  {
   "cell_type": "code",
   "execution_count": 44,
   "metadata": {
    "execution": {
     "iopub.execute_input": "2020-09-13T13:34:31.032056Z",
     "iopub.status.busy": "2020-09-13T13:34:31.030926Z",
     "iopub.status.idle": "2020-09-13T13:34:31.035738Z",
     "shell.execute_reply": "2020-09-13T13:34:31.035122Z"
    },
    "papermill": {
     "duration": 0.072295,
     "end_time": "2020-09-13T13:34:31.035863",
     "exception": false,
     "start_time": "2020-09-13T13:34:30.963568",
     "status": "completed"
    },
    "tags": []
   },
   "outputs": [
    {
     "data": {
      "text/html": [
       "<div>\n",
       "<style scoped>\n",
       "    .dataframe tbody tr th:only-of-type {\n",
       "        vertical-align: middle;\n",
       "    }\n",
       "\n",
       "    .dataframe tbody tr th {\n",
       "        vertical-align: top;\n",
       "    }\n",
       "\n",
       "    .dataframe thead th {\n",
       "        text-align: right;\n",
       "    }\n",
       "</style>\n",
       "<table border=\"1\" class=\"dataframe\">\n",
       "  <thead>\n",
       "    <tr style=\"text-align: right;\">\n",
       "      <th></th>\n",
       "      <th>count(*)</th>\n",
       "    </tr>\n",
       "  </thead>\n",
       "  <tbody>\n",
       "    <tr>\n",
       "      <th>0</th>\n",
       "      <td>18</td>\n",
       "    </tr>\n",
       "  </tbody>\n",
       "</table>\n",
       "</div>"
      ],
      "text/plain": [
       "   count(*)\n",
       "0        18"
      ]
     },
     "execution_count": 44,
     "metadata": {},
     "output_type": "execute_result"
    }
   ],
   "source": [
    "# Counting number of rows\n",
    "pd.read_sql(\"SELECT count(*) FROM Movies\",con)"
   ]
  },
  {
   "cell_type": "code",
   "execution_count": 45,
   "metadata": {
    "execution": {
     "iopub.execute_input": "2020-09-13T13:34:31.164175Z",
     "iopub.status.busy": "2020-09-13T13:34:31.163230Z",
     "iopub.status.idle": "2020-09-13T13:34:31.167685Z",
     "shell.execute_reply": "2020-09-13T13:34:31.168186Z"
    },
    "papermill": {
     "duration": 0.073192,
     "end_time": "2020-09-13T13:34:31.168409",
     "exception": false,
     "start_time": "2020-09-13T13:34:31.095217",
     "status": "completed"
    },
    "tags": []
   },
   "outputs": [
    {
     "data": {
      "text/html": [
       "<div>\n",
       "<style scoped>\n",
       "    .dataframe tbody tr th:only-of-type {\n",
       "        vertical-align: middle;\n",
       "    }\n",
       "\n",
       "    .dataframe tbody tr th {\n",
       "        vertical-align: top;\n",
       "    }\n",
       "\n",
       "    .dataframe thead th {\n",
       "        text-align: right;\n",
       "    }\n",
       "</style>\n",
       "<table border=\"1\" class=\"dataframe\">\n",
       "  <thead>\n",
       "    <tr style=\"text-align: right;\">\n",
       "      <th></th>\n",
       "      <th>avg(budget)</th>\n",
       "    </tr>\n",
       "  </thead>\n",
       "  <tbody>\n",
       "    <tr>\n",
       "      <th>0</th>\n",
       "      <td>209.055556</td>\n",
       "    </tr>\n",
       "  </tbody>\n",
       "</table>\n",
       "</div>"
      ],
      "text/plain": [
       "   avg(budget)\n",
       "0   209.055556"
      ]
     },
     "execution_count": 45,
     "metadata": {},
     "output_type": "execute_result"
    }
   ],
   "source": [
    "# Average budget for the 18 movies\n",
    "pd.read_sql(\"SELECT avg(budget) FROM Movies\",con)"
   ]
  },
  {
   "cell_type": "code",
   "execution_count": 46,
   "metadata": {
    "execution": {
     "iopub.execute_input": "2020-09-13T13:34:31.303403Z",
     "iopub.status.busy": "2020-09-13T13:34:31.302705Z",
     "iopub.status.idle": "2020-09-13T13:34:31.304607Z",
     "shell.execute_reply": "2020-09-13T13:34:31.305380Z"
    },
    "papermill": {
     "duration": 0.073841,
     "end_time": "2020-09-13T13:34:31.305524",
     "exception": false,
     "start_time": "2020-09-13T13:34:31.231683",
     "status": "completed"
    },
    "tags": []
   },
   "outputs": [],
   "source": [
    "con.close()"
   ]
  },
  {
   "cell_type": "markdown",
   "metadata": {
    "papermill": {
     "duration": 0.059352,
     "end_time": "2020-09-13T13:34:31.425553",
     "exception": false,
     "start_time": "2020-09-13T13:34:31.366201",
     "status": "completed"
    },
    "tags": []
   },
   "source": [
    "# Additional SQL Queries"
   ]
  },
  {
   "cell_type": "code",
   "execution_count": 47,
   "metadata": {
    "_kg_hide-input": true,
    "execution": {
     "iopub.execute_input": "2020-09-13T13:34:31.548146Z",
     "iopub.status.busy": "2020-09-13T13:34:31.547474Z",
     "iopub.status.idle": "2020-09-13T13:34:31.551221Z",
     "shell.execute_reply": "2020-09-13T13:34:31.551778Z"
    },
    "papermill": {
     "duration": 0.066718,
     "end_time": "2020-09-13T13:34:31.551940",
     "exception": false,
     "start_time": "2020-09-13T13:34:31.485222",
     "status": "completed"
    },
    "tags": []
   },
   "outputs": [],
   "source": [
    "import pandas as pd\n",
    "import sqlite3 as sq3"
   ]
  },
  {
   "cell_type": "code",
   "execution_count": 48,
   "metadata": {
    "execution": {
     "iopub.execute_input": "2020-09-13T13:34:31.675271Z",
     "iopub.status.busy": "2020-09-13T13:34:31.674619Z",
     "iopub.status.idle": "2020-09-13T13:34:31.678756Z",
     "shell.execute_reply": "2020-09-13T13:34:31.679307Z"
    },
    "papermill": {
     "duration": 0.067409,
     "end_time": "2020-09-13T13:34:31.679461",
     "exception": false,
     "start_time": "2020-09-13T13:34:31.612052",
     "status": "completed"
    },
    "tags": []
   },
   "outputs": [],
   "source": [
    "con = sq3.connect('movies.db')"
   ]
  },
  {
   "cell_type": "code",
   "execution_count": 49,
   "metadata": {
    "execution": {
     "iopub.execute_input": "2020-09-13T13:34:31.804347Z",
     "iopub.status.busy": "2020-09-13T13:34:31.803683Z",
     "iopub.status.idle": "2020-09-13T13:34:31.816697Z",
     "shell.execute_reply": "2020-09-13T13:34:31.817342Z"
    },
    "papermill": {
     "duration": 0.07819,
     "end_time": "2020-09-13T13:34:31.817496",
     "exception": false,
     "start_time": "2020-09-13T13:34:31.739306",
     "status": "completed"
    },
    "tags": []
   },
   "outputs": [
    {
     "data": {
      "text/html": [
       "<div>\n",
       "<style scoped>\n",
       "    .dataframe tbody tr th:only-of-type {\n",
       "        vertical-align: middle;\n",
       "    }\n",
       "\n",
       "    .dataframe tbody tr th {\n",
       "        vertical-align: top;\n",
       "    }\n",
       "\n",
       "    .dataframe thead th {\n",
       "        text-align: right;\n",
       "    }\n",
       "</style>\n",
       "<table border=\"1\" class=\"dataframe\">\n",
       "  <thead>\n",
       "    <tr style=\"text-align: right;\">\n",
       "      <th></th>\n",
       "      <th>id</th>\n",
       "      <th>title</th>\n",
       "      <th>budget</th>\n",
       "      <th>revenue</th>\n",
       "      <th>belongs_to_collection_name</th>\n",
       "      <th>release_date</th>\n",
       "    </tr>\n",
       "  </thead>\n",
       "  <tbody>\n",
       "    <tr>\n",
       "      <th>0</th>\n",
       "      <td>597</td>\n",
       "      <td>Titanic</td>\n",
       "      <td>200.0</td>\n",
       "      <td>1845.034188</td>\n",
       "      <td>None</td>\n",
       "      <td>1997-11-18 00:00:00</td>\n",
       "    </tr>\n",
       "  </tbody>\n",
       "</table>\n",
       "</div>"
      ],
      "text/plain": [
       "    id    title  budget      revenue belongs_to_collection_name  \\\n",
       "0  597  Titanic   200.0  1845.034188                       None   \n",
       "\n",
       "          release_date  \n",
       "0  1997-11-18 00:00:00  "
      ]
     },
     "execution_count": 49,
     "metadata": {},
     "output_type": "execute_result"
    }
   ],
   "source": [
    "pd.read_sql(\"SELECT * FROM Movies WHERE id = 597\",con)"
   ]
  },
  {
   "cell_type": "code",
   "execution_count": 50,
   "metadata": {
    "execution": {
     "iopub.execute_input": "2020-09-13T13:34:31.942793Z",
     "iopub.status.busy": "2020-09-13T13:34:31.942169Z",
     "iopub.status.idle": "2020-09-13T13:34:31.956056Z",
     "shell.execute_reply": "2020-09-13T13:34:31.956643Z"
    },
    "papermill": {
     "duration": 0.078457,
     "end_time": "2020-09-13T13:34:31.956797",
     "exception": false,
     "start_time": "2020-09-13T13:34:31.878340",
     "status": "completed"
    },
    "tags": []
   },
   "outputs": [
    {
     "data": {
      "text/html": [
       "<div>\n",
       "<style scoped>\n",
       "    .dataframe tbody tr th:only-of-type {\n",
       "        vertical-align: middle;\n",
       "    }\n",
       "\n",
       "    .dataframe tbody tr th {\n",
       "        vertical-align: top;\n",
       "    }\n",
       "\n",
       "    .dataframe thead th {\n",
       "        text-align: right;\n",
       "    }\n",
       "</style>\n",
       "<table border=\"1\" class=\"dataframe\">\n",
       "  <thead>\n",
       "    <tr style=\"text-align: right;\">\n",
       "      <th></th>\n",
       "      <th>id</th>\n",
       "      <th>title</th>\n",
       "      <th>budget</th>\n",
       "      <th>revenue</th>\n",
       "      <th>belongs_to_collection_name</th>\n",
       "      <th>release_date</th>\n",
       "    </tr>\n",
       "  </thead>\n",
       "  <tbody>\n",
       "    <tr>\n",
       "      <th>0</th>\n",
       "      <td>299534</td>\n",
       "      <td>Avengers: Endgame</td>\n",
       "      <td>356.0</td>\n",
       "      <td>2797.800564</td>\n",
       "      <td>The Avengers Collection</td>\n",
       "      <td>2019-04-24 00:00:00</td>\n",
       "    </tr>\n",
       "    <tr>\n",
       "      <th>1</th>\n",
       "      <td>19995</td>\n",
       "      <td>Avatar</td>\n",
       "      <td>237.0</td>\n",
       "      <td>2787.965087</td>\n",
       "      <td>Avatar Collection</td>\n",
       "      <td>2009-12-10 00:00:00</td>\n",
       "    </tr>\n",
       "    <tr>\n",
       "      <th>2</th>\n",
       "      <td>140607</td>\n",
       "      <td>Star Wars: The Force Awakens</td>\n",
       "      <td>245.0</td>\n",
       "      <td>2068.223624</td>\n",
       "      <td>Star Wars Collection</td>\n",
       "      <td>2015-12-15 00:00:00</td>\n",
       "    </tr>\n",
       "    <tr>\n",
       "      <th>3</th>\n",
       "      <td>299536</td>\n",
       "      <td>Avengers: Infinity War</td>\n",
       "      <td>300.0</td>\n",
       "      <td>2046.239637</td>\n",
       "      <td>The Avengers Collection</td>\n",
       "      <td>2018-04-25 00:00:00</td>\n",
       "    </tr>\n",
       "  </tbody>\n",
       "</table>\n",
       "</div>"
      ],
      "text/plain": [
       "       id                         title  budget      revenue  \\\n",
       "0  299534             Avengers: Endgame   356.0  2797.800564   \n",
       "1   19995                        Avatar   237.0  2787.965087   \n",
       "2  140607  Star Wars: The Force Awakens   245.0  2068.223624   \n",
       "3  299536        Avengers: Infinity War   300.0  2046.239637   \n",
       "\n",
       "  belongs_to_collection_name         release_date  \n",
       "0    The Avengers Collection  2019-04-24 00:00:00  \n",
       "1          Avatar Collection  2009-12-10 00:00:00  \n",
       "2       Star Wars Collection  2015-12-15 00:00:00  \n",
       "3    The Avengers Collection  2018-04-25 00:00:00  "
      ]
     },
     "execution_count": 50,
     "metadata": {},
     "output_type": "execute_result"
    }
   ],
   "source": [
    "pd.read_sql(\"SELECT * FROM Movies WHERE revenue > 2000\",con)"
   ]
  },
  {
   "cell_type": "code",
   "execution_count": 51,
   "metadata": {
    "execution": {
     "iopub.execute_input": "2020-09-13T13:34:32.082796Z",
     "iopub.status.busy": "2020-09-13T13:34:32.082159Z",
     "iopub.status.idle": "2020-09-13T13:34:32.095334Z",
     "shell.execute_reply": "2020-09-13T13:34:32.095810Z"
    },
    "papermill": {
     "duration": 0.077745,
     "end_time": "2020-09-13T13:34:32.095984",
     "exception": false,
     "start_time": "2020-09-13T13:34:32.018239",
     "status": "completed"
    },
    "tags": []
   },
   "outputs": [
    {
     "data": {
      "text/html": [
       "<div>\n",
       "<style scoped>\n",
       "    .dataframe tbody tr th:only-of-type {\n",
       "        vertical-align: middle;\n",
       "    }\n",
       "\n",
       "    .dataframe tbody tr th {\n",
       "        vertical-align: top;\n",
       "    }\n",
       "\n",
       "    .dataframe thead th {\n",
       "        text-align: right;\n",
       "    }\n",
       "</style>\n",
       "<table border=\"1\" class=\"dataframe\">\n",
       "  <thead>\n",
       "    <tr style=\"text-align: right;\">\n",
       "      <th></th>\n",
       "      <th>id</th>\n",
       "      <th>title</th>\n",
       "      <th>budget</th>\n",
       "      <th>revenue</th>\n",
       "      <th>belongs_to_collection_name</th>\n",
       "      <th>release_date</th>\n",
       "    </tr>\n",
       "  </thead>\n",
       "  <tbody>\n",
       "    <tr>\n",
       "      <th>0</th>\n",
       "      <td>135397</td>\n",
       "      <td>Jurassic World</td>\n",
       "      <td>150.0</td>\n",
       "      <td>1671.713208</td>\n",
       "      <td>Jurassic Park Collection</td>\n",
       "      <td>2015-06-06 00:00:00</td>\n",
       "    </tr>\n",
       "    <tr>\n",
       "      <th>1</th>\n",
       "      <td>168259</td>\n",
       "      <td>Furious 7</td>\n",
       "      <td>190.0</td>\n",
       "      <td>1515.047671</td>\n",
       "      <td>The Fast and the Furious Collection</td>\n",
       "      <td>2015-04-01 00:00:00</td>\n",
       "    </tr>\n",
       "  </tbody>\n",
       "</table>\n",
       "</div>"
      ],
      "text/plain": [
       "       id           title  budget      revenue  \\\n",
       "0  135397  Jurassic World   150.0  1671.713208   \n",
       "1  168259       Furious 7   190.0  1515.047671   \n",
       "\n",
       "            belongs_to_collection_name         release_date  \n",
       "0             Jurassic Park Collection  2015-06-06 00:00:00  \n",
       "1  The Fast and the Furious Collection  2015-04-01 00:00:00  "
      ]
     },
     "execution_count": 51,
     "metadata": {},
     "output_type": "execute_result"
    }
   ],
   "source": [
    "pd.read_sql(\"SELECT * FROM Movies WHERE revenue > 1500 AND budget <200\",con)"
   ]
  },
  {
   "cell_type": "code",
   "execution_count": 52,
   "metadata": {
    "execution": {
     "iopub.execute_input": "2020-09-13T13:34:32.222732Z",
     "iopub.status.busy": "2020-09-13T13:34:32.222075Z",
     "iopub.status.idle": "2020-09-13T13:34:32.232312Z",
     "shell.execute_reply": "2020-09-13T13:34:32.231609Z"
    },
    "papermill": {
     "duration": 0.07469,
     "end_time": "2020-09-13T13:34:32.232439",
     "exception": false,
     "start_time": "2020-09-13T13:34:32.157749",
     "status": "completed"
    },
    "tags": []
   },
   "outputs": [
    {
     "data": {
      "text/html": [
       "<div>\n",
       "<style scoped>\n",
       "    .dataframe tbody tr th:only-of-type {\n",
       "        vertical-align: middle;\n",
       "    }\n",
       "\n",
       "    .dataframe tbody tr th {\n",
       "        vertical-align: top;\n",
       "    }\n",
       "\n",
       "    .dataframe thead th {\n",
       "        text-align: right;\n",
       "    }\n",
       "</style>\n",
       "<table border=\"1\" class=\"dataframe\">\n",
       "  <thead>\n",
       "    <tr style=\"text-align: right;\">\n",
       "      <th></th>\n",
       "      <th>MIN(budget)</th>\n",
       "    </tr>\n",
       "  </thead>\n",
       "  <tbody>\n",
       "    <tr>\n",
       "      <th>0</th>\n",
       "      <td>125.0</td>\n",
       "    </tr>\n",
       "  </tbody>\n",
       "</table>\n",
       "</div>"
      ],
      "text/plain": [
       "   MIN(budget)\n",
       "0        125.0"
      ]
     },
     "execution_count": 52,
     "metadata": {},
     "output_type": "execute_result"
    }
   ],
   "source": [
    "pd.read_sql(\"SELECT MIN(budget) FROM Movies WHERE revenue > 1250\",con)"
   ]
  },
  {
   "cell_type": "code",
   "execution_count": 53,
   "metadata": {
    "execution": {
     "iopub.execute_input": "2020-09-13T13:34:32.364072Z",
     "iopub.status.busy": "2020-09-13T13:34:32.363373Z",
     "iopub.status.idle": "2020-09-13T13:34:32.373742Z",
     "shell.execute_reply": "2020-09-13T13:34:32.374252Z"
    },
    "papermill": {
     "duration": 0.078413,
     "end_time": "2020-09-13T13:34:32.374407",
     "exception": false,
     "start_time": "2020-09-13T13:34:32.295994",
     "status": "completed"
    },
    "tags": []
   },
   "outputs": [
    {
     "data": {
      "text/html": [
       "<div>\n",
       "<style scoped>\n",
       "    .dataframe tbody tr th:only-of-type {\n",
       "        vertical-align: middle;\n",
       "    }\n",
       "\n",
       "    .dataframe tbody tr th {\n",
       "        vertical-align: top;\n",
       "    }\n",
       "\n",
       "    .dataframe thead th {\n",
       "        text-align: right;\n",
       "    }\n",
       "</style>\n",
       "<table border=\"1\" class=\"dataframe\">\n",
       "  <thead>\n",
       "    <tr style=\"text-align: right;\">\n",
       "      <th></th>\n",
       "      <th>title</th>\n",
       "    </tr>\n",
       "  </thead>\n",
       "  <tbody>\n",
       "    <tr>\n",
       "      <th>0</th>\n",
       "      <td>Avengers: Endgame</td>\n",
       "    </tr>\n",
       "    <tr>\n",
       "      <th>1</th>\n",
       "      <td>Avatar</td>\n",
       "    </tr>\n",
       "    <tr>\n",
       "      <th>2</th>\n",
       "      <td>Star Wars: The Force Awakens</td>\n",
       "    </tr>\n",
       "    <tr>\n",
       "      <th>3</th>\n",
       "      <td>Avengers: Infinity War</td>\n",
       "    </tr>\n",
       "    <tr>\n",
       "      <th>4</th>\n",
       "      <td>Titanic</td>\n",
       "    </tr>\n",
       "    <tr>\n",
       "      <th>5</th>\n",
       "      <td>Jurassic World</td>\n",
       "    </tr>\n",
       "    <tr>\n",
       "      <th>6</th>\n",
       "      <td>The Lion King</td>\n",
       "    </tr>\n",
       "    <tr>\n",
       "      <th>7</th>\n",
       "      <td>The Avengers</td>\n",
       "    </tr>\n",
       "    <tr>\n",
       "      <th>8</th>\n",
       "      <td>Furious 7</td>\n",
       "    </tr>\n",
       "    <tr>\n",
       "      <th>9</th>\n",
       "      <td>Avengers: Age of Ultron</td>\n",
       "    </tr>\n",
       "    <tr>\n",
       "      <th>10</th>\n",
       "      <td>Black Panther</td>\n",
       "    </tr>\n",
       "    <tr>\n",
       "      <th>11</th>\n",
       "      <td>Harry Potter and the Deathly Hallows: Part 2</td>\n",
       "    </tr>\n",
       "    <tr>\n",
       "      <th>12</th>\n",
       "      <td>Star Wars: The Last Jedi</td>\n",
       "    </tr>\n",
       "    <tr>\n",
       "      <th>13</th>\n",
       "      <td>Frozen II</td>\n",
       "    </tr>\n",
       "    <tr>\n",
       "      <th>14</th>\n",
       "      <td>Jurassic World: Fallen Kingdom</td>\n",
       "    </tr>\n",
       "    <tr>\n",
       "      <th>15</th>\n",
       "      <td>Frozen</td>\n",
       "    </tr>\n",
       "    <tr>\n",
       "      <th>16</th>\n",
       "      <td>Beauty and the Beast</td>\n",
       "    </tr>\n",
       "    <tr>\n",
       "      <th>17</th>\n",
       "      <td>Incredibles 2</td>\n",
       "    </tr>\n",
       "  </tbody>\n",
       "</table>\n",
       "</div>"
      ],
      "text/plain": [
       "                                           title\n",
       "0                              Avengers: Endgame\n",
       "1                                         Avatar\n",
       "2                   Star Wars: The Force Awakens\n",
       "3                         Avengers: Infinity War\n",
       "4                                        Titanic\n",
       "5                                 Jurassic World\n",
       "6                                  The Lion King\n",
       "7                                   The Avengers\n",
       "8                                      Furious 7\n",
       "9                        Avengers: Age of Ultron\n",
       "10                                 Black Panther\n",
       "11  Harry Potter and the Deathly Hallows: Part 2\n",
       "12                      Star Wars: The Last Jedi\n",
       "13                                     Frozen II\n",
       "14                Jurassic World: Fallen Kingdom\n",
       "15                                        Frozen\n",
       "16                          Beauty and the Beast\n",
       "17                                 Incredibles 2"
      ]
     },
     "execution_count": 53,
     "metadata": {},
     "output_type": "execute_result"
    }
   ],
   "source": [
    "pd.read_sql(\"SELECT DISTINCT title FROM Movies\",con)"
   ]
  },
  {
   "cell_type": "code",
   "execution_count": 54,
   "metadata": {
    "execution": {
     "iopub.execute_input": "2020-09-13T13:34:32.505594Z",
     "iopub.status.busy": "2020-09-13T13:34:32.504624Z",
     "iopub.status.idle": "2020-09-13T13:34:32.523201Z",
     "shell.execute_reply": "2020-09-13T13:34:32.523714Z"
    },
    "papermill": {
     "duration": 0.086414,
     "end_time": "2020-09-13T13:34:32.523859",
     "exception": false,
     "start_time": "2020-09-13T13:34:32.437445",
     "status": "completed"
    },
    "tags": []
   },
   "outputs": [
    {
     "data": {
      "text/html": [
       "<div>\n",
       "<style scoped>\n",
       "    .dataframe tbody tr th:only-of-type {\n",
       "        vertical-align: middle;\n",
       "    }\n",
       "\n",
       "    .dataframe tbody tr th {\n",
       "        vertical-align: top;\n",
       "    }\n",
       "\n",
       "    .dataframe thead th {\n",
       "        text-align: right;\n",
       "    }\n",
       "</style>\n",
       "<table border=\"1\" class=\"dataframe\">\n",
       "  <thead>\n",
       "    <tr style=\"text-align: right;\">\n",
       "      <th></th>\n",
       "      <th>id</th>\n",
       "      <th>title</th>\n",
       "      <th>budget</th>\n",
       "      <th>revenue</th>\n",
       "      <th>belongs_to_collection_name</th>\n",
       "      <th>release_date</th>\n",
       "    </tr>\n",
       "  </thead>\n",
       "  <tbody>\n",
       "    <tr>\n",
       "      <th>0</th>\n",
       "      <td>299534</td>\n",
       "      <td>Avengers: Endgame</td>\n",
       "      <td>356.0</td>\n",
       "      <td>2797.800564</td>\n",
       "      <td>The Avengers Collection</td>\n",
       "      <td>2019-04-24 00:00:00</td>\n",
       "    </tr>\n",
       "    <tr>\n",
       "      <th>1</th>\n",
       "      <td>299536</td>\n",
       "      <td>Avengers: Infinity War</td>\n",
       "      <td>300.0</td>\n",
       "      <td>2046.239637</td>\n",
       "      <td>The Avengers Collection</td>\n",
       "      <td>2018-04-25 00:00:00</td>\n",
       "    </tr>\n",
       "    <tr>\n",
       "      <th>2</th>\n",
       "      <td>420818</td>\n",
       "      <td>The Lion King</td>\n",
       "      <td>260.0</td>\n",
       "      <td>1656.943394</td>\n",
       "      <td>None</td>\n",
       "      <td>2019-07-12 00:00:00</td>\n",
       "    </tr>\n",
       "    <tr>\n",
       "      <th>3</th>\n",
       "      <td>99861</td>\n",
       "      <td>Avengers: Age of Ultron</td>\n",
       "      <td>250.0</td>\n",
       "      <td>1405.403694</td>\n",
       "      <td>The Avengers Collection</td>\n",
       "      <td>2015-04-22 00:00:00</td>\n",
       "    </tr>\n",
       "    <tr>\n",
       "      <th>4</th>\n",
       "      <td>140607</td>\n",
       "      <td>Star Wars: The Force Awakens</td>\n",
       "      <td>245.0</td>\n",
       "      <td>2068.223624</td>\n",
       "      <td>Star Wars Collection</td>\n",
       "      <td>2015-12-15 00:00:00</td>\n",
       "    </tr>\n",
       "    <tr>\n",
       "      <th>5</th>\n",
       "      <td>19995</td>\n",
       "      <td>Avatar</td>\n",
       "      <td>237.0</td>\n",
       "      <td>2787.965087</td>\n",
       "      <td>Avatar Collection</td>\n",
       "      <td>2009-12-10 00:00:00</td>\n",
       "    </tr>\n",
       "    <tr>\n",
       "      <th>6</th>\n",
       "      <td>24428</td>\n",
       "      <td>The Avengers</td>\n",
       "      <td>220.0</td>\n",
       "      <td>1519.557910</td>\n",
       "      <td>The Avengers Collection</td>\n",
       "      <td>2012-04-25 00:00:00</td>\n",
       "    </tr>\n",
       "    <tr>\n",
       "      <th>7</th>\n",
       "      <td>597</td>\n",
       "      <td>Titanic</td>\n",
       "      <td>200.0</td>\n",
       "      <td>1845.034188</td>\n",
       "      <td>None</td>\n",
       "      <td>1997-11-18 00:00:00</td>\n",
       "    </tr>\n",
       "    <tr>\n",
       "      <th>8</th>\n",
       "      <td>284054</td>\n",
       "      <td>Black Panther</td>\n",
       "      <td>200.0</td>\n",
       "      <td>1346.739107</td>\n",
       "      <td>Black Panther Collection</td>\n",
       "      <td>2018-02-13 00:00:00</td>\n",
       "    </tr>\n",
       "    <tr>\n",
       "      <th>9</th>\n",
       "      <td>181808</td>\n",
       "      <td>Star Wars: The Last Jedi</td>\n",
       "      <td>200.0</td>\n",
       "      <td>1332.539889</td>\n",
       "      <td>Star Wars Collection</td>\n",
       "      <td>2017-12-13 00:00:00</td>\n",
       "    </tr>\n",
       "    <tr>\n",
       "      <th>10</th>\n",
       "      <td>260513</td>\n",
       "      <td>Incredibles 2</td>\n",
       "      <td>200.0</td>\n",
       "      <td>1241.891456</td>\n",
       "      <td>The Incredibles Collection</td>\n",
       "      <td>2018-06-14 00:00:00</td>\n",
       "    </tr>\n",
       "    <tr>\n",
       "      <th>11</th>\n",
       "      <td>168259</td>\n",
       "      <td>Furious 7</td>\n",
       "      <td>190.0</td>\n",
       "      <td>1515.047671</td>\n",
       "      <td>The Fast and the Furious Collection</td>\n",
       "      <td>2015-04-01 00:00:00</td>\n",
       "    </tr>\n",
       "    <tr>\n",
       "      <th>12</th>\n",
       "      <td>351286</td>\n",
       "      <td>Jurassic World: Fallen Kingdom</td>\n",
       "      <td>170.0</td>\n",
       "      <td>1303.459585</td>\n",
       "      <td>Jurassic Park Collection</td>\n",
       "      <td>2018-06-06 00:00:00</td>\n",
       "    </tr>\n",
       "    <tr>\n",
       "      <th>13</th>\n",
       "      <td>321612</td>\n",
       "      <td>Beauty and the Beast</td>\n",
       "      <td>160.0</td>\n",
       "      <td>1263.521126</td>\n",
       "      <td>None</td>\n",
       "      <td>2017-03-16 00:00:00</td>\n",
       "    </tr>\n",
       "    <tr>\n",
       "      <th>14</th>\n",
       "      <td>135397</td>\n",
       "      <td>Jurassic World</td>\n",
       "      <td>150.0</td>\n",
       "      <td>1671.713208</td>\n",
       "      <td>Jurassic Park Collection</td>\n",
       "      <td>2015-06-06 00:00:00</td>\n",
       "    </tr>\n",
       "    <tr>\n",
       "      <th>15</th>\n",
       "      <td>330457</td>\n",
       "      <td>Frozen II</td>\n",
       "      <td>150.0</td>\n",
       "      <td>1330.764959</td>\n",
       "      <td>Frozen Collection</td>\n",
       "      <td>2019-11-20 00:00:00</td>\n",
       "    </tr>\n",
       "    <tr>\n",
       "      <th>16</th>\n",
       "      <td>109445</td>\n",
       "      <td>Frozen</td>\n",
       "      <td>150.0</td>\n",
       "      <td>1274.219009</td>\n",
       "      <td>Frozen Collection</td>\n",
       "      <td>2013-11-27 00:00:00</td>\n",
       "    </tr>\n",
       "    <tr>\n",
       "      <th>17</th>\n",
       "      <td>12445</td>\n",
       "      <td>Harry Potter and the Deathly Hallows: Part 2</td>\n",
       "      <td>125.0</td>\n",
       "      <td>1341.511219</td>\n",
       "      <td>Harry Potter Collection</td>\n",
       "      <td>2011-07-07 00:00:00</td>\n",
       "    </tr>\n",
       "  </tbody>\n",
       "</table>\n",
       "</div>"
      ],
      "text/plain": [
       "        id                                         title  budget      revenue  \\\n",
       "0   299534                             Avengers: Endgame   356.0  2797.800564   \n",
       "1   299536                        Avengers: Infinity War   300.0  2046.239637   \n",
       "2   420818                                 The Lion King   260.0  1656.943394   \n",
       "3    99861                       Avengers: Age of Ultron   250.0  1405.403694   \n",
       "4   140607                  Star Wars: The Force Awakens   245.0  2068.223624   \n",
       "5    19995                                        Avatar   237.0  2787.965087   \n",
       "6    24428                                  The Avengers   220.0  1519.557910   \n",
       "7      597                                       Titanic   200.0  1845.034188   \n",
       "8   284054                                 Black Panther   200.0  1346.739107   \n",
       "9   181808                      Star Wars: The Last Jedi   200.0  1332.539889   \n",
       "10  260513                                 Incredibles 2   200.0  1241.891456   \n",
       "11  168259                                     Furious 7   190.0  1515.047671   \n",
       "12  351286                Jurassic World: Fallen Kingdom   170.0  1303.459585   \n",
       "13  321612                          Beauty and the Beast   160.0  1263.521126   \n",
       "14  135397                                Jurassic World   150.0  1671.713208   \n",
       "15  330457                                     Frozen II   150.0  1330.764959   \n",
       "16  109445                                        Frozen   150.0  1274.219009   \n",
       "17   12445  Harry Potter and the Deathly Hallows: Part 2   125.0  1341.511219   \n",
       "\n",
       "             belongs_to_collection_name         release_date  \n",
       "0               The Avengers Collection  2019-04-24 00:00:00  \n",
       "1               The Avengers Collection  2018-04-25 00:00:00  \n",
       "2                                  None  2019-07-12 00:00:00  \n",
       "3               The Avengers Collection  2015-04-22 00:00:00  \n",
       "4                  Star Wars Collection  2015-12-15 00:00:00  \n",
       "5                     Avatar Collection  2009-12-10 00:00:00  \n",
       "6               The Avengers Collection  2012-04-25 00:00:00  \n",
       "7                                  None  1997-11-18 00:00:00  \n",
       "8              Black Panther Collection  2018-02-13 00:00:00  \n",
       "9                  Star Wars Collection  2017-12-13 00:00:00  \n",
       "10           The Incredibles Collection  2018-06-14 00:00:00  \n",
       "11  The Fast and the Furious Collection  2015-04-01 00:00:00  \n",
       "12             Jurassic Park Collection  2018-06-06 00:00:00  \n",
       "13                                 None  2017-03-16 00:00:00  \n",
       "14             Jurassic Park Collection  2015-06-06 00:00:00  \n",
       "15                    Frozen Collection  2019-11-20 00:00:00  \n",
       "16                    Frozen Collection  2013-11-27 00:00:00  \n",
       "17              Harry Potter Collection  2011-07-07 00:00:00  "
      ]
     },
     "execution_count": 54,
     "metadata": {},
     "output_type": "execute_result"
    }
   ],
   "source": [
    "pd.read_sql(\"SELECT * FROM Movies ORDER BY budget DESC\",con)"
   ]
  },
  {
   "cell_type": "code",
   "execution_count": 55,
   "metadata": {
    "execution": {
     "iopub.execute_input": "2020-09-13T13:34:32.670159Z",
     "iopub.status.busy": "2020-09-13T13:34:32.669457Z",
     "iopub.status.idle": "2020-09-13T13:34:32.683459Z",
     "shell.execute_reply": "2020-09-13T13:34:32.683935Z"
    },
    "papermill": {
     "duration": 0.096054,
     "end_time": "2020-09-13T13:34:32.684086",
     "exception": false,
     "start_time": "2020-09-13T13:34:32.588032",
     "status": "completed"
    },
    "tags": []
   },
   "outputs": [
    {
     "data": {
      "text/html": [
       "<div>\n",
       "<style scoped>\n",
       "    .dataframe tbody tr th:only-of-type {\n",
       "        vertical-align: middle;\n",
       "    }\n",
       "\n",
       "    .dataframe tbody tr th {\n",
       "        vertical-align: top;\n",
       "    }\n",
       "\n",
       "    .dataframe thead th {\n",
       "        text-align: right;\n",
       "    }\n",
       "</style>\n",
       "<table border=\"1\" class=\"dataframe\">\n",
       "  <thead>\n",
       "    <tr style=\"text-align: right;\">\n",
       "      <th></th>\n",
       "      <th>id</th>\n",
       "      <th>title</th>\n",
       "      <th>budget</th>\n",
       "      <th>revenue</th>\n",
       "      <th>belongs_to_collection_name</th>\n",
       "      <th>release_date</th>\n",
       "    </tr>\n",
       "  </thead>\n",
       "  <tbody>\n",
       "    <tr>\n",
       "      <th>0</th>\n",
       "      <td>597</td>\n",
       "      <td>Titanic</td>\n",
       "      <td>200.0</td>\n",
       "      <td>1845.034188</td>\n",
       "      <td>None</td>\n",
       "      <td>1997-11-18 00:00:00</td>\n",
       "    </tr>\n",
       "    <tr>\n",
       "      <th>1</th>\n",
       "      <td>420818</td>\n",
       "      <td>The Lion King</td>\n",
       "      <td>260.0</td>\n",
       "      <td>1656.943394</td>\n",
       "      <td>None</td>\n",
       "      <td>2019-07-12 00:00:00</td>\n",
       "    </tr>\n",
       "    <tr>\n",
       "      <th>2</th>\n",
       "      <td>321612</td>\n",
       "      <td>Beauty and the Beast</td>\n",
       "      <td>160.0</td>\n",
       "      <td>1263.521126</td>\n",
       "      <td>None</td>\n",
       "      <td>2017-03-16 00:00:00</td>\n",
       "    </tr>\n",
       "  </tbody>\n",
       "</table>\n",
       "</div>"
      ],
      "text/plain": [
       "       id                 title  budget      revenue  \\\n",
       "0     597               Titanic   200.0  1845.034188   \n",
       "1  420818         The Lion King   260.0  1656.943394   \n",
       "2  321612  Beauty and the Beast   160.0  1263.521126   \n",
       "\n",
       "  belongs_to_collection_name         release_date  \n",
       "0                       None  1997-11-18 00:00:00  \n",
       "1                       None  2019-07-12 00:00:00  \n",
       "2                       None  2017-03-16 00:00:00  "
      ]
     },
     "execution_count": 55,
     "metadata": {},
     "output_type": "execute_result"
    }
   ],
   "source": [
    "pd.read_sql(\"SELECT * FROM Movies WHERE belongs_to_collection_name is NULL\",con)"
   ]
  },
  {
   "cell_type": "code",
   "execution_count": 56,
   "metadata": {
    "execution": {
     "iopub.execute_input": "2020-09-13T13:34:32.819169Z",
     "iopub.status.busy": "2020-09-13T13:34:32.818216Z",
     "iopub.status.idle": "2020-09-13T13:34:32.823477Z",
     "shell.execute_reply": "2020-09-13T13:34:32.822773Z"
    },
    "papermill": {
     "duration": 0.07511,
     "end_time": "2020-09-13T13:34:32.823594",
     "exception": false,
     "start_time": "2020-09-13T13:34:32.748484",
     "status": "completed"
    },
    "tags": []
   },
   "outputs": [],
   "source": [
    "#pd.read_sql(\"SELECT * FROM Movies WHERE belongs_to_collection_name is IS NOT NULL\",con)"
   ]
  },
  {
   "cell_type": "code",
   "execution_count": 57,
   "metadata": {
    "execution": {
     "iopub.execute_input": "2020-09-13T13:34:32.960998Z",
     "iopub.status.busy": "2020-09-13T13:34:32.960274Z",
     "iopub.status.idle": "2020-09-13T13:34:32.975595Z",
     "shell.execute_reply": "2020-09-13T13:34:32.976158Z"
    },
    "papermill": {
     "duration": 0.086912,
     "end_time": "2020-09-13T13:34:32.976316",
     "exception": false,
     "start_time": "2020-09-13T13:34:32.889404",
     "status": "completed"
    },
    "tags": []
   },
   "outputs": [
    {
     "data": {
      "text/html": [
       "<div>\n",
       "<style scoped>\n",
       "    .dataframe tbody tr th:only-of-type {\n",
       "        vertical-align: middle;\n",
       "    }\n",
       "\n",
       "    .dataframe tbody tr th {\n",
       "        vertical-align: top;\n",
       "    }\n",
       "\n",
       "    .dataframe thead th {\n",
       "        text-align: right;\n",
       "    }\n",
       "</style>\n",
       "<table border=\"1\" class=\"dataframe\">\n",
       "  <thead>\n",
       "    <tr style=\"text-align: right;\">\n",
       "      <th></th>\n",
       "      <th>id</th>\n",
       "      <th>title</th>\n",
       "      <th>budget</th>\n",
       "      <th>revenue</th>\n",
       "      <th>belongs_to_collection_name</th>\n",
       "      <th>release_date</th>\n",
       "    </tr>\n",
       "  </thead>\n",
       "  <tbody>\n",
       "    <tr>\n",
       "      <th>0</th>\n",
       "      <td>299534</td>\n",
       "      <td>Avengers: Endgame</td>\n",
       "      <td>356.0</td>\n",
       "      <td>2797.800564</td>\n",
       "      <td>The Avengers Collection</td>\n",
       "      <td>2019-04-24 00:00:00</td>\n",
       "    </tr>\n",
       "    <tr>\n",
       "      <th>1</th>\n",
       "      <td>299536</td>\n",
       "      <td>Avengers: Infinity War</td>\n",
       "      <td>300.0</td>\n",
       "      <td>2046.239637</td>\n",
       "      <td>The Avengers Collection</td>\n",
       "      <td>2018-04-25 00:00:00</td>\n",
       "    </tr>\n",
       "    <tr>\n",
       "      <th>2</th>\n",
       "      <td>99861</td>\n",
       "      <td>Avengers: Age of Ultron</td>\n",
       "      <td>250.0</td>\n",
       "      <td>1405.403694</td>\n",
       "      <td>The Avengers Collection</td>\n",
       "      <td>2015-04-22 00:00:00</td>\n",
       "    </tr>\n",
       "  </tbody>\n",
       "</table>\n",
       "</div>"
      ],
      "text/plain": [
       "       id                    title  budget      revenue  \\\n",
       "0  299534        Avengers: Endgame   356.0  2797.800564   \n",
       "1  299536   Avengers: Infinity War   300.0  2046.239637   \n",
       "2   99861  Avengers: Age of Ultron   250.0  1405.403694   \n",
       "\n",
       "  belongs_to_collection_name         release_date  \n",
       "0    The Avengers Collection  2019-04-24 00:00:00  \n",
       "1    The Avengers Collection  2018-04-25 00:00:00  \n",
       "2    The Avengers Collection  2015-04-22 00:00:00  "
      ]
     },
     "execution_count": 57,
     "metadata": {},
     "output_type": "execute_result"
    }
   ],
   "source": [
    "pd.read_sql(\"SELECT * FROM Movies WHERE title LIKE 'Avengers%'\",con)"
   ]
  },
  {
   "cell_type": "code",
   "execution_count": 58,
   "metadata": {
    "execution": {
     "iopub.execute_input": "2020-09-13T13:34:33.113419Z",
     "iopub.status.busy": "2020-09-13T13:34:33.112772Z",
     "iopub.status.idle": "2020-09-13T13:34:33.116315Z",
     "shell.execute_reply": "2020-09-13T13:34:33.115652Z"
    },
    "papermill": {
     "duration": 0.074017,
     "end_time": "2020-09-13T13:34:33.116440",
     "exception": false,
     "start_time": "2020-09-13T13:34:33.042423",
     "status": "completed"
    },
    "tags": []
   },
   "outputs": [],
   "source": [
    "con.close()"
   ]
  },
  {
   "cell_type": "code",
   "execution_count": null,
   "metadata": {
    "papermill": {
     "duration": 0.065679,
     "end_time": "2020-09-13T13:34:33.248104",
     "exception": false,
     "start_time": "2020-09-13T13:34:33.182425",
     "status": "completed"
    },
    "tags": []
   },
   "outputs": [],
   "source": []
  }
 ],
 "metadata": {
  "kernelspec": {
   "display_name": "Python 3",
   "language": "python",
   "name": "python3"
  },
  "language_info": {
   "codemirror_mode": {
    "name": "ipython",
    "version": 3
   },
   "file_extension": ".py",
   "mimetype": "text/x-python",
   "name": "python",
   "nbconvert_exporter": "python",
   "pygments_lexer": "ipython3",
   "version": "3.7.6"
  },
  "papermill": {
   "duration": 13.707327,
   "end_time": "2020-09-13T13:34:33.422859",
   "environment_variables": {},
   "exception": null,
   "input_path": "__notebook__.ipynb",
   "output_path": "__notebook__.ipynb",
   "parameters": {},
   "start_time": "2020-09-13T13:34:19.715532",
   "version": "2.1.0"
  }
 },
 "nbformat": 4,
 "nbformat_minor": 4
}
