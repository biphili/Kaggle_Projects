{
 "cells": [
  {
   "cell_type": "markdown",
   "metadata": {
    "papermill": {
     "duration": 0.021163,
     "end_time": "2021-01-29T09:13:51.536904",
     "exception": false,
     "start_time": "2021-01-29T09:13:51.515741",
     "status": "completed"
    },
    "tags": []
   },
   "source": [
    "# During the lockdown I published my first book titled Inspiration:Thoughts on Spirituality,Technology,Wealth,Leadership and Motivation.The preview of the book can be read from the Amazon link https://lnkd.in/gj7bMQA\n",
    "# E Book is availabe for Rs 99 in India.Paperback Edition of the book is available on Amazon.com link https://lnkd.in/gkFYYMJ\n"
   ]
  },
  {
   "cell_type": "markdown",
   "metadata": {
    "papermill": {
     "duration": 0.018836,
     "end_time": "2021-01-29T09:13:51.575305",
     "exception": false,
     "start_time": "2021-01-29T09:13:51.556469",
     "status": "completed"
    },
    "tags": []
   },
   "source": [
    "Any machine learning algorithm has many hyperparameters.Many people generally use the default values for the hyper parameters.But if we can optimise these hyper parameters then we wll be in a position to further improve the performance of our machine learning models.In this notebooks we will cover following things \n",
    "\n",
    "1.Data Import \n",
    "\n",
    "2.Data Preparation \n",
    "\n",
    "3.Building a Random Forest Model \n",
    "\n",
    "4.Hyper Parameter tuning using Grid Search \n",
    "\n",
    "5.Creating dataframe and Pivot table of hyperparameter and accuracy \n",
    "\n",
    "6.2D and 3D Plot of Hyper parameters\n",
    "\n",
    "7.Conclusion\n",
    "\n",
    "If you like the notebook please do vote."
   ]
  },
  {
   "cell_type": "code",
   "execution_count": 1,
   "metadata": {
    "_cell_guid": "b1076dfc-b9ad-4769-8c92-a6c4dae69d19",
    "_kg_hide-input": true,
    "_uuid": "8f2839f25d086af736a60e9eeb907d3b93b6e0e5",
    "execution": {
     "iopub.execute_input": "2021-01-29T09:13:51.619186Z",
     "iopub.status.busy": "2021-01-29T09:13:51.618454Z",
     "iopub.status.idle": "2021-01-29T09:13:51.632845Z",
     "shell.execute_reply": "2021-01-29T09:13:51.633469Z"
    },
    "papermill": {
     "duration": 0.038421,
     "end_time": "2021-01-29T09:13:51.633785",
     "exception": false,
     "start_time": "2021-01-29T09:13:51.595364",
     "status": "completed"
    },
    "tags": []
   },
   "outputs": [
    {
     "name": "stdout",
     "output_type": "stream",
     "text": [
      "/kaggle/input/banknote-authentication-uci/BankNoteAuthentication.csv\n"
     ]
    }
   ],
   "source": [
    "# This Python 3 environment comes with many helpful analytics libraries installed\n",
    "# It is defined by the kaggle/python Docker image: https://github.com/kaggle/docker-python\n",
    "# For example, here's several helpful packages to load\n",
    "\n",
    "import numpy as np # linear algebra\n",
    "import pandas as pd # data processing, CSV file I/O (e.g. pd.read_csv)\n",
    "\n",
    "# Input data files are available in the read-only \"../input/\" directory\n",
    "# For example, running this (by clicking run or pressing Shift+Enter) will list all files under the input directory\n",
    "\n",
    "import os\n",
    "for dirname, _, filenames in os.walk('/kaggle/input'):\n",
    "    for filename in filenames:\n",
    "        print(os.path.join(dirname, filename))\n",
    "\n",
    "# You can write up to 20GB to the current directory (/kaggle/working/) that gets preserved as output when you create a version using \"Save & Run All\" \n",
    "# You can also write temporary files to /kaggle/temp/, but they won't be saved outside of the current session"
   ]
  },
  {
   "cell_type": "markdown",
   "metadata": {
    "papermill": {
     "duration": 0.019522,
     "end_time": "2021-01-29T09:13:51.674163",
     "exception": false,
     "start_time": "2021-01-29T09:13:51.654641",
     "status": "completed"
    },
    "tags": []
   },
   "source": [
    "# 1.Data Import "
   ]
  },
  {
   "cell_type": "code",
   "execution_count": 2,
   "metadata": {
    "_kg_hide-input": true,
    "execution": {
     "iopub.execute_input": "2021-01-29T09:13:51.720495Z",
     "iopub.status.busy": "2021-01-29T09:13:51.719794Z",
     "iopub.status.idle": "2021-01-29T09:13:51.763912Z",
     "shell.execute_reply": "2021-01-29T09:13:51.764481Z"
    },
    "papermill": {
     "duration": 0.070661,
     "end_time": "2021-01-29T09:13:51.764658",
     "exception": false,
     "start_time": "2021-01-29T09:13:51.693997",
     "status": "completed"
    },
    "tags": []
   },
   "outputs": [
    {
     "data": {
      "text/html": [
       "<div>\n",
       "<style scoped>\n",
       "    .dataframe tbody tr th:only-of-type {\n",
       "        vertical-align: middle;\n",
       "    }\n",
       "\n",
       "    .dataframe tbody tr th {\n",
       "        vertical-align: top;\n",
       "    }\n",
       "\n",
       "    .dataframe thead th {\n",
       "        text-align: right;\n",
       "    }\n",
       "</style>\n",
       "<table border=\"1\" class=\"dataframe\">\n",
       "  <thead>\n",
       "    <tr style=\"text-align: right;\">\n",
       "      <th></th>\n",
       "      <th>variance</th>\n",
       "      <th>skewness</th>\n",
       "      <th>curtosis</th>\n",
       "      <th>entropy</th>\n",
       "      <th>class</th>\n",
       "    </tr>\n",
       "  </thead>\n",
       "  <tbody>\n",
       "    <tr>\n",
       "      <th>0</th>\n",
       "      <td>3.62160</td>\n",
       "      <td>8.6661</td>\n",
       "      <td>-2.8073</td>\n",
       "      <td>-0.44699</td>\n",
       "      <td>0</td>\n",
       "    </tr>\n",
       "    <tr>\n",
       "      <th>1</th>\n",
       "      <td>4.54590</td>\n",
       "      <td>8.1674</td>\n",
       "      <td>-2.4586</td>\n",
       "      <td>-1.46210</td>\n",
       "      <td>0</td>\n",
       "    </tr>\n",
       "    <tr>\n",
       "      <th>2</th>\n",
       "      <td>3.86600</td>\n",
       "      <td>-2.6383</td>\n",
       "      <td>1.9242</td>\n",
       "      <td>0.10645</td>\n",
       "      <td>0</td>\n",
       "    </tr>\n",
       "    <tr>\n",
       "      <th>3</th>\n",
       "      <td>3.45660</td>\n",
       "      <td>9.5228</td>\n",
       "      <td>-4.0112</td>\n",
       "      <td>-3.59440</td>\n",
       "      <td>0</td>\n",
       "    </tr>\n",
       "    <tr>\n",
       "      <th>4</th>\n",
       "      <td>0.32924</td>\n",
       "      <td>-4.4552</td>\n",
       "      <td>4.5718</td>\n",
       "      <td>-0.98880</td>\n",
       "      <td>0</td>\n",
       "    </tr>\n",
       "  </tbody>\n",
       "</table>\n",
       "</div>"
      ],
      "text/plain": [
       "   variance  skewness  curtosis  entropy  class\n",
       "0   3.62160    8.6661   -2.8073 -0.44699      0\n",
       "1   4.54590    8.1674   -2.4586 -1.46210      0\n",
       "2   3.86600   -2.6383    1.9242  0.10645      0\n",
       "3   3.45660    9.5228   -4.0112 -3.59440      0\n",
       "4   0.32924   -4.4552    4.5718 -0.98880      0"
      ]
     },
     "execution_count": 2,
     "metadata": {},
     "output_type": "execute_result"
    }
   ],
   "source": [
    "df = pd.read_csv(\"../input/banknote-authentication-uci/BankNoteAuthentication.csv\")\n",
    "df.head()"
   ]
  },
  {
   "cell_type": "markdown",
   "metadata": {
    "papermill": {
     "duration": 0.019883,
     "end_time": "2021-01-29T09:13:51.806096",
     "exception": false,
     "start_time": "2021-01-29T09:13:51.786213",
     "status": "completed"
    },
    "tags": []
   },
   "source": [
    "# 2.Data Prearations"
   ]
  },
  {
   "cell_type": "markdown",
   "metadata": {
    "papermill": {
     "duration": 0.020185,
     "end_time": "2021-01-29T09:13:51.847669",
     "exception": false,
     "start_time": "2021-01-29T09:13:51.827484",
     "status": "completed"
    },
    "tags": []
   },
   "source": [
    "### 2.1 Creating Matrix of Features"
   ]
  },
  {
   "cell_type": "code",
   "execution_count": 3,
   "metadata": {
    "_kg_hide-input": true,
    "execution": {
     "iopub.execute_input": "2021-01-29T09:13:51.893001Z",
     "iopub.status.busy": "2021-01-29T09:13:51.891993Z",
     "iopub.status.idle": "2021-01-29T09:13:51.897041Z",
     "shell.execute_reply": "2021-01-29T09:13:51.897520Z"
    },
    "papermill": {
     "duration": 0.029124,
     "end_time": "2021-01-29T09:13:51.897723",
     "exception": false,
     "start_time": "2021-01-29T09:13:51.868599",
     "status": "completed"
    },
    "tags": []
   },
   "outputs": [],
   "source": [
    "X = df.iloc[:,:-1]\n",
    "y = df.iloc[:,-1]"
   ]
  },
  {
   "cell_type": "markdown",
   "metadata": {
    "papermill": {
     "duration": 0.020147,
     "end_time": "2021-01-29T09:13:51.938186",
     "exception": false,
     "start_time": "2021-01-29T09:13:51.918039",
     "status": "completed"
    },
    "tags": []
   },
   "source": [
    "### 2.2 Examining the Shape of Data "
   ]
  },
  {
   "cell_type": "code",
   "execution_count": 4,
   "metadata": {
    "_kg_hide-input": true,
    "execution": {
     "iopub.execute_input": "2021-01-29T09:13:51.982993Z",
     "iopub.status.busy": "2021-01-29T09:13:51.981840Z",
     "iopub.status.idle": "2021-01-29T09:13:51.987261Z",
     "shell.execute_reply": "2021-01-29T09:13:51.987762Z"
    },
    "papermill": {
     "duration": 0.029444,
     "end_time": "2021-01-29T09:13:51.987945",
     "exception": false,
     "start_time": "2021-01-29T09:13:51.958501",
     "status": "completed"
    },
    "tags": []
   },
   "outputs": [
    {
     "data": {
      "text/plain": [
       "(1372, 5)"
      ]
     },
     "execution_count": 4,
     "metadata": {},
     "output_type": "execute_result"
    }
   ],
   "source": [
    "df.shape"
   ]
  },
  {
   "cell_type": "markdown",
   "metadata": {
    "papermill": {
     "duration": 0.020339,
     "end_time": "2021-01-29T09:13:52.029098",
     "exception": false,
     "start_time": "2021-01-29T09:13:52.008759",
     "status": "completed"
    },
    "tags": []
   },
   "source": [
    "### 2.3 Test Train Split "
   ]
  },
  {
   "cell_type": "code",
   "execution_count": 5,
   "metadata": {
    "_kg_hide-input": true,
    "execution": {
     "iopub.execute_input": "2021-01-29T09:13:52.074734Z",
     "iopub.status.busy": "2021-01-29T09:13:52.073718Z",
     "iopub.status.idle": "2021-01-29T09:13:53.064459Z",
     "shell.execute_reply": "2021-01-29T09:13:53.064970Z"
    },
    "papermill": {
     "duration": 1.015197,
     "end_time": "2021-01-29T09:13:53.065163",
     "exception": false,
     "start_time": "2021-01-29T09:13:52.049966",
     "status": "completed"
    },
    "tags": []
   },
   "outputs": [],
   "source": [
    "from sklearn.model_selection import train_test_split\n",
    "X_train,X_test,y_train,y_test = train_test_split(X,y,test_size=0.2,random_state=0)"
   ]
  },
  {
   "cell_type": "markdown",
   "metadata": {
    "papermill": {
     "duration": 0.021318,
     "end_time": "2021-01-29T09:13:53.108085",
     "exception": false,
     "start_time": "2021-01-29T09:13:53.086767",
     "status": "completed"
    },
    "tags": []
   },
   "source": [
    "# 3.Model Build\n",
    "\n",
    "We will be building up Random Forest model to classify Bank notes.We will be considering n_estimators and max_features hyper parameters while building up our Random Forest Model."
   ]
  },
  {
   "cell_type": "code",
   "execution_count": 6,
   "metadata": {
    "_kg_hide-input": true,
    "execution": {
     "iopub.execute_input": "2021-01-29T09:13:53.157114Z",
     "iopub.status.busy": "2021-01-29T09:13:53.156109Z",
     "iopub.status.idle": "2021-01-29T09:13:53.526436Z",
     "shell.execute_reply": "2021-01-29T09:13:53.526954Z"
    },
    "papermill": {
     "duration": 0.396489,
     "end_time": "2021-01-29T09:13:53.527161",
     "exception": false,
     "start_time": "2021-01-29T09:13:53.130672",
     "status": "completed"
    },
    "tags": []
   },
   "outputs": [],
   "source": [
    "from sklearn.ensemble import RandomForestClassifier\n",
    "from sklearn.metrics import accuracy_score\n",
    "\n",
    "rf = RandomForestClassifier(max_features=4,n_estimators=100)"
   ]
  },
  {
   "cell_type": "code",
   "execution_count": 7,
   "metadata": {
    "_kg_hide-input": true,
    "execution": {
     "iopub.execute_input": "2021-01-29T09:13:53.575504Z",
     "iopub.status.busy": "2021-01-29T09:13:53.574475Z",
     "iopub.status.idle": "2021-01-29T09:13:53.922841Z",
     "shell.execute_reply": "2021-01-29T09:13:53.922280Z"
    },
    "papermill": {
     "duration": 0.373267,
     "end_time": "2021-01-29T09:13:53.922994",
     "exception": false,
     "start_time": "2021-01-29T09:13:53.549727",
     "status": "completed"
    },
    "tags": []
   },
   "outputs": [
    {
     "data": {
      "text/plain": [
       "RandomForestClassifier(max_features=4)"
      ]
     },
     "execution_count": 7,
     "metadata": {},
     "output_type": "execute_result"
    }
   ],
   "source": [
    "rf.fit(X_train,y_train)"
   ]
  },
  {
   "cell_type": "code",
   "execution_count": 8,
   "metadata": {
    "_kg_hide-input": true,
    "execution": {
     "iopub.execute_input": "2021-01-29T09:13:53.975589Z",
     "iopub.status.busy": "2021-01-29T09:13:53.974402Z",
     "iopub.status.idle": "2021-01-29T09:13:53.994236Z",
     "shell.execute_reply": "2021-01-29T09:13:53.993549Z"
    },
    "papermill": {
     "duration": 0.049646,
     "end_time": "2021-01-29T09:13:53.994412",
     "exception": false,
     "start_time": "2021-01-29T09:13:53.944766",
     "status": "completed"
    },
    "tags": []
   },
   "outputs": [
    {
     "data": {
      "text/plain": [
       "0.9927272727272727"
      ]
     },
     "execution_count": 8,
     "metadata": {},
     "output_type": "execute_result"
    }
   ],
   "source": [
    "rf.score(X_test,y_test)"
   ]
  },
  {
   "cell_type": "code",
   "execution_count": 9,
   "metadata": {
    "_kg_hide-input": true,
    "execution": {
     "iopub.execute_input": "2021-01-29T09:13:54.047361Z",
     "iopub.status.busy": "2021-01-29T09:13:54.046208Z",
     "iopub.status.idle": "2021-01-29T09:13:54.062766Z",
     "shell.execute_reply": "2021-01-29T09:13:54.062018Z"
    },
    "papermill": {
     "duration": 0.046344,
     "end_time": "2021-01-29T09:13:54.063024",
     "exception": false,
     "start_time": "2021-01-29T09:13:54.016680",
     "status": "completed"
    },
    "tags": []
   },
   "outputs": [],
   "source": [
    "y_pred = rf.predict(X_test)"
   ]
  },
  {
   "cell_type": "code",
   "execution_count": 10,
   "metadata": {
    "_kg_hide-input": true,
    "execution": {
     "iopub.execute_input": "2021-01-29T09:13:54.113810Z",
     "iopub.status.busy": "2021-01-29T09:13:54.113035Z",
     "iopub.status.idle": "2021-01-29T09:13:54.120735Z",
     "shell.execute_reply": "2021-01-29T09:13:54.120152Z"
    },
    "papermill": {
     "duration": 0.035107,
     "end_time": "2021-01-29T09:13:54.120881",
     "exception": false,
     "start_time": "2021-01-29T09:13:54.085774",
     "status": "completed"
    },
    "tags": []
   },
   "outputs": [
    {
     "data": {
      "text/plain": [
       "0.9927272727272727"
      ]
     },
     "execution_count": 10,
     "metadata": {},
     "output_type": "execute_result"
    }
   ],
   "source": [
    "accuracy_score(y_pred,y_test)"
   ]
  },
  {
   "cell_type": "markdown",
   "metadata": {
    "papermill": {
     "duration": 0.022697,
     "end_time": "2021-01-29T09:13:54.166468",
     "exception": false,
     "start_time": "2021-01-29T09:13:54.143771",
     "status": "completed"
    },
    "tags": []
   },
   "source": [
    "Using the second approach we have access to predicted data values"
   ]
  },
  {
   "cell_type": "code",
   "execution_count": 11,
   "metadata": {
    "_kg_hide-input": true,
    "execution": {
     "iopub.execute_input": "2021-01-29T09:13:54.217795Z",
     "iopub.status.busy": "2021-01-29T09:13:54.217004Z",
     "iopub.status.idle": "2021-01-29T09:13:54.219472Z",
     "shell.execute_reply": "2021-01-29T09:13:54.219928Z"
    },
    "papermill": {
     "duration": 0.030283,
     "end_time": "2021-01-29T09:13:54.220209",
     "exception": false,
     "start_time": "2021-01-29T09:13:54.189926",
     "status": "completed"
    },
    "tags": []
   },
   "outputs": [],
   "source": [
    "#y_pred,y_test"
   ]
  },
  {
   "cell_type": "markdown",
   "metadata": {
    "papermill": {
     "duration": 0.023205,
     "end_time": "2021-01-29T09:13:54.266509",
     "exception": false,
     "start_time": "2021-01-29T09:13:54.243304",
     "status": "completed"
    },
    "tags": []
   },
   "source": [
    "# 4.Hyperparameter Tuning "
   ]
  },
  {
   "cell_type": "code",
   "execution_count": 12,
   "metadata": {
    "_kg_hide-input": true,
    "execution": {
     "iopub.execute_input": "2021-01-29T09:13:54.315709Z",
     "iopub.status.busy": "2021-01-29T09:13:54.314910Z",
     "iopub.status.idle": "2021-01-29T09:13:54.320763Z",
     "shell.execute_reply": "2021-01-29T09:13:54.321308Z"
    },
    "papermill": {
     "duration": 0.032151,
     "end_time": "2021-01-29T09:13:54.321509",
     "exception": false,
     "start_time": "2021-01-29T09:13:54.289358",
     "status": "completed"
    },
    "tags": []
   },
   "outputs": [],
   "source": [
    "from sklearn.model_selection import GridSearchCV\n",
    "\n",
    "max_features_range = np.arange(1,5,1)\n",
    "n_estimators_range = np.arange(10,201,10)\n",
    "param_grid = dict(max_features=max_features_range,n_estimators=n_estimators_range)\n",
    "\n",
    "rd = RandomForestClassifier()\n",
    "    \n",
    "grid = GridSearchCV(estimator=rf,param_grid=param_grid,cv=5)"
   ]
  },
  {
   "cell_type": "code",
   "execution_count": 13,
   "metadata": {
    "_kg_hide-input": true,
    "execution": {
     "iopub.execute_input": "2021-01-29T09:13:54.371504Z",
     "iopub.status.busy": "2021-01-29T09:13:54.370760Z",
     "iopub.status.idle": "2021-01-29T09:15:47.814933Z",
     "shell.execute_reply": "2021-01-29T09:15:47.815461Z"
    },
    "papermill": {
     "duration": 113.470938,
     "end_time": "2021-01-29T09:15:47.815660",
     "exception": false,
     "start_time": "2021-01-29T09:13:54.344722",
     "status": "completed"
    },
    "tags": []
   },
   "outputs": [
    {
     "data": {
      "text/plain": [
       "GridSearchCV(cv=5, estimator=RandomForestClassifier(max_features=4),\n",
       "             param_grid={'max_features': array([1, 2, 3, 4]),\n",
       "                         'n_estimators': array([ 10,  20,  30,  40,  50,  60,  70,  80,  90, 100, 110, 120, 130,\n",
       "       140, 150, 160, 170, 180, 190, 200])})"
      ]
     },
     "execution_count": 13,
     "metadata": {},
     "output_type": "execute_result"
    }
   ],
   "source": [
    "grid.fit(X_train,y_train)"
   ]
  },
  {
   "cell_type": "code",
   "execution_count": 14,
   "metadata": {
    "_kg_hide-input": true,
    "execution": {
     "iopub.execute_input": "2021-01-29T09:15:47.866944Z",
     "iopub.status.busy": "2021-01-29T09:15:47.865910Z",
     "iopub.status.idle": "2021-01-29T09:15:47.872528Z",
     "shell.execute_reply": "2021-01-29T09:15:47.871841Z"
    },
    "papermill": {
     "duration": 0.033869,
     "end_time": "2021-01-29T09:15:47.872678",
     "exception": false,
     "start_time": "2021-01-29T09:15:47.838809",
     "status": "completed"
    },
    "tags": []
   },
   "outputs": [
    {
     "name": "stdout",
     "output_type": "stream",
     "text": [
      "The best parameters are {'max_features': 2, 'n_estimators': 200} with a score of 0.99\n"
     ]
    }
   ],
   "source": [
    "print(\"The best parameters are %s with a score of %0.2f\"\n",
    "      % (grid.best_params_,grid.best_score_))"
   ]
  },
  {
   "cell_type": "markdown",
   "metadata": {
    "papermill": {
     "duration": 0.023908,
     "end_time": "2021-01-29T09:15:47.920911",
     "exception": false,
     "start_time": "2021-01-29T09:15:47.897003",
     "status": "completed"
    },
    "tags": []
   },
   "source": [
    "# 5.Dataframe of the Grid Search Parameters and Accuracy Scores"
   ]
  },
  {
   "cell_type": "code",
   "execution_count": 15,
   "metadata": {
    "_kg_hide-input": true,
    "execution": {
     "iopub.execute_input": "2021-01-29T09:15:47.983934Z",
     "iopub.status.busy": "2021-01-29T09:15:47.982922Z",
     "iopub.status.idle": "2021-01-29T09:15:47.987285Z",
     "shell.execute_reply": "2021-01-29T09:15:47.986798Z"
    },
    "papermill": {
     "duration": 0.04194,
     "end_time": "2021-01-29T09:15:47.987451",
     "exception": false,
     "start_time": "2021-01-29T09:15:47.945511",
     "status": "completed"
    },
    "tags": []
   },
   "outputs": [
    {
     "data": {
      "text/html": [
       "<div>\n",
       "<style scoped>\n",
       "    .dataframe tbody tr th:only-of-type {\n",
       "        vertical-align: middle;\n",
       "    }\n",
       "\n",
       "    .dataframe tbody tr th {\n",
       "        vertical-align: top;\n",
       "    }\n",
       "\n",
       "    .dataframe thead th {\n",
       "        text-align: right;\n",
       "    }\n",
       "</style>\n",
       "<table border=\"1\" class=\"dataframe\">\n",
       "  <thead>\n",
       "    <tr style=\"text-align: right;\">\n",
       "      <th></th>\n",
       "      <th>max_features</th>\n",
       "      <th>n_estimators</th>\n",
       "      <th>Accuracy</th>\n",
       "    </tr>\n",
       "  </thead>\n",
       "  <tbody>\n",
       "    <tr>\n",
       "      <th>0</th>\n",
       "      <td>1</td>\n",
       "      <td>10</td>\n",
       "      <td>0.989975</td>\n",
       "    </tr>\n",
       "    <tr>\n",
       "      <th>1</th>\n",
       "      <td>1</td>\n",
       "      <td>20</td>\n",
       "      <td>0.986343</td>\n",
       "    </tr>\n",
       "    <tr>\n",
       "      <th>2</th>\n",
       "      <td>1</td>\n",
       "      <td>30</td>\n",
       "      <td>0.990888</td>\n",
       "    </tr>\n",
       "    <tr>\n",
       "      <th>3</th>\n",
       "      <td>1</td>\n",
       "      <td>40</td>\n",
       "      <td>0.990892</td>\n",
       "    </tr>\n",
       "    <tr>\n",
       "      <th>4</th>\n",
       "      <td>1</td>\n",
       "      <td>50</td>\n",
       "      <td>0.990892</td>\n",
       "    </tr>\n",
       "  </tbody>\n",
       "</table>\n",
       "</div>"
      ],
      "text/plain": [
       "   max_features  n_estimators  Accuracy\n",
       "0             1            10  0.989975\n",
       "1             1            20  0.986343\n",
       "2             1            30  0.990888\n",
       "3             1            40  0.990892\n",
       "4             1            50  0.990892"
      ]
     },
     "execution_count": 15,
     "metadata": {},
     "output_type": "execute_result"
    }
   ],
   "source": [
    "grid_results = pd.concat([pd.DataFrame(grid.cv_results_[\"params\"]),pd.DataFrame(grid.cv_results_[\"mean_test_score\"], columns=[\"Accuracy\"])],axis=1)\n",
    "grid_results.head()"
   ]
  },
  {
   "cell_type": "markdown",
   "metadata": {
    "papermill": {
     "duration": 0.024039,
     "end_time": "2021-01-29T09:15:48.036079",
     "exception": false,
     "start_time": "2021-01-29T09:15:48.012040",
     "status": "completed"
    },
    "tags": []
   },
   "source": [
    "# 6.Countour Plots"
   ]
  },
  {
   "cell_type": "markdown",
   "metadata": {
    "papermill": {
     "duration": 0.024257,
     "end_time": "2021-01-29T09:15:48.084933",
     "exception": false,
     "start_time": "2021-01-29T09:15:48.060676",
     "status": "completed"
    },
    "tags": []
   },
   "source": [
    "### 6.1 Creating Data Frame"
   ]
  },
  {
   "cell_type": "code",
   "execution_count": 16,
   "metadata": {
    "_kg_hide-input": true,
    "execution": {
     "iopub.execute_input": "2021-01-29T09:15:48.155588Z",
     "iopub.status.busy": "2021-01-29T09:15:48.154413Z",
     "iopub.status.idle": "2021-01-29T09:15:48.159111Z",
     "shell.execute_reply": "2021-01-29T09:15:48.158503Z"
    },
    "papermill": {
     "duration": 0.049908,
     "end_time": "2021-01-29T09:15:48.159264",
     "exception": false,
     "start_time": "2021-01-29T09:15:48.109356",
     "status": "completed"
    },
    "tags": []
   },
   "outputs": [
    {
     "data": {
      "text/html": [
       "<div>\n",
       "<style scoped>\n",
       "    .dataframe tbody tr th:only-of-type {\n",
       "        vertical-align: middle;\n",
       "    }\n",
       "\n",
       "    .dataframe tbody tr th {\n",
       "        vertical-align: top;\n",
       "    }\n",
       "\n",
       "    .dataframe thead th {\n",
       "        text-align: right;\n",
       "    }\n",
       "</style>\n",
       "<table border=\"1\" class=\"dataframe\">\n",
       "  <thead>\n",
       "    <tr style=\"text-align: right;\">\n",
       "      <th></th>\n",
       "      <th></th>\n",
       "      <th>Accuracy</th>\n",
       "    </tr>\n",
       "    <tr>\n",
       "      <th>max_features</th>\n",
       "      <th>n_estimators</th>\n",
       "      <th></th>\n",
       "    </tr>\n",
       "  </thead>\n",
       "  <tbody>\n",
       "    <tr>\n",
       "      <th rowspan=\"5\" valign=\"top\">1</th>\n",
       "      <th>10</th>\n",
       "      <td>0.989975</td>\n",
       "    </tr>\n",
       "    <tr>\n",
       "      <th>20</th>\n",
       "      <td>0.986343</td>\n",
       "    </tr>\n",
       "    <tr>\n",
       "      <th>30</th>\n",
       "      <td>0.990888</td>\n",
       "    </tr>\n",
       "    <tr>\n",
       "      <th>40</th>\n",
       "      <td>0.990892</td>\n",
       "    </tr>\n",
       "    <tr>\n",
       "      <th>50</th>\n",
       "      <td>0.990892</td>\n",
       "    </tr>\n",
       "    <tr>\n",
       "      <th>...</th>\n",
       "      <th>...</th>\n",
       "      <td>...</td>\n",
       "    </tr>\n",
       "    <tr>\n",
       "      <th rowspan=\"5\" valign=\"top\">4</th>\n",
       "      <th>160</th>\n",
       "      <td>0.985425</td>\n",
       "    </tr>\n",
       "    <tr>\n",
       "      <th>170</th>\n",
       "      <td>0.988157</td>\n",
       "    </tr>\n",
       "    <tr>\n",
       "      <th>180</th>\n",
       "      <td>0.986335</td>\n",
       "    </tr>\n",
       "    <tr>\n",
       "      <th>190</th>\n",
       "      <td>0.986335</td>\n",
       "    </tr>\n",
       "    <tr>\n",
       "      <th>200</th>\n",
       "      <td>0.987244</td>\n",
       "    </tr>\n",
       "  </tbody>\n",
       "</table>\n",
       "<p>80 rows × 1 columns</p>\n",
       "</div>"
      ],
      "text/plain": [
       "                           Accuracy\n",
       "max_features n_estimators          \n",
       "1            10            0.989975\n",
       "             20            0.986343\n",
       "             30            0.990888\n",
       "             40            0.990892\n",
       "             50            0.990892\n",
       "...                             ...\n",
       "4            160           0.985425\n",
       "             170           0.988157\n",
       "             180           0.986335\n",
       "             190           0.986335\n",
       "             200           0.987244\n",
       "\n",
       "[80 rows x 1 columns]"
      ]
     },
     "execution_count": 16,
     "metadata": {},
     "output_type": "execute_result"
    }
   ],
   "source": [
    "\n",
    "grid_contour = grid_results.groupby(['max_features','n_estimators']).mean()\n",
    "grid_contour"
   ]
  },
  {
   "cell_type": "markdown",
   "metadata": {
    "papermill": {
     "duration": 0.025352,
     "end_time": "2021-01-29T09:15:48.210581",
     "exception": false,
     "start_time": "2021-01-29T09:15:48.185229",
     "status": "completed"
    },
    "tags": []
   },
   "source": [
    "### 6.2 Pivoting Data"
   ]
  },
  {
   "cell_type": "code",
   "execution_count": 17,
   "metadata": {
    "_kg_hide-input": true,
    "execution": {
     "iopub.execute_input": "2021-01-29T09:15:48.298228Z",
     "iopub.status.busy": "2021-01-29T09:15:48.273194Z",
     "iopub.status.idle": "2021-01-29T09:15:48.303285Z",
     "shell.execute_reply": "2021-01-29T09:15:48.302579Z"
    },
    "papermill": {
     "duration": 0.067401,
     "end_time": "2021-01-29T09:15:48.303456",
     "exception": false,
     "start_time": "2021-01-29T09:15:48.236055",
     "status": "completed"
    },
    "tags": []
   },
   "outputs": [
    {
     "data": {
      "text/html": [
       "<div>\n",
       "<style scoped>\n",
       "    .dataframe tbody tr th:only-of-type {\n",
       "        vertical-align: middle;\n",
       "    }\n",
       "\n",
       "    .dataframe tbody tr th {\n",
       "        vertical-align: top;\n",
       "    }\n",
       "\n",
       "    .dataframe thead tr th {\n",
       "        text-align: left;\n",
       "    }\n",
       "\n",
       "    .dataframe thead tr:last-of-type th {\n",
       "        text-align: right;\n",
       "    }\n",
       "</style>\n",
       "<table border=\"1\" class=\"dataframe\">\n",
       "  <thead>\n",
       "    <tr>\n",
       "      <th></th>\n",
       "      <th colspan=\"20\" halign=\"left\">Accuracy</th>\n",
       "    </tr>\n",
       "    <tr>\n",
       "      <th>n_estimators</th>\n",
       "      <th>10</th>\n",
       "      <th>20</th>\n",
       "      <th>30</th>\n",
       "      <th>40</th>\n",
       "      <th>50</th>\n",
       "      <th>60</th>\n",
       "      <th>70</th>\n",
       "      <th>80</th>\n",
       "      <th>90</th>\n",
       "      <th>100</th>\n",
       "      <th>110</th>\n",
       "      <th>120</th>\n",
       "      <th>130</th>\n",
       "      <th>140</th>\n",
       "      <th>150</th>\n",
       "      <th>160</th>\n",
       "      <th>170</th>\n",
       "      <th>180</th>\n",
       "      <th>190</th>\n",
       "      <th>200</th>\n",
       "    </tr>\n",
       "    <tr>\n",
       "      <th>max_features</th>\n",
       "      <th></th>\n",
       "      <th></th>\n",
       "      <th></th>\n",
       "      <th></th>\n",
       "      <th></th>\n",
       "      <th></th>\n",
       "      <th></th>\n",
       "      <th></th>\n",
       "      <th></th>\n",
       "      <th></th>\n",
       "      <th></th>\n",
       "      <th></th>\n",
       "      <th></th>\n",
       "      <th></th>\n",
       "      <th></th>\n",
       "      <th></th>\n",
       "      <th></th>\n",
       "      <th></th>\n",
       "      <th></th>\n",
       "      <th></th>\n",
       "    </tr>\n",
       "  </thead>\n",
       "  <tbody>\n",
       "    <tr>\n",
       "      <th>1</th>\n",
       "      <td>0.989975</td>\n",
       "      <td>0.986343</td>\n",
       "      <td>0.990888</td>\n",
       "      <td>0.990892</td>\n",
       "      <td>0.990892</td>\n",
       "      <td>0.991806</td>\n",
       "      <td>0.991806</td>\n",
       "      <td>0.991806</td>\n",
       "      <td>0.990892</td>\n",
       "      <td>0.990892</td>\n",
       "      <td>0.991802</td>\n",
       "      <td>0.990892</td>\n",
       "      <td>0.991802</td>\n",
       "      <td>0.990892</td>\n",
       "      <td>0.991806</td>\n",
       "      <td>0.989979</td>\n",
       "      <td>0.990888</td>\n",
       "      <td>0.989979</td>\n",
       "      <td>0.990892</td>\n",
       "      <td>0.991806</td>\n",
       "    </tr>\n",
       "    <tr>\n",
       "      <th>2</th>\n",
       "      <td>0.988157</td>\n",
       "      <td>0.989062</td>\n",
       "      <td>0.989975</td>\n",
       "      <td>0.990884</td>\n",
       "      <td>0.988157</td>\n",
       "      <td>0.990888</td>\n",
       "      <td>0.990888</td>\n",
       "      <td>0.991802</td>\n",
       "      <td>0.990888</td>\n",
       "      <td>0.991797</td>\n",
       "      <td>0.989066</td>\n",
       "      <td>0.990888</td>\n",
       "      <td>0.989979</td>\n",
       "      <td>0.990888</td>\n",
       "      <td>0.989979</td>\n",
       "      <td>0.990888</td>\n",
       "      <td>0.989979</td>\n",
       "      <td>0.991797</td>\n",
       "      <td>0.989983</td>\n",
       "      <td>0.992711</td>\n",
       "    </tr>\n",
       "    <tr>\n",
       "      <th>3</th>\n",
       "      <td>0.986330</td>\n",
       "      <td>0.991797</td>\n",
       "      <td>0.988149</td>\n",
       "      <td>0.990884</td>\n",
       "      <td>0.992707</td>\n",
       "      <td>0.991797</td>\n",
       "      <td>0.989975</td>\n",
       "      <td>0.991793</td>\n",
       "      <td>0.991793</td>\n",
       "      <td>0.989054</td>\n",
       "      <td>0.990884</td>\n",
       "      <td>0.990880</td>\n",
       "      <td>0.989971</td>\n",
       "      <td>0.992707</td>\n",
       "      <td>0.991793</td>\n",
       "      <td>0.992707</td>\n",
       "      <td>0.991797</td>\n",
       "      <td>0.991797</td>\n",
       "      <td>0.991793</td>\n",
       "      <td>0.990880</td>\n",
       "    </tr>\n",
       "    <tr>\n",
       "      <th>4</th>\n",
       "      <td>0.990884</td>\n",
       "      <td>0.986330</td>\n",
       "      <td>0.988149</td>\n",
       "      <td>0.985425</td>\n",
       "      <td>0.989975</td>\n",
       "      <td>0.987235</td>\n",
       "      <td>0.989062</td>\n",
       "      <td>0.985421</td>\n",
       "      <td>0.988153</td>\n",
       "      <td>0.986330</td>\n",
       "      <td>0.989066</td>\n",
       "      <td>0.983595</td>\n",
       "      <td>0.987240</td>\n",
       "      <td>0.988153</td>\n",
       "      <td>0.987240</td>\n",
       "      <td>0.985425</td>\n",
       "      <td>0.988157</td>\n",
       "      <td>0.986335</td>\n",
       "      <td>0.986335</td>\n",
       "      <td>0.987244</td>\n",
       "    </tr>\n",
       "  </tbody>\n",
       "</table>\n",
       "</div>"
      ],
      "text/plain": [
       "              Accuracy                                                    \\\n",
       "n_estimators       10        20        30        40        50        60    \n",
       "max_features                                                               \n",
       "1             0.989975  0.986343  0.990888  0.990892  0.990892  0.991806   \n",
       "2             0.988157  0.989062  0.989975  0.990884  0.988157  0.990888   \n",
       "3             0.986330  0.991797  0.988149  0.990884  0.992707  0.991797   \n",
       "4             0.990884  0.986330  0.988149  0.985425  0.989975  0.987235   \n",
       "\n",
       "                                                                          \\\n",
       "n_estimators       70        80        90        100       110       120   \n",
       "max_features                                                               \n",
       "1             0.991806  0.991806  0.990892  0.990892  0.991802  0.990892   \n",
       "2             0.990888  0.991802  0.990888  0.991797  0.989066  0.990888   \n",
       "3             0.989975  0.991793  0.991793  0.989054  0.990884  0.990880   \n",
       "4             0.989062  0.985421  0.988153  0.986330  0.989066  0.983595   \n",
       "\n",
       "                                                                          \\\n",
       "n_estimators       130       140       150       160       170       180   \n",
       "max_features                                                               \n",
       "1             0.991802  0.990892  0.991806  0.989979  0.990888  0.989979   \n",
       "2             0.989979  0.990888  0.989979  0.990888  0.989979  0.991797   \n",
       "3             0.989971  0.992707  0.991793  0.992707  0.991797  0.991797   \n",
       "4             0.987240  0.988153  0.987240  0.985425  0.988157  0.986335   \n",
       "\n",
       "                                  \n",
       "n_estimators       190       200  \n",
       "max_features                      \n",
       "1             0.990892  0.991806  \n",
       "2             0.989983  0.992711  \n",
       "3             0.991793  0.990880  \n",
       "4             0.986335  0.987244  "
      ]
     },
     "execution_count": 17,
     "metadata": {},
     "output_type": "execute_result"
    }
   ],
   "source": [
    "grid_reset = grid_contour.reset_index()\n",
    "grid_reset.columns = ['max_features', 'n_estimators', 'Accuracy']\n",
    "grid_pivot = grid_reset.pivot('max_features', 'n_estimators')\n",
    "grid_pivot"
   ]
  },
  {
   "cell_type": "code",
   "execution_count": 18,
   "metadata": {
    "_kg_hide-input": true,
    "execution": {
     "iopub.execute_input": "2021-01-29T09:15:48.361311Z",
     "iopub.status.busy": "2021-01-29T09:15:48.360579Z",
     "iopub.status.idle": "2021-01-29T09:15:48.364701Z",
     "shell.execute_reply": "2021-01-29T09:15:48.364137Z"
    },
    "papermill": {
     "duration": 0.035245,
     "end_time": "2021-01-29T09:15:48.364845",
     "exception": false,
     "start_time": "2021-01-29T09:15:48.329600",
     "status": "completed"
    },
    "tags": []
   },
   "outputs": [],
   "source": [
    "x = grid_pivot.columns.levels[1].values\n",
    "y = grid_pivot.index.values\n",
    "z = grid_pivot.values"
   ]
  },
  {
   "cell_type": "markdown",
   "metadata": {
    "papermill": {
     "duration": 0.025598,
     "end_time": "2021-01-29T09:15:48.416348",
     "exception": false,
     "start_time": "2021-01-29T09:15:48.390750",
     "status": "completed"
    },
    "tags": []
   },
   "source": [
    "### 6.3 2D Contour Plot"
   ]
  },
  {
   "cell_type": "code",
   "execution_count": 19,
   "metadata": {
    "_kg_hide-input": true,
    "execution": {
     "iopub.execute_input": "2021-01-29T09:15:48.476102Z",
     "iopub.status.busy": "2021-01-29T09:15:48.475341Z",
     "iopub.status.idle": "2021-01-29T09:15:48.722304Z",
     "shell.execute_reply": "2021-01-29T09:15:48.722829Z"
    },
    "papermill": {
     "duration": 0.280701,
     "end_time": "2021-01-29T09:15:48.723004",
     "exception": false,
     "start_time": "2021-01-29T09:15:48.442303",
     "status": "completed"
    },
    "tags": []
   },
   "outputs": [
    {
     "data": {
      "text/html": [
       "        <script type=\"text/javascript\">\n",
       "        window.PlotlyConfig = {MathJaxConfig: 'local'};\n",
       "        if (window.MathJax) {MathJax.Hub.Config({SVG: {font: \"STIX-Web\"}});}\n",
       "        if (typeof require !== 'undefined') {\n",
       "        require.undef(\"plotly\");\n",
       "        requirejs.config({\n",
       "            paths: {\n",
       "                'plotly': ['https://cdn.plot.ly/plotly-latest.min']\n",
       "            }\n",
       "        });\n",
       "        require(['plotly'], function(Plotly) {\n",
       "            window._Plotly = Plotly;\n",
       "        });\n",
       "        }\n",
       "        </script>\n",
       "        "
      ]
     },
     "metadata": {},
     "output_type": "display_data"
    },
    {
     "data": {
      "text/html": [
       "<div>                            <div id=\"5af620b2-83fc-4e19-972c-508e6f93b7b5\" class=\"plotly-graph-div\" style=\"height:500px; width:500px;\"></div>            <script type=\"text/javascript\">                require([\"plotly\"], function(Plotly) {                    window.PLOTLYENV=window.PLOTLYENV || {};                                    if (document.getElementById(\"5af620b2-83fc-4e19-972c-508e6f93b7b5\")) {                    Plotly.newPlot(                        \"5af620b2-83fc-4e19-972c-508e6f93b7b5\",                        [{\"type\": \"contour\", \"x\": [10, 20, 30, 40, 50, 60, 70, 80, 90, 100, 110, 120, 130, 140, 150, 160, 170, 180, 190, 200], \"y\": [1, 2, 3, 4], \"z\": [[0.989975093399751, 0.9863428808634287, 0.9908883354088832, 0.9908924865089249, 0.9908924865089249, 0.9918057285180574, 0.9918057285180574, 0.9918057285180574, 0.9908924865089249, 0.9908924865089249, 0.9918015774180157, 0.9908924865089249, 0.9918015774180157, 0.9908924865089249, 0.9918057285180574, 0.9899792444997925, 0.9908883354088832, 0.9899792444997925, 0.9908924865089249, 0.9918057285180574], [0.988156911581569, 0.9890618513906185, 0.989975093399751, 0.9908841843088417, 0.988156911581569, 0.9908883354088832, 0.9908883354088832, 0.9918015774180157, 0.9908883354088832, 0.9917974263179742, 0.98906600249066, 0.9908883354088832, 0.9899792444997925, 0.9908883354088832, 0.9899792444997925, 0.9908883354088832, 0.9899792444997925, 0.9917974263179742, 0.989983395599834, 0.9927106683271066], [0.9863304275633042, 0.9917974263179744, 0.9881486093814861, 0.9908841843088417, 0.9927065172270652, 0.9917974263179742, 0.989975093399751, 0.9917932752179327, 0.9917932752179327, 0.9890535491905356, 0.9908841843088417, 0.9908800332088002, 0.9899709422997095, 0.9927065172270652, 0.9917932752179327, 0.9927065172270652, 0.9917974263179742, 0.9917974263179744, 0.9917932752179327, 0.9908800332088002], [0.990884184308842, 0.9863304275633042, 0.9881486093814861, 0.9854254877542548, 0.989975093399751, 0.9872353673723536, 0.9890618513906185, 0.9854213366542133, 0.9881527604815276, 0.9863304275633042, 0.98906600249066, 0.9835948526359484, 0.9872395184723952, 0.9881527604815276, 0.9872395184723952, 0.9854254877542548, 0.9881569115815692, 0.9863345786633457, 0.9863345786633457, 0.9872436695724367]]}],                        {\"autosize\": false, \"height\": 500, \"margin\": {\"b\": 65, \"l\": 65, \"r\": 50, \"t\": 90}, \"template\": {\"data\": {\"bar\": [{\"error_x\": {\"color\": \"#2a3f5f\"}, \"error_y\": {\"color\": \"#2a3f5f\"}, \"marker\": {\"line\": {\"color\": \"#E5ECF6\", \"width\": 0.5}}, \"type\": \"bar\"}], \"barpolar\": [{\"marker\": {\"line\": {\"color\": \"#E5ECF6\", \"width\": 0.5}}, \"type\": \"barpolar\"}], \"carpet\": [{\"aaxis\": {\"endlinecolor\": \"#2a3f5f\", \"gridcolor\": \"white\", \"linecolor\": \"white\", \"minorgridcolor\": \"white\", \"startlinecolor\": \"#2a3f5f\"}, \"baxis\": {\"endlinecolor\": \"#2a3f5f\", \"gridcolor\": \"white\", \"linecolor\": \"white\", \"minorgridcolor\": \"white\", \"startlinecolor\": \"#2a3f5f\"}, \"type\": \"carpet\"}], \"choropleth\": [{\"colorbar\": {\"outlinewidth\": 0, \"ticks\": \"\"}, \"type\": \"choropleth\"}], \"contour\": [{\"colorbar\": {\"outlinewidth\": 0, \"ticks\": \"\"}, \"colorscale\": [[0.0, \"#0d0887\"], [0.1111111111111111, \"#46039f\"], [0.2222222222222222, \"#7201a8\"], [0.3333333333333333, \"#9c179e\"], [0.4444444444444444, \"#bd3786\"], [0.5555555555555556, \"#d8576b\"], [0.6666666666666666, \"#ed7953\"], [0.7777777777777778, \"#fb9f3a\"], [0.8888888888888888, \"#fdca26\"], [1.0, \"#f0f921\"]], \"type\": \"contour\"}], \"contourcarpet\": [{\"colorbar\": {\"outlinewidth\": 0, \"ticks\": \"\"}, \"type\": \"contourcarpet\"}], \"heatmap\": [{\"colorbar\": {\"outlinewidth\": 0, \"ticks\": \"\"}, \"colorscale\": [[0.0, \"#0d0887\"], [0.1111111111111111, \"#46039f\"], [0.2222222222222222, \"#7201a8\"], [0.3333333333333333, \"#9c179e\"], [0.4444444444444444, \"#bd3786\"], [0.5555555555555556, \"#d8576b\"], [0.6666666666666666, \"#ed7953\"], [0.7777777777777778, \"#fb9f3a\"], [0.8888888888888888, \"#fdca26\"], [1.0, \"#f0f921\"]], \"type\": \"heatmap\"}], \"heatmapgl\": [{\"colorbar\": {\"outlinewidth\": 0, \"ticks\": \"\"}, \"colorscale\": [[0.0, \"#0d0887\"], [0.1111111111111111, \"#46039f\"], [0.2222222222222222, \"#7201a8\"], [0.3333333333333333, \"#9c179e\"], [0.4444444444444444, \"#bd3786\"], [0.5555555555555556, \"#d8576b\"], [0.6666666666666666, \"#ed7953\"], [0.7777777777777778, \"#fb9f3a\"], [0.8888888888888888, \"#fdca26\"], [1.0, \"#f0f921\"]], \"type\": \"heatmapgl\"}], \"histogram\": [{\"marker\": {\"colorbar\": {\"outlinewidth\": 0, \"ticks\": \"\"}}, \"type\": \"histogram\"}], \"histogram2d\": [{\"colorbar\": {\"outlinewidth\": 0, \"ticks\": \"\"}, \"colorscale\": [[0.0, \"#0d0887\"], [0.1111111111111111, \"#46039f\"], [0.2222222222222222, \"#7201a8\"], [0.3333333333333333, \"#9c179e\"], [0.4444444444444444, \"#bd3786\"], [0.5555555555555556, \"#d8576b\"], [0.6666666666666666, \"#ed7953\"], [0.7777777777777778, \"#fb9f3a\"], [0.8888888888888888, \"#fdca26\"], [1.0, \"#f0f921\"]], \"type\": \"histogram2d\"}], \"histogram2dcontour\": [{\"colorbar\": {\"outlinewidth\": 0, \"ticks\": \"\"}, \"colorscale\": [[0.0, \"#0d0887\"], [0.1111111111111111, \"#46039f\"], [0.2222222222222222, \"#7201a8\"], [0.3333333333333333, \"#9c179e\"], [0.4444444444444444, \"#bd3786\"], [0.5555555555555556, \"#d8576b\"], [0.6666666666666666, \"#ed7953\"], [0.7777777777777778, \"#fb9f3a\"], [0.8888888888888888, \"#fdca26\"], [1.0, \"#f0f921\"]], \"type\": \"histogram2dcontour\"}], \"mesh3d\": [{\"colorbar\": {\"outlinewidth\": 0, \"ticks\": \"\"}, \"type\": \"mesh3d\"}], \"parcoords\": [{\"line\": {\"colorbar\": {\"outlinewidth\": 0, \"ticks\": \"\"}}, \"type\": \"parcoords\"}], \"pie\": [{\"automargin\": true, \"type\": \"pie\"}], \"scatter\": [{\"marker\": {\"colorbar\": {\"outlinewidth\": 0, \"ticks\": \"\"}}, \"type\": \"scatter\"}], \"scatter3d\": [{\"line\": {\"colorbar\": {\"outlinewidth\": 0, \"ticks\": \"\"}}, \"marker\": {\"colorbar\": {\"outlinewidth\": 0, \"ticks\": \"\"}}, \"type\": \"scatter3d\"}], \"scattercarpet\": [{\"marker\": {\"colorbar\": {\"outlinewidth\": 0, \"ticks\": \"\"}}, \"type\": \"scattercarpet\"}], \"scattergeo\": [{\"marker\": {\"colorbar\": {\"outlinewidth\": 0, \"ticks\": \"\"}}, \"type\": \"scattergeo\"}], \"scattergl\": [{\"marker\": {\"colorbar\": {\"outlinewidth\": 0, \"ticks\": \"\"}}, \"type\": \"scattergl\"}], \"scattermapbox\": [{\"marker\": {\"colorbar\": {\"outlinewidth\": 0, \"ticks\": \"\"}}, \"type\": \"scattermapbox\"}], \"scatterpolar\": [{\"marker\": {\"colorbar\": {\"outlinewidth\": 0, \"ticks\": \"\"}}, \"type\": \"scatterpolar\"}], \"scatterpolargl\": [{\"marker\": {\"colorbar\": {\"outlinewidth\": 0, \"ticks\": \"\"}}, \"type\": \"scatterpolargl\"}], \"scatterternary\": [{\"marker\": {\"colorbar\": {\"outlinewidth\": 0, \"ticks\": \"\"}}, \"type\": \"scatterternary\"}], \"surface\": [{\"colorbar\": {\"outlinewidth\": 0, \"ticks\": \"\"}, \"colorscale\": [[0.0, \"#0d0887\"], [0.1111111111111111, \"#46039f\"], [0.2222222222222222, \"#7201a8\"], [0.3333333333333333, \"#9c179e\"], [0.4444444444444444, \"#bd3786\"], [0.5555555555555556, \"#d8576b\"], [0.6666666666666666, \"#ed7953\"], [0.7777777777777778, \"#fb9f3a\"], [0.8888888888888888, \"#fdca26\"], [1.0, \"#f0f921\"]], \"type\": \"surface\"}], \"table\": [{\"cells\": {\"fill\": {\"color\": \"#EBF0F8\"}, \"line\": {\"color\": \"white\"}}, \"header\": {\"fill\": {\"color\": \"#C8D4E3\"}, \"line\": {\"color\": \"white\"}}, \"type\": \"table\"}]}, \"layout\": {\"annotationdefaults\": {\"arrowcolor\": \"#2a3f5f\", \"arrowhead\": 0, \"arrowwidth\": 1}, \"autotypenumbers\": \"strict\", \"coloraxis\": {\"colorbar\": {\"outlinewidth\": 0, \"ticks\": \"\"}}, \"colorscale\": {\"diverging\": [[0, \"#8e0152\"], [0.1, \"#c51b7d\"], [0.2, \"#de77ae\"], [0.3, \"#f1b6da\"], [0.4, \"#fde0ef\"], [0.5, \"#f7f7f7\"], [0.6, \"#e6f5d0\"], [0.7, \"#b8e186\"], [0.8, \"#7fbc41\"], [0.9, \"#4d9221\"], [1, \"#276419\"]], \"sequential\": [[0.0, \"#0d0887\"], [0.1111111111111111, \"#46039f\"], [0.2222222222222222, \"#7201a8\"], [0.3333333333333333, \"#9c179e\"], [0.4444444444444444, \"#bd3786\"], [0.5555555555555556, \"#d8576b\"], [0.6666666666666666, \"#ed7953\"], [0.7777777777777778, \"#fb9f3a\"], [0.8888888888888888, \"#fdca26\"], [1.0, \"#f0f921\"]], \"sequentialminus\": [[0.0, \"#0d0887\"], [0.1111111111111111, \"#46039f\"], [0.2222222222222222, \"#7201a8\"], [0.3333333333333333, \"#9c179e\"], [0.4444444444444444, \"#bd3786\"], [0.5555555555555556, \"#d8576b\"], [0.6666666666666666, \"#ed7953\"], [0.7777777777777778, \"#fb9f3a\"], [0.8888888888888888, \"#fdca26\"], [1.0, \"#f0f921\"]]}, \"colorway\": [\"#636efa\", \"#EF553B\", \"#00cc96\", \"#ab63fa\", \"#FFA15A\", \"#19d3f3\", \"#FF6692\", \"#B6E880\", \"#FF97FF\", \"#FECB52\"], \"font\": {\"color\": \"#2a3f5f\"}, \"geo\": {\"bgcolor\": \"white\", \"lakecolor\": \"white\", \"landcolor\": \"#E5ECF6\", \"showlakes\": true, \"showland\": true, \"subunitcolor\": \"white\"}, \"hoverlabel\": {\"align\": \"left\"}, \"hovermode\": \"closest\", \"mapbox\": {\"style\": \"light\"}, \"paper_bgcolor\": \"white\", \"plot_bgcolor\": \"#E5ECF6\", \"polar\": {\"angularaxis\": {\"gridcolor\": \"white\", \"linecolor\": \"white\", \"ticks\": \"\"}, \"bgcolor\": \"#E5ECF6\", \"radialaxis\": {\"gridcolor\": \"white\", \"linecolor\": \"white\", \"ticks\": \"\"}}, \"scene\": {\"xaxis\": {\"backgroundcolor\": \"#E5ECF6\", \"gridcolor\": \"white\", \"gridwidth\": 2, \"linecolor\": \"white\", \"showbackground\": true, \"ticks\": \"\", \"zerolinecolor\": \"white\"}, \"yaxis\": {\"backgroundcolor\": \"#E5ECF6\", \"gridcolor\": \"white\", \"gridwidth\": 2, \"linecolor\": \"white\", \"showbackground\": true, \"ticks\": \"\", \"zerolinecolor\": \"white\"}, \"zaxis\": {\"backgroundcolor\": \"#E5ECF6\", \"gridcolor\": \"white\", \"gridwidth\": 2, \"linecolor\": \"white\", \"showbackground\": true, \"ticks\": \"\", \"zerolinecolor\": \"white\"}}, \"shapedefaults\": {\"line\": {\"color\": \"#2a3f5f\"}}, \"ternary\": {\"aaxis\": {\"gridcolor\": \"white\", \"linecolor\": \"white\", \"ticks\": \"\"}, \"baxis\": {\"gridcolor\": \"white\", \"linecolor\": \"white\", \"ticks\": \"\"}, \"bgcolor\": \"#E5ECF6\", \"caxis\": {\"gridcolor\": \"white\", \"linecolor\": \"white\", \"ticks\": \"\"}}, \"title\": {\"x\": 0.05}, \"xaxis\": {\"automargin\": true, \"gridcolor\": \"white\", \"linecolor\": \"white\", \"ticks\": \"\", \"title\": {\"standoff\": 15}, \"zerolinecolor\": \"white\", \"zerolinewidth\": 2}, \"yaxis\": {\"automargin\": true, \"gridcolor\": \"white\", \"linecolor\": \"white\", \"ticks\": \"\", \"title\": {\"standoff\": 15}, \"zerolinecolor\": \"white\", \"zerolinewidth\": 2}}}, \"title\": {\"text\": \"Hyperparameter tuning\"}, \"width\": 500, \"xaxis\": {\"title\": {\"text\": \"n_estimators\"}}, \"yaxis\": {\"title\": {\"text\": \"max_features\"}}},                        {\"responsive\": true}                    ).then(function(){\n",
       "                            \n",
       "var gd = document.getElementById('5af620b2-83fc-4e19-972c-508e6f93b7b5');\n",
       "var x = new MutationObserver(function (mutations, observer) {{\n",
       "        var display = window.getComputedStyle(gd).display;\n",
       "        if (!display || display === 'none') {{\n",
       "            console.log([gd, 'removed!']);\n",
       "            Plotly.purge(gd);\n",
       "            observer.disconnect();\n",
       "        }}\n",
       "}});\n",
       "\n",
       "// Listen for the removal of the full notebook cells\n",
       "var notebookContainer = gd.closest('#notebook-container');\n",
       "if (notebookContainer) {{\n",
       "    x.observe(notebookContainer, {childList: true});\n",
       "}}\n",
       "\n",
       "// Listen for the clearing of the current output cell\n",
       "var outputEl = gd.closest('.output');\n",
       "if (outputEl) {{\n",
       "    x.observe(outputEl, {childList: true});\n",
       "}}\n",
       "\n",
       "                        })                };                });            </script>        </div>"
      ]
     },
     "metadata": {},
     "output_type": "display_data"
    }
   ],
   "source": [
    "import plotly.graph_objects as go\n",
    "\n",
    "# X and Y axes labels\n",
    "layout = go.Layout(\n",
    "            xaxis=go.layout.XAxis(\n",
    "              title=go.layout.xaxis.Title(\n",
    "              text='n_estimators')\n",
    "             ),\n",
    "             yaxis=go.layout.YAxis(\n",
    "              title=go.layout.yaxis.Title(\n",
    "              text='max_features') \n",
    "            ) )\n",
    "\n",
    "fig = go.Figure(data = [go.Contour(z=z, x=x, y=y)], layout=layout )\n",
    "\n",
    "fig.update_layout(title='Hyperparameter tuning', autosize=False,\n",
    "                  width=500, height=500,\n",
    "                  margin=dict(l=65, r=50, b=65, t=90))\n",
    "\n",
    "fig.show()"
   ]
  },
  {
   "cell_type": "markdown",
   "metadata": {
    "papermill": {
     "duration": 0.026686,
     "end_time": "2021-01-29T09:15:48.776751",
     "exception": false,
     "start_time": "2021-01-29T09:15:48.750065",
     "status": "completed"
    },
    "tags": []
   },
   "source": [
    "We can see that the region with light Yellow have the best hyperparameters.We can select hyperparameters fro this area.Our Grid Search has give us the best values for max_features and n_estimators as 1 and 30.If we look at the 2D contour plot carefully we can see that a region is marked in light yellow indicating the best hyper parameters."
   ]
  },
  {
   "cell_type": "markdown",
   "metadata": {
    "papermill": {
     "duration": 0.026609,
     "end_time": "2021-01-29T09:15:48.830511",
     "exception": false,
     "start_time": "2021-01-29T09:15:48.803902",
     "status": "completed"
    },
    "tags": []
   },
   "source": [
    "### 6.4 3D Surface Plot"
   ]
  },
  {
   "cell_type": "code",
   "execution_count": 20,
   "metadata": {
    "_kg_hide-input": true,
    "execution": {
     "iopub.execute_input": "2021-01-29T09:15:48.894008Z",
     "iopub.status.busy": "2021-01-29T09:15:48.893219Z",
     "iopub.status.idle": "2021-01-29T09:15:48.982931Z",
     "shell.execute_reply": "2021-01-29T09:15:48.982236Z"
    },
    "papermill": {
     "duration": 0.125245,
     "end_time": "2021-01-29T09:15:48.983079",
     "exception": false,
     "start_time": "2021-01-29T09:15:48.857834",
     "status": "completed"
    },
    "tags": []
   },
   "outputs": [
    {
     "data": {
      "text/html": [
       "<div>                            <div id=\"006c8904-6d9f-4ab3-b27c-576b27412781\" class=\"plotly-graph-div\" style=\"height:800px; width:800px;\"></div>            <script type=\"text/javascript\">                require([\"plotly\"], function(Plotly) {                    window.PLOTLYENV=window.PLOTLYENV || {};                                    if (document.getElementById(\"006c8904-6d9f-4ab3-b27c-576b27412781\")) {                    Plotly.newPlot(                        \"006c8904-6d9f-4ab3-b27c-576b27412781\",                        [{\"type\": \"surface\", \"x\": [10, 20, 30, 40, 50, 60, 70, 80, 90, 100, 110, 120, 130, 140, 150, 160, 170, 180, 190, 200], \"y\": [1, 2, 3, 4], \"z\": [[0.989975093399751, 0.9863428808634287, 0.9908883354088832, 0.9908924865089249, 0.9908924865089249, 0.9918057285180574, 0.9918057285180574, 0.9918057285180574, 0.9908924865089249, 0.9908924865089249, 0.9918015774180157, 0.9908924865089249, 0.9918015774180157, 0.9908924865089249, 0.9918057285180574, 0.9899792444997925, 0.9908883354088832, 0.9899792444997925, 0.9908924865089249, 0.9918057285180574], [0.988156911581569, 0.9890618513906185, 0.989975093399751, 0.9908841843088417, 0.988156911581569, 0.9908883354088832, 0.9908883354088832, 0.9918015774180157, 0.9908883354088832, 0.9917974263179742, 0.98906600249066, 0.9908883354088832, 0.9899792444997925, 0.9908883354088832, 0.9899792444997925, 0.9908883354088832, 0.9899792444997925, 0.9917974263179742, 0.989983395599834, 0.9927106683271066], [0.9863304275633042, 0.9917974263179744, 0.9881486093814861, 0.9908841843088417, 0.9927065172270652, 0.9917974263179742, 0.989975093399751, 0.9917932752179327, 0.9917932752179327, 0.9890535491905356, 0.9908841843088417, 0.9908800332088002, 0.9899709422997095, 0.9927065172270652, 0.9917932752179327, 0.9927065172270652, 0.9917974263179742, 0.9917974263179744, 0.9917932752179327, 0.9908800332088002], [0.990884184308842, 0.9863304275633042, 0.9881486093814861, 0.9854254877542548, 0.989975093399751, 0.9872353673723536, 0.9890618513906185, 0.9854213366542133, 0.9881527604815276, 0.9863304275633042, 0.98906600249066, 0.9835948526359484, 0.9872395184723952, 0.9881527604815276, 0.9872395184723952, 0.9854254877542548, 0.9881569115815692, 0.9863345786633457, 0.9863345786633457, 0.9872436695724367]]}],                        {\"autosize\": false, \"height\": 800, \"margin\": {\"b\": 65, \"l\": 65, \"r\": 50, \"t\": 90}, \"scene\": {\"xaxis\": {\"title\": {\"text\": \"n_estimators\"}}, \"yaxis\": {\"title\": {\"text\": \"max_features\"}}, \"zaxis\": {\"title\": {\"text\": \"Accuracy\"}}}, \"template\": {\"data\": {\"bar\": [{\"error_x\": {\"color\": \"#2a3f5f\"}, \"error_y\": {\"color\": \"#2a3f5f\"}, \"marker\": {\"line\": {\"color\": \"#E5ECF6\", \"width\": 0.5}}, \"type\": \"bar\"}], \"barpolar\": [{\"marker\": {\"line\": {\"color\": \"#E5ECF6\", \"width\": 0.5}}, \"type\": \"barpolar\"}], \"carpet\": [{\"aaxis\": {\"endlinecolor\": \"#2a3f5f\", \"gridcolor\": \"white\", \"linecolor\": \"white\", \"minorgridcolor\": \"white\", \"startlinecolor\": \"#2a3f5f\"}, \"baxis\": {\"endlinecolor\": \"#2a3f5f\", \"gridcolor\": \"white\", \"linecolor\": \"white\", \"minorgridcolor\": \"white\", \"startlinecolor\": \"#2a3f5f\"}, \"type\": \"carpet\"}], \"choropleth\": [{\"colorbar\": {\"outlinewidth\": 0, \"ticks\": \"\"}, \"type\": \"choropleth\"}], \"contour\": [{\"colorbar\": {\"outlinewidth\": 0, \"ticks\": \"\"}, \"colorscale\": [[0.0, \"#0d0887\"], [0.1111111111111111, \"#46039f\"], [0.2222222222222222, \"#7201a8\"], [0.3333333333333333, \"#9c179e\"], [0.4444444444444444, \"#bd3786\"], [0.5555555555555556, \"#d8576b\"], [0.6666666666666666, \"#ed7953\"], [0.7777777777777778, \"#fb9f3a\"], [0.8888888888888888, \"#fdca26\"], [1.0, \"#f0f921\"]], \"type\": \"contour\"}], \"contourcarpet\": [{\"colorbar\": {\"outlinewidth\": 0, \"ticks\": \"\"}, \"type\": \"contourcarpet\"}], \"heatmap\": [{\"colorbar\": {\"outlinewidth\": 0, \"ticks\": \"\"}, \"colorscale\": [[0.0, \"#0d0887\"], [0.1111111111111111, \"#46039f\"], [0.2222222222222222, \"#7201a8\"], [0.3333333333333333, \"#9c179e\"], [0.4444444444444444, \"#bd3786\"], [0.5555555555555556, \"#d8576b\"], [0.6666666666666666, \"#ed7953\"], [0.7777777777777778, \"#fb9f3a\"], [0.8888888888888888, \"#fdca26\"], [1.0, \"#f0f921\"]], \"type\": \"heatmap\"}], \"heatmapgl\": [{\"colorbar\": {\"outlinewidth\": 0, \"ticks\": \"\"}, \"colorscale\": [[0.0, \"#0d0887\"], [0.1111111111111111, \"#46039f\"], [0.2222222222222222, \"#7201a8\"], [0.3333333333333333, \"#9c179e\"], [0.4444444444444444, \"#bd3786\"], [0.5555555555555556, \"#d8576b\"], [0.6666666666666666, \"#ed7953\"], [0.7777777777777778, \"#fb9f3a\"], [0.8888888888888888, \"#fdca26\"], [1.0, \"#f0f921\"]], \"type\": \"heatmapgl\"}], \"histogram\": [{\"marker\": {\"colorbar\": {\"outlinewidth\": 0, \"ticks\": \"\"}}, \"type\": \"histogram\"}], \"histogram2d\": [{\"colorbar\": {\"outlinewidth\": 0, \"ticks\": \"\"}, \"colorscale\": [[0.0, \"#0d0887\"], [0.1111111111111111, \"#46039f\"], [0.2222222222222222, \"#7201a8\"], [0.3333333333333333, \"#9c179e\"], [0.4444444444444444, \"#bd3786\"], [0.5555555555555556, \"#d8576b\"], [0.6666666666666666, \"#ed7953\"], [0.7777777777777778, \"#fb9f3a\"], [0.8888888888888888, \"#fdca26\"], [1.0, \"#f0f921\"]], \"type\": \"histogram2d\"}], \"histogram2dcontour\": [{\"colorbar\": {\"outlinewidth\": 0, \"ticks\": \"\"}, \"colorscale\": [[0.0, \"#0d0887\"], [0.1111111111111111, \"#46039f\"], [0.2222222222222222, \"#7201a8\"], [0.3333333333333333, \"#9c179e\"], [0.4444444444444444, \"#bd3786\"], [0.5555555555555556, \"#d8576b\"], [0.6666666666666666, \"#ed7953\"], [0.7777777777777778, \"#fb9f3a\"], [0.8888888888888888, \"#fdca26\"], [1.0, \"#f0f921\"]], \"type\": \"histogram2dcontour\"}], \"mesh3d\": [{\"colorbar\": {\"outlinewidth\": 0, \"ticks\": \"\"}, \"type\": \"mesh3d\"}], \"parcoords\": [{\"line\": {\"colorbar\": {\"outlinewidth\": 0, \"ticks\": \"\"}}, \"type\": \"parcoords\"}], \"pie\": [{\"automargin\": true, \"type\": \"pie\"}], \"scatter\": [{\"marker\": {\"colorbar\": {\"outlinewidth\": 0, \"ticks\": \"\"}}, \"type\": \"scatter\"}], \"scatter3d\": [{\"line\": {\"colorbar\": {\"outlinewidth\": 0, \"ticks\": \"\"}}, \"marker\": {\"colorbar\": {\"outlinewidth\": 0, \"ticks\": \"\"}}, \"type\": \"scatter3d\"}], \"scattercarpet\": [{\"marker\": {\"colorbar\": {\"outlinewidth\": 0, \"ticks\": \"\"}}, \"type\": \"scattercarpet\"}], \"scattergeo\": [{\"marker\": {\"colorbar\": {\"outlinewidth\": 0, \"ticks\": \"\"}}, \"type\": \"scattergeo\"}], \"scattergl\": [{\"marker\": {\"colorbar\": {\"outlinewidth\": 0, \"ticks\": \"\"}}, \"type\": \"scattergl\"}], \"scattermapbox\": [{\"marker\": {\"colorbar\": {\"outlinewidth\": 0, \"ticks\": \"\"}}, \"type\": \"scattermapbox\"}], \"scatterpolar\": [{\"marker\": {\"colorbar\": {\"outlinewidth\": 0, \"ticks\": \"\"}}, \"type\": \"scatterpolar\"}], \"scatterpolargl\": [{\"marker\": {\"colorbar\": {\"outlinewidth\": 0, \"ticks\": \"\"}}, \"type\": \"scatterpolargl\"}], \"scatterternary\": [{\"marker\": {\"colorbar\": {\"outlinewidth\": 0, \"ticks\": \"\"}}, \"type\": \"scatterternary\"}], \"surface\": [{\"colorbar\": {\"outlinewidth\": 0, \"ticks\": \"\"}, \"colorscale\": [[0.0, \"#0d0887\"], [0.1111111111111111, \"#46039f\"], [0.2222222222222222, \"#7201a8\"], [0.3333333333333333, \"#9c179e\"], [0.4444444444444444, \"#bd3786\"], [0.5555555555555556, \"#d8576b\"], [0.6666666666666666, \"#ed7953\"], [0.7777777777777778, \"#fb9f3a\"], [0.8888888888888888, \"#fdca26\"], [1.0, \"#f0f921\"]], \"type\": \"surface\"}], \"table\": [{\"cells\": {\"fill\": {\"color\": \"#EBF0F8\"}, \"line\": {\"color\": \"white\"}}, \"header\": {\"fill\": {\"color\": \"#C8D4E3\"}, \"line\": {\"color\": \"white\"}}, \"type\": \"table\"}]}, \"layout\": {\"annotationdefaults\": {\"arrowcolor\": \"#2a3f5f\", \"arrowhead\": 0, \"arrowwidth\": 1}, \"autotypenumbers\": \"strict\", \"coloraxis\": {\"colorbar\": {\"outlinewidth\": 0, \"ticks\": \"\"}}, \"colorscale\": {\"diverging\": [[0, \"#8e0152\"], [0.1, \"#c51b7d\"], [0.2, \"#de77ae\"], [0.3, \"#f1b6da\"], [0.4, \"#fde0ef\"], [0.5, \"#f7f7f7\"], [0.6, \"#e6f5d0\"], [0.7, \"#b8e186\"], [0.8, \"#7fbc41\"], [0.9, \"#4d9221\"], [1, \"#276419\"]], \"sequential\": [[0.0, \"#0d0887\"], [0.1111111111111111, \"#46039f\"], [0.2222222222222222, \"#7201a8\"], [0.3333333333333333, \"#9c179e\"], [0.4444444444444444, \"#bd3786\"], [0.5555555555555556, \"#d8576b\"], [0.6666666666666666, \"#ed7953\"], [0.7777777777777778, \"#fb9f3a\"], [0.8888888888888888, \"#fdca26\"], [1.0, \"#f0f921\"]], \"sequentialminus\": [[0.0, \"#0d0887\"], [0.1111111111111111, \"#46039f\"], [0.2222222222222222, \"#7201a8\"], [0.3333333333333333, \"#9c179e\"], [0.4444444444444444, \"#bd3786\"], [0.5555555555555556, \"#d8576b\"], [0.6666666666666666, \"#ed7953\"], [0.7777777777777778, \"#fb9f3a\"], [0.8888888888888888, \"#fdca26\"], [1.0, \"#f0f921\"]]}, \"colorway\": [\"#636efa\", \"#EF553B\", \"#00cc96\", \"#ab63fa\", \"#FFA15A\", \"#19d3f3\", \"#FF6692\", \"#B6E880\", \"#FF97FF\", \"#FECB52\"], \"font\": {\"color\": \"#2a3f5f\"}, \"geo\": {\"bgcolor\": \"white\", \"lakecolor\": \"white\", \"landcolor\": \"#E5ECF6\", \"showlakes\": true, \"showland\": true, \"subunitcolor\": \"white\"}, \"hoverlabel\": {\"align\": \"left\"}, \"hovermode\": \"closest\", \"mapbox\": {\"style\": \"light\"}, \"paper_bgcolor\": \"white\", \"plot_bgcolor\": \"#E5ECF6\", \"polar\": {\"angularaxis\": {\"gridcolor\": \"white\", \"linecolor\": \"white\", \"ticks\": \"\"}, \"bgcolor\": \"#E5ECF6\", \"radialaxis\": {\"gridcolor\": \"white\", \"linecolor\": \"white\", \"ticks\": \"\"}}, \"scene\": {\"xaxis\": {\"backgroundcolor\": \"#E5ECF6\", \"gridcolor\": \"white\", \"gridwidth\": 2, \"linecolor\": \"white\", \"showbackground\": true, \"ticks\": \"\", \"zerolinecolor\": \"white\"}, \"yaxis\": {\"backgroundcolor\": \"#E5ECF6\", \"gridcolor\": \"white\", \"gridwidth\": 2, \"linecolor\": \"white\", \"showbackground\": true, \"ticks\": \"\", \"zerolinecolor\": \"white\"}, \"zaxis\": {\"backgroundcolor\": \"#E5ECF6\", \"gridcolor\": \"white\", \"gridwidth\": 2, \"linecolor\": \"white\", \"showbackground\": true, \"ticks\": \"\", \"zerolinecolor\": \"white\"}}, \"shapedefaults\": {\"line\": {\"color\": \"#2a3f5f\"}}, \"ternary\": {\"aaxis\": {\"gridcolor\": \"white\", \"linecolor\": \"white\", \"ticks\": \"\"}, \"baxis\": {\"gridcolor\": \"white\", \"linecolor\": \"white\", \"ticks\": \"\"}, \"bgcolor\": \"#E5ECF6\", \"caxis\": {\"gridcolor\": \"white\", \"linecolor\": \"white\", \"ticks\": \"\"}}, \"title\": {\"x\": 0.05}, \"xaxis\": {\"automargin\": true, \"gridcolor\": \"white\", \"linecolor\": \"white\", \"ticks\": \"\", \"title\": {\"standoff\": 15}, \"zerolinecolor\": \"white\", \"zerolinewidth\": 2}, \"yaxis\": {\"automargin\": true, \"gridcolor\": \"white\", \"linecolor\": \"white\", \"ticks\": \"\", \"title\": {\"standoff\": 15}, \"zerolinecolor\": \"white\", \"zerolinewidth\": 2}}}, \"title\": {\"text\": \"Hyperparameter tuning\"}, \"width\": 800, \"xaxis\": {\"title\": {\"text\": \"n_estimators\"}}, \"yaxis\": {\"title\": {\"text\": \"max_features\"}}},                        {\"responsive\": true}                    ).then(function(){\n",
       "                            \n",
       "var gd = document.getElementById('006c8904-6d9f-4ab3-b27c-576b27412781');\n",
       "var x = new MutationObserver(function (mutations, observer) {{\n",
       "        var display = window.getComputedStyle(gd).display;\n",
       "        if (!display || display === 'none') {{\n",
       "            console.log([gd, 'removed!']);\n",
       "            Plotly.purge(gd);\n",
       "            observer.disconnect();\n",
       "        }}\n",
       "}});\n",
       "\n",
       "// Listen for the removal of the full notebook cells\n",
       "var notebookContainer = gd.closest('#notebook-container');\n",
       "if (notebookContainer) {{\n",
       "    x.observe(notebookContainer, {childList: true});\n",
       "}}\n",
       "\n",
       "// Listen for the clearing of the current output cell\n",
       "var outputEl = gd.closest('.output');\n",
       "if (outputEl) {{\n",
       "    x.observe(outputEl, {childList: true});\n",
       "}}\n",
       "\n",
       "                        })                };                });            </script>        </div>"
      ]
     },
     "metadata": {},
     "output_type": "display_data"
    }
   ],
   "source": [
    "import plotly.graph_objects as go\n",
    "\n",
    "\n",
    "fig = go.Figure(data= [go.Surface(z=z, y=y, x=x)], layout=layout )\n",
    "fig.update_layout(title='Hyperparameter tuning',\n",
    "                  scene = dict(\n",
    "                    xaxis_title='n_estimators',\n",
    "                    yaxis_title='max_features',\n",
    "                    zaxis_title='Accuracy'),\n",
    "                  autosize=False,\n",
    "                  width=800, height=800,\n",
    "                  margin=dict(l=65, r=50, b=65, t=90))\n",
    "fig.show()"
   ]
  },
  {
   "cell_type": "markdown",
   "metadata": {
    "papermill": {
     "duration": 0.027659,
     "end_time": "2021-01-29T09:15:49.039159",
     "exception": false,
     "start_time": "2021-01-29T09:15:49.011500",
     "status": "completed"
    },
    "tags": []
   },
   "source": [
    "# 7.Conclusion\n",
    "\n",
    "1.We have build a Random Forest Model to Predict the Fake Notes \n",
    "\n",
    "2.We have used Grid Search to find out the best hyperameter for our machine learning model \n",
    "\n",
    "3.We have displayed the hyperparameters with model accuracy with 2D and 3D plots."
   ]
  }
 ],
 "metadata": {
  "kernelspec": {
   "display_name": "Python 3",
   "language": "python",
   "name": "python3"
  },
  "language_info": {
   "codemirror_mode": {
    "name": "ipython",
    "version": 3
   },
   "file_extension": ".py",
   "mimetype": "text/x-python",
   "name": "python",
   "nbconvert_exporter": "python",
   "pygments_lexer": "ipython3",
   "version": "3.7.9"
  },
  "papermill": {
   "default_parameters": {},
   "duration": 124.952344,
   "end_time": "2021-01-29T09:15:49.778766",
   "environment_variables": {},
   "exception": null,
   "input_path": "__notebook__.ipynb",
   "output_path": "__notebook__.ipynb",
   "parameters": {},
   "start_time": "2021-01-29T09:13:44.826422",
   "version": "2.2.2"
  }
 },
 "nbformat": 4,
 "nbformat_minor": 4
}
