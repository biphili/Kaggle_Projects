{
 "cells": [
  {
   "cell_type": "markdown",
   "execution_count": null,
   "metadata": {},
   "source": [
    "We have a data of time versus the customers decision to buy a product.In this kernel we will be using Keras to classify the data.If you like the kernel please do vote."
   ]
  },
  {
   "cell_type": "code",
   "execution_count": 1,
   "metadata": {
    "_cell_guid": "b1076dfc-b9ad-4769-8c92-a6c4dae69d19",
    "_kg_hide-input": true,
    "_uuid": "8f2839f25d086af736a60e9eeb907d3b93b6e0e5"
   },
   "outputs": [
    {
     "name": "stdout",
     "output_type": "stream",
     "text": [
      "/kaggle/input/user_visit_duration.csv\n"
     ]
    }
   ],
   "source": [
    "# This Python 3 environment comes with many helpful analytics libraries installed\n",
    "# It is defined by the kaggle/python Docker image: https://github.com/kaggle/docker-python\n",
    "# For example, here's several helpful packages to load\n",
    "\n",
    "import numpy as np # linear algebra\n",
    "import pandas as pd # data processing, CSV file I/O (e.g. pd.read_csv)\n",
    "\n",
    "# Input data files are available in the read-only \"../input/\" directory\n",
    "# For example, running this (by clicking run or pressing Shift+Enter) will list all files under the input directory\n",
    "\n",
    "import os\n",
    "for dirname, _, filenames in os.walk('/kaggle/input'):\n",
    "    for filename in filenames:\n",
    "        print(os.path.join(dirname, filename))\n",
    "\n",
    "# You can write up to 5GB to the current directory (/kaggle/working/) that gets preserved as output when you create a version using \"Save & Run All\" \n",
    "# You can also write temporary files to /kaggle/temp/, but they won't be saved outside of the current session"
   ]
  },
  {
   "cell_type": "markdown",
   "execution_count": null,
   "metadata": {},
   "source": [
    "### Importing Data"
   ]
  },
  {
   "cell_type": "code",
   "execution_count": 2,
   "metadata": {
    "_cell_guid": "79c7e3d0-c299-4dcb-8224-4455121ee9b0",
    "_kg_hide-input": true,
    "_uuid": "d629ff2d2480ee46fbb7e2d37f6b5fab8052498a"
   },
   "outputs": [
    {
     "data": {
      "text/html": [
       "<div>\n",
       "<style scoped>\n",
       "    .dataframe tbody tr th:only-of-type {\n",
       "        vertical-align: middle;\n",
       "    }\n",
       "\n",
       "    .dataframe tbody tr th {\n",
       "        vertical-align: top;\n",
       "    }\n",
       "\n",
       "    .dataframe thead th {\n",
       "        text-align: right;\n",
       "    }\n",
       "</style>\n",
       "<table border=\"1\" class=\"dataframe\">\n",
       "  <thead>\n",
       "    <tr style=\"text-align: right;\">\n",
       "      <th></th>\n",
       "      <th>Time (min)</th>\n",
       "      <th>Buy</th>\n",
       "    </tr>\n",
       "  </thead>\n",
       "  <tbody>\n",
       "    <tr>\n",
       "      <th>0</th>\n",
       "      <td>2.000000</td>\n",
       "      <td>0</td>\n",
       "    </tr>\n",
       "    <tr>\n",
       "      <th>1</th>\n",
       "      <td>0.683333</td>\n",
       "      <td>0</td>\n",
       "    </tr>\n",
       "    <tr>\n",
       "      <th>2</th>\n",
       "      <td>3.216667</td>\n",
       "      <td>1</td>\n",
       "    </tr>\n",
       "    <tr>\n",
       "      <th>3</th>\n",
       "      <td>0.900000</td>\n",
       "      <td>0</td>\n",
       "    </tr>\n",
       "    <tr>\n",
       "      <th>4</th>\n",
       "      <td>1.533333</td>\n",
       "      <td>1</td>\n",
       "    </tr>\n",
       "  </tbody>\n",
       "</table>\n",
       "</div>"
      ],
      "text/plain": [
       "   Time (min)  Buy\n",
       "0    2.000000    0\n",
       "1    0.683333    0\n",
       "2    3.216667    1\n",
       "3    0.900000    0\n",
       "4    1.533333    1"
      ]
     },
     "execution_count": 2,
     "metadata": {},
     "output_type": "execute_result"
    }
   ],
   "source": [
    "df = pd.read_csv('../input/user_visit_duration.csv')\n",
    "df.head()"
   ]
  },
  {
   "cell_type": "markdown",
   "execution_count": null,
   "metadata": {},
   "source": [
    "In the data we have the time for which the customer browsed the website and the out come to buy a produce."
   ]
  },
  {
   "cell_type": "markdown",
   "execution_count": null,
   "metadata": {},
   "source": [
    "### Scatter Plot"
   ]
  },
  {
   "cell_type": "code",
   "execution_count": 3,
   "metadata": {
    "_kg_hide-input": true
   },
   "outputs": [
    {
     "data": {
      "image/png": "[encoded data removed]",
      "text/plain": [
       "<Figure size 432x288 with 1 Axes>"
      ]
     },
     "metadata": {
      "needs_background": "light"
     },
     "output_type": "display_data"
    }
   ],
   "source": [
    "df.plot(kind='scatter',x='Time (min)',y='Buy');"
   ]
  },
  {
   "cell_type": "markdown",
   "execution_count": null,
   "metadata": {},
   "source": [
    "O- Customer Didnt Buy the Product \n",
    "\n",
    "1 - Customer Brought the Product.\n",
    "\n",
    "We have to build a machine learning algorithm which can calssify our customers correctly based on the time they spend on the website.We will be using Keras to build or machine learning model."
   ]
  },
  {
   "cell_type": "markdown",
   "execution_count": null,
   "metadata": {},
   "source": [
    "### CLassification"
   ]
  },
  {
   "cell_type": "code",
   "execution_count": 4,
   "metadata": {
    "_kg_hide-input": true
   },
   "outputs": [
    {
     "name": "stderr",
     "output_type": "stream",
     "text": [
      "Using TensorFlow backend.\n"
     ]
    }
   ],
   "source": [
    "from keras.models import Sequential \n",
    "from keras.layers import Dense\n",
    "from keras.optimizers import Adam,SGD"
   ]
  },
  {
   "cell_type": "code",
   "execution_count": 5,
   "metadata": {
    "_kg_hide-input": true
   },
   "outputs": [],
   "source": [
    "model = Sequential()\n",
    "model.add(Dense(1,input_shape =(1,),activation='sigmoid'))"
   ]
  },
  {
   "cell_type": "code",
   "execution_count": 6,
   "metadata": {
    "_kg_hide-input": true
   },
   "outputs": [],
   "source": [
    "model.compile(SGD(lr=0.5),'binary_crossentropy',metrics=['accuracy'])"
   ]
  },
  {
   "cell_type": "code",
   "execution_count": 7,
   "metadata": {
    "_kg_hide-input": true
   },
   "outputs": [
    {
     "name": "stdout",
     "output_type": "stream",
     "text": [
      "Model: \"sequential_1\"\n",
      "_________________________________________________________________\n",
      "Layer (type)                 Output Shape              Param #   \n",
      "=================================================================\n",
      "dense_1 (Dense)              (None, 1)                 2         \n",
      "=================================================================\n",
      "Total params: 2\n",
      "Trainable params: 2\n",
      "Non-trainable params: 0\n",
      "_________________________________________________________________\n"
     ]
    }
   ],
   "source": [
    "model.summary()"
   ]
  },
  {
   "cell_type": "markdown",
   "execution_count": null,
   "metadata": {},
   "source": [
    "So Model has one hidden layer. 2 parameters that is wight and Bias."
   ]
  },
  {
   "cell_type": "code",
   "execution_count": 8,
   "metadata": {
    "_kg_hide-input": true
   },
   "outputs": [
    {
     "name": "stdout",
     "output_type": "stream",
     "text": [
      "Epoch 1/25\n",
      "100/100 [==============================] - 0s 3ms/step - loss: 1.1637 - accuracy: 0.4100\n",
      "Epoch 2/25\n",
      "100/100 [==============================] - 0s 79us/step - loss: 0.6675 - accuracy: 0.5000\n",
      "Epoch 3/25\n",
      "100/100 [==============================] - 0s 77us/step - loss: 0.6102 - accuracy: 0.6200\n",
      "Epoch 4/25\n",
      "100/100 [==============================] - 0s 78us/step - loss: 0.5934 - accuracy: 0.6200\n",
      "Epoch 5/25\n",
      "100/100 [==============================] - 0s 88us/step - loss: 0.5476 - accuracy: 0.7600\n",
      "Epoch 6/25\n",
      "100/100 [==============================] - 0s 76us/step - loss: 0.5562 - accuracy: 0.7000\n",
      "Epoch 7/25\n",
      "100/100 [==============================] - 0s 74us/step - loss: 0.5226 - accuracy: 0.7500\n",
      "Epoch 8/25\n",
      "100/100 [==============================] - 0s 70us/step - loss: 0.5034 - accuracy: 0.8000\n",
      "Epoch 9/25\n",
      "100/100 [==============================] - 0s 72us/step - loss: 0.4861 - accuracy: 0.7900\n",
      "Epoch 10/25\n",
      "100/100 [==============================] - 0s 74us/step - loss: 0.4860 - accuracy: 0.7800\n",
      "Epoch 11/25\n",
      "100/100 [==============================] - 0s 76us/step - loss: 0.4708 - accuracy: 0.8400\n",
      "Epoch 12/25\n",
      "100/100 [==============================] - 0s 76us/step - loss: 0.4580 - accuracy: 0.8300\n",
      "Epoch 13/25\n",
      "100/100 [==============================] - 0s 78us/step - loss: 0.4867 - accuracy: 0.7600\n",
      "Epoch 14/25\n",
      "100/100 [==============================] - 0s 69us/step - loss: 0.4389 - accuracy: 0.8300\n",
      "Epoch 15/25\n",
      "100/100 [==============================] - 0s 77us/step - loss: 0.4527 - accuracy: 0.8000\n",
      "Epoch 16/25\n",
      "100/100 [==============================] - 0s 67us/step - loss: 0.4315 - accuracy: 0.8000\n",
      "Epoch 17/25\n",
      "100/100 [==============================] - 0s 78us/step - loss: 0.4498 - accuracy: 0.8300\n",
      "Epoch 18/25\n",
      "100/100 [==============================] - 0s 73us/step - loss: 0.4181 - accuracy: 0.8200\n",
      "Epoch 19/25\n",
      "100/100 [==============================] - 0s 74us/step - loss: 0.4271 - accuracy: 0.8000\n",
      "Epoch 20/25\n",
      "100/100 [==============================] - 0s 76us/step - loss: 0.4113 - accuracy: 0.8200\n",
      "Epoch 21/25\n",
      "100/100 [==============================] - 0s 74us/step - loss: 0.4127 - accuracy: 0.8300\n",
      "Epoch 22/25\n",
      "100/100 [==============================] - 0s 79us/step - loss: 0.4089 - accuracy: 0.8200\n",
      "Epoch 23/25\n",
      "100/100 [==============================] - 0s 73us/step - loss: 0.4086 - accuracy: 0.8200\n",
      "Epoch 24/25\n",
      "100/100 [==============================] - 0s 87us/step - loss: 0.4053 - accuracy: 0.8300\n",
      "Epoch 25/25\n",
      "100/100 [==============================] - 0s 67us/step - loss: 0.4018 - accuracy: 0.8300\n"
     ]
    },
    {
     "data": {
      "text/plain": [
       "<keras.callbacks.callbacks.History at 0x7f9cc826b990>"
      ]
     },
     "execution_count": 8,
     "metadata": {},
     "output_type": "execute_result"
    }
   ],
   "source": [
    "X = df[['Time (min)']].values\n",
    "y = df['Buy'].values\n",
    "model.fit(X,y,epochs =25)"
   ]
  },
  {
   "cell_type": "markdown",
   "execution_count": null,
   "metadata": {},
   "source": [
    "### Plotting the Predictions\n",
    "\n",
    "Now we wil give linearspace value between 0,4 (X value) and try to predict the value of y using our model.So we will plot the actual value with the predicted value for better representation."
   ]
  },
  {
   "cell_type": "code",
   "execution_count": 9,
   "metadata": {
    "_kg_hide-input": true
   },
   "outputs": [
    {
     "data": {
      "image/png": "[encoded data removed]",
      "text/plain": [
       "<Figure size 432x288 with 1 Axes>"
      ]
     },
     "metadata": {
      "needs_background": "light"
     },
     "output_type": "display_data"
    }
   ],
   "source": [
    "import matplotlib.pyplot as plt\n",
    "ax = df.plot(kind = 'scatter',x = 'Time (min)',y='Buy',\n",
    "             title ='Purchase behavior Vs Time spend on the site')\n",
    "temp = np.linspace(0,4)\n",
    "ax.plot(temp,model.predict(temp),color='red')\n",
    "plt.legend(['model','data']);"
   ]
  },
  {
   "cell_type": "markdown",
   "execution_count": null,
   "metadata": {},
   "source": [
    "Now we can see from the above plot that blue dots represnt the actual data and red line represent the output predicted by the machine learning algorithm.The output from the machine learning algorithm is probability of a customer buying a product.Now to convert the probabilities into purchasing decision we need to define a threshod to our machine learning algorithm."
   ]
  },
  {
   "cell_type": "code",
   "execution_count": 10,
   "metadata": {
    "_kg_hide-input": true
   },
   "outputs": [],
   "source": [
    "temp_class = model.predict(temp) >0.5"
   ]
  },
  {
   "cell_type": "markdown",
   "execution_count": null,
   "metadata": {},
   "source": [
    "### Predicting the Classification with actual outcomes"
   ]
  },
  {
   "cell_type": "code",
   "execution_count": 11,
   "metadata": {
    "_kg_hide-input": true
   },
   "outputs": [
    {
     "data": {
      "image/png": "[encoded data removed]",
      "text/plain": [
       "<Figure size 432x288 with 1 Axes>"
      ]
     },
     "metadata": {
      "needs_background": "light"
     },
     "output_type": "display_data"
    }
   ],
   "source": [
    "import matplotlib.pyplot as plt\n",
    "ax = df.plot(kind = 'scatter',x = 'Time (min)',y='Buy',\n",
    "             title ='Purchase behavior Vs Time spend on the site')\n",
    "temp = np.linspace(0,4)\n",
    "ax.plot(temp,temp_class,color='orange')\n",
    "plt.legend(['model','data']);"
   ]
  },
  {
   "cell_type": "markdown",
   "execution_count": null,
   "metadata": {},
   "source": [
    "Plot shows the predictions made by the machine learning model based on a threshold of 0.5"
   ]
  },
  {
   "cell_type": "markdown",
   "execution_count": null,
   "metadata": {},
   "source": [
    "### Accuracy of the Model"
   ]
  },
  {
   "cell_type": "code",
   "execution_count": 12,
   "metadata": {
    "_kg_hide-input": true
   },
   "outputs": [],
   "source": [
    "y_pred = model.predict(X)\n",
    "y_class_pred = y_pred > 0.5"
   ]
  },
  {
   "cell_type": "code",
   "execution_count": 13,
   "metadata": {
    "_kg_hide-input": true
   },
   "outputs": [],
   "source": [
    "from sklearn.metrics import accuracy_score"
   ]
  },
  {
   "cell_type": "code",
   "execution_count": 14,
   "metadata": {
    "_kg_hide-input": true
   },
   "outputs": [
    {
     "name": "stdout",
     "output_type": "stream",
     "text": [
      "The accuracy score is 0.840\n"
     ]
    }
   ],
   "source": [
    "print('The accuracy score is {:0.3f}'.format(accuracy_score(y,y_class_pred)))"
   ]
  },
  {
   "cell_type": "markdown",
   "execution_count": null,
   "metadata": {},
   "source": [
    "So for this model we have an accuracy score of 81%.It is fairly good value considering the nature of the dataset.If changes the threshold value there is possibility of improving accuracy score."
   ]
  },
  {
   "cell_type": "markdown",
   "execution_count": null,
   "metadata": {},
   "source": [
    "### Train Test Split"
   ]
  },
  {
   "cell_type": "code",
   "execution_count": 15,
   "metadata": {
    "_kg_hide-input": true
   },
   "outputs": [],
   "source": [
    "from sklearn.model_selection import train_test_split\n",
    "X_train,X_test,y_train,y_test = train_test_split(X,y,test_size = 0.2)"
   ]
  },
  {
   "cell_type": "code",
   "execution_count": 16,
   "metadata": {
    "_kg_hide-input": true
   },
   "outputs": [],
   "source": [
    "params = model.get_weights()\n",
    "params = [np.zeros(w.shape) for w in params]\n",
    "model.set_weights(params)"
   ]
  },
  {
   "cell_type": "code",
   "execution_count": 17,
   "metadata": {
    "_kg_hide-input": true
   },
   "outputs": [],
   "source": [
    "#print('The Accuracy score is {:0.3f}'.format(accuracy_score(y,y_class_pred)))"
   ]
  },
  {
   "cell_type": "code",
   "execution_count": 18,
   "metadata": {
    "_kg_hide-input": true
   },
   "outputs": [
    {
     "data": {
      "text/plain": [
       "<keras.callbacks.callbacks.History at 0x7f9cb8359ed0>"
      ]
     },
     "execution_count": 18,
     "metadata": {},
     "output_type": "execute_result"
    }
   ],
   "source": [
    "model.fit(X_train,y_train,epochs =25,verbose = 0)"
   ]
  },
  {
   "cell_type": "code",
   "execution_count": 19,
   "metadata": {
    "_kg_hide-input": true
   },
   "outputs": [
    {
     "name": "stdout",
     "output_type": "stream",
     "text": [
      "The Accuracy score is 0.825\n",
      "The Accuracy score is 0.850\n"
     ]
    }
   ],
   "source": [
    "print('The Accuracy score is {:0.3f}'.format(accuracy_score(y_train,model.predict(X_train)>0.5)))\n",
    "print('The Accuracy score is {:0.3f}'.format(accuracy_score(y_test,model.predict(X_test)>0.5)))"
   ]
  },
  {
   "cell_type": "markdown",
   "execution_count": null,
   "metadata": {},
   "source": [
    "### Cross Validation"
   ]
  },
  {
   "cell_type": "code",
   "execution_count": 20,
   "metadata": {
    "_kg_hide-input": true
   },
   "outputs": [],
   "source": [
    "from keras.wrappers.scikit_learn import KerasClassifier"
   ]
  },
  {
   "cell_type": "code",
   "execution_count": 21,
   "metadata": {
    "_kg_hide-input": true
   },
   "outputs": [],
   "source": [
    "def build_logistic_regression_model():\n",
    "    model = Sequential()\n",
    "    model.add(Dense(1,input_shape=(1,),activation='sigmoid'))\n",
    "    model.compile(SGD(lr=0.5),\n",
    "                 'binary_crossentropy',\n",
    "                 metrics = ['accuracy'])\n",
    "    return model"
   ]
  },
  {
   "cell_type": "code",
   "execution_count": 22,
   "metadata": {
    "_kg_hide-input": true
   },
   "outputs": [],
   "source": [
    "model = KerasClassifier(build_fn = build_logistic_regression_model,epochs = 25 )"
   ]
  },
  {
   "cell_type": "code",
   "execution_count": 23,
   "metadata": {
    "_kg_hide-input": true
   },
   "outputs": [],
   "source": [
    "from sklearn.model_selection import cross_val_score, KFold"
   ]
  },
  {
   "cell_type": "code",
   "execution_count": 24,
   "metadata": {
    "_kg_hide-input": true
   },
   "outputs": [
    {
     "name": "stdout",
     "output_type": "stream",
     "text": [
      "Epoch 1/25\n",
      "66/66 [==============================] - 0s 1ms/step - loss: 0.7235 - accuracy: 0.5909\n",
      "Epoch 2/25\n",
      "66/66 [==============================] - 0s 88us/step - loss: 0.5689 - accuracy: 0.6515\n",
      "Epoch 3/25\n",
      "66/66 [==============================] - 0s 86us/step - loss: 0.5334 - accuracy: 0.7273\n",
      "Epoch 4/25\n",
      "66/66 [==============================] - 0s 94us/step - loss: 0.5190 - accuracy: 0.7273\n",
      "Epoch 5/25\n",
      "66/66 [==============================] - 0s 95us/step - loss: 0.4964 - accuracy: 0.8333\n",
      "Epoch 6/25\n",
      "66/66 [==============================] - 0s 84us/step - loss: 0.5266 - accuracy: 0.7121\n",
      "Epoch 7/25\n",
      "66/66 [==============================] - 0s 86us/step - loss: 0.5111 - accuracy: 0.7273\n",
      "Epoch 8/25\n",
      "66/66 [==============================] - 0s 90us/step - loss: 0.5144 - accuracy: 0.7273\n",
      "Epoch 9/25\n",
      "66/66 [==============================] - 0s 87us/step - loss: 0.4803 - accuracy: 0.7727\n",
      "Epoch 10/25\n",
      "66/66 [==============================] - 0s 104us/step - loss: 0.4644 - accuracy: 0.8030\n",
      "Epoch 11/25\n",
      "66/66 [==============================] - 0s 87us/step - loss: 0.4845 - accuracy: 0.7727\n",
      "Epoch 12/25\n",
      "66/66 [==============================] - 0s 81us/step - loss: 0.4617 - accuracy: 0.8182\n",
      "Epoch 13/25\n",
      "66/66 [==============================] - 0s 92us/step - loss: 0.4448 - accuracy: 0.7727\n",
      "Epoch 14/25\n",
      "66/66 [==============================] - 0s 99us/step - loss: 0.4443 - accuracy: 0.7879\n",
      "Epoch 15/25\n",
      "66/66 [==============================] - 0s 103us/step - loss: 0.4773 - accuracy: 0.7727\n",
      "Epoch 16/25\n",
      "66/66 [==============================] - 0s 91us/step - loss: 0.4732 - accuracy: 0.7879\n",
      "Epoch 17/25\n",
      "66/66 [==============================] - 0s 76us/step - loss: 0.4742 - accuracy: 0.7879\n",
      "Epoch 18/25\n",
      "66/66 [==============================] - 0s 96us/step - loss: 0.4446 - accuracy: 0.7727\n",
      "Epoch 19/25\n",
      "66/66 [==============================] - 0s 104us/step - loss: 0.4260 - accuracy: 0.7879\n",
      "Epoch 20/25\n",
      "66/66 [==============================] - 0s 109us/step - loss: 0.4790 - accuracy: 0.7727\n",
      "Epoch 21/25\n",
      "66/66 [==============================] - 0s 97us/step - loss: 0.4511 - accuracy: 0.7879\n",
      "Epoch 22/25\n",
      "66/66 [==============================] - 0s 97us/step - loss: 0.4247 - accuracy: 0.8182\n",
      "Epoch 23/25\n",
      "66/66 [==============================] - 0s 100us/step - loss: 0.4547 - accuracy: 0.8182\n",
      "Epoch 24/25\n",
      "66/66 [==============================] - 0s 97us/step - loss: 0.4207 - accuracy: 0.8182\n",
      "Epoch 25/25\n",
      "66/66 [==============================] - 0s 87us/step - loss: 0.4437 - accuracy: 0.8333\n",
      "34/34 [==============================] - 0s 611us/step\n",
      "Epoch 1/25\n",
      "67/67 [==============================] - 0s 1ms/step - loss: 0.8064 - accuracy: 0.4030\n",
      "Epoch 2/25\n",
      "67/67 [==============================] - 0s 88us/step - loss: 0.6020 - accuracy: 0.5821\n",
      "Epoch 3/25\n",
      "67/67 [==============================] - 0s 88us/step - loss: 0.5914 - accuracy: 0.6119\n",
      "Epoch 4/25\n",
      "67/67 [==============================] - 0s 86us/step - loss: 0.5877 - accuracy: 0.7463\n",
      "Epoch 5/25\n",
      "67/67 [==============================] - 0s 88us/step - loss: 0.5688 - accuracy: 0.6716\n",
      "Epoch 6/25\n",
      "67/67 [==============================] - 0s 97us/step - loss: 0.5766 - accuracy: 0.6269\n",
      "Epoch 7/25\n",
      "67/67 [==============================] - 0s 86us/step - loss: 0.5672 - accuracy: 0.6269\n",
      "Epoch 8/25\n",
      "67/67 [==============================] - 0s 98us/step - loss: 0.5569 - accuracy: 0.6418\n",
      "Epoch 9/25\n",
      "67/67 [==============================] - 0s 88us/step - loss: 0.5001 - accuracy: 0.7612\n",
      "Epoch 10/25\n",
      "67/67 [==============================] - 0s 96us/step - loss: 0.5210 - accuracy: 0.7463\n",
      "Epoch 11/25\n",
      "67/67 [==============================] - 0s 93us/step - loss: 0.4809 - accuracy: 0.7313\n",
      "Epoch 12/25\n",
      "67/67 [==============================] - 0s 104us/step - loss: 0.5428 - accuracy: 0.7164\n",
      "Epoch 13/25\n",
      "67/67 [==============================] - 0s 114us/step - loss: 0.4540 - accuracy: 0.8060\n",
      "Epoch 14/25\n",
      "67/67 [==============================] - 0s 107us/step - loss: 0.4411 - accuracy: 0.8358\n",
      "Epoch 15/25\n",
      "67/67 [==============================] - 0s 102us/step - loss: 0.4324 - accuracy: 0.8507\n",
      "Epoch 16/25\n",
      "67/67 [==============================] - 0s 105us/step - loss: 0.4279 - accuracy: 0.8358\n",
      "Epoch 17/25\n",
      "67/67 [==============================] - 0s 121us/step - loss: 0.4421 - accuracy: 0.7910\n",
      "Epoch 18/25\n",
      "67/67 [==============================] - 0s 107us/step - loss: 0.4141 - accuracy: 0.8507\n",
      "Epoch 19/25\n",
      "67/67 [==============================] - 0s 130us/step - loss: 0.4105 - accuracy: 0.8358\n",
      "Epoch 20/25\n",
      "67/67 [==============================] - 0s 98us/step - loss: 0.4088 - accuracy: 0.8358\n",
      "Epoch 21/25\n",
      "67/67 [==============================] - 0s 108us/step - loss: 0.4043 - accuracy: 0.8358\n",
      "Epoch 22/25\n",
      "67/67 [==============================] - 0s 111us/step - loss: 0.4578 - accuracy: 0.8209\n",
      "Epoch 23/25\n",
      "67/67 [==============================] - 0s 107us/step - loss: 0.4117 - accuracy: 0.8806\n",
      "Epoch 24/25\n",
      "67/67 [==============================] - 0s 101us/step - loss: 0.3909 - accuracy: 0.8358\n",
      "Epoch 25/25\n",
      "67/67 [==============================] - 0s 117us/step - loss: 0.3935 - accuracy: 0.8507\n",
      "33/33 [==============================] - 0s 699us/step\n",
      "Epoch 1/25\n",
      "67/67 [==============================] - 0s 976us/step - loss: 0.8431 - accuracy: 0.5373\n",
      "Epoch 2/25\n",
      "67/67 [==============================] - 0s 92us/step - loss: 0.5796 - accuracy: 0.6567\n",
      "Epoch 3/25\n",
      "67/67 [==============================] - 0s 85us/step - loss: 0.5617 - accuracy: 0.7761\n",
      "Epoch 4/25\n",
      "67/67 [==============================] - 0s 78us/step - loss: 0.5579 - accuracy: 0.7910\n",
      "Epoch 5/25\n",
      "67/67 [==============================] - 0s 81us/step - loss: 0.5216 - accuracy: 0.7463\n",
      "Epoch 6/25\n",
      "67/67 [==============================] - 0s 92us/step - loss: 0.5475 - accuracy: 0.7612\n",
      "Epoch 7/25\n",
      "67/67 [==============================] - 0s 93us/step - loss: 0.5107 - accuracy: 0.8060\n",
      "Epoch 8/25\n",
      "67/67 [==============================] - 0s 87us/step - loss: 0.5023 - accuracy: 0.7612\n",
      "Epoch 9/25\n",
      "67/67 [==============================] - 0s 76us/step - loss: 0.5353 - accuracy: 0.7164\n",
      "Epoch 10/25\n",
      "67/67 [==============================] - 0s 98us/step - loss: 0.4739 - accuracy: 0.7910\n",
      "Epoch 11/25\n",
      "67/67 [==============================] - 0s 122us/step - loss: 0.4757 - accuracy: 0.8060\n",
      "Epoch 12/25\n",
      "67/67 [==============================] - 0s 98us/step - loss: 0.4757 - accuracy: 0.7463\n",
      "Epoch 13/25\n",
      "67/67 [==============================] - 0s 106us/step - loss: 0.5214 - accuracy: 0.7612\n",
      "Epoch 14/25\n",
      "67/67 [==============================] - 0s 100us/step - loss: 0.4488 - accuracy: 0.8060\n",
      "Epoch 15/25\n",
      "67/67 [==============================] - 0s 118us/step - loss: 0.4483 - accuracy: 0.8209\n",
      "Epoch 16/25\n",
      "67/67 [==============================] - 0s 118us/step - loss: 0.4476 - accuracy: 0.8060\n",
      "Epoch 17/25\n",
      "67/67 [==============================] - 0s 107us/step - loss: 0.4607 - accuracy: 0.8060\n",
      "Epoch 18/25\n",
      "67/67 [==============================] - 0s 109us/step - loss: 0.4403 - accuracy: 0.8060\n",
      "Epoch 19/25\n",
      "67/67 [==============================] - 0s 133us/step - loss: 0.4363 - accuracy: 0.7910\n",
      "Epoch 20/25\n",
      "67/67 [==============================] - 0s 103us/step - loss: 0.4443 - accuracy: 0.7910\n",
      "Epoch 21/25\n",
      "67/67 [==============================] - 0s 99us/step - loss: 0.4435 - accuracy: 0.7910\n",
      "Epoch 22/25\n",
      "67/67 [==============================] - 0s 88us/step - loss: 0.4363 - accuracy: 0.8209\n",
      "Epoch 23/25\n",
      "67/67 [==============================] - 0s 86us/step - loss: 0.4277 - accuracy: 0.8209\n",
      "Epoch 24/25\n",
      "67/67 [==============================] - 0s 85us/step - loss: 0.4697 - accuracy: 0.7463\n",
      "Epoch 25/25\n",
      "67/67 [==============================] - 0s 112us/step - loss: 0.4373 - accuracy: 0.8060\n",
      "33/33 [==============================] - 0s 605us/step\n"
     ]
    }
   ],
   "source": [
    "cv = KFold(3,shuffle = True)\n",
    "scores = cross_val_score(model,X,y,cv=cv)"
   ]
  },
  {
   "cell_type": "code",
   "execution_count": 25,
   "metadata": {
    "_kg_hide-input": true
   },
   "outputs": [
    {
     "data": {
      "text/plain": [
       "array([0.70588237, 0.78787881, 0.84848487])"
      ]
     },
     "execution_count": 25,
     "metadata": {},
     "output_type": "execute_result"
    }
   ],
   "source": [
    "scores"
   ]
  },
  {
   "cell_type": "code",
   "execution_count": 26,
   "metadata": {
    "_kg_hide-input": true
   },
   "outputs": [
    {
     "name": "stdout",
     "output_type": "stream",
     "text": [
      "The cross validation accuracy is 0.7807 ± 0.0584\n"
     ]
    }
   ],
   "source": [
    "print('The cross validation accuracy is {:0.4f} ± {:0.4f}'.format(scores.mean(),scores.std()))"
   ]
  },
  {
   "cell_type": "markdown",
   "execution_count": null,
   "metadata": {},
   "source": [
    "So after doing 3 fold corss validation we can say that the accuracy of our model is 77.04 % with a standard deviation of 0.035."
   ]
  },
  {
   "cell_type": "markdown",
   "execution_count": null,
   "metadata": {},
   "source": [
    "### Confusion Matrix"
   ]
  },
  {
   "cell_type": "code",
   "execution_count": 27,
   "metadata": {
    "_kg_hide-input": true
   },
   "outputs": [],
   "source": [
    "from sklearn.metrics import confusion_matrix"
   ]
  },
  {
   "cell_type": "code",
   "execution_count": 28,
   "metadata": {
    "_kg_hide-input": true
   },
   "outputs": [
    {
     "data": {
      "text/plain": [
       "array([[45,  5],\n",
       "       [11, 39]])"
      ]
     },
     "execution_count": 28,
     "metadata": {},
     "output_type": "execute_result"
    }
   ],
   "source": [
    "confusion_matrix(y,y_class_pred)"
   ]
  },
  {
   "cell_type": "code",
   "execution_count": 29,
   "metadata": {
    "_kg_hide-input": true
   },
   "outputs": [],
   "source": [
    "def pretty_confusion_matrix(y_true,y_pred,labels =[\"False\",\"True\"]):\n",
    "    cm = confusion_matrix(y_true,y_pred)\n",
    "    pred_labels = ['Predicted '+ l for l in labels]\n",
    "    df = pd.DataFrame(cm,index = labels,columns = pred_labels)\n",
    "    return df"
   ]
  },
  {
   "cell_type": "code",
   "execution_count": 30,
   "metadata": {
    "_kg_hide-input": true
   },
   "outputs": [
    {
     "data": {
      "text/html": [
       "<div>\n",
       "<style scoped>\n",
       "    .dataframe tbody tr th:only-of-type {\n",
       "        vertical-align: middle;\n",
       "    }\n",
       "\n",
       "    .dataframe tbody tr th {\n",
       "        vertical-align: top;\n",
       "    }\n",
       "\n",
       "    .dataframe thead th {\n",
       "        text-align: right;\n",
       "    }\n",
       "</style>\n",
       "<table border=\"1\" class=\"dataframe\">\n",
       "  <thead>\n",
       "    <tr style=\"text-align: right;\">\n",
       "      <th></th>\n",
       "      <th>Predicted Not Buy</th>\n",
       "      <th>Predicted Buy</th>\n",
       "    </tr>\n",
       "  </thead>\n",
       "  <tbody>\n",
       "    <tr>\n",
       "      <th>Not Buy</th>\n",
       "      <td>45</td>\n",
       "      <td>5</td>\n",
       "    </tr>\n",
       "    <tr>\n",
       "      <th>Buy</th>\n",
       "      <td>11</td>\n",
       "      <td>39</td>\n",
       "    </tr>\n",
       "  </tbody>\n",
       "</table>\n",
       "</div>"
      ],
      "text/plain": [
       "         Predicted Not Buy  Predicted Buy\n",
       "Not Buy                 45              5\n",
       "Buy                     11             39"
      ]
     },
     "execution_count": 30,
     "metadata": {},
     "output_type": "execute_result"
    }
   ],
   "source": [
    "pretty_confusion_matrix(y,y_class_pred,['Not Buy','Buy'])"
   ]
  },
  {
   "cell_type": "code",
   "execution_count": 31,
   "metadata": {
    "_kg_hide-input": true
   },
   "outputs": [],
   "source": [
    "from sklearn.metrics import precision_score,recall_score,f1_score"
   ]
  },
  {
   "cell_type": "code",
   "execution_count": 32,
   "metadata": {
    "_kg_hide-input": true
   },
   "outputs": [
    {
     "name": "stdout",
     "output_type": "stream",
     "text": [
      "Precision:\t0.886\n",
      "Recall:   \t0.780\n",
      "F1 score: \t0.830\n"
     ]
    }
   ],
   "source": [
    "print('Precision:\\t{:0.3f}'.format(precision_score(y,y_class_pred)))\n",
    "print('Recall:   \\t{:0.3f}'.format(recall_score(y,y_class_pred)))\n",
    "print('F1 score: \\t{:0.3f}'.format(f1_score(y,y_class_pred)))"
   ]
  },
  {
   "cell_type": "code",
   "execution_count": 33,
   "metadata": {
    "_kg_hide-input": true
   },
   "outputs": [],
   "source": [
    "from sklearn.metrics import classification_report "
   ]
  },
  {
   "cell_type": "code",
   "execution_count": 34,
   "metadata": {
    "_kg_hide-input": true
   },
   "outputs": [
    {
     "name": "stdout",
     "output_type": "stream",
     "text": [
      "              precision    recall  f1-score   support\n",
      "\n",
      "           0       0.80      0.90      0.85        50\n",
      "           1       0.89      0.78      0.83        50\n",
      "\n",
      "    accuracy                           0.84       100\n",
      "   macro avg       0.84      0.84      0.84       100\n",
      "weighted avg       0.84      0.84      0.84       100\n",
      "\n"
     ]
    }
   ],
   "source": [
    "print(classification_report(y,y_class_pred))"
   ]
  },
  {
   "cell_type": "code",
   "execution_count": null,
   "metadata": {},
   "outputs": [],
   "source": []
  }
 ],
 "metadata": {
  "kernelspec": {
   "display_name": "Python 3",
   "language": "python",
   "name": "python3"
  },
  "language_info": {
   "codemirror_mode": {
    "name": "ipython",
    "version": 3
   },
   "file_extension": ".py",
   "mimetype": "text/x-python",
   "name": "python",
   "nbconvert_exporter": "python",
   "pygments_lexer": "ipython3",
   "version": "3.7.6"
  }
 },
 "nbformat": 4,
 "nbformat_minor": 4
}
