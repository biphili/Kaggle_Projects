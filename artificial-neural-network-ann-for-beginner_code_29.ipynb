{
 "cells": [
  {
   "cell_type": "markdown",
   "metadata": {
    "_uuid": "229b64dfa1d1eeca6b0b92f83004aab2e74ee016"
   },
   "source": [
    "# During the lockdown I published my first book titled Inspiration:Thoughts on Spirituality,Technology,Wealth,Leadership and Motivation.The preview of the book can be read from the Amazon link https://lnkd.in/gj7bMQA\n",
    "# E Book is availabe for Rs 99 in India.Paperback Edition of the book is available on Amazon.com link https://lnkd.in/gkFYYMJ\n",
    "\n",
    "In this tutorial I will demonstrate the basics of tensor flow and how to make a Artifical Neural network.The data set consists of data of customers of a bank.By using ANN Algorithm we will try to predict which customer will stay or exit the bank.This prediction will be useful for the Bank to make strategy to retain customers.This is a Kernel in process and I will be updating the Kernel in the coming days.If you Like my work please do vote."
   ]
  },
  {
   "cell_type": "code",
   "execution_count": 1,
   "metadata": {
    "_cell_guid": "b1076dfc-b9ad-4769-8c92-a6c4dae69d19",
    "_kg_hide-input": true,
    "_uuid": "8f2839f25d086af736a60e9eeb907d3b93b6e0e5"
   },
   "outputs": [
    {
     "name": "stdout",
     "output_type": "stream",
     "text": [
      "['Churn_Modelling.csv']\n"
     ]
    }
   ],
   "source": [
    "# This Python 3 environment comes with many helpful analytics libraries installed\n",
    "# It is defined by the kaggle/python docker image: https://github.com/kaggle/docker-python\n",
    "# For example, here's several helpful packages to load in \n",
    "\n",
    "import numpy as np # linear algebra\n",
    "import pandas as pd # data processing, CSV file I/O (e.g. pd.read_csv)\n",
    "\n",
    "# Input data files are available in the \"../input/\" directory.\n",
    "# For example, running this (by clicking run or pressing Shift+Enter) will list the files in the input directory\n",
    "\n",
    "import os\n",
    "print(os.listdir(\"../input\"))\n",
    "\n",
    "# Any results you write to the current directory are saved as output."
   ]
  },
  {
   "cell_type": "markdown",
   "metadata": {},
   "source": [
    "**Building a computational graph**"
   ]
  },
  {
   "cell_type": "code",
   "execution_count": 2,
   "metadata": {},
   "outputs": [
    {
     "name": "stdout",
     "output_type": "stream",
     "text": [
      "Tensor(\"Const:0\", shape=(), dtype=float32) Tensor(\"Const_1:0\", shape=(), dtype=float32)\n"
     ]
    }
   ],
   "source": [
    "import tensorflow as tf\n",
    "node1=tf.constant(3.0,tf.float32)\n",
    "node2=tf.constant(4.0)\n",
    "print(node1,node2)"
   ]
  },
  {
   "cell_type": "markdown",
   "metadata": {},
   "source": [
    "Here we have to abstract tensor no operation is performed on the tensor "
   ]
  },
  {
   "cell_type": "markdown",
   "metadata": {},
   "source": [
    "**Running a computational graph**"
   ]
  },
  {
   "cell_type": "code",
   "execution_count": 3,
   "metadata": {},
   "outputs": [
    {
     "name": "stdout",
     "output_type": "stream",
     "text": [
      "[3.0, 4.0]\n"
     ]
    }
   ],
   "source": [
    "sess=tf.Session()\n",
    "print(sess.run([node1,node2]))\n",
    "sess.close()"
   ]
  },
  {
   "cell_type": "markdown",
   "metadata": {},
   "source": [
    "**Another way of Running a computational graph**"
   ]
  },
  {
   "cell_type": "code",
   "execution_count": 4,
   "metadata": {},
   "outputs": [
    {
     "name": "stdout",
     "output_type": "stream",
     "text": [
      "[3.0, 4.0]\n"
     ]
    }
   ],
   "source": [
    "with tf.Session() as sess:\n",
    "    output=sess.run([node1,node2])\n",
    "    print(output)"
   ]
  },
  {
   "cell_type": "markdown",
   "metadata": {},
   "source": [
    "So we have successfully run the session.3 and 4 are the values stored in the node "
   ]
  },
  {
   "cell_type": "markdown",
   "metadata": {},
   "source": [
    "**Multiplying two numbers **"
   ]
  },
  {
   "cell_type": "code",
   "execution_count": 5,
   "metadata": {
    "_kg_hide-input": true
   },
   "outputs": [
    {
     "name": "stdout",
     "output_type": "stream",
     "text": [
      "30.0\n"
     ]
    }
   ],
   "source": [
    "\n",
    "#Build a graph\n",
    "a=tf.constant(5.0)\n",
    "b=tf.constant(6.0)\n",
    "\n",
    "c=a*b\n",
    "\n",
    "#Launch the graph in a session \n",
    "sess=tf.Session()\n",
    "\n",
    "#Evaluate the tensor 'c'\n",
    "print(sess.run(c))\n",
    "\n",
    "sess.close()\n"
   ]
  },
  {
   "cell_type": "markdown",
   "metadata": {},
   "source": [
    "**Defining place holder**"
   ]
  },
  {
   "cell_type": "code",
   "execution_count": 6,
   "metadata": {
    "_kg_hide-input": true
   },
   "outputs": [
    {
     "name": "stdout",
     "output_type": "stream",
     "text": [
      "[3. 7.]\n"
     ]
    }
   ],
   "source": [
    "\n",
    "a=tf.placeholder(tf.float32)\n",
    "b=tf.placeholder(tf.float32)\n",
    "\n",
    "adder_node=a + b\n",
    "sess=tf.Session()\n",
    "\n",
    "print(sess.run(adder_node,{a:[1,3],b:[2,4]}))"
   ]
  },
  {
   "cell_type": "markdown",
   "metadata": {},
   "source": [
    "**Defining a variable** "
   ]
  },
  {
   "cell_type": "code",
   "execution_count": 7,
   "metadata": {},
   "outputs": [
    {
     "name": "stdout",
     "output_type": "stream",
     "text": [
      "[0.         0.3        0.6        0.90000004]\n"
     ]
    }
   ],
   "source": [
    "import tensorflow as tf \n",
    "\n",
    "# Model Parameters \n",
    "W=tf.Variable([.3],tf.float32)   # Variable with initial value 0.3\n",
    "b=tf.Variable([-.3],tf.float32)   # Variable with initial value -0.3\n",
    "\n",
    "# Inputs and Outputs \n",
    "x=tf.placeholder(tf.float32)\n",
    "\n",
    "linear_model= W*x + b\n",
    "\n",
    "y=tf.placeholder(tf.float32)\n",
    "\n",
    "# Loss Function \n",
    "\n",
    "squared_delta=tf.square(linear_model-y)\n",
    "loss=tf.reduce_sum(squared_delta)\n",
    "\n",
    "init=tf.global_variables_initializer() #to initalize all the variables in a tensor flow program\n",
    "\n",
    "sess=tf.Session()\n",
    "sess.run(init)\n",
    "print(sess.run(linear_model,{x:[1,2,3,4],y:[0,-1,-2,-3]}))"
   ]
  },
  {
   "cell_type": "markdown",
   "metadata": {},
   "source": [
    "So if we were to change the value of W and b to -1 and 1 respectively the loss will be zero "
   ]
  },
  {
   "cell_type": "markdown",
   "metadata": {},
   "source": [
    "**Making use gradient descent optimizer **"
   ]
  },
  {
   "cell_type": "code",
   "execution_count": 8,
   "metadata": {},
   "outputs": [
    {
     "name": "stdout",
     "output_type": "stream",
     "text": [
      "[array([-0.9987147], dtype=float32), array([0.99622095], dtype=float32)]\n"
     ]
    }
   ],
   "source": [
    "# Model Parameters \n",
    "W=tf.Variable([.3],tf.float32)   # Variable with initial value 0.3\n",
    "b=tf.Variable([-.3],tf.float32)   # Variable with initial value -0.3\n",
    "\n",
    "# Inputs and Outputs \n",
    "x=tf.placeholder(tf.float32)\n",
    "\n",
    "linear_model= W*x + b\n",
    "\n",
    "y=tf.placeholder(tf.float32)\n",
    "\n",
    "# Loss Function \n",
    "\n",
    "squared_delta=tf.square(linear_model-y)\n",
    "loss=tf.reduce_sum(squared_delta)\n",
    "\n",
    "# Optimize\n",
    "optimizer=tf.train.GradientDescentOptimizer(0.01)\n",
    "train=optimizer.minimize(loss)\n",
    "\n",
    "init=tf.global_variables_initializer()  #to initalize all the variables in a tensor flow program\n",
    "\n",
    "sess=tf.Session()\n",
    "sess.run(init)\n",
    "\n",
    "for i in range (500):\n",
    "    sess.run(train,{x:[1,2,3,4],y:[0,-1,-2,-3]})\n",
    "#print(sess.run(linear_model,{x:[1,2,3,4],y:[0,-1,-2,-3]}))\n",
    "\n",
    "print(sess.run([W,b]))\n"
   ]
  },
  {
   "cell_type": "markdown",
   "metadata": {
    "_uuid": "d20cb2e9b8d8b60cabf0db5646ef6281daa3254a"
   },
   "source": [
    "### PART A: Preprocessing the input data"
   ]
  },
  {
   "cell_type": "markdown",
   "metadata": {
    "_cell_guid": "79c7e3d0-c299-4dcb-8224-4455121ee9b0",
    "_uuid": "d629ff2d2480ee46fbb7e2d37f6b5fab8052498a",
    "collapsed": true
   },
   "source": [
    "**1.Importing the Python Modules**"
   ]
  },
  {
   "cell_type": "code",
   "execution_count": 9,
   "metadata": {
    "_kg_hide-input": false,
    "_uuid": "2db81bd8a01076ed34d8c5b9b7acd84841947b34"
   },
   "outputs": [],
   "source": [
    "import numpy as np\n",
    "import matplotlib.pyplot as plt \n",
    "import pandas as pd \n",
    "import warnings\n",
    "warnings.filterwarnings('ignore') "
   ]
  },
  {
   "cell_type": "code",
   "execution_count": 10,
   "metadata": {
    "_uuid": "83e910265bbe8981b7f9ccd5272a98a3204e4f1c"
   },
   "outputs": [
    {
     "data": {
      "text/html": [
       "<div>\n",
       "<style scoped>\n",
       "    .dataframe tbody tr th:only-of-type {\n",
       "        vertical-align: middle;\n",
       "    }\n",
       "\n",
       "    .dataframe tbody tr th {\n",
       "        vertical-align: top;\n",
       "    }\n",
       "\n",
       "    .dataframe thead th {\n",
       "        text-align: right;\n",
       "    }\n",
       "</style>\n",
       "<table border=\"1\" class=\"dataframe\">\n",
       "  <thead>\n",
       "    <tr style=\"text-align: right;\">\n",
       "      <th></th>\n",
       "      <th>RowNumber</th>\n",
       "      <th>CustomerId</th>\n",
       "      <th>Surname</th>\n",
       "      <th>CreditScore</th>\n",
       "      <th>Geography</th>\n",
       "      <th>Gender</th>\n",
       "      <th>Age</th>\n",
       "      <th>Tenure</th>\n",
       "      <th>Balance</th>\n",
       "      <th>NumOfProducts</th>\n",
       "      <th>HasCrCard</th>\n",
       "      <th>IsActiveMember</th>\n",
       "      <th>EstimatedSalary</th>\n",
       "      <th>Exited</th>\n",
       "    </tr>\n",
       "  </thead>\n",
       "  <tbody>\n",
       "    <tr>\n",
       "      <th>0</th>\n",
       "      <td>1</td>\n",
       "      <td>15634601</td>\n",
       "      <td>Hargrave</td>\n",
       "      <td>619</td>\n",
       "      <td>France</td>\n",
       "      <td>Female</td>\n",
       "      <td>42</td>\n",
       "      <td>2</td>\n",
       "      <td>0.00</td>\n",
       "      <td>1</td>\n",
       "      <td>1</td>\n",
       "      <td>1</td>\n",
       "      <td>101348.88</td>\n",
       "      <td>1</td>\n",
       "    </tr>\n",
       "    <tr>\n",
       "      <th>1</th>\n",
       "      <td>2</td>\n",
       "      <td>15647311</td>\n",
       "      <td>Hill</td>\n",
       "      <td>608</td>\n",
       "      <td>Spain</td>\n",
       "      <td>Female</td>\n",
       "      <td>41</td>\n",
       "      <td>1</td>\n",
       "      <td>83807.86</td>\n",
       "      <td>1</td>\n",
       "      <td>0</td>\n",
       "      <td>1</td>\n",
       "      <td>112542.58</td>\n",
       "      <td>0</td>\n",
       "    </tr>\n",
       "    <tr>\n",
       "      <th>2</th>\n",
       "      <td>3</td>\n",
       "      <td>15619304</td>\n",
       "      <td>Onio</td>\n",
       "      <td>502</td>\n",
       "      <td>France</td>\n",
       "      <td>Female</td>\n",
       "      <td>42</td>\n",
       "      <td>8</td>\n",
       "      <td>159660.80</td>\n",
       "      <td>3</td>\n",
       "      <td>1</td>\n",
       "      <td>0</td>\n",
       "      <td>113931.57</td>\n",
       "      <td>1</td>\n",
       "    </tr>\n",
       "    <tr>\n",
       "      <th>3</th>\n",
       "      <td>4</td>\n",
       "      <td>15701354</td>\n",
       "      <td>Boni</td>\n",
       "      <td>699</td>\n",
       "      <td>France</td>\n",
       "      <td>Female</td>\n",
       "      <td>39</td>\n",
       "      <td>1</td>\n",
       "      <td>0.00</td>\n",
       "      <td>2</td>\n",
       "      <td>0</td>\n",
       "      <td>0</td>\n",
       "      <td>93826.63</td>\n",
       "      <td>0</td>\n",
       "    </tr>\n",
       "    <tr>\n",
       "      <th>4</th>\n",
       "      <td>5</td>\n",
       "      <td>15737888</td>\n",
       "      <td>Mitchell</td>\n",
       "      <td>850</td>\n",
       "      <td>Spain</td>\n",
       "      <td>Female</td>\n",
       "      <td>43</td>\n",
       "      <td>2</td>\n",
       "      <td>125510.82</td>\n",
       "      <td>1</td>\n",
       "      <td>1</td>\n",
       "      <td>1</td>\n",
       "      <td>79084.10</td>\n",
       "      <td>0</td>\n",
       "    </tr>\n",
       "  </tbody>\n",
       "</table>\n",
       "</div>"
      ],
      "text/plain": [
       "   RowNumber  CustomerId   ...   EstimatedSalary  Exited\n",
       "0          1    15634601   ...         101348.88       1\n",
       "1          2    15647311   ...         112542.58       0\n",
       "2          3    15619304   ...         113931.57       1\n",
       "3          4    15701354   ...          93826.63       0\n",
       "4          5    15737888   ...          79084.10       0\n",
       "\n",
       "[5 rows x 14 columns]"
      ]
     },
     "execution_count": 10,
     "metadata": {},
     "output_type": "execute_result"
    }
   ],
   "source": [
    "dataset=pd.read_csv('../input/Churn_Modelling.csv')\n",
    "dataset.head()"
   ]
  },
  {
   "cell_type": "markdown",
   "metadata": {
    "_uuid": "7a79e0b165e9ccab2042df0623a0dae540b54911"
   },
   "source": [
    "So we can see that the Data has the details of the customer's like Customer ID,Name,Credit Score,Country,Age,Sex and the dealings of a customer with the bank. "
   ]
  },
  {
   "cell_type": "markdown",
   "metadata": {
    "_uuid": "aee307142a490400f91c7e64fa9963c82ca3e9c9"
   },
   "source": [
    "**3.Generating Array of Features and Target Values**"
   ]
  },
  {
   "cell_type": "code",
   "execution_count": 11,
   "metadata": {
    "_uuid": "ad05c4c5286109187d55d8bcc634138373875e02"
   },
   "outputs": [],
   "source": [
    "X=dataset.iloc[:,3:13].values\n",
    "#X\n",
    "y=dataset.iloc[:,13].values"
   ]
  },
  {
   "cell_type": "markdown",
   "metadata": {
    "_uuid": "32c091d2e355d4ad28927e5fd594fef6f7920921"
   },
   "source": [
    "**4.Encoding the Catogerical Data **"
   ]
  },
  {
   "cell_type": "code",
   "execution_count": 12,
   "metadata": {
    "_uuid": "06fa840cb465ca6b849651230dd6a9aba989ae78"
   },
   "outputs": [
    {
     "name": "stderr",
     "output_type": "stream",
     "text": [
      "/opt/conda/lib/python3.6/site-packages/sklearn/preprocessing/_encoders.py:451: DeprecationWarning: The 'categorical_features' keyword is deprecated in version 0.20 and will be removed in 0.22. You can use the ColumnTransformer instead.\n",
      "  \"use the ColumnTransformer instead.\", DeprecationWarning)\n"
     ]
    }
   ],
   "source": [
    "from sklearn.preprocessing import LabelEncoder,OneHotEncoder\n",
    "labelencoder_X_1=LabelEncoder()\n",
    "X[:,1] = labelencoder_X_1.fit_transform(X[:,1]) #Encoding the values of column Country\n",
    "labelencoder_X_2=LabelEncoder()\n",
    "X[:,2] = labelencoder_X_2.fit_transform(X[:,2])\n",
    "onehotencoder=OneHotEncoder(categorical_features=[1])\n",
    "X=onehotencoder.fit_transform(X).toarray()\n",
    "X=X[:,1:]\n",
    "#X"
   ]
  },
  {
   "cell_type": "markdown",
   "metadata": {
    "_uuid": "c96fd4c9df94cd94ed24d3b74751bfb3dd0cc025"
   },
   "source": [
    "**5.Splitting the dataset to Train and Test Set**"
   ]
  },
  {
   "cell_type": "code",
   "execution_count": 13,
   "metadata": {
    "_uuid": "65849a15962ffd4dd9e21911f329ae6e39a21c82"
   },
   "outputs": [],
   "source": [
    "from sklearn.model_selection import train_test_split   #cross_validation doesnt work any more\n",
    "X_train,X_test,y_train,y_test=train_test_split(X,y,test_size=0.2,random_state=0) \n",
    "#X_train"
   ]
  },
  {
   "cell_type": "markdown",
   "metadata": {
    "_uuid": "8813cebfb6175bf704cd2bb820dd12b253d4131f"
   },
   "source": [
    "**6.Feature Scaling**"
   ]
  },
  {
   "cell_type": "code",
   "execution_count": 14,
   "metadata": {
    "_uuid": "59993de7cf2d53c3ac92e349f1209b188e21151b"
   },
   "outputs": [],
   "source": [
    "from sklearn.preprocessing import StandardScaler \n",
    "sc_X=StandardScaler()\n",
    "X_train=sc_X.fit_transform(X_train)\n",
    "X_test=sc_X.fit_transform(X_test)\n",
    "#X_train"
   ]
  },
  {
   "cell_type": "markdown",
   "metadata": {
    "_uuid": "5e5f1355db4b3bd324e76381c82d66a2e46bfc7a"
   },
   "source": [
    "### PART B: Building the ANN"
   ]
  },
  {
   "cell_type": "markdown",
   "metadata": {
    "_uuid": "ed7b22db977e216c1fcdb883c89a7473b0994201"
   },
   "source": [
    "**7.Importing the Keras Library **"
   ]
  },
  {
   "cell_type": "code",
   "execution_count": 15,
   "metadata": {
    "_uuid": "ded31c969f5baca3fa7300343c747377e45e4c0d"
   },
   "outputs": [
    {
     "name": "stderr",
     "output_type": "stream",
     "text": [
      "Using TensorFlow backend.\n"
     ]
    }
   ],
   "source": [
    "import keras \n",
    "from keras.models import Sequential \n",
    "from keras.layers import Dense "
   ]
  },
  {
   "cell_type": "markdown",
   "metadata": {
    "_uuid": "93480429eaa28960bbf4af105b63bb9d6d152bb5"
   },
   "source": [
    "**8.Initialising the ANN **"
   ]
  },
  {
   "cell_type": "code",
   "execution_count": 16,
   "metadata": {
    "_uuid": "1b4029dd9a6f9a3fee5a2190dbe0146a666e37e9"
   },
   "outputs": [],
   "source": [
    "classifier=Sequential()"
   ]
  },
  {
   "cell_type": "markdown",
   "metadata": {
    "_uuid": "b70530a62e12fedc9ee32f04ce1ebf6a1e30b1f0"
   },
   "source": [
    "### PART C: Making prediction and evaluating the model"
   ]
  },
  {
   "cell_type": "markdown",
   "metadata": {
    "_uuid": "ce439493c433f0ddb93f53f4982d84bb7ad87594"
   },
   "source": [
    "**9.Adding the input layer and the first hidden layer **"
   ]
  },
  {
   "cell_type": "code",
   "execution_count": 17,
   "metadata": {
    "_uuid": "a1b148d0c141c502ee07f7731a6f187be7016b1f"
   },
   "outputs": [],
   "source": [
    "classifier.add(Dense(output_dim=6,init='uniform',activation='relu',input_dim=11))"
   ]
  },
  {
   "cell_type": "markdown",
   "metadata": {
    "_uuid": "7a6bb0e29a7b36d77e82eb681af4b6a5760982a4"
   },
   "source": [
    "**10.Adding the second hidden Layer **"
   ]
  },
  {
   "cell_type": "code",
   "execution_count": 18,
   "metadata": {
    "_uuid": "79a8fd4699d18c98a8b7c6c9b5dcbb0bd5c5e9c3"
   },
   "outputs": [],
   "source": [
    "classifier.add(Dense(output_dim=6,init='uniform',activation='relu'))"
   ]
  },
  {
   "cell_type": "markdown",
   "metadata": {
    "_uuid": "07f464fdd194af3389669dd510bd1422b45b5eb0"
   },
   "source": [
    "**11.Adding the output  layer **"
   ]
  },
  {
   "cell_type": "code",
   "execution_count": 19,
   "metadata": {
    "_uuid": "1d80b3f87a64d4b8aef0014dd0cfe63d43c0e6c1"
   },
   "outputs": [],
   "source": [
    "classifier.add(Dense(output_dim=1,init='uniform',activation='sigmoid'))"
   ]
  },
  {
   "cell_type": "markdown",
   "metadata": {
    "_uuid": "a5895c1ba3402441fb2bf84bf3d149e72bb85c18"
   },
   "source": [
    "**12.Compliling the ANN**"
   ]
  },
  {
   "cell_type": "code",
   "execution_count": 20,
   "metadata": {
    "_uuid": "ce349212b6f258fa666dfa724e10c89ebedaa17c"
   },
   "outputs": [],
   "source": [
    "classifier.compile(optimizer='adam',loss='binary_crossentropy',metrics=['accuracy'])"
   ]
  },
  {
   "cell_type": "markdown",
   "metadata": {
    "_uuid": "474cdee42cb5be3c1bd45cfb5bb60abce74d73bd"
   },
   "source": [
    "**13.Fitting the ANN to training set **"
   ]
  },
  {
   "cell_type": "code",
   "execution_count": 21,
   "metadata": {
    "_uuid": "708061fad4ae6b579808345d5e211a135373d3bf"
   },
   "outputs": [
    {
     "name": "stdout",
     "output_type": "stream",
     "text": [
      "Epoch 1/100\n",
      "8000/8000 [==============================] - 1s 176us/step - loss: 0.4816 - acc: 0.7955\n",
      "Epoch 2/100\n",
      "8000/8000 [==============================] - 1s 122us/step - loss: 0.4290 - acc: 0.7960\n",
      "Epoch 3/100\n",
      "8000/8000 [==============================] - 1s 122us/step - loss: 0.4235 - acc: 0.7960\n",
      "Epoch 4/100\n",
      "8000/8000 [==============================] - 1s 121us/step - loss: 0.4194 - acc: 0.8184\n",
      "Epoch 5/100\n",
      "8000/8000 [==============================] - 1s 124us/step - loss: 0.4168 - acc: 0.8271\n",
      "Epoch 6/100\n",
      "8000/8000 [==============================] - 1s 124us/step - loss: 0.4144 - acc: 0.8296\n",
      "Epoch 7/100\n",
      "8000/8000 [==============================] - 1s 121us/step - loss: 0.4136 - acc: 0.8299\n",
      "Epoch 8/100\n",
      "8000/8000 [==============================] - 1s 122us/step - loss: 0.4119 - acc: 0.8319\n",
      "Epoch 9/100\n",
      "8000/8000 [==============================] - 1s 133us/step - loss: 0.4112 - acc: 0.8337\n",
      "Epoch 10/100\n",
      "8000/8000 [==============================] - 1s 155us/step - loss: 0.4101 - acc: 0.8345\n",
      "Epoch 11/100\n",
      "8000/8000 [==============================] - 1s 133us/step - loss: 0.4087 - acc: 0.8332\n",
      "Epoch 12/100\n",
      "8000/8000 [==============================] - 1s 146us/step - loss: 0.4083 - acc: 0.8326\n",
      "Epoch 13/100\n",
      "8000/8000 [==============================] - 1s 125us/step - loss: 0.4078 - acc: 0.8350\n",
      "Epoch 14/100\n",
      "8000/8000 [==============================] - 1s 148us/step - loss: 0.4068 - acc: 0.8330\n",
      "Epoch 15/100\n",
      "8000/8000 [==============================] - 1s 122us/step - loss: 0.4066 - acc: 0.8349\n",
      "Epoch 16/100\n",
      "8000/8000 [==============================] - 1s 127us/step - loss: 0.4061 - acc: 0.8354\n",
      "Epoch 17/100\n",
      "8000/8000 [==============================] - 1s 123us/step - loss: 0.4055 - acc: 0.8337\n",
      "Epoch 18/100\n",
      "8000/8000 [==============================] - 1s 123us/step - loss: 0.4055 - acc: 0.8347\n",
      "Epoch 19/100\n",
      "8000/8000 [==============================] - 1s 148us/step - loss: 0.4051 - acc: 0.8340\n",
      "Epoch 20/100\n",
      "8000/8000 [==============================] - 1s 137us/step - loss: 0.4048 - acc: 0.8344\n",
      "Epoch 21/100\n",
      "8000/8000 [==============================] - 1s 170us/step - loss: 0.4046 - acc: 0.8347\n",
      "Epoch 22/100\n",
      "8000/8000 [==============================] - 1s 143us/step - loss: 0.4041 - acc: 0.8351\n",
      "Epoch 23/100\n",
      "8000/8000 [==============================] - 1s 162us/step - loss: 0.4034 - acc: 0.8357\n",
      "Epoch 24/100\n",
      "8000/8000 [==============================] - 1s 139us/step - loss: 0.4035 - acc: 0.8342\n",
      "Epoch 25/100\n",
      "8000/8000 [==============================] - 1s 149us/step - loss: 0.4035 - acc: 0.8345\n",
      "Epoch 26/100\n",
      "8000/8000 [==============================] - 1s 125us/step - loss: 0.4032 - acc: 0.8346\n",
      "Epoch 27/100\n",
      "8000/8000 [==============================] - 1s 135us/step - loss: 0.4032 - acc: 0.8347\n",
      "Epoch 28/100\n",
      "8000/8000 [==============================] - 1s 137us/step - loss: 0.4029 - acc: 0.8336\n",
      "Epoch 29/100\n",
      "8000/8000 [==============================] - 1s 122us/step - loss: 0.4027 - acc: 0.8344\n",
      "Epoch 30/100\n",
      "8000/8000 [==============================] - 1s 138us/step - loss: 0.4024 - acc: 0.8340\n",
      "Epoch 31/100\n",
      "8000/8000 [==============================] - 1s 122us/step - loss: 0.4027 - acc: 0.8330\n",
      "Epoch 32/100\n",
      "8000/8000 [==============================] - 1s 141us/step - loss: 0.4025 - acc: 0.8347\n",
      "Epoch 33/100\n",
      "8000/8000 [==============================] - 1s 130us/step - loss: 0.4024 - acc: 0.8349\n",
      "Epoch 34/100\n",
      "8000/8000 [==============================] - 1s 123us/step - loss: 0.4020 - acc: 0.8350\n",
      "Epoch 35/100\n",
      "8000/8000 [==============================] - 1s 146us/step - loss: 0.4016 - acc: 0.8336\n",
      "Epoch 36/100\n",
      "8000/8000 [==============================] - 1s 130us/step - loss: 0.4012 - acc: 0.8367\n",
      "Epoch 37/100\n",
      "8000/8000 [==============================] - 1s 124us/step - loss: 0.4006 - acc: 0.8346\n",
      "Epoch 38/100\n",
      "8000/8000 [==============================] - 1s 123us/step - loss: 0.4003 - acc: 0.8355\n",
      "Epoch 39/100\n",
      "8000/8000 [==============================] - 1s 124us/step - loss: 0.3996 - acc: 0.8347\n",
      "Epoch 40/100\n",
      "8000/8000 [==============================] - 1s 125us/step - loss: 0.3992 - acc: 0.8355\n",
      "Epoch 41/100\n",
      "8000/8000 [==============================] - 1s 124us/step - loss: 0.3991 - acc: 0.8345\n",
      "Epoch 42/100\n",
      "8000/8000 [==============================] - 1s 150us/step - loss: 0.3983 - acc: 0.8337\n",
      "Epoch 43/100\n",
      "8000/8000 [==============================] - 1s 123us/step - loss: 0.3975 - acc: 0.8359\n",
      "Epoch 44/100\n",
      "8000/8000 [==============================] - 1s 124us/step - loss: 0.3981 - acc: 0.8341\n",
      "Epoch 45/100\n",
      "8000/8000 [==============================] - 1s 148us/step - loss: 0.3979 - acc: 0.8336\n",
      "Epoch 46/100\n",
      "8000/8000 [==============================] - 1s 140us/step - loss: 0.3966 - acc: 0.8366\n",
      "Epoch 47/100\n",
      "8000/8000 [==============================] - 1s 130us/step - loss: 0.3972 - acc: 0.8347\n",
      "Epoch 48/100\n",
      "8000/8000 [==============================] - 1s 137us/step - loss: 0.3971 - acc: 0.8365\n",
      "Epoch 49/100\n",
      "8000/8000 [==============================] - 1s 163us/step - loss: 0.3963 - acc: 0.8369\n",
      "Epoch 50/100\n",
      "8000/8000 [==============================] - 1s 144us/step - loss: 0.3964 - acc: 0.8350\n",
      "Epoch 51/100\n",
      "8000/8000 [==============================] - 1s 171us/step - loss: 0.3963 - acc: 0.8351\n",
      "Epoch 52/100\n",
      "8000/8000 [==============================] - 1s 141us/step - loss: 0.3962 - acc: 0.8359\n",
      "Epoch 53/100\n",
      "8000/8000 [==============================] - 1s 136us/step - loss: 0.3961 - acc: 0.8365\n",
      "Epoch 54/100\n",
      "8000/8000 [==============================] - 1s 137us/step - loss: 0.3958 - acc: 0.8354\n",
      "Epoch 55/100\n",
      "8000/8000 [==============================] - 1s 162us/step - loss: 0.3959 - acc: 0.8349\n",
      "Epoch 56/100\n",
      "8000/8000 [==============================] - 1s 172us/step - loss: 0.3954 - acc: 0.8360\n",
      "Epoch 57/100\n",
      "8000/8000 [==============================] - 1s 141us/step - loss: 0.3958 - acc: 0.8354\n",
      "Epoch 58/100\n",
      "8000/8000 [==============================] - 1s 122us/step - loss: 0.3957 - acc: 0.8359\n",
      "Epoch 59/100\n",
      "8000/8000 [==============================] - 1s 132us/step - loss: 0.3952 - acc: 0.8369\n",
      "Epoch 60/100\n",
      "8000/8000 [==============================] - 1s 121us/step - loss: 0.3950 - acc: 0.8359\n",
      "Epoch 61/100\n",
      "8000/8000 [==============================] - 1s 121us/step - loss: 0.3952 - acc: 0.8364\n",
      "Epoch 62/100\n",
      "8000/8000 [==============================] - 1s 132us/step - loss: 0.3951 - acc: 0.8334\n",
      "Epoch 63/100\n",
      "8000/8000 [==============================] - 1s 135us/step - loss: 0.3947 - acc: 0.8357\n",
      "Epoch 64/100\n",
      "8000/8000 [==============================] - 1s 120us/step - loss: 0.3949 - acc: 0.8335\n",
      "Epoch 65/100\n",
      "8000/8000 [==============================] - 1s 121us/step - loss: 0.3948 - acc: 0.8349\n",
      "Epoch 66/100\n",
      "8000/8000 [==============================] - 1s 125us/step - loss: 0.3945 - acc: 0.8355\n",
      "Epoch 67/100\n",
      "8000/8000 [==============================] - 1s 122us/step - loss: 0.3943 - acc: 0.8354\n",
      "Epoch 68/100\n",
      "8000/8000 [==============================] - 1s 121us/step - loss: 0.3947 - acc: 0.8334\n",
      "Epoch 69/100\n",
      "8000/8000 [==============================] - 1s 132us/step - loss: 0.3944 - acc: 0.8355\n",
      "Epoch 70/100\n",
      "8000/8000 [==============================] - 1s 134us/step - loss: 0.3943 - acc: 0.8339\n",
      "Epoch 71/100\n",
      "8000/8000 [==============================] - 1s 121us/step - loss: 0.3942 - acc: 0.8359\n",
      "Epoch 72/100\n",
      "8000/8000 [==============================] - 1s 121us/step - loss: 0.3950 - acc: 0.8349\n",
      "Epoch 73/100\n",
      "8000/8000 [==============================] - 1s 120us/step - loss: 0.3947 - acc: 0.8360\n",
      "Epoch 74/100\n",
      "8000/8000 [==============================] - 1s 122us/step - loss: 0.3944 - acc: 0.8365\n",
      "Epoch 75/100\n",
      "8000/8000 [==============================] - 1s 121us/step - loss: 0.3939 - acc: 0.8346\n",
      "Epoch 76/100\n",
      "8000/8000 [==============================] - 1s 132us/step - loss: 0.3944 - acc: 0.8361\n",
      "Epoch 77/100\n",
      "8000/8000 [==============================] - 1s 158us/step - loss: 0.3942 - acc: 0.8356\n",
      "Epoch 78/100\n",
      "8000/8000 [==============================] - 1s 131us/step - loss: 0.3943 - acc: 0.8350\n",
      "Epoch 79/100\n",
      "8000/8000 [==============================] - 1s 147us/step - loss: 0.3942 - acc: 0.8359\n",
      "Epoch 80/100\n",
      "8000/8000 [==============================] - 1s 125us/step - loss: 0.3940 - acc: 0.8370\n",
      "Epoch 81/100\n",
      "8000/8000 [==============================] - 1s 122us/step - loss: 0.3948 - acc: 0.8360\n",
      "Epoch 82/100\n",
      "8000/8000 [==============================] - 1s 123us/step - loss: 0.3942 - acc: 0.8361\n",
      "Epoch 83/100\n",
      "8000/8000 [==============================] - 1s 121us/step - loss: 0.3937 - acc: 0.8354\n",
      "Epoch 84/100\n",
      "8000/8000 [==============================] - 1s 149us/step - loss: 0.3938 - acc: 0.8367\n",
      "Epoch 85/100\n",
      "8000/8000 [==============================] - 1s 122us/step - loss: 0.3945 - acc: 0.8362\n",
      "Epoch 86/100\n",
      "8000/8000 [==============================] - 1s 121us/step - loss: 0.3941 - acc: 0.8357\n",
      "Epoch 87/100\n",
      "8000/8000 [==============================] - 1s 124us/step - loss: 0.3941 - acc: 0.8364\n",
      "Epoch 88/100\n",
      "8000/8000 [==============================] - 1s 126us/step - loss: 0.3939 - acc: 0.8357\n",
      "Epoch 89/100\n",
      "8000/8000 [==============================] - 1s 121us/step - loss: 0.3944 - acc: 0.8354\n",
      "Epoch 90/100\n",
      "8000/8000 [==============================] - 1s 126us/step - loss: 0.3942 - acc: 0.8342\n",
      "Epoch 91/100\n",
      "8000/8000 [==============================] - 1s 134us/step - loss: 0.3939 - acc: 0.8360\n",
      "Epoch 92/100\n",
      "8000/8000 [==============================] - 1s 149us/step - loss: 0.3932 - acc: 0.8367\n",
      "Epoch 93/100\n",
      "8000/8000 [==============================] - 1s 122us/step - loss: 0.3943 - acc: 0.8362\n",
      "Epoch 94/100\n",
      "8000/8000 [==============================] - 1s 121us/step - loss: 0.3934 - acc: 0.8367\n",
      "Epoch 95/100\n",
      "8000/8000 [==============================] - 1s 121us/step - loss: 0.3939 - acc: 0.8375\n",
      "Epoch 96/100\n",
      "8000/8000 [==============================] - 1s 122us/step - loss: 0.3940 - acc: 0.8354\n",
      "Epoch 97/100\n",
      "8000/8000 [==============================] - 1s 122us/step - loss: 0.3937 - acc: 0.8350\n",
      "Epoch 98/100\n",
      "8000/8000 [==============================] - 1s 160us/step - loss: 0.3940 - acc: 0.8366\n",
      "Epoch 99/100\n",
      "8000/8000 [==============================] - 1s 142us/step - loss: 0.3939 - acc: 0.8350\n",
      "Epoch 100/100\n",
      "8000/8000 [==============================] - 1s 125us/step - loss: 0.3942 - acc: 0.8362\n"
     ]
    },
    {
     "data": {
      "text/plain": [
       "<keras.callbacks.History at 0x7f7611c41630>"
      ]
     },
     "execution_count": 21,
     "metadata": {},
     "output_type": "execute_result"
    }
   ],
   "source": [
    "#classifier.fit(X_train,y_train, batch_size=10, nb_epoch=100)\n",
    "classifier.fit(X_train, y_train,batch_size=10,nb_epoch=100)"
   ]
  },
  {
   "cell_type": "markdown",
   "metadata": {
    "_uuid": "6fe209a00119920568844b7ca05d3d2b21bb42d0"
   },
   "source": [
    "**14.Predicting the test set results **"
   ]
  },
  {
   "cell_type": "code",
   "execution_count": 22,
   "metadata": {
    "_uuid": "96a66225dda0b14075021ab7827e115753b6e57b"
   },
   "outputs": [],
   "source": [
    "y_pred=classifier.predict(X_test)\n",
    "y_pred=(y_pred>0.5)\n",
    "#y_pred"
   ]
  },
  {
   "cell_type": "markdown",
   "metadata": {
    "_uuid": "1a719d23b275ea4246651e08e3f90d2a39ea0516"
   },
   "source": [
    "**15.Making the confusion matrix**"
   ]
  },
  {
   "cell_type": "code",
   "execution_count": 23,
   "metadata": {
    "_kg_hide-input": true,
    "_uuid": "e59658ece8b30ef65ac94787c8d4df2ad3352d14"
   },
   "outputs": [
    {
     "data": {
      "image/png": "[encoded data removed]",
      "text/plain": [
       "<Figure size 360x360 with 2 Axes>"
      ]
     },
     "metadata": {
      "needs_background": "light"
     },
     "output_type": "display_data"
    }
   ],
   "source": [
    "from sklearn.metrics import confusion_matrix  #Class has capital at the begining function starts with small letters \n",
    "cm=confusion_matrix(y_test,y_pred)\n",
    "import seaborn as sns\n",
    "import matplotlib.pyplot as plt\n",
    "f, ax = plt.subplots(figsize =(5,5))\n",
    "sns.heatmap(cm,annot = True,linewidths=0.5,linecolor=\"red\",fmt = \".0f\",ax=ax)\n",
    "plt.title(\"Test for Test Dataset\")\n",
    "plt.xlabel(\"predicted y values\")\n",
    "plt.ylabel(\"real y values\")\n",
    "plt.show()"
   ]
  },
  {
   "cell_type": "markdown",
   "metadata": {
    "_uuid": "dd78ddec04c45658dee10b8d4de408cb6073b289"
   },
   "source": [
    "Correct prediction=1539+149=1688\n",
    "\n",
    "Wrong predictions =256+56=312\n",
    "\n",
    "Accuracy of Prediction =(1688/2000)*100 =84.4 %"
   ]
  }
 ],
 "metadata": {
  "kernelspec": {
   "display_name": "Python 3",
   "language": "python",
   "name": "python3"
  },
  "language_info": {
   "codemirror_mode": {
    "name": "ipython",
    "version": 3
   },
   "file_extension": ".py",
   "mimetype": "text/x-python",
   "name": "python",
   "nbconvert_exporter": "python",
   "pygments_lexer": "ipython3",
   "version": "3.6.6"
  }
 },
 "nbformat": 4,
 "nbformat_minor": 4
}
