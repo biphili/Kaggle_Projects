{
 "cells": [
  {
   "cell_type": "markdown",
   "execution_count": null,
   "metadata": {
    "papermill": {
     "duration": 0.022723,
     "end_time": "2020-08-12T06:51:14.986680",
     "exception": false,
     "start_time": "2020-08-12T06:51:14.963957",
     "status": "completed"
    },
    "tags": []
   },
   "source": [
    "Here we will be doing following things \n",
    "\n",
    "1.Importing data\n",
    "\n",
    "2.Data Vizualization \n",
    "\n",
    "3.Feature Engineering \n",
    "\n",
    "4.Model Built \n",
    "\n",
    "5.Model Optimization using Grid Search\n",
    "\n",
    "6.Balancing Machine Learning\n",
    "\n",
    "If you like my work please do vote."
   ]
  },
  {
   "cell_type": "code",
   "execution_count": 1,
   "metadata": {
    "_cell_guid": "b1076dfc-b9ad-4769-8c92-a6c4dae69d19",
    "_kg_hide-input": true,
    "_uuid": "8f2839f25d086af736a60e9eeb907d3b93b6e0e5",
    "execution": {
     "iopub.execute_input": "2020-08-12T06:51:15.033109Z",
     "iopub.status.busy": "2020-08-12T06:51:15.032070Z",
     "iopub.status.idle": "2020-08-12T06:51:15.039820Z",
     "shell.execute_reply": "2020-08-12T06:51:15.038628Z"
    },
    "papermill": {
     "duration": 0.03549,
     "end_time": "2020-08-12T06:51:15.040137",
     "exception": false,
     "start_time": "2020-08-12T06:51:15.004647",
     "status": "completed"
    },
    "tags": []
   },
   "outputs": [
    {
     "name": "stdout",
     "output_type": "stream",
     "text": [
      "/kaggle/input/heart-disease-uci/heart.csv\n"
     ]
    }
   ],
   "source": [
    "# This Python 3 environment comes with many helpful analytics libraries installed\n",
    "# It is defined by the kaggle/python Docker image: https://github.com/kaggle/docker-python\n",
    "# For example, here's several helpful packages to load\n",
    "\n",
    "import numpy as np # linear algebra\n",
    "import pandas as pd # data processing, CSV file I/O (e.g. pd.read_csv)\n",
    "\n",
    "# Input data files are available in the read-only \"../input/\" directory\n",
    "# For example, running this (by clicking run or pressing Shift+Enter) will list all files under the input directory\n",
    "\n",
    "import os\n",
    "for dirname, _, filenames in os.walk('/kaggle/input'):\n",
    "    for filename in filenames:\n",
    "        print(os.path.join(dirname, filename))\n",
    "\n",
    "# You can write up to 5GB to the current directory (/kaggle/working/) that gets preserved as output when you create a version using \"Save & Run All\" \n",
    "# You can also write temporary files to /kaggle/temp/, but they won't be saved outside of the current session"
   ]
  },
  {
   "cell_type": "markdown",
   "execution_count": null,
   "metadata": {
    "papermill": {
     "duration": 0.016539,
     "end_time": "2020-08-12T06:51:15.074372",
     "exception": false,
     "start_time": "2020-08-12T06:51:15.057833",
     "status": "completed"
    },
    "tags": []
   },
   "source": [
    "# 1.Data Import and Exploration"
   ]
  },
  {
   "cell_type": "code",
   "execution_count": 2,
   "metadata": {
    "_cell_guid": "79c7e3d0-c299-4dcb-8224-4455121ee9b0",
    "_kg_hide-input": true,
    "_uuid": "d629ff2d2480ee46fbb7e2d37f6b5fab8052498a",
    "execution": {
     "iopub.execute_input": "2020-08-12T06:51:15.120906Z",
     "iopub.status.busy": "2020-08-12T06:51:15.119954Z",
     "iopub.status.idle": "2020-08-12T06:51:18.184141Z",
     "shell.execute_reply": "2020-08-12T06:51:18.183180Z"
    },
    "papermill": {
     "duration": 3.092824,
     "end_time": "2020-08-12T06:51:18.184340",
     "exception": false,
     "start_time": "2020-08-12T06:51:15.091516",
     "status": "completed"
    },
    "tags": []
   },
   "outputs": [],
   "source": [
    "import numpy as np \n",
    "import pandas as pd \n",
    "import matplotlib.pyplot as plt\n",
    "import seaborn as sns\n",
    "from dateutil import parser\n",
    "from sklearn.model_selection import train_test_split\n",
    "from sklearn.preprocessing import StandardScaler \n",
    "from sklearn.svm import SVC \n",
    "from xgboost import XGBClassifier\n",
    "from sklearn.ensemble import RandomForestClassifier\n",
    "from sklearn.linear_model import LogisticRegression\n",
    "from sklearn.metrics import confusion_matrix,classification_report,accuracy_score\n",
    "from sklearn.model_selection import GridSearchCV\n",
    "import pickle\n",
    "from lightgbm import LGBMClassifier\n",
    "import warnings\n",
    "plt.style.use('fivethirtyeight')\n",
    "import warnings\n",
    "warnings.filterwarnings('ignore')"
   ]
  },
  {
   "cell_type": "code",
   "execution_count": 3,
   "metadata": {
    "_kg_hide-input": true,
    "execution": {
     "iopub.execute_input": "2020-08-12T06:51:18.227069Z",
     "iopub.status.busy": "2020-08-12T06:51:18.226132Z",
     "iopub.status.idle": "2020-08-12T06:51:18.264675Z",
     "shell.execute_reply": "2020-08-12T06:51:18.265333Z"
    },
    "papermill": {
     "duration": 0.064011,
     "end_time": "2020-08-12T06:51:18.265533",
     "exception": false,
     "start_time": "2020-08-12T06:51:18.201522",
     "status": "completed"
    },
    "tags": []
   },
   "outputs": [
    {
     "data": {
      "text/html": [
       "<div>\n",
       "<style scoped>\n",
       "    .dataframe tbody tr th:only-of-type {\n",
       "        vertical-align: middle;\n",
       "    }\n",
       "\n",
       "    .dataframe tbody tr th {\n",
       "        vertical-align: top;\n",
       "    }\n",
       "\n",
       "    .dataframe thead th {\n",
       "        text-align: right;\n",
       "    }\n",
       "</style>\n",
       "<table border=\"1\" class=\"dataframe\">\n",
       "  <thead>\n",
       "    <tr style=\"text-align: right;\">\n",
       "      <th></th>\n",
       "      <th>age</th>\n",
       "      <th>sex</th>\n",
       "      <th>cp</th>\n",
       "      <th>trestbps</th>\n",
       "      <th>chol</th>\n",
       "      <th>fbs</th>\n",
       "      <th>restecg</th>\n",
       "      <th>thalach</th>\n",
       "      <th>exang</th>\n",
       "      <th>oldpeak</th>\n",
       "      <th>slope</th>\n",
       "      <th>ca</th>\n",
       "      <th>thal</th>\n",
       "      <th>target</th>\n",
       "    </tr>\n",
       "  </thead>\n",
       "  <tbody>\n",
       "    <tr>\n",
       "      <th>0</th>\n",
       "      <td>63</td>\n",
       "      <td>1</td>\n",
       "      <td>3</td>\n",
       "      <td>145</td>\n",
       "      <td>233</td>\n",
       "      <td>1</td>\n",
       "      <td>0</td>\n",
       "      <td>150</td>\n",
       "      <td>0</td>\n",
       "      <td>2.3</td>\n",
       "      <td>0</td>\n",
       "      <td>0</td>\n",
       "      <td>1</td>\n",
       "      <td>1</td>\n",
       "    </tr>\n",
       "    <tr>\n",
       "      <th>1</th>\n",
       "      <td>37</td>\n",
       "      <td>1</td>\n",
       "      <td>2</td>\n",
       "      <td>130</td>\n",
       "      <td>250</td>\n",
       "      <td>0</td>\n",
       "      <td>1</td>\n",
       "      <td>187</td>\n",
       "      <td>0</td>\n",
       "      <td>3.5</td>\n",
       "      <td>0</td>\n",
       "      <td>0</td>\n",
       "      <td>2</td>\n",
       "      <td>1</td>\n",
       "    </tr>\n",
       "    <tr>\n",
       "      <th>2</th>\n",
       "      <td>41</td>\n",
       "      <td>0</td>\n",
       "      <td>1</td>\n",
       "      <td>130</td>\n",
       "      <td>204</td>\n",
       "      <td>0</td>\n",
       "      <td>0</td>\n",
       "      <td>172</td>\n",
       "      <td>0</td>\n",
       "      <td>1.4</td>\n",
       "      <td>2</td>\n",
       "      <td>0</td>\n",
       "      <td>2</td>\n",
       "      <td>1</td>\n",
       "    </tr>\n",
       "    <tr>\n",
       "      <th>3</th>\n",
       "      <td>56</td>\n",
       "      <td>1</td>\n",
       "      <td>1</td>\n",
       "      <td>120</td>\n",
       "      <td>236</td>\n",
       "      <td>0</td>\n",
       "      <td>1</td>\n",
       "      <td>178</td>\n",
       "      <td>0</td>\n",
       "      <td>0.8</td>\n",
       "      <td>2</td>\n",
       "      <td>0</td>\n",
       "      <td>2</td>\n",
       "      <td>1</td>\n",
       "    </tr>\n",
       "    <tr>\n",
       "      <th>4</th>\n",
       "      <td>57</td>\n",
       "      <td>0</td>\n",
       "      <td>0</td>\n",
       "      <td>120</td>\n",
       "      <td>354</td>\n",
       "      <td>0</td>\n",
       "      <td>1</td>\n",
       "      <td>163</td>\n",
       "      <td>1</td>\n",
       "      <td>0.6</td>\n",
       "      <td>2</td>\n",
       "      <td>0</td>\n",
       "      <td>2</td>\n",
       "      <td>1</td>\n",
       "    </tr>\n",
       "  </tbody>\n",
       "</table>\n",
       "</div>"
      ],
      "text/plain": [
       "   age  sex  cp  trestbps  chol  fbs  restecg  thalach  exang  oldpeak  slope  \\\n",
       "0   63    1   3       145   233    1        0      150      0      2.3      0   \n",
       "1   37    1   2       130   250    0        1      187      0      3.5      0   \n",
       "2   41    0   1       130   204    0        0      172      0      1.4      2   \n",
       "3   56    1   1       120   236    0        1      178      0      0.8      2   \n",
       "4   57    0   0       120   354    0        1      163      1      0.6      2   \n",
       "\n",
       "   ca  thal  target  \n",
       "0   0     1       1  \n",
       "1   0     2       1  \n",
       "2   0     2       1  \n",
       "3   0     2       1  \n",
       "4   0     2       1  "
      ]
     },
     "execution_count": 3,
     "metadata": {},
     "output_type": "execute_result"
    }
   ],
   "source": [
    "df=pd.read_csv('../input/heart-disease-uci/heart.csv')\n",
    "df.head()"
   ]
  },
  {
   "cell_type": "markdown",
   "execution_count": null,
   "metadata": {
    "papermill": {
     "duration": 0.017106,
     "end_time": "2020-08-12T06:51:18.300588",
     "exception": false,
     "start_time": "2020-08-12T06:51:18.283482",
     "status": "completed"
    },
    "tags": []
   },
   "source": [
    "****Data contains following information\n",
    "\n",
    "* age: The person's age in years\n",
    "* sex: The person's sex (1 = male, 0 = female)\n",
    "* cp: The chest pain experienced (Value 1: typical angina, Value 2: atypical angina, Value 3: non-anginal pain, Value 4: asymptomatic)\n",
    "* trestbps: The person's resting blood pressure (mm Hg on admission to the hospital)\n",
    "* chol: The person's cholesterol measurement in mg/dl\n",
    "* fbs: The person's fasting blood sugar (> 120 mg/dl, 1 = true; 0 = false)\n",
    "* restecg: Resting electrocardiographic measurement (0 = normal, 1 = having ST-T wave abnormality, 2 = showing probable or definite left ventricular hypertrophy by Estes' criteria)\n",
    "* thalach: The person's maximum heart rate achieved\n",
    "* exang: Exercise induced angina (1 = yes; 0 = no)\n",
    "* oldpeak: ST depression induced by exercise relative to rest ('ST' relates to positions on the ECG plot. See more here)\n",
    "* slope: the slope of the peak exercise ST segment (Value 1: upsloping, Value 2: flat, Value 3: downsloping)\n",
    "* ca: The number of major vessels (0-3)\n",
    "* thal: A blood disorder called thalassemia (3 = normal; 6 = fixed defect; 7 = reversable defect)\n",
    "* target: Heart disease (0 = no, 1 = yes)"
   ]
  },
  {
   "cell_type": "markdown",
   "execution_count": null,
   "metadata": {
    "papermill": {
     "duration": 0.016827,
     "end_time": "2020-08-12T06:51:18.335012",
     "exception": false,
     "start_time": "2020-08-12T06:51:18.318185",
     "status": "completed"
    },
    "tags": []
   },
   "source": [
    "### Shape of the data"
   ]
  },
  {
   "cell_type": "code",
   "execution_count": 4,
   "metadata": {
    "_kg_hide-input": true,
    "execution": {
     "iopub.execute_input": "2020-08-12T06:51:18.378226Z",
     "iopub.status.busy": "2020-08-12T06:51:18.376908Z",
     "iopub.status.idle": "2020-08-12T06:51:18.381762Z",
     "shell.execute_reply": "2020-08-12T06:51:18.381039Z"
    },
    "papermill": {
     "duration": 0.029284,
     "end_time": "2020-08-12T06:51:18.381920",
     "exception": false,
     "start_time": "2020-08-12T06:51:18.352636",
     "status": "completed"
    },
    "tags": []
   },
   "outputs": [
    {
     "data": {
      "text/plain": [
       "(303, 14)"
      ]
     },
     "execution_count": 4,
     "metadata": {},
     "output_type": "execute_result"
    }
   ],
   "source": [
    "df.shape"
   ]
  },
  {
   "cell_type": "markdown",
   "execution_count": null,
   "metadata": {
    "papermill": {
     "duration": 0.017289,
     "end_time": "2020-08-12T06:51:18.417060",
     "exception": false,
     "start_time": "2020-08-12T06:51:18.399771",
     "status": "completed"
    },
    "tags": []
   },
   "source": [
    "So our data has 303 rows and 14 features"
   ]
  },
  {
   "cell_type": "markdown",
   "execution_count": null,
   "metadata": {
    "papermill": {
     "duration": 0.017628,
     "end_time": "2020-08-12T06:51:18.452364",
     "exception": false,
     "start_time": "2020-08-12T06:51:18.434736",
     "status": "completed"
    },
    "tags": []
   },
   "source": [
    "### Missing Values"
   ]
  },
  {
   "cell_type": "code",
   "execution_count": 5,
   "metadata": {
    "_kg_hide-input": true,
    "execution": {
     "iopub.execute_input": "2020-08-12T06:51:18.498438Z",
     "iopub.status.busy": "2020-08-12T06:51:18.494648Z",
     "iopub.status.idle": "2020-08-12T06:51:18.503634Z",
     "shell.execute_reply": "2020-08-12T06:51:18.502748Z"
    },
    "papermill": {
     "duration": 0.033819,
     "end_time": "2020-08-12T06:51:18.503796",
     "exception": false,
     "start_time": "2020-08-12T06:51:18.469977",
     "status": "completed"
    },
    "tags": []
   },
   "outputs": [
    {
     "data": {
      "text/plain": [
       "age         0\n",
       "sex         0\n",
       "cp          0\n",
       "trestbps    0\n",
       "chol        0\n",
       "fbs         0\n",
       "restecg     0\n",
       "thalach     0\n",
       "exang       0\n",
       "oldpeak     0\n",
       "slope       0\n",
       "ca          0\n",
       "thal        0\n",
       "target      0\n",
       "dtype: int64"
      ]
     },
     "execution_count": 5,
     "metadata": {},
     "output_type": "execute_result"
    }
   ],
   "source": [
    "df.isnull().sum()"
   ]
  },
  {
   "cell_type": "markdown",
   "execution_count": null,
   "metadata": {
    "papermill": {
     "duration": 0.017506,
     "end_time": "2020-08-12T06:51:18.539367",
     "exception": false,
     "start_time": "2020-08-12T06:51:18.521861",
     "status": "completed"
    },
    "tags": []
   },
   "source": [
    "We are very lucky here there are no Null Values in the dataset.But in this data the missing values are present in the form of value ZERO. Our next task would be to find out numbers of ZEROS in each column."
   ]
  },
  {
   "cell_type": "markdown",
   "execution_count": null,
   "metadata": {
    "papermill": {
     "duration": 0.018192,
     "end_time": "2020-08-12T06:51:18.575667",
     "exception": false,
     "start_time": "2020-08-12T06:51:18.557475",
     "status": "completed"
    },
    "tags": []
   },
   "source": [
    "### Finding out Null Values which are represented by ZERO (0)"
   ]
  },
  {
   "cell_type": "code",
   "execution_count": 6,
   "metadata": {
    "_kg_hide-input": true,
    "execution": {
     "iopub.execute_input": "2020-08-12T06:51:18.620244Z",
     "iopub.status.busy": "2020-08-12T06:51:18.619058Z",
     "iopub.status.idle": "2020-08-12T06:51:18.624493Z",
     "shell.execute_reply": "2020-08-12T06:51:18.623748Z"
    },
    "papermill": {
     "duration": 0.030944,
     "end_time": "2020-08-12T06:51:18.624650",
     "exception": false,
     "start_time": "2020-08-12T06:51:18.593706",
     "status": "completed"
    },
    "tags": []
   },
   "outputs": [
    {
     "data": {
      "text/plain": [
       "Index(['age', 'sex', 'cp', 'trestbps', 'chol', 'fbs', 'restecg', 'thalach',\n",
       "       'exang', 'oldpeak', 'slope', 'ca', 'thal', 'target'],\n",
       "      dtype='object')"
      ]
     },
     "execution_count": 6,
     "metadata": {},
     "output_type": "execute_result"
    }
   ],
   "source": [
    "cols = df.columns\n",
    "cols"
   ]
  },
  {
   "cell_type": "code",
   "execution_count": 7,
   "metadata": {
    "_kg_hide-input": true,
    "execution": {
     "iopub.execute_input": "2020-08-12T06:51:18.691102Z",
     "iopub.status.busy": "2020-08-12T06:51:18.683839Z",
     "iopub.status.idle": "2020-08-12T06:51:18.699254Z",
     "shell.execute_reply": "2020-08-12T06:51:18.699953Z"
    },
    "papermill": {
     "duration": 0.05738,
     "end_time": "2020-08-12T06:51:18.700207",
     "exception": false,
     "start_time": "2020-08-12T06:51:18.642827",
     "status": "completed"
    },
    "tags": []
   },
   "outputs": [
    {
     "name": "stdout",
     "output_type": "stream",
     "text": [
      "# Rows in the dataset 303\n",
      "---------------------------------------------------\n",
      "# Rows in age with ZERO value: 0\n",
      "# Rows in sex with ZERO value: 96\n",
      "# Rows in cp with ZERO value: 143\n",
      "# Rows in trestbps with ZERO value: 0\n",
      "# Rows in chol with ZERO value: 0\n",
      "# Rows in fbs with ZERO value: 258\n",
      "# Rows in restecg with ZERO value: 147\n",
      "# Rows in thalach with ZERO value: 0\n",
      "# Rows in exang with ZERO value: 204\n",
      "# Rows in oldpeak with ZERO value: 99\n",
      "# Rows in slope with ZERO value: 21\n",
      "# Rows in ca with ZERO value: 175\n",
      "# Rows in thal with ZERO value: 2\n",
      "# Rows in target with ZERO value: 138\n"
     ]
    }
   ],
   "source": [
    "print(\"# Rows in the dataset {0}\".format(len(df)))\n",
    "print(\"---------------------------------------------------\")\n",
    "for col in cols:\n",
    "    print(\"# Rows in {1} with ZERO value: {0}\".format(len(df.loc[df[col] ==0]),col))"
   ]
  },
  {
   "cell_type": "markdown",
   "execution_count": null,
   "metadata": {
    "papermill": {
     "duration": 0.017687,
     "end_time": "2020-08-12T06:51:18.736862",
     "exception": false,
     "start_time": "2020-08-12T06:51:18.719175",
     "status": "completed"
    },
    "tags": []
   },
   "source": [
    "The columns which have categorical values can have ZERO values.But columns like cp,trestbps,chol,fbs,exang,oldpean and Slope should not have value ZERO.The presence of ZERO in this columns indicate the presence of null values."
   ]
  },
  {
   "cell_type": "code",
   "execution_count": 8,
   "metadata": {
    "_kg_hide-input": true,
    "execution": {
     "iopub.execute_input": "2020-08-12T06:51:18.784113Z",
     "iopub.status.busy": "2020-08-12T06:51:18.782759Z",
     "iopub.status.idle": "2020-08-12T06:51:18.788976Z",
     "shell.execute_reply": "2020-08-12T06:51:18.788118Z"
    },
    "papermill": {
     "duration": 0.03411,
     "end_time": "2020-08-12T06:51:18.789142",
     "exception": false,
     "start_time": "2020-08-12T06:51:18.755032",
     "status": "completed"
    },
    "tags": []
   },
   "outputs": [
    {
     "data": {
      "text/plain": [
       "age           int64\n",
       "sex           int64\n",
       "cp            int64\n",
       "trestbps      int64\n",
       "chol          int64\n",
       "fbs           int64\n",
       "restecg       int64\n",
       "thalach       int64\n",
       "exang         int64\n",
       "oldpeak     float64\n",
       "slope         int64\n",
       "ca            int64\n",
       "thal          int64\n",
       "target        int64\n",
       "dtype: object"
      ]
     },
     "execution_count": 8,
     "metadata": {},
     "output_type": "execute_result"
    }
   ],
   "source": [
    "df.dtypes"
   ]
  },
  {
   "cell_type": "markdown",
   "execution_count": null,
   "metadata": {
    "papermill": {
     "duration": 0.018138,
     "end_time": "2020-08-12T06:51:18.825863",
     "exception": false,
     "start_time": "2020-08-12T06:51:18.807725",
     "status": "completed"
    },
    "tags": []
   },
   "source": [
    "As all the columns are either integer or float there is no need to convert categorical values numeric values."
   ]
  },
  {
   "cell_type": "markdown",
   "execution_count": null,
   "metadata": {
    "papermill": {
     "duration": 0.018013,
     "end_time": "2020-08-12T06:51:18.862533",
     "exception": false,
     "start_time": "2020-08-12T06:51:18.844520",
     "status": "completed"
    },
    "tags": []
   },
   "source": [
    "# 2.Data Vizualization"
   ]
  },
  {
   "cell_type": "markdown",
   "execution_count": null,
   "metadata": {
    "papermill": {
     "duration": 0.01811,
     "end_time": "2020-08-12T06:51:18.899261",
     "exception": false,
     "start_time": "2020-08-12T06:51:18.881151",
     "status": "completed"
    },
    "tags": []
   },
   "source": [
    "### Corelation Matrix"
   ]
  },
  {
   "cell_type": "code",
   "execution_count": 9,
   "metadata": {
    "_kg_hide-input": true,
    "execution": {
     "iopub.execute_input": "2020-08-12T06:51:18.953846Z",
     "iopub.status.busy": "2020-08-12T06:51:18.952943Z",
     "iopub.status.idle": "2020-08-12T06:51:20.206587Z",
     "shell.execute_reply": "2020-08-12T06:51:20.205480Z"
    },
    "papermill": {
     "duration": 1.28718,
     "end_time": "2020-08-12T06:51:20.206849",
     "exception": false,
     "start_time": "2020-08-12T06:51:18.919669",
     "status": "completed"
    },
    "tags": []
   },
   "outputs": [
    {
     "data": {
      "image/png": "[encoded data removed]",
      "text/plain": [
       "<Figure size 1152x1152 with 2 Axes>"
      ]
     },
     "metadata": {},
     "output_type": "display_data"
    }
   ],
   "source": [
    "corrmat = df.corr()\n",
    "fig = plt.figure(figsize = (16,16))\n",
    "sns.heatmap(corrmat,vmax = 1,square = True,annot = True,vmin = -1)\n",
    "plt.show()"
   ]
  },
  {
   "cell_type": "markdown",
   "execution_count": null,
   "metadata": {
    "papermill": {
     "duration": 0.020365,
     "end_time": "2020-08-12T06:51:20.250547",
     "exception": false,
     "start_time": "2020-08-12T06:51:20.230182",
     "status": "completed"
    },
    "tags": []
   },
   "source": [
    "We can see that there is not much correlation between the features in the dataset.If corelation was high we can face issue of multicollinearity.In that case we would need to use feature engineering to avoid multi colinearity."
   ]
  },
  {
   "cell_type": "markdown",
   "execution_count": null,
   "metadata": {
    "papermill": {
     "duration": 0.020002,
     "end_time": "2020-08-12T06:51:20.291189",
     "exception": false,
     "start_time": "2020-08-12T06:51:20.271187",
     "status": "completed"
    },
    "tags": []
   },
   "source": [
    "### Histogram"
   ]
  },
  {
   "cell_type": "code",
   "execution_count": 10,
   "metadata": {
    "_kg_hide-input": true,
    "execution": {
     "iopub.execute_input": "2020-08-12T06:51:20.341397Z",
     "iopub.status.busy": "2020-08-12T06:51:20.340251Z",
     "iopub.status.idle": "2020-08-12T06:51:22.873262Z",
     "shell.execute_reply": "2020-08-12T06:51:22.872409Z"
    },
    "papermill": {
     "duration": 2.560907,
     "end_time": "2020-08-12T06:51:22.873437",
     "exception": false,
     "start_time": "2020-08-12T06:51:20.312530",
     "status": "completed"
    },
    "tags": []
   },
   "outputs": [
    {
     "data": {
      "image/png": "[encoded data removed]",
      "text/plain": [
       "<Figure size 864x864 with 16 Axes>"
      ]
     },
     "metadata": {},
     "output_type": "display_data"
    }
   ],
   "source": [
    "df.hist(figsize = (12,12))\n",
    "plt.show()"
   ]
  },
  {
   "cell_type": "markdown",
   "execution_count": null,
   "metadata": {
    "papermill": {
     "duration": 0.022123,
     "end_time": "2020-08-12T06:51:22.917206",
     "exception": false,
     "start_time": "2020-08-12T06:51:22.895083",
     "status": "completed"
    },
    "tags": []
   },
   "source": [
    "Histogram clearly shows us that ca,cp,exang,fbs,restecg,sex,slope,target and thal are categorical data.Other columns are numerical features."
   ]
  },
  {
   "cell_type": "markdown",
   "execution_count": null,
   "metadata": {
    "papermill": {
     "duration": 0.022121,
     "end_time": "2020-08-12T06:51:22.961370",
     "exception": false,
     "start_time": "2020-08-12T06:51:22.939249",
     "status": "completed"
    },
    "tags": []
   },
   "source": [
    "### Effect of Sex"
   ]
  },
  {
   "cell_type": "code",
   "execution_count": 11,
   "metadata": {
    "_kg_hide-input": true,
    "execution": {
     "iopub.execute_input": "2020-08-12T06:51:23.023019Z",
     "iopub.status.busy": "2020-08-12T06:51:23.021943Z",
     "iopub.status.idle": "2020-08-12T06:51:23.378676Z",
     "shell.execute_reply": "2020-08-12T06:51:23.377786Z"
    },
    "papermill": {
     "duration": 0.396084,
     "end_time": "2020-08-12T06:51:23.378839",
     "exception": false,
     "start_time": "2020-08-12T06:51:22.982755",
     "status": "completed"
    },
    "tags": []
   },
   "outputs": [
    {
     "data": {
      "image/png": "[encoded data removed]",
      "text/plain": [
       "<Figure size 432x288 with 1 Axes>"
      ]
     },
     "metadata": {},
     "output_type": "display_data"
    }
   ],
   "source": [
    "sns.barplot(x=\"sex\",y ='age',hue ='target',data=df)\n",
    "pass"
   ]
  },
  {
   "cell_type": "markdown",
   "execution_count": null,
   "metadata": {
    "papermill": {
     "duration": 0.021673,
     "end_time": "2020-08-12T06:51:23.423484",
     "exception": false,
     "start_time": "2020-08-12T06:51:23.401811",
     "status": "completed"
    },
    "tags": []
   },
   "source": [
    "From the above plot we can say that men have heart disease at lower age compared to women."
   ]
  },
  {
   "cell_type": "markdown",
   "execution_count": null,
   "metadata": {
    "papermill": {
     "duration": 0.021078,
     "end_time": "2020-08-12T06:51:23.468651",
     "exception": false,
     "start_time": "2020-08-12T06:51:23.447573",
     "status": "completed"
    },
    "tags": []
   },
   "source": [
    "# TSNE for Dimentionality Reduction"
   ]
  },
  {
   "cell_type": "code",
   "execution_count": 12,
   "metadata": {
    "_kg_hide-input": true,
    "execution": {
     "iopub.execute_input": "2020-08-12T06:51:23.523473Z",
     "iopub.status.busy": "2020-08-12T06:51:23.522379Z",
     "iopub.status.idle": "2020-08-12T06:51:25.317451Z",
     "shell.execute_reply": "2020-08-12T06:51:25.318230Z"
    },
    "papermill": {
     "duration": 1.828594,
     "end_time": "2020-08-12T06:51:25.318494",
     "exception": false,
     "start_time": "2020-08-12T06:51:23.489900",
     "status": "completed"
    },
    "tags": []
   },
   "outputs": [
    {
     "name": "stdout",
     "output_type": "stream",
     "text": [
      "t-SNE done! Time elapsed: 1.7483067512512207 seconds\n"
     ]
    }
   ],
   "source": [
    "X = df.drop('target',axis =1)\n",
    "from sklearn.manifold import TSNE\n",
    "import time \n",
    "time_start = time.time()\n",
    "df_tsne = TSNE(random_state =10).fit_transform(X)\n",
    "print('t-SNE done! Time elapsed: {} seconds'.format(time.time()-time_start))"
   ]
  },
  {
   "cell_type": "code",
   "execution_count": 13,
   "metadata": {
    "execution": {
     "iopub.execute_input": "2020-08-12T06:51:25.383357Z",
     "iopub.status.busy": "2020-08-12T06:51:25.382189Z",
     "iopub.status.idle": "2020-08-12T06:51:25.385034Z",
     "shell.execute_reply": "2020-08-12T06:51:25.385803Z"
    },
    "papermill": {
     "duration": 0.039197,
     "end_time": "2020-08-12T06:51:25.386044",
     "exception": false,
     "start_time": "2020-08-12T06:51:25.346847",
     "status": "completed"
    },
    "tags": []
   },
   "outputs": [],
   "source": [
    "#df_tsne"
   ]
  },
  {
   "cell_type": "code",
   "execution_count": 14,
   "metadata": {
    "_kg_hide-input": true,
    "execution": {
     "iopub.execute_input": "2020-08-12T06:51:25.453867Z",
     "iopub.status.busy": "2020-08-12T06:51:25.452720Z",
     "iopub.status.idle": "2020-08-12T06:51:25.465602Z",
     "shell.execute_reply": "2020-08-12T06:51:25.466474Z"
    },
    "papermill": {
     "duration": 0.053839,
     "end_time": "2020-08-12T06:51:25.466738",
     "exception": false,
     "start_time": "2020-08-12T06:51:25.412899",
     "status": "completed"
    },
    "tags": []
   },
   "outputs": [],
   "source": [
    "import matplotlib.patheffects as PathEffects\n",
    "def fashion_scatter(x,colors):\n",
    "    # Choosing a color palette with seaborn \n",
    "    num_classes = len(np.unique(colors))\n",
    "    palette = np.array(sns.color_palette(\"deep\",num_classes))\n",
    "    \n",
    "    # Create a scatter plot\n",
    "    f = plt.figure(figsize=(8,8))\n",
    "    ax = plt.subplot(aspect='equal')\n",
    "    sc = ax.scatter(x[:,0],x[:,1],lw=0,s=40,c=palette[colors.astype(np.int)])\n",
    "    plt.xlim(-25,25)\n",
    "    plt.ylim(-25,25)\n",
    "    ax.axis('off')\n",
    "    ax.axis('tight')\n",
    "    \n",
    "    #add the label for each digit corresponding to label \n",
    "    txts = []\n",
    "    \n",
    "    for i in range(num_classes):\n",
    "        \n",
    "        # Position of each label at median of data points\n",
    "        \n",
    "        xtext, ytext = np.median(x[colors== i,:],axis = 0)\n",
    "        txt = ax.text(xtext, ytext,str(i),fontsize=24)\n",
    "        txt.set_path_effects([\n",
    "            PathEffects.Stroke(linewidth=5,foreground=\"w\"),\n",
    "            PathEffects.Normal()])\n",
    "        txts.append(txt)\n",
    "    \n",
    "    return f,ax,sc,txts\n",
    "        "
   ]
  },
  {
   "cell_type": "code",
   "execution_count": 15,
   "metadata": {
    "_kg_hide-input": true,
    "execution": {
     "iopub.execute_input": "2020-08-12T06:51:25.534984Z",
     "iopub.status.busy": "2020-08-12T06:51:25.533966Z",
     "iopub.status.idle": "2020-08-12T06:51:25.610107Z",
     "shell.execute_reply": "2020-08-12T06:51:25.609374Z"
    },
    "papermill": {
     "duration": 0.116453,
     "end_time": "2020-08-12T06:51:25.610278",
     "exception": false,
     "start_time": "2020-08-12T06:51:25.493825",
     "status": "completed"
    },
    "tags": []
   },
   "outputs": [
    {
     "data": {
      "image/png": "[encoded data removed]",
      "text/plain": [
       "<Figure size 576x576 with 1 Axes>"
      ]
     },
     "metadata": {},
     "output_type": "display_data"
    }
   ],
   "source": [
    "fashion_scatter(df_tsne,df.target)\n",
    "pass"
   ]
  },
  {
   "cell_type": "markdown",
   "execution_count": null,
   "metadata": {
    "papermill": {
     "duration": 0.026105,
     "end_time": "2020-08-12T06:51:25.660081",
     "exception": false,
     "start_time": "2020-08-12T06:51:25.633976",
     "status": "completed"
    },
    "tags": []
   },
   "source": [
    "We can see that after applying TSNE we dont get a clear separation in the target variable.As separation of the target is low we have a possibility of low accuarcy while predicting."
   ]
  },
  {
   "cell_type": "markdown",
   "execution_count": null,
   "metadata": {
    "papermill": {
     "duration": 0.023969,
     "end_time": "2020-08-12T06:51:25.706792",
     "exception": false,
     "start_time": "2020-08-12T06:51:25.682823",
     "status": "completed"
    },
    "tags": []
   },
   "source": [
    "# 3.Feature Engineering"
   ]
  },
  {
   "cell_type": "code",
   "execution_count": 16,
   "metadata": {
    "_kg_hide-input": true,
    "execution": {
     "iopub.execute_input": "2020-08-12T06:51:25.781041Z",
     "iopub.status.busy": "2020-08-12T06:51:25.767339Z",
     "iopub.status.idle": "2020-08-12T06:51:26.048441Z",
     "shell.execute_reply": "2020-08-12T06:51:26.047619Z"
    },
    "papermill": {
     "duration": 0.31866,
     "end_time": "2020-08-12T06:51:26.048612",
     "exception": false,
     "start_time": "2020-08-12T06:51:25.729952",
     "status": "completed"
    },
    "tags": []
   },
   "outputs": [
    {
     "data": {
      "image/png": "[encoded data removed]",
      "text/plain": [
       "<Figure size 1296x576 with 2 Axes>"
      ]
     },
     "metadata": {},
     "output_type": "display_data"
    }
   ],
   "source": [
    "f,ax=plt.subplots(1,2,figsize=(18,8))\n",
    "df['target'].value_counts().plot.pie(explode=[0,0.1],autopct='%1.1f%%',ax=ax[0],shadow=True)\n",
    "ax[0].set_title('Rate of Heart Disease')\n",
    "ax[0].set_ylabel('Count')\n",
    "sns.countplot('target',data=df,ax=ax[1],order=df['sex'].value_counts().index)\n",
    "ax[1].set_title('Rate of Heart Disease')\n",
    "plt.show()"
   ]
  },
  {
   "cell_type": "markdown",
   "execution_count": null,
   "metadata": {
    "papermill": {
     "duration": 0.022925,
     "end_time": "2020-08-12T06:51:26.094953",
     "exception": false,
     "start_time": "2020-08-12T06:51:26.072028",
     "status": "completed"
    },
    "tags": []
   },
   "source": [
    "We can see that the data is slightly unbalanced.But we will go ahead with the same data as the level of unbalance is low."
   ]
  },
  {
   "cell_type": "markdown",
   "execution_count": null,
   "metadata": {
    "papermill": {
     "duration": 0.023008,
     "end_time": "2020-08-12T06:51:26.219564",
     "exception": false,
     "start_time": "2020-08-12T06:51:26.196556",
     "status": "completed"
    },
    "tags": []
   },
   "source": [
    "### Creating the Matrix of features"
   ]
  },
  {
   "cell_type": "code",
   "execution_count": 17,
   "metadata": {
    "_kg_hide-input": true,
    "execution": {
     "iopub.execute_input": "2020-08-12T06:51:26.277506Z",
     "iopub.status.busy": "2020-08-12T06:51:26.276147Z",
     "iopub.status.idle": "2020-08-12T06:51:26.284053Z",
     "shell.execute_reply": "2020-08-12T06:51:26.283187Z"
    },
    "papermill": {
     "duration": 0.041571,
     "end_time": "2020-08-12T06:51:26.284208",
     "exception": false,
     "start_time": "2020-08-12T06:51:26.242637",
     "status": "completed"
    },
    "tags": []
   },
   "outputs": [
    {
     "data": {
      "text/plain": [
       "['age', 'trestbps', 'chol', 'thalach', 'oldpeak']"
      ]
     },
     "execution_count": 17,
     "metadata": {},
     "output_type": "execute_result"
    }
   ],
   "source": [
    "final_cols = cols\n",
    "final_cols = list(final_cols)\n",
    "final_cols.remove('ca')\n",
    "final_cols.remove('cp')\n",
    "final_cols.remove('exang')\n",
    "final_cols.remove('fbs')\n",
    "final_cols.remove('restecg')\n",
    "final_cols.remove('sex')\n",
    "final_cols.remove('slope')\n",
    "final_cols.remove('target')\n",
    "final_cols.remove('thal')\n",
    "final_cols"
   ]
  },
  {
   "cell_type": "markdown",
   "execution_count": null,
   "metadata": {
    "papermill": {
     "duration": 0.023177,
     "end_time": "2020-08-12T06:51:26.330649",
     "exception": false,
     "start_time": "2020-08-12T06:51:26.307472",
     "status": "completed"
    },
    "tags": []
   },
   "source": [
    "We have dropped the columns with categorical columns.This is because when we do feature engineering we will be repacing the numerical column Zero values with the mean values.This is not needed for the columns with categorical variables."
   ]
  },
  {
   "cell_type": "code",
   "execution_count": 18,
   "metadata": {
    "_kg_hide-input": true,
    "execution": {
     "iopub.execute_input": "2020-08-12T06:51:26.387916Z",
     "iopub.status.busy": "2020-08-12T06:51:26.386900Z",
     "iopub.status.idle": "2020-08-12T06:51:26.391055Z",
     "shell.execute_reply": "2020-08-12T06:51:26.390212Z"
    },
    "papermill": {
     "duration": 0.036871,
     "end_time": "2020-08-12T06:51:26.391211",
     "exception": false,
     "start_time": "2020-08-12T06:51:26.354340",
     "status": "completed"
    },
    "tags": []
   },
   "outputs": [],
   "source": [
    "X = df.drop('target',axis=1) #predictor feature columns\n",
    "y = df.target"
   ]
  },
  {
   "cell_type": "markdown",
   "execution_count": null,
   "metadata": {
    "papermill": {
     "duration": 0.022787,
     "end_time": "2020-08-12T06:51:26.437541",
     "exception": false,
     "start_time": "2020-08-12T06:51:26.414754",
     "status": "completed"
    },
    "tags": []
   },
   "source": [
    "### Test Train Split"
   ]
  },
  {
   "cell_type": "code",
   "execution_count": 19,
   "metadata": {
    "_kg_hide-input": true,
    "execution": {
     "iopub.execute_input": "2020-08-12T06:51:26.498584Z",
     "iopub.status.busy": "2020-08-12T06:51:26.497067Z",
     "iopub.status.idle": "2020-08-12T06:51:26.502825Z",
     "shell.execute_reply": "2020-08-12T06:51:26.503829Z"
    },
    "papermill": {
     "duration": 0.043015,
     "end_time": "2020-08-12T06:51:26.504069",
     "exception": false,
     "start_time": "2020-08-12T06:51:26.461054",
     "status": "completed"
    },
    "tags": []
   },
   "outputs": [
    {
     "name": "stdout",
     "output_type": "stream",
     "text": [
      "Training Set: 272\n",
      "Test Set: 31\n",
      "Training labels: 272\n",
      "Test labels: 31\n"
     ]
    }
   ],
   "source": [
    "X_train, X_test, y_train, y_test = train_test_split(X,y,test_size=0.1,random_state= 10)\n",
    "\n",
    "print('Training Set:',len(X_train))\n",
    "print('Test Set:',len(X_test))\n",
    "print('Training labels:',len(y_train))\n",
    "print('Test labels:',len(y_test))"
   ]
  },
  {
   "cell_type": "markdown",
   "execution_count": null,
   "metadata": {
    "papermill": {
     "duration": 0.022954,
     "end_time": "2020-08-12T06:51:26.550460",
     "exception": false,
     "start_time": "2020-08-12T06:51:26.527506",
     "status": "completed"
    },
    "tags": []
   },
   "source": [
    "### Replacing Zeros with Mean"
   ]
  },
  {
   "cell_type": "code",
   "execution_count": 20,
   "metadata": {
    "_kg_hide-input": true,
    "execution": {
     "iopub.execute_input": "2020-08-12T06:51:26.607198Z",
     "iopub.status.busy": "2020-08-12T06:51:26.606245Z",
     "iopub.status.idle": "2020-08-12T06:51:26.632828Z",
     "shell.execute_reply": "2020-08-12T06:51:26.631789Z"
    },
    "papermill": {
     "duration": 0.058755,
     "end_time": "2020-08-12T06:51:26.633006",
     "exception": false,
     "start_time": "2020-08-12T06:51:26.574251",
     "status": "completed"
    },
    "tags": []
   },
   "outputs": [],
   "source": [
    "from sklearn.impute import SimpleImputer \n",
    "fill = SimpleImputer(missing_values=np.nan, strategy='mean')\n",
    "\n",
    "X_train = fill.fit_transform(X_train[final_cols])\n",
    "X_test = fill.fit_transform(X_test[final_cols])"
   ]
  },
  {
   "cell_type": "markdown",
   "execution_count": null,
   "metadata": {
    "papermill": {
     "duration": 0.023342,
     "end_time": "2020-08-12T06:51:26.680157",
     "exception": false,
     "start_time": "2020-08-12T06:51:26.656815",
     "status": "completed"
    },
    "tags": []
   },
   "source": [
    "# 4.Model Build and Evaluation"
   ]
  },
  {
   "cell_type": "code",
   "execution_count": 21,
   "metadata": {
    "_kg_hide-input": true,
    "execution": {
     "iopub.execute_input": "2020-08-12T06:51:26.742771Z",
     "iopub.status.busy": "2020-08-12T06:51:26.741534Z",
     "iopub.status.idle": "2020-08-12T06:51:26.744758Z",
     "shell.execute_reply": "2020-08-12T06:51:26.745334Z"
    },
    "papermill": {
     "duration": 0.041374,
     "end_time": "2020-08-12T06:51:26.745548",
     "exception": false,
     "start_time": "2020-08-12T06:51:26.704174",
     "status": "completed"
    },
    "tags": []
   },
   "outputs": [],
   "source": [
    "def FitModel(X_train,y_train,X_test,y_test,algo_name,algorithm,gridSearchParams,cv):\n",
    "    np.random.seed(10)\n",
    "    \n",
    "    grid = GridSearchCV(\n",
    "         estimator = algorithm,\n",
    "         param_grid = gridSearchParams,\n",
    "         cv=cv,scoring='accuracy',verbose=1,n_jobs=-1)\n",
    "        \n",
    "    grid_result = grid.fit(X_train,y_train)\n",
    "    best_params = grid_result.best_params_\n",
    "    pred = grid_result.predict(X_test)\n",
    "    cm = confusion_matrix(y_test,pred)\n",
    "    print(pred)\n",
    "    \n",
    "    print('Best Params :',best_params)\n",
    "    print('Classification Report :',classification_report(y_test,pred))\n",
    "    print('Accuracy Score :'+ str(accuracy_score(y_test,pred)))\n",
    "    print('Confusion Matrix : \\n',cm)"
   ]
  },
  {
   "cell_type": "markdown",
   "execution_count": null,
   "metadata": {
    "papermill": {
     "duration": 0.023655,
     "end_time": "2020-08-12T06:51:26.792571",
     "exception": false,
     "start_time": "2020-08-12T06:51:26.768916",
     "status": "completed"
    },
    "tags": []
   },
   "source": [
    "### Logistic Regression "
   ]
  },
  {
   "cell_type": "code",
   "execution_count": 22,
   "metadata": {
    "_kg_hide-input": true,
    "execution": {
     "iopub.execute_input": "2020-08-12T06:51:26.852334Z",
     "iopub.status.busy": "2020-08-12T06:51:26.851035Z",
     "iopub.status.idle": "2020-08-12T06:51:29.389577Z",
     "shell.execute_reply": "2020-08-12T06:51:29.390461Z"
    },
    "papermill": {
     "duration": 2.574283,
     "end_time": "2020-08-12T06:51:29.390712",
     "exception": false,
     "start_time": "2020-08-12T06:51:26.816429",
     "status": "completed"
    },
    "tags": []
   },
   "outputs": [
    {
     "name": "stdout",
     "output_type": "stream",
     "text": [
      "Fitting 5 folds for each of 20 candidates, totalling 100 fits\n"
     ]
    },
    {
     "name": "stderr",
     "output_type": "stream",
     "text": [
      "[Parallel(n_jobs=-1)]: Using backend LokyBackend with 4 concurrent workers.\n",
      "[Parallel(n_jobs=-1)]: Done  56 tasks      | elapsed:    2.2s\n"
     ]
    },
    {
     "name": "stdout",
     "output_type": "stream",
     "text": [
      "[0 1 0 1 0 0 1 0 1 0 1 0 1 1 1 1 0 0 1 0 0 0 1 1 0 0 0 0 1 0 1]\n",
      "Best Params : {'C': 1.0, 'penalty': 'l2'}\n",
      "Classification Report :               precision    recall  f1-score   support\n",
      "\n",
      "           0       0.82      0.78      0.80        18\n",
      "           1       0.71      0.77      0.74        13\n",
      "\n",
      "    accuracy                           0.77        31\n",
      "   macro avg       0.77      0.77      0.77        31\n",
      "weighted avg       0.78      0.77      0.78        31\n",
      "\n",
      "Accuracy Score :0.7741935483870968\n",
      "Confusion Matrix : \n",
      " [[14  4]\n",
      " [ 3 10]]\n"
     ]
    },
    {
     "name": "stderr",
     "output_type": "stream",
     "text": [
      "[Parallel(n_jobs=-1)]: Done 100 out of 100 | elapsed:    2.5s finished\n"
     ]
    }
   ],
   "source": [
    "# Creating Regularization penalty\n",
    "penalty = ['l1','l2']\n",
    "\n",
    "# Create regularization hyperparameter space \n",
    "C = np.logspace(0,4,10)\n",
    "\n",
    "# Create hyperparameter options \n",
    "hyperparameters = dict(C=C,penalty = penalty)\n",
    "\n",
    "FitModel(X_train,y_train,X_test,y_test,'LogisticRegression',LogisticRegression(),hyperparameters,cv=5)"
   ]
  },
  {
   "cell_type": "markdown",
   "execution_count": null,
   "metadata": {
    "papermill": {
     "duration": 0.023528,
     "end_time": "2020-08-12T06:51:29.441416",
     "exception": false,
     "start_time": "2020-08-12T06:51:29.417888",
     "status": "completed"
    },
    "tags": []
   },
   "source": [
    "### XGBoost"
   ]
  },
  {
   "cell_type": "code",
   "execution_count": 23,
   "metadata": {
    "_kg_hide-input": true,
    "execution": {
     "iopub.execute_input": "2020-08-12T06:51:29.502250Z",
     "iopub.status.busy": "2020-08-12T06:51:29.501208Z",
     "iopub.status.idle": "2020-08-12T06:53:15.834911Z",
     "shell.execute_reply": "2020-08-12T06:53:15.836096Z"
    },
    "papermill": {
     "duration": 106.371073,
     "end_time": "2020-08-12T06:53:15.836513",
     "exception": false,
     "start_time": "2020-08-12T06:51:29.465440",
     "status": "completed"
    },
    "tags": []
   },
   "outputs": [
    {
     "name": "stderr",
     "output_type": "stream",
     "text": [
      "[Parallel(n_jobs=-1)]: Using backend LokyBackend with 4 concurrent workers.\n"
     ]
    },
    {
     "name": "stdout",
     "output_type": "stream",
     "text": [
      "Fitting 5 folds for each of 270 candidates, totalling 1350 fits\n"
     ]
    },
    {
     "name": "stderr",
     "output_type": "stream",
     "text": [
      "[Parallel(n_jobs=-1)]: Done  42 tasks      | elapsed:    3.3s\n",
      "[Parallel(n_jobs=-1)]: Done 192 tasks      | elapsed:   16.2s\n",
      "[Parallel(n_jobs=-1)]: Done 442 tasks      | elapsed:   37.4s\n",
      "[Parallel(n_jobs=-1)]: Done 792 tasks      | elapsed:  1.1min\n",
      "[Parallel(n_jobs=-1)]: Done 1242 tasks      | elapsed:  1.6min\n"
     ]
    },
    {
     "name": "stdout",
     "output_type": "stream",
     "text": [
      "[1 0 0 1 0 0 1 0 1 0 1 0 1 1 1 1 0 0 1 0 1 1 1 1 0 0 0 0 1 0 1]\n",
      "Best Params : {'learning_rate': 0.01, 'max_depth': 2, 'n_estimators': 100}\n",
      "Classification Report :               precision    recall  f1-score   support\n",
      "\n",
      "           0       0.93      0.78      0.85        18\n",
      "           1       0.75      0.92      0.83        13\n",
      "\n",
      "    accuracy                           0.84        31\n",
      "   macro avg       0.84      0.85      0.84        31\n",
      "weighted avg       0.86      0.84      0.84        31\n",
      "\n",
      "Accuracy Score :0.8387096774193549\n",
      "Confusion Matrix : \n",
      " [[14  4]\n",
      " [ 1 12]]\n"
     ]
    },
    {
     "name": "stderr",
     "output_type": "stream",
     "text": [
      "[Parallel(n_jobs=-1)]: Done 1350 out of 1350 | elapsed:  1.8min finished\n"
     ]
    }
   ],
   "source": [
    "param = {\n",
    "           'n_estimators':[100,500,1000,1500,2000],\n",
    "           'max_depth':[2,3,4,5,6,7],\n",
    "           'learning_rate':np.arange(0.01,0.1,0.01).tolist()\n",
    "         }\n",
    "FitModel(X_train,y_train,X_test,y_test,'XGBoost',XGBClassifier(),param,cv=5)"
   ]
  },
  {
   "cell_type": "markdown",
   "execution_count": null,
   "metadata": {
    "papermill": {
     "duration": 0.03153,
     "end_time": "2020-08-12T06:53:15.900493",
     "exception": false,
     "start_time": "2020-08-12T06:53:15.868963",
     "status": "completed"
    },
    "tags": []
   },
   "source": [
    "### Random Forest"
   ]
  },
  {
   "cell_type": "code",
   "execution_count": 24,
   "metadata": {
    "_kg_hide-input": true,
    "execution": {
     "iopub.execute_input": "2020-08-12T06:53:15.975636Z",
     "iopub.status.busy": "2020-08-12T06:53:15.974644Z",
     "iopub.status.idle": "2020-08-12T06:55:30.489264Z",
     "shell.execute_reply": "2020-08-12T06:55:30.488080Z"
    },
    "papermill": {
     "duration": 134.557108,
     "end_time": "2020-08-12T06:55:30.489522",
     "exception": false,
     "start_time": "2020-08-12T06:53:15.932414",
     "status": "completed"
    },
    "tags": []
   },
   "outputs": [
    {
     "name": "stderr",
     "output_type": "stream",
     "text": [
      "[Parallel(n_jobs=-1)]: Using backend LokyBackend with 4 concurrent workers.\n"
     ]
    },
    {
     "name": "stdout",
     "output_type": "stream",
     "text": [
      "Fitting 5 folds for each of 30 candidates, totalling 150 fits\n"
     ]
    },
    {
     "name": "stderr",
     "output_type": "stream",
     "text": [
      "[Parallel(n_jobs=-1)]: Done  42 tasks      | elapsed:   33.2s\n",
      "[Parallel(n_jobs=-1)]: Done 150 out of 150 | elapsed:  2.2min finished\n"
     ]
    },
    {
     "name": "stdout",
     "output_type": "stream",
     "text": [
      "[1 0 0 1 0 0 1 0 1 0 1 0 1 1 1 1 0 0 1 0 0 1 1 1 0 0 0 0 1 0 1]\n",
      "Best Params : {'max_depth': 4, 'n_estimators': 100}\n",
      "Classification Report :               precision    recall  f1-score   support\n",
      "\n",
      "           0       0.88      0.78      0.82        18\n",
      "           1       0.73      0.85      0.79        13\n",
      "\n",
      "    accuracy                           0.81        31\n",
      "   macro avg       0.80      0.81      0.80        31\n",
      "weighted avg       0.82      0.81      0.81        31\n",
      "\n",
      "Accuracy Score :0.8064516129032258\n",
      "Confusion Matrix : \n",
      " [[14  4]\n",
      " [ 2 11]]\n"
     ]
    }
   ],
   "source": [
    "param = {\n",
    "           'n_estimators':[100,500,1000,1500,2000],\n",
    "           'max_depth':[2,3,4,5,6,7],\n",
    "        \n",
    "         }\n",
    "FitModel(X_train,y_train,X_test,y_test,'Random Forest',RandomForestClassifier(),param,cv=5)"
   ]
  },
  {
   "cell_type": "markdown",
   "execution_count": null,
   "metadata": {
    "papermill": {
     "duration": 0.02402,
     "end_time": "2020-08-12T06:55:30.541626",
     "exception": false,
     "start_time": "2020-08-12T06:55:30.517606",
     "status": "completed"
    },
    "tags": []
   },
   "source": [
    "### SVC"
   ]
  },
  {
   "cell_type": "code",
   "execution_count": 25,
   "metadata": {
    "_kg_hide-input": true,
    "execution": {
     "iopub.execute_input": "2020-08-12T06:55:30.600765Z",
     "iopub.status.busy": "2020-08-12T06:55:30.599913Z",
     "iopub.status.idle": "2020-08-12T06:55:31.114461Z",
     "shell.execute_reply": "2020-08-12T06:55:31.113407Z"
    },
    "papermill": {
     "duration": 0.548547,
     "end_time": "2020-08-12T06:55:31.114642",
     "exception": false,
     "start_time": "2020-08-12T06:55:30.566095",
     "status": "completed"
    },
    "tags": []
   },
   "outputs": [
    {
     "name": "stdout",
     "output_type": "stream",
     "text": [
      "Fitting 5 folds for each of 28 candidates, totalling 140 fits\n"
     ]
    },
    {
     "name": "stderr",
     "output_type": "stream",
     "text": [
      "[Parallel(n_jobs=-1)]: Using backend LokyBackend with 4 concurrent workers.\n"
     ]
    },
    {
     "name": "stdout",
     "output_type": "stream",
     "text": [
      "[1 0 0 1 0 1 1 0 1 0 1 0 1 1 1 1 0 0 1 1 0 1 1 1 0 0 0 1 1 0 1]\n",
      "Best Params : {'C': 100, 'gamma': 0.0001}\n",
      "Classification Report :               precision    recall  f1-score   support\n",
      "\n",
      "           0       0.92      0.67      0.77        18\n",
      "           1       0.67      0.92      0.77        13\n",
      "\n",
      "    accuracy                           0.77        31\n",
      "   macro avg       0.79      0.79      0.77        31\n",
      "weighted avg       0.82      0.77      0.77        31\n",
      "\n",
      "Accuracy Score :0.7741935483870968\n",
      "Confusion Matrix : \n",
      " [[12  6]\n",
      " [ 1 12]]\n"
     ]
    },
    {
     "name": "stderr",
     "output_type": "stream",
     "text": [
      "[Parallel(n_jobs=-1)]: Done 116 tasks      | elapsed:    0.4s\n",
      "[Parallel(n_jobs=-1)]: Done 140 out of 140 | elapsed:    0.5s finished\n"
     ]
    }
   ],
   "source": [
    "param = {\n",
    "           'C':[0.1,1,100,1000],\n",
    "           'gamma':[0.0001,0.001,0.005,0.1,1,3,5],\n",
    "           \n",
    "         }\n",
    "FitModel(X_train,y_train,X_test,y_test,'SVC',SVC(),param,cv=5)"
   ]
  },
  {
   "cell_type": "markdown",
   "execution_count": null,
   "metadata": {
    "papermill": {
     "duration": 0.024022,
     "end_time": "2020-08-12T06:55:31.163466",
     "exception": false,
     "start_time": "2020-08-12T06:55:31.139444",
     "status": "completed"
    },
    "tags": []
   },
   "source": [
    "Support Vector machines need big data set to have higher accuracy.Here we have less number of data points so accuracy would be comparatively low."
   ]
  },
  {
   "cell_type": "markdown",
   "execution_count": null,
   "metadata": {
    "papermill": {
     "duration": 0.024081,
     "end_time": "2020-08-12T06:55:31.211950",
     "exception": false,
     "start_time": "2020-08-12T06:55:31.187869",
     "status": "completed"
    },
    "tags": []
   },
   "source": [
    "# 6.Balancing the dataset"
   ]
  },
  {
   "cell_type": "code",
   "execution_count": 26,
   "metadata": {
    "_kg_hide-input": true,
    "execution": {
     "iopub.execute_input": "2020-08-12T06:55:31.273796Z",
     "iopub.status.busy": "2020-08-12T06:55:31.272821Z",
     "iopub.status.idle": "2020-08-12T06:55:31.278502Z",
     "shell.execute_reply": "2020-08-12T06:55:31.277721Z"
    },
    "papermill": {
     "duration": 0.041927,
     "end_time": "2020-08-12T06:55:31.278637",
     "exception": false,
     "start_time": "2020-08-12T06:55:31.236710",
     "status": "completed"
    },
    "tags": []
   },
   "outputs": [
    {
     "data": {
      "text/plain": [
       "1    165\n",
       "0    138\n",
       "Name: target, dtype: int64"
      ]
     },
     "execution_count": 26,
     "metadata": {},
     "output_type": "execute_result"
    }
   ],
   "source": [
    "X = df.drop('target',axis=1)\n",
    "y = df.target\n",
    "y.value_counts()"
   ]
  },
  {
   "cell_type": "code",
   "execution_count": 27,
   "metadata": {
    "_kg_hide-input": true,
    "execution": {
     "iopub.execute_input": "2020-08-12T06:55:31.335357Z",
     "iopub.status.busy": "2020-08-12T06:55:31.334488Z",
     "iopub.status.idle": "2020-08-12T06:55:31.508584Z",
     "shell.execute_reply": "2020-08-12T06:55:31.509338Z"
    },
    "papermill": {
     "duration": 0.206499,
     "end_time": "2020-08-12T06:55:31.509554",
     "exception": false,
     "start_time": "2020-08-12T06:55:31.303055",
     "status": "completed"
    },
    "tags": []
   },
   "outputs": [
    {
     "data": {
      "text/plain": [
       "1    165\n",
       "0    165\n",
       "Name: target, dtype: int64"
      ]
     },
     "execution_count": 27,
     "metadata": {},
     "output_type": "execute_result"
    }
   ],
   "source": [
    "from imblearn.over_sampling import SMOTE\n",
    "sm = SMOTE(random_state=42)\n",
    "X_res_OS , Y_res_OS = sm.fit_resample(X,y)\n",
    "pd.Series(Y_res_OS).value_counts()"
   ]
  },
  {
   "cell_type": "markdown",
   "execution_count": null,
   "metadata": {
    "papermill": {
     "duration": 0.024725,
     "end_time": "2020-08-12T06:55:31.560242",
     "exception": false,
     "start_time": "2020-08-12T06:55:31.535517",
     "status": "completed"
    },
    "tags": []
   },
   "source": [
    "We have balance the dataset"
   ]
  },
  {
   "cell_type": "code",
   "execution_count": 28,
   "metadata": {
    "execution": {
     "iopub.execute_input": "2020-08-12T06:55:31.618732Z",
     "iopub.status.busy": "2020-08-12T06:55:31.617554Z",
     "iopub.status.idle": "2020-08-12T06:55:31.622250Z",
     "shell.execute_reply": "2020-08-12T06:55:31.623156Z"
    },
    "papermill": {
     "duration": 0.037356,
     "end_time": "2020-08-12T06:55:31.623448",
     "exception": false,
     "start_time": "2020-08-12T06:55:31.586092",
     "status": "completed"
    },
    "tags": []
   },
   "outputs": [
    {
     "name": "stdout",
     "output_type": "stream",
     "text": [
      "Index(['age', 'sex', 'cp', 'trestbps', 'chol', 'fbs', 'restecg', 'thalach',\n",
      "       'exang', 'oldpeak', 'slope', 'ca', 'thal', 'target'],\n",
      "      dtype='object')\n"
     ]
    }
   ],
   "source": [
    "print(cols)"
   ]
  },
  {
   "cell_type": "markdown",
   "execution_count": null,
   "metadata": {
    "papermill": {
     "duration": 0.025257,
     "end_time": "2020-08-12T06:55:31.675201",
     "exception": false,
     "start_time": "2020-08-12T06:55:31.649944",
     "status": "completed"
    },
    "tags": []
   },
   "source": [
    "We need to convert the numpy array into dataframe"
   ]
  },
  {
   "cell_type": "code",
   "execution_count": 29,
   "metadata": {
    "_kg_hide-input": true,
    "execution": {
     "iopub.execute_input": "2020-08-12T06:55:31.741211Z",
     "iopub.status.busy": "2020-08-12T06:55:31.740067Z",
     "iopub.status.idle": "2020-08-12T06:55:31.743636Z",
     "shell.execute_reply": "2020-08-12T06:55:31.742775Z"
    },
    "papermill": {
     "duration": 0.039354,
     "end_time": "2020-08-12T06:55:31.743784",
     "exception": false,
     "start_time": "2020-08-12T06:55:31.704430",
     "status": "completed"
    },
    "tags": []
   },
   "outputs": [],
   "source": [
    "X_res_OS = pd.DataFrame(X_res_OS,columns=['age', 'sex', 'cp', 'trestbps', 'chol', 'fbs', 'restecg', 'thalach',\n",
    "       'exang', 'oldpeak', 'slope', 'ca', 'thal'])\n",
    "Y_res_OS = pd.DataFrame(Y_res_OS,columns=['target'])"
   ]
  },
  {
   "cell_type": "markdown",
   "execution_count": null,
   "metadata": {
    "papermill": {
     "duration": 0.024866,
     "end_time": "2020-08-12T06:55:31.794400",
     "exception": false,
     "start_time": "2020-08-12T06:55:31.769534",
     "status": "completed"
    },
    "tags": []
   },
   "source": [
    "### Test Train Split"
   ]
  },
  {
   "cell_type": "code",
   "execution_count": 30,
   "metadata": {
    "_kg_hide-input": true,
    "execution": {
     "iopub.execute_input": "2020-08-12T06:55:31.857488Z",
     "iopub.status.busy": "2020-08-12T06:55:31.852739Z",
     "iopub.status.idle": "2020-08-12T06:55:31.863667Z",
     "shell.execute_reply": "2020-08-12T06:55:31.862804Z"
    },
    "papermill": {
     "duration": 0.043958,
     "end_time": "2020-08-12T06:55:31.863807",
     "exception": false,
     "start_time": "2020-08-12T06:55:31.819849",
     "status": "completed"
    },
    "tags": []
   },
   "outputs": [
    {
     "name": "stdout",
     "output_type": "stream",
     "text": [
      "Training Set : 297\n",
      "Test Set : 33\n",
      "Training labels : 297\n",
      "Test labels : 33\n"
     ]
    }
   ],
   "source": [
    "X_train,X_test,y_train,y_test = train_test_split(X_res_OS,Y_res_OS,test_size = 0.1,random_state=10)\n",
    "print('Training Set :',len(X_train))\n",
    "print('Test Set :',len(X_test))\n",
    "print('Training labels :',len(y_train))\n",
    "print('Test labels :',len(y_test))\n"
   ]
  },
  {
   "cell_type": "code",
   "execution_count": 31,
   "metadata": {
    "_kg_hide-input": true,
    "execution": {
     "iopub.execute_input": "2020-08-12T06:55:31.922330Z",
     "iopub.status.busy": "2020-08-12T06:55:31.921221Z",
     "iopub.status.idle": "2020-08-12T06:55:31.927520Z",
     "shell.execute_reply": "2020-08-12T06:55:31.928253Z"
    },
    "papermill": {
     "duration": 0.0396,
     "end_time": "2020-08-12T06:55:31.928457",
     "exception": false,
     "start_time": "2020-08-12T06:55:31.888857",
     "status": "completed"
    },
    "tags": []
   },
   "outputs": [
    {
     "name": "stdout",
     "output_type": "stream",
     "text": [
      "['age', 'trestbps', 'chol', 'thalach', 'oldpeak']\n"
     ]
    },
    {
     "data": {
      "text/plain": [
       "pandas.core.frame.DataFrame"
      ]
     },
     "execution_count": 31,
     "metadata": {},
     "output_type": "execute_result"
    }
   ],
   "source": [
    "print(final_cols)\n",
    "type(X_train)"
   ]
  },
  {
   "cell_type": "code",
   "execution_count": 32,
   "metadata": {
    "execution": {
     "iopub.execute_input": "2020-08-12T06:55:32.003660Z",
     "iopub.status.busy": "2020-08-12T06:55:31.995688Z",
     "iopub.status.idle": "2020-08-12T06:55:32.008493Z",
     "shell.execute_reply": "2020-08-12T06:55:32.007625Z"
    },
    "papermill": {
     "duration": 0.054841,
     "end_time": "2020-08-12T06:55:32.008637",
     "exception": false,
     "start_time": "2020-08-12T06:55:31.953796",
     "status": "completed"
    },
    "tags": []
   },
   "outputs": [],
   "source": [
    "from sklearn.impute import SimpleImputer \n",
    "fill = SimpleImputer(missing_values=np.nan, strategy='mean')\n",
    "\n",
    "X_train = fill.fit_transform(X_train[final_cols])\n",
    "X_test = fill.fit_transform(X_test[final_cols])"
   ]
  },
  {
   "cell_type": "markdown",
   "execution_count": null,
   "metadata": {
    "papermill": {
     "duration": 0.025187,
     "end_time": "2020-08-12T06:55:32.060431",
     "exception": false,
     "start_time": "2020-08-12T06:55:32.035244",
     "status": "completed"
    },
    "tags": []
   },
   "source": [
    "# 7. Refitting the Model "
   ]
  },
  {
   "cell_type": "markdown",
   "execution_count": null,
   "metadata": {
    "papermill": {
     "duration": 0.026417,
     "end_time": "2020-08-12T06:55:32.113643",
     "exception": false,
     "start_time": "2020-08-12T06:55:32.087226",
     "status": "completed"
    },
    "tags": []
   },
   "source": [
    "### XGBoost"
   ]
  },
  {
   "cell_type": "code",
   "execution_count": 33,
   "metadata": {
    "_kg_hide-input": true,
    "execution": {
     "iopub.execute_input": "2020-08-12T06:55:32.176557Z",
     "iopub.status.busy": "2020-08-12T06:55:32.175443Z",
     "iopub.status.idle": "2020-08-12T06:57:19.826337Z",
     "shell.execute_reply": "2020-08-12T06:57:19.825559Z"
    },
    "papermill": {
     "duration": 107.686793,
     "end_time": "2020-08-12T06:57:19.826511",
     "exception": false,
     "start_time": "2020-08-12T06:55:32.139718",
     "status": "completed"
    },
    "tags": []
   },
   "outputs": [
    {
     "name": "stdout",
     "output_type": "stream",
     "text": [
      "Fitting 5 folds for each of 270 candidates, totalling 1350 fits\n"
     ]
    },
    {
     "name": "stderr",
     "output_type": "stream",
     "text": [
      "[Parallel(n_jobs=-1)]: Using backend LokyBackend with 4 concurrent workers.\n",
      "[Parallel(n_jobs=-1)]: Done  76 tasks      | elapsed:    5.3s\n",
      "[Parallel(n_jobs=-1)]: Done 376 tasks      | elapsed:   31.0s\n",
      "[Parallel(n_jobs=-1)]: Done 876 tasks      | elapsed:  1.2min\n",
      "[Parallel(n_jobs=-1)]: Done 1343 out of 1350 | elapsed:  1.8min remaining:    0.6s\n"
     ]
    },
    {
     "name": "stdout",
     "output_type": "stream",
     "text": [
      "[1 1 1 0 0 1 1 1 1 0 1 0 0 0 0 0 1 0 1 1 0 0 1 1 0 0 1 0 0 1 1 1 1]\n",
      "Best Params : {'learning_rate': 0.06999999999999999, 'max_depth': 2, 'n_estimators': 100}\n",
      "Classification Report :               precision    recall  f1-score   support\n",
      "\n",
      "           0       0.67      0.77      0.71        13\n",
      "           1       0.83      0.75      0.79        20\n",
      "\n",
      "    accuracy                           0.76        33\n",
      "   macro avg       0.75      0.76      0.75        33\n",
      "weighted avg       0.77      0.76      0.76        33\n",
      "\n",
      "Accuracy Score :0.7575757575757576\n",
      "Confusion Matrix : \n",
      " [[10  3]\n",
      " [ 5 15]]\n"
     ]
    },
    {
     "name": "stderr",
     "output_type": "stream",
     "text": [
      "[Parallel(n_jobs=-1)]: Done 1350 out of 1350 | elapsed:  1.8min finished\n"
     ]
    }
   ],
   "source": [
    "param = {\n",
    "           'n_estimators':[100,500,1000,1500,2000],\n",
    "           'max_depth':[2,3,4,5,6,7],\n",
    "           'learning_rate':np.arange(0.01,0.1,0.01).tolist()\n",
    "         }\n",
    "FitModel(X_train,y_train,X_test,y_test,'XGBoost',XGBClassifier(),param,cv=5)"
   ]
  },
  {
   "cell_type": "code",
   "execution_count": null,
   "metadata": {
    "papermill": {
     "duration": 0.032001,
     "end_time": "2020-08-12T06:57:19.890766",
     "exception": false,
     "start_time": "2020-08-12T06:57:19.858765",
     "status": "completed"
    },
    "tags": []
   },
   "outputs": [],
   "source": []
  },
  {
   "cell_type": "code",
   "execution_count": null,
   "metadata": {
    "papermill": {
     "duration": 0.031941,
     "end_time": "2020-08-12T06:57:19.957233",
     "exception": false,
     "start_time": "2020-08-12T06:57:19.925292",
     "status": "completed"
    },
    "tags": []
   },
   "outputs": [],
   "source": []
  }
 ],
 "metadata": {
  "kernelspec": {
   "display_name": "Python 3",
   "language": "python",
   "name": "python3"
  },
  "language_info": {
   "codemirror_mode": {
    "name": "ipython",
    "version": 3
   },
   "file_extension": ".py",
   "mimetype": "text/x-python",
   "name": "python",
   "nbconvert_exporter": "python",
   "pygments_lexer": "ipython3",
   "version": "3.7.6"
  },
  "papermill": {
   "duration": 371.230554,
   "end_time": "2020-08-12T06:57:20.109769",
   "environment_variables": {},
   "exception": null,
   "input_path": "__notebook__.ipynb",
   "output_path": "__notebook__.ipynb",
   "parameters": {},
   "start_time": "2020-08-12T06:51:08.879215",
   "version": "2.1.0"
  }
 },
 "nbformat": 4,
 "nbformat_minor": 4
}
