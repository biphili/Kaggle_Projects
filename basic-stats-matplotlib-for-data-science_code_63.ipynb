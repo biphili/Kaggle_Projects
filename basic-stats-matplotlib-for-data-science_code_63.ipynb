{
 "cells": [
  {
   "cell_type": "markdown",
   "metadata": {
    "_uuid": "d60f2c474601d477b1a7cc9834bd53dd7746f2fc"
   },
   "source": [
    "**In this tutorial I will be doing tutorial on the basic stats,plotting,pandas that are needed for carrying out datascienc projects.This is a kernel in process and I will be updating my work in coming days.If you like my work please do vote.**"
   ]
  },
  {
   "cell_type": "code",
   "execution_count": 1,
   "metadata": {
    "_cell_guid": "b1076dfc-b9ad-4769-8c92-a6c4dae69d19",
    "_kg_hide-input": true,
    "_uuid": "8f2839f25d086af736a60e9eeb907d3b93b6e0e5"
   },
   "outputs": [
    {
     "name": "stdout",
     "output_type": "stream",
     "text": [
      "[]\n"
     ]
    }
   ],
   "source": [
    "# This Python 3 environment comes with many helpful analytics libraries installed\n",
    "# It is defined by the kaggle/python docker image: https://github.com/kaggle/docker-python\n",
    "# For example, here's several helpful packages to load in \n",
    "\n",
    "import numpy as np # linear algebra\n",
    "import pandas as pd # data processing, CSV file I/O (e.g. pd.read_csv)\n",
    "\n",
    "# Input data files are available in the \"../input/\" directory.\n",
    "# For example, running this (by clicking run or pressing Shift+Enter) will list the files in the input directory\n",
    "\n",
    "import os\n",
    "print(os.listdir(\"../input\"))\n",
    "\n",
    "# Any results you write to the current directory are saved as output."
   ]
  },
  {
   "cell_type": "markdown",
   "metadata": {},
   "source": [
    "**A] Numpy Basics **"
   ]
  },
  {
   "cell_type": "code",
   "execution_count": 2,
   "metadata": {
    "_kg_hide-input": false
   },
   "outputs": [
    {
     "data": {
      "text/plain": [
       "[1, 2, 3, 4]"
      ]
     },
     "execution_count": 2,
     "metadata": {},
     "output_type": "execute_result"
    }
   ],
   "source": [
    "# Creating List \n",
    "my_list1=[1,2,3,4]\n",
    "my_list2=[11,22,33,44]\n",
    "my_list1"
   ]
  },
  {
   "cell_type": "code",
   "execution_count": 3,
   "metadata": {
    "_kg_hide-input": false
   },
   "outputs": [
    {
     "data": {
      "text/plain": [
       "array([1, 2, 3, 4])"
      ]
     },
     "execution_count": 3,
     "metadata": {},
     "output_type": "execute_result"
    }
   ],
   "source": [
    "# Creating an array \n",
    "my_array1=np.array(my_list1)\n",
    "my_array1"
   ]
  },
  {
   "cell_type": "code",
   "execution_count": 4,
   "metadata": {},
   "outputs": [
    {
     "data": {
      "text/plain": [
       "[[1, 2, 3, 4], [11, 22, 33, 44]]"
      ]
     },
     "execution_count": 4,
     "metadata": {},
     "output_type": "execute_result"
    }
   ],
   "source": [
    "# Creating List of list \n",
    "my_lists=[my_list1,my_list2]\n",
    "my_lists"
   ]
  },
  {
   "cell_type": "code",
   "execution_count": 5,
   "metadata": {},
   "outputs": [
    {
     "data": {
      "text/plain": [
       "array([[ 1,  2,  3,  4],\n",
       "       [11, 22, 33, 44]])"
      ]
     },
     "execution_count": 5,
     "metadata": {},
     "output_type": "execute_result"
    }
   ],
   "source": [
    "# Creating a multidimensional array or Matrix \n",
    "my_array2=np.array(my_lists)\n",
    "\n",
    "my_array2"
   ]
  },
  {
   "cell_type": "code",
   "execution_count": 6,
   "metadata": {},
   "outputs": [
    {
     "data": {
      "text/plain": [
       "(2, 4)"
      ]
     },
     "execution_count": 6,
     "metadata": {},
     "output_type": "execute_result"
    }
   ],
   "source": [
    "# Finding out the dimension of the matrix or array\n",
    "my_array2.shape"
   ]
  },
  {
   "cell_type": "code",
   "execution_count": 7,
   "metadata": {},
   "outputs": [
    {
     "data": {
      "text/plain": [
       "dtype('int64')"
      ]
     },
     "execution_count": 7,
     "metadata": {},
     "output_type": "execute_result"
    }
   ],
   "source": [
    "# Finding out the Data Types of the array \n",
    "my_array2.dtype"
   ]
  },
  {
   "cell_type": "code",
   "execution_count": 8,
   "metadata": {},
   "outputs": [
    {
     "data": {
      "text/plain": [
       "array([0., 0., 0., 0., 0.])"
      ]
     },
     "execution_count": 8,
     "metadata": {},
     "output_type": "execute_result"
    }
   ],
   "source": [
    "# Creating Zero Arrays \n",
    "my_zero_array=np.zeros(5)\n",
    "my_zero_array"
   ]
  },
  {
   "cell_type": "code",
   "execution_count": 9,
   "metadata": {},
   "outputs": [
    {
     "data": {
      "text/plain": [
       "dtype('float64')"
      ]
     },
     "execution_count": 9,
     "metadata": {},
     "output_type": "execute_result"
    }
   ],
   "source": [
    "my_zero_array.dtype"
   ]
  },
  {
   "cell_type": "code",
   "execution_count": 10,
   "metadata": {},
   "outputs": [
    {
     "data": {
      "text/plain": [
       "array([[1., 1., 1., 1., 1.],\n",
       "       [1., 1., 1., 1., 1.],\n",
       "       [1., 1., 1., 1., 1.],\n",
       "       [1., 1., 1., 1., 1.],\n",
       "       [1., 1., 1., 1., 1.]])"
      ]
     },
     "execution_count": 10,
     "metadata": {},
     "output_type": "execute_result"
    }
   ],
   "source": [
    "np.ones([5,5])"
   ]
  },
  {
   "cell_type": "markdown",
   "metadata": {
    "_cell_guid": "79c7e3d0-c299-4dcb-8224-4455121ee9b0",
    "_uuid": "d629ff2d2480ee46fbb7e2d37f6b5fab8052498a",
    "collapsed": true
   },
   "source": [
    "**B] Mean,Median,Mode and Introducing Numpy **\n",
    "\n",
    "Lets create an income data,centered arounf 27000 with a normal distribution and standard deviation of 15000 with 10000 point.Then we will compute the mean,median and Mode for this data "
   ]
  },
  {
   "cell_type": "code",
   "execution_count": 11,
   "metadata": {
    "_uuid": "5089151ca4339b7b9779f68974a82e795f0ee318"
   },
   "outputs": [],
   "source": [
    "import numpy as np \n",
    "incomes=np.random.normal(27000,15000,10000)\n",
    "# Median=27000\n",
    "# Standard Deviation =15000\n",
    "# Number of data points =10000"
   ]
  },
  {
   "cell_type": "markdown",
   "metadata": {
    "_uuid": "48c92f2479e248e7ecb1ec97919b96d6a98cd62b"
   },
   "source": [
    "**1.Displaying the data using a histogram **"
   ]
  },
  {
   "cell_type": "code",
   "execution_count": 12,
   "metadata": {
    "_uuid": "711c4de1494d1bfb9d836b065283496e7ba6d214"
   },
   "outputs": [
    {
     "data": {
      "image/png": "[encoded data removed]",
      "text/plain": [
       "<Figure size 432x288 with 1 Axes>"
      ]
     },
     "metadata": {},
     "output_type": "display_data"
    }
   ],
   "source": [
    "import matplotlib.pyplot as plt \n",
    "plt.hist(incomes,50)\n",
    "plt.ioff()"
   ]
  },
  {
   "cell_type": "markdown",
   "metadata": {
    "_uuid": "57b0dbd15bec60f69e5ec14d7a22186fba9e64c2"
   },
   "source": [
    "The curve shows us that the salary data is following a normal distribution curve."
   ]
  },
  {
   "cell_type": "markdown",
   "metadata": {
    "_uuid": "57a99b13e1bae990068b0d2d334b1342c7d7eae9"
   },
   "source": [
    "**2.Calculating the mean of the data **"
   ]
  },
  {
   "cell_type": "code",
   "execution_count": 13,
   "metadata": {
    "_uuid": "5ad788ae5084e95cd0413cb2976673e2cc07c0dc"
   },
   "outputs": [
    {
     "data": {
      "text/plain": [
       "27162.522603979076"
      ]
     },
     "execution_count": 13,
     "metadata": {},
     "output_type": "execute_result"
    }
   ],
   "source": [
    "np.mean(incomes)"
   ]
  },
  {
   "cell_type": "markdown",
   "metadata": {
    "_uuid": "7e279e2320eb28c8ccb01c91e551f4dd9f07197f"
   },
   "source": [
    "We can see that the mean of the data is 27083.05 which is more than the mean assumed 27000.This is due to randomness incorporated in the data."
   ]
  },
  {
   "cell_type": "markdown",
   "metadata": {
    "_uuid": "c7150680b2bff224032c92cebe9f5c17c92ff63e"
   },
   "source": [
    "**3.Calculating the median of the data **"
   ]
  },
  {
   "cell_type": "code",
   "execution_count": 14,
   "metadata": {
    "_uuid": "e974f9de4deb50f26dd3440adb297ed3988b2645"
   },
   "outputs": [
    {
     "data": {
      "text/plain": [
       "27070.878906747566"
      ]
     },
     "execution_count": 14,
     "metadata": {},
     "output_type": "execute_result"
    }
   ],
   "source": [
    "np.median(incomes)"
   ]
  },
  {
   "cell_type": "markdown",
   "metadata": {
    "_uuid": "04ef26d91a29935c1415cc6230b87644fe8730ed"
   },
   "source": [
    "Median of 26972.4 means that half of the people's salary is less than median value of 26972.4 and Half of the people have salary more than median value."
   ]
  },
  {
   "cell_type": "markdown",
   "metadata": {
    "_uuid": "154f28301e5836be23b9ec013b9facd5c71c00c6"
   },
   "source": [
    "**4.What is the differemce between mean and Median?**\n",
    "\n",
    "We can explain this by adding an outlier to this data.Let us assume a rich person has a salary of 1000000000.This will shift the mean of the data but lets see what will happen to the median of the data"
   ]
  },
  {
   "cell_type": "code",
   "execution_count": 15,
   "metadata": {
    "_uuid": "2750b640f491192115c0eafee52eaa75cd1291b9"
   },
   "outputs": [],
   "source": [
    "incomes=np.append(incomes,[1000000000])"
   ]
  },
  {
   "cell_type": "code",
   "execution_count": 16,
   "metadata": {
    "_uuid": "8fb5b0f8cac61fba6bc747ff0a87420d9a624986"
   },
   "outputs": [
    {
     "data": {
      "text/plain": [
       "127149.80762321674"
      ]
     },
     "execution_count": 16,
     "metadata": {},
     "output_type": "execute_result"
    }
   ],
   "source": [
    "np.mean(incomes)"
   ]
  },
  {
   "cell_type": "markdown",
   "metadata": {
    "_uuid": "668a8a1f5a8f99849d1efe4d2041036c05421e99"
   },
   "source": [
    "So we can see that the mean of the data has shifted from 27083 to 127070. This is a huge shift in the mean of the data due to an outlier "
   ]
  },
  {
   "cell_type": "code",
   "execution_count": 17,
   "metadata": {
    "_uuid": "00435ef4c628e84027e61c50b566b68d2db733e7"
   },
   "outputs": [
    {
     "data": {
      "text/plain": [
       "27071.24123712354"
      ]
     },
     "execution_count": 17,
     "metadata": {},
     "output_type": "execute_result"
    }
   ],
   "source": [
    "np.median(incomes)"
   ]
  },
  {
   "cell_type": "markdown",
   "metadata": {
    "_uuid": "8d15100bd24c9564736b87f3dd1a41ecf5b5a187"
   },
   "source": [
    "We can see that by adding the outlier salary value to the data set there is not much change in the median of the dataset.So if we can to go my mean of the data set then we would be assuming wrong range for income of the dataset.So in this case it is better to use the median value."
   ]
  },
  {
   "cell_type": "markdown",
   "metadata": {
    "_uuid": "22167bfaa7ee1847bc154f3f3b19d2bca905043a"
   },
   "source": [
    "**5.Mode**"
   ]
  },
  {
   "cell_type": "code",
   "execution_count": 18,
   "metadata": {
    "_uuid": "a5c8b49806a707c6e1b4fc5cc01ecbbb567f1dd7"
   },
   "outputs": [
    {
     "data": {
      "text/plain": [
       "ModeResult(mode=array([-29333.62270244]), count=array([1]))"
      ]
     },
     "execution_count": 18,
     "metadata": {},
     "output_type": "execute_result"
    }
   ],
   "source": [
    "from scipy import stats\n",
    "stats.mode(incomes)"
   ]
  },
  {
   "cell_type": "markdown",
   "metadata": {
    "_uuid": "e4bd31207e23832e7e30feff2b86129f16b90a29"
   },
   "source": [
    "So the most repated Salary value is 1.e+09 and it repeats 2 times.This is not a good data for calculating the mode.We will generate a data of age of people between 18 and 90 for 500 people."
   ]
  },
  {
   "cell_type": "code",
   "execution_count": 19,
   "metadata": {
    "_uuid": "9c4d3ea790b66967b053babfeb8d428e2dd6fdf0"
   },
   "outputs": [
    {
     "data": {
      "text/plain": [
       "array([49, 24, 54, 49, 47, 35, 76, 21, 56, 76, 18, 62, 68, 35, 83, 70, 71,\n",
       "       46, 51, 48, 78, 66, 79, 37, 78, 26, 74, 55, 87, 85, 65, 75, 67, 74,\n",
       "       58, 62, 19, 89, 82, 88, 50, 38, 27, 58, 19, 70, 44, 85, 37, 64, 41,\n",
       "       24, 47, 61, 88, 71, 51, 46, 24, 38, 45, 36, 24, 42, 62, 47, 55, 36,\n",
       "       22, 82, 40, 66, 67, 63, 27, 68, 82, 24, 71, 76, 51, 30, 69, 21, 71,\n",
       "       21, 86, 68, 74, 82, 85, 21, 50, 23, 36, 44, 52, 45, 26, 32, 88, 43,\n",
       "       63, 82, 27, 29, 82, 50, 38, 60, 57, 65, 38, 64, 72, 89, 71, 38, 48,\n",
       "       65, 40, 61, 18, 40, 77, 68, 35, 43, 49, 23, 19, 28, 55, 22, 52, 69,\n",
       "       47, 32, 57, 68, 84, 65, 65, 44, 37, 43, 21, 22, 26, 52, 26, 72, 65,\n",
       "       41, 73, 72, 74, 36, 19, 87, 32, 67, 68, 58, 65, 72, 46, 69, 68, 24,\n",
       "       63, 45, 76, 88, 51, 59, 85, 81, 58, 86, 62, 78, 19, 47, 20, 49, 18,\n",
       "       61, 64, 20, 36, 79, 18, 26, 61, 25, 52, 60, 83, 79, 86, 64, 19, 21,\n",
       "       55, 21, 21, 21, 67, 58, 60, 69, 22, 28, 30, 44, 47, 61, 41, 86, 21,\n",
       "       42, 22, 24, 57, 38, 89, 22, 61, 82, 88, 82, 54, 52, 86, 52, 27, 55,\n",
       "       22, 56, 54, 42, 66, 25, 72, 70, 85, 46, 22, 30, 26, 46, 19, 42, 61,\n",
       "       45, 51, 71, 32, 89, 43, 89, 58, 86, 33, 82, 29, 25, 66, 68, 69, 38,\n",
       "       48, 54, 30, 63, 42, 30, 25, 61, 20, 52, 19, 67, 49, 67, 81, 61, 57,\n",
       "       79, 64, 56, 20, 41, 74, 57, 70, 32, 45, 89, 65, 78, 64, 36, 30, 49,\n",
       "       65, 80, 30, 34, 89, 26, 39, 51, 67, 19, 88, 80, 81, 76, 27, 58, 20,\n",
       "       43, 64, 64, 49, 80, 47, 21, 31, 25, 86, 68, 39, 28, 64, 76, 77, 76,\n",
       "       70, 32, 52, 41, 72, 19, 27, 84, 50, 50, 65, 58, 87, 67, 61, 42, 31,\n",
       "       26, 48, 87, 44, 84, 39, 82, 65, 32, 36, 18, 86, 44, 32, 54, 36, 18,\n",
       "       73, 76, 26, 21, 67, 18, 81, 52, 72, 85, 35, 32, 38, 68, 69, 87, 77,\n",
       "       74, 88, 29, 26, 78, 77, 71, 19, 63, 65, 28, 82, 69, 87, 64, 87, 40,\n",
       "       75, 75, 79, 74, 40, 52, 89, 48, 44, 37, 65, 67, 66, 40, 78, 54, 72,\n",
       "       85, 18, 38, 34, 66, 48, 50, 64, 38, 33, 79, 57, 77, 28, 71, 38, 88,\n",
       "       21, 49, 43, 51, 20, 66, 22, 52, 51, 64, 30, 54, 36, 36, 62, 85, 28,\n",
       "       72, 42, 87, 31, 62, 34, 19, 89, 59, 45, 36, 26, 24, 19, 19, 57, 26,\n",
       "       19, 72, 24, 38, 47, 71, 71, 68, 38, 55, 86, 57, 33, 80, 45, 70, 86,\n",
       "       45, 78, 56, 19, 36, 75, 22])"
      ]
     },
     "execution_count": 19,
     "metadata": {},
     "output_type": "execute_result"
    }
   ],
   "source": [
    "ages=np.random.randint(18,high=90,size=500)\n",
    "ages"
   ]
  },
  {
   "cell_type": "code",
   "execution_count": 20,
   "metadata": {
    "_uuid": "d94a76fd1b39ef26bc67b16629ac81783b77d23d"
   },
   "outputs": [
    {
     "data": {
      "text/plain": [
       "ModeResult(mode=array([19]), count=array([16]))"
      ]
     },
     "execution_count": 20,
     "metadata": {},
     "output_type": "execute_result"
    }
   ],
   "source": [
    "stats.mode(ages)"
   ]
  },
  {
   "cell_type": "markdown",
   "metadata": {
    "_uuid": "57ebc8a5a7daf0f02be556be0c0c77956172b482"
   },
   "source": [
    "So age of 34 is the mode of the dataset as it is repaeated 16 times which is most in the dataset."
   ]
  },
  {
   "cell_type": "markdown",
   "metadata": {
    "_uuid": "63ce8b9eedb86299debfd3ca3c5b590e5a490983"
   },
   "source": [
    "**C] Standard deviation and variance **"
   ]
  },
  {
   "cell_type": "code",
   "execution_count": 21,
   "metadata": {
    "_uuid": "8e2fb7c11d0fd052e2be5d1918043f587258d5e3"
   },
   "outputs": [
    {
     "data": {
      "image/png": "[encoded data removed]",
      "text/plain": [
       "<Figure size 432x288 with 1 Axes>"
      ]
     },
     "metadata": {},
     "output_type": "display_data"
    }
   ],
   "source": [
    "incomes=np.random.normal(100,20,10000)\n",
    "plt.hist(incomes,50)\n",
    "plt.show()"
   ]
  },
  {
   "cell_type": "markdown",
   "metadata": {
    "_uuid": "603d5372809d95e10aaeb39ef9e1af0763c734f0"
   },
   "source": [
    "**1.Standard Deviation:**"
   ]
  },
  {
   "cell_type": "code",
   "execution_count": 22,
   "metadata": {
    "_uuid": "f7f6bc33be9243dcfbf86b047447a6e05fcd577d"
   },
   "outputs": [
    {
     "data": {
      "text/plain": [
       "20.14651895210956"
      ]
     },
     "execution_count": 22,
     "metadata": {},
     "output_type": "execute_result"
    }
   ],
   "source": [
    "incomes.std()"
   ]
  },
  {
   "cell_type": "markdown",
   "metadata": {
    "_uuid": "200d44509156a4ff228786cb97ab26a9ecb5faff"
   },
   "source": [
    "So we can say that as the standard deviation of the income data is 20.18 the spread of the data is 20.18 about the mean which is 100."
   ]
  },
  {
   "cell_type": "markdown",
   "metadata": {
    "_uuid": "744127bde4c048521f5ddc9b2784625de9e89dce"
   },
   "source": [
    "**2.Variance **"
   ]
  },
  {
   "cell_type": "code",
   "execution_count": 23,
   "metadata": {
    "_uuid": "c4b2e9f25f67f0604ad6c5a20b5b625e2602f30c"
   },
   "outputs": [
    {
     "data": {
      "text/plain": [
       "405.8822258877097"
      ]
     },
     "execution_count": 23,
     "metadata": {},
     "output_type": "execute_result"
    }
   ],
   "source": [
    "incomes.var()"
   ]
  },
  {
   "cell_type": "markdown",
   "metadata": {
    "_uuid": "7b461b386771bd14b8820bd175acac301c29ce33"
   },
   "source": [
    "**D] Matplotlib Basics**"
   ]
  },
  {
   "cell_type": "markdown",
   "metadata": {
    "_uuid": "e4a662c1dc8baaed4414a77e8bf14478b6f42ccc"
   },
   "source": [
    "**1.Line Graph**"
   ]
  },
  {
   "cell_type": "code",
   "execution_count": 24,
   "metadata": {
    "_kg_hide-input": true,
    "_uuid": "55feb3072a61c40863387c90b3da6ce1e425f4e5"
   },
   "outputs": [
    {
     "data": {
      "image/png": "[encoded data removed]",
      "text/plain": [
       "<Figure size 432x288 with 1 Axes>"
      ]
     },
     "metadata": {},
     "output_type": "display_data"
    }
   ],
   "source": [
    "from scipy.stats import norm \n",
    "import matplotlib.pyplot as plt \n",
    "x=np.arange(-3,3,0.001)\n",
    "plt.plot(x,norm.pdf(x))\n",
    "plt.ioff()\n",
    "plt.show()"
   ]
  },
  {
   "cell_type": "markdown",
   "metadata": {
    "_uuid": "7f00ff76c2ef96adb18844b7972b91c74a2521f6"
   },
   "source": [
    "**2.Multiple plots on the graph **"
   ]
  },
  {
   "cell_type": "code",
   "execution_count": 25,
   "metadata": {
    "_kg_hide-input": true,
    "_uuid": "961a6afb0e05bf4c3c6aaa6c312deb8266b55595"
   },
   "outputs": [
    {
     "data": {
      "image/png": "[encoded data removed]",
      "text/plain": [
       "<Figure size 432x288 with 1 Axes>"
      ]
     },
     "metadata": {},
     "output_type": "display_data"
    }
   ],
   "source": [
    "plt.plot(x,norm.pdf(x))\n",
    "plt.plot(x,norm.pdf(x,1,0.5))\n",
    "plt.ioff()"
   ]
  },
  {
   "cell_type": "markdown",
   "metadata": {
    "_uuid": "94eb3bd705635a0cf2a68418b73fa90c97969284"
   },
   "source": [
    "**3.Save it to a file **"
   ]
  },
  {
   "cell_type": "code",
   "execution_count": 26,
   "metadata": {
    "_kg_hide-input": true,
    "_uuid": "b669501b5da8c8d043718d1c48babaac5d304d30"
   },
   "outputs": [
    {
     "data": {
      "image/png": "[encoded data removed]",
      "text/plain": [
       "<Figure size 432x288 with 1 Axes>"
      ]
     },
     "metadata": {},
     "output_type": "display_data"
    }
   ],
   "source": [
    "plt.plot(x,norm.pdf(x))\n",
    "plt.plot(x,norm.pdf(x,1,0.5))\n",
    "#plt.savefig('',format='png')   Specify the path where you want to save the plot \n",
    "plt.ioff()"
   ]
  },
  {
   "cell_type": "markdown",
   "metadata": {
    "_uuid": "2d2a7998eb01afb9c9e2b6812488c3f04934da44"
   },
   "source": [
    "**4.Adjust the axes **"
   ]
  },
  {
   "cell_type": "code",
   "execution_count": 27,
   "metadata": {
    "_kg_hide-input": true,
    "_uuid": "b5530c8c40bc21ab432f24f8d4711a04c02aeed5"
   },
   "outputs": [
    {
     "name": "stderr",
     "output_type": "stream",
     "text": [
      "/opt/conda/lib/python3.6/site-packages/matplotlib/cbook/deprecation.py:107: MatplotlibDeprecationWarning: Adding an axes using the same arguments as a previous axes currently reuses the earlier instance.  In a future version, a new instance will always be created and returned.  Meanwhile, this warning can be suppressed, and the future behavior ensured, by passing a unique label to each axes instance.\n",
      "  warnings.warn(message, mplDeprecation, stacklevel=1)\n"
     ]
    },
    {
     "data": {
      "image/png": "[encoded data removed]",
      "text/plain": [
       "<Figure size 432x288 with 1 Axes>"
      ]
     },
     "metadata": {},
     "output_type": "display_data"
    }
   ],
   "source": [
    "plt.plot(x,norm.pdf(x))\n",
    "plt.plot(x,norm.pdf(x,1,0.5))\n",
    "axes=plt.axes()\n",
    "axes.set_xlim([-5,5])\n",
    "axes.set_ylim(0,1)\n",
    "axes.set_xticks([-5,-4,-3,-2,-1,0,1,2,3,4,5])\n",
    "axes.set_yticks([0,0.1,0.2,0.3,0.4,0.5,0.6,0.7,0.8,0.9,1])\n",
    "plt.plot()\n",
    "plt.ioff()"
   ]
  },
  {
   "cell_type": "markdown",
   "metadata": {
    "_uuid": "4e42bf49f8d7bbd0fdaaebe5418d0878c47e7e97"
   },
   "source": [
    "**5.Adding Grid **"
   ]
  },
  {
   "cell_type": "code",
   "execution_count": 28,
   "metadata": {
    "_kg_hide-input": true,
    "_uuid": "dd7ebca697bdf761f4c91f59bdc977e96548be13"
   },
   "outputs": [
    {
     "name": "stderr",
     "output_type": "stream",
     "text": [
      "/opt/conda/lib/python3.6/site-packages/matplotlib/cbook/deprecation.py:107: MatplotlibDeprecationWarning: Adding an axes using the same arguments as a previous axes currently reuses the earlier instance.  In a future version, a new instance will always be created and returned.  Meanwhile, this warning can be suppressed, and the future behavior ensured, by passing a unique label to each axes instance.\n",
      "  warnings.warn(message, mplDeprecation, stacklevel=1)\n"
     ]
    },
    {
     "data": {
      "image/png": "[encoded data removed]",
      "text/plain": [
       "<Figure size 432x288 with 1 Axes>"
      ]
     },
     "metadata": {},
     "output_type": "display_data"
    }
   ],
   "source": [
    "plt.plot(x,norm.pdf(x))\n",
    "plt.plot(x,norm.pdf(x,1,0.5))\n",
    "axes=plt.axes()\n",
    "axes.set_xlim([-5,5])\n",
    "axes.set_ylim(0,1)\n",
    "axes.set_xticks([-5,-4,-3,-2,-1,0,1,2,3,4,5])\n",
    "axes.set_yticks([0,0.1,0.2,0.3,0.4,0.5,0.6,0.7,0.8,0.9,1])\n",
    "axes.grid()\n",
    "plt.plot()\n",
    "plt.ioff()"
   ]
  },
  {
   "cell_type": "markdown",
   "metadata": {
    "_uuid": "bc81037251dc34d963d313380d17495c8b579dd8"
   },
   "source": [
    "**6.Change the Line types and Colors **"
   ]
  },
  {
   "cell_type": "code",
   "execution_count": 29,
   "metadata": {
    "_kg_hide-input": true,
    "_uuid": "590706864505b09294fe6b96db5648ee67dfd749"
   },
   "outputs": [
    {
     "name": "stderr",
     "output_type": "stream",
     "text": [
      "/opt/conda/lib/python3.6/site-packages/matplotlib/cbook/deprecation.py:107: MatplotlibDeprecationWarning: Adding an axes using the same arguments as a previous axes currently reuses the earlier instance.  In a future version, a new instance will always be created and returned.  Meanwhile, this warning can be suppressed, and the future behavior ensured, by passing a unique label to each axes instance.\n",
      "  warnings.warn(message, mplDeprecation, stacklevel=1)\n"
     ]
    },
    {
     "data": {
      "image/png": "[encoded data removed]",
      "text/plain": [
       "<Figure size 432x288 with 1 Axes>"
      ]
     },
     "metadata": {},
     "output_type": "display_data"
    }
   ],
   "source": [
    "plt.plot(x,norm.pdf(x),'b--')\n",
    "plt.plot(x,norm.pdf(x,1,0.5),'r:')\n",
    "axes=plt.axes()\n",
    "axes.set_xlim([-5,5])\n",
    "axes.set_ylim(0,1)\n",
    "axes.set_xticks([-5,-4,-3,-2,-1,0,1,2,3,4,5])\n",
    "axes.set_yticks([0,0.1,0.2,0.3,0.4,0.5,0.6,0.7,0.8,0.9,1])\n",
    "axes.grid()\n",
    "plt.plot()\n",
    "plt.ioff()"
   ]
  },
  {
   "cell_type": "markdown",
   "metadata": {
    "_uuid": "34c912707228535e9d2fea577b54322c33c8fcbe"
   },
   "source": [
    "**7.Labelling the axes and adding legend **"
   ]
  },
  {
   "cell_type": "code",
   "execution_count": 30,
   "metadata": {
    "_kg_hide-input": true,
    "_uuid": "7534f60e773e5912a925f56ea60d5547cd9f40c7"
   },
   "outputs": [
    {
     "name": "stderr",
     "output_type": "stream",
     "text": [
      "/opt/conda/lib/python3.6/site-packages/matplotlib/cbook/deprecation.py:107: MatplotlibDeprecationWarning: Adding an axes using the same arguments as a previous axes currently reuses the earlier instance.  In a future version, a new instance will always be created and returned.  Meanwhile, this warning can be suppressed, and the future behavior ensured, by passing a unique label to each axes instance.\n",
      "  warnings.warn(message, mplDeprecation, stacklevel=1)\n"
     ]
    },
    {
     "data": {
      "image/png": "[encoded data removed]",
      "text/plain": [
       "<Figure size 432x288 with 1 Axes>"
      ]
     },
     "metadata": {},
     "output_type": "display_data"
    }
   ],
   "source": [
    "plt.plot(x,norm.pdf(x),'b--')\n",
    "plt.plot(x,norm.pdf(x,1,0.5),'r:')\n",
    "axes=plt.axes()\n",
    "axes.set_xlim([-5,5])\n",
    "axes.set_ylim(0,1)\n",
    "axes.set_xticks([-5,-4,-3,-2,-1,0,1,2,3,4,5])\n",
    "axes.set_yticks([0,0.1,0.2,0.3,0.4,0.5,0.6,0.7,0.8,0.9,1])\n",
    "axes.grid()\n",
    "plt.xlabel('Greebles')\n",
    "plt.ylabel('Probability')\n",
    "plt.legend(['Sbeetches','Gacks'],loc=1)\n",
    "plt.plot()\n",
    "plt.ioff()"
   ]
  },
  {
   "cell_type": "markdown",
   "metadata": {
    "_uuid": "d5d4b266d01c5aa033fa4ec9675e1c2dee2c7ce0"
   },
   "source": [
    "**8.XKCD Style**"
   ]
  },
  {
   "cell_type": "code",
   "execution_count": 31,
   "metadata": {
    "_kg_hide-input": true,
    "_uuid": "9c5974885a5ada0cfe55e20d419863a8dcbd3ae7"
   },
   "outputs": [
    {
     "name": "stderr",
     "output_type": "stream",
     "text": [
      "/opt/conda/lib/python3.6/site-packages/matplotlib/font_manager.py:1328: UserWarning: findfont: Font family ['xkcd', 'Humor Sans', 'Comic Sans MS'] not found. Falling back to DejaVu Sans\n",
      "  (prop.get_family(), self.defaultFamily[fontext]))\n"
     ]
    },
    {
     "data": {
      "image/png": "[encoded data removed]",
      "text/plain": [
       "<Figure size 432x288 with 1 Axes>"
      ]
     },
     "metadata": {},
     "output_type": "display_data"
    }
   ],
   "source": [
    "plt.xkcd()\n",
    "fig=plt.figure()\n",
    "ax=fig.add_subplot(1,1,1)\n",
    "ax.spines['right'].set_color('none')\n",
    "ax.spines['top'].set_color('none')\n",
    "plt.xticks([])\n",
    "plt.yticks([])\n",
    "ax.set_ylim([-30,10])\n",
    "data=np.ones(100)\n",
    "data[70:]-=np.arange(30)\n",
    "plt.annotate(\n",
    "'THE DAY I REALIZED\\nI COULD COOK BACON\\nWHENEVER I WANTED',\n",
    "xy=(70,1),arrowprops=dict(arrowstyle='->'),xytext=(15,-10))\n",
    "plt.plot(data)\n",
    "plt.xlabel('time')\n",
    "plt.ylabel('my overall health')\n",
    "plt.ioff()\n",
    "plt.show()"
   ]
  },
  {
   "cell_type": "markdown",
   "metadata": {
    "_uuid": "a8989ed0dbc4922ea7cf7f2918dd0da5ce7f4986"
   },
   "source": [
    "**9.Pie Chart**"
   ]
  },
  {
   "cell_type": "code",
   "execution_count": 32,
   "metadata": {
    "_kg_hide-input": true,
    "_uuid": "40ca701080bad22f94e7323dc896bbe5e79ee3c3"
   },
   "outputs": [
    {
     "data": {
      "image/png": "[encoded data removed]",
      "text/plain": [
       "<Figure size 432x288 with 1 Axes>"
      ]
     },
     "metadata": {},
     "output_type": "display_data"
    }
   ],
   "source": [
    "#remove xkcd mode:\n",
    "#plt.rodefaults()\n",
    "values=[12,55,4,32,14]\n",
    "colors=['r','g','b','c','m']\n",
    "explode=[0,0,0.2,0,0]\n",
    "labels=['India','United States','Russia','China','Europe']\n",
    "plt.pie(values,colors=colors,labels=labels,explode=explode)\n",
    "plt.title('Student Locations')\n",
    "plt.ioff()"
   ]
  },
  {
   "cell_type": "markdown",
   "metadata": {
    "_uuid": "29d9d3ae5e457083f67274938f08649120920e45"
   },
   "source": [
    "**10.Bar Chart **"
   ]
  },
  {
   "cell_type": "code",
   "execution_count": 33,
   "metadata": {
    "_kg_hide-input": true,
    "_uuid": "d08500b3a4821405d4c53b75b0d0bad4067b7096"
   },
   "outputs": [
    {
     "data": {
      "image/png": "[encoded data removed]",
      "text/plain": [
       "<Figure size 432x288 with 1 Axes>"
      ]
     },
     "metadata": {},
     "output_type": "display_data"
    }
   ],
   "source": [
    "values=[12,55,4,32,14]\n",
    "colors=['r','g','b','c','m']\n",
    "plt.bar(range(0,5),values,color=colors)\n",
    "plt.show()"
   ]
  },
  {
   "cell_type": "markdown",
   "metadata": {
    "_uuid": "7e984ef794c745c595ec2174a6e02023e10e603e"
   },
   "source": [
    "**11.Scatter Plot **"
   ]
  },
  {
   "cell_type": "code",
   "execution_count": 34,
   "metadata": {
    "_kg_hide-input": true,
    "_uuid": "b33233faf67e461de258152899dac0064e17c649"
   },
   "outputs": [
    {
     "data": {
      "image/png": "[encoded data removed]",
      "text/plain": [
       "<Figure size 432x288 with 1 Axes>"
      ]
     },
     "metadata": {},
     "output_type": "display_data"
    }
   ],
   "source": [
    "X=np.random.randn(500)\n",
    "Y=np.random.randn(500)\n",
    "plt.scatter(X,Y)\n",
    "plt.show()"
   ]
  },
  {
   "cell_type": "markdown",
   "metadata": {
    "_uuid": "0560f2c8b5f4261e505aab24e30e5b97fb0d83f9"
   },
   "source": [
    "**12.Histogram**"
   ]
  },
  {
   "cell_type": "code",
   "execution_count": 35,
   "metadata": {
    "_kg_hide-input": true,
    "_uuid": "4159b28a462eda98901ea056829c709faa1b022f"
   },
   "outputs": [
    {
     "data": {
      "image/png": "[encoded data removed]",
      "text/plain": [
       "<Figure size 432x288 with 1 Axes>"
      ]
     },
     "metadata": {},
     "output_type": "display_data"
    }
   ],
   "source": [
    "incomes=np.random.normal(27000,15000,10000)\n",
    "plt.hist(incomes,50)\n",
    "plt.show()"
   ]
  },
  {
   "cell_type": "markdown",
   "metadata": {
    "_uuid": "64bc934fff78c37311ff21ce1f4ce45a896c2d22"
   },
   "source": [
    "**13.Box and Whisker Plot **"
   ]
  },
  {
   "cell_type": "code",
   "execution_count": 36,
   "metadata": {
    "_kg_hide-input": true,
    "_uuid": "52d08940a57c54e9d0856ff1994b6c45735bcfd2"
   },
   "outputs": [
    {
     "data": {
      "image/png": "[encoded data removed]",
      "text/plain": [
       "<Figure size 432x288 with 1 Axes>"
      ]
     },
     "metadata": {},
     "output_type": "display_data"
    }
   ],
   "source": [
    "uniformSkewed=np.random.rand(100)*100-40\n",
    "high_outliers=np.random.rand(100)*50+100\n",
    "low_outliers=np.random.rand(10)*-50-100\n",
    "data=np.concatenate((uniformSkewed,high_outliers,low_outliers))\n",
    "plt.boxplot(data)\n",
    "plt.show()"
   ]
  },
  {
   "cell_type": "code",
   "execution_count": 37,
   "metadata": {
    "_uuid": "e84297400b546f3c331e9b1ffec02cd21d5100cf"
   },
   "outputs": [],
   "source": []
  }
 ],
 "metadata": {
  "kernelspec": {
   "display_name": "Python 3",
   "language": "python",
   "name": "python3"
  },
  "language_info": {
   "codemirror_mode": {
    "name": "ipython",
    "version": 3
   },
   "file_extension": ".py",
   "mimetype": "text/x-python",
   "name": "python",
   "nbconvert_exporter": "python",
   "pygments_lexer": "ipython3",
   "version": "3.6.6"
  }
 },
 "nbformat": 4,
 "nbformat_minor": 1
}
