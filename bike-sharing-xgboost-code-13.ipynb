{
 "cells": [
  {
   "cell_type": "markdown",
   "metadata": {
    "papermill": {
     "duration": 0.074785,
     "end_time": "2021-02-18T09:17:26.869254",
     "exception": false,
     "start_time": "2021-02-18T09:17:26.794469",
     "status": "completed"
    },
    "tags": []
   },
   "source": [
    "### During the lockdown I published my first book titled Inspiration:Thoughts on Spirituality,Technology,Wealth,Leadership and Motivation.The preview of the book can be read from the Amazon link https://lnkd.in/gj7bMQA .\n",
    "### E Book is availabe for Rs 99 in India.Paperback Edition of the book is available on Amazon.com link https://lnkd.in/gkFYYMJ"
   ]
  },
  {
   "cell_type": "markdown",
   "metadata": {
    "papermill": {
     "duration": 0.07238,
     "end_time": "2021-02-18T09:17:27.012430",
     "exception": false,
     "start_time": "2021-02-18T09:17:26.940050",
     "status": "completed"
    },
    "tags": []
   },
   "source": [
    "In this data set we will try to explore the Dataset.Then we will try to predict the bike demand.The kernel will cover following topics.\n",
    "\n",
    "1.Data Import and Exploration \n",
    "\n",
    "2.Data Visualization\n",
    "\n",
    "3.Model Build\n",
    "\n",
    "4.Model Evaluation \n",
    "\n",
    "5.Model Improvement \n",
    "\n",
    "6.Conclusion "
   ]
  },
  {
   "cell_type": "code",
   "execution_count": 1,
   "metadata": {
    "_cell_guid": "b1076dfc-b9ad-4769-8c92-a6c4dae69d19",
    "_kg_hide-input": true,
    "_uuid": "8f2839f25d086af736a60e9eeb907d3b93b6e0e5",
    "execution": {
     "iopub.execute_input": "2021-02-18T09:17:27.159635Z",
     "iopub.status.busy": "2021-02-18T09:17:27.158907Z",
     "iopub.status.idle": "2021-02-18T09:17:27.170493Z",
     "shell.execute_reply": "2021-02-18T09:17:27.169436Z"
    },
    "papermill": {
     "duration": 0.085799,
     "end_time": "2021-02-18T09:17:27.170663",
     "exception": false,
     "start_time": "2021-02-18T09:17:27.084864",
     "status": "completed"
    },
    "tags": []
   },
   "outputs": [
    {
     "name": "stdout",
     "output_type": "stream",
     "text": [
      "/kaggle/input/bike-sharing-demand/sampleSubmission.csv\n",
      "/kaggle/input/bike-sharing-demand/train.csv\n",
      "/kaggle/input/bike-sharing-demand/test.csv\n"
     ]
    }
   ],
   "source": [
    "# This Python 3 environment comes with many helpful analytics libraries installed\n",
    "# It is defined by the kaggle/python Docker image: https://github.com/kaggle/docker-python\n",
    "# For example, here's several helpful packages to load\n",
    "\n",
    "import numpy as np # linear algebra\n",
    "import pandas as pd # data processing, CSV file I/O (e.g. pd.read_csv)\n",
    "\n",
    "# Input data files are available in the read-only \"../input/\" directory\n",
    "# For example, running this (by clicking run or pressing Shift+Enter) will list all files under the input directory\n",
    "\n",
    "import os\n",
    "for dirname, _, filenames in os.walk('/kaggle/input'):\n",
    "    for filename in filenames:\n",
    "        print(os.path.join(dirname, filename))\n",
    "\n",
    "# You can write up to 20GB to the current directory (/kaggle/working/) that gets preserved as output when you create a version using \"Save & Run All\" \n",
    "# You can also write temporary files to /kaggle/temp/, but they won't be saved outside of the current session"
   ]
  },
  {
   "cell_type": "markdown",
   "metadata": {
    "papermill": {
     "duration": 0.070089,
     "end_time": "2021-02-18T09:17:27.313732",
     "exception": false,
     "start_time": "2021-02-18T09:17:27.243643",
     "status": "completed"
    },
    "tags": []
   },
   "source": [
    "# 1.Data Import and Exploration "
   ]
  },
  {
   "cell_type": "markdown",
   "metadata": {
    "papermill": {
     "duration": 0.072361,
     "end_time": "2021-02-18T09:17:27.457358",
     "exception": false,
     "start_time": "2021-02-18T09:17:27.384997",
     "status": "completed"
    },
    "tags": []
   },
   "source": [
    "## Importing Modules"
   ]
  },
  {
   "cell_type": "code",
   "execution_count": 2,
   "metadata": {
    "execution": {
     "iopub.execute_input": "2021-02-18T09:17:27.605142Z",
     "iopub.status.busy": "2021-02-18T09:17:27.604489Z",
     "iopub.status.idle": "2021-02-18T09:17:27.607284Z",
     "shell.execute_reply": "2021-02-18T09:17:27.607746Z"
    },
    "papermill": {
     "duration": 0.07839,
     "end_time": "2021-02-18T09:17:27.607892",
     "exception": false,
     "start_time": "2021-02-18T09:17:27.529502",
     "status": "completed"
    },
    "tags": []
   },
   "outputs": [],
   "source": [
    "import matplotlib.pyplot as plt "
   ]
  },
  {
   "cell_type": "markdown",
   "metadata": {
    "papermill": {
     "duration": 0.070964,
     "end_time": "2021-02-18T09:17:27.750203",
     "exception": false,
     "start_time": "2021-02-18T09:17:27.679239",
     "status": "completed"
    },
    "tags": []
   },
   "source": [
    "## Importing the dataset"
   ]
  },
  {
   "cell_type": "code",
   "execution_count": 3,
   "metadata": {
    "_cell_guid": "79c7e3d0-c299-4dcb-8224-4455121ee9b0",
    "_kg_hide-input": true,
    "_uuid": "d629ff2d2480ee46fbb7e2d37f6b5fab8052498a",
    "execution": {
     "iopub.execute_input": "2021-02-18T09:17:27.910405Z",
     "iopub.status.busy": "2021-02-18T09:17:27.909731Z",
     "iopub.status.idle": "2021-02-18T09:17:27.989818Z",
     "shell.execute_reply": "2021-02-18T09:17:27.989238Z"
    },
    "papermill": {
     "duration": 0.162097,
     "end_time": "2021-02-18T09:17:27.989951",
     "exception": false,
     "start_time": "2021-02-18T09:17:27.827854",
     "status": "completed"
    },
    "tags": []
   },
   "outputs": [],
   "source": [
    "df = pd.read_csv('../input/bike-sharing-demand/train.csv',parse_dates=['datetime'],index_col=0)\n",
    "df_test = pd.read_csv('../input/bike-sharing-demand/test.csv',parse_dates=['datetime'],index_col=0)"
   ]
  },
  {
   "cell_type": "code",
   "execution_count": 4,
   "metadata": {
    "_kg_hide-input": true,
    "execution": {
     "iopub.execute_input": "2021-02-18T09:17:28.149815Z",
     "iopub.status.busy": "2021-02-18T09:17:28.148585Z",
     "iopub.status.idle": "2021-02-18T09:17:28.163007Z",
     "shell.execute_reply": "2021-02-18T09:17:28.162264Z"
    },
    "papermill": {
     "duration": 0.101201,
     "end_time": "2021-02-18T09:17:28.163139",
     "exception": false,
     "start_time": "2021-02-18T09:17:28.061938",
     "status": "completed"
    },
    "tags": []
   },
   "outputs": [
    {
     "data": {
      "text/html": [
       "<div>\n",
       "<style scoped>\n",
       "    .dataframe tbody tr th:only-of-type {\n",
       "        vertical-align: middle;\n",
       "    }\n",
       "\n",
       "    .dataframe tbody tr th {\n",
       "        vertical-align: top;\n",
       "    }\n",
       "\n",
       "    .dataframe thead th {\n",
       "        text-align: right;\n",
       "    }\n",
       "</style>\n",
       "<table border=\"1\" class=\"dataframe\">\n",
       "  <thead>\n",
       "    <tr style=\"text-align: right;\">\n",
       "      <th></th>\n",
       "      <th>season</th>\n",
       "      <th>holiday</th>\n",
       "      <th>workingday</th>\n",
       "      <th>weather</th>\n",
       "      <th>temp</th>\n",
       "      <th>atemp</th>\n",
       "      <th>humidity</th>\n",
       "      <th>windspeed</th>\n",
       "      <th>casual</th>\n",
       "      <th>registered</th>\n",
       "      <th>count</th>\n",
       "    </tr>\n",
       "    <tr>\n",
       "      <th>datetime</th>\n",
       "      <th></th>\n",
       "      <th></th>\n",
       "      <th></th>\n",
       "      <th></th>\n",
       "      <th></th>\n",
       "      <th></th>\n",
       "      <th></th>\n",
       "      <th></th>\n",
       "      <th></th>\n",
       "      <th></th>\n",
       "      <th></th>\n",
       "    </tr>\n",
       "  </thead>\n",
       "  <tbody>\n",
       "    <tr>\n",
       "      <th>2011-01-01 00:00:00</th>\n",
       "      <td>1</td>\n",
       "      <td>0</td>\n",
       "      <td>0</td>\n",
       "      <td>1</td>\n",
       "      <td>9.84</td>\n",
       "      <td>14.395</td>\n",
       "      <td>81</td>\n",
       "      <td>0.0</td>\n",
       "      <td>3</td>\n",
       "      <td>13</td>\n",
       "      <td>16</td>\n",
       "    </tr>\n",
       "    <tr>\n",
       "      <th>2011-01-01 01:00:00</th>\n",
       "      <td>1</td>\n",
       "      <td>0</td>\n",
       "      <td>0</td>\n",
       "      <td>1</td>\n",
       "      <td>9.02</td>\n",
       "      <td>13.635</td>\n",
       "      <td>80</td>\n",
       "      <td>0.0</td>\n",
       "      <td>8</td>\n",
       "      <td>32</td>\n",
       "      <td>40</td>\n",
       "    </tr>\n",
       "    <tr>\n",
       "      <th>2011-01-01 02:00:00</th>\n",
       "      <td>1</td>\n",
       "      <td>0</td>\n",
       "      <td>0</td>\n",
       "      <td>1</td>\n",
       "      <td>9.02</td>\n",
       "      <td>13.635</td>\n",
       "      <td>80</td>\n",
       "      <td>0.0</td>\n",
       "      <td>5</td>\n",
       "      <td>27</td>\n",
       "      <td>32</td>\n",
       "    </tr>\n",
       "    <tr>\n",
       "      <th>2011-01-01 03:00:00</th>\n",
       "      <td>1</td>\n",
       "      <td>0</td>\n",
       "      <td>0</td>\n",
       "      <td>1</td>\n",
       "      <td>9.84</td>\n",
       "      <td>14.395</td>\n",
       "      <td>75</td>\n",
       "      <td>0.0</td>\n",
       "      <td>3</td>\n",
       "      <td>10</td>\n",
       "      <td>13</td>\n",
       "    </tr>\n",
       "    <tr>\n",
       "      <th>2011-01-01 04:00:00</th>\n",
       "      <td>1</td>\n",
       "      <td>0</td>\n",
       "      <td>0</td>\n",
       "      <td>1</td>\n",
       "      <td>9.84</td>\n",
       "      <td>14.395</td>\n",
       "      <td>75</td>\n",
       "      <td>0.0</td>\n",
       "      <td>0</td>\n",
       "      <td>1</td>\n",
       "      <td>1</td>\n",
       "    </tr>\n",
       "  </tbody>\n",
       "</table>\n",
       "</div>"
      ],
      "text/plain": [
       "                     season  holiday  workingday  weather  temp   atemp  \\\n",
       "datetime                                                                  \n",
       "2011-01-01 00:00:00       1        0           0        1  9.84  14.395   \n",
       "2011-01-01 01:00:00       1        0           0        1  9.02  13.635   \n",
       "2011-01-01 02:00:00       1        0           0        1  9.02  13.635   \n",
       "2011-01-01 03:00:00       1        0           0        1  9.84  14.395   \n",
       "2011-01-01 04:00:00       1        0           0        1  9.84  14.395   \n",
       "\n",
       "                     humidity  windspeed  casual  registered  count  \n",
       "datetime                                                             \n",
       "2011-01-01 00:00:00        81        0.0       3          13     16  \n",
       "2011-01-01 01:00:00        80        0.0       8          32     40  \n",
       "2011-01-01 02:00:00        80        0.0       5          27     32  \n",
       "2011-01-01 03:00:00        75        0.0       3          10     13  \n",
       "2011-01-01 04:00:00        75        0.0       0           1      1  "
      ]
     },
     "execution_count": 4,
     "metadata": {},
     "output_type": "execute_result"
    }
   ],
   "source": [
    "df.head()"
   ]
  },
  {
   "cell_type": "markdown",
   "metadata": {
    "papermill": {
     "duration": 0.071643,
     "end_time": "2021-02-18T09:17:28.314753",
     "exception": false,
     "start_time": "2021-02-18T09:17:28.243110",
     "status": "completed"
    },
    "tags": []
   },
   "source": [
    "## Datetime to Numeric Conversion"
   ]
  },
  {
   "cell_type": "code",
   "execution_count": 5,
   "metadata": {
    "_kg_hide-input": true,
    "execution": {
     "iopub.execute_input": "2021-02-18T09:17:28.466719Z",
     "iopub.status.busy": "2021-02-18T09:17:28.466024Z",
     "iopub.status.idle": "2021-02-18T09:17:28.469589Z",
     "shell.execute_reply": "2021-02-18T09:17:28.469020Z"
    },
    "papermill": {
     "duration": 0.082628,
     "end_time": "2021-02-18T09:17:28.469712",
     "exception": false,
     "start_time": "2021-02-18T09:17:28.387084",
     "status": "completed"
    },
    "tags": []
   },
   "outputs": [],
   "source": [
    "def add_features(df):\n",
    "    df['year'] = df.index.year \n",
    "    df['month'] = df.index.month \n",
    "    df['day'] = df.index.day\n",
    "    df['dayofweek'] = df.index.dayofweek\n",
    "    df['hour'] = df.index.hour \n",
    "    "
   ]
  },
  {
   "cell_type": "code",
   "execution_count": 6,
   "metadata": {
    "_kg_hide-input": true,
    "execution": {
     "iopub.execute_input": "2021-02-18T09:17:28.620356Z",
     "iopub.status.busy": "2021-02-18T09:17:28.619647Z",
     "iopub.status.idle": "2021-02-18T09:17:28.646313Z",
     "shell.execute_reply": "2021-02-18T09:17:28.644726Z"
    },
    "papermill": {
     "duration": 0.104169,
     "end_time": "2021-02-18T09:17:28.646520",
     "exception": false,
     "start_time": "2021-02-18T09:17:28.542351",
     "status": "completed"
    },
    "tags": []
   },
   "outputs": [],
   "source": [
    "# Add New Features \n",
    "add_features(df)\n",
    "add_features(df_test)"
   ]
  },
  {
   "cell_type": "code",
   "execution_count": 7,
   "metadata": {
    "_kg_hide-input": true,
    "execution": {
     "iopub.execute_input": "2021-02-18T09:17:28.811982Z",
     "iopub.status.busy": "2021-02-18T09:17:28.810621Z",
     "iopub.status.idle": "2021-02-18T09:17:28.817244Z",
     "shell.execute_reply": "2021-02-18T09:17:28.816230Z"
    },
    "papermill": {
     "duration": 0.098652,
     "end_time": "2021-02-18T09:17:28.817513",
     "exception": false,
     "start_time": "2021-02-18T09:17:28.718861",
     "status": "completed"
    },
    "tags": []
   },
   "outputs": [
    {
     "data": {
      "text/html": [
       "<div>\n",
       "<style scoped>\n",
       "    .dataframe tbody tr th:only-of-type {\n",
       "        vertical-align: middle;\n",
       "    }\n",
       "\n",
       "    .dataframe tbody tr th {\n",
       "        vertical-align: top;\n",
       "    }\n",
       "\n",
       "    .dataframe thead th {\n",
       "        text-align: right;\n",
       "    }\n",
       "</style>\n",
       "<table border=\"1\" class=\"dataframe\">\n",
       "  <thead>\n",
       "    <tr style=\"text-align: right;\">\n",
       "      <th></th>\n",
       "      <th>season</th>\n",
       "      <th>holiday</th>\n",
       "      <th>workingday</th>\n",
       "      <th>weather</th>\n",
       "      <th>temp</th>\n",
       "      <th>atemp</th>\n",
       "      <th>humidity</th>\n",
       "      <th>windspeed</th>\n",
       "      <th>casual</th>\n",
       "      <th>registered</th>\n",
       "      <th>count</th>\n",
       "      <th>year</th>\n",
       "      <th>month</th>\n",
       "      <th>day</th>\n",
       "      <th>dayofweek</th>\n",
       "      <th>hour</th>\n",
       "    </tr>\n",
       "    <tr>\n",
       "      <th>datetime</th>\n",
       "      <th></th>\n",
       "      <th></th>\n",
       "      <th></th>\n",
       "      <th></th>\n",
       "      <th></th>\n",
       "      <th></th>\n",
       "      <th></th>\n",
       "      <th></th>\n",
       "      <th></th>\n",
       "      <th></th>\n",
       "      <th></th>\n",
       "      <th></th>\n",
       "      <th></th>\n",
       "      <th></th>\n",
       "      <th></th>\n",
       "      <th></th>\n",
       "    </tr>\n",
       "  </thead>\n",
       "  <tbody>\n",
       "    <tr>\n",
       "      <th>2011-01-01 00:00:00</th>\n",
       "      <td>1</td>\n",
       "      <td>0</td>\n",
       "      <td>0</td>\n",
       "      <td>1</td>\n",
       "      <td>9.84</td>\n",
       "      <td>14.395</td>\n",
       "      <td>81</td>\n",
       "      <td>0.0</td>\n",
       "      <td>3</td>\n",
       "      <td>13</td>\n",
       "      <td>16</td>\n",
       "      <td>2011</td>\n",
       "      <td>1</td>\n",
       "      <td>1</td>\n",
       "      <td>5</td>\n",
       "      <td>0</td>\n",
       "    </tr>\n",
       "    <tr>\n",
       "      <th>2011-01-01 01:00:00</th>\n",
       "      <td>1</td>\n",
       "      <td>0</td>\n",
       "      <td>0</td>\n",
       "      <td>1</td>\n",
       "      <td>9.02</td>\n",
       "      <td>13.635</td>\n",
       "      <td>80</td>\n",
       "      <td>0.0</td>\n",
       "      <td>8</td>\n",
       "      <td>32</td>\n",
       "      <td>40</td>\n",
       "      <td>2011</td>\n",
       "      <td>1</td>\n",
       "      <td>1</td>\n",
       "      <td>5</td>\n",
       "      <td>1</td>\n",
       "    </tr>\n",
       "    <tr>\n",
       "      <th>2011-01-01 02:00:00</th>\n",
       "      <td>1</td>\n",
       "      <td>0</td>\n",
       "      <td>0</td>\n",
       "      <td>1</td>\n",
       "      <td>9.02</td>\n",
       "      <td>13.635</td>\n",
       "      <td>80</td>\n",
       "      <td>0.0</td>\n",
       "      <td>5</td>\n",
       "      <td>27</td>\n",
       "      <td>32</td>\n",
       "      <td>2011</td>\n",
       "      <td>1</td>\n",
       "      <td>1</td>\n",
       "      <td>5</td>\n",
       "      <td>2</td>\n",
       "    </tr>\n",
       "    <tr>\n",
       "      <th>2011-01-01 03:00:00</th>\n",
       "      <td>1</td>\n",
       "      <td>0</td>\n",
       "      <td>0</td>\n",
       "      <td>1</td>\n",
       "      <td>9.84</td>\n",
       "      <td>14.395</td>\n",
       "      <td>75</td>\n",
       "      <td>0.0</td>\n",
       "      <td>3</td>\n",
       "      <td>10</td>\n",
       "      <td>13</td>\n",
       "      <td>2011</td>\n",
       "      <td>1</td>\n",
       "      <td>1</td>\n",
       "      <td>5</td>\n",
       "      <td>3</td>\n",
       "    </tr>\n",
       "    <tr>\n",
       "      <th>2011-01-01 04:00:00</th>\n",
       "      <td>1</td>\n",
       "      <td>0</td>\n",
       "      <td>0</td>\n",
       "      <td>1</td>\n",
       "      <td>9.84</td>\n",
       "      <td>14.395</td>\n",
       "      <td>75</td>\n",
       "      <td>0.0</td>\n",
       "      <td>0</td>\n",
       "      <td>1</td>\n",
       "      <td>1</td>\n",
       "      <td>2011</td>\n",
       "      <td>1</td>\n",
       "      <td>1</td>\n",
       "      <td>5</td>\n",
       "      <td>4</td>\n",
       "    </tr>\n",
       "  </tbody>\n",
       "</table>\n",
       "</div>"
      ],
      "text/plain": [
       "                     season  holiday  workingday  weather  temp   atemp  \\\n",
       "datetime                                                                  \n",
       "2011-01-01 00:00:00       1        0           0        1  9.84  14.395   \n",
       "2011-01-01 01:00:00       1        0           0        1  9.02  13.635   \n",
       "2011-01-01 02:00:00       1        0           0        1  9.02  13.635   \n",
       "2011-01-01 03:00:00       1        0           0        1  9.84  14.395   \n",
       "2011-01-01 04:00:00       1        0           0        1  9.84  14.395   \n",
       "\n",
       "                     humidity  windspeed  casual  registered  count  year  \\\n",
       "datetime                                                                    \n",
       "2011-01-01 00:00:00        81        0.0       3          13     16  2011   \n",
       "2011-01-01 01:00:00        80        0.0       8          32     40  2011   \n",
       "2011-01-01 02:00:00        80        0.0       5          27     32  2011   \n",
       "2011-01-01 03:00:00        75        0.0       3          10     13  2011   \n",
       "2011-01-01 04:00:00        75        0.0       0           1      1  2011   \n",
       "\n",
       "                     month  day  dayofweek  hour  \n",
       "datetime                                          \n",
       "2011-01-01 00:00:00      1    1          5     0  \n",
       "2011-01-01 01:00:00      1    1          5     1  \n",
       "2011-01-01 02:00:00      1    1          5     2  \n",
       "2011-01-01 03:00:00      1    1          5     3  \n",
       "2011-01-01 04:00:00      1    1          5     4  "
      ]
     },
     "execution_count": 7,
     "metadata": {},
     "output_type": "execute_result"
    }
   ],
   "source": [
    "df.head()"
   ]
  },
  {
   "cell_type": "markdown",
   "metadata": {
    "papermill": {
     "duration": 0.0752,
     "end_time": "2021-02-18T09:17:28.974793",
     "exception": false,
     "start_time": "2021-02-18T09:17:28.899593",
     "status": "completed"
    },
    "tags": []
   },
   "source": [
    "# 2.Data Visualization "
   ]
  },
  {
   "cell_type": "markdown",
   "metadata": {
    "papermill": {
     "duration": 0.0748,
     "end_time": "2021-02-18T09:17:29.123251",
     "exception": false,
     "start_time": "2021-02-18T09:17:29.048451",
     "status": "completed"
    },
    "tags": []
   },
   "source": [
    "### Predicting Missing Data"
   ]
  },
  {
   "cell_type": "code",
   "execution_count": 8,
   "metadata": {
    "_kg_hide-input": true,
    "execution": {
     "iopub.execute_input": "2021-02-18T09:17:29.282209Z",
     "iopub.status.busy": "2021-02-18T09:17:29.281406Z",
     "iopub.status.idle": "2021-02-18T09:17:29.563407Z",
     "shell.execute_reply": "2021-02-18T09:17:29.562832Z"
    },
    "papermill": {
     "duration": 0.362858,
     "end_time": "2021-02-18T09:17:29.563532",
     "exception": false,
     "start_time": "2021-02-18T09:17:29.200674",
     "status": "completed"
    },
    "tags": []
   },
   "outputs": [
    {
     "data": {
      "image/png": "[encoded data removed]",
      "text/plain": [
       "<Figure size 432x288 with 1 Axes>"
      ]
     },
     "metadata": {
      "needs_background": "light"
     },
     "output_type": "display_data"
    }
   ],
   "source": [
    "plt.title('Rental Count - Gaps')\n",
    "df['2011-01':'2011-02']['count'].plot()\n",
    "plt.show()"
   ]
  },
  {
   "cell_type": "markdown",
   "metadata": {
    "papermill": {
     "duration": 0.075101,
     "end_time": "2021-02-18T09:17:29.712620",
     "exception": false,
     "start_time": "2021-02-18T09:17:29.637519",
     "status": "completed"
    },
    "tags": []
   },
   "source": [
    "We can see that the the data has repeatitive nature but data for Last week of the month is missing.We may need to fill in the missing data."
   ]
  },
  {
   "cell_type": "markdown",
   "metadata": {
    "papermill": {
     "duration": 0.085684,
     "end_time": "2021-02-18T09:17:29.872877",
     "exception": false,
     "start_time": "2021-02-18T09:17:29.787193",
     "status": "completed"
    },
    "tags": []
   },
   "source": [
    "### Hourly Renal Change"
   ]
  },
  {
   "cell_type": "code",
   "execution_count": 9,
   "metadata": {
    "_kg_hide-input": true,
    "execution": {
     "iopub.execute_input": "2021-02-18T09:17:30.141484Z",
     "iopub.status.busy": "2021-02-18T09:17:30.140699Z",
     "iopub.status.idle": "2021-02-18T09:17:30.341441Z",
     "shell.execute_reply": "2021-02-18T09:17:30.340782Z"
    },
    "papermill": {
     "duration": 0.378239,
     "end_time": "2021-02-18T09:17:30.341592",
     "exception": false,
     "start_time": "2021-02-18T09:17:29.963353",
     "status": "completed"
    },
    "tags": []
   },
   "outputs": [
    {
     "data": {
      "image/png": "[encoded data removed]",
      "text/plain": [
       "<Figure size 432x288 with 1 Axes>"
      ]
     },
     "metadata": {
      "needs_background": "light"
     },
     "output_type": "display_data"
    }
   ],
   "source": [
    "plt.plot(df['2011-01-01']['count'])\n",
    "plt.xticks(fontsize=14,rotation=45)\n",
    "plt.xlabel('Date')\n",
    "plt.ylabel('Rental Count')\n",
    "plt.title('Hourly Rentals for Jan 01, 2011')\n",
    "plt.show()"
   ]
  },
  {
   "cell_type": "markdown",
   "metadata": {
    "papermill": {
     "duration": 0.078572,
     "end_time": "2021-02-18T09:17:30.503723",
     "exception": false,
     "start_time": "2021-02-18T09:17:30.425151",
     "status": "completed"
    },
    "tags": []
   },
   "source": [
    "### One Month Rental "
   ]
  },
  {
   "cell_type": "code",
   "execution_count": 10,
   "metadata": {
    "_kg_hide-input": true,
    "execution": {
     "iopub.execute_input": "2021-02-18T09:17:30.665839Z",
     "iopub.status.busy": "2021-02-18T09:17:30.665117Z",
     "iopub.status.idle": "2021-02-18T09:17:30.862858Z",
     "shell.execute_reply": "2021-02-18T09:17:30.863369Z"
    },
    "papermill": {
     "duration": 0.283496,
     "end_time": "2021-02-18T09:17:30.863543",
     "exception": false,
     "start_time": "2021-02-18T09:17:30.580047",
     "status": "completed"
    },
    "tags": []
   },
   "outputs": [
    {
     "data": {
      "image/png": "[encoded data removed]",
      "text/plain": [
       "<Figure size 432x288 with 1 Axes>"
      ]
     },
     "metadata": {
      "needs_background": "light"
     },
     "output_type": "display_data"
    }
   ],
   "source": [
    "plt.plot(df['2011-01']['count'])\n",
    "plt.xticks(fontsize=14,rotation=45)\n",
    "plt.xlabel('Date')\n",
    "plt.ylabel('Rental Count')\n",
    "plt.title('Hourly Rentals (1 month)')\n",
    "plt.show()"
   ]
  },
  {
   "cell_type": "markdown",
   "metadata": {
    "papermill": {
     "duration": 0.08122,
     "end_time": "2021-02-18T09:17:31.027780",
     "exception": false,
     "start_time": "2021-02-18T09:17:30.946560",
     "status": "completed"
    },
    "tags": []
   },
   "source": [
    "We can see that there are few rental on the weekend compared to weekdays."
   ]
  },
  {
   "cell_type": "markdown",
   "metadata": {
    "papermill": {
     "duration": 0.078701,
     "end_time": "2021-02-18T09:17:31.184736",
     "exception": false,
     "start_time": "2021-02-18T09:17:31.106035",
     "status": "completed"
    },
    "tags": []
   },
   "source": [
    "### Average Hourly Count"
   ]
  },
  {
   "cell_type": "code",
   "execution_count": 11,
   "metadata": {
    "_kg_hide-input": true,
    "execution": {
     "iopub.execute_input": "2021-02-18T09:17:31.347538Z",
     "iopub.status.busy": "2021-02-18T09:17:31.346759Z",
     "iopub.status.idle": "2021-02-18T09:17:31.359268Z",
     "shell.execute_reply": "2021-02-18T09:17:31.358603Z"
    },
    "papermill": {
     "duration": 0.095487,
     "end_time": "2021-02-18T09:17:31.359415",
     "exception": false,
     "start_time": "2021-02-18T09:17:31.263928",
     "status": "completed"
    },
    "tags": []
   },
   "outputs": [],
   "source": [
    "group_hour = df.groupby(['hour'])\n",
    "average_by_hour = group_hour['count'].mean()"
   ]
  },
  {
   "cell_type": "code",
   "execution_count": 12,
   "metadata": {
    "_kg_hide-input": true,
    "execution": {
     "iopub.execute_input": "2021-02-18T09:17:31.539149Z",
     "iopub.status.busy": "2021-02-18T09:17:31.537565Z",
     "iopub.status.idle": "2021-02-18T09:17:31.770322Z",
     "shell.execute_reply": "2021-02-18T09:17:31.769555Z"
    },
    "papermill": {
     "duration": 0.329395,
     "end_time": "2021-02-18T09:17:31.770452",
     "exception": false,
     "start_time": "2021-02-18T09:17:31.441057",
     "status": "completed"
    },
    "tags": []
   },
   "outputs": [
    {
     "data": {
      "image/png": "[encoded data removed]",
      "text/plain": [
       "<Figure size 432x288 with 1 Axes>"
      ]
     },
     "metadata": {
      "needs_background": "light"
     },
     "output_type": "display_data"
    }
   ],
   "source": [
    "plt.plot(average_by_hour.index,average_by_hour)\n",
    "plt.xlabel('Date')\n",
    "plt.ylabel('Rental Count')\n",
    "plt.xticks(np.arange(24))\n",
    "plt.grid(True)\n",
    "plt.title('Average Hourly Rental Count')\n",
    "plt.show()"
   ]
  },
  {
   "cell_type": "markdown",
   "metadata": {
    "papermill": {
     "duration": 0.083931,
     "end_time": "2021-02-18T09:17:31.942591",
     "exception": false,
     "start_time": "2021-02-18T09:17:31.858660",
     "status": "completed"
    },
    "tags": []
   },
   "source": [
    "We can see that the bike deman is more from 6-9 am 4-7 pm.This must be because of more demand during office hours."
   ]
  },
  {
   "cell_type": "markdown",
   "metadata": {
    "papermill": {
     "duration": 0.081779,
     "end_time": "2021-02-18T09:17:32.111703",
     "exception": false,
     "start_time": "2021-02-18T09:17:32.029924",
     "status": "completed"
    },
    "tags": []
   },
   "source": [
    "### Year to Year Trend"
   ]
  },
  {
   "cell_type": "code",
   "execution_count": 13,
   "metadata": {
    "_kg_hide-input": true,
    "execution": {
     "iopub.execute_input": "2021-02-18T09:17:32.288535Z",
     "iopub.status.busy": "2021-02-18T09:17:32.287297Z",
     "iopub.status.idle": "2021-02-18T09:17:32.524185Z",
     "shell.execute_reply": "2021-02-18T09:17:32.523391Z"
    },
    "papermill": {
     "duration": 0.331622,
     "end_time": "2021-02-18T09:17:32.524314",
     "exception": false,
     "start_time": "2021-02-18T09:17:32.192692",
     "status": "completed"
    },
    "tags": []
   },
   "outputs": [
    {
     "data": {
      "image/png": "[encoded data removed]",
      "text/plain": [
       "<Figure size 432x288 with 1 Axes>"
      ]
     },
     "metadata": {
      "needs_background": "light"
     },
     "output_type": "display_data"
    }
   ],
   "source": [
    "plt.plot(df['2011']['count'],label='2011')\n",
    "plt.plot(df['2012']['count'],label='2012')\n",
    "plt.xticks(fontsize=14,rotation=45)\n",
    "plt.xlabel('Date')\n",
    "plt.ylabel('Rental Count')\n",
    "plt.title('2011 and 2012 Rentals (Year to Year)')\n",
    "plt.show()"
   ]
  },
  {
   "cell_type": "markdown",
   "metadata": {
    "papermill": {
     "duration": 0.085032,
     "end_time": "2021-02-18T09:17:32.698571",
     "exception": false,
     "start_time": "2021-02-18T09:17:32.613539",
     "status": "completed"
    },
    "tags": []
   },
   "source": [
    "We can see that the demand for bike has increased from 2011 to 2012.The trend is very similar for both years.The white spaces are the missing values which we have to predict."
   ]
  },
  {
   "cell_type": "markdown",
   "metadata": {
    "papermill": {
     "duration": 0.081925,
     "end_time": "2021-02-18T09:17:32.863933",
     "exception": false,
     "start_time": "2021-02-18T09:17:32.782008",
     "status": "completed"
    },
    "tags": []
   },
   "source": [
    "### Year Month Demand"
   ]
  },
  {
   "cell_type": "code",
   "execution_count": 14,
   "metadata": {
    "_kg_hide-input": true,
    "execution": {
     "iopub.execute_input": "2021-02-18T09:17:33.032424Z",
     "iopub.status.busy": "2021-02-18T09:17:33.031732Z",
     "iopub.status.idle": "2021-02-18T09:17:33.038244Z",
     "shell.execute_reply": "2021-02-18T09:17:33.037560Z"
    },
    "papermill": {
     "duration": 0.093003,
     "end_time": "2021-02-18T09:17:33.038362",
     "exception": false,
     "start_time": "2021-02-18T09:17:32.945359",
     "status": "completed"
    },
    "tags": []
   },
   "outputs": [],
   "source": [
    "group_year_month = df.groupby(['year','month'])\n",
    "average_year_month = group_year_month['count'].mean()"
   ]
  },
  {
   "cell_type": "code",
   "execution_count": 15,
   "metadata": {
    "_kg_hide-input": true,
    "execution": {
     "iopub.execute_input": "2021-02-18T09:17:33.219796Z",
     "iopub.status.busy": "2021-02-18T09:17:33.213364Z",
     "iopub.status.idle": "2021-02-18T09:17:33.413954Z",
     "shell.execute_reply": "2021-02-18T09:17:33.413395Z"
    },
    "papermill": {
     "duration": 0.294042,
     "end_time": "2021-02-18T09:17:33.414086",
     "exception": false,
     "start_time": "2021-02-18T09:17:33.120044",
     "status": "completed"
    },
    "tags": []
   },
   "outputs": [
    {
     "data": {
      "image/png": "[encoded data removed]",
      "text/plain": [
       "<Figure size 432x288 with 1 Axes>"
      ]
     },
     "metadata": {
      "needs_background": "light"
     },
     "output_type": "display_data"
    }
   ],
   "source": [
    "for year in average_year_month.index.levels[0]:\n",
    "    plt.plot(average_year_month[year].index,average_year_month[year],label=year)\n",
    "\n",
    "plt.legend()\n",
    "plt.xlabel('Month')\n",
    "plt.ylabel('Count')\n",
    "plt.grid(True)\n",
    "plt.title('Average Monthly Rental Count for 2011,2012')\n",
    "plt.show()"
   ]
  },
  {
   "cell_type": "markdown",
   "metadata": {
    "papermill": {
     "duration": 0.081672,
     "end_time": "2021-02-18T09:17:33.578075",
     "exception": false,
     "start_time": "2021-02-18T09:17:33.496403",
     "status": "completed"
    },
    "tags": []
   },
   "source": [
    "We can see that the demand increase from April to July and then again start declining.This is because April to July are summer months and people do more biking during summer months."
   ]
  },
  {
   "cell_type": "markdown",
   "metadata": {
    "papermill": {
     "duration": 0.080612,
     "end_time": "2021-02-18T09:17:33.741937",
     "exception": false,
     "start_time": "2021-02-18T09:17:33.661325",
     "status": "completed"
    },
    "tags": []
   },
   "source": [
    "### Year Hour Demand "
   ]
  },
  {
   "cell_type": "code",
   "execution_count": 16,
   "metadata": {
    "_kg_hide-input": true,
    "execution": {
     "iopub.execute_input": "2021-02-18T09:17:33.912628Z",
     "iopub.status.busy": "2021-02-18T09:17:33.911466Z",
     "iopub.status.idle": "2021-02-18T09:17:33.917979Z",
     "shell.execute_reply": "2021-02-18T09:17:33.917288Z"
    },
    "papermill": {
     "duration": 0.094266,
     "end_time": "2021-02-18T09:17:33.918103",
     "exception": false,
     "start_time": "2021-02-18T09:17:33.823837",
     "status": "completed"
    },
    "tags": []
   },
   "outputs": [],
   "source": [
    "group_year_hour = df.groupby(['year','hour'])\n",
    "average_year_hour = group_year_hour['count'].mean()"
   ]
  },
  {
   "cell_type": "code",
   "execution_count": 17,
   "metadata": {
    "_kg_hide-input": true,
    "execution": {
     "iopub.execute_input": "2021-02-18T09:17:34.104433Z",
     "iopub.status.busy": "2021-02-18T09:17:34.091634Z",
     "iopub.status.idle": "2021-02-18T09:17:34.297323Z",
     "shell.execute_reply": "2021-02-18T09:17:34.296678Z"
    },
    "papermill": {
     "duration": 0.294749,
     "end_time": "2021-02-18T09:17:34.297461",
     "exception": false,
     "start_time": "2021-02-18T09:17:34.002712",
     "status": "completed"
    },
    "tags": []
   },
   "outputs": [
    {
     "data": {
      "image/png": "[encoded data removed]",
      "text/plain": [
       "<Figure size 432x288 with 1 Axes>"
      ]
     },
     "metadata": {
      "needs_background": "light"
     },
     "output_type": "display_data"
    }
   ],
   "source": [
    "for year in average_year_hour.index.levels[0]:\n",
    "    plt.plot(average_year_hour[year].index,average_year_hour[year],label=year)\n",
    "\n",
    "plt.legend()\n",
    "plt.xlabel('Month')\n",
    "plt.ylabel('Count')\n",
    "plt.grid(True)\n",
    "plt.title('Average Hourly Rental Count for 2011,2012')\n",
    "plt.show()"
   ]
  },
  {
   "cell_type": "markdown",
   "metadata": {
    "papermill": {
     "duration": 0.08307,
     "end_time": "2021-02-18T09:17:34.471403",
     "exception": false,
     "start_time": "2021-02-18T09:17:34.388333",
     "status": "completed"
    },
    "tags": []
   },
   "source": [
    "As we had see before the demand is more during the office hours.The trend remains same for years 2011 and 2012."
   ]
  },
  {
   "cell_type": "markdown",
   "metadata": {
    "papermill": {
     "duration": 0.082985,
     "end_time": "2021-02-18T09:17:34.636580",
     "exception": false,
     "start_time": "2021-02-18T09:17:34.553595",
     "status": "completed"
    },
    "tags": []
   },
   "source": [
    "### Workingday Hour Demand"
   ]
  },
  {
   "cell_type": "code",
   "execution_count": 18,
   "metadata": {
    "_kg_hide-input": true,
    "execution": {
     "iopub.execute_input": "2021-02-18T09:17:34.809604Z",
     "iopub.status.busy": "2021-02-18T09:17:34.808465Z",
     "iopub.status.idle": "2021-02-18T09:17:34.814810Z",
     "shell.execute_reply": "2021-02-18T09:17:34.815358Z"
    },
    "papermill": {
     "duration": 0.09602,
     "end_time": "2021-02-18T09:17:34.815534",
     "exception": false,
     "start_time": "2021-02-18T09:17:34.719514",
     "status": "completed"
    },
    "tags": []
   },
   "outputs": [],
   "source": [
    "group_workingday_hour = df.groupby(['workingday','hour'])\n",
    "average_workingday_hour = group_workingday_hour['count'].mean()"
   ]
  },
  {
   "cell_type": "code",
   "execution_count": 19,
   "metadata": {
    "_kg_hide-input": true,
    "execution": {
     "iopub.execute_input": "2021-02-18T09:17:34.996407Z",
     "iopub.status.busy": "2021-02-18T09:17:34.989695Z",
     "iopub.status.idle": "2021-02-18T09:17:35.246367Z",
     "shell.execute_reply": "2021-02-18T09:17:35.245655Z"
    },
    "papermill": {
     "duration": 0.348408,
     "end_time": "2021-02-18T09:17:35.246508",
     "exception": false,
     "start_time": "2021-02-18T09:17:34.898100",
     "status": "completed"
    },
    "tags": []
   },
   "outputs": [
    {
     "data": {
      "image/png": "[encoded data removed]",
      "text/plain": [
       "<Figure size 432x288 with 1 Axes>"
      ]
     },
     "metadata": {
      "needs_background": "light"
     },
     "output_type": "display_data"
    }
   ],
   "source": [
    "for workingday in average_workingday_hour.index.levels[0]:\n",
    "    plt.plot(average_workingday_hour[workingday].index,average_workingday_hour[workingday],label=workingday)\n",
    "\n",
    "plt.legend()\n",
    "plt.xlabel('Hour')\n",
    "plt.ylabel('Count')\n",
    "plt.xticks(np.arange(24))\n",
    "plt.grid(True)\n",
    "plt.title('Average Hourly Rental Count for by Working Day')\n",
    "plt.show()"
   ]
  },
  {
   "cell_type": "markdown",
   "metadata": {
    "papermill": {
     "duration": 0.093265,
     "end_time": "2021-02-18T09:17:35.433330",
     "exception": false,
     "start_time": "2021-02-18T09:17:35.340065",
     "status": "completed"
    },
    "tags": []
   },
   "source": [
    "Orange curve represenst the working day demand which is high during office hour 6-9 am and 4-7 pm.\n",
    "\n",
    "On non working days the demand is more from 9 am to 6 pm.This is quite obvious considering that people like to get up little late on weekends."
   ]
  },
  {
   "cell_type": "markdown",
   "metadata": {
    "papermill": {
     "duration": 0.083843,
     "end_time": "2021-02-18T09:17:35.604767",
     "exception": false,
     "start_time": "2021-02-18T09:17:35.520924",
     "status": "completed"
    },
    "tags": []
   },
   "source": [
    "### Correlation "
   ]
  },
  {
   "cell_type": "code",
   "execution_count": 20,
   "metadata": {
    "_kg_hide-input": true,
    "execution": {
     "iopub.execute_input": "2021-02-18T09:17:35.779837Z",
     "iopub.status.busy": "2021-02-18T09:17:35.778939Z",
     "iopub.status.idle": "2021-02-18T09:17:35.797554Z",
     "shell.execute_reply": "2021-02-18T09:17:35.798105Z"
    },
    "papermill": {
     "duration": 0.10927,
     "end_time": "2021-02-18T09:17:35.798270",
     "exception": false,
     "start_time": "2021-02-18T09:17:35.689000",
     "status": "completed"
    },
    "tags": []
   },
   "outputs": [
    {
     "data": {
      "text/plain": [
       "season        0.163439\n",
       "holiday      -0.005393\n",
       "workingday    0.011594\n",
       "weather      -0.128655\n",
       "temp          0.394454\n",
       "atemp         0.389784\n",
       "humidity     -0.317371\n",
       "windspeed     0.101369\n",
       "casual        0.690414\n",
       "registered    0.970948\n",
       "count         1.000000\n",
       "year          0.260403\n",
       "month         0.166862\n",
       "day           0.019826\n",
       "dayofweek    -0.002283\n",
       "hour          0.400601\n",
       "Name: count, dtype: float64"
      ]
     },
     "execution_count": 20,
     "metadata": {},
     "output_type": "execute_result"
    }
   ],
   "source": [
    "df.corr()['count']"
   ]
  },
  {
   "cell_type": "markdown",
   "metadata": {
    "papermill": {
     "duration": 0.083911,
     "end_time": "2021-02-18T09:17:35.966307",
     "exception": false,
     "start_time": "2021-02-18T09:17:35.882396",
     "status": "completed"
    },
    "tags": []
   },
   "source": [
    "We can see hour and count have highest correlation followed by temperature.Count and humdity has negative correlation.This means people prefer to ride bikes when temperature is higher.Bike riding is not preferred on the days when humidity is more."
   ]
  },
  {
   "cell_type": "markdown",
   "metadata": {
    "papermill": {
     "duration": 0.083118,
     "end_time": "2021-02-18T09:17:36.134224",
     "exception": false,
     "start_time": "2021-02-18T09:17:36.051106",
     "status": "completed"
    },
    "tags": []
   },
   "source": [
    "### Temeperaure Vs Rentals"
   ]
  },
  {
   "cell_type": "code",
   "execution_count": 21,
   "metadata": {
    "_kg_hide-input": true,
    "execution": {
     "iopub.execute_input": "2021-02-18T09:17:36.315590Z",
     "iopub.status.busy": "2021-02-18T09:17:36.314870Z",
     "iopub.status.idle": "2021-02-18T09:17:36.537496Z",
     "shell.execute_reply": "2021-02-18T09:17:36.538032Z"
    },
    "papermill": {
     "duration": 0.320445,
     "end_time": "2021-02-18T09:17:36.538212",
     "exception": false,
     "start_time": "2021-02-18T09:17:36.217767",
     "status": "completed"
    },
    "tags": []
   },
   "outputs": [
    {
     "data": {
      "image/png": "[encoded data removed]",
      "text/plain": [
       "<Figure size 432x288 with 1 Axes>"
      ]
     },
     "metadata": {
      "needs_background": "light"
     },
     "output_type": "display_data"
    }
   ],
   "source": [
    "plt.scatter(x=df.temp,y=df['count'])\n",
    "plt.grid(True)\n",
    "plt.xlabel('Temperature')\n",
    "plt.ylabel('Count')\n",
    "plt.title('Temperature Vs Count')\n",
    "plt.show()"
   ]
  },
  {
   "cell_type": "markdown",
   "metadata": {
    "papermill": {
     "duration": 0.085792,
     "end_time": "2021-02-18T09:17:36.711541",
     "exception": false,
     "start_time": "2021-02-18T09:17:36.625749",
     "status": "completed"
    },
    "tags": []
   },
   "source": [
    "We can see that there is a slight linear correlation between Temerature and rental count."
   ]
  },
  {
   "cell_type": "markdown",
   "metadata": {
    "papermill": {
     "duration": 0.088732,
     "end_time": "2021-02-18T09:17:36.885943",
     "exception": false,
     "start_time": "2021-02-18T09:17:36.797211",
     "status": "completed"
    },
    "tags": []
   },
   "source": [
    "# 3.Model Build "
   ]
  },
  {
   "cell_type": "markdown",
   "metadata": {
    "papermill": {
     "duration": 0.087343,
     "end_time": "2021-02-18T09:17:37.060075",
     "exception": false,
     "start_time": "2021-02-18T09:17:36.972732",
     "status": "completed"
    },
    "tags": []
   },
   "source": [
    "### Matrix of Features"
   ]
  },
  {
   "cell_type": "code",
   "execution_count": 22,
   "metadata": {
    "_kg_hide-input": true,
    "execution": {
     "iopub.execute_input": "2021-02-18T09:17:37.240998Z",
     "iopub.status.busy": "2021-02-18T09:17:37.240221Z",
     "iopub.status.idle": "2021-02-18T09:17:37.246179Z",
     "shell.execute_reply": "2021-02-18T09:17:37.246716Z"
    },
    "papermill": {
     "duration": 0.099632,
     "end_time": "2021-02-18T09:17:37.246888",
     "exception": false,
     "start_time": "2021-02-18T09:17:37.147256",
     "status": "completed"
    },
    "tags": []
   },
   "outputs": [
    {
     "data": {
      "text/plain": [
       "Index(['season', 'holiday', 'workingday', 'weather', 'temp', 'atemp',\n",
       "       'humidity', 'windspeed', 'casual', 'registered', 'count', 'year',\n",
       "       'month', 'day', 'dayofweek', 'hour'],\n",
       "      dtype='object')"
      ]
     },
     "execution_count": 22,
     "metadata": {},
     "output_type": "execute_result"
    }
   ],
   "source": [
    "columns = df.columns\n",
    "columns"
   ]
  },
  {
   "cell_type": "code",
   "execution_count": 23,
   "metadata": {
    "_kg_hide-input": true,
    "execution": {
     "iopub.execute_input": "2021-02-18T09:17:37.421792Z",
     "iopub.status.busy": "2021-02-18T09:17:37.420992Z",
     "iopub.status.idle": "2021-02-18T09:17:37.428752Z",
     "shell.execute_reply": "2021-02-18T09:17:37.429292Z"
    },
    "papermill": {
     "duration": 0.096898,
     "end_time": "2021-02-18T09:17:37.429461",
     "exception": false,
     "start_time": "2021-02-18T09:17:37.332563",
     "status": "completed"
    },
    "tags": []
   },
   "outputs": [],
   "source": [
    "X = df.drop(['count','casual','registered','atemp'],axis=1)\n",
    "y = df['count']\n",
    "#X=df.iloc[:,[0,1,2,3,4,5,7,8,-1,-2,-3,-4]].values#\n",
    "#X = df.drop(labels='count',axis=1)\n",
    "\n",
    "#X = df.drop(labels='count',axis=1)\n",
    "#y=df.iloc[:,-6].values\n",
    "\n",
    "#y = df['count']\n",
    "#X"
   ]
  },
  {
   "cell_type": "markdown",
   "metadata": {
    "papermill": {
     "duration": 0.086988,
     "end_time": "2021-02-18T09:17:37.603420",
     "exception": false,
     "start_time": "2021-02-18T09:17:37.516432",
     "status": "completed"
    },
    "tags": []
   },
   "source": [
    "### Test Train Split "
   ]
  },
  {
   "cell_type": "code",
   "execution_count": 24,
   "metadata": {
    "_kg_hide-input": true,
    "execution": {
     "iopub.execute_input": "2021-02-18T09:17:37.780244Z",
     "iopub.status.busy": "2021-02-18T09:17:37.779501Z",
     "iopub.status.idle": "2021-02-18T09:17:37.871015Z",
     "shell.execute_reply": "2021-02-18T09:17:37.871617Z"
    },
    "papermill": {
     "duration": 0.182343,
     "end_time": "2021-02-18T09:17:37.871798",
     "exception": false,
     "start_time": "2021-02-18T09:17:37.689455",
     "status": "completed"
    },
    "tags": []
   },
   "outputs": [],
   "source": [
    "np.random.seed(5)\n",
    "l = list(df.index)\n",
    "np.random.shuffle(l)\n",
    "df = df.loc[l]"
   ]
  },
  {
   "cell_type": "code",
   "execution_count": 25,
   "metadata": {
    "_kg_hide-input": true,
    "execution": {
     "iopub.execute_input": "2021-02-18T09:17:38.052832Z",
     "iopub.status.busy": "2021-02-18T09:17:38.052041Z",
     "iopub.status.idle": "2021-02-18T09:17:38.056578Z",
     "shell.execute_reply": "2021-02-18T09:17:38.057187Z"
    },
    "papermill": {
     "duration": 0.096516,
     "end_time": "2021-02-18T09:17:38.057334",
     "exception": false,
     "start_time": "2021-02-18T09:17:37.960818",
     "status": "completed"
    },
    "tags": []
   },
   "outputs": [],
   "source": [
    "rows = df.shape[0]\n",
    "train = int(.7*rows)\n",
    "test = rows-train"
   ]
  },
  {
   "cell_type": "code",
   "execution_count": 26,
   "metadata": {
    "_kg_hide-input": true,
    "execution": {
     "iopub.execute_input": "2021-02-18T09:17:38.234584Z",
     "iopub.status.busy": "2021-02-18T09:17:38.233856Z",
     "iopub.status.idle": "2021-02-18T09:17:38.240598Z",
     "shell.execute_reply": "2021-02-18T09:17:38.241087Z"
    },
    "papermill": {
     "duration": 0.096714,
     "end_time": "2021-02-18T09:17:38.241271",
     "exception": false,
     "start_time": "2021-02-18T09:17:38.144557",
     "status": "completed"
    },
    "tags": []
   },
   "outputs": [
    {
     "data": {
      "text/plain": [
       "(10886, 7620, 3266)"
      ]
     },
     "execution_count": 26,
     "metadata": {},
     "output_type": "execute_result"
    }
   ],
   "source": [
    "rows,train,test"
   ]
  },
  {
   "cell_type": "code",
   "execution_count": 27,
   "metadata": {
    "_kg_hide-input": true,
    "execution": {
     "iopub.execute_input": "2021-02-18T09:17:38.424894Z",
     "iopub.status.busy": "2021-02-18T09:17:38.424208Z",
     "iopub.status.idle": "2021-02-18T09:17:38.428529Z",
     "shell.execute_reply": "2021-02-18T09:17:38.427802Z"
    },
    "papermill": {
     "duration": 0.097642,
     "end_time": "2021-02-18T09:17:38.428661",
     "exception": false,
     "start_time": "2021-02-18T09:17:38.331019",
     "status": "completed"
    },
    "tags": []
   },
   "outputs": [
    {
     "data": {
      "text/plain": [
       "Index(['season', 'holiday', 'workingday', 'weather', 'temp', 'atemp',\n",
       "       'humidity', 'windspeed', 'casual', 'registered', 'count', 'year',\n",
       "       'month', 'day', 'dayofweek', 'hour'],\n",
       "      dtype='object')"
      ]
     },
     "execution_count": 27,
     "metadata": {},
     "output_type": "execute_result"
    }
   ],
   "source": [
    "columns = df.columns\n",
    "columns"
   ]
  },
  {
   "cell_type": "code",
   "execution_count": 28,
   "metadata": {
    "_kg_hide-input": true,
    "execution": {
     "iopub.execute_input": "2021-02-18T09:17:38.616286Z",
     "iopub.status.busy": "2021-02-18T09:17:38.615572Z",
     "iopub.status.idle": "2021-02-18T09:17:39.924468Z",
     "shell.execute_reply": "2021-02-18T09:17:39.923347Z"
    },
    "papermill": {
     "duration": 1.403201,
     "end_time": "2021-02-18T09:17:39.924664",
     "exception": false,
     "start_time": "2021-02-18T09:17:38.521463",
     "status": "completed"
    },
    "tags": []
   },
   "outputs": [],
   "source": [
    "from sklearn.model_selection import train_test_split\n",
    "X_train, X_val, y_train, y_val = train_test_split(X,y,test_size=0.3,random_state= 1234)"
   ]
  },
  {
   "cell_type": "markdown",
   "metadata": {
    "papermill": {
     "duration": 0.091335,
     "end_time": "2021-02-18T09:17:40.106613",
     "exception": false,
     "start_time": "2021-02-18T09:17:40.015278",
     "status": "completed"
    },
    "tags": []
   },
   "source": [
    "### XGBoost "
   ]
  },
  {
   "cell_type": "code",
   "execution_count": 29,
   "metadata": {
    "_kg_hide-input": true,
    "execution": {
     "iopub.execute_input": "2021-02-18T09:17:40.292479Z",
     "iopub.status.busy": "2021-02-18T09:17:40.291795Z",
     "iopub.status.idle": "2021-02-18T09:17:41.279828Z",
     "shell.execute_reply": "2021-02-18T09:17:41.279036Z"
    },
    "papermill": {
     "duration": 1.082226,
     "end_time": "2021-02-18T09:17:41.279967",
     "exception": false,
     "start_time": "2021-02-18T09:17:40.197741",
     "status": "completed"
    },
    "tags": []
   },
   "outputs": [
    {
     "data": {
      "text/plain": [
       "XGBRegressor(base_score=None, booster=None, colsample_bylevel=None,\n",
       "             colsample_bynode=None, colsample_bytree=None, gamma=None,\n",
       "             gpu_id=None, importance_type='gain', interaction_constraints=None,\n",
       "             learning_rate=None, max_delta_step=None, max_depth=5,\n",
       "             min_child_weight=None, missing=nan, monotone_constraints=None,\n",
       "             n_estimator=150, n_estimators=100, n_jobs=None,\n",
       "             num_parallel_tree=None, random_state=None, reg_alpha=None,\n",
       "             reg_lambda=None, scale_pos_weight=None, subsample=None,\n",
       "             tree_method=None, validate_parameters=None, verbosity=None)"
      ]
     },
     "execution_count": 29,
     "metadata": {},
     "output_type": "execute_result"
    }
   ],
   "source": [
    "import xgboost as xgb\n",
    "regressor = xgb.XGBRegressor(max_depth=5,n_estimator=150)\n",
    "regressor"
   ]
  },
  {
   "cell_type": "code",
   "execution_count": 30,
   "metadata": {
    "_kg_hide-input": true,
    "_kg_hide-output": true,
    "execution": {
     "iopub.execute_input": "2021-02-18T09:17:41.477203Z",
     "iopub.status.busy": "2021-02-18T09:17:41.476492Z",
     "iopub.status.idle": "2021-02-18T09:17:42.253644Z",
     "shell.execute_reply": "2021-02-18T09:17:42.254497Z"
    },
    "papermill": {
     "duration": 0.88293,
     "end_time": "2021-02-18T09:17:42.254679",
     "exception": false,
     "start_time": "2021-02-18T09:17:41.371749",
     "status": "completed"
    },
    "tags": []
   },
   "outputs": [
    {
     "name": "stdout",
     "output_type": "stream",
     "text": [
      "[09:17:41] WARNING: ../src/learner.cc:516: \n",
      "Parameters: { n_estimator } might not be used.\n",
      "\n",
      "  This may not be accurate due to some parameters are only used in language bindings but\n",
      "  passed down to XGBoost core.  Or some parameters are not used but slip through this\n",
      "  verification. Please open an issue if you find above cases.\n",
      "\n",
      "\n",
      "[0]\tvalidation_0-rmse:199.76677\tvalidation_1-rmse:197.57037\n",
      "[1]\tvalidation_0-rmse:157.71796\tvalidation_1-rmse:155.39986\n",
      "[2]\tvalidation_0-rmse:131.80597\tvalidation_1-rmse:129.65898\n",
      "[3]\tvalidation_0-rmse:108.09022\tvalidation_1-rmse:106.39273\n",
      "[4]\tvalidation_0-rmse:93.08955\tvalidation_1-rmse:91.92280\n",
      "[5]\tvalidation_0-rmse:83.42184\tvalidation_1-rmse:82.27545\n",
      "[6]\tvalidation_0-rmse:71.61074\tvalidation_1-rmse:70.58613\n",
      "[7]\tvalidation_0-rmse:66.51089\tvalidation_1-rmse:66.01204\n",
      "[8]\tvalidation_0-rmse:63.28950\tvalidation_1-rmse:63.32210\n",
      "[9]\tvalidation_0-rmse:60.04977\tvalidation_1-rmse:60.10130\n",
      "[10]\tvalidation_0-rmse:57.02308\tvalidation_1-rmse:57.48813\n",
      "[11]\tvalidation_0-rmse:55.63319\tvalidation_1-rmse:56.41048\n",
      "[12]\tvalidation_0-rmse:54.72413\tvalidation_1-rmse:55.79440\n",
      "[13]\tvalidation_0-rmse:52.93532\tvalidation_1-rmse:54.34942\n",
      "[14]\tvalidation_0-rmse:51.11968\tvalidation_1-rmse:52.97043\n",
      "[15]\tvalidation_0-rmse:48.60777\tvalidation_1-rmse:50.49949\n",
      "[16]\tvalidation_0-rmse:48.03972\tvalidation_1-rmse:50.05727\n",
      "[17]\tvalidation_0-rmse:47.32364\tvalidation_1-rmse:49.66988\n",
      "[18]\tvalidation_0-rmse:46.62340\tvalidation_1-rmse:49.27920\n",
      "[19]\tvalidation_0-rmse:44.52968\tvalidation_1-rmse:47.23634\n",
      "[20]\tvalidation_0-rmse:43.99302\tvalidation_1-rmse:46.99875\n",
      "[21]\tvalidation_0-rmse:43.38954\tvalidation_1-rmse:46.51202\n",
      "[22]\tvalidation_0-rmse:42.94414\tvalidation_1-rmse:46.31705\n",
      "[23]\tvalidation_0-rmse:42.77352\tvalidation_1-rmse:46.19029\n",
      "[24]\tvalidation_0-rmse:41.49126\tvalidation_1-rmse:45.02162\n",
      "[25]\tvalidation_0-rmse:41.03102\tvalidation_1-rmse:44.82339\n",
      "[26]\tvalidation_0-rmse:40.52138\tvalidation_1-rmse:44.34575\n",
      "[27]\tvalidation_0-rmse:40.26618\tvalidation_1-rmse:44.34929\n",
      "[28]\tvalidation_0-rmse:39.78898\tvalidation_1-rmse:43.98242\n",
      "[29]\tvalidation_0-rmse:39.66776\tvalidation_1-rmse:43.94832\n",
      "[30]\tvalidation_0-rmse:38.92942\tvalidation_1-rmse:43.46827\n",
      "[31]\tvalidation_0-rmse:38.69382\tvalidation_1-rmse:43.34924\n",
      "[32]\tvalidation_0-rmse:38.52346\tvalidation_1-rmse:43.30611\n",
      "[33]\tvalidation_0-rmse:38.30387\tvalidation_1-rmse:43.09548\n",
      "[34]\tvalidation_0-rmse:37.73369\tvalidation_1-rmse:42.56636\n",
      "[35]\tvalidation_0-rmse:37.32392\tvalidation_1-rmse:42.54711\n",
      "[36]\tvalidation_0-rmse:37.25246\tvalidation_1-rmse:42.55102\n",
      "[37]\tvalidation_0-rmse:37.03363\tvalidation_1-rmse:42.44579\n",
      "[38]\tvalidation_0-rmse:36.89140\tvalidation_1-rmse:42.40274\n",
      "[39]\tvalidation_0-rmse:36.78403\tvalidation_1-rmse:42.31106\n",
      "[40]\tvalidation_0-rmse:36.38396\tvalidation_1-rmse:42.16281\n",
      "[41]\tvalidation_0-rmse:36.33254\tvalidation_1-rmse:42.16991\n",
      "[42]\tvalidation_0-rmse:36.07110\tvalidation_1-rmse:41.89258\n",
      "[43]\tvalidation_0-rmse:35.79177\tvalidation_1-rmse:41.84971\n",
      "[44]\tvalidation_0-rmse:35.72678\tvalidation_1-rmse:41.85611\n",
      "[45]\tvalidation_0-rmse:35.50385\tvalidation_1-rmse:41.84582\n",
      "[46]\tvalidation_0-rmse:35.31726\tvalidation_1-rmse:41.83957\n",
      "[47]\tvalidation_0-rmse:35.23101\tvalidation_1-rmse:41.81219\n",
      "[48]\tvalidation_0-rmse:35.11784\tvalidation_1-rmse:41.74070\n",
      "[49]\tvalidation_0-rmse:35.04919\tvalidation_1-rmse:41.70606\n",
      "[50]\tvalidation_0-rmse:34.94794\tvalidation_1-rmse:41.66809\n",
      "[51]\tvalidation_0-rmse:34.85647\tvalidation_1-rmse:41.65693\n",
      "[52]\tvalidation_0-rmse:34.72561\tvalidation_1-rmse:41.60580\n",
      "[53]\tvalidation_0-rmse:34.33109\tvalidation_1-rmse:41.33075\n",
      "[54]\tvalidation_0-rmse:34.13157\tvalidation_1-rmse:41.27589\n",
      "[55]\tvalidation_0-rmse:34.02908\tvalidation_1-rmse:41.23847\n",
      "[56]\tvalidation_0-rmse:33.82715\tvalidation_1-rmse:41.10458\n",
      "[57]\tvalidation_0-rmse:33.60580\tvalidation_1-rmse:40.98747\n",
      "[58]\tvalidation_0-rmse:33.44505\tvalidation_1-rmse:40.94421\n",
      "[59]\tvalidation_0-rmse:33.27365\tvalidation_1-rmse:40.89339\n",
      "[60]\tvalidation_0-rmse:33.10534\tvalidation_1-rmse:40.78361\n",
      "[61]\tvalidation_0-rmse:32.91566\tvalidation_1-rmse:40.68584\n",
      "[62]\tvalidation_0-rmse:32.68652\tvalidation_1-rmse:40.68039\n",
      "[63]\tvalidation_0-rmse:32.54326\tvalidation_1-rmse:40.59855\n",
      "[64]\tvalidation_0-rmse:32.43106\tvalidation_1-rmse:40.54149\n",
      "[65]\tvalidation_0-rmse:32.18257\tvalidation_1-rmse:40.42918\n",
      "[66]\tvalidation_0-rmse:32.06516\tvalidation_1-rmse:40.40138\n",
      "[67]\tvalidation_0-rmse:31.53144\tvalidation_1-rmse:40.00970\n",
      "[68]\tvalidation_0-rmse:31.47082\tvalidation_1-rmse:39.94429\n",
      "[69]\tvalidation_0-rmse:31.27944\tvalidation_1-rmse:39.87825\n",
      "[70]\tvalidation_0-rmse:31.13606\tvalidation_1-rmse:39.73147\n",
      "[71]\tvalidation_0-rmse:30.87266\tvalidation_1-rmse:39.53299\n",
      "[72]\tvalidation_0-rmse:30.73328\tvalidation_1-rmse:39.40763\n",
      "[73]\tvalidation_0-rmse:30.52787\tvalidation_1-rmse:39.33860\n",
      "[74]\tvalidation_0-rmse:30.36523\tvalidation_1-rmse:39.24288\n",
      "[75]\tvalidation_0-rmse:30.17487\tvalidation_1-rmse:39.15980\n",
      "[76]\tvalidation_0-rmse:30.16002\tvalidation_1-rmse:39.15630\n",
      "[77]\tvalidation_0-rmse:30.00873\tvalidation_1-rmse:39.12618\n",
      "[78]\tvalidation_0-rmse:29.84899\tvalidation_1-rmse:39.04763\n",
      "[79]\tvalidation_0-rmse:29.82071\tvalidation_1-rmse:39.03151\n",
      "[80]\tvalidation_0-rmse:29.67282\tvalidation_1-rmse:38.91708\n",
      "[81]\tvalidation_0-rmse:29.65721\tvalidation_1-rmse:38.93224\n",
      "[82]\tvalidation_0-rmse:29.61565\tvalidation_1-rmse:38.91597\n",
      "[83]\tvalidation_0-rmse:29.50072\tvalidation_1-rmse:38.86497\n",
      "[84]\tvalidation_0-rmse:29.43392\tvalidation_1-rmse:38.87556\n",
      "[85]\tvalidation_0-rmse:29.36671\tvalidation_1-rmse:38.80629\n",
      "[86]\tvalidation_0-rmse:29.31000\tvalidation_1-rmse:38.78010\n",
      "[87]\tvalidation_0-rmse:29.19352\tvalidation_1-rmse:38.74277\n",
      "[88]\tvalidation_0-rmse:29.12276\tvalidation_1-rmse:38.78464\n",
      "[89]\tvalidation_0-rmse:29.10339\tvalidation_1-rmse:38.78611\n",
      "[90]\tvalidation_0-rmse:29.03449\tvalidation_1-rmse:38.79510\n",
      "[91]\tvalidation_0-rmse:28.95745\tvalidation_1-rmse:38.76112\n",
      "[92]\tvalidation_0-rmse:28.85789\tvalidation_1-rmse:38.70783\n",
      "[93]\tvalidation_0-rmse:28.73990\tvalidation_1-rmse:38.71825\n",
      "[94]\tvalidation_0-rmse:28.70704\tvalidation_1-rmse:38.69530\n",
      "[95]\tvalidation_0-rmse:28.58540\tvalidation_1-rmse:38.69391\n",
      "[96]\tvalidation_0-rmse:28.36399\tvalidation_1-rmse:38.67211\n",
      "[97]\tvalidation_0-rmse:28.20914\tvalidation_1-rmse:38.69110\n",
      "[98]\tvalidation_0-rmse:28.16677\tvalidation_1-rmse:38.68167\n",
      "[99]\tvalidation_0-rmse:28.16008\tvalidation_1-rmse:38.67980\n"
     ]
    },
    {
     "data": {
      "text/plain": [
       "XGBRegressor(base_score=0.5, booster='gbtree', colsample_bylevel=1,\n",
       "             colsample_bynode=1, colsample_bytree=1, gamma=0, gpu_id=-1,\n",
       "             importance_type='gain', interaction_constraints='',\n",
       "             learning_rate=0.300000012, max_delta_step=0, max_depth=5,\n",
       "             min_child_weight=1, missing=nan, monotone_constraints='()',\n",
       "             n_estimator=150, n_estimators=100, n_jobs=0, num_parallel_tree=1,\n",
       "             random_state=0, reg_alpha=0, reg_lambda=1, scale_pos_weight=1,\n",
       "             subsample=1, tree_method='exact', validate_parameters=1,\n",
       "             verbosity=None)"
      ]
     },
     "execution_count": 30,
     "metadata": {},
     "output_type": "execute_result"
    }
   ],
   "source": [
    "regressor.fit(X_train,y_train,eval_set = [(X_train,y_train),(X_val,y_val)])"
   ]
  },
  {
   "cell_type": "markdown",
   "metadata": {
    "papermill": {
     "duration": 0.132298,
     "end_time": "2021-02-18T09:17:42.547944",
     "exception": false,
     "start_time": "2021-02-18T09:17:42.415646",
     "status": "completed"
    },
    "tags": []
   },
   "source": [
    "# 4.Result Evaluation "
   ]
  },
  {
   "cell_type": "code",
   "execution_count": 31,
   "metadata": {
    "_kg_hide-input": true,
    "execution": {
     "iopub.execute_input": "2021-02-18T09:17:42.799290Z",
     "iopub.status.busy": "2021-02-18T09:17:42.798277Z",
     "iopub.status.idle": "2021-02-18T09:17:42.801702Z",
     "shell.execute_reply": "2021-02-18T09:17:42.801121Z"
    },
    "papermill": {
     "duration": 0.130012,
     "end_time": "2021-02-18T09:17:42.801832",
     "exception": false,
     "start_time": "2021-02-18T09:17:42.671820",
     "status": "completed"
    },
    "tags": []
   },
   "outputs": [],
   "source": [
    "eval_result = regressor.evals_result()"
   ]
  },
  {
   "cell_type": "code",
   "execution_count": 32,
   "metadata": {
    "_kg_hide-input": true,
    "execution": {
     "iopub.execute_input": "2021-02-18T09:17:43.051033Z",
     "iopub.status.busy": "2021-02-18T09:17:43.050213Z",
     "iopub.status.idle": "2021-02-18T09:17:43.053483Z",
     "shell.execute_reply": "2021-02-18T09:17:43.052808Z"
    },
    "papermill": {
     "duration": 0.130758,
     "end_time": "2021-02-18T09:17:43.053604",
     "exception": false,
     "start_time": "2021-02-18T09:17:42.922846",
     "status": "completed"
    },
    "tags": []
   },
   "outputs": [],
   "source": [
    "training_rounds = range(len(eval_result['validation_0']['rmse']))"
   ]
  },
  {
   "cell_type": "code",
   "execution_count": 33,
   "metadata": {
    "_kg_hide-input": true,
    "execution": {
     "iopub.execute_input": "2021-02-18T09:17:43.303906Z",
     "iopub.status.busy": "2021-02-18T09:17:43.302806Z",
     "iopub.status.idle": "2021-02-18T09:17:43.310050Z",
     "shell.execute_reply": "2021-02-18T09:17:43.310642Z"
    },
    "papermill": {
     "duration": 0.133996,
     "end_time": "2021-02-18T09:17:43.310805",
     "exception": false,
     "start_time": "2021-02-18T09:17:43.176809",
     "status": "completed"
    },
    "tags": []
   },
   "outputs": [
    {
     "name": "stdout",
     "output_type": "stream",
     "text": [
      "range(0, 100)\n"
     ]
    }
   ],
   "source": [
    "print(training_rounds)"
   ]
  },
  {
   "cell_type": "code",
   "execution_count": 34,
   "metadata": {
    "_kg_hide-input": true,
    "execution": {
     "iopub.execute_input": "2021-02-18T09:17:43.575280Z",
     "iopub.status.busy": "2021-02-18T09:17:43.566407Z",
     "iopub.status.idle": "2021-02-18T09:17:43.785503Z",
     "shell.execute_reply": "2021-02-18T09:17:43.784717Z"
    },
    "papermill": {
     "duration": 0.351794,
     "end_time": "2021-02-18T09:17:43.785628",
     "exception": false,
     "start_time": "2021-02-18T09:17:43.433834",
     "status": "completed"
    },
    "tags": []
   },
   "outputs": [
    {
     "data": {
      "image/png": "[encoded data removed]",
      "text/plain": [
       "<Figure size 432x288 with 1 Axes>"
      ]
     },
     "metadata": {
      "needs_background": "light"
     },
     "output_type": "display_data"
    }
   ],
   "source": [
    "plt.scatter(x=training_rounds,y=eval_result['validation_0']['rmse'],label='Training Error')\n",
    "plt.scatter(x=training_rounds,y=eval_result['validation_1']['rmse'],label='Validation Error')\n",
    "plt.grid(True)\n",
    "plt.xlabel('Iteration')\n",
    "plt.ylabel('RMSE')\n",
    "plt.title('Training Vs Validation Error')\n",
    "plt.legend()\n",
    "plt.show()"
   ]
  },
  {
   "cell_type": "markdown",
   "metadata": {
    "papermill": {
     "duration": 0.127819,
     "end_time": "2021-02-18T09:17:44.041320",
     "exception": false,
     "start_time": "2021-02-18T09:17:43.913501",
     "status": "completed"
    },
    "tags": []
   },
   "source": [
    "We can see that the validation and test error both are stablishing.So model is not overfitting or underfitting."
   ]
  },
  {
   "cell_type": "markdown",
   "metadata": {
    "papermill": {
     "duration": 0.126855,
     "end_time": "2021-02-18T09:17:44.295536",
     "exception": false,
     "start_time": "2021-02-18T09:17:44.168681",
     "status": "completed"
    },
    "tags": []
   },
   "source": [
    "### Feature Importance"
   ]
  },
  {
   "cell_type": "code",
   "execution_count": 35,
   "metadata": {
    "_kg_hide-input": true,
    "execution": {
     "iopub.execute_input": "2021-02-18T09:17:44.550852Z",
     "iopub.status.busy": "2021-02-18T09:17:44.549789Z",
     "iopub.status.idle": "2021-02-18T09:17:44.895682Z",
     "shell.execute_reply": "2021-02-18T09:17:44.896215Z"
    },
    "papermill": {
     "duration": 0.476759,
     "end_time": "2021-02-18T09:17:44.896381",
     "exception": false,
     "start_time": "2021-02-18T09:17:44.419622",
     "status": "completed"
    },
    "tags": []
   },
   "outputs": [
    {
     "data": {
      "image/png": "[encoded data removed]",
      "text/plain": [
       "<Figure size 432x288 with 1 Axes>"
      ]
     },
     "metadata": {
      "needs_background": "light"
     },
     "output_type": "display_data"
    }
   ],
   "source": [
    "xgb.plot_importance(regressor)\n",
    "plt.show()"
   ]
  },
  {
   "cell_type": "markdown",
   "metadata": {
    "papermill": {
     "duration": 0.127304,
     "end_time": "2021-02-18T09:17:45.150242",
     "exception": false,
     "start_time": "2021-02-18T09:17:45.022938",
     "status": "completed"
    },
    "tags": []
   },
   "source": [
    "We can see that the most important features in predicting the count are hour,humidity,temperature,day of the week and windspeed."
   ]
  },
  {
   "cell_type": "markdown",
   "metadata": {
    "papermill": {
     "duration": 0.126657,
     "end_time": "2021-02-18T09:17:45.402714",
     "exception": false,
     "start_time": "2021-02-18T09:17:45.276057",
     "status": "completed"
    },
    "tags": []
   },
   "source": [
    "### Predicting Rentals "
   ]
  },
  {
   "cell_type": "code",
   "execution_count": 36,
   "metadata": {
    "_kg_hide-input": true,
    "execution": {
     "iopub.execute_input": "2021-02-18T09:17:45.664553Z",
     "iopub.status.busy": "2021-02-18T09:17:45.663405Z",
     "iopub.status.idle": "2021-02-18T09:17:45.676687Z",
     "shell.execute_reply": "2021-02-18T09:17:45.677487Z"
    },
    "papermill": {
     "duration": 0.147214,
     "end_time": "2021-02-18T09:17:45.677682",
     "exception": false,
     "start_time": "2021-02-18T09:17:45.530468",
     "status": "completed"
    },
    "tags": []
   },
   "outputs": [],
   "source": [
    "result = regressor.predict(X_val)"
   ]
  },
  {
   "cell_type": "code",
   "execution_count": 37,
   "metadata": {
    "_kg_hide-input": true,
    "execution": {
     "iopub.execute_input": "2021-02-18T09:17:45.981713Z",
     "iopub.status.busy": "2021-02-18T09:17:45.980921Z",
     "iopub.status.idle": "2021-02-18T09:17:45.985944Z",
     "shell.execute_reply": "2021-02-18T09:17:45.985323Z"
    },
    "papermill": {
     "duration": 0.139842,
     "end_time": "2021-02-18T09:17:45.986080",
     "exception": false,
     "start_time": "2021-02-18T09:17:45.846238",
     "status": "completed"
    },
    "tags": []
   },
   "outputs": [
    {
     "data": {
      "text/plain": [
       "array([198.10143  ,  94.84409  , 164.50955  ,   2.9925048, 349.3089   ],\n",
       "      dtype=float32)"
      ]
     },
     "execution_count": 37,
     "metadata": {},
     "output_type": "execute_result"
    }
   ],
   "source": [
    "result[:5]"
   ]
  },
  {
   "cell_type": "code",
   "execution_count": 38,
   "metadata": {
    "_kg_hide-input": true,
    "execution": {
     "iopub.execute_input": "2021-02-18T09:17:46.243277Z",
     "iopub.status.busy": "2021-02-18T09:17:46.242319Z",
     "iopub.status.idle": "2021-02-18T09:17:46.245978Z",
     "shell.execute_reply": "2021-02-18T09:17:46.246600Z"
    },
    "papermill": {
     "duration": 0.132211,
     "end_time": "2021-02-18T09:17:46.246789",
     "exception": false,
     "start_time": "2021-02-18T09:17:46.114578",
     "status": "completed"
    },
    "tags": []
   },
   "outputs": [],
   "source": [
    "df_val = X_val\n",
    "#df_val.dtypes"
   ]
  },
  {
   "cell_type": "code",
   "execution_count": 39,
   "metadata": {
    "_kg_hide-input": true,
    "execution": {
     "iopub.execute_input": "2021-02-18T09:17:46.507334Z",
     "iopub.status.busy": "2021-02-18T09:17:46.506499Z",
     "iopub.status.idle": "2021-02-18T09:17:46.514106Z",
     "shell.execute_reply": "2021-02-18T09:17:46.515198Z"
    },
    "papermill": {
     "duration": 0.140485,
     "end_time": "2021-02-18T09:17:46.515476",
     "exception": false,
     "start_time": "2021-02-18T09:17:46.374991",
     "status": "completed"
    },
    "tags": []
   },
   "outputs": [
    {
     "name": "stderr",
     "output_type": "stream",
     "text": [
      "/opt/conda/lib/python3.7/site-packages/ipykernel_launcher.py:1: SettingWithCopyWarning: \n",
      "A value is trying to be set on a copy of a slice from a DataFrame.\n",
      "Try using .loc[row_indexer,col_indexer] = value instead\n",
      "\n",
      "See the caveats in the documentation: https://pandas.pydata.org/pandas-docs/stable/user_guide/indexing.html#returning-a-view-versus-a-copy\n",
      "  \"\"\"Entry point for launching an IPython kernel.\n"
     ]
    }
   ],
   "source": [
    "df_val['count_predicted'] = result\n",
    "#df_val"
   ]
  },
  {
   "cell_type": "code",
   "execution_count": 40,
   "metadata": {
    "_kg_hide-input": true,
    "execution": {
     "iopub.execute_input": "2021-02-18T09:17:46.774475Z",
     "iopub.status.busy": "2021-02-18T09:17:46.773723Z",
     "iopub.status.idle": "2021-02-18T09:17:46.788645Z",
     "shell.execute_reply": "2021-02-18T09:17:46.787933Z"
    },
    "papermill": {
     "duration": 0.146413,
     "end_time": "2021-02-18T09:17:46.788779",
     "exception": false,
     "start_time": "2021-02-18T09:17:46.642366",
     "status": "completed"
    },
    "tags": []
   },
   "outputs": [
    {
     "data": {
      "text/plain": [
       "count    3266.000000\n",
       "mean      193.998169\n",
       "std       174.451691\n",
       "min       -86.754608\n",
       "25%        42.781776\n",
       "50%       157.593697\n",
       "75%       291.124367\n",
       "max       892.743530\n",
       "Name: count_predicted, dtype: float64"
      ]
     },
     "execution_count": 40,
     "metadata": {},
     "output_type": "execute_result"
    }
   ],
   "source": [
    "df_val['count_predicted'].describe()"
   ]
  },
  {
   "cell_type": "code",
   "execution_count": 41,
   "metadata": {
    "_kg_hide-input": true,
    "_kg_hide-output": true,
    "execution": {
     "iopub.execute_input": "2021-02-18T09:17:47.077945Z",
     "iopub.status.busy": "2021-02-18T09:17:47.076749Z",
     "iopub.status.idle": "2021-02-18T09:17:47.083749Z",
     "shell.execute_reply": "2021-02-18T09:17:47.082963Z"
    },
    "papermill": {
     "duration": 0.167854,
     "end_time": "2021-02-18T09:17:47.083874",
     "exception": false,
     "start_time": "2021-02-18T09:17:46.916020",
     "status": "completed"
    },
    "tags": []
   },
   "outputs": [
    {
     "data": {
      "text/html": [
       "<div>\n",
       "<style scoped>\n",
       "    .dataframe tbody tr th:only-of-type {\n",
       "        vertical-align: middle;\n",
       "    }\n",
       "\n",
       "    .dataframe tbody tr th {\n",
       "        vertical-align: top;\n",
       "    }\n",
       "\n",
       "    .dataframe thead th {\n",
       "        text-align: right;\n",
       "    }\n",
       "</style>\n",
       "<table border=\"1\" class=\"dataframe\">\n",
       "  <thead>\n",
       "    <tr style=\"text-align: right;\">\n",
       "      <th></th>\n",
       "      <th>season</th>\n",
       "      <th>holiday</th>\n",
       "      <th>workingday</th>\n",
       "      <th>weather</th>\n",
       "      <th>temp</th>\n",
       "      <th>humidity</th>\n",
       "      <th>windspeed</th>\n",
       "      <th>year</th>\n",
       "      <th>month</th>\n",
       "      <th>day</th>\n",
       "      <th>dayofweek</th>\n",
       "      <th>hour</th>\n",
       "      <th>count_predicted</th>\n",
       "    </tr>\n",
       "    <tr>\n",
       "      <th>datetime</th>\n",
       "      <th></th>\n",
       "      <th></th>\n",
       "      <th></th>\n",
       "      <th></th>\n",
       "      <th></th>\n",
       "      <th></th>\n",
       "      <th></th>\n",
       "      <th></th>\n",
       "      <th></th>\n",
       "      <th></th>\n",
       "      <th></th>\n",
       "      <th></th>\n",
       "      <th></th>\n",
       "    </tr>\n",
       "  </thead>\n",
       "  <tbody>\n",
       "    <tr>\n",
       "      <th>2012-03-03 04:00:00</th>\n",
       "      <td>1</td>\n",
       "      <td>0</td>\n",
       "      <td>0</td>\n",
       "      <td>2</td>\n",
       "      <td>14.76</td>\n",
       "      <td>93</td>\n",
       "      <td>12.9980</td>\n",
       "      <td>2012</td>\n",
       "      <td>3</td>\n",
       "      <td>3</td>\n",
       "      <td>5</td>\n",
       "      <td>4</td>\n",
       "      <td>-9.943510</td>\n",
       "    </tr>\n",
       "    <tr>\n",
       "      <th>2012-12-10 01:00:00</th>\n",
       "      <td>4</td>\n",
       "      <td>0</td>\n",
       "      <td>1</td>\n",
       "      <td>2</td>\n",
       "      <td>14.76</td>\n",
       "      <td>100</td>\n",
       "      <td>0.0000</td>\n",
       "      <td>2012</td>\n",
       "      <td>12</td>\n",
       "      <td>10</td>\n",
       "      <td>0</td>\n",
       "      <td>1</td>\n",
       "      <td>-11.044115</td>\n",
       "    </tr>\n",
       "    <tr>\n",
       "      <th>2011-02-14 03:00:00</th>\n",
       "      <td>1</td>\n",
       "      <td>0</td>\n",
       "      <td>1</td>\n",
       "      <td>1</td>\n",
       "      <td>13.94</td>\n",
       "      <td>46</td>\n",
       "      <td>15.0013</td>\n",
       "      <td>2011</td>\n",
       "      <td>2</td>\n",
       "      <td>14</td>\n",
       "      <td>0</td>\n",
       "      <td>3</td>\n",
       "      <td>-5.062804</td>\n",
       "    </tr>\n",
       "    <tr>\n",
       "      <th>2011-12-07 01:00:00</th>\n",
       "      <td>4</td>\n",
       "      <td>0</td>\n",
       "      <td>1</td>\n",
       "      <td>2</td>\n",
       "      <td>18.86</td>\n",
       "      <td>100</td>\n",
       "      <td>16.9979</td>\n",
       "      <td>2011</td>\n",
       "      <td>12</td>\n",
       "      <td>7</td>\n",
       "      <td>2</td>\n",
       "      <td>1</td>\n",
       "      <td>-6.429919</td>\n",
       "    </tr>\n",
       "    <tr>\n",
       "      <th>2011-02-13 07:00:00</th>\n",
       "      <td>1</td>\n",
       "      <td>0</td>\n",
       "      <td>0</td>\n",
       "      <td>2</td>\n",
       "      <td>9.02</td>\n",
       "      <td>55</td>\n",
       "      <td>0.0000</td>\n",
       "      <td>2011</td>\n",
       "      <td>2</td>\n",
       "      <td>13</td>\n",
       "      <td>6</td>\n",
       "      <td>7</td>\n",
       "      <td>-23.469564</td>\n",
       "    </tr>\n",
       "    <tr>\n",
       "      <th>...</th>\n",
       "      <td>...</td>\n",
       "      <td>...</td>\n",
       "      <td>...</td>\n",
       "      <td>...</td>\n",
       "      <td>...</td>\n",
       "      <td>...</td>\n",
       "      <td>...</td>\n",
       "      <td>...</td>\n",
       "      <td>...</td>\n",
       "      <td>...</td>\n",
       "      <td>...</td>\n",
       "      <td>...</td>\n",
       "      <td>...</td>\n",
       "    </tr>\n",
       "    <tr>\n",
       "      <th>2011-04-06 02:00:00</th>\n",
       "      <td>2</td>\n",
       "      <td>0</td>\n",
       "      <td>1</td>\n",
       "      <td>1</td>\n",
       "      <td>9.84</td>\n",
       "      <td>70</td>\n",
       "      <td>8.9981</td>\n",
       "      <td>2011</td>\n",
       "      <td>4</td>\n",
       "      <td>6</td>\n",
       "      <td>2</td>\n",
       "      <td>2</td>\n",
       "      <td>-0.573122</td>\n",
       "    </tr>\n",
       "    <tr>\n",
       "      <th>2011-01-07 02:00:00</th>\n",
       "      <td>1</td>\n",
       "      <td>0</td>\n",
       "      <td>1</td>\n",
       "      <td>2</td>\n",
       "      <td>8.20</td>\n",
       "      <td>69</td>\n",
       "      <td>15.0013</td>\n",
       "      <td>2011</td>\n",
       "      <td>1</td>\n",
       "      <td>7</td>\n",
       "      <td>4</td>\n",
       "      <td>2</td>\n",
       "      <td>-5.134410</td>\n",
       "    </tr>\n",
       "    <tr>\n",
       "      <th>2011-03-06 20:00:00</th>\n",
       "      <td>1</td>\n",
       "      <td>0</td>\n",
       "      <td>0</td>\n",
       "      <td>3</td>\n",
       "      <td>11.48</td>\n",
       "      <td>100</td>\n",
       "      <td>27.9993</td>\n",
       "      <td>2011</td>\n",
       "      <td>3</td>\n",
       "      <td>6</td>\n",
       "      <td>6</td>\n",
       "      <td>20</td>\n",
       "      <td>-0.085364</td>\n",
       "    </tr>\n",
       "    <tr>\n",
       "      <th>2012-01-17 02:00:00</th>\n",
       "      <td>1</td>\n",
       "      <td>0</td>\n",
       "      <td>1</td>\n",
       "      <td>3</td>\n",
       "      <td>11.48</td>\n",
       "      <td>75</td>\n",
       "      <td>16.9979</td>\n",
       "      <td>2012</td>\n",
       "      <td>1</td>\n",
       "      <td>17</td>\n",
       "      <td>1</td>\n",
       "      <td>2</td>\n",
       "      <td>-7.488258</td>\n",
       "    </tr>\n",
       "    <tr>\n",
       "      <th>2011-03-08 02:00:00</th>\n",
       "      <td>1</td>\n",
       "      <td>0</td>\n",
       "      <td>1</td>\n",
       "      <td>1</td>\n",
       "      <td>9.84</td>\n",
       "      <td>52</td>\n",
       "      <td>8.9981</td>\n",
       "      <td>2011</td>\n",
       "      <td>3</td>\n",
       "      <td>8</td>\n",
       "      <td>1</td>\n",
       "      <td>2</td>\n",
       "      <td>-4.779002</td>\n",
       "    </tr>\n",
       "  </tbody>\n",
       "</table>\n",
       "<p>116 rows × 13 columns</p>\n",
       "</div>"
      ],
      "text/plain": [
       "                     season  holiday  workingday  weather   temp  humidity  \\\n",
       "datetime                                                                     \n",
       "2012-03-03 04:00:00       1        0           0        2  14.76        93   \n",
       "2012-12-10 01:00:00       4        0           1        2  14.76       100   \n",
       "2011-02-14 03:00:00       1        0           1        1  13.94        46   \n",
       "2011-12-07 01:00:00       4        0           1        2  18.86       100   \n",
       "2011-02-13 07:00:00       1        0           0        2   9.02        55   \n",
       "...                     ...      ...         ...      ...    ...       ...   \n",
       "2011-04-06 02:00:00       2        0           1        1   9.84        70   \n",
       "2011-01-07 02:00:00       1        0           1        2   8.20        69   \n",
       "2011-03-06 20:00:00       1        0           0        3  11.48       100   \n",
       "2012-01-17 02:00:00       1        0           1        3  11.48        75   \n",
       "2011-03-08 02:00:00       1        0           1        1   9.84        52   \n",
       "\n",
       "                     windspeed  year  month  day  dayofweek  hour  \\\n",
       "datetime                                                            \n",
       "2012-03-03 04:00:00    12.9980  2012      3    3          5     4   \n",
       "2012-12-10 01:00:00     0.0000  2012     12   10          0     1   \n",
       "2011-02-14 03:00:00    15.0013  2011      2   14          0     3   \n",
       "2011-12-07 01:00:00    16.9979  2011     12    7          2     1   \n",
       "2011-02-13 07:00:00     0.0000  2011      2   13          6     7   \n",
       "...                        ...   ...    ...  ...        ...   ...   \n",
       "2011-04-06 02:00:00     8.9981  2011      4    6          2     2   \n",
       "2011-01-07 02:00:00    15.0013  2011      1    7          4     2   \n",
       "2011-03-06 20:00:00    27.9993  2011      3    6          6    20   \n",
       "2012-01-17 02:00:00    16.9979  2012      1   17          1     2   \n",
       "2011-03-08 02:00:00     8.9981  2011      3    8          1     2   \n",
       "\n",
       "                     count_predicted  \n",
       "datetime                              \n",
       "2012-03-03 04:00:00        -9.943510  \n",
       "2012-12-10 01:00:00       -11.044115  \n",
       "2011-02-14 03:00:00        -5.062804  \n",
       "2011-12-07 01:00:00        -6.429919  \n",
       "2011-02-13 07:00:00       -23.469564  \n",
       "...                              ...  \n",
       "2011-04-06 02:00:00        -0.573122  \n",
       "2011-01-07 02:00:00        -5.134410  \n",
       "2011-03-06 20:00:00        -0.085364  \n",
       "2012-01-17 02:00:00        -7.488258  \n",
       "2011-03-08 02:00:00        -4.779002  \n",
       "\n",
       "[116 rows x 13 columns]"
      ]
     },
     "execution_count": 41,
     "metadata": {},
     "output_type": "execute_result"
    }
   ],
   "source": [
    "df_val[df_val['count_predicted'] < 0]"
   ]
  },
  {
   "cell_type": "code",
   "execution_count": 42,
   "metadata": {
    "_kg_hide-input": true,
    "execution": {
     "iopub.execute_input": "2021-02-18T09:17:47.358941Z",
     "iopub.status.busy": "2021-02-18T09:17:47.356875Z",
     "iopub.status.idle": "2021-02-18T09:17:47.569280Z",
     "shell.execute_reply": "2021-02-18T09:17:47.568667Z"
    },
    "papermill": {
     "duration": 0.352965,
     "end_time": "2021-02-18T09:17:47.569407",
     "exception": false,
     "start_time": "2021-02-18T09:17:47.216442",
     "status": "completed"
    },
    "tags": []
   },
   "outputs": [
    {
     "data": {
      "image/png": "[encoded data removed]",
      "text/plain": [
       "<Figure size 504x504 with 1 Axes>"
      ]
     },
     "metadata": {
      "needs_background": "light"
     },
     "output_type": "display_data"
    }
   ],
   "source": [
    "df_val['count_predicted'].hist(figsize = (7,7))\n",
    "plt.xlabel('Rental Count')\n",
    "plt.ylabel('Frequency')\n",
    "plt.title('Histograms of Predicted Rentals')\n",
    "plt.legend()\n",
    "plt.show()"
   ]
  },
  {
   "cell_type": "markdown",
   "metadata": {
    "papermill": {
     "duration": 0.134752,
     "end_time": "2021-02-18T09:17:47.833629",
     "exception": false,
     "start_time": "2021-02-18T09:17:47.698877",
     "status": "completed"
    },
    "tags": []
   },
   "source": [
    "We can see that some of the predictions of rentals are negative.This is not practically right.So we need to correct or remove all the negative predictions."
   ]
  },
  {
   "cell_type": "code",
   "execution_count": 43,
   "metadata": {
    "_kg_hide-input": true,
    "execution": {
     "iopub.execute_input": "2021-02-18T09:17:48.101033Z",
     "iopub.status.busy": "2021-02-18T09:17:48.099974Z",
     "iopub.status.idle": "2021-02-18T09:17:48.103724Z",
     "shell.execute_reply": "2021-02-18T09:17:48.103126Z"
    },
    "papermill": {
     "duration": 0.14239,
     "end_time": "2021-02-18T09:17:48.103839",
     "exception": false,
     "start_time": "2021-02-18T09:17:47.961449",
     "status": "completed"
    },
    "tags": []
   },
   "outputs": [],
   "source": [
    "def adjust_count(x):\n",
    "    if x < 0:\n",
    "        return 0\n",
    "    else:\n",
    "        return x"
   ]
  },
  {
   "cell_type": "code",
   "execution_count": 44,
   "metadata": {
    "_kg_hide-input": true,
    "execution": {
     "iopub.execute_input": "2021-02-18T09:17:48.372489Z",
     "iopub.status.busy": "2021-02-18T09:17:48.371608Z",
     "iopub.status.idle": "2021-02-18T09:17:48.376070Z",
     "shell.execute_reply": "2021-02-18T09:17:48.375509Z"
    },
    "papermill": {
     "duration": 0.144139,
     "end_time": "2021-02-18T09:17:48.376207",
     "exception": false,
     "start_time": "2021-02-18T09:17:48.232068",
     "status": "completed"
    },
    "tags": []
   },
   "outputs": [
    {
     "name": "stderr",
     "output_type": "stream",
     "text": [
      "/opt/conda/lib/python3.7/site-packages/ipykernel_launcher.py:1: SettingWithCopyWarning: \n",
      "A value is trying to be set on a copy of a slice from a DataFrame.\n",
      "Try using .loc[row_indexer,col_indexer] = value instead\n",
      "\n",
      "See the caveats in the documentation: https://pandas.pydata.org/pandas-docs/stable/user_guide/indexing.html#returning-a-view-versus-a-copy\n",
      "  \"\"\"Entry point for launching an IPython kernel.\n"
     ]
    }
   ],
   "source": [
    "df_val['count_predicted'] = df_val['count_predicted'].map(adjust_count)"
   ]
  },
  {
   "cell_type": "code",
   "execution_count": 45,
   "metadata": {
    "_kg_hide-input": true,
    "execution": {
     "iopub.execute_input": "2021-02-18T09:17:48.649257Z",
     "iopub.status.busy": "2021-02-18T09:17:48.648513Z",
     "iopub.status.idle": "2021-02-18T09:17:48.653603Z",
     "shell.execute_reply": "2021-02-18T09:17:48.652821Z"
    },
    "papermill": {
     "duration": 0.148276,
     "end_time": "2021-02-18T09:17:48.653720",
     "exception": false,
     "start_time": "2021-02-18T09:17:48.505444",
     "status": "completed"
    },
    "tags": []
   },
   "outputs": [
    {
     "data": {
      "text/html": [
       "<div>\n",
       "<style scoped>\n",
       "    .dataframe tbody tr th:only-of-type {\n",
       "        vertical-align: middle;\n",
       "    }\n",
       "\n",
       "    .dataframe tbody tr th {\n",
       "        vertical-align: top;\n",
       "    }\n",
       "\n",
       "    .dataframe thead th {\n",
       "        text-align: right;\n",
       "    }\n",
       "</style>\n",
       "<table border=\"1\" class=\"dataframe\">\n",
       "  <thead>\n",
       "    <tr style=\"text-align: right;\">\n",
       "      <th></th>\n",
       "      <th>season</th>\n",
       "      <th>holiday</th>\n",
       "      <th>workingday</th>\n",
       "      <th>weather</th>\n",
       "      <th>temp</th>\n",
       "      <th>humidity</th>\n",
       "      <th>windspeed</th>\n",
       "      <th>year</th>\n",
       "      <th>month</th>\n",
       "      <th>day</th>\n",
       "      <th>dayofweek</th>\n",
       "      <th>hour</th>\n",
       "      <th>count_predicted</th>\n",
       "    </tr>\n",
       "    <tr>\n",
       "      <th>datetime</th>\n",
       "      <th></th>\n",
       "      <th></th>\n",
       "      <th></th>\n",
       "      <th></th>\n",
       "      <th></th>\n",
       "      <th></th>\n",
       "      <th></th>\n",
       "      <th></th>\n",
       "      <th></th>\n",
       "      <th></th>\n",
       "      <th></th>\n",
       "      <th></th>\n",
       "      <th></th>\n",
       "    </tr>\n",
       "  </thead>\n",
       "  <tbody>\n",
       "  </tbody>\n",
       "</table>\n",
       "</div>"
      ],
      "text/plain": [
       "Empty DataFrame\n",
       "Columns: [season, holiday, workingday, weather, temp, humidity, windspeed, year, month, day, dayofweek, hour, count_predicted]\n",
       "Index: []"
      ]
     },
     "execution_count": 45,
     "metadata": {},
     "output_type": "execute_result"
    }
   ],
   "source": [
    "df_val[df_val['count_predicted'] < 0]"
   ]
  },
  {
   "cell_type": "markdown",
   "metadata": {
    "papermill": {
     "duration": 0.132923,
     "end_time": "2021-02-18T09:17:48.923694",
     "exception": false,
     "start_time": "2021-02-18T09:17:48.790771",
     "status": "completed"
    },
    "tags": []
   },
   "source": [
    "We have converted all the negative rental prediction to zero."
   ]
  },
  {
   "cell_type": "markdown",
   "metadata": {
    "papermill": {
     "duration": 0.13456,
     "end_time": "2021-02-18T09:17:49.192390",
     "exception": false,
     "start_time": "2021-02-18T09:17:49.057830",
     "status": "completed"
    },
    "tags": []
   },
   "source": [
    "### Actual Vs Predicted "
   ]
  },
  {
   "cell_type": "code",
   "execution_count": 46,
   "metadata": {
    "_kg_hide-input": true,
    "execution": {
     "iopub.execute_input": "2021-02-18T09:17:49.461420Z",
     "iopub.status.busy": "2021-02-18T09:17:49.460480Z",
     "iopub.status.idle": "2021-02-18T09:17:49.465633Z",
     "shell.execute_reply": "2021-02-18T09:17:49.464628Z"
    },
    "papermill": {
     "duration": 0.143979,
     "end_time": "2021-02-18T09:17:49.465801",
     "exception": false,
     "start_time": "2021-02-18T09:17:49.321822",
     "status": "completed"
    },
    "tags": []
   },
   "outputs": [
    {
     "name": "stderr",
     "output_type": "stream",
     "text": [
      "/opt/conda/lib/python3.7/site-packages/ipykernel_launcher.py:1: SettingWithCopyWarning: \n",
      "A value is trying to be set on a copy of a slice from a DataFrame.\n",
      "Try using .loc[row_indexer,col_indexer] = value instead\n",
      "\n",
      "See the caveats in the documentation: https://pandas.pydata.org/pandas-docs/stable/user_guide/indexing.html#returning-a-view-versus-a-copy\n",
      "  \"\"\"Entry point for launching an IPython kernel.\n"
     ]
    }
   ],
   "source": [
    "df_val['count']=y_val\n",
    "df_val.reset_index(drop=True, inplace=True)"
   ]
  },
  {
   "cell_type": "code",
   "execution_count": 47,
   "metadata": {
    "_kg_hide-input": true,
    "execution": {
     "iopub.execute_input": "2021-02-18T09:17:49.786970Z",
     "iopub.status.busy": "2021-02-18T09:17:49.786196Z",
     "iopub.status.idle": "2021-02-18T09:17:49.985631Z",
     "shell.execute_reply": "2021-02-18T09:17:49.985028Z"
    },
    "papermill": {
     "duration": 0.387233,
     "end_time": "2021-02-18T09:17:49.985828",
     "exception": false,
     "start_time": "2021-02-18T09:17:49.598595",
     "status": "completed"
    },
    "tags": []
   },
   "outputs": [
    {
     "data": {
      "image/png": "[encoded data removed]",
      "text/plain": [
       "<Figure size 432x288 with 1 Axes>"
      ]
     },
     "metadata": {
      "needs_background": "light"
     },
     "output_type": "display_data"
    }
   ],
   "source": [
    "plt.plot(df_val['count'],label='Actual')\n",
    "plt.plot(df_val['count_predicted'],label='Predicted')\n",
    "plt.xlabel('Sample')\n",
    "plt.ylabel('Count')\n",
    "plt.xlim([100,200])\n",
    "plt.title('Validation Dataset - Predicted Vs Actual Rentals')\n",
    "plt.legend()\n",
    "plt.show()"
   ]
  },
  {
   "cell_type": "markdown",
   "metadata": {
    "papermill": {
     "duration": 0.136743,
     "end_time": "2021-02-18T09:17:50.257853",
     "exception": false,
     "start_time": "2021-02-18T09:17:50.121110",
     "status": "completed"
    },
    "tags": []
   },
   "source": [
    "### Residual (Error) Distribution"
   ]
  },
  {
   "cell_type": "code",
   "execution_count": 48,
   "metadata": {
    "_kg_hide-input": true,
    "execution": {
     "iopub.execute_input": "2021-02-18T09:17:50.558435Z",
     "iopub.status.busy": "2021-02-18T09:17:50.550587Z",
     "iopub.status.idle": "2021-02-18T09:17:50.787039Z",
     "shell.execute_reply": "2021-02-18T09:17:50.785577Z"
    },
    "papermill": {
     "duration": 0.389842,
     "end_time": "2021-02-18T09:17:50.787236",
     "exception": false,
     "start_time": "2021-02-18T09:17:50.397394",
     "status": "completed"
    },
    "tags": []
   },
   "outputs": [
    {
     "data": {
      "image/png": "[encoded data removed]",
      "text/plain": [
       "<Figure size 432x288 with 1 Axes>"
      ]
     },
     "metadata": {
      "needs_background": "light"
     },
     "output_type": "display_data"
    }
   ],
   "source": [
    "residuals = (df_val['count'] - df_val['count_predicted'])\n",
    "plt.hist(residuals)\n",
    "plt.grid(True)\n",
    "plt.xlabel('Actual - Predicted')\n",
    "plt.ylabel('Count')\n",
    "plt.title('Residual Distribution')\n",
    "plt.axvline(color='r')\n",
    "plt.show()"
   ]
  },
  {
   "cell_type": "markdown",
   "metadata": {
    "papermill": {
     "duration": 0.142378,
     "end_time": "2021-02-18T09:17:51.094522",
     "exception": false,
     "start_time": "2021-02-18T09:17:50.952144",
     "status": "completed"
    },
    "tags": []
   },
   "source": [
    "We can see that the residual histogram is quite balanced with equal number of over and under prediction."
   ]
  },
  {
   "cell_type": "code",
   "execution_count": 49,
   "metadata": {
    "_kg_hide-input": true,
    "execution": {
     "iopub.execute_input": "2021-02-18T09:17:51.391366Z",
     "iopub.status.busy": "2021-02-18T09:17:51.390600Z",
     "iopub.status.idle": "2021-02-18T09:17:51.397835Z",
     "shell.execute_reply": "2021-02-18T09:17:51.398431Z"
    },
    "papermill": {
     "duration": 0.154439,
     "end_time": "2021-02-18T09:17:51.398616",
     "exception": false,
     "start_time": "2021-02-18T09:17:51.244177",
     "status": "completed"
    },
    "tags": []
   },
   "outputs": [
    {
     "name": "stdout",
     "output_type": "stream",
     "text": [
      "Under Estimation: 0.49\n",
      "Over Estimation: 0.51\n"
     ]
    }
   ],
   "source": [
    "value_counts = (residuals > 0).value_counts(sort=False)\n",
    "print('Under Estimation: {0:0.2f}'.format(value_counts[True]/len(residuals)))\n",
    "print('Over Estimation: {0:0.2f}'.format(value_counts[False]/len(residuals)))"
   ]
  },
  {
   "cell_type": "markdown",
   "metadata": {
    "papermill": {
     "duration": 0.13924,
     "end_time": "2021-02-18T09:17:51.677817",
     "exception": false,
     "start_time": "2021-02-18T09:17:51.538577",
     "status": "completed"
    },
    "tags": []
   },
   "source": [
    "### RSME"
   ]
  },
  {
   "cell_type": "code",
   "execution_count": 50,
   "metadata": {
    "_kg_hide-input": true,
    "execution": {
     "iopub.execute_input": "2021-02-18T09:17:51.984347Z",
     "iopub.status.busy": "2021-02-18T09:17:51.983557Z",
     "iopub.status.idle": "2021-02-18T09:17:51.989785Z",
     "shell.execute_reply": "2021-02-18T09:17:51.988963Z"
    },
    "papermill": {
     "duration": 0.177215,
     "end_time": "2021-02-18T09:17:51.989916",
     "exception": false,
     "start_time": "2021-02-18T09:17:51.812701",
     "status": "completed"
    },
    "tags": []
   },
   "outputs": [
    {
     "name": "stdout",
     "output_type": "stream",
     "text": [
      "RSME:38.36\n"
     ]
    }
   ],
   "source": [
    "from sklearn.metrics import mean_squared_error\n",
    "print(\"RSME:{0:0.2f}\".format(mean_squared_error(df_val['count'],df_val['count_predicted'])**0.5))"
   ]
  },
  {
   "cell_type": "markdown",
   "metadata": {
    "papermill": {
     "duration": 0.147766,
     "end_time": "2021-02-18T09:17:52.288046",
     "exception": false,
     "start_time": "2021-02-18T09:17:52.140280",
     "status": "completed"
    },
    "tags": []
   },
   "source": [
    "# 5.Model Improvement "
   ]
  },
  {
   "cell_type": "markdown",
   "metadata": {
    "papermill": {
     "duration": 0.136117,
     "end_time": "2021-02-18T09:17:52.560261",
     "exception": false,
     "start_time": "2021-02-18T09:17:52.424144",
     "status": "completed"
    },
    "tags": []
   },
   "source": [
    "### Log Transform of Rental Count "
   ]
  },
  {
   "cell_type": "code",
   "execution_count": 51,
   "metadata": {
    "_kg_hide-input": true,
    "execution": {
     "iopub.execute_input": "2021-02-18T09:17:52.853564Z",
     "iopub.status.busy": "2021-02-18T09:17:52.852730Z",
     "iopub.status.idle": "2021-02-18T09:17:52.879632Z",
     "shell.execute_reply": "2021-02-18T09:17:52.880195Z"
    },
    "papermill": {
     "duration": 0.180784,
     "end_time": "2021-02-18T09:17:52.880361",
     "exception": false,
     "start_time": "2021-02-18T09:17:52.699577",
     "status": "completed"
    },
    "tags": []
   },
   "outputs": [],
   "source": [
    "df2 = pd.read_csv('../input/bike-sharing-demand/train.csv',parse_dates=['datetime'],index_col=0)"
   ]
  },
  {
   "cell_type": "code",
   "execution_count": 52,
   "metadata": {
    "_kg_hide-input": true,
    "execution": {
     "iopub.execute_input": "2021-02-18T09:17:53.156441Z",
     "iopub.status.busy": "2021-02-18T09:17:53.155727Z",
     "iopub.status.idle": "2021-02-18T09:17:53.169988Z",
     "shell.execute_reply": "2021-02-18T09:17:53.170517Z"
    },
    "papermill": {
     "duration": 0.153069,
     "end_time": "2021-02-18T09:17:53.170688",
     "exception": false,
     "start_time": "2021-02-18T09:17:53.017619",
     "status": "completed"
    },
    "tags": []
   },
   "outputs": [],
   "source": [
    "add_features(df2)"
   ]
  },
  {
   "cell_type": "code",
   "execution_count": 53,
   "metadata": {
    "_kg_hide-input": true,
    "execution": {
     "iopub.execute_input": "2021-02-18T09:17:53.440601Z",
     "iopub.status.busy": "2021-02-18T09:17:53.439880Z",
     "iopub.status.idle": "2021-02-18T09:17:53.686897Z",
     "shell.execute_reply": "2021-02-18T09:17:53.687437Z"
    },
    "papermill": {
     "duration": 0.384239,
     "end_time": "2021-02-18T09:17:53.687631",
     "exception": false,
     "start_time": "2021-02-18T09:17:53.303392",
     "status": "completed"
    },
    "tags": []
   },
   "outputs": [
    {
     "data": {
      "image/png": "[encoded data removed]",
      "text/plain": [
       "<Figure size 432x288 with 1 Axes>"
      ]
     },
     "metadata": {
      "needs_background": "light"
     },
     "output_type": "display_data"
    }
   ],
   "source": [
    "plt.plot(df2['2011']['count'],label='2011')\n",
    "plt.plot(df2['2012']['count'],label='2012')\n",
    "plt.xticks(fontsize=14,rotation=45)\n",
    "plt.xlabel('Date')\n",
    "plt.ylabel('Rental Count')\n",
    "plt.title('2011 and 2012 Rentals (Year to Year)')\n",
    "plt.show()"
   ]
  },
  {
   "cell_type": "markdown",
   "metadata": {
    "papermill": {
     "duration": 0.145553,
     "end_time": "2021-02-18T09:17:53.973843",
     "exception": false,
     "start_time": "2021-02-18T09:17:53.828290",
     "status": "completed"
    },
    "tags": []
   },
   "source": [
    "Now we will apply log transform to the rental count to transform the predicted value."
   ]
  },
  {
   "cell_type": "code",
   "execution_count": 54,
   "metadata": {
    "_kg_hide-input": true,
    "execution": {
     "iopub.execute_input": "2021-02-18T09:17:54.257845Z",
     "iopub.status.busy": "2021-02-18T09:17:54.256825Z",
     "iopub.status.idle": "2021-02-18T09:17:54.538513Z",
     "shell.execute_reply": "2021-02-18T09:17:54.539105Z"
    },
    "papermill": {
     "duration": 0.423772,
     "end_time": "2021-02-18T09:17:54.539282",
     "exception": false,
     "start_time": "2021-02-18T09:17:54.115510",
     "status": "completed"
    },
    "tags": []
   },
   "outputs": [
    {
     "data": {
      "image/png": "[encoded data removed]",
      "text/plain": [
       "<Figure size 432x288 with 1 Axes>"
      ]
     },
     "metadata": {
      "needs_background": "light"
     },
     "output_type": "display_data"
    }
   ],
   "source": [
    "plt.plot(df2['2011']['count'].map(np.log1p),label='2011')\n",
    "plt.plot(df2['2012']['count'].map(np.log1p),label='2012')\n",
    "plt.xticks(fontsize=14,rotation=45)\n",
    "plt.xlabel('Date')\n",
    "plt.ylabel('Rental Count')\n",
    "plt.title('2011 and 2012 Rentals (Year to Year)')\n",
    "plt.show()"
   ]
  },
  {
   "cell_type": "markdown",
   "metadata": {
    "papermill": {
     "duration": 0.136081,
     "end_time": "2021-02-18T09:17:54.815894",
     "exception": false,
     "start_time": "2021-02-18T09:17:54.679813",
     "status": "completed"
    },
    "tags": []
   },
   "source": [
    "After log transformation it smoothens out the seasonality and trend.This help to improve the accuracy of prediction."
   ]
  },
  {
   "cell_type": "markdown",
   "metadata": {
    "papermill": {
     "duration": 0.138592,
     "end_time": "2021-02-18T09:17:55.091703",
     "exception": false,
     "start_time": "2021-02-18T09:17:54.953111",
     "status": "completed"
    },
    "tags": []
   },
   "source": [
    "### Boxplot"
   ]
  },
  {
   "cell_type": "code",
   "execution_count": 55,
   "metadata": {
    "_kg_hide-input": true,
    "execution": {
     "iopub.execute_input": "2021-02-18T09:17:55.370380Z",
     "iopub.status.busy": "2021-02-18T09:17:55.369193Z",
     "iopub.status.idle": "2021-02-18T09:17:55.504569Z",
     "shell.execute_reply": "2021-02-18T09:17:55.505100Z"
    },
    "papermill": {
     "duration": 0.276996,
     "end_time": "2021-02-18T09:17:55.505289",
     "exception": false,
     "start_time": "2021-02-18T09:17:55.228293",
     "status": "completed"
    },
    "tags": []
   },
   "outputs": [
    {
     "data": {
      "image/png": "[encoded data removed]",
      "text/plain": [
       "<Figure size 432x288 with 1 Axes>"
      ]
     },
     "metadata": {
      "needs_background": "light"
     },
     "output_type": "display_data"
    }
   ],
   "source": [
    "plt.boxplot([df2['count']],labels=['count'])\n",
    "plt.title('Box Plot - Count')\n",
    "plt.ylabel('Target')\n",
    "plt.grid(True)"
   ]
  },
  {
   "cell_type": "code",
   "execution_count": 56,
   "metadata": {
    "_kg_hide-input": true,
    "execution": {
     "iopub.execute_input": "2021-02-18T09:17:55.792990Z",
     "iopub.status.busy": "2021-02-18T09:17:55.791914Z",
     "iopub.status.idle": "2021-02-18T09:17:55.962651Z",
     "shell.execute_reply": "2021-02-18T09:17:55.963195Z"
    },
    "papermill": {
     "duration": 0.312426,
     "end_time": "2021-02-18T09:17:55.963360",
     "exception": false,
     "start_time": "2021-02-18T09:17:55.650934",
     "status": "completed"
    },
    "tags": []
   },
   "outputs": [
    {
     "data": {
      "image/png": "[encoded data removed]",
      "text/plain": [
       "<Figure size 432x288 with 1 Axes>"
      ]
     },
     "metadata": {
      "needs_background": "light"
     },
     "output_type": "display_data"
    }
   ],
   "source": [
    "plt.boxplot([df2['count'].map(np.log1p)],labels=['log1p(count)'])\n",
    "plt.title('Box Plot - Count')\n",
    "plt.ylabel('Target')\n",
    "plt.grid(True)"
   ]
  },
  {
   "cell_type": "markdown",
   "metadata": {
    "papermill": {
     "duration": 0.136908,
     "end_time": "2021-02-18T09:17:56.244824",
     "exception": false,
     "start_time": "2021-02-18T09:17:56.107916",
     "status": "completed"
    },
    "tags": []
   },
   "source": [
    "Now we can see that the data has transformed from 0 to 7.Log transform bring all the values to similar scale therby improving accuracy of prediction."
   ]
  },
  {
   "cell_type": "code",
   "execution_count": 57,
   "metadata": {
    "_kg_hide-input": true,
    "execution": {
     "iopub.execute_input": "2021-02-18T09:17:56.529496Z",
     "iopub.status.busy": "2021-02-18T09:17:56.528426Z",
     "iopub.status.idle": "2021-02-18T09:17:56.561597Z",
     "shell.execute_reply": "2021-02-18T09:17:56.562116Z"
    },
    "papermill": {
     "duration": 0.180077,
     "end_time": "2021-02-18T09:17:56.562304",
     "exception": false,
     "start_time": "2021-02-18T09:17:56.382227",
     "status": "completed"
    },
    "tags": []
   },
   "outputs": [],
   "source": [
    "df2['count'] = df2['count'].map(np.log1p)\n",
    "#df2"
   ]
  },
  {
   "cell_type": "code",
   "execution_count": 58,
   "metadata": {
    "execution": {
     "iopub.execute_input": "2021-02-18T09:17:56.853075Z",
     "iopub.status.busy": "2021-02-18T09:17:56.851954Z",
     "iopub.status.idle": "2021-02-18T09:17:56.872954Z",
     "shell.execute_reply": "2021-02-18T09:17:56.873830Z"
    },
    "papermill": {
     "duration": 0.169925,
     "end_time": "2021-02-18T09:17:56.874039",
     "exception": false,
     "start_time": "2021-02-18T09:17:56.704114",
     "status": "completed"
    },
    "tags": []
   },
   "outputs": [
    {
     "data": {
      "text/html": [
       "<div>\n",
       "<style scoped>\n",
       "    .dataframe tbody tr th:only-of-type {\n",
       "        vertical-align: middle;\n",
       "    }\n",
       "\n",
       "    .dataframe tbody tr th {\n",
       "        vertical-align: top;\n",
       "    }\n",
       "\n",
       "    .dataframe thead th {\n",
       "        text-align: right;\n",
       "    }\n",
       "</style>\n",
       "<table border=\"1\" class=\"dataframe\">\n",
       "  <thead>\n",
       "    <tr style=\"text-align: right;\">\n",
       "      <th></th>\n",
       "      <th>season</th>\n",
       "      <th>holiday</th>\n",
       "      <th>workingday</th>\n",
       "      <th>weather</th>\n",
       "      <th>temp</th>\n",
       "      <th>atemp</th>\n",
       "      <th>humidity</th>\n",
       "      <th>windspeed</th>\n",
       "      <th>casual</th>\n",
       "      <th>registered</th>\n",
       "      <th>count</th>\n",
       "      <th>year</th>\n",
       "      <th>month</th>\n",
       "      <th>day</th>\n",
       "      <th>dayofweek</th>\n",
       "      <th>hour</th>\n",
       "    </tr>\n",
       "    <tr>\n",
       "      <th>datetime</th>\n",
       "      <th></th>\n",
       "      <th></th>\n",
       "      <th></th>\n",
       "      <th></th>\n",
       "      <th></th>\n",
       "      <th></th>\n",
       "      <th></th>\n",
       "      <th></th>\n",
       "      <th></th>\n",
       "      <th></th>\n",
       "      <th></th>\n",
       "      <th></th>\n",
       "      <th></th>\n",
       "      <th></th>\n",
       "      <th></th>\n",
       "      <th></th>\n",
       "    </tr>\n",
       "  </thead>\n",
       "  <tbody>\n",
       "    <tr>\n",
       "      <th>2011-01-01 00:00:00</th>\n",
       "      <td>1</td>\n",
       "      <td>0</td>\n",
       "      <td>0</td>\n",
       "      <td>1</td>\n",
       "      <td>9.84</td>\n",
       "      <td>14.395</td>\n",
       "      <td>81</td>\n",
       "      <td>0.0</td>\n",
       "      <td>3</td>\n",
       "      <td>13</td>\n",
       "      <td>2.833213</td>\n",
       "      <td>2011</td>\n",
       "      <td>1</td>\n",
       "      <td>1</td>\n",
       "      <td>5</td>\n",
       "      <td>0</td>\n",
       "    </tr>\n",
       "    <tr>\n",
       "      <th>2011-01-01 01:00:00</th>\n",
       "      <td>1</td>\n",
       "      <td>0</td>\n",
       "      <td>0</td>\n",
       "      <td>1</td>\n",
       "      <td>9.02</td>\n",
       "      <td>13.635</td>\n",
       "      <td>80</td>\n",
       "      <td>0.0</td>\n",
       "      <td>8</td>\n",
       "      <td>32</td>\n",
       "      <td>3.713572</td>\n",
       "      <td>2011</td>\n",
       "      <td>1</td>\n",
       "      <td>1</td>\n",
       "      <td>5</td>\n",
       "      <td>1</td>\n",
       "    </tr>\n",
       "    <tr>\n",
       "      <th>2011-01-01 02:00:00</th>\n",
       "      <td>1</td>\n",
       "      <td>0</td>\n",
       "      <td>0</td>\n",
       "      <td>1</td>\n",
       "      <td>9.02</td>\n",
       "      <td>13.635</td>\n",
       "      <td>80</td>\n",
       "      <td>0.0</td>\n",
       "      <td>5</td>\n",
       "      <td>27</td>\n",
       "      <td>3.496508</td>\n",
       "      <td>2011</td>\n",
       "      <td>1</td>\n",
       "      <td>1</td>\n",
       "      <td>5</td>\n",
       "      <td>2</td>\n",
       "    </tr>\n",
       "    <tr>\n",
       "      <th>2011-01-01 03:00:00</th>\n",
       "      <td>1</td>\n",
       "      <td>0</td>\n",
       "      <td>0</td>\n",
       "      <td>1</td>\n",
       "      <td>9.84</td>\n",
       "      <td>14.395</td>\n",
       "      <td>75</td>\n",
       "      <td>0.0</td>\n",
       "      <td>3</td>\n",
       "      <td>10</td>\n",
       "      <td>2.639057</td>\n",
       "      <td>2011</td>\n",
       "      <td>1</td>\n",
       "      <td>1</td>\n",
       "      <td>5</td>\n",
       "      <td>3</td>\n",
       "    </tr>\n",
       "    <tr>\n",
       "      <th>2011-01-01 04:00:00</th>\n",
       "      <td>1</td>\n",
       "      <td>0</td>\n",
       "      <td>0</td>\n",
       "      <td>1</td>\n",
       "      <td>9.84</td>\n",
       "      <td>14.395</td>\n",
       "      <td>75</td>\n",
       "      <td>0.0</td>\n",
       "      <td>0</td>\n",
       "      <td>1</td>\n",
       "      <td>0.693147</td>\n",
       "      <td>2011</td>\n",
       "      <td>1</td>\n",
       "      <td>1</td>\n",
       "      <td>5</td>\n",
       "      <td>4</td>\n",
       "    </tr>\n",
       "  </tbody>\n",
       "</table>\n",
       "</div>"
      ],
      "text/plain": [
       "                     season  holiday  workingday  weather  temp   atemp  \\\n",
       "datetime                                                                  \n",
       "2011-01-01 00:00:00       1        0           0        1  9.84  14.395   \n",
       "2011-01-01 01:00:00       1        0           0        1  9.02  13.635   \n",
       "2011-01-01 02:00:00       1        0           0        1  9.02  13.635   \n",
       "2011-01-01 03:00:00       1        0           0        1  9.84  14.395   \n",
       "2011-01-01 04:00:00       1        0           0        1  9.84  14.395   \n",
       "\n",
       "                     humidity  windspeed  casual  registered     count  year  \\\n",
       "datetime                                                                       \n",
       "2011-01-01 00:00:00        81        0.0       3          13  2.833213  2011   \n",
       "2011-01-01 01:00:00        80        0.0       8          32  3.713572  2011   \n",
       "2011-01-01 02:00:00        80        0.0       5          27  3.496508  2011   \n",
       "2011-01-01 03:00:00        75        0.0       3          10  2.639057  2011   \n",
       "2011-01-01 04:00:00        75        0.0       0           1  0.693147  2011   \n",
       "\n",
       "                     month  day  dayofweek  hour  \n",
       "datetime                                          \n",
       "2011-01-01 00:00:00      1    1          5     0  \n",
       "2011-01-01 01:00:00      1    1          5     1  \n",
       "2011-01-01 02:00:00      1    1          5     2  \n",
       "2011-01-01 03:00:00      1    1          5     3  \n",
       "2011-01-01 04:00:00      1    1          5     4  "
      ]
     },
     "execution_count": 58,
     "metadata": {},
     "output_type": "execute_result"
    }
   ],
   "source": [
    "df2.head()"
   ]
  },
  {
   "cell_type": "markdown",
   "metadata": {
    "papermill": {
     "duration": 0.156384,
     "end_time": "2021-02-18T09:17:57.181514",
     "exception": false,
     "start_time": "2021-02-18T09:17:57.025130",
     "status": "completed"
    },
    "tags": []
   },
   "source": [
    "### Model Built "
   ]
  },
  {
   "cell_type": "code",
   "execution_count": 59,
   "metadata": {
    "_kg_hide-input": true,
    "execution": {
     "iopub.execute_input": "2021-02-18T09:17:57.494354Z",
     "iopub.status.busy": "2021-02-18T09:17:57.493197Z",
     "iopub.status.idle": "2021-02-18T09:17:57.503228Z",
     "shell.execute_reply": "2021-02-18T09:17:57.503769Z"
    },
    "papermill": {
     "duration": 0.168631,
     "end_time": "2021-02-18T09:17:57.503943",
     "exception": false,
     "start_time": "2021-02-18T09:17:57.335312",
     "status": "completed"
    },
    "tags": []
   },
   "outputs": [],
   "source": [
    "X2 = df2.drop(['count','casual','registered','atemp'],axis=1)\n",
    "y2 = df2['count']\n",
    "#y2"
   ]
  },
  {
   "cell_type": "code",
   "execution_count": 60,
   "metadata": {
    "_kg_hide-input": true,
    "execution": {
     "iopub.execute_input": "2021-02-18T09:17:57.802673Z",
     "iopub.status.busy": "2021-02-18T09:17:57.801913Z",
     "iopub.status.idle": "2021-02-18T09:17:57.806037Z",
     "shell.execute_reply": "2021-02-18T09:17:57.807202Z"
    },
    "papermill": {
     "duration": 0.157316,
     "end_time": "2021-02-18T09:17:57.807418",
     "exception": false,
     "start_time": "2021-02-18T09:17:57.650102",
     "status": "completed"
    },
    "tags": []
   },
   "outputs": [],
   "source": [
    "from sklearn.model_selection import train_test_split\n",
    "X2_train, X2_val, y2_train, y2_val = train_test_split(X2,y2,test_size=0.3,random_state= 1234)"
   ]
  },
  {
   "cell_type": "code",
   "execution_count": 61,
   "metadata": {
    "_kg_hide-input": true,
    "execution": {
     "iopub.execute_input": "2021-02-18T09:17:58.099739Z",
     "iopub.status.busy": "2021-02-18T09:17:58.099012Z",
     "iopub.status.idle": "2021-02-18T09:17:58.107539Z",
     "shell.execute_reply": "2021-02-18T09:17:58.106769Z"
    },
    "papermill": {
     "duration": 0.155245,
     "end_time": "2021-02-18T09:17:58.107664",
     "exception": false,
     "start_time": "2021-02-18T09:17:57.952419",
     "status": "completed"
    },
    "tags": []
   },
   "outputs": [
    {
     "data": {
      "text/plain": [
       "XGBRegressor(base_score=None, booster=None, colsample_bylevel=None,\n",
       "             colsample_bynode=None, colsample_bytree=None, gamma=None,\n",
       "             gpu_id=None, importance_type='gain', interaction_constraints=None,\n",
       "             learning_rate=None, max_delta_step=None, max_depth=5,\n",
       "             min_child_weight=None, missing=nan, monotone_constraints=None,\n",
       "             n_estimator=150, n_estimators=100, n_jobs=None,\n",
       "             num_parallel_tree=None, random_state=None, reg_alpha=None,\n",
       "             reg_lambda=None, scale_pos_weight=None, subsample=None,\n",
       "             tree_method=None, validate_parameters=None, verbosity=None)"
      ]
     },
     "execution_count": 61,
     "metadata": {},
     "output_type": "execute_result"
    }
   ],
   "source": [
    "import xgboost as xgb\n",
    "regressor2 = xgb.XGBRegressor(max_depth=5,n_estimator=150)\n",
    "regressor2"
   ]
  },
  {
   "cell_type": "code",
   "execution_count": 62,
   "metadata": {
    "_kg_hide-input": true,
    "execution": {
     "iopub.execute_input": "2021-02-18T09:17:58.394923Z",
     "iopub.status.busy": "2021-02-18T09:17:58.394061Z",
     "iopub.status.idle": "2021-02-18T09:17:59.190599Z",
     "shell.execute_reply": "2021-02-18T09:17:59.191457Z"
    },
    "papermill": {
     "duration": 0.940263,
     "end_time": "2021-02-18T09:17:59.191665",
     "exception": false,
     "start_time": "2021-02-18T09:17:58.251402",
     "status": "completed"
    },
    "tags": []
   },
   "outputs": [
    {
     "name": "stdout",
     "output_type": "stream",
     "text": [
      "[09:17:58] WARNING: ../src/learner.cc:516: \n",
      "Parameters: { n_estimator } might not be used.\n",
      "\n",
      "  This may not be accurate due to some parameters are only used in language bindings but\n",
      "  passed down to XGBoost core.  Or some parameters are not used but slip through this\n",
      "  verification. Please open an issue if you find above cases.\n",
      "\n",
      "\n",
      "[0]\tvalidation_0-rmse:3.06112\tvalidation_1-rmse:3.08080\n",
      "[1]\tvalidation_0-rmse:2.18210\tvalidation_1-rmse:2.19358\n",
      "[2]\tvalidation_0-rmse:1.57610\tvalidation_1-rmse:1.58378\n",
      "[3]\tvalidation_0-rmse:1.15611\tvalidation_1-rmse:1.16380\n",
      "[4]\tvalidation_0-rmse:0.87030\tvalidation_1-rmse:0.88123\n",
      "[5]\tvalidation_0-rmse:0.67346\tvalidation_1-rmse:0.68652\n",
      "[6]\tvalidation_0-rmse:0.55369\tvalidation_1-rmse:0.56953\n",
      "[7]\tvalidation_0-rmse:0.46653\tvalidation_1-rmse:0.48568\n",
      "[8]\tvalidation_0-rmse:0.41719\tvalidation_1-rmse:0.43974\n",
      "[9]\tvalidation_0-rmse:0.38727\tvalidation_1-rmse:0.41271\n",
      "[10]\tvalidation_0-rmse:0.36328\tvalidation_1-rmse:0.39265\n",
      "[11]\tvalidation_0-rmse:0.34991\tvalidation_1-rmse:0.38087\n",
      "[12]\tvalidation_0-rmse:0.33981\tvalidation_1-rmse:0.37399\n",
      "[13]\tvalidation_0-rmse:0.33430\tvalidation_1-rmse:0.37029\n",
      "[14]\tvalidation_0-rmse:0.32109\tvalidation_1-rmse:0.35950\n",
      "[15]\tvalidation_0-rmse:0.30920\tvalidation_1-rmse:0.34889\n",
      "[16]\tvalidation_0-rmse:0.30552\tvalidation_1-rmse:0.34593\n",
      "[17]\tvalidation_0-rmse:0.30099\tvalidation_1-rmse:0.34270\n",
      "[18]\tvalidation_0-rmse:0.29880\tvalidation_1-rmse:0.34162\n",
      "[19]\tvalidation_0-rmse:0.29649\tvalidation_1-rmse:0.34040\n",
      "[20]\tvalidation_0-rmse:0.29378\tvalidation_1-rmse:0.33907\n",
      "[21]\tvalidation_0-rmse:0.28373\tvalidation_1-rmse:0.33109\n",
      "[22]\tvalidation_0-rmse:0.28157\tvalidation_1-rmse:0.32967\n",
      "[23]\tvalidation_0-rmse:0.28007\tvalidation_1-rmse:0.32934\n",
      "[24]\tvalidation_0-rmse:0.27418\tvalidation_1-rmse:0.32398\n",
      "[25]\tvalidation_0-rmse:0.27157\tvalidation_1-rmse:0.32165\n",
      "[26]\tvalidation_0-rmse:0.27009\tvalidation_1-rmse:0.32153\n",
      "[27]\tvalidation_0-rmse:0.26902\tvalidation_1-rmse:0.32095\n",
      "[28]\tvalidation_0-rmse:0.26613\tvalidation_1-rmse:0.31868\n",
      "[29]\tvalidation_0-rmse:0.26510\tvalidation_1-rmse:0.31760\n",
      "[30]\tvalidation_0-rmse:0.26361\tvalidation_1-rmse:0.31643\n",
      "[31]\tvalidation_0-rmse:0.26292\tvalidation_1-rmse:0.31611\n",
      "[32]\tvalidation_0-rmse:0.26195\tvalidation_1-rmse:0.31596\n",
      "[33]\tvalidation_0-rmse:0.26023\tvalidation_1-rmse:0.31487\n",
      "[34]\tvalidation_0-rmse:0.25915\tvalidation_1-rmse:0.31466\n",
      "[35]\tvalidation_0-rmse:0.25753\tvalidation_1-rmse:0.31375\n",
      "[36]\tvalidation_0-rmse:0.25543\tvalidation_1-rmse:0.31226\n",
      "[37]\tvalidation_0-rmse:0.25338\tvalidation_1-rmse:0.31164\n",
      "[38]\tvalidation_0-rmse:0.25229\tvalidation_1-rmse:0.31100\n",
      "[39]\tvalidation_0-rmse:0.25184\tvalidation_1-rmse:0.31087\n",
      "[40]\tvalidation_0-rmse:0.25141\tvalidation_1-rmse:0.31091\n",
      "[41]\tvalidation_0-rmse:0.24921\tvalidation_1-rmse:0.30983\n",
      "[42]\tvalidation_0-rmse:0.24835\tvalidation_1-rmse:0.30978\n",
      "[43]\tvalidation_0-rmse:0.24741\tvalidation_1-rmse:0.30966\n",
      "[44]\tvalidation_0-rmse:0.24584\tvalidation_1-rmse:0.30971\n",
      "[45]\tvalidation_0-rmse:0.24371\tvalidation_1-rmse:0.30812\n",
      "[46]\tvalidation_0-rmse:0.24345\tvalidation_1-rmse:0.30796\n",
      "[47]\tvalidation_0-rmse:0.24271\tvalidation_1-rmse:0.30788\n",
      "[48]\tvalidation_0-rmse:0.24108\tvalidation_1-rmse:0.30713\n",
      "[49]\tvalidation_0-rmse:0.23911\tvalidation_1-rmse:0.30685\n",
      "[50]\tvalidation_0-rmse:0.23886\tvalidation_1-rmse:0.30655\n",
      "[51]\tvalidation_0-rmse:0.23828\tvalidation_1-rmse:0.30648\n",
      "[52]\tvalidation_0-rmse:0.23596\tvalidation_1-rmse:0.30593\n",
      "[53]\tvalidation_0-rmse:0.23468\tvalidation_1-rmse:0.30499\n",
      "[54]\tvalidation_0-rmse:0.23408\tvalidation_1-rmse:0.30503\n",
      "[55]\tvalidation_0-rmse:0.23334\tvalidation_1-rmse:0.30489\n",
      "[56]\tvalidation_0-rmse:0.23313\tvalidation_1-rmse:0.30477\n",
      "[57]\tvalidation_0-rmse:0.23269\tvalidation_1-rmse:0.30458\n",
      "[58]\tvalidation_0-rmse:0.23171\tvalidation_1-rmse:0.30426\n",
      "[59]\tvalidation_0-rmse:0.23094\tvalidation_1-rmse:0.30440\n",
      "[60]\tvalidation_0-rmse:0.22994\tvalidation_1-rmse:0.30370\n",
      "[61]\tvalidation_0-rmse:0.22974\tvalidation_1-rmse:0.30369\n",
      "[62]\tvalidation_0-rmse:0.22969\tvalidation_1-rmse:0.30370\n",
      "[63]\tvalidation_0-rmse:0.22845\tvalidation_1-rmse:0.30347\n",
      "[64]\tvalidation_0-rmse:0.22749\tvalidation_1-rmse:0.30387\n",
      "[65]\tvalidation_0-rmse:0.22670\tvalidation_1-rmse:0.30373\n",
      "[66]\tvalidation_0-rmse:0.22589\tvalidation_1-rmse:0.30374\n",
      "[67]\tvalidation_0-rmse:0.22495\tvalidation_1-rmse:0.30283\n",
      "[68]\tvalidation_0-rmse:0.22450\tvalidation_1-rmse:0.30273\n",
      "[69]\tvalidation_0-rmse:0.22393\tvalidation_1-rmse:0.30238\n",
      "[70]\tvalidation_0-rmse:0.22354\tvalidation_1-rmse:0.30230\n",
      "[71]\tvalidation_0-rmse:0.22278\tvalidation_1-rmse:0.30199\n",
      "[72]\tvalidation_0-rmse:0.22217\tvalidation_1-rmse:0.30194\n",
      "[73]\tvalidation_0-rmse:0.22116\tvalidation_1-rmse:0.30187\n",
      "[74]\tvalidation_0-rmse:0.21911\tvalidation_1-rmse:0.30047\n",
      "[75]\tvalidation_0-rmse:0.21835\tvalidation_1-rmse:0.30012\n",
      "[76]\tvalidation_0-rmse:0.21807\tvalidation_1-rmse:0.30012\n",
      "[77]\tvalidation_0-rmse:0.21790\tvalidation_1-rmse:0.30017\n",
      "[78]\tvalidation_0-rmse:0.21736\tvalidation_1-rmse:0.30034\n",
      "[79]\tvalidation_0-rmse:0.21649\tvalidation_1-rmse:0.30020\n",
      "[80]\tvalidation_0-rmse:0.21537\tvalidation_1-rmse:0.29989\n",
      "[81]\tvalidation_0-rmse:0.21476\tvalidation_1-rmse:0.29978\n",
      "[82]\tvalidation_0-rmse:0.21444\tvalidation_1-rmse:0.29976\n",
      "[83]\tvalidation_0-rmse:0.21280\tvalidation_1-rmse:0.29869\n",
      "[84]\tvalidation_0-rmse:0.21228\tvalidation_1-rmse:0.29886\n",
      "[85]\tvalidation_0-rmse:0.21146\tvalidation_1-rmse:0.29870\n",
      "[86]\tvalidation_0-rmse:0.21112\tvalidation_1-rmse:0.29882\n",
      "[87]\tvalidation_0-rmse:0.21073\tvalidation_1-rmse:0.29843\n",
      "[88]\tvalidation_0-rmse:0.21050\tvalidation_1-rmse:0.29843\n",
      "[89]\tvalidation_0-rmse:0.21010\tvalidation_1-rmse:0.29823\n",
      "[90]\tvalidation_0-rmse:0.20933\tvalidation_1-rmse:0.29808\n",
      "[91]\tvalidation_0-rmse:0.20928\tvalidation_1-rmse:0.29807\n",
      "[92]\tvalidation_0-rmse:0.20925\tvalidation_1-rmse:0.29807\n",
      "[93]\tvalidation_0-rmse:0.20887\tvalidation_1-rmse:0.29823\n",
      "[94]\tvalidation_0-rmse:0.20782\tvalidation_1-rmse:0.29773\n",
      "[95]\tvalidation_0-rmse:0.20726\tvalidation_1-rmse:0.29742\n",
      "[96]\tvalidation_0-rmse:0.20684\tvalidation_1-rmse:0.29754\n",
      "[97]\tvalidation_0-rmse:0.20654\tvalidation_1-rmse:0.29742\n",
      "[98]\tvalidation_0-rmse:0.20577\tvalidation_1-rmse:0.29740\n",
      "[99]\tvalidation_0-rmse:0.20526\tvalidation_1-rmse:0.29733\n"
     ]
    },
    {
     "data": {
      "text/plain": [
       "XGBRegressor(base_score=0.5, booster='gbtree', colsample_bylevel=1,\n",
       "             colsample_bynode=1, colsample_bytree=1, gamma=0, gpu_id=-1,\n",
       "             importance_type='gain', interaction_constraints='',\n",
       "             learning_rate=0.300000012, max_delta_step=0, max_depth=5,\n",
       "             min_child_weight=1, missing=nan, monotone_constraints='()',\n",
       "             n_estimator=150, n_estimators=100, n_jobs=0, num_parallel_tree=1,\n",
       "             random_state=0, reg_alpha=0, reg_lambda=1, scale_pos_weight=1,\n",
       "             subsample=1, tree_method='exact', validate_parameters=1,\n",
       "             verbosity=None)"
      ]
     },
     "execution_count": 62,
     "metadata": {},
     "output_type": "execute_result"
    }
   ],
   "source": [
    "regressor2.fit(X2_train,y2_train,eval_set = [(X2_train,y2_train),(X2_val,y2_val)])"
   ]
  },
  {
   "cell_type": "markdown",
   "metadata": {
    "papermill": {
     "duration": 0.172598,
     "end_time": "2021-02-18T09:17:59.585509",
     "exception": false,
     "start_time": "2021-02-18T09:17:59.412911",
     "status": "completed"
    },
    "tags": []
   },
   "source": [
    "### Result Evaluation"
   ]
  },
  {
   "cell_type": "code",
   "execution_count": 63,
   "metadata": {
    "_kg_hide-input": true,
    "execution": {
     "iopub.execute_input": "2021-02-18T09:17:59.939718Z",
     "iopub.status.busy": "2021-02-18T09:17:59.938928Z",
     "iopub.status.idle": "2021-02-18T09:17:59.941146Z",
     "shell.execute_reply": "2021-02-18T09:17:59.941745Z"
    },
    "papermill": {
     "duration": 0.18232,
     "end_time": "2021-02-18T09:17:59.941899",
     "exception": false,
     "start_time": "2021-02-18T09:17:59.759579",
     "status": "completed"
    },
    "tags": []
   },
   "outputs": [],
   "source": [
    "eval_result2 = regressor2.evals_result()"
   ]
  },
  {
   "cell_type": "code",
   "execution_count": 64,
   "metadata": {
    "_kg_hide-input": true,
    "execution": {
     "iopub.execute_input": "2021-02-18T09:18:00.306438Z",
     "iopub.status.busy": "2021-02-18T09:18:00.305732Z",
     "iopub.status.idle": "2021-02-18T09:18:00.311241Z",
     "shell.execute_reply": "2021-02-18T09:18:00.310533Z"
    },
    "papermill": {
     "duration": 0.186483,
     "end_time": "2021-02-18T09:18:00.311356",
     "exception": false,
     "start_time": "2021-02-18T09:18:00.124873",
     "status": "completed"
    },
    "tags": []
   },
   "outputs": [],
   "source": [
    "training_rounds2 = range(len(eval_result2['validation_0']['rmse']))"
   ]
  },
  {
   "cell_type": "code",
   "execution_count": 65,
   "metadata": {
    "_kg_hide-input": true,
    "execution": {
     "iopub.execute_input": "2021-02-18T09:18:00.673255Z",
     "iopub.status.busy": "2021-02-18T09:18:00.672180Z",
     "iopub.status.idle": "2021-02-18T09:18:00.676533Z",
     "shell.execute_reply": "2021-02-18T09:18:00.675840Z"
    },
    "papermill": {
     "duration": 0.189383,
     "end_time": "2021-02-18T09:18:00.676666",
     "exception": false,
     "start_time": "2021-02-18T09:18:00.487283",
     "status": "completed"
    },
    "tags": []
   },
   "outputs": [
    {
     "name": "stdout",
     "output_type": "stream",
     "text": [
      "range(0, 100)\n"
     ]
    }
   ],
   "source": [
    "print(training_rounds2)"
   ]
  },
  {
   "cell_type": "code",
   "execution_count": 66,
   "metadata": {
    "_kg_hide-input": true,
    "execution": {
     "iopub.execute_input": "2021-02-18T09:18:01.060716Z",
     "iopub.status.busy": "2021-02-18T09:18:01.047643Z",
     "iopub.status.idle": "2021-02-18T09:18:01.258411Z",
     "shell.execute_reply": "2021-02-18T09:18:01.257669Z"
    },
    "papermill": {
     "duration": 0.399403,
     "end_time": "2021-02-18T09:18:01.258534",
     "exception": false,
     "start_time": "2021-02-18T09:18:00.859131",
     "status": "completed"
    },
    "tags": []
   },
   "outputs": [
    {
     "data": {
      "image/png": "[encoded data removed]",
      "text/plain": [
       "<Figure size 432x288 with 1 Axes>"
      ]
     },
     "metadata": {
      "needs_background": "light"
     },
     "output_type": "display_data"
    }
   ],
   "source": [
    "plt.scatter(x=training_rounds2,y=eval_result2['validation_0']['rmse'],label='Training Error')\n",
    "plt.scatter(x=training_rounds2,y=eval_result2['validation_1']['rmse'],label='Validation Error')\n",
    "plt.grid(True)\n",
    "plt.xlabel('Iteration')\n",
    "plt.ylabel('RMSE')\n",
    "plt.title('Training Vs Validation Error')\n",
    "plt.legend()\n",
    "plt.show()"
   ]
  },
  {
   "cell_type": "markdown",
   "metadata": {
    "papermill": {
     "duration": 0.178129,
     "end_time": "2021-02-18T09:18:01.613016",
     "exception": false,
     "start_time": "2021-02-18T09:18:01.434887",
     "status": "completed"
    },
    "tags": []
   },
   "source": [
    "We can see that the convergence of train and validation accuracy has improved by take the log of rentals"
   ]
  },
  {
   "cell_type": "code",
   "execution_count": 67,
   "metadata": {
    "_kg_hide-input": true,
    "execution": {
     "iopub.execute_input": "2021-02-18T09:18:01.980382Z",
     "iopub.status.busy": "2021-02-18T09:18:01.979301Z",
     "iopub.status.idle": "2021-02-18T09:18:02.260778Z",
     "shell.execute_reply": "2021-02-18T09:18:02.260035Z"
    },
    "papermill": {
     "duration": 0.473637,
     "end_time": "2021-02-18T09:18:02.260900",
     "exception": false,
     "start_time": "2021-02-18T09:18:01.787263",
     "status": "completed"
    },
    "tags": []
   },
   "outputs": [
    {
     "data": {
      "image/png": "[encoded data removed]",
      "text/plain": [
       "<Figure size 432x288 with 1 Axes>"
      ]
     },
     "metadata": {
      "needs_background": "light"
     },
     "output_type": "display_data"
    }
   ],
   "source": [
    "xgb.plot_importance(regressor2)\n",
    "plt.show()"
   ]
  },
  {
   "cell_type": "markdown",
   "metadata": {
    "papermill": {
     "duration": 0.176834,
     "end_time": "2021-02-18T09:18:02.615181",
     "exception": false,
     "start_time": "2021-02-18T09:18:02.438347",
     "status": "completed"
    },
    "tags": []
   },
   "source": [
    "We can see that their is slight change in the feature importance.Windspeed has taken the place of day of the week."
   ]
  },
  {
   "cell_type": "markdown",
   "metadata": {
    "papermill": {
     "duration": 0.223995,
     "end_time": "2021-02-18T09:18:03.017467",
     "exception": false,
     "start_time": "2021-02-18T09:18:02.793472",
     "status": "completed"
    },
    "tags": []
   },
   "source": [
    "### Predicting Rentals"
   ]
  },
  {
   "cell_type": "code",
   "execution_count": 68,
   "metadata": {
    "_kg_hide-input": true,
    "execution": {
     "iopub.execute_input": "2021-02-18T09:18:03.395213Z",
     "iopub.status.busy": "2021-02-18T09:18:03.394140Z",
     "iopub.status.idle": "2021-02-18T09:18:03.407863Z",
     "shell.execute_reply": "2021-02-18T09:18:03.406287Z"
    },
    "papermill": {
     "duration": 0.203896,
     "end_time": "2021-02-18T09:18:03.408021",
     "exception": false,
     "start_time": "2021-02-18T09:18:03.204125",
     "status": "completed"
    },
    "tags": []
   },
   "outputs": [],
   "source": [
    "result2 = regressor2.predict(X2_val)"
   ]
  },
  {
   "cell_type": "code",
   "execution_count": 69,
   "metadata": {
    "_kg_hide-input": true,
    "execution": {
     "iopub.execute_input": "2021-02-18T09:18:03.819209Z",
     "iopub.status.busy": "2021-02-18T09:18:03.818463Z",
     "iopub.status.idle": "2021-02-18T09:18:03.822556Z",
     "shell.execute_reply": "2021-02-18T09:18:03.823175Z"
    },
    "papermill": {
     "duration": 0.192885,
     "end_time": "2021-02-18T09:18:03.823326",
     "exception": false,
     "start_time": "2021-02-18T09:18:03.630441",
     "status": "completed"
    },
    "tags": []
   },
   "outputs": [
    {
     "data": {
      "text/plain": [
       "array([5.323791 , 4.2896333, 4.862355 , 1.6725917, 5.7143593],\n",
       "      dtype=float32)"
      ]
     },
     "execution_count": 69,
     "metadata": {},
     "output_type": "execute_result"
    }
   ],
   "source": [
    "result2[:5]"
   ]
  },
  {
   "cell_type": "code",
   "execution_count": 70,
   "metadata": {
    "_kg_hide-input": true,
    "execution": {
     "iopub.execute_input": "2021-02-18T09:18:04.190671Z",
     "iopub.status.busy": "2021-02-18T09:18:04.189932Z",
     "iopub.status.idle": "2021-02-18T09:18:04.194636Z",
     "shell.execute_reply": "2021-02-18T09:18:04.195145Z"
    },
    "papermill": {
     "duration": 0.192884,
     "end_time": "2021-02-18T09:18:04.195327",
     "exception": false,
     "start_time": "2021-02-18T09:18:04.002443",
     "status": "completed"
    },
    "tags": []
   },
   "outputs": [],
   "source": [
    "df2_val = X2_val\n",
    "#df_val.dtypes"
   ]
  },
  {
   "cell_type": "code",
   "execution_count": 71,
   "metadata": {
    "_kg_hide-input": true,
    "execution": {
     "iopub.execute_input": "2021-02-18T09:18:04.558328Z",
     "iopub.status.busy": "2021-02-18T09:18:04.557596Z",
     "iopub.status.idle": "2021-02-18T09:18:04.564424Z",
     "shell.execute_reply": "2021-02-18T09:18:04.563845Z"
    },
    "papermill": {
     "duration": 0.187462,
     "end_time": "2021-02-18T09:18:04.564536",
     "exception": false,
     "start_time": "2021-02-18T09:18:04.377074",
     "status": "completed"
    },
    "tags": []
   },
   "outputs": [
    {
     "name": "stderr",
     "output_type": "stream",
     "text": [
      "/opt/conda/lib/python3.7/site-packages/ipykernel_launcher.py:1: SettingWithCopyWarning: \n",
      "A value is trying to be set on a copy of a slice from a DataFrame.\n",
      "Try using .loc[row_indexer,col_indexer] = value instead\n",
      "\n",
      "See the caveats in the documentation: https://pandas.pydata.org/pandas-docs/stable/user_guide/indexing.html#returning-a-view-versus-a-copy\n",
      "  \"\"\"Entry point for launching an IPython kernel.\n"
     ]
    }
   ],
   "source": [
    "df2_val['count_predicted'] = result2\n",
    "#df_val"
   ]
  },
  {
   "cell_type": "code",
   "execution_count": 72,
   "metadata": {
    "_kg_hide-input": true,
    "execution": {
     "iopub.execute_input": "2021-02-18T09:18:04.935421Z",
     "iopub.status.busy": "2021-02-18T09:18:04.934649Z",
     "iopub.status.idle": "2021-02-18T09:18:04.944696Z",
     "shell.execute_reply": "2021-02-18T09:18:04.944058Z"
    },
    "papermill": {
     "duration": 0.196551,
     "end_time": "2021-02-18T09:18:04.944818",
     "exception": false,
     "start_time": "2021-02-18T09:18:04.748267",
     "status": "completed"
    },
    "tags": []
   },
   "outputs": [
    {
     "data": {
      "text/plain": [
       "count    3266.000000\n",
       "mean        4.615743\n",
       "std         1.386302\n",
       "min         0.259707\n",
       "25%         3.854278\n",
       "50%         5.028865\n",
       "75%         5.624707\n",
       "max         6.884830\n",
       "Name: count_predicted, dtype: float64"
      ]
     },
     "execution_count": 72,
     "metadata": {},
     "output_type": "execute_result"
    }
   ],
   "source": [
    "df2_val['count_predicted'].describe()"
   ]
  },
  {
   "cell_type": "markdown",
   "metadata": {
    "papermill": {
     "duration": 0.177727,
     "end_time": "2021-02-18T09:18:05.305667",
     "exception": false,
     "start_time": "2021-02-18T09:18:05.127940",
     "status": "completed"
    },
    "tags": []
   },
   "source": [
    "Now we can notice that there are no negative rental predictions.Do applying the log transformation has helped us to improve our rental predications."
   ]
  },
  {
   "cell_type": "code",
   "execution_count": 73,
   "metadata": {
    "_kg_hide-input": true,
    "_kg_hide-output": true,
    "execution": {
     "iopub.execute_input": "2021-02-18T09:18:05.670809Z",
     "iopub.status.busy": "2021-02-18T09:18:05.670005Z",
     "iopub.status.idle": "2021-02-18T09:18:05.682838Z",
     "shell.execute_reply": "2021-02-18T09:18:05.683354Z"
    },
    "papermill": {
     "duration": 0.198842,
     "end_time": "2021-02-18T09:18:05.683516",
     "exception": false,
     "start_time": "2021-02-18T09:18:05.484674",
     "status": "completed"
    },
    "tags": []
   },
   "outputs": [
    {
     "data": {
      "text/html": [
       "<div>\n",
       "<style scoped>\n",
       "    .dataframe tbody tr th:only-of-type {\n",
       "        vertical-align: middle;\n",
       "    }\n",
       "\n",
       "    .dataframe tbody tr th {\n",
       "        vertical-align: top;\n",
       "    }\n",
       "\n",
       "    .dataframe thead th {\n",
       "        text-align: right;\n",
       "    }\n",
       "</style>\n",
       "<table border=\"1\" class=\"dataframe\">\n",
       "  <thead>\n",
       "    <tr style=\"text-align: right;\">\n",
       "      <th></th>\n",
       "      <th>season</th>\n",
       "      <th>holiday</th>\n",
       "      <th>workingday</th>\n",
       "      <th>weather</th>\n",
       "      <th>temp</th>\n",
       "      <th>humidity</th>\n",
       "      <th>windspeed</th>\n",
       "      <th>year</th>\n",
       "      <th>month</th>\n",
       "      <th>day</th>\n",
       "      <th>dayofweek</th>\n",
       "      <th>hour</th>\n",
       "      <th>count_predicted</th>\n",
       "      <th>count</th>\n",
       "    </tr>\n",
       "  </thead>\n",
       "  <tbody>\n",
       "  </tbody>\n",
       "</table>\n",
       "</div>"
      ],
      "text/plain": [
       "Empty DataFrame\n",
       "Columns: [season, holiday, workingday, weather, temp, humidity, windspeed, year, month, day, dayofweek, hour, count_predicted, count]\n",
       "Index: []"
      ]
     },
     "execution_count": 73,
     "metadata": {},
     "output_type": "execute_result"
    }
   ],
   "source": [
    "df_val[df_val['count_predicted'] < 0]"
   ]
  },
  {
   "cell_type": "markdown",
   "metadata": {
    "papermill": {
     "duration": 0.193735,
     "end_time": "2021-02-18T09:18:06.068312",
     "exception": false,
     "start_time": "2021-02-18T09:18:05.874577",
     "status": "completed"
    },
    "tags": []
   },
   "source": [
    "### Actual Vs Predicted"
   ]
  },
  {
   "cell_type": "code",
   "execution_count": 74,
   "metadata": {
    "_kg_hide-input": true,
    "execution": {
     "iopub.execute_input": "2021-02-18T09:18:06.455089Z",
     "iopub.status.busy": "2021-02-18T09:18:06.453983Z",
     "iopub.status.idle": "2021-02-18T09:18:06.457763Z",
     "shell.execute_reply": "2021-02-18T09:18:06.458352Z"
    },
    "papermill": {
     "duration": 0.194477,
     "end_time": "2021-02-18T09:18:06.458505",
     "exception": false,
     "start_time": "2021-02-18T09:18:06.264028",
     "status": "completed"
    },
    "tags": []
   },
   "outputs": [
    {
     "name": "stderr",
     "output_type": "stream",
     "text": [
      "/opt/conda/lib/python3.7/site-packages/ipykernel_launcher.py:1: SettingWithCopyWarning: \n",
      "A value is trying to be set on a copy of a slice from a DataFrame.\n",
      "Try using .loc[row_indexer,col_indexer] = value instead\n",
      "\n",
      "See the caveats in the documentation: https://pandas.pydata.org/pandas-docs/stable/user_guide/indexing.html#returning-a-view-versus-a-copy\n",
      "  \"\"\"Entry point for launching an IPython kernel.\n"
     ]
    }
   ],
   "source": [
    "df2_val['count']=y2_val\n",
    "df2_val.reset_index(drop=True, inplace=True)\n",
    "#df2_val"
   ]
  },
  {
   "cell_type": "code",
   "execution_count": 75,
   "metadata": {
    "_kg_hide-input": true,
    "execution": {
     "iopub.execute_input": "2021-02-18T09:18:06.838364Z",
     "iopub.status.busy": "2021-02-18T09:18:06.836229Z",
     "iopub.status.idle": "2021-02-18T09:18:06.851838Z",
     "shell.execute_reply": "2021-02-18T09:18:06.851136Z"
    },
    "papermill": {
     "duration": 0.214292,
     "end_time": "2021-02-18T09:18:06.851952",
     "exception": false,
     "start_time": "2021-02-18T09:18:06.637660",
     "status": "completed"
    },
    "tags": []
   },
   "outputs": [
    {
     "name": "stderr",
     "output_type": "stream",
     "text": [
      "/opt/conda/lib/python3.7/site-packages/ipykernel_launcher.py:1: SettingWithCopyWarning: \n",
      "A value is trying to be set on a copy of a slice from a DataFrame.\n",
      "Try using .loc[row_indexer,col_indexer] = value instead\n",
      "\n",
      "See the caveats in the documentation: https://pandas.pydata.org/pandas-docs/stable/user_guide/indexing.html#returning-a-view-versus-a-copy\n",
      "  \"\"\"Entry point for launching an IPython kernel.\n",
      "/opt/conda/lib/python3.7/site-packages/ipykernel_launcher.py:2: SettingWithCopyWarning: \n",
      "A value is trying to be set on a copy of a slice from a DataFrame.\n",
      "Try using .loc[row_indexer,col_indexer] = value instead\n",
      "\n",
      "See the caveats in the documentation: https://pandas.pydata.org/pandas-docs/stable/user_guide/indexing.html#returning-a-view-versus-a-copy\n",
      "  \n"
     ]
    }
   ],
   "source": [
    "df2_val['count'] = df2_val['count'].map(np.expm1)\n",
    "df2_val['count_predicted'] = df2_val['count_predicted'].map(np.expm1)\n",
    "#df2_val"
   ]
  },
  {
   "cell_type": "code",
   "execution_count": 76,
   "metadata": {
    "_kg_hide-input": true,
    "execution": {
     "iopub.execute_input": "2021-02-18T09:18:07.233334Z",
     "iopub.status.busy": "2021-02-18T09:18:07.227562Z",
     "iopub.status.idle": "2021-02-18T09:18:07.426906Z",
     "shell.execute_reply": "2021-02-18T09:18:07.426290Z"
    },
    "papermill": {
     "duration": 0.390912,
     "end_time": "2021-02-18T09:18:07.427026",
     "exception": false,
     "start_time": "2021-02-18T09:18:07.036114",
     "status": "completed"
    },
    "tags": []
   },
   "outputs": [
    {
     "data": {
      "image/png": "[encoded data removed]",
      "text/plain": [
       "<Figure size 432x288 with 1 Axes>"
      ]
     },
     "metadata": {
      "needs_background": "light"
     },
     "output_type": "display_data"
    }
   ],
   "source": [
    "plt.plot(df2_val['count'],label='Actual')\n",
    "plt.plot(df2_val['count_predicted'],label='Predicted')\n",
    "plt.xlabel('Sample')\n",
    "plt.ylabel('Count')\n",
    "plt.xlim([100,200])\n",
    "plt.title('Validation Dataset - Predicted Vs Actual Rentals')\n",
    "plt.legend()\n",
    "plt.show()"
   ]
  },
  {
   "cell_type": "code",
   "execution_count": 77,
   "metadata": {
    "_kg_hide-input": true,
    "execution": {
     "iopub.execute_input": "2021-02-18T09:18:07.815213Z",
     "iopub.status.busy": "2021-02-18T09:18:07.813898Z",
     "iopub.status.idle": "2021-02-18T09:18:07.821495Z",
     "shell.execute_reply": "2021-02-18T09:18:07.820625Z"
    },
    "papermill": {
     "duration": 0.199977,
     "end_time": "2021-02-18T09:18:07.821678",
     "exception": false,
     "start_time": "2021-02-18T09:18:07.621701",
     "status": "completed"
    },
    "tags": []
   },
   "outputs": [
    {
     "name": "stdout",
     "output_type": "stream",
     "text": [
      "RSME:42.75\n"
     ]
    }
   ],
   "source": [
    "from sklearn.metrics import mean_squared_error\n",
    "print(\"RSME:{0:0.2f}\".format(mean_squared_error(df2_val['count'],df2_val['count_predicted'])**0.5))"
   ]
  },
  {
   "cell_type": "markdown",
   "metadata": {
    "papermill": {
     "duration": 0.182843,
     "end_time": "2021-02-18T09:18:08.196255",
     "exception": false,
     "start_time": "2021-02-18T09:18:08.013412",
     "status": "completed"
    },
    "tags": []
   },
   "source": [
    "# Conclusion\n",
    "\n",
    "1.We explored the dataset and from the data we split date into day,week,monthly and yearly data.We saw that the renal demand is has trend which change with day,week months and the years.\n",
    "\n",
    "2.The demand for bike rentals is more in weekdays compared to weekend.\n",
    "\n",
    "3.We can see that the bike demand is more from 6-9 am 4-7 pm on working days.This must be because of more demand during office hours.On non working days the demand is more from 9 am to 6 pm.This is quite obvious considering that people like to get up little late on weekends.\n",
    "\n",
    "4.We can see that the demand for bike has increased from 2011 to 2012.The trend is very similar for both years.The white spaces are the missing values which we have to predict.\n",
    "\n",
    "5.We can see that the demand increase from April to July and then again start declining.This is because April to July are summer months and people do more biking during summer months.\n",
    "\n",
    "6.From the correlation matrix we can see that bike demand is more when the temperature is higer and lower when the humidity is lower.\n",
    "\n",
    "7.We used XGBoost to predict the rentals.We saw some negative predictions which we had removed.The training and validation accuracy stablised.But we can further mprove this model by feature engineering.\n",
    "\n",
    "8.We tried out feature engineering by doing a log transformation on the rental count.This reduces the scale of the data and also reduces the affect of seasonality and time based changes in the data.\n"
   ]
  },
  {
   "cell_type": "markdown",
   "metadata": {
    "papermill": {
     "duration": 0.181753,
     "end_time": "2021-02-18T09:18:08.559693",
     "exception": false,
     "start_time": "2021-02-18T09:18:08.377940",
     "status": "completed"
    },
    "tags": []
   },
   "source": [
    "# TO BE CONTINUED"
   ]
  }
 ],
 "metadata": {
  "kernelspec": {
   "display_name": "Python 3",
   "language": "python",
   "name": "python3"
  },
  "language_info": {
   "codemirror_mode": {
    "name": "ipython",
    "version": 3
   },
   "file_extension": ".py",
   "mimetype": "text/x-python",
   "name": "python",
   "nbconvert_exporter": "python",
   "pygments_lexer": "ipython3",
   "version": "3.7.6"
  },
  "papermill": {
   "duration": 47.632046,
   "end_time": "2021-02-18T09:18:08.850080",
   "environment_variables": {},
   "exception": null,
   "input_path": "__notebook__.ipynb",
   "output_path": "__notebook__.ipynb",
   "parameters": {},
   "start_time": "2021-02-18T09:17:21.218034",
   "version": "2.1.0"
  }
 },
 "nbformat": 4,
 "nbformat_minor": 4
}
