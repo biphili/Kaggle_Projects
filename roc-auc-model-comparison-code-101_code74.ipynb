{
 "cells": [
  {
   "cell_type": "markdown",
   "metadata": {
    "papermill": {
     "duration": 0.031854,
     "end_time": "2021-02-09T15:21:39.284576",
     "exception": false,
     "start_time": "2021-02-09T15:21:39.252722",
     "status": "completed"
    },
    "tags": []
   },
   "source": [
    "# During the lockdown I published my first book titled Inspiration:Thoughts on Spirituality,Technology,Wealth,Leadership and Motivation.The preview of the book can be read from the Amazon link https://lnkd.in/gj7bMQA .\n",
    "# E Book is availabe for Rs 99 in India.Paperback Edition of the book is available on Amazon.com link https://lnkd.in/gkFYYMJ"
   ]
  },
  {
   "cell_type": "markdown",
   "metadata": {
    "papermill": {
     "duration": 0.032152,
     "end_time": "2021-02-09T15:21:39.349028",
     "exception": false,
     "start_time": "2021-02-09T15:21:39.316876",
     "status": "completed"
    },
    "tags": []
   },
   "source": [
    "In this Kerne we will try to Predict who will have Heart Disease.But our main focus will be on how to compare two models using ROC and AUC Curves.In this notebook we will be covering following topic \n",
    "\n",
    "1.Data import and preprocessing \n",
    "\n",
    "2.Feature Engineering \n",
    "\n",
    "3.Model Built \n",
    "\n",
    "4.Model Comparsion using ROC curve \n",
    "\n",
    "5.Conclusion \n",
    "\n",
    "You can refer to my other Notebooks from the link https://www.kaggle.com/biphili/notebooks"
   ]
  },
  {
   "cell_type": "code",
   "execution_count": 1,
   "metadata": {
    "_cell_guid": "b1076dfc-b9ad-4769-8c92-a6c4dae69d19",
    "_kg_hide-input": true,
    "_uuid": "8f2839f25d086af736a60e9eeb907d3b93b6e0e5",
    "execution": {
     "iopub.execute_input": "2021-02-09T15:21:39.417834Z",
     "iopub.status.busy": "2021-02-09T15:21:39.417085Z",
     "iopub.status.idle": "2021-02-09T15:21:39.430989Z",
     "shell.execute_reply": "2021-02-09T15:21:39.431817Z"
    },
    "papermill": {
     "duration": 0.05229,
     "end_time": "2021-02-09T15:21:39.432253",
     "exception": false,
     "start_time": "2021-02-09T15:21:39.379963",
     "status": "completed"
    },
    "tags": []
   },
   "outputs": [
    {
     "name": "stdout",
     "output_type": "stream",
     "text": [
      "/kaggle/input/heart-disease-uci/heart.csv\n"
     ]
    }
   ],
   "source": [
    "# This Python 3 environment comes with many helpful analytics libraries installed\n",
    "# It is defined by the kaggle/python Docker image: https://github.com/kaggle/docker-python\n",
    "# For example, here's several helpful packages to load\n",
    "\n",
    "import numpy as np # linear algebra\n",
    "import pandas as pd # data processing, CSV file I/O (e.g. pd.read_csv)\n",
    "\n",
    "# Input data files are available in the read-only \"../input/\" directory\n",
    "# For example, running this (by clicking run or pressing Shift+Enter) will list all files under the input directory\n",
    "\n",
    "import os\n",
    "for dirname, _, filenames in os.walk('/kaggle/input'):\n",
    "    for filename in filenames:\n",
    "        print(os.path.join(dirname, filename))\n",
    "\n",
    "# You can write up to 20GB to the current directory (/kaggle/working/) that gets preserved as output when you create a version using \"Save & Run All\" \n",
    "# You can also write temporary files to /kaggle/temp/, but they won't be saved outside of the current session"
   ]
  },
  {
   "cell_type": "markdown",
   "metadata": {
    "papermill": {
     "duration": 0.031105,
     "end_time": "2021-02-09T15:21:39.496054",
     "exception": false,
     "start_time": "2021-02-09T15:21:39.464949",
     "status": "completed"
    },
    "tags": []
   },
   "source": [
    "# 1.Data Import And Preprocessing "
   ]
  },
  {
   "cell_type": "markdown",
   "metadata": {
    "papermill": {
     "duration": 0.031488,
     "end_time": "2021-02-09T15:21:39.558893",
     "exception": false,
     "start_time": "2021-02-09T15:21:39.527405",
     "status": "completed"
    },
    "tags": []
   },
   "source": [
    "### Importing Modules"
   ]
  },
  {
   "cell_type": "code",
   "execution_count": 2,
   "metadata": {
    "_kg_hide-input": true,
    "execution": {
     "iopub.execute_input": "2021-02-09T15:21:39.630127Z",
     "iopub.status.busy": "2021-02-09T15:21:39.629315Z",
     "iopub.status.idle": "2021-02-09T15:21:41.541212Z",
     "shell.execute_reply": "2021-02-09T15:21:41.540587Z"
    },
    "papermill": {
     "duration": 1.950817,
     "end_time": "2021-02-09T15:21:41.541361",
     "exception": false,
     "start_time": "2021-02-09T15:21:39.590544",
     "status": "completed"
    },
    "tags": []
   },
   "outputs": [
    {
     "data": {
      "text/html": [
       "<style type='text/css'>\n",
       ".datatable table.frame { margin-bottom: 0; }\n",
       ".datatable table.frame thead { border-bottom: none; }\n",
       ".datatable table.frame tr.coltypes td {  color: #FFFFFF;  line-height: 6px;  padding: 0 0.5em;}\n",
       ".datatable .bool    { background: #DDDD99; }\n",
       ".datatable .object  { background: #565656; }\n",
       ".datatable .int     { background: #5D9E5D; }\n",
       ".datatable .float   { background: #4040CC; }\n",
       ".datatable .str     { background: #CC4040; }\n",
       ".datatable .row_index {  background: var(--jp-border-color3);  border-right: 1px solid var(--jp-border-color0);  color: var(--jp-ui-font-color3);  font-size: 9px;}\n",
       ".datatable .frame tr.coltypes .row_index {  background: var(--jp-border-color0);}\n",
       ".datatable th:nth-child(2) { padding-left: 12px; }\n",
       ".datatable .hellipsis {  color: var(--jp-cell-editor-border-color);}\n",
       ".datatable .vellipsis {  background: var(--jp-layout-color0);  color: var(--jp-cell-editor-border-color);}\n",
       ".datatable .na {  color: var(--jp-cell-editor-border-color);  font-size: 80%;}\n",
       ".datatable .footer { font-size: 9px; }\n",
       ".datatable .frame_dimensions {  background: var(--jp-border-color3);  border-top: 1px solid var(--jp-border-color0);  color: var(--jp-ui-font-color3);  display: inline-block;  opacity: 0.6;  padding: 1px 10px 1px 5px;}\n",
       "</style>\n"
      ],
      "text/plain": [
       "<IPython.core.display.HTML object>"
      ]
     },
     "metadata": {},
     "output_type": "display_data"
    }
   ],
   "source": [
    "import numpy as np \n",
    "import pandas as pd \n",
    "import matplotlib.pyplot as plt\n",
    "import seaborn as sns\n",
    "from dateutil import parser\n",
    "from sklearn.model_selection import train_test_split\n",
    "from sklearn.preprocessing import StandardScaler \n",
    "from sklearn.svm import SVC \n",
    "from xgboost import XGBClassifier\n",
    "from sklearn.ensemble import RandomForestClassifier\n",
    "from sklearn.linear_model import LogisticRegression\n",
    "from sklearn.metrics import confusion_matrix,classification_report,accuracy_score\n",
    "from sklearn.model_selection import GridSearchCV\n",
    "import pickle\n",
    "from lightgbm import LGBMClassifier\n",
    "import warnings\n",
    "plt.style.use('fivethirtyeight')\n",
    "import warnings\n",
    "warnings.filterwarnings('ignore')"
   ]
  },
  {
   "cell_type": "markdown",
   "metadata": {
    "papermill": {
     "duration": 0.032124,
     "end_time": "2021-02-09T15:21:41.605838",
     "exception": false,
     "start_time": "2021-02-09T15:21:41.573714",
     "status": "completed"
    },
    "tags": []
   },
   "source": [
    "### Importing Data "
   ]
  },
  {
   "cell_type": "code",
   "execution_count": 3,
   "metadata": {
    "_kg_hide-input": true,
    "execution": {
     "iopub.execute_input": "2021-02-09T15:21:41.678916Z",
     "iopub.status.busy": "2021-02-09T15:21:41.677973Z",
     "iopub.status.idle": "2021-02-09T15:21:41.730661Z",
     "shell.execute_reply": "2021-02-09T15:21:41.729978Z"
    },
    "papermill": {
     "duration": 0.0897,
     "end_time": "2021-02-09T15:21:41.730805",
     "exception": false,
     "start_time": "2021-02-09T15:21:41.641105",
     "status": "completed"
    },
    "tags": []
   },
   "outputs": [
    {
     "data": {
      "text/html": [
       "<div>\n",
       "<style scoped>\n",
       "    .dataframe tbody tr th:only-of-type {\n",
       "        vertical-align: middle;\n",
       "    }\n",
       "\n",
       "    .dataframe tbody tr th {\n",
       "        vertical-align: top;\n",
       "    }\n",
       "\n",
       "    .dataframe thead th {\n",
       "        text-align: right;\n",
       "    }\n",
       "</style>\n",
       "<table border=\"1\" class=\"dataframe\">\n",
       "  <thead>\n",
       "    <tr style=\"text-align: right;\">\n",
       "      <th></th>\n",
       "      <th>age</th>\n",
       "      <th>sex</th>\n",
       "      <th>cp</th>\n",
       "      <th>trestbps</th>\n",
       "      <th>chol</th>\n",
       "      <th>fbs</th>\n",
       "      <th>restecg</th>\n",
       "      <th>thalach</th>\n",
       "      <th>exang</th>\n",
       "      <th>oldpeak</th>\n",
       "      <th>slope</th>\n",
       "      <th>ca</th>\n",
       "      <th>thal</th>\n",
       "      <th>target</th>\n",
       "    </tr>\n",
       "  </thead>\n",
       "  <tbody>\n",
       "    <tr>\n",
       "      <th>0</th>\n",
       "      <td>63</td>\n",
       "      <td>1</td>\n",
       "      <td>3</td>\n",
       "      <td>145</td>\n",
       "      <td>233</td>\n",
       "      <td>1</td>\n",
       "      <td>0</td>\n",
       "      <td>150</td>\n",
       "      <td>0</td>\n",
       "      <td>2.3</td>\n",
       "      <td>0</td>\n",
       "      <td>0</td>\n",
       "      <td>1</td>\n",
       "      <td>1</td>\n",
       "    </tr>\n",
       "    <tr>\n",
       "      <th>1</th>\n",
       "      <td>37</td>\n",
       "      <td>1</td>\n",
       "      <td>2</td>\n",
       "      <td>130</td>\n",
       "      <td>250</td>\n",
       "      <td>0</td>\n",
       "      <td>1</td>\n",
       "      <td>187</td>\n",
       "      <td>0</td>\n",
       "      <td>3.5</td>\n",
       "      <td>0</td>\n",
       "      <td>0</td>\n",
       "      <td>2</td>\n",
       "      <td>1</td>\n",
       "    </tr>\n",
       "    <tr>\n",
       "      <th>2</th>\n",
       "      <td>41</td>\n",
       "      <td>0</td>\n",
       "      <td>1</td>\n",
       "      <td>130</td>\n",
       "      <td>204</td>\n",
       "      <td>0</td>\n",
       "      <td>0</td>\n",
       "      <td>172</td>\n",
       "      <td>0</td>\n",
       "      <td>1.4</td>\n",
       "      <td>2</td>\n",
       "      <td>0</td>\n",
       "      <td>2</td>\n",
       "      <td>1</td>\n",
       "    </tr>\n",
       "    <tr>\n",
       "      <th>3</th>\n",
       "      <td>56</td>\n",
       "      <td>1</td>\n",
       "      <td>1</td>\n",
       "      <td>120</td>\n",
       "      <td>236</td>\n",
       "      <td>0</td>\n",
       "      <td>1</td>\n",
       "      <td>178</td>\n",
       "      <td>0</td>\n",
       "      <td>0.8</td>\n",
       "      <td>2</td>\n",
       "      <td>0</td>\n",
       "      <td>2</td>\n",
       "      <td>1</td>\n",
       "    </tr>\n",
       "    <tr>\n",
       "      <th>4</th>\n",
       "      <td>57</td>\n",
       "      <td>0</td>\n",
       "      <td>0</td>\n",
       "      <td>120</td>\n",
       "      <td>354</td>\n",
       "      <td>0</td>\n",
       "      <td>1</td>\n",
       "      <td>163</td>\n",
       "      <td>1</td>\n",
       "      <td>0.6</td>\n",
       "      <td>2</td>\n",
       "      <td>0</td>\n",
       "      <td>2</td>\n",
       "      <td>1</td>\n",
       "    </tr>\n",
       "  </tbody>\n",
       "</table>\n",
       "</div>"
      ],
      "text/plain": [
       "   age  sex  cp  trestbps  chol  fbs  restecg  thalach  exang  oldpeak  slope  \\\n",
       "0   63    1   3       145   233    1        0      150      0      2.3      0   \n",
       "1   37    1   2       130   250    0        1      187      0      3.5      0   \n",
       "2   41    0   1       130   204    0        0      172      0      1.4      2   \n",
       "3   56    1   1       120   236    0        1      178      0      0.8      2   \n",
       "4   57    0   0       120   354    0        1      163      1      0.6      2   \n",
       "\n",
       "   ca  thal  target  \n",
       "0   0     1       1  \n",
       "1   0     2       1  \n",
       "2   0     2       1  \n",
       "3   0     2       1  \n",
       "4   0     2       1  "
      ]
     },
     "execution_count": 3,
     "metadata": {},
     "output_type": "execute_result"
    }
   ],
   "source": [
    "data=pd.read_csv('../input/heart-disease-uci/heart.csv')\n",
    "data.head()"
   ]
  },
  {
   "cell_type": "markdown",
   "metadata": {
    "papermill": {
     "duration": 0.033663,
     "end_time": "2021-02-09T15:21:41.796931",
     "exception": false,
     "start_time": "2021-02-09T15:21:41.763268",
     "status": "completed"
    },
    "tags": []
   },
   "source": [
    "### Terminology\n",
    "\n",
    "* age: The person's age in years\n",
    "* sex: The person's sex (1 = male, 0 = female)\n",
    "* cp: The chest pain experienced (Value 1: typical angina, Value 2: atypical angina, Value 3: non-anginal pain, Value 4: asymptomatic)\n",
    "* trestbps: The person's resting blood pressure (mm Hg on admission to the hospital)\n",
    "* chol: The person's cholesterol measurement in mg/dl\n",
    "* fbs: The person's fasting blood sugar (> 120 mg/dl, 1 = true; 0 = false)\n",
    "* restecg: Resting electrocardiographic measurement (0 = normal, 1 = having ST-T wave abnormality, 2 = showing probable or definite left ventricular hypertrophy by Estes' criteria)\n",
    "* thalach: The person's maximum heart rate achieved\n",
    "* exang: Exercise induced angina (1 = yes; 0 = no)\n",
    "* oldpeak: ST depression induced by exercise relative to rest ('ST' relates to positions on the ECG plot. See more here)\n",
    "* slope: the slope of the peak exercise ST segment (Value 1: upsloping, Value 2: flat, Value 3: downsloping)\n",
    "* ca: The number of major vessels (0-3)\n",
    "* thal: A blood disorder called thalassemia (3 = normal; 6 = fixed defect; 7 = reversable defect)\n",
    "* target: Heart disease (0 = no, 1 = yes)"
   ]
  },
  {
   "cell_type": "markdown",
   "metadata": {
    "papermill": {
     "duration": 0.033484,
     "end_time": "2021-02-09T15:21:41.863041",
     "exception": false,
     "start_time": "2021-02-09T15:21:41.829557",
     "status": "completed"
    },
    "tags": []
   },
   "source": [
    "### Missing Values "
   ]
  },
  {
   "cell_type": "code",
   "execution_count": 4,
   "metadata": {
    "_kg_hide-input": true,
    "execution": {
     "iopub.execute_input": "2021-02-09T15:21:41.936671Z",
     "iopub.status.busy": "2021-02-09T15:21:41.935957Z",
     "iopub.status.idle": "2021-02-09T15:21:41.940696Z",
     "shell.execute_reply": "2021-02-09T15:21:41.940101Z"
    },
    "papermill": {
     "duration": 0.045403,
     "end_time": "2021-02-09T15:21:41.940848",
     "exception": false,
     "start_time": "2021-02-09T15:21:41.895445",
     "status": "completed"
    },
    "tags": []
   },
   "outputs": [
    {
     "data": {
      "text/plain": [
       "age         0\n",
       "sex         0\n",
       "cp          0\n",
       "trestbps    0\n",
       "chol        0\n",
       "fbs         0\n",
       "restecg     0\n",
       "thalach     0\n",
       "exang       0\n",
       "oldpeak     0\n",
       "slope       0\n",
       "ca          0\n",
       "thal        0\n",
       "target      0\n",
       "dtype: int64"
      ]
     },
     "execution_count": 4,
     "metadata": {},
     "output_type": "execute_result"
    }
   ],
   "source": [
    "data.isnull().sum()"
   ]
  },
  {
   "cell_type": "markdown",
   "metadata": {
    "papermill": {
     "duration": 0.033852,
     "end_time": "2021-02-09T15:21:42.008015",
     "exception": false,
     "start_time": "2021-02-09T15:21:41.974163",
     "status": "completed"
    },
    "tags": []
   },
   "source": [
    "We are very lucky here there are no Null Values in the dataset.But in this data the missing values are present in the form of value ZERO. Our next task would be to find out numbers of ZEROS in each column."
   ]
  },
  {
   "cell_type": "markdown",
   "metadata": {
    "papermill": {
     "duration": 0.033231,
     "end_time": "2021-02-09T15:21:42.075197",
     "exception": false,
     "start_time": "2021-02-09T15:21:42.041966",
     "status": "completed"
    },
    "tags": []
   },
   "source": [
    "### Findout Zero Values in DataSet"
   ]
  },
  {
   "cell_type": "code",
   "execution_count": 5,
   "metadata": {
    "_kg_hide-input": true,
    "execution": {
     "iopub.execute_input": "2021-02-09T15:21:42.150136Z",
     "iopub.status.busy": "2021-02-09T15:21:42.149414Z",
     "iopub.status.idle": "2021-02-09T15:21:42.152516Z",
     "shell.execute_reply": "2021-02-09T15:21:42.153127Z"
    },
    "papermill": {
     "duration": 0.043445,
     "end_time": "2021-02-09T15:21:42.153308",
     "exception": false,
     "start_time": "2021-02-09T15:21:42.109863",
     "status": "completed"
    },
    "tags": []
   },
   "outputs": [
    {
     "data": {
      "text/plain": [
       "Index(['age', 'sex', 'cp', 'trestbps', 'chol', 'fbs', 'restecg', 'thalach',\n",
       "       'exang', 'oldpeak', 'slope', 'ca', 'thal', 'target'],\n",
       "      dtype='object')"
      ]
     },
     "execution_count": 5,
     "metadata": {},
     "output_type": "execute_result"
    }
   ],
   "source": [
    "cols = data.columns\n",
    "cols"
   ]
  },
  {
   "cell_type": "code",
   "execution_count": 6,
   "metadata": {
    "_kg_hide-input": true,
    "execution": {
     "iopub.execute_input": "2021-02-09T15:21:42.225774Z",
     "iopub.status.busy": "2021-02-09T15:21:42.225043Z",
     "iopub.status.idle": "2021-02-09T15:21:42.259948Z",
     "shell.execute_reply": "2021-02-09T15:21:42.260789Z"
    },
    "papermill": {
     "duration": 0.073544,
     "end_time": "2021-02-09T15:21:42.261064",
     "exception": false,
     "start_time": "2021-02-09T15:21:42.187520",
     "status": "completed"
    },
    "tags": []
   },
   "outputs": [
    {
     "name": "stdout",
     "output_type": "stream",
     "text": [
      "# Rows in the dataset 303\n",
      "---------------------------------------------------\n",
      "# Rows in age with ZERO value: 0\n",
      "# Rows in sex with ZERO value: 96\n",
      "# Rows in cp with ZERO value: 143\n",
      "# Rows in trestbps with ZERO value: 0\n",
      "# Rows in chol with ZERO value: 0\n",
      "# Rows in fbs with ZERO value: 258\n",
      "# Rows in restecg with ZERO value: 147\n",
      "# Rows in thalach with ZERO value: 0\n",
      "# Rows in exang with ZERO value: 204\n",
      "# Rows in oldpeak with ZERO value: 99\n",
      "# Rows in slope with ZERO value: 21\n",
      "# Rows in ca with ZERO value: 175\n",
      "# Rows in thal with ZERO value: 2\n",
      "# Rows in target with ZERO value: 138\n"
     ]
    }
   ],
   "source": [
    "print(\"# Rows in the dataset {0}\".format(len(data)))\n",
    "print(\"---------------------------------------------------\")\n",
    "for col in cols:\n",
    "    print(\"# Rows in {1} with ZERO value: {0}\".format(len(data.loc[data[col] ==0]),col))"
   ]
  },
  {
   "cell_type": "markdown",
   "metadata": {
    "papermill": {
     "duration": 0.033841,
     "end_time": "2021-02-09T15:21:42.329850",
     "exception": false,
     "start_time": "2021-02-09T15:21:42.296009",
     "status": "completed"
    },
    "tags": []
   },
   "source": [
    "The columns which have categorical values can have ZERO values.But columns like cp,trestbps,chol,fbs,exang,oldpean and Slope should not have value ZERO.The presence of ZERO in this columns indicate the presence of null values."
   ]
  },
  {
   "cell_type": "markdown",
   "metadata": {
    "papermill": {
     "duration": 0.033843,
     "end_time": "2021-02-09T15:21:42.397673",
     "exception": false,
     "start_time": "2021-02-09T15:21:42.363830",
     "status": "completed"
    },
    "tags": []
   },
   "source": [
    "### Data Types "
   ]
  },
  {
   "cell_type": "code",
   "execution_count": 7,
   "metadata": {
    "_kg_hide-input": true,
    "execution": {
     "iopub.execute_input": "2021-02-09T15:21:42.469308Z",
     "iopub.status.busy": "2021-02-09T15:21:42.468637Z",
     "iopub.status.idle": "2021-02-09T15:21:42.477368Z",
     "shell.execute_reply": "2021-02-09T15:21:42.476406Z"
    },
    "papermill": {
     "duration": 0.045953,
     "end_time": "2021-02-09T15:21:42.477581",
     "exception": false,
     "start_time": "2021-02-09T15:21:42.431628",
     "status": "completed"
    },
    "tags": []
   },
   "outputs": [
    {
     "data": {
      "text/plain": [
       "age           int64\n",
       "sex           int64\n",
       "cp            int64\n",
       "trestbps      int64\n",
       "chol          int64\n",
       "fbs           int64\n",
       "restecg       int64\n",
       "thalach       int64\n",
       "exang         int64\n",
       "oldpeak     float64\n",
       "slope         int64\n",
       "ca            int64\n",
       "thal          int64\n",
       "target        int64\n",
       "dtype: object"
      ]
     },
     "execution_count": 7,
     "metadata": {},
     "output_type": "execute_result"
    }
   ],
   "source": [
    "data.dtypes"
   ]
  },
  {
   "cell_type": "markdown",
   "metadata": {
    "papermill": {
     "duration": 0.034407,
     "end_time": "2021-02-09T15:21:42.546688",
     "exception": false,
     "start_time": "2021-02-09T15:21:42.512281",
     "status": "completed"
    },
    "tags": []
   },
   "source": [
    "As all the columns are either integer or float there is no need to convert categorical values numeric values."
   ]
  },
  {
   "cell_type": "markdown",
   "metadata": {
    "papermill": {
     "duration": 0.034915,
     "end_time": "2021-02-09T15:21:42.616088",
     "exception": false,
     "start_time": "2021-02-09T15:21:42.581173",
     "status": "completed"
    },
    "tags": []
   },
   "source": [
    "# 2.Feature Engineering "
   ]
  },
  {
   "cell_type": "markdown",
   "metadata": {
    "papermill": {
     "duration": 0.037573,
     "end_time": "2021-02-09T15:21:42.692987",
     "exception": false,
     "start_time": "2021-02-09T15:21:42.655414",
     "status": "completed"
    },
    "tags": []
   },
   "source": [
    "### Correlation Plot"
   ]
  },
  {
   "cell_type": "code",
   "execution_count": 8,
   "metadata": {
    "_kg_hide-input": true,
    "execution": {
     "iopub.execute_input": "2021-02-09T15:21:42.789092Z",
     "iopub.status.busy": "2021-02-09T15:21:42.786386Z",
     "iopub.status.idle": "2021-02-09T15:21:44.434277Z",
     "shell.execute_reply": "2021-02-09T15:21:44.434826Z"
    },
    "papermill": {
     "duration": 1.695729,
     "end_time": "2021-02-09T15:21:44.435003",
     "exception": false,
     "start_time": "2021-02-09T15:21:42.739274",
     "status": "completed"
    },
    "tags": []
   },
   "outputs": [
    {
     "data": {
      "image/png": "[encoded data removed]",
      "text/plain": [
       "<Figure size 1152x1152 with 2 Axes>"
      ]
     },
     "metadata": {},
     "output_type": "display_data"
    }
   ],
   "source": [
    "corrmat = data.corr()\n",
    "fig = plt.figure(figsize = (16,16))\n",
    "sns.heatmap(corrmat,vmax = 1,square = True,annot = True,vmin = -1)\n",
    "plt.show()"
   ]
  },
  {
   "cell_type": "markdown",
   "metadata": {
    "papermill": {
     "duration": 0.041301,
     "end_time": "2021-02-09T15:21:44.526980",
     "exception": false,
     "start_time": "2021-02-09T15:21:44.485679",
     "status": "completed"
    },
    "tags": []
   },
   "source": [
    "We can see that there is not much correlation between the features in the dataset.If corelation was high we can face issue of multicollinearity.In that case we would need to use feature engineering to avoid multi colinearity."
   ]
  },
  {
   "cell_type": "markdown",
   "metadata": {
    "papermill": {
     "duration": 0.040516,
     "end_time": "2021-02-09T15:21:44.608633",
     "exception": false,
     "start_time": "2021-02-09T15:21:44.568117",
     "status": "completed"
    },
    "tags": []
   },
   "source": [
    "### Dropping Unwanted Columns "
   ]
  },
  {
   "cell_type": "code",
   "execution_count": 9,
   "metadata": {
    "_kg_hide-input": true,
    "execution": {
     "iopub.execute_input": "2021-02-09T15:21:44.698083Z",
     "iopub.status.busy": "2021-02-09T15:21:44.696982Z",
     "iopub.status.idle": "2021-02-09T15:21:44.701587Z",
     "shell.execute_reply": "2021-02-09T15:21:44.701051Z"
    },
    "papermill": {
     "duration": 0.051514,
     "end_time": "2021-02-09T15:21:44.701737",
     "exception": false,
     "start_time": "2021-02-09T15:21:44.650223",
     "status": "completed"
    },
    "tags": []
   },
   "outputs": [
    {
     "data": {
      "text/plain": [
       "Index(['age', 'sex', 'cp', 'trestbps', 'chol', 'fbs', 'restecg', 'thalach',\n",
       "       'exang', 'oldpeak', 'slope', 'ca', 'thal', 'target'],\n",
       "      dtype='object')"
      ]
     },
     "execution_count": 9,
     "metadata": {},
     "output_type": "execute_result"
    }
   ],
   "source": [
    "cols"
   ]
  },
  {
   "cell_type": "code",
   "execution_count": 10,
   "metadata": {
    "_kg_hide-input": true,
    "execution": {
     "iopub.execute_input": "2021-02-09T15:21:44.791688Z",
     "iopub.status.busy": "2021-02-09T15:21:44.790582Z",
     "iopub.status.idle": "2021-02-09T15:21:44.795271Z",
     "shell.execute_reply": "2021-02-09T15:21:44.794639Z"
    },
    "papermill": {
     "duration": 0.05318,
     "end_time": "2021-02-09T15:21:44.795435",
     "exception": false,
     "start_time": "2021-02-09T15:21:44.742255",
     "status": "completed"
    },
    "tags": []
   },
   "outputs": [
    {
     "data": {
      "text/plain": [
       "['age', 'trestbps', 'chol', 'thalach', 'oldpeak']"
      ]
     },
     "execution_count": 10,
     "metadata": {},
     "output_type": "execute_result"
    }
   ],
   "source": [
    "final_cols = cols\n",
    "final_cols = list(final_cols)\n",
    "final_cols.remove('ca')\n",
    "final_cols.remove('cp')\n",
    "final_cols.remove('exang')\n",
    "final_cols.remove('fbs')\n",
    "final_cols.remove('restecg')\n",
    "final_cols.remove('sex')\n",
    "final_cols.remove('slope')\n",
    "final_cols.remove('target')\n",
    "final_cols.remove('thal')\n",
    "final_cols"
   ]
  },
  {
   "cell_type": "markdown",
   "metadata": {
    "papermill": {
     "duration": 0.042099,
     "end_time": "2021-02-09T15:21:44.878406",
     "exception": false,
     "start_time": "2021-02-09T15:21:44.836307",
     "status": "completed"
    },
    "tags": []
   },
   "source": [
    "We have dropped the columns with categorical columns.This is because when we do feature engineering we will be repacing the numerical column Zero values with the mean values.This is not needed for the columns with categorical variables."
   ]
  },
  {
   "cell_type": "markdown",
   "metadata": {
    "papermill": {
     "duration": 0.040954,
     "end_time": "2021-02-09T15:21:44.960036",
     "exception": false,
     "start_time": "2021-02-09T15:21:44.919082",
     "status": "completed"
    },
    "tags": []
   },
   "source": [
    "### Creating Feature of Matrix"
   ]
  },
  {
   "cell_type": "code",
   "execution_count": 11,
   "metadata": {
    "_kg_hide-input": true,
    "execution": {
     "iopub.execute_input": "2021-02-09T15:21:45.052663Z",
     "iopub.status.busy": "2021-02-09T15:21:45.051881Z",
     "iopub.status.idle": "2021-02-09T15:21:45.056423Z",
     "shell.execute_reply": "2021-02-09T15:21:45.055433Z"
    },
    "papermill": {
     "duration": 0.055992,
     "end_time": "2021-02-09T15:21:45.056614",
     "exception": false,
     "start_time": "2021-02-09T15:21:45.000622",
     "status": "completed"
    },
    "tags": []
   },
   "outputs": [
    {
     "data": {
      "text/plain": [
       "1    165\n",
       "0    138\n",
       "Name: target, dtype: int64"
      ]
     },
     "execution_count": 11,
     "metadata": {},
     "output_type": "execute_result"
    }
   ],
   "source": [
    "X = data.drop('target',axis=1) #predictor feature columns\n",
    "y = data.target\n",
    "y.value_counts()"
   ]
  },
  {
   "cell_type": "markdown",
   "metadata": {
    "papermill": {
     "duration": 0.040879,
     "end_time": "2021-02-09T15:21:45.138746",
     "exception": false,
     "start_time": "2021-02-09T15:21:45.097867",
     "status": "completed"
    },
    "tags": []
   },
   "source": [
    "We can see that the dataset is unbalanced.First we will balance the dataset.Balancing data set is a good approach to improve the accuracy of the machine learning model."
   ]
  },
  {
   "cell_type": "markdown",
   "metadata": {
    "papermill": {
     "duration": 0.04077,
     "end_time": "2021-02-09T15:21:45.220807",
     "exception": false,
     "start_time": "2021-02-09T15:21:45.180037",
     "status": "completed"
    },
    "tags": []
   },
   "source": [
    "### Balancing Dataset"
   ]
  },
  {
   "cell_type": "code",
   "execution_count": 12,
   "metadata": {
    "_kg_hide-input": true,
    "execution": {
     "iopub.execute_input": "2021-02-09T15:21:45.309005Z",
     "iopub.status.busy": "2021-02-09T15:21:45.308121Z",
     "iopub.status.idle": "2021-02-09T15:21:45.480780Z",
     "shell.execute_reply": "2021-02-09T15:21:45.480210Z"
    },
    "papermill": {
     "duration": 0.21889,
     "end_time": "2021-02-09T15:21:45.480933",
     "exception": false,
     "start_time": "2021-02-09T15:21:45.262043",
     "status": "completed"
    },
    "tags": []
   },
   "outputs": [
    {
     "data": {
      "text/plain": [
       "0    165\n",
       "1    165\n",
       "Name: target, dtype: int64"
      ]
     },
     "execution_count": 12,
     "metadata": {},
     "output_type": "execute_result"
    }
   ],
   "source": [
    "from imblearn.over_sampling import SMOTE\n",
    "sm = SMOTE(random_state=42)\n",
    "X_res_OS , Y_res_OS = sm.fit_resample(X,y)\n",
    "pd.Series(Y_res_OS).value_counts()"
   ]
  },
  {
   "cell_type": "markdown",
   "metadata": {
    "papermill": {
     "duration": 0.041139,
     "end_time": "2021-02-09T15:21:45.564005",
     "exception": false,
     "start_time": "2021-02-09T15:21:45.522866",
     "status": "completed"
    },
    "tags": []
   },
   "source": [
    "### Converting Numpy Arrays into Dataframe"
   ]
  },
  {
   "cell_type": "code",
   "execution_count": 13,
   "metadata": {
    "_kg_hide-input": true,
    "execution": {
     "iopub.execute_input": "2021-02-09T15:21:45.650579Z",
     "iopub.status.busy": "2021-02-09T15:21:45.649907Z",
     "iopub.status.idle": "2021-02-09T15:21:45.656600Z",
     "shell.execute_reply": "2021-02-09T15:21:45.657082Z"
    },
    "papermill": {
     "duration": 0.05167,
     "end_time": "2021-02-09T15:21:45.657275",
     "exception": false,
     "start_time": "2021-02-09T15:21:45.605605",
     "status": "completed"
    },
    "tags": []
   },
   "outputs": [],
   "source": [
    "X_res_OS = pd.DataFrame(X_res_OS,columns=['age', 'sex', 'cp', 'trestbps', 'chol', 'fbs', 'restecg', 'thalach',\n",
    "       'exang', 'oldpeak', 'slope', 'ca', 'thal'])\n",
    "Y_res_OS = pd.DataFrame(Y_res_OS,columns=['target'])"
   ]
  },
  {
   "cell_type": "markdown",
   "metadata": {
    "papermill": {
     "duration": 0.041393,
     "end_time": "2021-02-09T15:21:45.740535",
     "exception": false,
     "start_time": "2021-02-09T15:21:45.699142",
     "status": "completed"
    },
    "tags": []
   },
   "source": [
    "### Test Train Split "
   ]
  },
  {
   "cell_type": "code",
   "execution_count": 14,
   "metadata": {
    "_kg_hide-input": true,
    "execution": {
     "iopub.execute_input": "2021-02-09T15:21:45.828845Z",
     "iopub.status.busy": "2021-02-09T15:21:45.828098Z",
     "iopub.status.idle": "2021-02-09T15:21:45.838167Z",
     "shell.execute_reply": "2021-02-09T15:21:45.838711Z"
    },
    "papermill": {
     "duration": 0.055666,
     "end_time": "2021-02-09T15:21:45.838899",
     "exception": false,
     "start_time": "2021-02-09T15:21:45.783233",
     "status": "completed"
    },
    "tags": []
   },
   "outputs": [
    {
     "name": "stdout",
     "output_type": "stream",
     "text": [
      "Training Set : 297\n",
      "Test Set : 33\n",
      "Training labels : 297\n",
      "Test labels : 33\n"
     ]
    }
   ],
   "source": [
    "X_train,X_test,y_train,y_test = train_test_split(X_res_OS,Y_res_OS,test_size = 0.1,random_state=10)\n",
    "print('Training Set :',len(X_train))\n",
    "print('Test Set :',len(X_test))\n",
    "print('Training labels :',len(y_train))\n",
    "print('Test labels :',len(y_test))"
   ]
  },
  {
   "cell_type": "markdown",
   "metadata": {
    "papermill": {
     "duration": 0.041631,
     "end_time": "2021-02-09T15:21:45.923251",
     "exception": false,
     "start_time": "2021-02-09T15:21:45.881620",
     "status": "completed"
    },
    "tags": []
   },
   "source": [
    "The number of rows of data is very low in the dataset.This may not be sufficient to build a good model.Let us see how our model works out."
   ]
  },
  {
   "cell_type": "markdown",
   "metadata": {
    "papermill": {
     "duration": 0.041716,
     "end_time": "2021-02-09T15:21:46.006851",
     "exception": false,
     "start_time": "2021-02-09T15:21:45.965135",
     "status": "completed"
    },
    "tags": []
   },
   "source": [
    "### Replacing all the ZEROS with Mean of the Column"
   ]
  },
  {
   "cell_type": "code",
   "execution_count": 15,
   "metadata": {
    "_kg_hide-input": true,
    "execution": {
     "iopub.execute_input": "2021-02-09T15:21:46.096946Z",
     "iopub.status.busy": "2021-02-09T15:21:46.096056Z",
     "iopub.status.idle": "2021-02-09T15:21:46.100432Z",
     "shell.execute_reply": "2021-02-09T15:21:46.099848Z"
    },
    "papermill": {
     "duration": 0.051673,
     "end_time": "2021-02-09T15:21:46.100593",
     "exception": false,
     "start_time": "2021-02-09T15:21:46.048920",
     "status": "completed"
    },
    "tags": []
   },
   "outputs": [
    {
     "data": {
      "text/plain": [
       "['age', 'trestbps', 'chol', 'thalach', 'oldpeak']"
      ]
     },
     "execution_count": 15,
     "metadata": {},
     "output_type": "execute_result"
    }
   ],
   "source": [
    "final_cols"
   ]
  },
  {
   "cell_type": "code",
   "execution_count": 16,
   "metadata": {
    "_kg_hide-input": true,
    "execution": {
     "iopub.execute_input": "2021-02-09T15:21:46.189217Z",
     "iopub.status.busy": "2021-02-09T15:21:46.188611Z",
     "iopub.status.idle": "2021-02-09T15:21:46.211023Z",
     "shell.execute_reply": "2021-02-09T15:21:46.210441Z"
    },
    "papermill": {
     "duration": 0.068183,
     "end_time": "2021-02-09T15:21:46.211161",
     "exception": false,
     "start_time": "2021-02-09T15:21:46.142978",
     "status": "completed"
    },
    "tags": []
   },
   "outputs": [],
   "source": [
    "from sklearn.impute import SimpleImputer \n",
    "fill = SimpleImputer(missing_values=np.nan, strategy='mean')\n",
    "\n",
    "X_train = fill.fit_transform(X_train[final_cols])\n",
    "X_test = fill.fit_transform(X_test[final_cols])"
   ]
  },
  {
   "cell_type": "markdown",
   "metadata": {
    "papermill": {
     "duration": 0.043156,
     "end_time": "2021-02-09T15:21:46.297368",
     "exception": false,
     "start_time": "2021-02-09T15:21:46.254212",
     "status": "completed"
    },
    "tags": []
   },
   "source": [
    "# 3.Machine Learning Model Built"
   ]
  },
  {
   "cell_type": "markdown",
   "metadata": {
    "papermill": {
     "duration": 0.042931,
     "end_time": "2021-02-09T15:21:46.383383",
     "exception": false,
     "start_time": "2021-02-09T15:21:46.340452",
     "status": "completed"
    },
    "tags": []
   },
   "source": [
    "### Importing Modules"
   ]
  },
  {
   "cell_type": "code",
   "execution_count": 17,
   "metadata": {
    "_kg_hide-input": true,
    "execution": {
     "iopub.execute_input": "2021-02-09T15:21:46.476110Z",
     "iopub.status.busy": "2021-02-09T15:21:46.475430Z",
     "iopub.status.idle": "2021-02-09T15:21:46.563982Z",
     "shell.execute_reply": "2021-02-09T15:21:46.563246Z"
    },
    "papermill": {
     "duration": 0.136888,
     "end_time": "2021-02-09T15:21:46.564137",
     "exception": false,
     "start_time": "2021-02-09T15:21:46.427249",
     "status": "completed"
    },
    "tags": []
   },
   "outputs": [],
   "source": [
    "from sklearn.datasets import make_classification\n",
    "import numpy as np\n",
    "from sklearn.ensemble import RandomForestClassifier\n",
    "from sklearn.naive_bayes import GaussianNB"
   ]
  },
  {
   "cell_type": "markdown",
   "metadata": {
    "papermill": {
     "duration": 0.043107,
     "end_time": "2021-02-09T15:21:46.650677",
     "exception": false,
     "start_time": "2021-02-09T15:21:46.607570",
     "status": "completed"
    },
    "tags": []
   },
   "source": [
    "### Random Forest "
   ]
  },
  {
   "cell_type": "code",
   "execution_count": 18,
   "metadata": {
    "_kg_hide-input": true,
    "execution": {
     "iopub.execute_input": "2021-02-09T15:21:46.760919Z",
     "iopub.status.busy": "2021-02-09T15:21:46.755677Z",
     "iopub.status.idle": "2021-02-09T15:21:47.888605Z",
     "shell.execute_reply": "2021-02-09T15:21:47.888002Z"
    },
    "papermill": {
     "duration": 1.194644,
     "end_time": "2021-02-09T15:21:47.888769",
     "exception": false,
     "start_time": "2021-02-09T15:21:46.694125",
     "status": "completed"
    },
    "tags": []
   },
   "outputs": [
    {
     "data": {
      "text/plain": [
       "RandomForestClassifier(max_features=5, n_estimators=500)"
      ]
     },
     "execution_count": 18,
     "metadata": {},
     "output_type": "execute_result"
    }
   ],
   "source": [
    "rf = RandomForestClassifier(max_features=5, n_estimators=500)\n",
    "rf.fit(X_train, y_train)"
   ]
  },
  {
   "cell_type": "markdown",
   "metadata": {
    "papermill": {
     "duration": 0.0434,
     "end_time": "2021-02-09T15:21:47.975884",
     "exception": false,
     "start_time": "2021-02-09T15:21:47.932484",
     "status": "completed"
    },
    "tags": []
   },
   "source": [
    "### Naive Bayes"
   ]
  },
  {
   "cell_type": "code",
   "execution_count": 19,
   "metadata": {
    "_kg_hide-input": true,
    "execution": {
     "iopub.execute_input": "2021-02-09T15:21:48.066946Z",
     "iopub.status.busy": "2021-02-09T15:21:48.065895Z",
     "iopub.status.idle": "2021-02-09T15:21:48.074147Z",
     "shell.execute_reply": "2021-02-09T15:21:48.073597Z"
    },
    "papermill": {
     "duration": 0.055019,
     "end_time": "2021-02-09T15:21:48.074304",
     "exception": false,
     "start_time": "2021-02-09T15:21:48.019285",
     "status": "completed"
    },
    "tags": []
   },
   "outputs": [
    {
     "data": {
      "text/plain": [
       "GaussianNB()"
      ]
     },
     "execution_count": 19,
     "metadata": {},
     "output_type": "execute_result"
    }
   ],
   "source": [
    "nb = GaussianNB()\n",
    "nb.fit(X_train, y_train)"
   ]
  },
  {
   "cell_type": "markdown",
   "metadata": {
    "papermill": {
     "duration": 0.043698,
     "end_time": "2021-02-09T15:21:48.161878",
     "exception": false,
     "start_time": "2021-02-09T15:21:48.118180",
     "status": "completed"
    },
    "tags": []
   },
   "source": [
    "### Predicting Probabilities "
   ]
  },
  {
   "cell_type": "code",
   "execution_count": 20,
   "metadata": {
    "_kg_hide-input": true,
    "execution": {
     "iopub.execute_input": "2021-02-09T15:21:48.257922Z",
     "iopub.status.busy": "2021-02-09T15:21:48.257241Z",
     "iopub.status.idle": "2021-02-09T15:21:48.303179Z",
     "shell.execute_reply": "2021-02-09T15:21:48.303821Z"
    },
    "papermill": {
     "duration": 0.098275,
     "end_time": "2021-02-09T15:21:48.304017",
     "exception": false,
     "start_time": "2021-02-09T15:21:48.205742",
     "status": "completed"
    },
    "tags": []
   },
   "outputs": [],
   "source": [
    "r_probs = [0 for _ in range(len(y_test))]\n",
    "rf_probs = rf.predict_proba(X_test)\n",
    "nb_probs = nb.predict_proba(X_test)"
   ]
  },
  {
   "cell_type": "markdown",
   "metadata": {
    "papermill": {
     "duration": 0.043663,
     "end_time": "2021-02-09T15:21:48.392428",
     "exception": false,
     "start_time": "2021-02-09T15:21:48.348765",
     "status": "completed"
    },
    "tags": []
   },
   "source": [
    "We have kept Probabilities for the Positive Outcome is Kept."
   ]
  },
  {
   "cell_type": "code",
   "execution_count": 21,
   "metadata": {
    "_kg_hide-input": true,
    "execution": {
     "iopub.execute_input": "2021-02-09T15:21:48.484321Z",
     "iopub.status.busy": "2021-02-09T15:21:48.483607Z",
     "iopub.status.idle": "2021-02-09T15:21:48.489012Z",
     "shell.execute_reply": "2021-02-09T15:21:48.488394Z"
    },
    "papermill": {
     "duration": 0.052837,
     "end_time": "2021-02-09T15:21:48.489171",
     "exception": false,
     "start_time": "2021-02-09T15:21:48.436334",
     "status": "completed"
    },
    "tags": []
   },
   "outputs": [],
   "source": [
    "rf_probs = rf_probs[:, 1]\n",
    "nb_probs = nb_probs[:, 1]"
   ]
  },
  {
   "cell_type": "markdown",
   "metadata": {
    "papermill": {
     "duration": 0.044427,
     "end_time": "2021-02-09T15:21:48.577982",
     "exception": false,
     "start_time": "2021-02-09T15:21:48.533555",
     "status": "completed"
    },
    "tags": []
   },
   "source": [
    "# 4.Model Comparsion with ROC Curve "
   ]
  },
  {
   "cell_type": "markdown",
   "metadata": {
    "papermill": {
     "duration": 0.044609,
     "end_time": "2021-02-09T15:21:48.666796",
     "exception": false,
     "start_time": "2021-02-09T15:21:48.622187",
     "status": "completed"
    },
    "tags": []
   },
   "source": [
    "### What is ROC Curve?\n",
    "\n",
    "ROC curve is a plot of False Positive Rate with the True Positive Rate \n",
    "\n",
    "$TPR(Sensitivity) = \\frac{TP}{TP + FN}$\n",
    "\n",
    "$FPR (1 - Specificity) = \\frac{FP}{TN + FP}$        "
   ]
  },
  {
   "cell_type": "markdown",
   "metadata": {
    "papermill": {
     "duration": 0.044053,
     "end_time": "2021-02-09T15:21:48.755089",
     "exception": false,
     "start_time": "2021-02-09T15:21:48.711036",
     "status": "completed"
    },
    "tags": []
   },
   "source": [
    "### Computing AUROC and ROC curve values"
   ]
  },
  {
   "cell_type": "code",
   "execution_count": 22,
   "metadata": {
    "_kg_hide-input": true,
    "execution": {
     "iopub.execute_input": "2021-02-09T15:21:48.849742Z",
     "iopub.status.busy": "2021-02-09T15:21:48.849056Z",
     "iopub.status.idle": "2021-02-09T15:21:48.851306Z",
     "shell.execute_reply": "2021-02-09T15:21:48.851846Z"
    },
    "papermill": {
     "duration": 0.052377,
     "end_time": "2021-02-09T15:21:48.852014",
     "exception": false,
     "start_time": "2021-02-09T15:21:48.799637",
     "status": "completed"
    },
    "tags": []
   },
   "outputs": [],
   "source": [
    "from sklearn.metrics import roc_curve, roc_auc_score"
   ]
  },
  {
   "cell_type": "code",
   "execution_count": 23,
   "metadata": {
    "_kg_hide-input": true,
    "execution": {
     "iopub.execute_input": "2021-02-09T15:21:48.946179Z",
     "iopub.status.busy": "2021-02-09T15:21:48.945508Z",
     "iopub.status.idle": "2021-02-09T15:21:48.960433Z",
     "shell.execute_reply": "2021-02-09T15:21:48.961002Z"
    },
    "papermill": {
     "duration": 0.062961,
     "end_time": "2021-02-09T15:21:48.961190",
     "exception": false,
     "start_time": "2021-02-09T15:21:48.898229",
     "status": "completed"
    },
    "tags": []
   },
   "outputs": [],
   "source": [
    "r_auc = roc_auc_score(y_test, r_probs)\n",
    "rf_auc = roc_auc_score(y_test, rf_probs)\n",
    "nb_auc = roc_auc_score(y_test, nb_probs)"
   ]
  },
  {
   "cell_type": "markdown",
   "metadata": {
    "papermill": {
     "duration": 0.044035,
     "end_time": "2021-02-09T15:21:49.049484",
     "exception": false,
     "start_time": "2021-02-09T15:21:49.005449",
     "status": "completed"
    },
    "tags": []
   },
   "source": [
    "### Printing AUC Scores "
   ]
  },
  {
   "cell_type": "code",
   "execution_count": 24,
   "metadata": {
    "_kg_hide-input": true,
    "execution": {
     "iopub.execute_input": "2021-02-09T15:21:49.141943Z",
     "iopub.status.busy": "2021-02-09T15:21:49.141207Z",
     "iopub.status.idle": "2021-02-09T15:21:49.147813Z",
     "shell.execute_reply": "2021-02-09T15:21:49.148562Z"
    },
    "papermill": {
     "duration": 0.054569,
     "end_time": "2021-02-09T15:21:49.148834",
     "exception": false,
     "start_time": "2021-02-09T15:21:49.094265",
     "status": "completed"
    },
    "tags": []
   },
   "outputs": [
    {
     "name": "stdout",
     "output_type": "stream",
     "text": [
      "Random (chance) Prediction: AUROC = 0.500\n",
      "Random Forest: AUROC = 0.823\n",
      "Naive Bayes: AUROC = 0.812\n"
     ]
    }
   ],
   "source": [
    "print('Random (chance) Prediction: AUROC = %.3f' % (r_auc))\n",
    "print('Random Forest: AUROC = %.3f' % (rf_auc))\n",
    "print('Naive Bayes: AUROC = %.3f' % (nb_auc))"
   ]
  },
  {
   "cell_type": "markdown",
   "metadata": {
    "papermill": {
     "duration": 0.044458,
     "end_time": "2021-02-09T15:21:49.238834",
     "exception": false,
     "start_time": "2021-02-09T15:21:49.194376",
     "status": "completed"
    },
    "tags": []
   },
   "source": [
    "### Calculate ROC curve"
   ]
  },
  {
   "cell_type": "code",
   "execution_count": 25,
   "metadata": {
    "_kg_hide-input": true,
    "execution": {
     "iopub.execute_input": "2021-02-09T15:21:49.336309Z",
     "iopub.status.busy": "2021-02-09T15:21:49.334563Z",
     "iopub.status.idle": "2021-02-09T15:21:49.338696Z",
     "shell.execute_reply": "2021-02-09T15:21:49.339236Z"
    },
    "papermill": {
     "duration": 0.056008,
     "end_time": "2021-02-09T15:21:49.339421",
     "exception": false,
     "start_time": "2021-02-09T15:21:49.283413",
     "status": "completed"
    },
    "tags": []
   },
   "outputs": [],
   "source": [
    "r_fpr, r_tpr, _ = roc_curve(y_test, r_probs)\n",
    "rf_fpr, rf_tpr, _ = roc_curve(y_test, rf_probs)\n",
    "nb_fpr, nb_tpr, _ = roc_curve(y_test, nb_probs)"
   ]
  },
  {
   "cell_type": "markdown",
   "metadata": {
    "papermill": {
     "duration": 0.044729,
     "end_time": "2021-02-09T15:21:49.429672",
     "exception": false,
     "start_time": "2021-02-09T15:21:49.384943",
     "status": "completed"
    },
    "tags": []
   },
   "source": [
    "### Plotting ROC Curve "
   ]
  },
  {
   "cell_type": "code",
   "execution_count": 26,
   "metadata": {
    "_kg_hide-input": true,
    "execution": {
     "iopub.execute_input": "2021-02-09T15:21:49.524844Z",
     "iopub.status.busy": "2021-02-09T15:21:49.524092Z",
     "iopub.status.idle": "2021-02-09T15:21:49.759580Z",
     "shell.execute_reply": "2021-02-09T15:21:49.760112Z"
    },
    "papermill": {
     "duration": 0.285756,
     "end_time": "2021-02-09T15:21:49.760304",
     "exception": false,
     "start_time": "2021-02-09T15:21:49.474548",
     "status": "completed"
    },
    "tags": []
   },
   "outputs": [
    {
     "data": {
      "image/png": "[encoded data removed]",
      "text/plain": [
       "<Figure size 432x288 with 1 Axes>"
      ]
     },
     "metadata": {},
     "output_type": "display_data"
    }
   ],
   "source": [
    "import matplotlib.pyplot as plt\n",
    "plt.plot(r_fpr, r_tpr, linestyle='--', label='Random prediction (AUROC = %0.3f)' % r_auc)\n",
    "plt.plot(rf_fpr, rf_tpr, marker='.', label='Random Forest (AUROC = %0.3f)' % rf_auc)\n",
    "plt.plot(nb_fpr, nb_tpr, marker='.', label='Naive Bayes (AUROC = %0.3f)' % nb_auc)\n",
    "\n",
    "# Title\n",
    "plt.title('ROC Plot')\n",
    "# Axis labels\n",
    "plt.xlabel('False Positive Rate')\n",
    "plt.ylabel('True Positive Rate')\n",
    "# Show legend\n",
    "plt.legend() # \n",
    "# Show plot\n",
    "plt.show()"
   ]
  },
  {
   "cell_type": "markdown",
   "metadata": {
    "papermill": {
     "duration": 0.046528,
     "end_time": "2021-02-09T15:21:49.854167",
     "exception": false,
     "start_time": "2021-02-09T15:21:49.807639",
     "status": "completed"
    },
    "tags": []
   },
   "source": [
    "We ca see that the Random Forest Model Has Shightly Higher Value of AUC.So we can ay Random Fores Model Would perform better than the Naive Bayes Model for this particular Data Set."
   ]
  },
  {
   "cell_type": "markdown",
   "metadata": {
    "papermill": {
     "duration": 0.046738,
     "end_time": "2021-02-09T15:21:49.948871",
     "exception": false,
     "start_time": "2021-02-09T15:21:49.902133",
     "status": "completed"
    },
    "tags": []
   },
   "source": [
    "# 5.Conclusion \n",
    "\n",
    "1.We have imported and preprocessed the data set.We have handled the missing values which were in the form of Zeros.\n",
    "\n",
    "2.We have dropped some of the features as they wont have much influence on our model prediction.\n",
    "\n",
    "3.As the dataset was unbalanced we balanced the dataset by doing oversampling.This helps to improve the model accuracy.\n",
    "mode\n",
    "4.We have done the Heart Disease prediction using Random Forest and Naive Bayes algorithm.\n",
    "\n",
    "5.We plotted a ROC curve for our models and used the AUC value to arrive at he best model \n",
    "\n"
   ]
  }
 ],
 "metadata": {
  "kernelspec": {
   "display_name": "Python 3",
   "language": "python",
   "name": "python3"
  },
  "language_info": {
   "codemirror_mode": {
    "name": "ipython",
    "version": 3
   },
   "file_extension": ".py",
   "mimetype": "text/x-python",
   "name": "python",
   "nbconvert_exporter": "python",
   "pygments_lexer": "ipython3",
   "version": "3.7.9"
  },
  "papermill": {
   "default_parameters": {},
   "duration": 17.87007,
   "end_time": "2021-02-09T15:21:50.705282",
   "environment_variables": {},
   "exception": null,
   "input_path": "__notebook__.ipynb",
   "output_path": "__notebook__.ipynb",
   "parameters": {},
   "start_time": "2021-02-09T15:21:32.835212",
   "version": "2.2.2"
  }
 },
 "nbformat": 4,
 "nbformat_minor": 4
}
