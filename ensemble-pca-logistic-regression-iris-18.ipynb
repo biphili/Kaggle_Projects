{
 "cells": [
  {
   "cell_type": "markdown",
   "metadata": {
    "papermill": {
     "duration": 0.029743,
     "end_time": "2021-03-09T12:29:20.090328",
     "exception": false,
     "start_time": "2021-03-09T12:29:20.060585",
     "status": "completed"
    },
    "tags": []
   },
   "source": [
    "### Recently I published a self help book titled Inspiration: Thoughts on Spirituality, Technology, Wealth, Leadership and Motivation. The preview of the book can be read from the Amazon link https://lnkd.in/gj7bMQA\n",
    "\n",
    "### You can refer to my other notebooks from https://www.kaggle.com/binuthomasphilip/code\n"
   ]
  },
  {
   "cell_type": "markdown",
   "metadata": {
    "papermill": {
     "duration": 0.029622,
     "end_time": "2021-03-09T12:29:20.148367",
     "exception": false,
     "start_time": "2021-03-09T12:29:20.118745",
     "status": "completed"
    },
    "tags": []
   },
   "source": [
    "In this notebook we will discuss about dimensionality reduction.We will be using Principle Component Analysis for this.After we manage to reduce the dimensions in our dataset then we will make use of the reduced dimensions for making our predictions.In this notebook we will be covering following things.\n",
    "\n",
    "1.Data Import and Preprocessing\n",
    "\n",
    "2.Exploratory Data Analysis\n",
    "\n",
    "3.Principle Component Analysis\n",
    "\n",
    "4.Logistic Regression\n",
    "\n",
    "5.Model Evaluation\n",
    "\n",
    "6.Vizualisation of Predictions\n",
    "\n",
    "7.Conclusion"
   ]
  },
  {
   "cell_type": "code",
   "execution_count": 1,
   "metadata": {
    "_cell_guid": "b1076dfc-b9ad-4769-8c92-a6c4dae69d19",
    "_kg_hide-input": true,
    "_uuid": "8f2839f25d086af736a60e9eeb907d3b93b6e0e5",
    "execution": {
     "iopub.execute_input": "2021-03-09T12:29:20.210484Z",
     "iopub.status.busy": "2021-03-09T12:29:20.209790Z",
     "iopub.status.idle": "2021-03-09T12:29:20.227131Z",
     "shell.execute_reply": "2021-03-09T12:29:20.225784Z"
    },
    "papermill": {
     "duration": 0.049281,
     "end_time": "2021-03-09T12:29:20.227374",
     "exception": false,
     "start_time": "2021-03-09T12:29:20.178093",
     "status": "completed"
    },
    "tags": []
   },
   "outputs": [
    {
     "name": "stdout",
     "output_type": "stream",
     "text": [
      "/kaggle/input/iris/Iris.csv\n",
      "/kaggle/input/iris/database.sqlite\n"
     ]
    }
   ],
   "source": [
    "# This Python 3 environment comes with many helpful analytics libraries installed\n",
    "# It is defined by the kaggle/python Docker image: https://github.com/kaggle/docker-python\n",
    "# For example, here's several helpful packages to load\n",
    "\n",
    "import numpy as np # linear algebra\n",
    "import pandas as pd # data processing, CSV file I/O (e.g. pd.read_csv)\n",
    "\n",
    "# Input data files are available in the read-only \"../input/\" directory\n",
    "# For example, running this (by clicking run or pressing Shift+Enter) will list all files under the input directory\n",
    "\n",
    "import os\n",
    "for dirname, _, filenames in os.walk('/kaggle/input'):\n",
    "    for filename in filenames:\n",
    "        print(os.path.join(dirname, filename))\n",
    "\n",
    "# You can write up to 20GB to the current directory (/kaggle/working/) that gets preserved as output when you create a version using \"Save & Run All\" \n",
    "# You can also write temporary files to /kaggle/temp/, but they won't be saved outside of the current session"
   ]
  },
  {
   "cell_type": "markdown",
   "metadata": {
    "papermill": {
     "duration": 0.03165,
     "end_time": "2021-03-09T12:29:20.290202",
     "exception": false,
     "start_time": "2021-03-09T12:29:20.258552",
     "status": "completed"
    },
    "tags": []
   },
   "source": [
    "# 1.Data Import and Preprocessing"
   ]
  },
  {
   "cell_type": "markdown",
   "metadata": {
    "papermill": {
     "duration": 0.029425,
     "end_time": "2021-03-09T12:29:20.350437",
     "exception": false,
     "start_time": "2021-03-09T12:29:20.321012",
     "status": "completed"
    },
    "tags": []
   },
   "source": [
    "### Importing Python Modules"
   ]
  },
  {
   "cell_type": "code",
   "execution_count": 2,
   "metadata": {
    "_kg_hide-input": true,
    "execution": {
     "iopub.execute_input": "2021-03-09T12:29:20.415437Z",
     "iopub.status.busy": "2021-03-09T12:29:20.414749Z",
     "iopub.status.idle": "2021-03-09T12:29:20.420782Z",
     "shell.execute_reply": "2021-03-09T12:29:20.420027Z"
    },
    "papermill": {
     "duration": 0.040697,
     "end_time": "2021-03-09T12:29:20.421020",
     "exception": false,
     "start_time": "2021-03-09T12:29:20.380323",
     "status": "completed"
    },
    "tags": []
   },
   "outputs": [],
   "source": [
    "import numpy as np\n",
    "import matplotlib.pyplot as plt \n",
    "import pandas as pd \n",
    "import warnings\n",
    "warnings.filterwarnings('ignore')"
   ]
  },
  {
   "cell_type": "markdown",
   "metadata": {
    "papermill": {
     "duration": 0.030934,
     "end_time": "2021-03-09T12:29:20.483529",
     "exception": false,
     "start_time": "2021-03-09T12:29:20.452595",
     "status": "completed"
    },
    "tags": []
   },
   "source": [
    "### Importing dataset"
   ]
  },
  {
   "cell_type": "code",
   "execution_count": 3,
   "metadata": {
    "_kg_hide-input": true,
    "execution": {
     "iopub.execute_input": "2021-03-09T12:29:20.550410Z",
     "iopub.status.busy": "2021-03-09T12:29:20.549681Z",
     "iopub.status.idle": "2021-03-09T12:29:20.593090Z",
     "shell.execute_reply": "2021-03-09T12:29:20.592555Z"
    },
    "papermill": {
     "duration": 0.078788,
     "end_time": "2021-03-09T12:29:20.593244",
     "exception": false,
     "start_time": "2021-03-09T12:29:20.514456",
     "status": "completed"
    },
    "tags": []
   },
   "outputs": [
    {
     "data": {
      "text/html": [
       "<div>\n",
       "<style scoped>\n",
       "    .dataframe tbody tr th:only-of-type {\n",
       "        vertical-align: middle;\n",
       "    }\n",
       "\n",
       "    .dataframe tbody tr th {\n",
       "        vertical-align: top;\n",
       "    }\n",
       "\n",
       "    .dataframe thead th {\n",
       "        text-align: right;\n",
       "    }\n",
       "</style>\n",
       "<table border=\"1\" class=\"dataframe\">\n",
       "  <thead>\n",
       "    <tr style=\"text-align: right;\">\n",
       "      <th></th>\n",
       "      <th>Id</th>\n",
       "      <th>SepalLengthCm</th>\n",
       "      <th>SepalWidthCm</th>\n",
       "      <th>PetalLengthCm</th>\n",
       "      <th>PetalWidthCm</th>\n",
       "      <th>Species</th>\n",
       "    </tr>\n",
       "  </thead>\n",
       "  <tbody>\n",
       "    <tr>\n",
       "      <th>0</th>\n",
       "      <td>1</td>\n",
       "      <td>5.1</td>\n",
       "      <td>3.5</td>\n",
       "      <td>1.4</td>\n",
       "      <td>0.2</td>\n",
       "      <td>Iris-setosa</td>\n",
       "    </tr>\n",
       "    <tr>\n",
       "      <th>1</th>\n",
       "      <td>2</td>\n",
       "      <td>4.9</td>\n",
       "      <td>3.0</td>\n",
       "      <td>1.4</td>\n",
       "      <td>0.2</td>\n",
       "      <td>Iris-setosa</td>\n",
       "    </tr>\n",
       "  </tbody>\n",
       "</table>\n",
       "</div>"
      ],
      "text/plain": [
       "   Id  SepalLengthCm  SepalWidthCm  PetalLengthCm  PetalWidthCm      Species\n",
       "0   1            5.1           3.5            1.4           0.2  Iris-setosa\n",
       "1   2            4.9           3.0            1.4           0.2  Iris-setosa"
      ]
     },
     "execution_count": 3,
     "metadata": {},
     "output_type": "execute_result"
    }
   ],
   "source": [
    "df=pd.read_csv('../input/iris/Iris.csv')\n",
    "df.head(2)"
   ]
  },
  {
   "cell_type": "markdown",
   "metadata": {
    "papermill": {
     "duration": 0.030192,
     "end_time": "2021-03-09T12:29:20.653480",
     "exception": false,
     "start_time": "2021-03-09T12:29:20.623288",
     "status": "completed"
    },
    "tags": []
   },
   "source": [
    "We see there are names of the Iris Species in the data set.We will use label encoding to convert the Species Data into numeric data."
   ]
  },
  {
   "cell_type": "markdown",
   "metadata": {
    "papermill": {
     "duration": 0.029199,
     "end_time": "2021-03-09T12:29:20.713364",
     "exception": false,
     "start_time": "2021-03-09T12:29:20.684165",
     "status": "completed"
    },
    "tags": []
   },
   "source": [
    "### Dropping Column"
   ]
  },
  {
   "cell_type": "code",
   "execution_count": 4,
   "metadata": {
    "_kg_hide-input": true,
    "execution": {
     "iopub.execute_input": "2021-03-09T12:29:20.787479Z",
     "iopub.status.busy": "2021-03-09T12:29:20.786441Z",
     "iopub.status.idle": "2021-03-09T12:29:20.794047Z",
     "shell.execute_reply": "2021-03-09T12:29:20.795111Z"
    },
    "papermill": {
     "duration": 0.050531,
     "end_time": "2021-03-09T12:29:20.795408",
     "exception": false,
     "start_time": "2021-03-09T12:29:20.744877",
     "status": "completed"
    },
    "tags": []
   },
   "outputs": [
    {
     "data": {
      "text/html": [
       "<div>\n",
       "<style scoped>\n",
       "    .dataframe tbody tr th:only-of-type {\n",
       "        vertical-align: middle;\n",
       "    }\n",
       "\n",
       "    .dataframe tbody tr th {\n",
       "        vertical-align: top;\n",
       "    }\n",
       "\n",
       "    .dataframe thead th {\n",
       "        text-align: right;\n",
       "    }\n",
       "</style>\n",
       "<table border=\"1\" class=\"dataframe\">\n",
       "  <thead>\n",
       "    <tr style=\"text-align: right;\">\n",
       "      <th></th>\n",
       "      <th>SepalLengthCm</th>\n",
       "      <th>SepalWidthCm</th>\n",
       "      <th>PetalLengthCm</th>\n",
       "      <th>PetalWidthCm</th>\n",
       "      <th>Species</th>\n",
       "    </tr>\n",
       "  </thead>\n",
       "  <tbody>\n",
       "    <tr>\n",
       "      <th>0</th>\n",
       "      <td>5.1</td>\n",
       "      <td>3.5</td>\n",
       "      <td>1.4</td>\n",
       "      <td>0.2</td>\n",
       "      <td>Iris-setosa</td>\n",
       "    </tr>\n",
       "    <tr>\n",
       "      <th>1</th>\n",
       "      <td>4.9</td>\n",
       "      <td>3.0</td>\n",
       "      <td>1.4</td>\n",
       "      <td>0.2</td>\n",
       "      <td>Iris-setosa</td>\n",
       "    </tr>\n",
       "  </tbody>\n",
       "</table>\n",
       "</div>"
      ],
      "text/plain": [
       "   SepalLengthCm  SepalWidthCm  PetalLengthCm  PetalWidthCm      Species\n",
       "0            5.1           3.5            1.4           0.2  Iris-setosa\n",
       "1            4.9           3.0            1.4           0.2  Iris-setosa"
      ]
     },
     "execution_count": 4,
     "metadata": {},
     "output_type": "execute_result"
    }
   ],
   "source": [
    "df = df.drop('Id',axis=1)\n",
    "df.head(2)"
   ]
  },
  {
   "cell_type": "markdown",
   "metadata": {
    "papermill": {
     "duration": 0.033857,
     "end_time": "2021-03-09T12:29:20.864301",
     "exception": false,
     "start_time": "2021-03-09T12:29:20.830444",
     "status": "completed"
    },
    "tags": []
   },
   "source": [
    "The Column on Id wont have any impact on the class of the flower.So we can drop it."
   ]
  },
  {
   "cell_type": "code",
   "execution_count": 5,
   "metadata": {
    "_kg_hide-input": true,
    "execution": {
     "iopub.execute_input": "2021-03-09T12:29:20.930516Z",
     "iopub.status.busy": "2021-03-09T12:29:20.929777Z",
     "iopub.status.idle": "2021-03-09T12:29:20.939037Z",
     "shell.execute_reply": "2021-03-09T12:29:20.938346Z"
    },
    "papermill": {
     "duration": 0.044547,
     "end_time": "2021-03-09T12:29:20.939190",
     "exception": false,
     "start_time": "2021-03-09T12:29:20.894643",
     "status": "completed"
    },
    "tags": []
   },
   "outputs": [
    {
     "data": {
      "text/plain": [
       "array(['Iris-setosa', 'Iris-versicolor', 'Iris-virginica'], dtype=object)"
      ]
     },
     "execution_count": 5,
     "metadata": {},
     "output_type": "execute_result"
    }
   ],
   "source": [
    "df['Species'].unique()"
   ]
  },
  {
   "cell_type": "markdown",
   "metadata": {
    "papermill": {
     "duration": 0.032796,
     "end_time": "2021-03-09T12:29:21.004160",
     "exception": false,
     "start_time": "2021-03-09T12:29:20.971364",
     "status": "completed"
    },
    "tags": []
   },
   "source": [
    "### Label Encoding "
   ]
  },
  {
   "cell_type": "code",
   "execution_count": 6,
   "metadata": {
    "_kg_hide-input": true,
    "execution": {
     "iopub.execute_input": "2021-03-09T12:29:21.072911Z",
     "iopub.status.busy": "2021-03-09T12:29:21.072177Z",
     "iopub.status.idle": "2021-03-09T12:29:22.218401Z",
     "shell.execute_reply": "2021-03-09T12:29:22.217690Z"
    },
    "papermill": {
     "duration": 1.182597,
     "end_time": "2021-03-09T12:29:22.218554",
     "exception": false,
     "start_time": "2021-03-09T12:29:21.035957",
     "status": "completed"
    },
    "tags": []
   },
   "outputs": [
    {
     "data": {
      "text/plain": [
       "array([0, 1, 2])"
      ]
     },
     "execution_count": 6,
     "metadata": {},
     "output_type": "execute_result"
    }
   ],
   "source": [
    "from sklearn import preprocessing \n",
    "le = preprocessing.LabelEncoder() \n",
    "df['Species']= le.fit_transform(df['Species'])\n",
    "df['Species'].unique()"
   ]
  },
  {
   "cell_type": "markdown",
   "metadata": {
    "papermill": {
     "duration": 0.03114,
     "end_time": "2021-03-09T12:29:22.281743",
     "exception": false,
     "start_time": "2021-03-09T12:29:22.250603",
     "status": "completed"
    },
    "tags": []
   },
   "source": [
    "So we have converted the Species column into numeric data."
   ]
  },
  {
   "cell_type": "markdown",
   "metadata": {
    "papermill": {
     "duration": 0.033453,
     "end_time": "2021-03-09T12:29:22.347916",
     "exception": false,
     "start_time": "2021-03-09T12:29:22.314463",
     "status": "completed"
    },
    "tags": []
   },
   "source": [
    "### Creating matrix of features"
   ]
  },
  {
   "cell_type": "code",
   "execution_count": 7,
   "metadata": {
    "_kg_hide-input": true,
    "execution": {
     "iopub.execute_input": "2021-03-09T12:29:22.420903Z",
     "iopub.status.busy": "2021-03-09T12:29:22.419889Z",
     "iopub.status.idle": "2021-03-09T12:29:22.423488Z",
     "shell.execute_reply": "2021-03-09T12:29:22.424161Z"
    },
    "papermill": {
     "duration": 0.04354,
     "end_time": "2021-03-09T12:29:22.424341",
     "exception": false,
     "start_time": "2021-03-09T12:29:22.380801",
     "status": "completed"
    },
    "tags": []
   },
   "outputs": [],
   "source": [
    "X=df.iloc[:,0:4].values\n",
    "y=df.iloc[:,4].values\n",
    "#X"
   ]
  },
  {
   "cell_type": "markdown",
   "metadata": {
    "papermill": {
     "duration": 0.032095,
     "end_time": "2021-03-09T12:29:22.488502",
     "exception": false,
     "start_time": "2021-03-09T12:29:22.456407",
     "status": "completed"
    },
    "tags": []
   },
   "source": [
    "### Splitting data into test train"
   ]
  },
  {
   "cell_type": "code",
   "execution_count": 8,
   "metadata": {
    "_kg_hide-input": true,
    "execution": {
     "iopub.execute_input": "2021-03-09T12:29:22.560000Z",
     "iopub.status.busy": "2021-03-09T12:29:22.559129Z",
     "iopub.status.idle": "2021-03-09T12:29:22.638134Z",
     "shell.execute_reply": "2021-03-09T12:29:22.635605Z"
    },
    "papermill": {
     "duration": 0.117724,
     "end_time": "2021-03-09T12:29:22.638375",
     "exception": false,
     "start_time": "2021-03-09T12:29:22.520651",
     "status": "completed"
    },
    "tags": []
   },
   "outputs": [],
   "source": [
    "from sklearn.model_selection import train_test_split   #cross_validation doesnt work any more\n",
    "X_train,X_test,y_train,y_test=train_test_split(X,y,test_size=0.2,random_state=0) \n",
    "#X_train"
   ]
  },
  {
   "cell_type": "markdown",
   "metadata": {
    "papermill": {
     "duration": 0.032719,
     "end_time": "2021-03-09T12:29:22.705988",
     "exception": false,
     "start_time": "2021-03-09T12:29:22.673269",
     "status": "completed"
    },
    "tags": []
   },
   "source": [
    "### Feature Scaling"
   ]
  },
  {
   "cell_type": "code",
   "execution_count": 9,
   "metadata": {
    "_kg_hide-input": true,
    "execution": {
     "iopub.execute_input": "2021-03-09T12:29:22.780096Z",
     "iopub.status.busy": "2021-03-09T12:29:22.779098Z",
     "iopub.status.idle": "2021-03-09T12:29:22.782324Z",
     "shell.execute_reply": "2021-03-09T12:29:22.781685Z"
    },
    "papermill": {
     "duration": 0.044777,
     "end_time": "2021-03-09T12:29:22.782467",
     "exception": false,
     "start_time": "2021-03-09T12:29:22.737690",
     "status": "completed"
    },
    "tags": []
   },
   "outputs": [],
   "source": [
    "from sklearn.preprocessing import StandardScaler \n",
    "sc_X=StandardScaler()\n",
    "X_train=sc_X.fit_transform(X_train)\n",
    "X_test=sc_X.fit_transform(X_test)\n",
    "#X_train"
   ]
  },
  {
   "cell_type": "markdown",
   "metadata": {
    "papermill": {
     "duration": 0.032967,
     "end_time": "2021-03-09T12:29:22.848620",
     "exception": false,
     "start_time": "2021-03-09T12:29:22.815653",
     "status": "completed"
    },
    "tags": []
   },
   "source": [
    "### Shape Of Data "
   ]
  },
  {
   "cell_type": "code",
   "execution_count": 10,
   "metadata": {
    "_kg_hide-input": true,
    "execution": {
     "iopub.execute_input": "2021-03-09T12:29:22.919261Z",
     "iopub.status.busy": "2021-03-09T12:29:22.918428Z",
     "iopub.status.idle": "2021-03-09T12:29:22.921909Z",
     "shell.execute_reply": "2021-03-09T12:29:22.922445Z"
    },
    "papermill": {
     "duration": 0.041621,
     "end_time": "2021-03-09T12:29:22.922626",
     "exception": false,
     "start_time": "2021-03-09T12:29:22.881005",
     "status": "completed"
    },
    "tags": []
   },
   "outputs": [
    {
     "data": {
      "text/plain": [
       "(120, 4)"
      ]
     },
     "execution_count": 10,
     "metadata": {},
     "output_type": "execute_result"
    }
   ],
   "source": [
    "X_train.shape"
   ]
  },
  {
   "cell_type": "markdown",
   "metadata": {
    "papermill": {
     "duration": 0.032519,
     "end_time": "2021-03-09T12:29:22.990485",
     "exception": false,
     "start_time": "2021-03-09T12:29:22.957966",
     "status": "completed"
    },
    "tags": []
   },
   "source": [
    "# 2.Exploratory Data Analysis "
   ]
  },
  {
   "cell_type": "markdown",
   "metadata": {
    "papermill": {
     "duration": 0.032232,
     "end_time": "2021-03-09T12:29:23.056153",
     "exception": false,
     "start_time": "2021-03-09T12:29:23.023921",
     "status": "completed"
    },
    "tags": []
   },
   "source": [
    "# 3.Principle Component Analysis"
   ]
  },
  {
   "cell_type": "code",
   "execution_count": 11,
   "metadata": {
    "_kg_hide-input": true,
    "execution": {
     "iopub.execute_input": "2021-03-09T12:29:23.128202Z",
     "iopub.status.busy": "2021-03-09T12:29:23.127375Z",
     "iopub.status.idle": "2021-03-09T12:29:23.301967Z",
     "shell.execute_reply": "2021-03-09T12:29:23.301340Z"
    },
    "papermill": {
     "duration": 0.212393,
     "end_time": "2021-03-09T12:29:23.302131",
     "exception": false,
     "start_time": "2021-03-09T12:29:23.089738",
     "status": "completed"
    },
    "tags": []
   },
   "outputs": [],
   "source": [
    "from sklearn.decomposition import PCA\n",
    "pca=PCA(n_components=None)\n",
    "X_train=pca.fit_transform(X_train)\n",
    "X_test=pca.transform(X_test)\n",
    "explained_variance=pca.explained_variance_ratio_"
   ]
  },
  {
   "cell_type": "code",
   "execution_count": 12,
   "metadata": {
    "_kg_hide-input": true,
    "execution": {
     "iopub.execute_input": "2021-03-09T12:29:23.376322Z",
     "iopub.status.busy": "2021-03-09T12:29:23.375626Z",
     "iopub.status.idle": "2021-03-09T12:29:23.378896Z",
     "shell.execute_reply": "2021-03-09T12:29:23.379347Z"
    },
    "papermill": {
     "duration": 0.042796,
     "end_time": "2021-03-09T12:29:23.379533",
     "exception": false,
     "start_time": "2021-03-09T12:29:23.336737",
     "status": "completed"
    },
    "tags": []
   },
   "outputs": [
    {
     "data": {
      "text/plain": [
       "array([0.72226528, 0.23974795, 0.03338117, 0.0046056 ])"
      ]
     },
     "execution_count": 12,
     "metadata": {},
     "output_type": "execute_result"
    }
   ],
   "source": [
    "explained_variance"
   ]
  },
  {
   "cell_type": "markdown",
   "metadata": {
    "papermill": {
     "duration": 0.036296,
     "end_time": "2021-03-09T12:29:23.449164",
     "exception": false,
     "start_time": "2021-03-09T12:29:23.412868",
     "status": "completed"
    },
    "tags": []
   },
   "source": [
    "We see that the the first two principal components 0.36 +0.19 = 0.55 .So we will consider the first two components."
   ]
  },
  {
   "cell_type": "markdown",
   "metadata": {
    "papermill": {
     "duration": 0.034571,
     "end_time": "2021-03-09T12:29:23.518972",
     "exception": false,
     "start_time": "2021-03-09T12:29:23.484401",
     "status": "completed"
    },
    "tags": []
   },
   "source": [
    "### Scores"
   ]
  },
  {
   "cell_type": "code",
   "execution_count": 13,
   "metadata": {
    "_kg_hide-input": true,
    "execution": {
     "iopub.execute_input": "2021-03-09T12:29:23.589224Z",
     "iopub.status.busy": "2021-03-09T12:29:23.588524Z",
     "iopub.status.idle": "2021-03-09T12:29:23.600938Z",
     "shell.execute_reply": "2021-03-09T12:29:23.601404Z"
    },
    "papermill": {
     "duration": 0.049476,
     "end_time": "2021-03-09T12:29:23.601603",
     "exception": false,
     "start_time": "2021-03-09T12:29:23.552127",
     "status": "completed"
    },
    "tags": []
   },
   "outputs": [
    {
     "data": {
      "text/html": [
       "<div>\n",
       "<style scoped>\n",
       "    .dataframe tbody tr th:only-of-type {\n",
       "        vertical-align: middle;\n",
       "    }\n",
       "\n",
       "    .dataframe tbody tr th {\n",
       "        vertical-align: top;\n",
       "    }\n",
       "\n",
       "    .dataframe thead th {\n",
       "        text-align: right;\n",
       "    }\n",
       "</style>\n",
       "<table border=\"1\" class=\"dataframe\">\n",
       "  <thead>\n",
       "    <tr style=\"text-align: right;\">\n",
       "      <th></th>\n",
       "      <th>PC1</th>\n",
       "      <th>PC2</th>\n",
       "      <th>PC3</th>\n",
       "      <th>PC4</th>\n",
       "    </tr>\n",
       "  </thead>\n",
       "  <tbody>\n",
       "    <tr>\n",
       "      <th>0</th>\n",
       "      <td>1.272282</td>\n",
       "      <td>0.357879</td>\n",
       "      <td>0.180337</td>\n",
       "      <td>-0.218684</td>\n",
       "    </tr>\n",
       "    <tr>\n",
       "      <th>1</th>\n",
       "      <td>0.152232</td>\n",
       "      <td>-0.299835</td>\n",
       "      <td>0.657130</td>\n",
       "      <td>-0.249321</td>\n",
       "    </tr>\n",
       "  </tbody>\n",
       "</table>\n",
       "</div>"
      ],
      "text/plain": [
       "        PC1       PC2       PC3       PC4\n",
       "0  1.272282  0.357879  0.180337 -0.218684\n",
       "1  0.152232 -0.299835  0.657130 -0.249321"
      ]
     },
     "execution_count": 13,
     "metadata": {},
     "output_type": "execute_result"
    }
   ],
   "source": [
    "scores = X_train \n",
    "scores_df = pd.DataFrame(scores,columns=['PC1','PC2','PC3','PC4'])\n",
    "scores_df.head(2)"
   ]
  },
  {
   "cell_type": "markdown",
   "metadata": {
    "papermill": {
     "duration": 0.044184,
     "end_time": "2021-03-09T12:29:23.685660",
     "exception": false,
     "start_time": "2021-03-09T12:29:23.641476",
     "status": "completed"
    },
    "tags": []
   },
   "source": [
    "### Calling DataDrame Variables"
   ]
  },
  {
   "cell_type": "code",
   "execution_count": 14,
   "metadata": {
    "_kg_hide-input": true,
    "execution": {
     "iopub.execute_input": "2021-03-09T12:29:23.772516Z",
     "iopub.status.busy": "2021-03-09T12:29:23.771798Z",
     "iopub.status.idle": "2021-03-09T12:29:23.785297Z",
     "shell.execute_reply": "2021-03-09T12:29:23.784259Z"
    },
    "papermill": {
     "duration": 0.060464,
     "end_time": "2021-03-09T12:29:23.785551",
     "exception": false,
     "start_time": "2021-03-09T12:29:23.725087",
     "status": "completed"
    },
    "tags": []
   },
   "outputs": [
    {
     "data": {
      "text/plain": [
       "0    1.272282\n",
       "1    0.152232\n",
       "Name: PC1, dtype: float64"
      ]
     },
     "execution_count": 14,
     "metadata": {},
     "output_type": "execute_result"
    }
   ],
   "source": [
    "scores_df['PC1'].head(2)"
   ]
  },
  {
   "cell_type": "markdown",
   "metadata": {
    "papermill": {
     "duration": 0.034726,
     "end_time": "2021-03-09T12:29:23.868358",
     "exception": false,
     "start_time": "2021-03-09T12:29:23.833632",
     "status": "completed"
    },
    "tags": []
   },
   "source": [
    "### Labeling the Dataframe"
   ]
  },
  {
   "cell_type": "code",
   "execution_count": 15,
   "metadata": {
    "_kg_hide-input": true,
    "execution": {
     "iopub.execute_input": "2021-03-09T12:29:23.941192Z",
     "iopub.status.busy": "2021-03-09T12:29:23.940194Z",
     "iopub.status.idle": "2021-03-09T12:29:23.958295Z",
     "shell.execute_reply": "2021-03-09T12:29:23.957624Z"
    },
    "papermill": {
     "duration": 0.055468,
     "end_time": "2021-03-09T12:29:23.958440",
     "exception": false,
     "start_time": "2021-03-09T12:29:23.902972",
     "status": "completed"
    },
    "tags": []
   },
   "outputs": [
    {
     "data": {
      "text/html": [
       "<div>\n",
       "<style scoped>\n",
       "    .dataframe tbody tr th:only-of-type {\n",
       "        vertical-align: middle;\n",
       "    }\n",
       "\n",
       "    .dataframe tbody tr th {\n",
       "        vertical-align: top;\n",
       "    }\n",
       "\n",
       "    .dataframe thead th {\n",
       "        text-align: right;\n",
       "    }\n",
       "</style>\n",
       "<table border=\"1\" class=\"dataframe\">\n",
       "  <thead>\n",
       "    <tr style=\"text-align: right;\">\n",
       "      <th></th>\n",
       "      <th>PC1</th>\n",
       "      <th>PC2</th>\n",
       "      <th>PC3</th>\n",
       "      <th>PC4</th>\n",
       "      <th>Species</th>\n",
       "    </tr>\n",
       "  </thead>\n",
       "  <tbody>\n",
       "    <tr>\n",
       "      <th>0</th>\n",
       "      <td>1.272282</td>\n",
       "      <td>0.357879</td>\n",
       "      <td>0.180337</td>\n",
       "      <td>-0.218684</td>\n",
       "      <td>Setosa</td>\n",
       "    </tr>\n",
       "    <tr>\n",
       "      <th>1</th>\n",
       "      <td>0.152232</td>\n",
       "      <td>-0.299835</td>\n",
       "      <td>0.657130</td>\n",
       "      <td>-0.249321</td>\n",
       "      <td>Setosa</td>\n",
       "    </tr>\n",
       "    <tr>\n",
       "      <th>2</th>\n",
       "      <td>-2.187642</td>\n",
       "      <td>0.617154</td>\n",
       "      <td>-0.180887</td>\n",
       "      <td>0.003670</td>\n",
       "      <td>Setosa</td>\n",
       "    </tr>\n",
       "    <tr>\n",
       "      <th>3</th>\n",
       "      <td>0.941913</td>\n",
       "      <td>0.012181</td>\n",
       "      <td>0.329616</td>\n",
       "      <td>-0.012393</td>\n",
       "      <td>Setosa</td>\n",
       "    </tr>\n",
       "    <tr>\n",
       "      <th>4</th>\n",
       "      <td>1.762278</td>\n",
       "      <td>-0.271066</td>\n",
       "      <td>0.336679</td>\n",
       "      <td>0.092995</td>\n",
       "      <td>Setosa</td>\n",
       "    </tr>\n",
       "  </tbody>\n",
       "</table>\n",
       "</div>"
      ],
      "text/plain": [
       "        PC1       PC2       PC3       PC4 Species\n",
       "0  1.272282  0.357879  0.180337 -0.218684  Setosa\n",
       "1  0.152232 -0.299835  0.657130 -0.249321  Setosa\n",
       "2 -2.187642  0.617154 -0.180887  0.003670  Setosa\n",
       "3  0.941913  0.012181  0.329616 -0.012393  Setosa\n",
       "4  1.762278 -0.271066  0.336679  0.092995  Setosa"
      ]
     },
     "execution_count": 15,
     "metadata": {},
     "output_type": "execute_result"
    }
   ],
   "source": [
    "y_label = []\n",
    "\n",
    "for i in y:\n",
    "    if i == 0:\n",
    "        y_label.append(\"Setosa\")\n",
    "    elif i == 1:\n",
    "        y_label.append(\"Versicolor\")\n",
    "    else:\n",
    "        y_label.append(\"Virginica\")\n",
    "        \n",
    "Wines = pd.DataFrame(y_label,columns=['Species'])\n",
    "\n",
    "df_scores = pd.concat([scores_df,Wines],axis=1)\n",
    "df_scores.head()"
   ]
  },
  {
   "cell_type": "markdown",
   "metadata": {
    "papermill": {
     "duration": 0.03719,
     "end_time": "2021-03-09T12:29:24.032266",
     "exception": false,
     "start_time": "2021-03-09T12:29:23.995076",
     "status": "completed"
    },
    "tags": []
   },
   "source": [
    "### Explained Variance Ratio "
   ]
  },
  {
   "cell_type": "code",
   "execution_count": 16,
   "metadata": {
    "_kg_hide-input": true,
    "execution": {
     "iopub.execute_input": "2021-03-09T12:29:24.112935Z",
     "iopub.status.busy": "2021-03-09T12:29:24.112083Z",
     "iopub.status.idle": "2021-03-09T12:29:24.117730Z",
     "shell.execute_reply": "2021-03-09T12:29:24.117182Z"
    },
    "papermill": {
     "duration": 0.049455,
     "end_time": "2021-03-09T12:29:24.117906",
     "exception": false,
     "start_time": "2021-03-09T12:29:24.068451",
     "status": "completed"
    },
    "tags": []
   },
   "outputs": [
    {
     "data": {
      "text/plain": [
       "array([0.72226528, 0.23974795])"
      ]
     },
     "execution_count": 16,
     "metadata": {},
     "output_type": "execute_result"
    }
   ],
   "source": [
    "from sklearn.decomposition import PCA\n",
    "pca=PCA(n_components=2)\n",
    "X_train=pca.fit_transform(X_train)\n",
    "X_test=pca.transform(X_test)\n",
    "explained_variance=pca.explained_variance_ratio_\n",
    "pca.explained_variance_ratio_"
   ]
  },
  {
   "cell_type": "code",
   "execution_count": 17,
   "metadata": {
    "_kg_hide-input": true,
    "_kg_hide-output": true,
    "execution": {
     "iopub.execute_input": "2021-03-09T12:29:24.196027Z",
     "iopub.status.busy": "2021-03-09T12:29:24.195179Z",
     "iopub.status.idle": "2021-03-09T12:29:24.200745Z",
     "shell.execute_reply": "2021-03-09T12:29:24.199946Z"
    },
    "papermill": {
     "duration": 0.048083,
     "end_time": "2021-03-09T12:29:24.200940",
     "exception": false,
     "start_time": "2021-03-09T12:29:24.152857",
     "status": "completed"
    },
    "tags": []
   },
   "outputs": [
    {
     "data": {
      "text/plain": [
       "array([[1., 0., 0., 0.],\n",
       "       [0., 1., 0., 0.],\n",
       "       [0., 0., 1., 0.],\n",
       "       [0., 0., 0., 1.]])"
      ]
     },
     "execution_count": 17,
     "metadata": {},
     "output_type": "execute_result"
    }
   ],
   "source": [
    "np.identity(X.shape[1])"
   ]
  },
  {
   "cell_type": "code",
   "execution_count": 18,
   "metadata": {
    "_kg_hide-input": true,
    "execution": {
     "iopub.execute_input": "2021-03-09T12:29:24.279521Z",
     "iopub.status.busy": "2021-03-09T12:29:24.278828Z",
     "iopub.status.idle": "2021-03-09T12:29:24.284626Z",
     "shell.execute_reply": "2021-03-09T12:29:24.283914Z"
    },
    "papermill": {
     "duration": 0.045857,
     "end_time": "2021-03-09T12:29:24.284800",
     "exception": false,
     "start_time": "2021-03-09T12:29:24.238943",
     "status": "completed"
    },
    "tags": []
   },
   "outputs": [],
   "source": [
    "components=pca.transform(np.identity(X.shape[1]))"
   ]
  },
  {
   "cell_type": "code",
   "execution_count": 19,
   "metadata": {
    "_kg_hide-input": true,
    "execution": {
     "iopub.execute_input": "2021-03-09T12:29:24.361176Z",
     "iopub.status.busy": "2021-03-09T12:29:24.360463Z",
     "iopub.status.idle": "2021-03-09T12:29:24.367640Z",
     "shell.execute_reply": "2021-03-09T12:29:24.366970Z"
    },
    "papermill": {
     "duration": 0.045994,
     "end_time": "2021-03-09T12:29:24.367811",
     "exception": false,
     "start_time": "2021-03-09T12:29:24.321817",
     "status": "completed"
    },
    "tags": []
   },
   "outputs": [
    {
     "data": {
      "text/plain": [
       "Index(['SepalLengthCm', 'SepalWidthCm', 'PetalLengthCm', 'PetalWidthCm',\n",
       "       'Species'],\n",
       "      dtype='object')"
      ]
     },
     "execution_count": 19,
     "metadata": {},
     "output_type": "execute_result"
    }
   ],
   "source": [
    "df.columns"
   ]
  },
  {
   "cell_type": "code",
   "execution_count": 20,
   "metadata": {
    "_kg_hide-input": true,
    "execution": {
     "iopub.execute_input": "2021-03-09T12:29:24.445692Z",
     "iopub.status.busy": "2021-03-09T12:29:24.445060Z",
     "iopub.status.idle": "2021-03-09T12:29:24.456667Z",
     "shell.execute_reply": "2021-03-09T12:29:24.457161Z"
    },
    "papermill": {
     "duration": 0.051956,
     "end_time": "2021-03-09T12:29:24.457343",
     "exception": false,
     "start_time": "2021-03-09T12:29:24.405387",
     "status": "completed"
    },
    "tags": []
   },
   "outputs": [
    {
     "data": {
      "text/html": [
       "<div>\n",
       "<style scoped>\n",
       "    .dataframe tbody tr th:only-of-type {\n",
       "        vertical-align: middle;\n",
       "    }\n",
       "\n",
       "    .dataframe tbody tr th {\n",
       "        vertical-align: top;\n",
       "    }\n",
       "\n",
       "    .dataframe thead th {\n",
       "        text-align: right;\n",
       "    }\n",
       "</style>\n",
       "<table border=\"1\" class=\"dataframe\">\n",
       "  <thead>\n",
       "    <tr style=\"text-align: right;\">\n",
       "      <th></th>\n",
       "      <th>pc_1</th>\n",
       "      <th>pc_2</th>\n",
       "    </tr>\n",
       "  </thead>\n",
       "  <tbody>\n",
       "    <tr>\n",
       "      <th>SepalLengthCm</th>\n",
       "      <td>1.000000e+00</td>\n",
       "      <td>1.480297e-17</td>\n",
       "    </tr>\n",
       "    <tr>\n",
       "      <th>SepalWidthCm</th>\n",
       "      <td>4.810966e-17</td>\n",
       "      <td>1.000000e+00</td>\n",
       "    </tr>\n",
       "    <tr>\n",
       "      <th>PetalLengthCm</th>\n",
       "      <td>4.810966e-17</td>\n",
       "      <td>-3.182639e-16</td>\n",
       "    </tr>\n",
       "    <tr>\n",
       "      <th>PetalWidthCm</th>\n",
       "      <td>4.810966e-17</td>\n",
       "      <td>1.258253e-16</td>\n",
       "    </tr>\n",
       "  </tbody>\n",
       "</table>\n",
       "</div>"
      ],
      "text/plain": [
       "                       pc_1          pc_2\n",
       "SepalLengthCm  1.000000e+00  1.480297e-17\n",
       "SepalWidthCm   4.810966e-17  1.000000e+00\n",
       "PetalLengthCm  4.810966e-17 -3.182639e-16\n",
       "PetalWidthCm   4.810966e-17  1.258253e-16"
      ]
     },
     "execution_count": 20,
     "metadata": {},
     "output_type": "execute_result"
    }
   ],
   "source": [
    "pd.DataFrame(components,columns=['pc_1','pc_2'],index=['SepalLengthCm', 'SepalWidthCm', 'PetalLengthCm', 'PetalWidthCm'])"
   ]
  },
  {
   "cell_type": "markdown",
   "metadata": {
    "papermill": {
     "duration": 0.036061,
     "end_time": "2021-03-09T12:29:24.529896",
     "exception": false,
     "start_time": "2021-03-09T12:29:24.493835",
     "status": "completed"
    },
    "tags": []
   },
   "source": [
    "# 4.Logistic Regression"
   ]
  },
  {
   "cell_type": "code",
   "execution_count": 21,
   "metadata": {
    "_kg_hide-input": true,
    "execution": {
     "iopub.execute_input": "2021-03-09T12:29:24.610285Z",
     "iopub.status.busy": "2021-03-09T12:29:24.609405Z",
     "iopub.status.idle": "2021-03-09T12:29:24.631828Z",
     "shell.execute_reply": "2021-03-09T12:29:24.631236Z"
    },
    "papermill": {
     "duration": 0.062182,
     "end_time": "2021-03-09T12:29:24.632055",
     "exception": false,
     "start_time": "2021-03-09T12:29:24.569873",
     "status": "completed"
    },
    "tags": []
   },
   "outputs": [
    {
     "data": {
      "text/plain": [
       "LogisticRegression(random_state=0)"
      ]
     },
     "execution_count": 21,
     "metadata": {},
     "output_type": "execute_result"
    }
   ],
   "source": [
    "from sklearn.linear_model import LogisticRegression\n",
    "classifier=LogisticRegression(random_state=0)\n",
    "classifier.fit(X_train,y_train)"
   ]
  },
  {
   "cell_type": "markdown",
   "metadata": {
    "papermill": {
     "duration": 0.039272,
     "end_time": "2021-03-09T12:29:24.712072",
     "exception": false,
     "start_time": "2021-03-09T12:29:24.672800",
     "status": "completed"
    },
    "tags": []
   },
   "source": [
    "### Predicting the test set results"
   ]
  },
  {
   "cell_type": "code",
   "execution_count": 22,
   "metadata": {
    "_kg_hide-input": true,
    "execution": {
     "iopub.execute_input": "2021-03-09T12:29:24.793155Z",
     "iopub.status.busy": "2021-03-09T12:29:24.792128Z",
     "iopub.status.idle": "2021-03-09T12:29:24.795536Z",
     "shell.execute_reply": "2021-03-09T12:29:24.794868Z"
    },
    "papermill": {
     "duration": 0.04622,
     "end_time": "2021-03-09T12:29:24.795687",
     "exception": false,
     "start_time": "2021-03-09T12:29:24.749467",
     "status": "completed"
    },
    "tags": []
   },
   "outputs": [],
   "source": [
    "y_pred=classifier.predict(X_test)"
   ]
  },
  {
   "cell_type": "markdown",
   "metadata": {
    "papermill": {
     "duration": 0.038026,
     "end_time": "2021-03-09T12:29:24.872296",
     "exception": false,
     "start_time": "2021-03-09T12:29:24.834270",
     "status": "completed"
    },
    "tags": []
   },
   "source": [
    "# 5.Model Evaluation"
   ]
  },
  {
   "cell_type": "markdown",
   "metadata": {
    "papermill": {
     "duration": 0.037384,
     "end_time": "2021-03-09T12:29:24.948062",
     "exception": false,
     "start_time": "2021-03-09T12:29:24.910678",
     "status": "completed"
    },
    "tags": []
   },
   "source": [
    "### Confusion Matrix"
   ]
  },
  {
   "cell_type": "code",
   "execution_count": 23,
   "metadata": {
    "_kg_hide-input": true,
    "execution": {
     "iopub.execute_input": "2021-03-09T12:29:25.044644Z",
     "iopub.status.busy": "2021-03-09T12:29:25.043644Z",
     "iopub.status.idle": "2021-03-09T12:29:25.471520Z",
     "shell.execute_reply": "2021-03-09T12:29:25.470968Z"
    },
    "papermill": {
     "duration": 0.485272,
     "end_time": "2021-03-09T12:29:25.471675",
     "exception": false,
     "start_time": "2021-03-09T12:29:24.986403",
     "status": "completed"
    },
    "tags": []
   },
   "outputs": [
    {
     "data": {
      "image/png": "[encoded data removed]",
      "text/plain": [
       "<Figure size 360x360 with 2 Axes>"
      ]
     },
     "metadata": {
      "needs_background": "light"
     },
     "output_type": "display_data"
    }
   ],
   "source": [
    "from sklearn.metrics import confusion_matrix  #Class has capital at the begining function starts with small letters \n",
    "cm=confusion_matrix(y_test,y_pred)\n",
    "import seaborn as sns\n",
    "import matplotlib.pyplot as plt\n",
    "f, ax = plt.subplots(figsize =(5,5))\n",
    "sns.heatmap(cm,annot = True,linewidths=0.5,linecolor=\"red\",fmt = \".0f\",ax=ax)\n",
    "plt.title(\"Test for Test Dataset\")\n",
    "plt.xlabel(\"predicted y values\")\n",
    "plt.ylabel(\"real y values\")\n",
    "plt.show()"
   ]
  },
  {
   "cell_type": "markdown",
   "metadata": {
    "papermill": {
     "duration": 0.043163,
     "end_time": "2021-03-09T12:29:25.553227",
     "exception": false,
     "start_time": "2021-03-09T12:29:25.510064",
     "status": "completed"
    },
    "tags": []
   },
   "source": [
    "### Classification Report"
   ]
  },
  {
   "cell_type": "code",
   "execution_count": 24,
   "metadata": {
    "_kg_hide-input": true,
    "execution": {
     "iopub.execute_input": "2021-03-09T12:29:25.643346Z",
     "iopub.status.busy": "2021-03-09T12:29:25.641392Z",
     "iopub.status.idle": "2021-03-09T12:29:25.652874Z",
     "shell.execute_reply": "2021-03-09T12:29:25.653368Z"
    },
    "papermill": {
     "duration": 0.05915,
     "end_time": "2021-03-09T12:29:25.653559",
     "exception": false,
     "start_time": "2021-03-09T12:29:25.594409",
     "status": "completed"
    },
    "tags": []
   },
   "outputs": [
    {
     "name": "stdout",
     "output_type": "stream",
     "text": [
      "              precision    recall  f1-score   support\n",
      "\n",
      "           0       1.00      1.00      1.00        11\n",
      "           1       1.00      0.46      0.63        13\n",
      "           2       0.46      1.00      0.63         6\n",
      "\n",
      "    accuracy                           0.77        30\n",
      "   macro avg       0.82      0.82      0.75        30\n",
      "weighted avg       0.89      0.77      0.77        30\n",
      "\n"
     ]
    }
   ],
   "source": [
    "from sklearn.metrics import confusion_matrix,classification_report,accuracy_score\n",
    "print(classification_report(y_test,y_pred))"
   ]
  },
  {
   "cell_type": "markdown",
   "metadata": {
    "papermill": {
     "duration": 0.038895,
     "end_time": "2021-03-09T12:29:25.732301",
     "exception": false,
     "start_time": "2021-03-09T12:29:25.693406",
     "status": "completed"
    },
    "tags": []
   },
   "source": [
    "### Accuracy Score"
   ]
  },
  {
   "cell_type": "code",
   "execution_count": 25,
   "metadata": {
    "_kg_hide-input": true,
    "execution": {
     "iopub.execute_input": "2021-03-09T12:29:25.820874Z",
     "iopub.status.busy": "2021-03-09T12:29:25.820056Z",
     "iopub.status.idle": "2021-03-09T12:29:25.825450Z",
     "shell.execute_reply": "2021-03-09T12:29:25.824659Z"
    },
    "papermill": {
     "duration": 0.05351,
     "end_time": "2021-03-09T12:29:25.825611",
     "exception": false,
     "start_time": "2021-03-09T12:29:25.772101",
     "status": "completed"
    },
    "tags": []
   },
   "outputs": [
    {
     "name": "stdout",
     "output_type": "stream",
     "text": [
      "0.7666666666666667\n"
     ]
    }
   ],
   "source": [
    "print(accuracy_score(y_test,y_pred))"
   ]
  },
  {
   "cell_type": "markdown",
   "metadata": {
    "papermill": {
     "duration": 0.040125,
     "end_time": "2021-03-09T12:29:25.908498",
     "exception": false,
     "start_time": "2021-03-09T12:29:25.868373",
     "status": "completed"
    },
    "tags": []
   },
   "source": [
    "# 6.Visualising the Prediction"
   ]
  },
  {
   "cell_type": "markdown",
   "metadata": {
    "papermill": {
     "duration": 0.039525,
     "end_time": "2021-03-09T12:29:25.987965",
     "exception": false,
     "start_time": "2021-03-09T12:29:25.948440",
     "status": "completed"
    },
    "tags": []
   },
   "source": [
    "### Vizualizing training set results"
   ]
  },
  {
   "cell_type": "code",
   "execution_count": 26,
   "metadata": {
    "_kg_hide-input": true,
    "execution": {
     "iopub.execute_input": "2021-03-09T12:29:26.076263Z",
     "iopub.status.busy": "2021-03-09T12:29:26.075538Z",
     "iopub.status.idle": "2021-03-09T12:29:26.470411Z",
     "shell.execute_reply": "2021-03-09T12:29:26.471390Z"
    },
    "papermill": {
     "duration": 0.444711,
     "end_time": "2021-03-09T12:29:26.471622",
     "exception": false,
     "start_time": "2021-03-09T12:29:26.026911",
     "status": "completed"
    },
    "tags": []
   },
   "outputs": [
    {
     "data": {
      "image/png": "[encoded data removed]",
      "text/plain": [
       "<Figure size 432x288 with 1 Axes>"
      ]
     },
     "metadata": {
      "needs_background": "light"
     },
     "output_type": "display_data"
    }
   ],
   "source": [
    "from matplotlib.colors import ListedColormap\n",
    "X_set,y_set=X_train,y_train\n",
    "X1,X2=np.meshgrid(np.arange(start=X_set[:,0].min()-1,stop=X_set[:,0].max()+1,step=0.01),\n",
    "                 np.arange(start=X_set[:,1].min()-1,stop=X_set[:,1].max()+1,step=0.01))\n",
    "plt.contourf(X1,X2,classifier.predict(np.array([X1.ravel(),X2.ravel()]).T).reshape(X1.shape),\n",
    "            alpha=0.75,cmap=ListedColormap(('red','green','blue')))\n",
    "plt.xlim(X1.min(),X1.max())\n",
    "plt.ylim(X2.min(),X2.max())\n",
    "for i,j in enumerate(np.unique(y_set)):\n",
    "    plt.scatter(X_set[y_set==j,0],X_set[y_set==j,1],\n",
    "               c=ListedColormap(('red','green','blue'))(i),label=j)\n",
    "plt.title('Logistic Regression (Training set)')\n",
    "plt.xlabel('PC1')\n",
    "plt.ylabel('PC2')\n",
    "plt.legend()\n",
    "plt.show()"
   ]
  },
  {
   "cell_type": "markdown",
   "metadata": {
    "papermill": {
     "duration": 0.043407,
     "end_time": "2021-03-09T12:29:26.556815",
     "exception": false,
     "start_time": "2021-03-09T12:29:26.513408",
     "status": "completed"
    },
    "tags": []
   },
   "source": [
    "### Vizualization of test set results"
   ]
  },
  {
   "cell_type": "code",
   "execution_count": 27,
   "metadata": {
    "_kg_hide-input": true,
    "execution": {
     "iopub.execute_input": "2021-03-09T12:29:26.650405Z",
     "iopub.status.busy": "2021-03-09T12:29:26.649682Z",
     "iopub.status.idle": "2021-03-09T12:29:26.981673Z",
     "shell.execute_reply": "2021-03-09T12:29:26.981015Z"
    },
    "papermill": {
     "duration": 0.383584,
     "end_time": "2021-03-09T12:29:26.981848",
     "exception": false,
     "start_time": "2021-03-09T12:29:26.598264",
     "status": "completed"
    },
    "tags": []
   },
   "outputs": [
    {
     "data": {
      "image/png": "[encoded data removed]",
      "text/plain": [
       "<Figure size 432x288 with 1 Axes>"
      ]
     },
     "metadata": {
      "needs_background": "light"
     },
     "output_type": "display_data"
    }
   ],
   "source": [
    "\n",
    "from matplotlib.colors import ListedColormap\n",
    "X_set,y_set=X_test,y_test\n",
    "X1,X2=np.meshgrid(np.arange(start=X_set[:,0].min()-1,stop=X_set[:,0].max()+1,step=0.01),\n",
    "                 np.arange(start=X_set[:,1].min()-1,stop=X_set[:,1].max()+1,step=0.01))\n",
    "plt.contourf(X1,X2,classifier.predict(np.array([X1.ravel(),X2.ravel()]).T).reshape(X1.shape),\n",
    "            alpha=0.75,cmap=ListedColormap(('red','green','blue')))\n",
    "plt.xlim(X1.min(),X1.max())\n",
    "plt.ylim(X2.min(),X2.max())\n",
    "for i,j in enumerate(np.unique(y_set)):\n",
    "    plt.scatter(X_set[y_set==j,0],X_set[y_set==j,1],\n",
    "               c=ListedColormap(('red','green','blue'))(i),label=j)\n",
    "plt.title('Logistic Regression (Training set)')\n",
    "plt.xlabel('PC1')\n",
    "plt.ylabel('PC2')\n",
    "plt.legend()\n",
    "plt.show()"
   ]
  },
  {
   "cell_type": "markdown",
   "metadata": {
    "papermill": {
     "duration": 0.04032,
     "end_time": "2021-03-09T12:29:27.063591",
     "exception": false,
     "start_time": "2021-03-09T12:29:27.023271",
     "status": "completed"
    },
    "tags": []
   },
   "source": [
    "# 6.Conclusion\n",
    "\n",
    "1.In this Notebook we have demonstrated how to reduce the dimentionality of Data using Principle Component Analyis\n",
    "\n",
    "2.Out of four features we have used two features to make our final Prediction using Logistic Regression\n",
    "\n",
    "3.This is just a demonstration on how to do ensembele machine learning using PCA + Logistic Regression \n",
    "\n",
    "4.This technique will be more useful when we have very high number of features in our data set."
   ]
  },
  {
   "cell_type": "markdown",
   "metadata": {
    "papermill": {
     "duration": 0.044122,
     "end_time": "2021-03-09T12:29:27.150111",
     "exception": false,
     "start_time": "2021-03-09T12:29:27.105989",
     "status": "completed"
    },
    "tags": []
   },
   "source": [
    "# TO BE CONTINUED"
   ]
  }
 ],
 "metadata": {
  "kernelspec": {
   "display_name": "Python 3",
   "language": "python",
   "name": "python3"
  },
  "language_info": {
   "codemirror_mode": {
    "name": "ipython",
    "version": 3
   },
   "file_extension": ".py",
   "mimetype": "text/x-python",
   "name": "python",
   "nbconvert_exporter": "python",
   "pygments_lexer": "ipython3",
   "version": "3.7.9"
  },
  "papermill": {
   "default_parameters": {},
   "duration": 14.227566,
   "end_time": "2021-03-09T12:29:27.902192",
   "environment_variables": {},
   "exception": null,
   "input_path": "__notebook__.ipynb",
   "output_path": "__notebook__.ipynb",
   "parameters": {},
   "start_time": "2021-03-09T12:29:13.674626",
   "version": "2.2.2"
  }
 },
 "nbformat": 4,
 "nbformat_minor": 4
}
