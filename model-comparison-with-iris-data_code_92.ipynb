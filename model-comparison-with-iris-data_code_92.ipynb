{
 "cells": [
  {
   "cell_type": "markdown",
   "metadata": {
    "papermill": {
     "duration": 0.013716,
     "end_time": "2021-01-28T06:35:24.351476",
     "exception": false,
     "start_time": "2021-01-28T06:35:24.337760",
     "status": "completed"
    },
    "tags": []
   },
   "source": [
    "# During the lockdown I published my first book titled Inspiration:Thoughts on Spirituality,Technology,Wealth,Leadership and Motivation.The preview of the book can be read from the Amazon link https://lnkd.in/gj7bMQA .\n",
    "# E Book is availabe for Rs 99 in India.Paperback Edition of the book is available on Amazon.com link https://lnkd.in/gkFYYMJ"
   ]
  },
  {
   "cell_type": "markdown",
   "metadata": {
    "papermill": {
     "duration": 0.012562,
     "end_time": "2021-01-28T06:35:24.376849",
     "exception": false,
     "start_time": "2021-01-28T06:35:24.364287",
     "status": "completed"
    },
    "tags": []
   },
   "source": [
    "Iris dataset is very popular machine learing dataset.Here we have data of three types of Iris plant Namely Iris Setosa,Iris versicolor and Iris Virginica.In this Note book we will be building machine learning algorithms to classify Iris plant based on the flower features.In this notebook we will be covering following topics\n",
    "\n",
    "1.Importing Data\n",
    "\n",
    "2.Data Preparation \n",
    "\n",
    "3.Model Build\n",
    "\n",
    "4.Analysis and Model Performance Comparision \n",
    "\n",
    "5.Conclusion\n",
    "\n",
    "\n",
    "If you like the notebook please do vote."
   ]
  },
  {
   "cell_type": "code",
   "execution_count": 1,
   "metadata": {
    "_cell_guid": "b1076dfc-b9ad-4769-8c92-a6c4dae69d19",
    "_kg_hide-input": true,
    "_uuid": "8f2839f25d086af736a60e9eeb907d3b93b6e0e5",
    "execution": {
     "iopub.execute_input": "2021-01-28T06:35:24.405922Z",
     "iopub.status.busy": "2021-01-28T06:35:24.404993Z",
     "iopub.status.idle": "2021-01-28T06:35:24.421224Z",
     "shell.execute_reply": "2021-01-28T06:35:24.421648Z"
    },
    "papermill": {
     "duration": 0.032627,
     "end_time": "2021-01-28T06:35:24.422027",
     "exception": false,
     "start_time": "2021-01-28T06:35:24.389400",
     "status": "completed"
    },
    "tags": []
   },
   "outputs": [
    {
     "name": "stdout",
     "output_type": "stream",
     "text": [
      "/kaggle/input/iris/Iris.csv\n",
      "/kaggle/input/iris/database.sqlite\n"
     ]
    }
   ],
   "source": [
    "# This Python 3 environment comes with many helpful analytics libraries installed\n",
    "# It is defined by the kaggle/python Docker image: https://github.com/kaggle/docker-python\n",
    "# For example, here's several helpful packages to load\n",
    "\n",
    "import numpy as np # linear algebra\n",
    "import pandas as pd # data processing, CSV file I/O (e.g. pd.read_csv)\n",
    "\n",
    "# Input data files are available in the read-only \"../input/\" directory\n",
    "# For example, running this (by clicking run or pressing Shift+Enter) will list all files under the input directory\n",
    "\n",
    "import os\n",
    "for dirname, _, filenames in os.walk('/kaggle/input'):\n",
    "    for filename in filenames:\n",
    "        print(os.path.join(dirname, filename))\n",
    "\n",
    "# You can write up to 20GB to the current directory (/kaggle/working/) that gets preserved as output when you create a version using \"Save & Run All\" \n",
    "# You can also write temporary files to /kaggle/temp/, but they won't be saved outside of the current session"
   ]
  },
  {
   "cell_type": "markdown",
   "metadata": {
    "papermill": {
     "duration": 0.012844,
     "end_time": "2021-01-28T06:35:24.449296",
     "exception": false,
     "start_time": "2021-01-28T06:35:24.436452",
     "status": "completed"
    },
    "tags": []
   },
   "source": [
    "## 1.Importing Data"
   ]
  },
  {
   "cell_type": "code",
   "execution_count": 2,
   "metadata": {
    "_kg_hide-input": true,
    "execution": {
     "iopub.execute_input": "2021-01-28T06:35:24.479380Z",
     "iopub.status.busy": "2021-01-28T06:35:24.478499Z",
     "iopub.status.idle": "2021-01-28T06:35:24.526258Z",
     "shell.execute_reply": "2021-01-28T06:35:24.526706Z"
    },
    "papermill": {
     "duration": 0.064534,
     "end_time": "2021-01-28T06:35:24.526931",
     "exception": false,
     "start_time": "2021-01-28T06:35:24.462397",
     "status": "completed"
    },
    "tags": []
   },
   "outputs": [
    {
     "data": {
      "text/html": [
       "<div>\n",
       "<style scoped>\n",
       "    .dataframe tbody tr th:only-of-type {\n",
       "        vertical-align: middle;\n",
       "    }\n",
       "\n",
       "    .dataframe tbody tr th {\n",
       "        vertical-align: top;\n",
       "    }\n",
       "\n",
       "    .dataframe thead th {\n",
       "        text-align: right;\n",
       "    }\n",
       "</style>\n",
       "<table border=\"1\" class=\"dataframe\">\n",
       "  <thead>\n",
       "    <tr style=\"text-align: right;\">\n",
       "      <th></th>\n",
       "      <th>Id</th>\n",
       "      <th>SepalLengthCm</th>\n",
       "      <th>SepalWidthCm</th>\n",
       "      <th>PetalLengthCm</th>\n",
       "      <th>PetalWidthCm</th>\n",
       "      <th>Species</th>\n",
       "    </tr>\n",
       "  </thead>\n",
       "  <tbody>\n",
       "    <tr>\n",
       "      <th>0</th>\n",
       "      <td>1</td>\n",
       "      <td>5.1</td>\n",
       "      <td>3.5</td>\n",
       "      <td>1.4</td>\n",
       "      <td>0.2</td>\n",
       "      <td>Iris-setosa</td>\n",
       "    </tr>\n",
       "    <tr>\n",
       "      <th>1</th>\n",
       "      <td>2</td>\n",
       "      <td>4.9</td>\n",
       "      <td>3.0</td>\n",
       "      <td>1.4</td>\n",
       "      <td>0.2</td>\n",
       "      <td>Iris-setosa</td>\n",
       "    </tr>\n",
       "    <tr>\n",
       "      <th>2</th>\n",
       "      <td>3</td>\n",
       "      <td>4.7</td>\n",
       "      <td>3.2</td>\n",
       "      <td>1.3</td>\n",
       "      <td>0.2</td>\n",
       "      <td>Iris-setosa</td>\n",
       "    </tr>\n",
       "    <tr>\n",
       "      <th>3</th>\n",
       "      <td>4</td>\n",
       "      <td>4.6</td>\n",
       "      <td>3.1</td>\n",
       "      <td>1.5</td>\n",
       "      <td>0.2</td>\n",
       "      <td>Iris-setosa</td>\n",
       "    </tr>\n",
       "    <tr>\n",
       "      <th>4</th>\n",
       "      <td>5</td>\n",
       "      <td>5.0</td>\n",
       "      <td>3.6</td>\n",
       "      <td>1.4</td>\n",
       "      <td>0.2</td>\n",
       "      <td>Iris-setosa</td>\n",
       "    </tr>\n",
       "  </tbody>\n",
       "</table>\n",
       "</div>"
      ],
      "text/plain": [
       "   Id  SepalLengthCm  SepalWidthCm  PetalLengthCm  PetalWidthCm      Species\n",
       "0   1            5.1           3.5            1.4           0.2  Iris-setosa\n",
       "1   2            4.9           3.0            1.4           0.2  Iris-setosa\n",
       "2   3            4.7           3.2            1.3           0.2  Iris-setosa\n",
       "3   4            4.6           3.1            1.5           0.2  Iris-setosa\n",
       "4   5            5.0           3.6            1.4           0.2  Iris-setosa"
      ]
     },
     "execution_count": 2,
     "metadata": {},
     "output_type": "execute_result"
    }
   ],
   "source": [
    "df = pd.read_csv(\"../input/iris/Iris.csv\")\n",
    "df.head()"
   ]
  },
  {
   "cell_type": "markdown",
   "metadata": {
    "papermill": {
     "duration": 0.013543,
     "end_time": "2021-01-28T06:35:24.554267",
     "exception": false,
     "start_time": "2021-01-28T06:35:24.540724",
     "status": "completed"
    },
    "tags": []
   },
   "source": [
    "## 2.Data Preparation "
   ]
  },
  {
   "cell_type": "markdown",
   "metadata": {
    "papermill": {
     "duration": 0.013463,
     "end_time": "2021-01-28T06:35:24.582264",
     "exception": false,
     "start_time": "2021-01-28T06:35:24.568801",
     "status": "completed"
    },
    "tags": []
   },
   "source": [
    "### Matrix of Features "
   ]
  },
  {
   "cell_type": "code",
   "execution_count": 3,
   "metadata": {
    "_kg_hide-input": true,
    "execution": {
     "iopub.execute_input": "2021-01-28T06:35:24.617773Z",
     "iopub.status.busy": "2021-01-28T06:35:24.617079Z",
     "iopub.status.idle": "2021-01-28T06:35:24.620155Z",
     "shell.execute_reply": "2021-01-28T06:35:24.619634Z"
    },
    "papermill": {
     "duration": 0.022441,
     "end_time": "2021-01-28T06:35:24.620300",
     "exception": false,
     "start_time": "2021-01-28T06:35:24.597859",
     "status": "completed"
    },
    "tags": []
   },
   "outputs": [],
   "source": [
    "X=df.iloc[:,[1,2,3,4]].values\n",
    "y=df.iloc[:,5].values"
   ]
  },
  {
   "cell_type": "markdown",
   "metadata": {
    "papermill": {
     "duration": 0.013542,
     "end_time": "2021-01-28T06:35:24.647605",
     "exception": false,
     "start_time": "2021-01-28T06:35:24.634063",
     "status": "completed"
    },
    "tags": []
   },
   "source": [
    "### Train Test Split"
   ]
  },
  {
   "cell_type": "code",
   "execution_count": 4,
   "metadata": {
    "_kg_hide-input": true,
    "execution": {
     "iopub.execute_input": "2021-01-28T06:35:24.681031Z",
     "iopub.status.busy": "2021-01-28T06:35:24.680356Z",
     "iopub.status.idle": "2021-01-28T06:35:25.580328Z",
     "shell.execute_reply": "2021-01-28T06:35:25.579349Z"
    },
    "papermill": {
     "duration": 0.918263,
     "end_time": "2021-01-28T06:35:25.580473",
     "exception": false,
     "start_time": "2021-01-28T06:35:24.662210",
     "status": "completed"
    },
    "tags": []
   },
   "outputs": [],
   "source": [
    "from sklearn.model_selection import train_test_split\n",
    "X_train, X_test, y_train, y_test = train_test_split(X,y,test_size=0.2,random_state= 10)"
   ]
  },
  {
   "cell_type": "markdown",
   "metadata": {
    "papermill": {
     "duration": 0.013281,
     "end_time": "2021-01-28T06:35:25.607472",
     "exception": false,
     "start_time": "2021-01-28T06:35:25.594191",
     "status": "completed"
    },
    "tags": []
   },
   "source": [
    "### Examining Dimension of Data"
   ]
  },
  {
   "cell_type": "code",
   "execution_count": 5,
   "metadata": {
    "_kg_hide-input": true,
    "execution": {
     "iopub.execute_input": "2021-01-28T06:35:25.640256Z",
     "iopub.status.busy": "2021-01-28T06:35:25.639584Z",
     "iopub.status.idle": "2021-01-28T06:35:25.643721Z",
     "shell.execute_reply": "2021-01-28T06:35:25.643121Z"
    },
    "papermill": {
     "duration": 0.022411,
     "end_time": "2021-01-28T06:35:25.643858",
     "exception": false,
     "start_time": "2021-01-28T06:35:25.621447",
     "status": "completed"
    },
    "tags": []
   },
   "outputs": [
    {
     "data": {
      "text/plain": [
       "((120, 4), (120,))"
      ]
     },
     "execution_count": 5,
     "metadata": {},
     "output_type": "execute_result"
    }
   ],
   "source": [
    "X_train.shape,y_train.shape"
   ]
  },
  {
   "cell_type": "code",
   "execution_count": 6,
   "metadata": {
    "_kg_hide-input": true,
    "execution": {
     "iopub.execute_input": "2021-01-28T06:35:25.676831Z",
     "iopub.status.busy": "2021-01-28T06:35:25.676198Z",
     "iopub.status.idle": "2021-01-28T06:35:25.680922Z",
     "shell.execute_reply": "2021-01-28T06:35:25.680456Z"
    },
    "papermill": {
     "duration": 0.023152,
     "end_time": "2021-01-28T06:35:25.681061",
     "exception": false,
     "start_time": "2021-01-28T06:35:25.657909",
     "status": "completed"
    },
    "tags": []
   },
   "outputs": [
    {
     "data": {
      "text/plain": [
       "((30, 4), (30,))"
      ]
     },
     "execution_count": 6,
     "metadata": {},
     "output_type": "execute_result"
    }
   ],
   "source": [
    "X_test.shape,y_test.shape"
   ]
  },
  {
   "cell_type": "markdown",
   "metadata": {
    "papermill": {
     "duration": 0.013901,
     "end_time": "2021-01-28T06:35:25.709545",
     "exception": false,
     "start_time": "2021-01-28T06:35:25.695644",
     "status": "completed"
    },
    "tags": []
   },
   "source": [
    "We can see that there are 150 rows of data.After train test split we have 120 rows of data in training set and 30 rows of data in the test set."
   ]
  },
  {
   "cell_type": "markdown",
   "metadata": {
    "papermill": {
     "duration": 0.013893,
     "end_time": "2021-01-28T06:35:25.737743",
     "exception": false,
     "start_time": "2021-01-28T06:35:25.723850",
     "status": "completed"
    },
    "tags": []
   },
   "source": [
    "## 3.Model Build "
   ]
  },
  {
   "cell_type": "markdown",
   "metadata": {
    "papermill": {
     "duration": 0.014756,
     "end_time": "2021-01-28T06:35:25.767373",
     "exception": false,
     "start_time": "2021-01-28T06:35:25.752617",
     "status": "completed"
    },
    "tags": []
   },
   "source": [
    "### Importing Modules"
   ]
  },
  {
   "cell_type": "code",
   "execution_count": 7,
   "metadata": {
    "_kg_hide-input": true,
    "execution": {
     "iopub.execute_input": "2021-01-28T06:35:25.802186Z",
     "iopub.status.busy": "2021-01-28T06:35:25.801477Z",
     "iopub.status.idle": "2021-01-28T06:35:26.099583Z",
     "shell.execute_reply": "2021-01-28T06:35:26.100070Z"
    },
    "papermill": {
     "duration": 0.318492,
     "end_time": "2021-01-28T06:35:26.100258",
     "exception": false,
     "start_time": "2021-01-28T06:35:25.781766",
     "status": "completed"
    },
    "tags": []
   },
   "outputs": [],
   "source": [
    "import pandas as pd\n",
    "from sklearn.neural_network import MLPClassifier\n",
    "from sklearn.neighbors import KNeighborsClassifier\n",
    "from sklearn.svm import SVC\n",
    "from sklearn.gaussian_process import GaussianProcessClassifier\n",
    "from sklearn.ensemble import GradientBoostingClassifier \n",
    "from sklearn.gaussian_process.kernels import RBF \n",
    "from sklearn.tree import DecisionTreeClassifier\n",
    "from sklearn.ensemble import ExtraTreesClassifier\n",
    "from sklearn.ensemble import RandomForestClassifier,AdaBoostClassifier\n",
    "from sklearn.naive_bayes import GaussianNB\n",
    "from sklearn.discriminant_analysis import QuadraticDiscriminantAnalysis\n",
    "from sklearn.linear_model import SGDClassifier"
   ]
  },
  {
   "cell_type": "markdown",
   "metadata": {
    "papermill": {
     "duration": 0.014184,
     "end_time": "2021-01-28T06:35:26.129101",
     "exception": false,
     "start_time": "2021-01-28T06:35:26.114917",
     "status": "completed"
    },
    "tags": []
   },
   "source": [
    "### Defining Learning Classifiers"
   ]
  },
  {
   "cell_type": "code",
   "execution_count": 8,
   "metadata": {
    "_kg_hide-input": true,
    "execution": {
     "iopub.execute_input": "2021-01-28T06:35:26.164116Z",
     "iopub.status.busy": "2021-01-28T06:35:26.163176Z",
     "iopub.status.idle": "2021-01-28T06:35:26.171226Z",
     "shell.execute_reply": "2021-01-28T06:35:26.170663Z"
    },
    "papermill": {
     "duration": 0.025413,
     "end_time": "2021-01-28T06:35:26.171367",
     "exception": false,
     "start_time": "2021-01-28T06:35:26.145954",
     "status": "completed"
    },
    "tags": []
   },
   "outputs": [],
   "source": [
    "names = ['Nearest_Neighbors','Linear_SVM','Polynomial_SVM','RBF_SVM','Gaussian_Process','Gradient_Boosting','Decision_Tree','Extra_Trees','Random_Forest','Neural_Net','AdaBoost','Naive_Bayes','QDA','SGD']\n",
    "\n",
    "classifiers = [\n",
    "    KNeighborsClassifier(3),\n",
    "    SVC(kernel='linear',C=0.025),\n",
    "    SVC(kernel='poly',degree=3,C=0.025),\n",
    "    SVC(kernel='rbf',C=1,gamma=2),\n",
    "    GaussianProcessClassifier(1.0*RBF(1.0)),\n",
    "    GradientBoostingClassifier(n_estimators=100,learning_rate=1.0),\n",
    "    DecisionTreeClassifier(max_depth=5),\n",
    "    ExtraTreesClassifier(n_estimators=10,min_samples_split=2),\n",
    "    RandomForestClassifier(max_depth=5,n_estimators=100),\n",
    "    MLPClassifier(alpha=1,max_iter=1000),\n",
    "    AdaBoostClassifier(n_estimators=100),\n",
    "    GaussianNB(),\n",
    "    QuadraticDiscriminantAnalysis(),\n",
    "    SGDClassifier(loss='hinge',penalty='l2')\n",
    "]"
   ]
  },
  {
   "cell_type": "markdown",
   "metadata": {
    "papermill": {
     "duration": 0.014584,
     "end_time": "2021-01-28T06:35:26.200571",
     "exception": false,
     "start_time": "2021-01-28T06:35:26.185987",
     "status": "completed"
    },
    "tags": []
   },
   "source": [
    "### Model Build and Accuracy Score"
   ]
  },
  {
   "cell_type": "code",
   "execution_count": 9,
   "metadata": {
    "_kg_hide-input": true,
    "execution": {
     "iopub.execute_input": "2021-01-28T06:35:26.238832Z",
     "iopub.status.busy": "2021-01-28T06:35:26.237842Z",
     "iopub.status.idle": "2021-01-28T06:35:27.760179Z",
     "shell.execute_reply": "2021-01-28T06:35:27.759667Z"
    },
    "papermill": {
     "duration": 1.545069,
     "end_time": "2021-01-28T06:35:27.760326",
     "exception": false,
     "start_time": "2021-01-28T06:35:26.215257",
     "status": "completed"
    },
    "tags": []
   },
   "outputs": [],
   "source": [
    "# Iterating over classifiers\n",
    "scores =[]\n",
    "for name,clf in zip(names,classifiers):\n",
    "    clf.fit(X_train,y_train)\n",
    "    score = clf.score(X_test,y_test)\n",
    "    scores.append(score)"
   ]
  },
  {
   "cell_type": "code",
   "execution_count": 10,
   "metadata": {
    "_kg_hide-input": true,
    "execution": {
     "iopub.execute_input": "2021-01-28T06:35:27.795448Z",
     "iopub.status.busy": "2021-01-28T06:35:27.794511Z",
     "iopub.status.idle": "2021-01-28T06:35:27.799100Z",
     "shell.execute_reply": "2021-01-28T06:35:27.798438Z"
    },
    "papermill": {
     "duration": 0.024169,
     "end_time": "2021-01-28T06:35:27.799254",
     "exception": false,
     "start_time": "2021-01-28T06:35:27.775085",
     "status": "completed"
    },
    "tags": []
   },
   "outputs": [
    {
     "data": {
      "text/plain": [
       "[0.9666666666666667,\n",
       " 0.9666666666666667,\n",
       " 0.9666666666666667,\n",
       " 0.9666666666666667,\n",
       " 1.0,\n",
       " 0.9666666666666667,\n",
       " 0.9666666666666667,\n",
       " 1.0,\n",
       " 1.0,\n",
       " 0.9666666666666667,\n",
       " 1.0,\n",
       " 1.0,\n",
       " 1.0,\n",
       " 0.7666666666666667]"
      ]
     },
     "execution_count": 10,
     "metadata": {},
     "output_type": "execute_result"
    }
   ],
   "source": [
    "scores"
   ]
  },
  {
   "cell_type": "markdown",
   "metadata": {
    "papermill": {
     "duration": 0.01464,
     "end_time": "2021-01-28T06:35:27.829157",
     "exception": false,
     "start_time": "2021-01-28T06:35:27.814517",
     "status": "completed"
    },
    "tags": []
   },
   "source": [
    "## 4.Analysis of Model Performance"
   ]
  },
  {
   "cell_type": "markdown",
   "metadata": {
    "papermill": {
     "duration": 0.015107,
     "end_time": "2021-01-28T06:35:27.859290",
     "exception": false,
     "start_time": "2021-01-28T06:35:27.844183",
     "status": "completed"
    },
    "tags": []
   },
   "source": [
    "### Import Library "
   ]
  },
  {
   "cell_type": "code",
   "execution_count": 11,
   "metadata": {
    "_kg_hide-input": true,
    "execution": {
     "iopub.execute_input": "2021-01-28T06:35:27.893843Z",
     "iopub.status.busy": "2021-01-28T06:35:27.893022Z",
     "iopub.status.idle": "2021-01-28T06:35:27.966552Z",
     "shell.execute_reply": "2021-01-28T06:35:27.965854Z"
    },
    "papermill": {
     "duration": 0.092511,
     "end_time": "2021-01-28T06:35:27.966699",
     "exception": false,
     "start_time": "2021-01-28T06:35:27.874188",
     "status": "completed"
    },
    "tags": []
   },
   "outputs": [],
   "source": [
    "import seaborn as sns"
   ]
  },
  {
   "cell_type": "markdown",
   "metadata": {
    "papermill": {
     "duration": 0.014967,
     "end_time": "2021-01-28T06:35:27.997689",
     "exception": false,
     "start_time": "2021-01-28T06:35:27.982722",
     "status": "completed"
    },
    "tags": []
   },
   "source": [
    "### Creating data frame for model performance"
   ]
  },
  {
   "cell_type": "code",
   "execution_count": 12,
   "metadata": {
    "_kg_hide-input": true,
    "execution": {
     "iopub.execute_input": "2021-01-28T06:35:28.040200Z",
     "iopub.status.busy": "2021-01-28T06:35:28.034562Z",
     "iopub.status.idle": "2021-01-28T06:35:28.044497Z",
     "shell.execute_reply": "2021-01-28T06:35:28.043918Z"
    },
    "papermill": {
     "duration": 0.031912,
     "end_time": "2021-01-28T06:35:28.044648",
     "exception": false,
     "start_time": "2021-01-28T06:35:28.012736",
     "status": "completed"
    },
    "tags": []
   },
   "outputs": [
    {
     "data": {
      "text/html": [
       "<div>\n",
       "<style scoped>\n",
       "    .dataframe tbody tr th:only-of-type {\n",
       "        vertical-align: middle;\n",
       "    }\n",
       "\n",
       "    .dataframe tbody tr th {\n",
       "        vertical-align: top;\n",
       "    }\n",
       "\n",
       "    .dataframe thead th {\n",
       "        text-align: right;\n",
       "    }\n",
       "</style>\n",
       "<table border=\"1\" class=\"dataframe\">\n",
       "  <thead>\n",
       "    <tr style=\"text-align: right;\">\n",
       "      <th></th>\n",
       "      <th>name</th>\n",
       "      <th>score</th>\n",
       "    </tr>\n",
       "  </thead>\n",
       "  <tbody>\n",
       "    <tr>\n",
       "      <th>0</th>\n",
       "      <td>Nearest_Neighbors</td>\n",
       "      <td>0.966667</td>\n",
       "    </tr>\n",
       "    <tr>\n",
       "      <th>1</th>\n",
       "      <td>Linear_SVM</td>\n",
       "      <td>0.966667</td>\n",
       "    </tr>\n",
       "    <tr>\n",
       "      <th>2</th>\n",
       "      <td>Polynomial_SVM</td>\n",
       "      <td>0.966667</td>\n",
       "    </tr>\n",
       "    <tr>\n",
       "      <th>3</th>\n",
       "      <td>RBF_SVM</td>\n",
       "      <td>0.966667</td>\n",
       "    </tr>\n",
       "    <tr>\n",
       "      <th>4</th>\n",
       "      <td>Gaussian_Process</td>\n",
       "      <td>1.000000</td>\n",
       "    </tr>\n",
       "    <tr>\n",
       "      <th>5</th>\n",
       "      <td>Gradient_Boosting</td>\n",
       "      <td>0.966667</td>\n",
       "    </tr>\n",
       "    <tr>\n",
       "      <th>6</th>\n",
       "      <td>Decision_Tree</td>\n",
       "      <td>0.966667</td>\n",
       "    </tr>\n",
       "    <tr>\n",
       "      <th>7</th>\n",
       "      <td>Extra_Trees</td>\n",
       "      <td>1.000000</td>\n",
       "    </tr>\n",
       "    <tr>\n",
       "      <th>8</th>\n",
       "      <td>Random_Forest</td>\n",
       "      <td>1.000000</td>\n",
       "    </tr>\n",
       "    <tr>\n",
       "      <th>9</th>\n",
       "      <td>Neural_Net</td>\n",
       "      <td>0.966667</td>\n",
       "    </tr>\n",
       "    <tr>\n",
       "      <th>10</th>\n",
       "      <td>AdaBoost</td>\n",
       "      <td>1.000000</td>\n",
       "    </tr>\n",
       "    <tr>\n",
       "      <th>11</th>\n",
       "      <td>Naive_Bayes</td>\n",
       "      <td>1.000000</td>\n",
       "    </tr>\n",
       "    <tr>\n",
       "      <th>12</th>\n",
       "      <td>QDA</td>\n",
       "      <td>1.000000</td>\n",
       "    </tr>\n",
       "    <tr>\n",
       "      <th>13</th>\n",
       "      <td>SGD</td>\n",
       "      <td>0.766667</td>\n",
       "    </tr>\n",
       "  </tbody>\n",
       "</table>\n",
       "</div>"
      ],
      "text/plain": [
       "                 name     score\n",
       "0   Nearest_Neighbors  0.966667\n",
       "1          Linear_SVM  0.966667\n",
       "2      Polynomial_SVM  0.966667\n",
       "3             RBF_SVM  0.966667\n",
       "4    Gaussian_Process  1.000000\n",
       "5   Gradient_Boosting  0.966667\n",
       "6       Decision_Tree  0.966667\n",
       "7         Extra_Trees  1.000000\n",
       "8       Random_Forest  1.000000\n",
       "9          Neural_Net  0.966667\n",
       "10           AdaBoost  1.000000\n",
       "11        Naive_Bayes  1.000000\n",
       "12                QDA  1.000000\n",
       "13                SGD  0.766667"
      ]
     },
     "execution_count": 12,
     "metadata": {},
     "output_type": "execute_result"
    }
   ],
   "source": [
    "df1 = pd.DataFrame()\n",
    "df1['name'] = names\n",
    "df1['score'] = scores\n",
    "df1"
   ]
  },
  {
   "cell_type": "markdown",
   "metadata": {
    "papermill": {
     "duration": 0.015762,
     "end_time": "2021-01-28T06:35:28.076305",
     "exception": false,
     "start_time": "2021-01-28T06:35:28.060543",
     "status": "completed"
    },
    "tags": []
   },
   "source": [
    "### Adding color to the data frame"
   ]
  },
  {
   "cell_type": "code",
   "execution_count": 13,
   "metadata": {
    "_kg_hide-input": true,
    "execution": {
     "iopub.execute_input": "2021-01-28T06:35:28.113715Z",
     "iopub.status.busy": "2021-01-28T06:35:28.113150Z",
     "iopub.status.idle": "2021-01-28T06:35:28.186079Z",
     "shell.execute_reply": "2021-01-28T06:35:28.185501Z"
    },
    "papermill": {
     "duration": 0.093869,
     "end_time": "2021-01-28T06:35:28.186217",
     "exception": false,
     "start_time": "2021-01-28T06:35:28.092348",
     "status": "completed"
    },
    "tags": []
   },
   "outputs": [
    {
     "data": {
      "text/html": [
       "<style  type=\"text/css\" >\n",
       "#T_4e602_row0_col1,#T_4e602_row1_col1,#T_4e602_row2_col1,#T_4e602_row3_col1,#T_4e602_row5_col1,#T_4e602_row6_col1,#T_4e602_row9_col1{\n",
       "            background-color:  #219021;\n",
       "            color:  #000000;\n",
       "        }#T_4e602_row4_col1,#T_4e602_row7_col1,#T_4e602_row8_col1,#T_4e602_row10_col1,#T_4e602_row11_col1,#T_4e602_row12_col1{\n",
       "            background-color:  #008000;\n",
       "            color:  #f1f1f1;\n",
       "        }#T_4e602_row13_col1{\n",
       "            background-color:  #ebf3eb;\n",
       "            color:  #000000;\n",
       "        }</style><table id=\"T_4e602_\" ><thead>    <tr>        <th class=\"blank level0\" ></th>        <th class=\"col_heading level0 col0\" >name</th>        <th class=\"col_heading level0 col1\" >score</th>    </tr></thead><tbody>\n",
       "                <tr>\n",
       "                        <th id=\"T_4e602_level0_row0\" class=\"row_heading level0 row0\" >0</th>\n",
       "                        <td id=\"T_4e602_row0_col0\" class=\"data row0 col0\" >Nearest_Neighbors</td>\n",
       "                        <td id=\"T_4e602_row0_col1\" class=\"data row0 col1\" >0.966667</td>\n",
       "            </tr>\n",
       "            <tr>\n",
       "                        <th id=\"T_4e602_level0_row1\" class=\"row_heading level0 row1\" >1</th>\n",
       "                        <td id=\"T_4e602_row1_col0\" class=\"data row1 col0\" >Linear_SVM</td>\n",
       "                        <td id=\"T_4e602_row1_col1\" class=\"data row1 col1\" >0.966667</td>\n",
       "            </tr>\n",
       "            <tr>\n",
       "                        <th id=\"T_4e602_level0_row2\" class=\"row_heading level0 row2\" >2</th>\n",
       "                        <td id=\"T_4e602_row2_col0\" class=\"data row2 col0\" >Polynomial_SVM</td>\n",
       "                        <td id=\"T_4e602_row2_col1\" class=\"data row2 col1\" >0.966667</td>\n",
       "            </tr>\n",
       "            <tr>\n",
       "                        <th id=\"T_4e602_level0_row3\" class=\"row_heading level0 row3\" >3</th>\n",
       "                        <td id=\"T_4e602_row3_col0\" class=\"data row3 col0\" >RBF_SVM</td>\n",
       "                        <td id=\"T_4e602_row3_col1\" class=\"data row3 col1\" >0.966667</td>\n",
       "            </tr>\n",
       "            <tr>\n",
       "                        <th id=\"T_4e602_level0_row4\" class=\"row_heading level0 row4\" >4</th>\n",
       "                        <td id=\"T_4e602_row4_col0\" class=\"data row4 col0\" >Gaussian_Process</td>\n",
       "                        <td id=\"T_4e602_row4_col1\" class=\"data row4 col1\" >1.000000</td>\n",
       "            </tr>\n",
       "            <tr>\n",
       "                        <th id=\"T_4e602_level0_row5\" class=\"row_heading level0 row5\" >5</th>\n",
       "                        <td id=\"T_4e602_row5_col0\" class=\"data row5 col0\" >Gradient_Boosting</td>\n",
       "                        <td id=\"T_4e602_row5_col1\" class=\"data row5 col1\" >0.966667</td>\n",
       "            </tr>\n",
       "            <tr>\n",
       "                        <th id=\"T_4e602_level0_row6\" class=\"row_heading level0 row6\" >6</th>\n",
       "                        <td id=\"T_4e602_row6_col0\" class=\"data row6 col0\" >Decision_Tree</td>\n",
       "                        <td id=\"T_4e602_row6_col1\" class=\"data row6 col1\" >0.966667</td>\n",
       "            </tr>\n",
       "            <tr>\n",
       "                        <th id=\"T_4e602_level0_row7\" class=\"row_heading level0 row7\" >7</th>\n",
       "                        <td id=\"T_4e602_row7_col0\" class=\"data row7 col0\" >Extra_Trees</td>\n",
       "                        <td id=\"T_4e602_row7_col1\" class=\"data row7 col1\" >1.000000</td>\n",
       "            </tr>\n",
       "            <tr>\n",
       "                        <th id=\"T_4e602_level0_row8\" class=\"row_heading level0 row8\" >8</th>\n",
       "                        <td id=\"T_4e602_row8_col0\" class=\"data row8 col0\" >Random_Forest</td>\n",
       "                        <td id=\"T_4e602_row8_col1\" class=\"data row8 col1\" >1.000000</td>\n",
       "            </tr>\n",
       "            <tr>\n",
       "                        <th id=\"T_4e602_level0_row9\" class=\"row_heading level0 row9\" >9</th>\n",
       "                        <td id=\"T_4e602_row9_col0\" class=\"data row9 col0\" >Neural_Net</td>\n",
       "                        <td id=\"T_4e602_row9_col1\" class=\"data row9 col1\" >0.966667</td>\n",
       "            </tr>\n",
       "            <tr>\n",
       "                        <th id=\"T_4e602_level0_row10\" class=\"row_heading level0 row10\" >10</th>\n",
       "                        <td id=\"T_4e602_row10_col0\" class=\"data row10 col0\" >AdaBoost</td>\n",
       "                        <td id=\"T_4e602_row10_col1\" class=\"data row10 col1\" >1.000000</td>\n",
       "            </tr>\n",
       "            <tr>\n",
       "                        <th id=\"T_4e602_level0_row11\" class=\"row_heading level0 row11\" >11</th>\n",
       "                        <td id=\"T_4e602_row11_col0\" class=\"data row11 col0\" >Naive_Bayes</td>\n",
       "                        <td id=\"T_4e602_row11_col1\" class=\"data row11 col1\" >1.000000</td>\n",
       "            </tr>\n",
       "            <tr>\n",
       "                        <th id=\"T_4e602_level0_row12\" class=\"row_heading level0 row12\" >12</th>\n",
       "                        <td id=\"T_4e602_row12_col0\" class=\"data row12 col0\" >QDA</td>\n",
       "                        <td id=\"T_4e602_row12_col1\" class=\"data row12 col1\" >1.000000</td>\n",
       "            </tr>\n",
       "            <tr>\n",
       "                        <th id=\"T_4e602_level0_row13\" class=\"row_heading level0 row13\" >13</th>\n",
       "                        <td id=\"T_4e602_row13_col0\" class=\"data row13 col0\" >SGD</td>\n",
       "                        <td id=\"T_4e602_row13_col1\" class=\"data row13 col1\" >0.766667</td>\n",
       "            </tr>\n",
       "    </tbody></table>"
      ],
      "text/plain": [
       "<pandas.io.formats.style.Styler at 0x7fae7fe22550>"
      ]
     },
     "execution_count": 13,
     "metadata": {},
     "output_type": "execute_result"
    }
   ],
   "source": [
    "cm = sns.light_palette('green',as_cmap=True)\n",
    "s = df1.style.background_gradient(cmap=cm)\n",
    "s"
   ]
  },
  {
   "cell_type": "markdown",
   "metadata": {
    "papermill": {
     "duration": 0.015851,
     "end_time": "2021-01-28T06:35:28.218222",
     "exception": false,
     "start_time": "2021-01-28T06:35:28.202371",
     "status": "completed"
    },
    "tags": []
   },
   "source": [
    "Darker shade of green mean more accurate is the model"
   ]
  },
  {
   "cell_type": "markdown",
   "metadata": {
    "papermill": {
     "duration": 0.01613,
     "end_time": "2021-01-28T06:35:28.250539",
     "exception": false,
     "start_time": "2021-01-28T06:35:28.234409",
     "status": "completed"
    },
    "tags": []
   },
   "source": [
    "### Bar Plot of model Performance"
   ]
  },
  {
   "cell_type": "code",
   "execution_count": 14,
   "metadata": {
    "_kg_hide-input": true,
    "execution": {
     "iopub.execute_input": "2021-01-28T06:35:28.316417Z",
     "iopub.status.busy": "2021-01-28T06:35:28.315782Z",
     "iopub.status.idle": "2021-01-28T06:35:28.554231Z",
     "shell.execute_reply": "2021-01-28T06:35:28.554664Z"
    },
    "papermill": {
     "duration": 0.288095,
     "end_time": "2021-01-28T06:35:28.554836",
     "exception": false,
     "start_time": "2021-01-28T06:35:28.266741",
     "status": "completed"
    },
    "tags": []
   },
   "outputs": [
    {
     "data": {
      "image/png": "[encoded data removed]",
      "text/plain": [
       "<Figure size 432x288 with 1 Axes>"
      ]
     },
     "metadata": {},
     "output_type": "display_data"
    }
   ],
   "source": [
    "sns.set(style='whitegrid')\n",
    "ax = sns.barplot(y='name',x='score',data=df1)"
   ]
  },
  {
   "cell_type": "markdown",
   "metadata": {
    "papermill": {
     "duration": 0.016596,
     "end_time": "2021-01-28T06:35:28.588575",
     "exception": false,
     "start_time": "2021-01-28T06:35:28.571979",
     "status": "completed"
    },
    "tags": []
   },
   "source": [
    "## 5.Conclusion\n",
    "\n",
    "So here we have written a code to compare the accuracy of different machine learning model.\n",
    "\n",
    "We have got model performance comparision in dataframe and also in the form of bar plots.\n",
    "\n",
    "We can see that Gaussan_process,Gradient_boosting,Adaboost,Naive_Bayes ad QDA have 100 % Accuracy."
   ]
  }
 ],
 "metadata": {
  "kernelspec": {
   "display_name": "Python 3",
   "language": "python",
   "name": "python3"
  },
  "language_info": {
   "codemirror_mode": {
    "name": "ipython",
    "version": 3
   },
   "file_extension": ".py",
   "mimetype": "text/x-python",
   "name": "python",
   "nbconvert_exporter": "python",
   "pygments_lexer": "ipython3",
   "version": "3.7.9"
  },
  "papermill": {
   "default_parameters": {},
   "duration": 10.29123,
   "end_time": "2021-01-28T06:35:29.216360",
   "environment_variables": {},
   "exception": null,
   "input_path": "__notebook__.ipynb",
   "output_path": "__notebook__.ipynb",
   "parameters": {},
   "start_time": "2021-01-28T06:35:18.925130",
   "version": "2.2.2"
  }
 },
 "nbformat": 4,
 "nbformat_minor": 4
}
