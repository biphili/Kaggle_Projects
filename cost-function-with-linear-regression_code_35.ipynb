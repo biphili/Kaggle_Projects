{
 "cells": [
  {
   "cell_type": "markdown",
   "execution_count": null,
   "metadata": {},
   "source": [
    "We have a dataset of Height Vs Body Weigh.Here we will try to present the concept of cost function.How to calculate cost function mannualy and they use Keras to do it.If you like my work please do vote."
   ]
  },
  {
   "cell_type": "code",
   "execution_count": 1,
   "metadata": {
    "_cell_guid": "b1076dfc-b9ad-4769-8c92-a6c4dae69d19",
    "_kg_hide-input": true,
    "_uuid": "8f2839f25d086af736a60e9eeb907d3b93b6e0e5"
   },
   "outputs": [
    {
     "name": "stdout",
     "output_type": "stream",
     "text": [
      "/kaggle/input/weight-height/weight-height.csv\n"
     ]
    }
   ],
   "source": [
    "# This Python 3 environment comes with many helpful analytics libraries installed\n",
    "# It is defined by the kaggle/python Docker image: https://github.com/kaggle/docker-python\n",
    "# For example, here's several helpful packages to load\n",
    "\n",
    "import numpy as np # linear algebra\n",
    "import pandas as pd # data processing, CSV file I/O (e.g. pd.read_csv)\n",
    "\n",
    "# Input data files are available in the read-only \"../input/\" directory\n",
    "# For example, running this (by clicking run or pressing Shift+Enter) will list all files under the input directory\n",
    "\n",
    "import os\n",
    "for dirname, _, filenames in os.walk('/kaggle/input'):\n",
    "    for filename in filenames:\n",
    "        print(os.path.join(dirname, filename))\n",
    "\n",
    "# You can write up to 5GB to the current directory (/kaggle/working/) that gets preserved as output when you create a version using \"Save & Run All\" \n",
    "# You can also write temporary files to /kaggle/temp/, but they won't be saved outside of the current session"
   ]
  },
  {
   "cell_type": "markdown",
   "execution_count": null,
   "metadata": {},
   "source": [
    "**Importing Python Module**"
   ]
  },
  {
   "cell_type": "code",
   "execution_count": 2,
   "metadata": {
    "_cell_guid": "79c7e3d0-c299-4dcb-8224-4455121ee9b0",
    "_uuid": "d629ff2d2480ee46fbb7e2d37f6b5fab8052498a"
   },
   "outputs": [],
   "source": [
    "import matplotlib.pyplot as plt"
   ]
  },
  {
   "cell_type": "markdown",
   "execution_count": null,
   "metadata": {},
   "source": [
    "**Importing the dataset**"
   ]
  },
  {
   "cell_type": "code",
   "execution_count": 3,
   "metadata": {
    "_kg_hide-input": true
   },
   "outputs": [
    {
     "data": {
      "text/html": [
       "<div>\n",
       "<style scoped>\n",
       "    .dataframe tbody tr th:only-of-type {\n",
       "        vertical-align: middle;\n",
       "    }\n",
       "\n",
       "    .dataframe tbody tr th {\n",
       "        vertical-align: top;\n",
       "    }\n",
       "\n",
       "    .dataframe thead th {\n",
       "        text-align: right;\n",
       "    }\n",
       "</style>\n",
       "<table border=\"1\" class=\"dataframe\">\n",
       "  <thead>\n",
       "    <tr style=\"text-align: right;\">\n",
       "      <th></th>\n",
       "      <th>Gender</th>\n",
       "      <th>Height</th>\n",
       "      <th>Weight</th>\n",
       "    </tr>\n",
       "  </thead>\n",
       "  <tbody>\n",
       "    <tr>\n",
       "      <th>0</th>\n",
       "      <td>Male</td>\n",
       "      <td>73.847017</td>\n",
       "      <td>241.893563</td>\n",
       "    </tr>\n",
       "    <tr>\n",
       "      <th>1</th>\n",
       "      <td>Male</td>\n",
       "      <td>68.781904</td>\n",
       "      <td>162.310473</td>\n",
       "    </tr>\n",
       "    <tr>\n",
       "      <th>2</th>\n",
       "      <td>Male</td>\n",
       "      <td>74.110105</td>\n",
       "      <td>212.740856</td>\n",
       "    </tr>\n",
       "    <tr>\n",
       "      <th>3</th>\n",
       "      <td>Male</td>\n",
       "      <td>71.730978</td>\n",
       "      <td>220.042470</td>\n",
       "    </tr>\n",
       "    <tr>\n",
       "      <th>4</th>\n",
       "      <td>Male</td>\n",
       "      <td>69.881796</td>\n",
       "      <td>206.349801</td>\n",
       "    </tr>\n",
       "  </tbody>\n",
       "</table>\n",
       "</div>"
      ],
      "text/plain": [
       "  Gender     Height      Weight\n",
       "0   Male  73.847017  241.893563\n",
       "1   Male  68.781904  162.310473\n",
       "2   Male  74.110105  212.740856\n",
       "3   Male  71.730978  220.042470\n",
       "4   Male  69.881796  206.349801"
      ]
     },
     "execution_count": 3,
     "metadata": {},
     "output_type": "execute_result"
    }
   ],
   "source": [
    "df = pd.read_csv('../input/weight-height/weight-height.csv')\n",
    "df.head()"
   ]
  },
  {
   "cell_type": "markdown",
   "execution_count": null,
   "metadata": {},
   "source": [
    "**Scatter Plot**"
   ]
  },
  {
   "cell_type": "code",
   "execution_count": 4,
   "metadata": {
    "_kg_hide-input": true
   },
   "outputs": [
    {
     "data": {
      "text/plain": [
       "[<matplotlib.lines.Line2D at 0x7f7062e4f410>]"
      ]
     },
     "execution_count": 4,
     "metadata": {},
     "output_type": "execute_result"
    },
    {
     "data": {
      "image/png": "[encoded data removed]",
      "text/plain": [
       "<Figure size 432x288 with 1 Axes>"
      ]
     },
     "metadata": {
      "needs_background": "light"
     },
     "output_type": "display_data"
    }
   ],
   "source": [
    "df.plot(kind = 'scatter',x ='Height',y='Weight',title = 'Weight and Height in adults');\n",
    "# Adding a red line to the plot to represnt the Linear relation\n",
    "plt.plot([55,78],[75,250],color = 'red',linewidth = 3)"
   ]
  },
  {
   "cell_type": "markdown",
   "execution_count": null,
   "metadata": {},
   "source": [
    "From the Scatter plot we can see that there is a linear correlation betweeen height and weight."
   ]
  },
  {
   "cell_type": "markdown",
   "execution_count": null,
   "metadata": {},
   "source": [
    "**Creating a Line**"
   ]
  },
  {
   "cell_type": "code",
   "execution_count": 5,
   "metadata": {
    "_kg_hide-input": true
   },
   "outputs": [
    {
     "data": {
      "image/png": "[encoded data removed]",
      "text/plain": [
       "<Figure size 432x288 with 1 Axes>"
      ]
     },
     "metadata": {
      "needs_background": "light"
     },
     "output_type": "display_data"
    }
   ],
   "source": [
    "def line(x,w=0,b=0):\n",
    "    return x*w + b \n",
    "\n",
    "x= np.linspace(55,80,100)\n",
    "yhat = line(x,w=0,b=0)\n",
    "\n",
    "df.plot(kind = 'scatter',\n",
    "       x = 'Height',\n",
    "       y='Weight',\n",
    "       title = 'Weight and height ')\n",
    "plt.plot(x,yhat,color='red',linewidth=3);"
   ]
  },
  {
   "cell_type": "markdown",
   "execution_count": null,
   "metadata": {},
   "source": [
    "So we have created a refrence line shown in red color.We will be claculating the cost function with respect with this reference line.This reference is not the best line but we will use it to calculate the cost finction."
   ]
  },
  {
   "cell_type": "markdown",
   "execution_count": null,
   "metadata": {},
   "source": [
    "**Cost Function**"
   ]
  },
  {
   "cell_type": "code",
   "execution_count": 6,
   "metadata": {
    "_kg_hide-input": true
   },
   "outputs": [],
   "source": [
    "def mean_squared_error(y_true,y_pred):\n",
    "    s = (y_true - y_pred)**2\n",
    "    return s.mean()"
   ]
  },
  {
   "cell_type": "code",
   "execution_count": 7,
   "metadata": {
    "_kg_hide-input": true
   },
   "outputs": [],
   "source": [
    "X = df[['Height']].values\n",
    "y_true = df['Weight'].values"
   ]
  },
  {
   "cell_type": "code",
   "execution_count": 8,
   "metadata": {
    "_kg_hide-input": true
   },
   "outputs": [
    {
     "data": {
      "text/plain": [
       "27093.83757456157"
      ]
     },
     "execution_count": 8,
     "metadata": {},
     "output_type": "execute_result"
    }
   ],
   "source": [
    "y_pred = line(X)\n",
    "mean_squared_error(y_true,y_pred)\n",
    "# To improve speed of calculation we can use\n",
    "mean_squared_error(y_true,y_pred.ravel())"
   ]
  },
  {
   "cell_type": "markdown",
   "execution_count": null,
   "metadata": {},
   "source": [
    "So can see that we have calculated the mean square error value of 27093.This value is very high because our red reference line is far away from the linear line.This we have done do demonstrate the calculation of cost function which is mean squared error in this case."
   ]
  },
  {
   "cell_type": "markdown",
   "execution_count": null,
   "metadata": {},
   "source": [
    "**Exploring various values of Cost Function**\n",
    "\n",
    "Linear regression equation is X = wx + b\n",
    "\n",
    "Where w = Slop \n",
    "      b = Y intercept \n",
    "      \n",
    "So we will try to change the value of intercept b and see the affect on the value of the cost function.Our purpose is to minimize the cost function to get the best machine learnng model."
   ]
  },
  {
   "cell_type": "code",
   "execution_count": 9,
   "metadata": {
    "_kg_hide-input": true
   },
   "outputs": [
    {
     "data": {
      "text/plain": [
       "Text(0.5, 0, 'b')"
      ]
     },
     "execution_count": 9,
     "metadata": {},
     "output_type": "execute_result"
    },
    {
     "data": {
      "image/png": "[encoded data removed]",
      "text/plain": [
       "<Figure size 720x360 with 2 Axes>"
      ]
     },
     "metadata": {
      "needs_background": "light"
     },
     "output_type": "display_data"
    }
   ],
   "source": [
    "plt.figure(figsize = (10,5))\n",
    "#We will have two plot one for representing the data and other for the change in cost function\n",
    "ax1 = plt.subplot(121)\n",
    "df.plot(kind ='scatter',\n",
    "       x = 'Height', y= 'Weight',title = 'Weight and Height in adults',ax = ax1)\n",
    "\n",
    "# Now we calculate the cost function by varying the value of b from -100 to 100 \n",
    "bbs = np.array([-100,-50,0,50,100,150])\n",
    "mses = [] \n",
    "for b in bbs:\n",
    "    y_pred = line(X,w=2,b=b)\n",
    "    mse = mean_squared_error(y_true,y_pred)\n",
    "    mses.append(mse)\n",
    "    plt.plot(X,y_pred)\n",
    "\n",
    "# Plotting the cost function for various values of b\n",
    "ax2 = plt.subplot(122)\n",
    "plt.plot(bbs,mses,'o-')\n",
    "plt.title('Cost as a function of b')\n",
    "plt.xlabel('b')"
   ]
  },
  {
   "cell_type": "markdown",
   "execution_count": null,
   "metadata": {},
   "source": [
    "Now we will be making use of Keraa,Linear regression to make a calculation of cost function."
   ]
  },
  {
   "cell_type": "markdown",
   "execution_count": null,
   "metadata": {},
   "source": [
    "**Linear Regression with Keras.**"
   ]
  },
  {
   "cell_type": "code",
   "execution_count": 10,
   "metadata": {
    "_kg_hide-input": true
   },
   "outputs": [
    {
     "name": "stderr",
     "output_type": "stream",
     "text": [
      "Using TensorFlow backend.\n"
     ]
    }
   ],
   "source": [
    "from keras.models import Sequential \n",
    "from keras.layers import Dense\n",
    "from keras.optimizers import Adam,SGD"
   ]
  },
  {
   "cell_type": "code",
   "execution_count": 11,
   "metadata": {
    "_kg_hide-input": true
   },
   "outputs": [],
   "source": [
    "model = Sequential()\n",
    "model.add(Dense(1,input_shape=(1,)))"
   ]
  },
  {
   "cell_type": "code",
   "execution_count": 12,
   "metadata": {
    "_kg_hide-input": true
   },
   "outputs": [
    {
     "name": "stdout",
     "output_type": "stream",
     "text": [
      "Model: \"sequential_1\"\n",
      "_________________________________________________________________\n",
      "Layer (type)                 Output Shape              Param #   \n",
      "=================================================================\n",
      "dense_1 (Dense)              (None, 1)                 2         \n",
      "=================================================================\n",
      "Total params: 2\n",
      "Trainable params: 2\n",
      "Non-trainable params: 0\n",
      "_________________________________________________________________\n"
     ]
    }
   ],
   "source": [
    "model.summary()"
   ]
  },
  {
   "cell_type": "code",
   "execution_count": 13,
   "metadata": {
    "_kg_hide-input": true
   },
   "outputs": [],
   "source": [
    "model.compile(Adam(lr = 0.8),'mean_squared_error')"
   ]
  },
  {
   "cell_type": "code",
   "execution_count": 14,
   "metadata": {
    "_kg_hide-input": true
   },
   "outputs": [
    {
     "name": "stdout",
     "output_type": "stream",
     "text": [
      "Epoch 1/40\n",
      "10000/10000 [==============================] - 0s 49us/step - loss: 835.3903\n",
      "Epoch 2/40\n",
      "10000/10000 [==============================] - 0s 28us/step - loss: 552.2976\n",
      "Epoch 3/40\n",
      "10000/10000 [==============================] - 0s 28us/step - loss: 497.7765\n",
      "Epoch 4/40\n",
      "10000/10000 [==============================] - 0s 27us/step - loss: 464.1491\n",
      "Epoch 5/40\n",
      "10000/10000 [==============================] - 0s 28us/step - loss: 416.6330\n",
      "Epoch 6/40\n",
      "10000/10000 [==============================] - 0s 28us/step - loss: 375.7735\n",
      "Epoch 7/40\n",
      "10000/10000 [==============================] - 0s 27us/step - loss: 336.8622\n",
      "Epoch 8/40\n",
      "10000/10000 [==============================] - 0s 28us/step - loss: 316.9179\n",
      "Epoch 9/40\n",
      "10000/10000 [==============================] - 0s 28us/step - loss: 295.4854\n",
      "Epoch 10/40\n",
      "10000/10000 [==============================] - 0s 28us/step - loss: 253.7420\n",
      "Epoch 11/40\n",
      "10000/10000 [==============================] - 0s 27us/step - loss: 241.1918\n",
      "Epoch 12/40\n",
      "10000/10000 [==============================] - 0s 28us/step - loss: 223.0568\n",
      "Epoch 13/40\n",
      "10000/10000 [==============================] - 0s 28us/step - loss: 218.8081\n",
      "Epoch 14/40\n",
      "10000/10000 [==============================] - 0s 28us/step - loss: 197.5281\n",
      "Epoch 15/40\n",
      "10000/10000 [==============================] - 0s 28us/step - loss: 213.7847\n",
      "Epoch 16/40\n",
      "10000/10000 [==============================] - 0s 28us/step - loss: 195.0232\n",
      "Epoch 17/40\n",
      "10000/10000 [==============================] - 0s 28us/step - loss: 191.5658\n",
      "Epoch 18/40\n",
      "10000/10000 [==============================] - 0s 28us/step - loss: 181.7847\n",
      "Epoch 19/40\n",
      "10000/10000 [==============================] - 0s 28us/step - loss: 186.0170\n",
      "Epoch 20/40\n",
      "10000/10000 [==============================] - 0s 28us/step - loss: 178.1876\n",
      "Epoch 21/40\n",
      "10000/10000 [==============================] - 0s 28us/step - loss: 176.3660\n",
      "Epoch 22/40\n",
      "10000/10000 [==============================] - 0s 28us/step - loss: 188.6609\n",
      "Epoch 23/40\n",
      "10000/10000 [==============================] - 0s 28us/step - loss: 172.1237\n",
      "Epoch 24/40\n",
      "10000/10000 [==============================] - 0s 28us/step - loss: 173.4764\n",
      "Epoch 25/40\n",
      "10000/10000 [==============================] - 0s 27us/step - loss: 170.6635\n",
      "Epoch 26/40\n",
      "10000/10000 [==============================] - 0s 27us/step - loss: 175.8462\n",
      "Epoch 27/40\n",
      "10000/10000 [==============================] - 0s 28us/step - loss: 179.8551\n",
      "Epoch 28/40\n",
      "10000/10000 [==============================] - 0s 28us/step - loss: 183.2626\n",
      "Epoch 29/40\n",
      "10000/10000 [==============================] - 0s 29us/step - loss: 194.8783\n",
      "Epoch 30/40\n",
      "10000/10000 [==============================] - 0s 28us/step - loss: 182.7249\n",
      "Epoch 31/40\n",
      "10000/10000 [==============================] - 0s 28us/step - loss: 168.5595\n",
      "Epoch 32/40\n",
      "10000/10000 [==============================] - 0s 28us/step - loss: 173.5116\n",
      "Epoch 33/40\n",
      "10000/10000 [==============================] - 0s 27us/step - loss: 183.6430\n",
      "Epoch 34/40\n",
      "10000/10000 [==============================] - 0s 28us/step - loss: 179.6467\n",
      "Epoch 35/40\n",
      "10000/10000 [==============================] - 0s 28us/step - loss: 177.0850\n",
      "Epoch 36/40\n",
      "10000/10000 [==============================] - 0s 28us/step - loss: 180.8687\n",
      "Epoch 37/40\n",
      "10000/10000 [==============================] - 0s 28us/step - loss: 173.4066\n",
      "Epoch 38/40\n",
      "10000/10000 [==============================] - 0s 28us/step - loss: 176.1209\n",
      "Epoch 39/40\n",
      "10000/10000 [==============================] - 0s 28us/step - loss: 173.5404\n",
      "Epoch 40/40\n",
      "10000/10000 [==============================] - 0s 28us/step - loss: 188.4252\n"
     ]
    },
    {
     "data": {
      "text/plain": [
       "<keras.callbacks.callbacks.History at 0x7f7062d48250>"
      ]
     },
     "execution_count": 14,
     "metadata": {},
     "output_type": "execute_result"
    }
   ],
   "source": [
    "model.fit(X,y_true,epochs = 40)"
   ]
  },
  {
   "cell_type": "markdown",
   "execution_count": null,
   "metadata": {},
   "source": [
    "With Linear Regression using Keras we can see that our loss value is around 182 with is very low compared to the early calculation we did."
   ]
  },
  {
   "cell_type": "code",
   "execution_count": 15,
   "metadata": {
    "_kg_hide-input": true
   },
   "outputs": [
    {
     "data": {
      "image/png": "[encoded data removed]",
      "text/plain": [
       "<Figure size 432x288 with 1 Axes>"
      ]
     },
     "metadata": {
      "needs_background": "light"
     },
     "output_type": "display_data"
    }
   ],
   "source": [
    "y_pred = model.predict(X)\n",
    "df.plot(kind='scatter',\n",
    "        x = 'Height',\n",
    "        y = 'Weight',\n",
    "        title = 'Weight and Height')\n",
    "plt.plot(X,y_pred,color = 'red');"
   ]
  },
  {
   "cell_type": "markdown",
   "execution_count": null,
   "metadata": {},
   "source": [
    "**Getting the Weight and the intercept value**"
   ]
  },
  {
   "cell_type": "code",
   "execution_count": 16,
   "metadata": {
    "_kg_hide-input": true
   },
   "outputs": [],
   "source": [
    "W , B = model.get_weights()"
   ]
  },
  {
   "cell_type": "code",
   "execution_count": 17,
   "metadata": {},
   "outputs": [
    {
     "data": {
      "text/plain": [
       "array([[7.6581125]], dtype=float32)"
      ]
     },
     "execution_count": 17,
     "metadata": {},
     "output_type": "execute_result"
    }
   ],
   "source": [
    "W"
   ]
  },
  {
   "cell_type": "code",
   "execution_count": 18,
   "metadata": {},
   "outputs": [
    {
     "data": {
      "text/plain": [
       "array([-348.74457], dtype=float32)"
      ]
     },
     "execution_count": 18,
     "metadata": {},
     "output_type": "execute_result"
    }
   ],
   "source": [
    "B"
   ]
  },
  {
   "cell_type": "markdown",
   "execution_count": null,
   "metadata": {},
   "source": [
    "So we can now say that the linear equation would be y = WX = B ie y = 7.65X - 348.52"
   ]
  },
  {
   "cell_type": "code",
   "execution_count": null,
   "metadata": {},
   "outputs": [],
   "source": []
  }
 ],
 "metadata": {
  "kernelspec": {
   "display_name": "Python 3",
   "language": "python",
   "name": "python3"
  },
  "language_info": {
   "codemirror_mode": {
    "name": "ipython",
    "version": 3
   },
   "file_extension": ".py",
   "mimetype": "text/x-python",
   "name": "python",
   "nbconvert_exporter": "python",
   "pygments_lexer": "ipython3",
   "version": "3.7.6"
  }
 },
 "nbformat": 4,
 "nbformat_minor": 4
}
