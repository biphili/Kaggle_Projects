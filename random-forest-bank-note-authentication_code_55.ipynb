{
 "cells": [
  {
   "cell_type": "markdown",
   "metadata": {
    "papermill": {
     "duration": 0.017037,
     "end_time": "2021-01-29T06:36:12.047823",
     "exception": false,
     "start_time": "2021-01-29T06:36:12.030786",
     "status": "completed"
    },
    "tags": []
   },
   "source": [
    "# During the lockdown I published my first book titled Inspiration:Thoughts on Spirituality,Technology,Wealth,Leadership and Motivation.The preview of the book can be read from the Amazon link https://lnkd.in/gj7bMQA .\n",
    "# E Book is availabe for Rs 99 in India.Paperback Edition of the book is available on Amazon.com link https://lnkd.in/gkFYYMJ"
   ]
  },
  {
   "cell_type": "markdown",
   "metadata": {
    "papermill": {
     "duration": 0.013692,
     "end_time": "2021-01-29T06:36:12.076009",
     "exception": false,
     "start_time": "2021-01-29T06:36:12.062317",
     "status": "completed"
    },
    "tags": []
   },
   "source": [
    "In this dataset we have data of original and Fake Bank notes.We will try to build a Machine learning model which will help us to classify notes as authentic or Fake. In this notebooke we will cover following things \n",
    "\n",
    "1.Data import \n",
    "\n",
    "2.Preprocessing Data \n",
    "\n",
    "3.Random Forest Model build \n",
    "\n",
    "4.Saving model as pickle file \n",
    "\n",
    "5.Predicting banke note authentication '\n",
    "\n",
    "6.Sharing process for deploying the model with streamlit \n",
    "\n",
    "This notebook is a work in process.If you like my work please do vote."
   ]
  },
  {
   "cell_type": "code",
   "execution_count": 1,
   "metadata": {
    "_cell_guid": "b1076dfc-b9ad-4769-8c92-a6c4dae69d19",
    "_kg_hide-input": true,
    "_uuid": "8f2839f25d086af736a60e9eeb907d3b93b6e0e5",
    "execution": {
     "iopub.execute_input": "2021-01-29T06:36:12.111331Z",
     "iopub.status.busy": "2021-01-29T06:36:12.110640Z",
     "iopub.status.idle": "2021-01-29T06:36:12.126902Z",
     "shell.execute_reply": "2021-01-29T06:36:12.127566Z"
    },
    "papermill": {
     "duration": 0.037879,
     "end_time": "2021-01-29T06:36:12.127839",
     "exception": false,
     "start_time": "2021-01-29T06:36:12.089960",
     "status": "completed"
    },
    "tags": []
   },
   "outputs": [
    {
     "name": "stdout",
     "output_type": "stream",
     "text": [
      "/kaggle/input/banknote-authentication-uci/BankNoteAuthentication.csv\n"
     ]
    }
   ],
   "source": [
    "# This Python 3 environment comes with many helpful analytics libraries installed\n",
    "# It is defined by the kaggle/python Docker image: https://github.com/kaggle/docker-python\n",
    "# For example, here's several helpful packages to load\n",
    "\n",
    "import numpy as np # linear algebra\n",
    "import pandas as pd # data processing, CSV file I/O (e.g. pd.read_csv)\n",
    "\n",
    "# Input data files are available in the read-only \"../input/\" directory\n",
    "# For example, running this (by clicking run or pressing Shift+Enter) will list all files under the input directory\n",
    "\n",
    "import os\n",
    "for dirname, _, filenames in os.walk('/kaggle/input'):\n",
    "    for filename in filenames:\n",
    "        print(os.path.join(dirname, filename))\n",
    "\n",
    "# You can write up to 20GB to the current directory (/kaggle/working/) that gets preserved as output when you create a version using \"Save & Run All\" \n",
    "# You can also write temporary files to /kaggle/temp/, but they won't be saved outside of the current session"
   ]
  },
  {
   "cell_type": "markdown",
   "metadata": {
    "papermill": {
     "duration": 0.014541,
     "end_time": "2021-01-29T06:36:12.157785",
     "exception": false,
     "start_time": "2021-01-29T06:36:12.143244",
     "status": "completed"
    },
    "tags": []
   },
   "source": [
    "### Importing Python Modules"
   ]
  },
  {
   "cell_type": "code",
   "execution_count": 2,
   "metadata": {
    "_kg_hide-input": true,
    "execution": {
     "iopub.execute_input": "2021-01-29T06:36:12.190607Z",
     "iopub.status.busy": "2021-01-29T06:36:12.189947Z",
     "iopub.status.idle": "2021-01-29T06:36:12.193665Z",
     "shell.execute_reply": "2021-01-29T06:36:12.194200Z"
    },
    "papermill": {
     "duration": 0.021676,
     "end_time": "2021-01-29T06:36:12.194344",
     "exception": false,
     "start_time": "2021-01-29T06:36:12.172668",
     "status": "completed"
    },
    "tags": []
   },
   "outputs": [],
   "source": [
    "import pandas as pd\n",
    "import numpy as np "
   ]
  },
  {
   "cell_type": "markdown",
   "metadata": {
    "papermill": {
     "duration": 0.014603,
     "end_time": "2021-01-29T06:36:12.223993",
     "exception": false,
     "start_time": "2021-01-29T06:36:12.209390",
     "status": "completed"
    },
    "tags": []
   },
   "source": [
    "### Importing Dataset"
   ]
  },
  {
   "cell_type": "code",
   "execution_count": 3,
   "metadata": {
    "_kg_hide-input": true,
    "execution": {
     "iopub.execute_input": "2021-01-29T06:36:12.260593Z",
     "iopub.status.busy": "2021-01-29T06:36:12.259853Z",
     "iopub.status.idle": "2021-01-29T06:36:12.296973Z",
     "shell.execute_reply": "2021-01-29T06:36:12.297522Z"
    },
    "papermill": {
     "duration": 0.058469,
     "end_time": "2021-01-29T06:36:12.297666",
     "exception": false,
     "start_time": "2021-01-29T06:36:12.239197",
     "status": "completed"
    },
    "tags": []
   },
   "outputs": [
    {
     "data": {
      "text/html": [
       "<div>\n",
       "<style scoped>\n",
       "    .dataframe tbody tr th:only-of-type {\n",
       "        vertical-align: middle;\n",
       "    }\n",
       "\n",
       "    .dataframe tbody tr th {\n",
       "        vertical-align: top;\n",
       "    }\n",
       "\n",
       "    .dataframe thead th {\n",
       "        text-align: right;\n",
       "    }\n",
       "</style>\n",
       "<table border=\"1\" class=\"dataframe\">\n",
       "  <thead>\n",
       "    <tr style=\"text-align: right;\">\n",
       "      <th></th>\n",
       "      <th>variance</th>\n",
       "      <th>skewness</th>\n",
       "      <th>curtosis</th>\n",
       "      <th>entropy</th>\n",
       "      <th>class</th>\n",
       "    </tr>\n",
       "  </thead>\n",
       "  <tbody>\n",
       "    <tr>\n",
       "      <th>0</th>\n",
       "      <td>3.62160</td>\n",
       "      <td>8.6661</td>\n",
       "      <td>-2.8073</td>\n",
       "      <td>-0.44699</td>\n",
       "      <td>0</td>\n",
       "    </tr>\n",
       "    <tr>\n",
       "      <th>1</th>\n",
       "      <td>4.54590</td>\n",
       "      <td>8.1674</td>\n",
       "      <td>-2.4586</td>\n",
       "      <td>-1.46210</td>\n",
       "      <td>0</td>\n",
       "    </tr>\n",
       "    <tr>\n",
       "      <th>2</th>\n",
       "      <td>3.86600</td>\n",
       "      <td>-2.6383</td>\n",
       "      <td>1.9242</td>\n",
       "      <td>0.10645</td>\n",
       "      <td>0</td>\n",
       "    </tr>\n",
       "    <tr>\n",
       "      <th>3</th>\n",
       "      <td>3.45660</td>\n",
       "      <td>9.5228</td>\n",
       "      <td>-4.0112</td>\n",
       "      <td>-3.59440</td>\n",
       "      <td>0</td>\n",
       "    </tr>\n",
       "    <tr>\n",
       "      <th>4</th>\n",
       "      <td>0.32924</td>\n",
       "      <td>-4.4552</td>\n",
       "      <td>4.5718</td>\n",
       "      <td>-0.98880</td>\n",
       "      <td>0</td>\n",
       "    </tr>\n",
       "  </tbody>\n",
       "</table>\n",
       "</div>"
      ],
      "text/plain": [
       "   variance  skewness  curtosis  entropy  class\n",
       "0   3.62160    8.6661   -2.8073 -0.44699      0\n",
       "1   4.54590    8.1674   -2.4586 -1.46210      0\n",
       "2   3.86600   -2.6383    1.9242  0.10645      0\n",
       "3   3.45660    9.5228   -4.0112 -3.59440      0\n",
       "4   0.32924   -4.4552    4.5718 -0.98880      0"
      ]
     },
     "execution_count": 3,
     "metadata": {},
     "output_type": "execute_result"
    }
   ],
   "source": [
    "df = pd.read_csv(\"../input/banknote-authentication-uci/BankNoteAuthentication.csv\")\n",
    "df.head()"
   ]
  },
  {
   "cell_type": "markdown",
   "metadata": {
    "papermill": {
     "duration": 0.015095,
     "end_time": "2021-01-29T06:36:12.328413",
     "exception": false,
     "start_time": "2021-01-29T06:36:12.313318",
     "status": "completed"
    },
    "tags": []
   },
   "source": [
    "### Creating Matrix of Features "
   ]
  },
  {
   "cell_type": "code",
   "execution_count": 4,
   "metadata": {
    "_kg_hide-input": true,
    "execution": {
     "iopub.execute_input": "2021-01-29T06:36:12.362492Z",
     "iopub.status.busy": "2021-01-29T06:36:12.361847Z",
     "iopub.status.idle": "2021-01-29T06:36:12.367007Z",
     "shell.execute_reply": "2021-01-29T06:36:12.367545Z"
    },
    "papermill": {
     "duration": 0.023901,
     "end_time": "2021-01-29T06:36:12.367687",
     "exception": false,
     "start_time": "2021-01-29T06:36:12.343786",
     "status": "completed"
    },
    "tags": []
   },
   "outputs": [],
   "source": [
    "X = df.iloc[:,:-1]\n",
    "y = df.iloc[:,-1]"
   ]
  },
  {
   "cell_type": "code",
   "execution_count": 5,
   "metadata": {
    "_kg_hide-input": true,
    "execution": {
     "iopub.execute_input": "2021-01-29T06:36:12.402471Z",
     "iopub.status.busy": "2021-01-29T06:36:12.401784Z",
     "iopub.status.idle": "2021-01-29T06:36:12.412659Z",
     "shell.execute_reply": "2021-01-29T06:36:12.413321Z"
    },
    "papermill": {
     "duration": 0.030128,
     "end_time": "2021-01-29T06:36:12.413490",
     "exception": false,
     "start_time": "2021-01-29T06:36:12.383362",
     "status": "completed"
    },
    "tags": []
   },
   "outputs": [
    {
     "data": {
      "text/html": [
       "<div>\n",
       "<style scoped>\n",
       "    .dataframe tbody tr th:only-of-type {\n",
       "        vertical-align: middle;\n",
       "    }\n",
       "\n",
       "    .dataframe tbody tr th {\n",
       "        vertical-align: top;\n",
       "    }\n",
       "\n",
       "    .dataframe thead th {\n",
       "        text-align: right;\n",
       "    }\n",
       "</style>\n",
       "<table border=\"1\" class=\"dataframe\">\n",
       "  <thead>\n",
       "    <tr style=\"text-align: right;\">\n",
       "      <th></th>\n",
       "      <th>variance</th>\n",
       "      <th>skewness</th>\n",
       "      <th>curtosis</th>\n",
       "      <th>entropy</th>\n",
       "    </tr>\n",
       "  </thead>\n",
       "  <tbody>\n",
       "    <tr>\n",
       "      <th>0</th>\n",
       "      <td>3.62160</td>\n",
       "      <td>8.6661</td>\n",
       "      <td>-2.8073</td>\n",
       "      <td>-0.44699</td>\n",
       "    </tr>\n",
       "    <tr>\n",
       "      <th>1</th>\n",
       "      <td>4.54590</td>\n",
       "      <td>8.1674</td>\n",
       "      <td>-2.4586</td>\n",
       "      <td>-1.46210</td>\n",
       "    </tr>\n",
       "    <tr>\n",
       "      <th>2</th>\n",
       "      <td>3.86600</td>\n",
       "      <td>-2.6383</td>\n",
       "      <td>1.9242</td>\n",
       "      <td>0.10645</td>\n",
       "    </tr>\n",
       "    <tr>\n",
       "      <th>3</th>\n",
       "      <td>3.45660</td>\n",
       "      <td>9.5228</td>\n",
       "      <td>-4.0112</td>\n",
       "      <td>-3.59440</td>\n",
       "    </tr>\n",
       "    <tr>\n",
       "      <th>4</th>\n",
       "      <td>0.32924</td>\n",
       "      <td>-4.4552</td>\n",
       "      <td>4.5718</td>\n",
       "      <td>-0.98880</td>\n",
       "    </tr>\n",
       "  </tbody>\n",
       "</table>\n",
       "</div>"
      ],
      "text/plain": [
       "   variance  skewness  curtosis  entropy\n",
       "0   3.62160    8.6661   -2.8073 -0.44699\n",
       "1   4.54590    8.1674   -2.4586 -1.46210\n",
       "2   3.86600   -2.6383    1.9242  0.10645\n",
       "3   3.45660    9.5228   -4.0112 -3.59440\n",
       "4   0.32924   -4.4552    4.5718 -0.98880"
      ]
     },
     "execution_count": 5,
     "metadata": {},
     "output_type": "execute_result"
    }
   ],
   "source": [
    "X.head()"
   ]
  },
  {
   "cell_type": "markdown",
   "metadata": {
    "papermill": {
     "duration": 0.015881,
     "end_time": "2021-01-29T06:36:12.445851",
     "exception": false,
     "start_time": "2021-01-29T06:36:12.429970",
     "status": "completed"
    },
    "tags": []
   },
   "source": [
    "### Test Train Split"
   ]
  },
  {
   "cell_type": "code",
   "execution_count": 6,
   "metadata": {
    "_kg_hide-input": true,
    "execution": {
     "iopub.execute_input": "2021-01-29T06:36:12.481396Z",
     "iopub.status.busy": "2021-01-29T06:36:12.480705Z",
     "iopub.status.idle": "2021-01-29T06:36:13.659753Z",
     "shell.execute_reply": "2021-01-29T06:36:13.660347Z"
    },
    "papermill": {
     "duration": 1.198642,
     "end_time": "2021-01-29T06:36:13.660519",
     "exception": false,
     "start_time": "2021-01-29T06:36:12.461877",
     "status": "completed"
    },
    "tags": []
   },
   "outputs": [],
   "source": [
    "from sklearn.model_selection import train_test_split\n",
    "X_train,X_test,y_train,y_test = train_test_split(X,y,test_size=0.3,random_state=0)"
   ]
  },
  {
   "cell_type": "markdown",
   "metadata": {
    "papermill": {
     "duration": 0.016151,
     "end_time": "2021-01-29T06:36:13.693467",
     "exception": false,
     "start_time": "2021-01-29T06:36:13.677316",
     "status": "completed"
    },
    "tags": []
   },
   "source": [
    "### Random Forest Classifier "
   ]
  },
  {
   "cell_type": "code",
   "execution_count": 7,
   "metadata": {
    "_kg_hide-input": true,
    "execution": {
     "iopub.execute_input": "2021-01-29T06:36:13.729207Z",
     "iopub.status.busy": "2021-01-29T06:36:13.728546Z",
     "iopub.status.idle": "2021-01-29T06:36:14.232185Z",
     "shell.execute_reply": "2021-01-29T06:36:14.231503Z"
    },
    "papermill": {
     "duration": 0.522719,
     "end_time": "2021-01-29T06:36:14.232303",
     "exception": false,
     "start_time": "2021-01-29T06:36:13.709584",
     "status": "completed"
    },
    "tags": []
   },
   "outputs": [
    {
     "data": {
      "text/plain": [
       "RandomForestClassifier()"
      ]
     },
     "execution_count": 7,
     "metadata": {},
     "output_type": "execute_result"
    }
   ],
   "source": [
    "from sklearn.ensemble import RandomForestClassifier\n",
    "classifier = RandomForestClassifier()\n",
    "classifier.fit(X_train,y_train)"
   ]
  },
  {
   "cell_type": "markdown",
   "metadata": {
    "papermill": {
     "duration": 0.016474,
     "end_time": "2021-01-29T06:36:14.265992",
     "exception": false,
     "start_time": "2021-01-29T06:36:14.249518",
     "status": "completed"
    },
    "tags": []
   },
   "source": [
    "### Prediction "
   ]
  },
  {
   "cell_type": "code",
   "execution_count": 8,
   "metadata": {
    "_kg_hide-input": true,
    "execution": {
     "iopub.execute_input": "2021-01-29T06:36:14.307483Z",
     "iopub.status.busy": "2021-01-29T06:36:14.306815Z",
     "iopub.status.idle": "2021-01-29T06:36:14.323290Z",
     "shell.execute_reply": "2021-01-29T06:36:14.322610Z"
    },
    "papermill": {
     "duration": 0.040347,
     "end_time": "2021-01-29T06:36:14.323403",
     "exception": false,
     "start_time": "2021-01-29T06:36:14.283056",
     "status": "completed"
    },
    "tags": []
   },
   "outputs": [],
   "source": [
    "y_pred = classifier.predict(X_test)"
   ]
  },
  {
   "cell_type": "markdown",
   "metadata": {
    "papermill": {
     "duration": 0.016525,
     "end_time": "2021-01-29T06:36:14.356993",
     "exception": false,
     "start_time": "2021-01-29T06:36:14.340468",
     "status": "completed"
    },
    "tags": []
   },
   "source": [
    "### Accuracy Check "
   ]
  },
  {
   "cell_type": "code",
   "execution_count": 9,
   "metadata": {
    "_kg_hide-input": true,
    "execution": {
     "iopub.execute_input": "2021-01-29T06:36:14.397456Z",
     "iopub.status.busy": "2021-01-29T06:36:14.396809Z",
     "iopub.status.idle": "2021-01-29T06:36:14.399019Z",
     "shell.execute_reply": "2021-01-29T06:36:14.399492Z"
    },
    "papermill": {
     "duration": 0.025792,
     "end_time": "2021-01-29T06:36:14.399647",
     "exception": false,
     "start_time": "2021-01-29T06:36:14.373855",
     "status": "completed"
    },
    "tags": []
   },
   "outputs": [],
   "source": [
    "from sklearn.metrics import accuracy_score\n",
    "score = accuracy_score(y_test,y_pred)"
   ]
  },
  {
   "cell_type": "code",
   "execution_count": 10,
   "metadata": {
    "_kg_hide-input": true,
    "execution": {
     "iopub.execute_input": "2021-01-29T06:36:14.437338Z",
     "iopub.status.busy": "2021-01-29T06:36:14.436584Z",
     "iopub.status.idle": "2021-01-29T06:36:14.441305Z",
     "shell.execute_reply": "2021-01-29T06:36:14.441939Z"
    },
    "papermill": {
     "duration": 0.025252,
     "end_time": "2021-01-29T06:36:14.442091",
     "exception": false,
     "start_time": "2021-01-29T06:36:14.416839",
     "status": "completed"
    },
    "tags": []
   },
   "outputs": [
    {
     "data": {
      "text/plain": [
       "0.9878640776699029"
      ]
     },
     "execution_count": 10,
     "metadata": {},
     "output_type": "execute_result"
    }
   ],
   "source": [
    "score"
   ]
  },
  {
   "cell_type": "markdown",
   "metadata": {
    "papermill": {
     "duration": 0.018371,
     "end_time": "2021-01-29T06:36:14.479457",
     "exception": false,
     "start_time": "2021-01-29T06:36:14.461086",
     "status": "completed"
    },
    "tags": []
   },
   "source": [
    "### Saving Model "
   ]
  },
  {
   "cell_type": "code",
   "execution_count": 11,
   "metadata": {
    "_kg_hide-input": true,
    "execution": {
     "iopub.execute_input": "2021-01-29T06:36:14.520486Z",
     "iopub.status.busy": "2021-01-29T06:36:14.519817Z",
     "iopub.status.idle": "2021-01-29T06:36:14.531365Z",
     "shell.execute_reply": "2021-01-29T06:36:14.532012Z"
    },
    "papermill": {
     "duration": 0.034075,
     "end_time": "2021-01-29T06:36:14.532171",
     "exception": false,
     "start_time": "2021-01-29T06:36:14.498096",
     "status": "completed"
    },
    "tags": []
   },
   "outputs": [],
   "source": [
    "import pickle \n",
    "pickle_out = open(\"classifier.pkl\",\"wb\")\n",
    "pickle.dump(classifier,pickle_out)\n",
    "pickle_out.close()"
   ]
  },
  {
   "cell_type": "markdown",
   "metadata": {
    "papermill": {
     "duration": 0.017427,
     "end_time": "2021-01-29T06:36:14.567526",
     "exception": false,
     "start_time": "2021-01-29T06:36:14.550099",
     "status": "completed"
    },
    "tags": []
   },
   "source": [
    "### Prediction "
   ]
  },
  {
   "cell_type": "code",
   "execution_count": 12,
   "metadata": {
    "_kg_hide-input": true,
    "execution": {
     "iopub.execute_input": "2021-01-29T06:36:14.606348Z",
     "iopub.status.busy": "2021-01-29T06:36:14.605586Z",
     "iopub.status.idle": "2021-01-29T06:36:14.622032Z",
     "shell.execute_reply": "2021-01-29T06:36:14.622618Z"
    },
    "papermill": {
     "duration": 0.037619,
     "end_time": "2021-01-29T06:36:14.622777",
     "exception": false,
     "start_time": "2021-01-29T06:36:14.585158",
     "status": "completed"
    },
    "tags": []
   },
   "outputs": [
    {
     "data": {
      "text/plain": [
       "array([0])"
      ]
     },
     "execution_count": 12,
     "metadata": {},
     "output_type": "execute_result"
    }
   ],
   "source": [
    "classifier.predict([[2,3,4,1]])"
   ]
  },
  {
   "cell_type": "markdown",
   "metadata": {
    "papermill": {
     "duration": 0.017976,
     "end_time": "2021-01-29T06:36:14.659847",
     "exception": false,
     "start_time": "2021-01-29T06:36:14.641871",
     "status": "completed"
    },
    "tags": []
   },
   "source": [
    "### Model Deployment \n",
    "\n",
    "1.We have trained the moded and saved it as classifier.pkl file.\n",
    "\n",
    "2.Then we created a file Bank_Note.py consisting of code for creating web app using streamlit \n",
    "\n",
    "3.We have to install streamlit in our anaconda environment using commant pip install streamlit\n",
    "\n",
    "4.Save the classifier.pkl and Bank_Note.py in the same folder on your computer \n",
    "\n",
    "5.The using anaconda prompt run the code by using command streamlit run  Bank_Note.py\n",
    "\n",
    "6.You can refer to my Github Reprository https://github.com/biphili/Streamlit to get the web app code Bank_Note.py"
   ]
  },
  {
   "cell_type": "code",
   "execution_count": null,
   "metadata": {
    "papermill": {
     "duration": 0.017743,
     "end_time": "2021-01-29T06:36:14.695660",
     "exception": false,
     "start_time": "2021-01-29T06:36:14.677917",
     "status": "completed"
    },
    "tags": []
   },
   "outputs": [],
   "source": []
  }
 ],
 "metadata": {
  "kernelspec": {
   "display_name": "Python 3",
   "language": "python",
   "name": "python3"
  },
  "language_info": {
   "codemirror_mode": {
    "name": "ipython",
    "version": 3
   },
   "file_extension": ".py",
   "mimetype": "text/x-python",
   "name": "python",
   "nbconvert_exporter": "python",
   "pygments_lexer": "ipython3",
   "version": "3.7.6"
  },
  "papermill": {
   "duration": 7.902739,
   "end_time": "2021-01-29T06:36:14.821518",
   "environment_variables": {},
   "exception": null,
   "input_path": "__notebook__.ipynb",
   "output_path": "__notebook__.ipynb",
   "parameters": {},
   "start_time": "2021-01-29T06:36:06.918779",
   "version": "2.1.0"
  }
 },
 "nbformat": 4,
 "nbformat_minor": 4
}
