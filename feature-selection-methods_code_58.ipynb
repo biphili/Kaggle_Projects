{
 "cells": [
  {
   "cell_type": "markdown",
   "metadata": {
    "papermill": {
     "duration": 0.026363,
     "end_time": "2020-11-17T09:27:13.269760",
     "exception": false,
     "start_time": "2020-11-17T09:27:13.243397",
     "status": "completed"
    },
    "tags": []
   },
   "source": [
    "# During the lockdown I published my first book titled Inspiration:Thoughts on Spirituality,Technology,Wealth,Leadership and Motivation.The preview of the book can be read from the Amazon link https://lnkd.in/gj7bMQA\n",
    "# E Book is availabe for Rs 99 in India.Paperback Edition of the book is available on Amazon.com link https://lnkd.in/gkFYYMJ\n",
    "\n",
    "In an machine learning problem one of the most import steps is feature selection.Feature selection helps in simplification of model,improves accuracy,reduces training time,reduces overfitting and helps in avoiding curse of dimentionality.Here we will cover different techniques like \n",
    "\n",
    "1.Univariate feature Selection using p value and f Distribution \n",
    "\n",
    "   a)Select K Best \n",
    "\n",
    "   b)Select Percentile \n",
    "   \n",
    "   c)Generic Univariate Select \n",
    "\n",
    "2.Tree Based using Random Forest\n",
    "\n",
    "3.Regularization using Lasso \n",
    "\n",
    "This kernel is a work in process.If you like it please do vote."
   ]
  },
  {
   "cell_type": "code",
   "execution_count": 1,
   "metadata": {
    "_cell_guid": "b1076dfc-b9ad-4769-8c92-a6c4dae69d19",
    "_kg_hide-input": true,
    "_uuid": "8f2839f25d086af736a60e9eeb907d3b93b6e0e5",
    "execution": {
     "iopub.execute_input": "2020-11-17T09:27:13.325197Z",
     "iopub.status.busy": "2020-11-17T09:27:13.324412Z",
     "iopub.status.idle": "2020-11-17T09:27:13.330252Z",
     "shell.execute_reply": "2020-11-17T09:27:13.329565Z"
    },
    "papermill": {
     "duration": 0.035795,
     "end_time": "2020-11-17T09:27:13.330365",
     "exception": false,
     "start_time": "2020-11-17T09:27:13.294570",
     "status": "completed"
    },
    "tags": []
   },
   "outputs": [
    {
     "name": "stdout",
     "output_type": "stream",
     "text": [
      "/kaggle/input/breast-cancer-wisconsin-data/data.csv\n"
     ]
    }
   ],
   "source": [
    "# This Python 3 environment comes with many helpful analytics libraries installed\n",
    "# It is defined by the kaggle/python Docker image: https://github.com/kaggle/docker-python\n",
    "# For example, here's several helpful packages to load\n",
    "\n",
    "import numpy as np # linear algebra\n",
    "import pandas as pd # data processing, CSV file I/O (e.g. pd.read_csv)\n",
    "\n",
    "# Input data files are available in the read-only \"../input/\" directory\n",
    "# For example, running this (by clicking run or pressing Shift+Enter) will list all files under the input directory\n",
    "\n",
    "import os\n",
    "for dirname, _, filenames in os.walk('/kaggle/input'):\n",
    "    for filename in filenames:\n",
    "        print(os.path.join(dirname, filename))\n",
    "\n",
    "# You can write up to 5GB to the current directory (/kaggle/working/) that gets preserved as output when you create a version using \"Save & Run All\" \n",
    "# You can also write temporary files to /kaggle/temp/, but they won't be saved outside of the current session"
   ]
  },
  {
   "cell_type": "markdown",
   "metadata": {
    "papermill": {
     "duration": 0.024413,
     "end_time": "2020-11-17T09:27:13.381736",
     "exception": false,
     "start_time": "2020-11-17T09:27:13.357323",
     "status": "completed"
    },
    "tags": []
   },
   "source": [
    "### Importing data set"
   ]
  },
  {
   "cell_type": "code",
   "execution_count": 2,
   "metadata": {
    "_cell_guid": "79c7e3d0-c299-4dcb-8224-4455121ee9b0",
    "_uuid": "d629ff2d2480ee46fbb7e2d37f6b5fab8052498a",
    "execution": {
     "iopub.execute_input": "2020-11-17T09:27:13.439226Z",
     "iopub.status.busy": "2020-11-17T09:27:13.438511Z",
     "iopub.status.idle": "2020-11-17T09:27:13.486815Z",
     "shell.execute_reply": "2020-11-17T09:27:13.486241Z"
    },
    "papermill": {
     "duration": 0.079844,
     "end_time": "2020-11-17T09:27:13.486933",
     "exception": false,
     "start_time": "2020-11-17T09:27:13.407089",
     "status": "completed"
    },
    "tags": []
   },
   "outputs": [
    {
     "data": {
      "text/html": [
       "<div>\n",
       "<style scoped>\n",
       "    .dataframe tbody tr th:only-of-type {\n",
       "        vertical-align: middle;\n",
       "    }\n",
       "\n",
       "    .dataframe tbody tr th {\n",
       "        vertical-align: top;\n",
       "    }\n",
       "\n",
       "    .dataframe thead th {\n",
       "        text-align: right;\n",
       "    }\n",
       "</style>\n",
       "<table border=\"1\" class=\"dataframe\">\n",
       "  <thead>\n",
       "    <tr style=\"text-align: right;\">\n",
       "      <th></th>\n",
       "      <th>id</th>\n",
       "      <th>diagnosis</th>\n",
       "      <th>radius_mean</th>\n",
       "      <th>texture_mean</th>\n",
       "      <th>perimeter_mean</th>\n",
       "      <th>area_mean</th>\n",
       "      <th>smoothness_mean</th>\n",
       "      <th>compactness_mean</th>\n",
       "      <th>concavity_mean</th>\n",
       "      <th>concave points_mean</th>\n",
       "      <th>...</th>\n",
       "      <th>texture_worst</th>\n",
       "      <th>perimeter_worst</th>\n",
       "      <th>area_worst</th>\n",
       "      <th>smoothness_worst</th>\n",
       "      <th>compactness_worst</th>\n",
       "      <th>concavity_worst</th>\n",
       "      <th>concave points_worst</th>\n",
       "      <th>symmetry_worst</th>\n",
       "      <th>fractal_dimension_worst</th>\n",
       "      <th>Unnamed: 32</th>\n",
       "    </tr>\n",
       "  </thead>\n",
       "  <tbody>\n",
       "    <tr>\n",
       "      <th>0</th>\n",
       "      <td>842302</td>\n",
       "      <td>M</td>\n",
       "      <td>17.99</td>\n",
       "      <td>10.38</td>\n",
       "      <td>122.80</td>\n",
       "      <td>1001.0</td>\n",
       "      <td>0.11840</td>\n",
       "      <td>0.27760</td>\n",
       "      <td>0.3001</td>\n",
       "      <td>0.14710</td>\n",
       "      <td>...</td>\n",
       "      <td>17.33</td>\n",
       "      <td>184.60</td>\n",
       "      <td>2019.0</td>\n",
       "      <td>0.1622</td>\n",
       "      <td>0.6656</td>\n",
       "      <td>0.7119</td>\n",
       "      <td>0.2654</td>\n",
       "      <td>0.4601</td>\n",
       "      <td>0.11890</td>\n",
       "      <td>NaN</td>\n",
       "    </tr>\n",
       "    <tr>\n",
       "      <th>1</th>\n",
       "      <td>842517</td>\n",
       "      <td>M</td>\n",
       "      <td>20.57</td>\n",
       "      <td>17.77</td>\n",
       "      <td>132.90</td>\n",
       "      <td>1326.0</td>\n",
       "      <td>0.08474</td>\n",
       "      <td>0.07864</td>\n",
       "      <td>0.0869</td>\n",
       "      <td>0.07017</td>\n",
       "      <td>...</td>\n",
       "      <td>23.41</td>\n",
       "      <td>158.80</td>\n",
       "      <td>1956.0</td>\n",
       "      <td>0.1238</td>\n",
       "      <td>0.1866</td>\n",
       "      <td>0.2416</td>\n",
       "      <td>0.1860</td>\n",
       "      <td>0.2750</td>\n",
       "      <td>0.08902</td>\n",
       "      <td>NaN</td>\n",
       "    </tr>\n",
       "    <tr>\n",
       "      <th>2</th>\n",
       "      <td>84300903</td>\n",
       "      <td>M</td>\n",
       "      <td>19.69</td>\n",
       "      <td>21.25</td>\n",
       "      <td>130.00</td>\n",
       "      <td>1203.0</td>\n",
       "      <td>0.10960</td>\n",
       "      <td>0.15990</td>\n",
       "      <td>0.1974</td>\n",
       "      <td>0.12790</td>\n",
       "      <td>...</td>\n",
       "      <td>25.53</td>\n",
       "      <td>152.50</td>\n",
       "      <td>1709.0</td>\n",
       "      <td>0.1444</td>\n",
       "      <td>0.4245</td>\n",
       "      <td>0.4504</td>\n",
       "      <td>0.2430</td>\n",
       "      <td>0.3613</td>\n",
       "      <td>0.08758</td>\n",
       "      <td>NaN</td>\n",
       "    </tr>\n",
       "    <tr>\n",
       "      <th>3</th>\n",
       "      <td>84348301</td>\n",
       "      <td>M</td>\n",
       "      <td>11.42</td>\n",
       "      <td>20.38</td>\n",
       "      <td>77.58</td>\n",
       "      <td>386.1</td>\n",
       "      <td>0.14250</td>\n",
       "      <td>0.28390</td>\n",
       "      <td>0.2414</td>\n",
       "      <td>0.10520</td>\n",
       "      <td>...</td>\n",
       "      <td>26.50</td>\n",
       "      <td>98.87</td>\n",
       "      <td>567.7</td>\n",
       "      <td>0.2098</td>\n",
       "      <td>0.8663</td>\n",
       "      <td>0.6869</td>\n",
       "      <td>0.2575</td>\n",
       "      <td>0.6638</td>\n",
       "      <td>0.17300</td>\n",
       "      <td>NaN</td>\n",
       "    </tr>\n",
       "    <tr>\n",
       "      <th>4</th>\n",
       "      <td>84358402</td>\n",
       "      <td>M</td>\n",
       "      <td>20.29</td>\n",
       "      <td>14.34</td>\n",
       "      <td>135.10</td>\n",
       "      <td>1297.0</td>\n",
       "      <td>0.10030</td>\n",
       "      <td>0.13280</td>\n",
       "      <td>0.1980</td>\n",
       "      <td>0.10430</td>\n",
       "      <td>...</td>\n",
       "      <td>16.67</td>\n",
       "      <td>152.20</td>\n",
       "      <td>1575.0</td>\n",
       "      <td>0.1374</td>\n",
       "      <td>0.2050</td>\n",
       "      <td>0.4000</td>\n",
       "      <td>0.1625</td>\n",
       "      <td>0.2364</td>\n",
       "      <td>0.07678</td>\n",
       "      <td>NaN</td>\n",
       "    </tr>\n",
       "  </tbody>\n",
       "</table>\n",
       "<p>5 rows × 33 columns</p>\n",
       "</div>"
      ],
      "text/plain": [
       "         id diagnosis  radius_mean  texture_mean  perimeter_mean  area_mean  \\\n",
       "0    842302         M        17.99         10.38          122.80     1001.0   \n",
       "1    842517         M        20.57         17.77          132.90     1326.0   \n",
       "2  84300903         M        19.69         21.25          130.00     1203.0   \n",
       "3  84348301         M        11.42         20.38           77.58      386.1   \n",
       "4  84358402         M        20.29         14.34          135.10     1297.0   \n",
       "\n",
       "   smoothness_mean  compactness_mean  concavity_mean  concave points_mean  \\\n",
       "0          0.11840           0.27760          0.3001              0.14710   \n",
       "1          0.08474           0.07864          0.0869              0.07017   \n",
       "2          0.10960           0.15990          0.1974              0.12790   \n",
       "3          0.14250           0.28390          0.2414              0.10520   \n",
       "4          0.10030           0.13280          0.1980              0.10430   \n",
       "\n",
       "   ...  texture_worst  perimeter_worst  area_worst  smoothness_worst  \\\n",
       "0  ...          17.33           184.60      2019.0            0.1622   \n",
       "1  ...          23.41           158.80      1956.0            0.1238   \n",
       "2  ...          25.53           152.50      1709.0            0.1444   \n",
       "3  ...          26.50            98.87       567.7            0.2098   \n",
       "4  ...          16.67           152.20      1575.0            0.1374   \n",
       "\n",
       "   compactness_worst  concavity_worst  concave points_worst  symmetry_worst  \\\n",
       "0             0.6656           0.7119                0.2654          0.4601   \n",
       "1             0.1866           0.2416                0.1860          0.2750   \n",
       "2             0.4245           0.4504                0.2430          0.3613   \n",
       "3             0.8663           0.6869                0.2575          0.6638   \n",
       "4             0.2050           0.4000                0.1625          0.2364   \n",
       "\n",
       "   fractal_dimension_worst  Unnamed: 32  \n",
       "0                  0.11890          NaN  \n",
       "1                  0.08902          NaN  \n",
       "2                  0.08758          NaN  \n",
       "3                  0.17300          NaN  \n",
       "4                  0.07678          NaN  \n",
       "\n",
       "[5 rows x 33 columns]"
      ]
     },
     "execution_count": 2,
     "metadata": {},
     "output_type": "execute_result"
    }
   ],
   "source": [
    "df = pd.read_csv(\"../input/breast-cancer-wisconsin-data/data.csv\")\n",
    "df.head()"
   ]
  },
  {
   "cell_type": "markdown",
   "metadata": {
    "papermill": {
     "duration": 0.025461,
     "end_time": "2020-11-17T09:27:13.538401",
     "exception": false,
     "start_time": "2020-11-17T09:27:13.512940",
     "status": "completed"
    },
    "tags": []
   },
   "source": [
    "### Dropping columns"
   ]
  },
  {
   "cell_type": "code",
   "execution_count": 3,
   "metadata": {
    "_kg_hide-input": true,
    "execution": {
     "iopub.execute_input": "2020-11-17T09:27:13.600248Z",
     "iopub.status.busy": "2020-11-17T09:27:13.599555Z",
     "iopub.status.idle": "2020-11-17T09:27:13.622552Z",
     "shell.execute_reply": "2020-11-17T09:27:13.621912Z"
    },
    "papermill": {
     "duration": 0.057733,
     "end_time": "2020-11-17T09:27:13.622685",
     "exception": false,
     "start_time": "2020-11-17T09:27:13.564952",
     "status": "completed"
    },
    "tags": []
   },
   "outputs": [
    {
     "data": {
      "text/html": [
       "<div>\n",
       "<style scoped>\n",
       "    .dataframe tbody tr th:only-of-type {\n",
       "        vertical-align: middle;\n",
       "    }\n",
       "\n",
       "    .dataframe tbody tr th {\n",
       "        vertical-align: top;\n",
       "    }\n",
       "\n",
       "    .dataframe thead th {\n",
       "        text-align: right;\n",
       "    }\n",
       "</style>\n",
       "<table border=\"1\" class=\"dataframe\">\n",
       "  <thead>\n",
       "    <tr style=\"text-align: right;\">\n",
       "      <th></th>\n",
       "      <th>radius_mean</th>\n",
       "      <th>texture_mean</th>\n",
       "      <th>perimeter_mean</th>\n",
       "      <th>area_mean</th>\n",
       "      <th>smoothness_mean</th>\n",
       "      <th>compactness_mean</th>\n",
       "      <th>concavity_mean</th>\n",
       "      <th>concave points_mean</th>\n",
       "      <th>symmetry_mean</th>\n",
       "      <th>fractal_dimension_mean</th>\n",
       "      <th>...</th>\n",
       "      <th>radius_worst</th>\n",
       "      <th>texture_worst</th>\n",
       "      <th>perimeter_worst</th>\n",
       "      <th>area_worst</th>\n",
       "      <th>smoothness_worst</th>\n",
       "      <th>compactness_worst</th>\n",
       "      <th>concavity_worst</th>\n",
       "      <th>concave points_worst</th>\n",
       "      <th>symmetry_worst</th>\n",
       "      <th>fractal_dimension_worst</th>\n",
       "    </tr>\n",
       "  </thead>\n",
       "  <tbody>\n",
       "    <tr>\n",
       "      <th>0</th>\n",
       "      <td>17.99</td>\n",
       "      <td>10.38</td>\n",
       "      <td>122.80</td>\n",
       "      <td>1001.0</td>\n",
       "      <td>0.11840</td>\n",
       "      <td>0.27760</td>\n",
       "      <td>0.3001</td>\n",
       "      <td>0.14710</td>\n",
       "      <td>0.2419</td>\n",
       "      <td>0.07871</td>\n",
       "      <td>...</td>\n",
       "      <td>25.38</td>\n",
       "      <td>17.33</td>\n",
       "      <td>184.60</td>\n",
       "      <td>2019.0</td>\n",
       "      <td>0.1622</td>\n",
       "      <td>0.6656</td>\n",
       "      <td>0.7119</td>\n",
       "      <td>0.2654</td>\n",
       "      <td>0.4601</td>\n",
       "      <td>0.11890</td>\n",
       "    </tr>\n",
       "    <tr>\n",
       "      <th>1</th>\n",
       "      <td>20.57</td>\n",
       "      <td>17.77</td>\n",
       "      <td>132.90</td>\n",
       "      <td>1326.0</td>\n",
       "      <td>0.08474</td>\n",
       "      <td>0.07864</td>\n",
       "      <td>0.0869</td>\n",
       "      <td>0.07017</td>\n",
       "      <td>0.1812</td>\n",
       "      <td>0.05667</td>\n",
       "      <td>...</td>\n",
       "      <td>24.99</td>\n",
       "      <td>23.41</td>\n",
       "      <td>158.80</td>\n",
       "      <td>1956.0</td>\n",
       "      <td>0.1238</td>\n",
       "      <td>0.1866</td>\n",
       "      <td>0.2416</td>\n",
       "      <td>0.1860</td>\n",
       "      <td>0.2750</td>\n",
       "      <td>0.08902</td>\n",
       "    </tr>\n",
       "    <tr>\n",
       "      <th>2</th>\n",
       "      <td>19.69</td>\n",
       "      <td>21.25</td>\n",
       "      <td>130.00</td>\n",
       "      <td>1203.0</td>\n",
       "      <td>0.10960</td>\n",
       "      <td>0.15990</td>\n",
       "      <td>0.1974</td>\n",
       "      <td>0.12790</td>\n",
       "      <td>0.2069</td>\n",
       "      <td>0.05999</td>\n",
       "      <td>...</td>\n",
       "      <td>23.57</td>\n",
       "      <td>25.53</td>\n",
       "      <td>152.50</td>\n",
       "      <td>1709.0</td>\n",
       "      <td>0.1444</td>\n",
       "      <td>0.4245</td>\n",
       "      <td>0.4504</td>\n",
       "      <td>0.2430</td>\n",
       "      <td>0.3613</td>\n",
       "      <td>0.08758</td>\n",
       "    </tr>\n",
       "    <tr>\n",
       "      <th>3</th>\n",
       "      <td>11.42</td>\n",
       "      <td>20.38</td>\n",
       "      <td>77.58</td>\n",
       "      <td>386.1</td>\n",
       "      <td>0.14250</td>\n",
       "      <td>0.28390</td>\n",
       "      <td>0.2414</td>\n",
       "      <td>0.10520</td>\n",
       "      <td>0.2597</td>\n",
       "      <td>0.09744</td>\n",
       "      <td>...</td>\n",
       "      <td>14.91</td>\n",
       "      <td>26.50</td>\n",
       "      <td>98.87</td>\n",
       "      <td>567.7</td>\n",
       "      <td>0.2098</td>\n",
       "      <td>0.8663</td>\n",
       "      <td>0.6869</td>\n",
       "      <td>0.2575</td>\n",
       "      <td>0.6638</td>\n",
       "      <td>0.17300</td>\n",
       "    </tr>\n",
       "    <tr>\n",
       "      <th>4</th>\n",
       "      <td>20.29</td>\n",
       "      <td>14.34</td>\n",
       "      <td>135.10</td>\n",
       "      <td>1297.0</td>\n",
       "      <td>0.10030</td>\n",
       "      <td>0.13280</td>\n",
       "      <td>0.1980</td>\n",
       "      <td>0.10430</td>\n",
       "      <td>0.1809</td>\n",
       "      <td>0.05883</td>\n",
       "      <td>...</td>\n",
       "      <td>22.54</td>\n",
       "      <td>16.67</td>\n",
       "      <td>152.20</td>\n",
       "      <td>1575.0</td>\n",
       "      <td>0.1374</td>\n",
       "      <td>0.2050</td>\n",
       "      <td>0.4000</td>\n",
       "      <td>0.1625</td>\n",
       "      <td>0.2364</td>\n",
       "      <td>0.07678</td>\n",
       "    </tr>\n",
       "  </tbody>\n",
       "</table>\n",
       "<p>5 rows × 30 columns</p>\n",
       "</div>"
      ],
      "text/plain": [
       "   radius_mean  texture_mean  perimeter_mean  area_mean  smoothness_mean  \\\n",
       "0        17.99         10.38          122.80     1001.0          0.11840   \n",
       "1        20.57         17.77          132.90     1326.0          0.08474   \n",
       "2        19.69         21.25          130.00     1203.0          0.10960   \n",
       "3        11.42         20.38           77.58      386.1          0.14250   \n",
       "4        20.29         14.34          135.10     1297.0          0.10030   \n",
       "\n",
       "   compactness_mean  concavity_mean  concave points_mean  symmetry_mean  \\\n",
       "0           0.27760          0.3001              0.14710         0.2419   \n",
       "1           0.07864          0.0869              0.07017         0.1812   \n",
       "2           0.15990          0.1974              0.12790         0.2069   \n",
       "3           0.28390          0.2414              0.10520         0.2597   \n",
       "4           0.13280          0.1980              0.10430         0.1809   \n",
       "\n",
       "   fractal_dimension_mean  ...  radius_worst  texture_worst  perimeter_worst  \\\n",
       "0                 0.07871  ...         25.38          17.33           184.60   \n",
       "1                 0.05667  ...         24.99          23.41           158.80   \n",
       "2                 0.05999  ...         23.57          25.53           152.50   \n",
       "3                 0.09744  ...         14.91          26.50            98.87   \n",
       "4                 0.05883  ...         22.54          16.67           152.20   \n",
       "\n",
       "   area_worst  smoothness_worst  compactness_worst  concavity_worst  \\\n",
       "0      2019.0            0.1622             0.6656           0.7119   \n",
       "1      1956.0            0.1238             0.1866           0.2416   \n",
       "2      1709.0            0.1444             0.4245           0.4504   \n",
       "3       567.7            0.2098             0.8663           0.6869   \n",
       "4      1575.0            0.1374             0.2050           0.4000   \n",
       "\n",
       "   concave points_worst  symmetry_worst  fractal_dimension_worst  \n",
       "0                0.2654          0.4601                  0.11890  \n",
       "1                0.1860          0.2750                  0.08902  \n",
       "2                0.2430          0.3613                  0.08758  \n",
       "3                0.2575          0.6638                  0.17300  \n",
       "4                0.1625          0.2364                  0.07678  \n",
       "\n",
       "[5 rows x 30 columns]"
      ]
     },
     "execution_count": 3,
     "metadata": {},
     "output_type": "execute_result"
    }
   ],
   "source": [
    "df = df.drop(['id','diagnosis','Unnamed: 32'],axis=1) # Dropping Multiple Columns\n",
    "df.head()"
   ]
  },
  {
   "cell_type": "markdown",
   "metadata": {
    "papermill": {
     "duration": 0.026623,
     "end_time": "2020-11-17T09:27:13.676384",
     "exception": false,
     "start_time": "2020-11-17T09:27:13.649761",
     "status": "completed"
    },
    "tags": []
   },
   "source": [
    "We have dropped the columns which will not be useful for us during demonstration of feature selection techniques."
   ]
  },
  {
   "cell_type": "markdown",
   "metadata": {
    "papermill": {
     "duration": 0.026876,
     "end_time": "2020-11-17T09:27:13.733308",
     "exception": false,
     "start_time": "2020-11-17T09:27:13.706432",
     "status": "completed"
    },
    "tags": []
   },
   "source": [
    "### Splitting data into Independent and Dependent Features"
   ]
  },
  {
   "cell_type": "code",
   "execution_count": 4,
   "metadata": {
    "_kg_hide-input": true,
    "execution": {
     "iopub.execute_input": "2020-11-17T09:27:13.796325Z",
     "iopub.status.busy": "2020-11-17T09:27:13.795365Z",
     "iopub.status.idle": "2020-11-17T09:27:13.798535Z",
     "shell.execute_reply": "2020-11-17T09:27:13.797953Z"
    },
    "papermill": {
     "duration": 0.03704,
     "end_time": "2020-11-17T09:27:13.798640",
     "exception": false,
     "start_time": "2020-11-17T09:27:13.761600",
     "status": "completed"
    },
    "tags": []
   },
   "outputs": [],
   "source": [
    "X = df.iloc[:,:-1]\n",
    "y = df.iloc[:,-1]"
   ]
  },
  {
   "cell_type": "markdown",
   "metadata": {
    "papermill": {
     "duration": 0.026248,
     "end_time": "2020-11-17T09:27:13.851826",
     "exception": false,
     "start_time": "2020-11-17T09:27:13.825578",
     "status": "completed"
    },
    "tags": []
   },
   "source": [
    "Here we are taking all the feature except fractal_dimension_worst as independent variables and fractal_dimension_worst is considered as dependent variables."
   ]
  },
  {
   "cell_type": "markdown",
   "metadata": {
    "papermill": {
     "duration": 0.02788,
     "end_time": "2020-11-17T09:27:13.907719",
     "exception": false,
     "start_time": "2020-11-17T09:27:13.879839",
     "status": "completed"
    },
    "tags": []
   },
   "source": [
    "### Test Train Splitt"
   ]
  },
  {
   "cell_type": "code",
   "execution_count": 5,
   "metadata": {
    "_kg_hide-input": true,
    "execution": {
     "iopub.execute_input": "2020-11-17T09:27:13.966785Z",
     "iopub.status.busy": "2020-11-17T09:27:13.966129Z",
     "iopub.status.idle": "2020-11-17T09:27:14.899818Z",
     "shell.execute_reply": "2020-11-17T09:27:14.899067Z"
    },
    "papermill": {
     "duration": 0.965213,
     "end_time": "2020-11-17T09:27:14.899956",
     "exception": false,
     "start_time": "2020-11-17T09:27:13.934743",
     "status": "completed"
    },
    "tags": []
   },
   "outputs": [],
   "source": [
    "from sklearn.model_selection import train_test_split\n",
    "X_train, X_test, y_train, y_test = train_test_split(X,y,test_size=0.1,random_state= 10)"
   ]
  },
  {
   "cell_type": "markdown",
   "metadata": {
    "papermill": {
     "duration": 0.026389,
     "end_time": "2020-11-17T09:27:14.954285",
     "exception": false,
     "start_time": "2020-11-17T09:27:14.927896",
     "status": "completed"
    },
    "tags": []
   },
   "source": [
    "### Linear Regression "
   ]
  },
  {
   "cell_type": "code",
   "execution_count": 6,
   "metadata": {
    "_kg_hide-input": true,
    "execution": {
     "iopub.execute_input": "2020-11-17T09:27:15.015555Z",
     "iopub.status.busy": "2020-11-17T09:27:15.014818Z",
     "iopub.status.idle": "2020-11-17T09:27:15.178879Z",
     "shell.execute_reply": "2020-11-17T09:27:15.178066Z"
    },
    "papermill": {
     "duration": 0.197461,
     "end_time": "2020-11-17T09:27:15.179029",
     "exception": false,
     "start_time": "2020-11-17T09:27:14.981568",
     "status": "completed"
    },
    "tags": []
   },
   "outputs": [],
   "source": [
    "from sklearn.linear_model import LinearRegression\n",
    "lr = LinearRegression()\n",
    "lr.fit(X_train,y_train)\n",
    "y_predict = lr.predict(X_test)"
   ]
  },
  {
   "cell_type": "markdown",
   "metadata": {
    "papermill": {
     "duration": 0.027173,
     "end_time": "2020-11-17T09:27:15.244609",
     "exception": false,
     "start_time": "2020-11-17T09:27:15.217436",
     "status": "completed"
    },
    "tags": []
   },
   "source": [
    "### Mean Square Error"
   ]
  },
  {
   "cell_type": "code",
   "execution_count": 7,
   "metadata": {
    "_kg_hide-input": true,
    "execution": {
     "iopub.execute_input": "2020-11-17T09:27:15.307465Z",
     "iopub.status.busy": "2020-11-17T09:27:15.306509Z",
     "iopub.status.idle": "2020-11-17T09:27:15.311204Z",
     "shell.execute_reply": "2020-11-17T09:27:15.310706Z"
    },
    "papermill": {
     "duration": 0.038886,
     "end_time": "2020-11-17T09:27:15.311320",
     "exception": false,
     "start_time": "2020-11-17T09:27:15.272434",
     "status": "completed"
    },
    "tags": []
   },
   "outputs": [
    {
     "data": {
      "text/plain": [
       "0.007527201380366801"
      ]
     },
     "execution_count": 7,
     "metadata": {},
     "output_type": "execute_result"
    }
   ],
   "source": [
    "from sklearn.metrics import mean_squared_error\n",
    "import math\n",
    "rsme = math.sqrt(mean_squared_error(y_test,y_predict))\n",
    "rsme"
   ]
  },
  {
   "cell_type": "markdown",
   "metadata": {
    "papermill": {
     "duration": 0.028086,
     "end_time": "2020-11-17T09:27:15.367467",
     "exception": false,
     "start_time": "2020-11-17T09:27:15.339381",
     "status": "completed"
    },
    "tags": []
   },
   "source": [
    "# 1.Univariate Feature Selection using f Distribution"
   ]
  },
  {
   "cell_type": "code",
   "execution_count": 8,
   "metadata": {
    "_kg_hide-input": true,
    "execution": {
     "iopub.execute_input": "2020-11-17T09:27:15.430702Z",
     "iopub.status.busy": "2020-11-17T09:27:15.429963Z",
     "iopub.status.idle": "2020-11-17T09:27:15.523239Z",
     "shell.execute_reply": "2020-11-17T09:27:15.521626Z"
    },
    "papermill": {
     "duration": 0.128054,
     "end_time": "2020-11-17T09:27:15.523426",
     "exception": false,
     "start_time": "2020-11-17T09:27:15.395372",
     "status": "completed"
    },
    "tags": []
   },
   "outputs": [
    {
     "name": "stdout",
     "output_type": "stream",
     "text": [
      " \n",
      " \n",
      " \n",
      "     Features                      F-Score   P-Values\n",
      "     ------------                   --------  ---------\n",
      "     radius_mean                       0.03  0.866442\n",
      "     texture_mean                      8.17  0.004408\n",
      "     perimeter_mean                    1.48  0.224329\n",
      "     area_mean                         0.01  0.929114\n",
      "     smoothness_mean                 188.31  0.000000\n",
      "     compactness_mean                507.87  0.000000\n",
      "     concavity_mean                  204.59  0.000000\n",
      "     concave points_mean              89.18  0.000000\n",
      "     symmetry_mean                   134.91  0.000000\n",
      "     fractal_dimension_mean          811.70  0.000000\n",
      "     radius_se                         1.40  0.237880\n",
      "     texture_se                        1.18  0.276947\n",
      "     perimeter_se                      4.17  0.041637\n",
      "     area_se                           0.17  0.676320\n",
      "     smoothness_se                     5.90  0.015452\n",
      "     compactness_se                  304.30  0.000000\n",
      "     concavity_se                    135.61  0.000000\n",
      "     concave points_se                60.56  0.000000\n",
      "     symmetry_se                       3.48  0.062711\n",
      "     fractal_dimension_se            304.86  0.000000\n",
      "     radius_worst                      5.00  0.025740\n",
      "     texture_worst                    28.60  0.000000\n",
      "     perimeter_worst                  11.16  0.000889\n",
      "     area_worst                        3.62  0.057602\n",
      "     smoothness_worst                349.67  0.000000\n",
      "     compactness_worst              1085.28  0.000000\n",
      "     concavity_worst                 505.44  0.000000\n",
      "     concave points_worst            200.50  0.000000\n",
      "     symmetry_worst                  230.78  0.000000\n"
     ]
    }
   ],
   "source": [
    "from sklearn.feature_selection import f_regression as fr\n",
    "result = fr(X,y)\n",
    "f_score = result[0]\n",
    "p_values = result[1]\n",
    "\n",
    "# Getting column names \n",
    "columns = list(X.columns)\n",
    "print(\" \")\n",
    "print(\" \")\n",
    "print(\" \")\n",
    "\n",
    "print(\"     Features                     \",\"F-Score  \",\"P-Values\")\n",
    "print(\"     ------------                   --------  ---------\")\n",
    "\n",
    "for i in range(0,len(columns)):\n",
    "    f1 = \"%4.2f\" % f_score[i]\n",
    "    p1 = \"%2.6f\" % p_values[i]\n",
    "    print(\"    \",columns[i].ljust(25),f1.rjust(12),\"\",p1.rjust(8))\n",
    "\n"
   ]
  },
  {
   "cell_type": "markdown",
   "metadata": {
    "papermill": {
     "duration": 0.028487,
     "end_time": "2020-11-17T09:27:15.580498",
     "exception": false,
     "start_time": "2020-11-17T09:27:15.552011",
     "status": "completed"
    },
    "tags": []
   },
   "source": [
    "So now we have the F_score and p_values for all the features.For a feature to be statistically significant the p values should be less than 5% ie 0.05.If for any feature the p values is more than 0.05 we can discard the feature as it wont be statistically significant for predicting the dependent feature."
   ]
  },
  {
   "cell_type": "markdown",
   "metadata": {
    "papermill": {
     "duration": 0.027295,
     "end_time": "2020-11-17T09:27:15.636812",
     "exception": false,
     "start_time": "2020-11-17T09:27:15.609517",
     "status": "completed"
    },
    "tags": []
   },
   "source": [
    "### Comparing model performance with selected features"
   ]
  },
  {
   "cell_type": "code",
   "execution_count": 9,
   "metadata": {
    "_kg_hide-input": true,
    "execution": {
     "iopub.execute_input": "2020-11-17T09:27:15.705359Z",
     "iopub.status.busy": "2020-11-17T09:27:15.704274Z",
     "iopub.status.idle": "2020-11-17T09:27:15.707278Z",
     "shell.execute_reply": "2020-11-17T09:27:15.706698Z"
    },
    "papermill": {
     "duration": 0.041893,
     "end_time": "2020-11-17T09:27:15.707381",
     "exception": false,
     "start_time": "2020-11-17T09:27:15.665488",
     "status": "completed"
    },
    "tags": []
   },
   "outputs": [],
   "source": [
    "X_train_n = X_train[['texture_mean','smoothness_mean','compactness_mean','concavity_mean','concave points_mean','symmetry_mean','fractal_dimension_mean','perimeter_se','smoothness_se','compactness_se','concavity_se','concave points_se','fractal_dimension_se','radius_worst','texture_worst','perimeter_worst','smoothness_worst','compactness_worst','concavity_worst','concave points_worst','symmetry_worst']]\n",
    "X_test_n = X_test[['texture_mean','smoothness_mean','compactness_mean','concavity_mean','concave points_mean','symmetry_mean','fractal_dimension_mean','perimeter_se','smoothness_se','compactness_se','concavity_se','concave points_se','fractal_dimension_se','radius_worst','texture_worst','perimeter_worst','smoothness_worst','compactness_worst','concavity_worst','concave points_worst','symmetry_worst']]"
   ]
  },
  {
   "cell_type": "code",
   "execution_count": 10,
   "metadata": {
    "_kg_hide-input": true,
    "execution": {
     "iopub.execute_input": "2020-11-17T09:27:15.775846Z",
     "iopub.status.busy": "2020-11-17T09:27:15.774569Z",
     "iopub.status.idle": "2020-11-17T09:27:15.782495Z",
     "shell.execute_reply": "2020-11-17T09:27:15.781538Z"
    },
    "papermill": {
     "duration": 0.046391,
     "end_time": "2020-11-17T09:27:15.782671",
     "exception": false,
     "start_time": "2020-11-17T09:27:15.736280",
     "status": "completed"
    },
    "tags": []
   },
   "outputs": [],
   "source": [
    "from sklearn.linear_model import LinearRegression\n",
    "lr1 = LinearRegression()\n",
    "lr1.fit(X_train_n,y_train)\n",
    "y_predict1 = lr1.predict(X_test_n)"
   ]
  },
  {
   "cell_type": "code",
   "execution_count": 11,
   "metadata": {
    "_kg_hide-input": true,
    "execution": {
     "iopub.execute_input": "2020-11-17T09:27:15.852507Z",
     "iopub.status.busy": "2020-11-17T09:27:15.851868Z",
     "iopub.status.idle": "2020-11-17T09:27:15.857982Z",
     "shell.execute_reply": "2020-11-17T09:27:15.858490Z"
    },
    "papermill": {
     "duration": 0.042245,
     "end_time": "2020-11-17T09:27:15.858667",
     "exception": false,
     "start_time": "2020-11-17T09:27:15.816422",
     "status": "completed"
    },
    "tags": []
   },
   "outputs": [
    {
     "data": {
      "text/plain": [
       "0.008358315625380232"
      ]
     },
     "execution_count": 11,
     "metadata": {},
     "output_type": "execute_result"
    }
   ],
   "source": [
    "from sklearn.metrics import mean_squared_error\n",
    "import math\n",
    "rsme1 = math.sqrt(mean_squared_error(y_test,y_predict1))\n",
    "rsme1"
   ]
  },
  {
   "cell_type": "markdown",
   "metadata": {
    "papermill": {
     "duration": 0.029287,
     "end_time": "2020-11-17T09:27:15.917882",
     "exception": false,
     "start_time": "2020-11-17T09:27:15.888595",
     "status": "completed"
    },
    "tags": []
   },
   "source": [
    "Doing a feature selection based on p value of 0.05 has increased rsme value.So it tells us that some features having p value more than 0.05 have statistical significance on the outcome of the prediction.So we can either change the p value or include all the features while predicting the outcome."
   ]
  },
  {
   "cell_type": "markdown",
   "metadata": {
    "papermill": {
     "duration": 0.03002,
     "end_time": "2020-11-17T09:27:15.977232",
     "exception": false,
     "start_time": "2020-11-17T09:27:15.947212",
     "status": "completed"
    },
    "tags": []
   },
   "source": [
    "# Types of Univariate Feature Selection"
   ]
  },
  {
   "cell_type": "markdown",
   "metadata": {
    "papermill": {
     "duration": 0.029407,
     "end_time": "2020-11-17T09:27:16.035619",
     "exception": false,
     "start_time": "2020-11-17T09:27:16.006212",
     "status": "completed"
    },
    "tags": []
   },
   "source": [
    "### a)Select K Best \n",
    "\n",
    "In this case we will be specifying the value of K which represents the number of best features we want to select."
   ]
  },
  {
   "cell_type": "code",
   "execution_count": 12,
   "metadata": {
    "_kg_hide-input": true,
    "execution": {
     "iopub.execute_input": "2020-11-17T09:27:16.101429Z",
     "iopub.status.busy": "2020-11-17T09:27:16.100787Z",
     "iopub.status.idle": "2020-11-17T09:27:16.107853Z",
     "shell.execute_reply": "2020-11-17T09:27:16.108364Z"
    },
    "papermill": {
     "duration": 0.043728,
     "end_time": "2020-11-17T09:27:16.108507",
     "exception": false,
     "start_time": "2020-11-17T09:27:16.064779",
     "status": "completed"
    },
    "tags": []
   },
   "outputs": [],
   "source": [
    "from sklearn.feature_selection import f_regression as fr\n",
    "from sklearn.feature_selection import SelectKBest\n",
    "selectorK = SelectKBest(score_func=fr,k=5)\n",
    "X_k = selectorK.fit_transform(X,y)\n",
    "#X_k"
   ]
  },
  {
   "cell_type": "code",
   "execution_count": 13,
   "metadata": {
    "_kg_hide-input": true,
    "_kg_hide-output": true,
    "execution": {
     "iopub.execute_input": "2020-11-17T09:27:16.175353Z",
     "iopub.status.busy": "2020-11-17T09:27:16.174316Z",
     "iopub.status.idle": "2020-11-17T09:27:16.187928Z",
     "shell.execute_reply": "2020-11-17T09:27:16.187012Z"
    },
    "papermill": {
     "duration": 0.051142,
     "end_time": "2020-11-17T09:27:16.188115",
     "exception": false,
     "start_time": "2020-11-17T09:27:16.136973",
     "status": "completed"
    },
    "tags": []
   },
   "outputs": [
    {
     "name": "stdout",
     "output_type": "stream",
     "text": [
      " \n",
      " \n",
      " \n",
      "     Features                      F-Score   P-Values\n",
      "     ------------                   --------  ---------\n",
      "     radius_mean                       0.03  0.866442\n",
      "     texture_mean                      8.17  0.004408\n",
      "     perimeter_mean                    1.48  0.224329\n",
      "     area_mean                         0.01  0.929114\n",
      "     smoothness_mean                 188.31  0.000000\n",
      "     compactness_mean                507.87  0.000000\n",
      "     concavity_mean                  204.59  0.000000\n",
      "     concave points_mean              89.18  0.000000\n",
      "     symmetry_mean                   134.91  0.000000\n",
      "     fractal_dimension_mean          811.70  0.000000\n",
      "     radius_se                         1.40  0.237880\n",
      "     texture_se                        1.18  0.276947\n",
      "     perimeter_se                      4.17  0.041637\n",
      "     area_se                           0.17  0.676320\n",
      "     smoothness_se                     5.90  0.015452\n",
      "     compactness_se                  304.30  0.000000\n",
      "     concavity_se                    135.61  0.000000\n",
      "     concave points_se                60.56  0.000000\n",
      "     symmetry_se                       3.48  0.062711\n",
      "     fractal_dimension_se            304.86  0.000000\n",
      "     radius_worst                      5.00  0.025740\n",
      "     texture_worst                    28.60  0.000000\n",
      "     perimeter_worst                  11.16  0.000889\n",
      "     area_worst                        3.62  0.057602\n",
      "     smoothness_worst                349.67  0.000000\n",
      "     compactness_worst              1085.28  0.000000\n",
      "     concavity_worst                 505.44  0.000000\n",
      "     concave points_worst            200.50  0.000000\n",
      "     symmetry_worst                  230.78  0.000000\n"
     ]
    }
   ],
   "source": [
    "# Getting f_score and p values for the selected features\n",
    "#f_score = X_k[0]\n",
    "#p_values = X_k[1]\n",
    "\n",
    "f_score = selectorK.scores_\n",
    "p_values = selectorK.pvalues_\n",
    "\n",
    "# Getting column names \n",
    "columns = list(X.columns)\n",
    "print(\" \")\n",
    "print(\" \")\n",
    "print(\" \")\n",
    "\n",
    "print(\"     Features                     \",\"F-Score  \",\"P-Values\")\n",
    "print(\"     ------------                   --------  ---------\")\n",
    "\n",
    "for i in range(0,len(columns)):\n",
    "    f1 = \"%4.2f\" % f_score[i]\n",
    "    p1 = \"%2.6f\" % p_values[i]\n",
    "    print(\"    \",columns[i].ljust(25),f1.rjust(12),\"\",p1.rjust(8))\n",
    "\n"
   ]
  },
  {
   "cell_type": "code",
   "execution_count": 14,
   "metadata": {
    "_kg_hide-input": true,
    "execution": {
     "iopub.execute_input": "2020-11-17T09:27:16.262019Z",
     "iopub.status.busy": "2020-11-17T09:27:16.261156Z",
     "iopub.status.idle": "2020-11-17T09:27:16.265042Z",
     "shell.execute_reply": "2020-11-17T09:27:16.264247Z"
    },
    "papermill": {
     "duration": 0.038896,
     "end_time": "2020-11-17T09:27:16.265190",
     "exception": false,
     "start_time": "2020-11-17T09:27:16.226294",
     "status": "completed"
    },
    "tags": []
   },
   "outputs": [
    {
     "name": "stdout",
     "output_type": "stream",
     "text": [
      "['compactness_mean', 'fractal_dimension_mean', 'smoothness_worst', 'compactness_worst', 'concavity_worst']\n"
     ]
    }
   ],
   "source": [
    "# get the column names \n",
    "cols = selectorK.get_support(indices = True)\n",
    "selectedCols = X.columns[cols].tolist()\n",
    "print(selectedCols)"
   ]
  },
  {
   "cell_type": "markdown",
   "metadata": {
    "papermill": {
     "duration": 0.028855,
     "end_time": "2020-11-17T09:27:16.331437",
     "exception": false,
     "start_time": "2020-11-17T09:27:16.302582",
     "status": "completed"
    },
    "tags": []
   },
   "source": [
    "So if we were to selected 5 best features for our prediction then they will be the five features desplayed above.They are based on five lowest p values which is less than 0.05"
   ]
  },
  {
   "cell_type": "markdown",
   "metadata": {
    "papermill": {
     "duration": 0.029657,
     "end_time": "2020-11-17T09:27:16.391102",
     "exception": false,
     "start_time": "2020-11-17T09:27:16.361445",
     "status": "completed"
    },
    "tags": []
   },
   "source": [
    "### b)Select Percentile"
   ]
  },
  {
   "cell_type": "code",
   "execution_count": 15,
   "metadata": {
    "_kg_hide-input": true,
    "execution": {
     "iopub.execute_input": "2020-11-17T09:27:16.461479Z",
     "iopub.status.busy": "2020-11-17T09:27:16.460488Z",
     "iopub.status.idle": "2020-11-17T09:27:16.465512Z",
     "shell.execute_reply": "2020-11-17T09:27:16.464942Z"
    },
    "papermill": {
     "duration": 0.045078,
     "end_time": "2020-11-17T09:27:16.465625",
     "exception": false,
     "start_time": "2020-11-17T09:27:16.420547",
     "status": "completed"
    },
    "tags": []
   },
   "outputs": [],
   "source": [
    "from sklearn.feature_selection import f_regression as fr\n",
    "from sklearn.feature_selection import SelectPercentile\n",
    "selectorP = SelectPercentile(score_func=fr,percentile=20)\n",
    "X_p = selectorP.fit_transform(X,y)"
   ]
  },
  {
   "cell_type": "code",
   "execution_count": 16,
   "metadata": {
    "_kg_hide-input": true,
    "execution": {
     "iopub.execute_input": "2020-11-17T09:27:16.533221Z",
     "iopub.status.busy": "2020-11-17T09:27:16.532269Z",
     "iopub.status.idle": "2020-11-17T09:27:16.537220Z",
     "shell.execute_reply": "2020-11-17T09:27:16.536219Z"
    },
    "papermill": {
     "duration": 0.04138,
     "end_time": "2020-11-17T09:27:16.537378",
     "exception": false,
     "start_time": "2020-11-17T09:27:16.495998",
     "status": "completed"
    },
    "tags": []
   },
   "outputs": [
    {
     "name": "stdout",
     "output_type": "stream",
     "text": [
      "['compactness_mean', 'fractal_dimension_mean', 'fractal_dimension_se', 'smoothness_worst', 'compactness_worst', 'concavity_worst']\n"
     ]
    }
   ],
   "source": [
    "# get the column names \n",
    "cols_p = selectorP.get_support(indices = True)\n",
    "selectedCols_p = X.columns[cols_p].tolist()\n",
    "print(selectedCols_p)"
   ]
  },
  {
   "cell_type": "markdown",
   "metadata": {
    "papermill": {
     "duration": 0.029705,
     "end_time": "2020-11-17T09:27:16.597955",
     "exception": false,
     "start_time": "2020-11-17T09:27:16.568250",
     "status": "completed"
    },
    "tags": []
   },
   "source": [
    "So we have selected 20 % of the important features in our dataset.So we get a list of 6 most important features."
   ]
  },
  {
   "cell_type": "markdown",
   "metadata": {
    "papermill": {
     "duration": 0.031405,
     "end_time": "2020-11-17T09:27:16.659920",
     "exception": false,
     "start_time": "2020-11-17T09:27:16.628515",
     "status": "completed"
    },
    "tags": []
   },
   "source": [
    "### c)Generic Univariate Select "
   ]
  },
  {
   "cell_type": "markdown",
   "metadata": {
    "papermill": {
     "duration": 0.031909,
     "end_time": "2020-11-17T09:27:16.722045",
     "exception": false,
     "start_time": "2020-11-17T09:27:16.690136",
     "status": "completed"
    },
    "tags": []
   },
   "source": [
    "#### Based on K Best"
   ]
  },
  {
   "cell_type": "code",
   "execution_count": 17,
   "metadata": {
    "_kg_hide-input": true,
    "execution": {
     "iopub.execute_input": "2020-11-17T09:27:16.796917Z",
     "iopub.status.busy": "2020-11-17T09:27:16.796097Z",
     "iopub.status.idle": "2020-11-17T09:27:16.798606Z",
     "shell.execute_reply": "2020-11-17T09:27:16.799131Z"
    },
    "papermill": {
     "duration": 0.045963,
     "end_time": "2020-11-17T09:27:16.799276",
     "exception": false,
     "start_time": "2020-11-17T09:27:16.753313",
     "status": "completed"
    },
    "tags": []
   },
   "outputs": [],
   "source": [
    "from sklearn.feature_selection import f_regression as fr\n",
    "from sklearn.feature_selection import GenericUnivariateSelect\n",
    "selectorG1 = GenericUnivariateSelect(score_func=fr,mode='k_best',param=3)\n",
    "X_g1 = selectorG1.fit_transform(X,y)"
   ]
  },
  {
   "cell_type": "code",
   "execution_count": 18,
   "metadata": {
    "_kg_hide-input": true,
    "execution": {
     "iopub.execute_input": "2020-11-17T09:27:16.871062Z",
     "iopub.status.busy": "2020-11-17T09:27:16.869960Z",
     "iopub.status.idle": "2020-11-17T09:27:16.873315Z",
     "shell.execute_reply": "2020-11-17T09:27:16.873970Z"
    },
    "papermill": {
     "duration": 0.042961,
     "end_time": "2020-11-17T09:27:16.874152",
     "exception": false,
     "start_time": "2020-11-17T09:27:16.831191",
     "status": "completed"
    },
    "tags": []
   },
   "outputs": [
    {
     "name": "stdout",
     "output_type": "stream",
     "text": [
      "['compactness_mean', 'fractal_dimension_mean', 'compactness_worst']\n"
     ]
    }
   ],
   "source": [
    "# get the column names \n",
    "cols_g1 = selectorG1.get_support(indices = True)\n",
    "selectedCols_g1 = X.columns[cols_g1].tolist()\n",
    "print(selectedCols_g1)"
   ]
  },
  {
   "cell_type": "markdown",
   "metadata": {
    "papermill": {
     "duration": 0.031662,
     "end_time": "2020-11-17T09:27:16.941021",
     "exception": false,
     "start_time": "2020-11-17T09:27:16.909359",
     "status": "completed"
    },
    "tags": []
   },
   "source": [
    "#### Based on Percentile"
   ]
  },
  {
   "cell_type": "code",
   "execution_count": 19,
   "metadata": {
    "_kg_hide-input": true,
    "execution": {
     "iopub.execute_input": "2020-11-17T09:27:17.014158Z",
     "iopub.status.busy": "2020-11-17T09:27:17.011312Z",
     "iopub.status.idle": "2020-11-17T09:27:17.018548Z",
     "shell.execute_reply": "2020-11-17T09:27:17.017895Z"
    },
    "papermill": {
     "duration": 0.045674,
     "end_time": "2020-11-17T09:27:17.018684",
     "exception": false,
     "start_time": "2020-11-17T09:27:16.973010",
     "status": "completed"
    },
    "tags": []
   },
   "outputs": [],
   "source": [
    "from sklearn.feature_selection import f_regression as fr\n",
    "from sklearn.feature_selection import GenericUnivariateSelect\n",
    "selectorG2 = GenericUnivariateSelect(score_func=fr,mode='percentile',param=20)\n",
    "X_g2 = selectorG2.fit_transform(X,y)"
   ]
  },
  {
   "cell_type": "code",
   "execution_count": 20,
   "metadata": {
    "_kg_hide-input": true,
    "execution": {
     "iopub.execute_input": "2020-11-17T09:27:17.093047Z",
     "iopub.status.busy": "2020-11-17T09:27:17.091995Z",
     "iopub.status.idle": "2020-11-17T09:27:17.097303Z",
     "shell.execute_reply": "2020-11-17T09:27:17.097782Z"
    },
    "papermill": {
     "duration": 0.046215,
     "end_time": "2020-11-17T09:27:17.097939",
     "exception": false,
     "start_time": "2020-11-17T09:27:17.051724",
     "status": "completed"
    },
    "tags": []
   },
   "outputs": [
    {
     "name": "stdout",
     "output_type": "stream",
     "text": [
      "['compactness_mean', 'fractal_dimension_mean', 'fractal_dimension_se', 'smoothness_worst', 'compactness_worst', 'concavity_worst']\n"
     ]
    }
   ],
   "source": [
    "# get the column names \n",
    "cols_g2 = selectorG2.get_support(indices = True)\n",
    "selectedCols_g2 = X.columns[cols_g2].tolist()\n",
    "print(selectedCols_g2)"
   ]
  },
  {
   "cell_type": "markdown",
   "metadata": {
    "papermill": {
     "duration": 0.032311,
     "end_time": "2020-11-17T09:27:17.163369",
     "exception": false,
     "start_time": "2020-11-17T09:27:17.131058",
     "status": "completed"
    },
    "tags": []
   },
   "source": [
    "So we have covered different Univariate Feature selection techiniques in the above sections."
   ]
  },
  {
   "cell_type": "markdown",
   "metadata": {
    "papermill": {
     "duration": 0.046417,
     "end_time": "2020-11-17T09:27:17.247768",
     "exception": false,
     "start_time": "2020-11-17T09:27:17.201351",
     "status": "completed"
    },
    "tags": []
   },
   "source": [
    "# 2.Tree Based"
   ]
  },
  {
   "cell_type": "code",
   "execution_count": 21,
   "metadata": {
    "_kg_hide-input": true,
    "execution": {
     "iopub.execute_input": "2020-11-17T09:27:17.343748Z",
     "iopub.status.busy": "2020-11-17T09:27:17.342610Z",
     "iopub.status.idle": "2020-11-17T09:27:25.179823Z",
     "shell.execute_reply": "2020-11-17T09:27:25.179163Z"
    },
    "papermill": {
     "duration": 7.890619,
     "end_time": "2020-11-17T09:27:25.180001",
     "exception": false,
     "start_time": "2020-11-17T09:27:17.289382",
     "status": "completed"
    },
    "tags": []
   },
   "outputs": [
    {
     "name": "stdout",
     "output_type": "stream",
     "text": [
      "Accuracy of Random Forest: 88.50%\n"
     ]
    }
   ],
   "source": [
    "from sklearn.ensemble import RandomForestRegressor\n",
    "np.random.seed()\n",
    "forest = RandomForestRegressor(n_estimators=1000)\n",
    "fit = forest.fit(X_train,y_train)\n",
    "accuracy = fit.score(X_test,y_test)\n",
    "predict = fit.predict(X_test)\n",
    "#cmatrix = confusion_matrix(y_test,predict)\n",
    "\n",
    "#-------------------------------------------------------------------------------------------------#\n",
    "# Perform k Fold cross- validation \n",
    "\n",
    "print('Accuracy of Random Forest: %s'% \"{0:.2%}\".format(accuracy))"
   ]
  },
  {
   "cell_type": "code",
   "execution_count": 22,
   "metadata": {
    "_kg_hide-input": true,
    "execution": {
     "iopub.execute_input": "2020-11-17T09:27:25.262985Z",
     "iopub.status.busy": "2020-11-17T09:27:25.256806Z",
     "iopub.status.idle": "2020-11-17T09:27:25.359152Z",
     "shell.execute_reply": "2020-11-17T09:27:25.358397Z"
    },
    "papermill": {
     "duration": 0.141136,
     "end_time": "2020-11-17T09:27:25.359276",
     "exception": false,
     "start_time": "2020-11-17T09:27:25.218140",
     "status": "completed"
    },
    "tags": []
   },
   "outputs": [],
   "source": [
    "# Feature importance \n",
    "importances = forest.feature_importances_\n",
    "indices = np.argsort(importances)[::-1]"
   ]
  },
  {
   "cell_type": "code",
   "execution_count": 23,
   "metadata": {
    "_kg_hide-input": true,
    "execution": {
     "iopub.execute_input": "2020-11-17T09:27:25.437035Z",
     "iopub.status.busy": "2020-11-17T09:27:25.436122Z",
     "iopub.status.idle": "2020-11-17T09:27:26.171811Z",
     "shell.execute_reply": "2020-11-17T09:27:26.171122Z"
    },
    "papermill": {
     "duration": 0.777651,
     "end_time": "2020-11-17T09:27:26.171928",
     "exception": false,
     "start_time": "2020-11-17T09:27:25.394277",
     "status": "completed"
    },
    "tags": []
   },
   "outputs": [
    {
     "name": "stdout",
     "output_type": "stream",
     "text": [
      "Feature ranking\n",
      "Feature radius_mean (0.574022)\n",
      "Feature texture_mean (0.250839)\n",
      "Feature perimeter_mean (0.035649)\n",
      "Feature area_mean (0.015655)\n",
      "Feature smoothness_mean (0.012949)\n",
      "Feature compactness_mean (0.012713)\n",
      "Feature concavity_mean (0.011056)\n",
      "Feature concave points_mean (0.009162)\n",
      "Feature symmetry_mean (0.006182)\n",
      "Feature fractal_dimension_mean (0.005517)\n",
      "Feature radius_se (0.005388)\n",
      "Feature texture_se (0.005281)\n",
      "Feature perimeter_se (0.004801)\n",
      "Feature area_se (0.004490)\n",
      "Feature smoothness_se (0.004372)\n",
      "Feature compactness_se (0.003672)\n",
      "Feature concavity_se (0.003613)\n",
      "Feature concave points_se (0.003400)\n",
      "Feature symmetry_se (0.003351)\n",
      "Feature fractal_dimension_se (0.003334)\n",
      "Feature radius_worst (0.003137)\n",
      "Feature texture_worst (0.003081)\n",
      "Feature perimeter_worst (0.003074)\n",
      "Feature area_worst (0.002841)\n",
      "Feature smoothness_worst (0.002819)\n",
      "Feature compactness_worst (0.002809)\n",
      "Feature concavity_worst (0.002787)\n",
      "Feature concave points_worst (0.002218)\n",
      "Feature symmetry_worst (0.001786)\n"
     ]
    },
    {
     "data": {
      "image/png": "[encoded data removed]",
      "text/plain": [
       "<Figure size 864x864 with 1 Axes>"
      ]
     },
     "metadata": {},
     "output_type": "display_data"
    }
   ],
   "source": [
    "import matplotlib.pyplot as plt\n",
    "import seaborn as sns\n",
    "print(\"Feature ranking\")\n",
    "for f in range(X.shape[1]):\n",
    "    print(\"Feature %s (%f)\" % (list(X)[f],importances[indices[f]]))\n",
    "\n",
    "feat_imp = pd.DataFrame({'Feature':list(X),\n",
    "                        'Gini importance':importances[indices]})\n",
    "plt.rcParams['figure.figsize']=(12,12)\n",
    "sns.set_style('whitegrid')\n",
    "ax = sns.barplot(x='Gini importance',y='Feature',data=feat_imp)\n",
    "ax.set(xlabel='Gini Importance')\n",
    "pass"
   ]
  },
  {
   "cell_type": "markdown",
   "metadata": {
    "papermill": {
     "duration": 0.034972,
     "end_time": "2020-11-17T09:27:26.242280",
     "exception": false,
     "start_time": "2020-11-17T09:27:26.207308",
     "status": "completed"
    },
    "tags": []
   },
   "source": [
    "Using the Random Forest Regressor we have done feature selection based on their importance."
   ]
  },
  {
   "cell_type": "markdown",
   "metadata": {
    "papermill": {
     "duration": 0.035019,
     "end_time": "2020-11-17T09:27:26.314646",
     "exception": false,
     "start_time": "2020-11-17T09:27:26.279627",
     "status": "completed"
    },
    "tags": []
   },
   "source": [
    "# 3.Lasso Regression"
   ]
  },
  {
   "cell_type": "code",
   "execution_count": 24,
   "metadata": {
    "_kg_hide-input": true,
    "execution": {
     "iopub.execute_input": "2020-11-17T09:27:26.396632Z",
     "iopub.status.busy": "2020-11-17T09:27:26.395963Z",
     "iopub.status.idle": "2020-11-17T09:27:26.410534Z",
     "shell.execute_reply": "2020-11-17T09:27:26.408607Z"
    },
    "papermill": {
     "duration": 0.060456,
     "end_time": "2020-11-17T09:27:26.410710",
     "exception": false,
     "start_time": "2020-11-17T09:27:26.350254",
     "status": "completed"
    },
    "tags": []
   },
   "outputs": [
    {
     "data": {
      "text/plain": [
       "SelectFromModel(estimator=Lasso(alpha=0.005, random_state=0))"
      ]
     },
     "execution_count": 24,
     "metadata": {},
     "output_type": "execute_result"
    }
   ],
   "source": [
    "from sklearn.linear_model import Lasso \n",
    "from sklearn.feature_selection import SelectFromModel\n",
    "sel_ = SelectFromModel(Lasso(alpha=0.005,random_state=0))\n",
    "sel_.fit(X_train,y_train)"
   ]
  },
  {
   "cell_type": "code",
   "execution_count": 25,
   "metadata": {
    "execution": {
     "iopub.execute_input": "2020-11-17T09:27:26.493464Z",
     "iopub.status.busy": "2020-11-17T09:27:26.492361Z",
     "iopub.status.idle": "2020-11-17T09:27:26.498593Z",
     "shell.execute_reply": "2020-11-17T09:27:26.497935Z"
    },
    "papermill": {
     "duration": 0.051177,
     "end_time": "2020-11-17T09:27:26.498740",
     "exception": false,
     "start_time": "2020-11-17T09:27:26.447563",
     "status": "completed"
    },
    "tags": []
   },
   "outputs": [
    {
     "data": {
      "text/plain": [
       "array([False, False, False,  True, False, False, False, False, False,\n",
       "       False, False, False, False,  True, False, False, False, False,\n",
       "       False, False, False,  True,  True,  True, False, False, False,\n",
       "       False, False])"
      ]
     },
     "execution_count": 25,
     "metadata": {},
     "output_type": "execute_result"
    }
   ],
   "source": [
    "sel_.get_support()"
   ]
  },
  {
   "cell_type": "code",
   "execution_count": 26,
   "metadata": {
    "_kg_hide-input": true,
    "execution": {
     "iopub.execute_input": "2020-11-17T09:27:26.581523Z",
     "iopub.status.busy": "2020-11-17T09:27:26.580610Z",
     "iopub.status.idle": "2020-11-17T09:27:26.584694Z",
     "shell.execute_reply": "2020-11-17T09:27:26.584069Z"
    },
    "papermill": {
     "duration": 0.049359,
     "end_time": "2020-11-17T09:27:26.584809",
     "exception": false,
     "start_time": "2020-11-17T09:27:26.535450",
     "status": "completed"
    },
    "tags": []
   },
   "outputs": [
    {
     "name": "stdout",
     "output_type": "stream",
     "text": [
      "total features: 29\n",
      "Selected features: 5\n",
      "Features with coefficients shrank to zero: 24\n"
     ]
    }
   ],
   "source": [
    "selected_feat=X_train.columns[(sel_.get_support())]\n",
    "\n",
    "print('total features: {}'.format((X_train.shape[1])))\n",
    "print('Selected features: {}'.format(len(selected_feat)))\n",
    "print('Features with coefficients shrank to zero: {}'.format(np.sum(sel_.estimator_.coef_==0)))"
   ]
  },
  {
   "cell_type": "code",
   "execution_count": 27,
   "metadata": {
    "_kg_hide-input": true,
    "execution": {
     "iopub.execute_input": "2020-11-17T09:27:26.667098Z",
     "iopub.status.busy": "2020-11-17T09:27:26.666179Z",
     "iopub.status.idle": "2020-11-17T09:27:26.671418Z",
     "shell.execute_reply": "2020-11-17T09:27:26.670776Z"
    },
    "papermill": {
     "duration": 0.047988,
     "end_time": "2020-11-17T09:27:26.671529",
     "exception": false,
     "start_time": "2020-11-17T09:27:26.623541",
     "status": "completed"
    },
    "tags": []
   },
   "outputs": [
    {
     "data": {
      "text/plain": [
       "Index(['area_mean', 'area_se', 'texture_worst', 'perimeter_worst',\n",
       "       'area_worst'],\n",
       "      dtype='object')"
      ]
     },
     "execution_count": 27,
     "metadata": {},
     "output_type": "execute_result"
    }
   ],
   "source": [
    "selected_feat"
   ]
  },
  {
   "cell_type": "code",
   "execution_count": 28,
   "metadata": {
    "_kg_hide-input": true,
    "execution": {
     "iopub.execute_input": "2020-11-17T09:27:26.751844Z",
     "iopub.status.busy": "2020-11-17T09:27:26.750768Z",
     "iopub.status.idle": "2020-11-17T09:27:26.755957Z",
     "shell.execute_reply": "2020-11-17T09:27:26.755308Z"
    },
    "papermill": {
     "duration": 0.047131,
     "end_time": "2020-11-17T09:27:26.756076",
     "exception": false,
     "start_time": "2020-11-17T09:27:26.708945",
     "status": "completed"
    },
    "tags": []
   },
   "outputs": [
    {
     "data": {
      "text/plain": [
       "Index(['area_mean', 'area_se', 'texture_worst', 'perimeter_worst',\n",
       "       'area_worst'],\n",
       "      dtype='object')"
      ]
     },
     "execution_count": 28,
     "metadata": {},
     "output_type": "execute_result"
    }
   ],
   "source": [
    "selected_feat = X_train.columns[(sel_.estimator_.coef_!=0).ravel().tolist()]\n",
    "selected_feat"
   ]
  },
  {
   "cell_type": "markdown",
   "metadata": {
    "papermill": {
     "duration": 0.037855,
     "end_time": "2020-11-17T09:27:26.833116",
     "exception": false,
     "start_time": "2020-11-17T09:27:26.795261",
     "status": "completed"
    },
    "tags": []
   },
   "source": [
    "We have see how we are able to do a feature slection using Lasso Regression.By changing the value of alpha we will be ablw to get desired number of featured for our ML Model."
   ]
  },
  {
   "cell_type": "markdown",
   "metadata": {
    "papermill": {
     "duration": 0.038295,
     "end_time": "2020-11-17T09:27:26.911025",
     "exception": false,
     "start_time": "2020-11-17T09:27:26.872730",
     "status": "completed"
    },
    "tags": []
   },
   "source": [
    "# Conclusion \n",
    "\n",
    "In the Kernel we have covered Univariate,Tree based and Lasso feature selection techniques for Regression Problems,I hope this kernel will be useful for you in future to carry out activity of feature selection on your dataset."
   ]
  }
 ],
 "metadata": {
  "kernelspec": {
   "display_name": "Python 3",
   "language": "python",
   "name": "python3"
  },
  "language_info": {
   "codemirror_mode": {
    "name": "ipython",
    "version": 3
   },
   "file_extension": ".py",
   "mimetype": "text/x-python",
   "name": "python",
   "nbconvert_exporter": "python",
   "pygments_lexer": "ipython3",
   "version": "3.7.6"
  },
  "papermill": {
   "duration": 18.266545,
   "end_time": "2020-11-17T09:27:27.056757",
   "environment_variables": {},
   "exception": null,
   "input_path": "__notebook__.ipynb",
   "output_path": "__notebook__.ipynb",
   "parameters": {},
   "start_time": "2020-11-17T09:27:08.790212",
   "version": "2.1.0"
  }
 },
 "nbformat": 4,
 "nbformat_minor": 4
}
