{
 "cells": [
  {
   "cell_type": "markdown",
   "execution_count": null,
   "metadata": {
    "papermill": {
     "duration": 0.010906,
     "end_time": "2020-09-03T07:42:31.467652",
     "exception": false,
     "start_time": "2020-09-03T07:42:31.456746",
     "status": "completed"
    },
    "tags": []
   },
   "source": [
    "Here I will be covering various concepts of time series data.This kernel is work in process and I will be updating it in coming days.If you like my kernels please do vote."
   ]
  },
  {
   "cell_type": "code",
   "execution_count": 1,
   "metadata": {
    "_cell_guid": "b1076dfc-b9ad-4769-8c92-a6c4dae69d19",
    "_kg_hide-input": true,
    "_uuid": "8f2839f25d086af736a60e9eeb907d3b93b6e0e5",
    "execution": {
     "iopub.execute_input": "2020-09-03T07:42:31.492549Z",
     "iopub.status.busy": "2020-09-03T07:42:31.491618Z",
     "iopub.status.idle": "2020-09-03T07:42:31.503775Z",
     "shell.execute_reply": "2020-09-03T07:42:31.503065Z"
    },
    "papermill": {
     "duration": 0.029635,
     "end_time": "2020-09-03T07:42:31.503943",
     "exception": false,
     "start_time": "2020-09-03T07:42:31.474308",
     "status": "completed"
    },
    "tags": []
   },
   "outputs": [
    {
     "name": "stdout",
     "output_type": "stream",
     "text": [
      "/kaggle/input/solar-power-generation-data/Plant_2_Weather_Sensor_Data.csv\n",
      "/kaggle/input/solar-power-generation-data/Plant_1_Generation_Data.csv\n",
      "/kaggle/input/solar-power-generation-data/Plant_2_Generation_Data.csv\n",
      "/kaggle/input/solar-power-generation-data/Plant_1_Weather_Sensor_Data.csv\n"
     ]
    }
   ],
   "source": [
    "# This Python 3 environment comes with many helpful analytics libraries installed\n",
    "# It is defined by the kaggle/python Docker image: https://github.com/kaggle/docker-python\n",
    "# For example, here's several helpful packages to load\n",
    "\n",
    "import numpy as np # linear algebra\n",
    "import pandas as pd # data processing, CSV file I/O (e.g. pd.read_csv)\n",
    "\n",
    "# Input data files are available in the read-only \"../input/\" directory\n",
    "# For example, running this (by clicking run or pressing Shift+Enter) will list all files under the input directory\n",
    "\n",
    "import os\n",
    "for dirname, _, filenames in os.walk('/kaggle/input'):\n",
    "    for filename in filenames:\n",
    "        print(os.path.join(dirname, filename))\n",
    "\n",
    "# You can write up to 5GB to the current directory (/kaggle/working/) that gets preserved as output when you create a version using \"Save & Run All\" \n",
    "# You can also write temporary files to /kaggle/temp/, but they won't be saved outside of the current session"
   ]
  },
  {
   "cell_type": "markdown",
   "execution_count": null,
   "metadata": {
    "papermill": {
     "duration": 0.005944,
     "end_time": "2020-09-03T07:42:31.517203",
     "exception": false,
     "start_time": "2020-09-03T07:42:31.511259",
     "status": "completed"
    },
    "tags": []
   },
   "source": [
    "# 1.Importing the Data and Data Exploration"
   ]
  },
  {
   "cell_type": "code",
   "execution_count": 2,
   "metadata": {
    "_kg_hide-input": true,
    "execution": {
     "iopub.execute_input": "2020-09-03T07:42:31.537314Z",
     "iopub.status.busy": "2020-09-03T07:42:31.536381Z",
     "iopub.status.idle": "2020-09-03T07:42:33.131789Z",
     "shell.execute_reply": "2020-09-03T07:42:33.131126Z"
    },
    "papermill": {
     "duration": 1.60855,
     "end_time": "2020-09-03T07:42:33.131960",
     "exception": false,
     "start_time": "2020-09-03T07:42:31.523410",
     "status": "completed"
    },
    "tags": []
   },
   "outputs": [],
   "source": [
    "import matplotlib.pyplot as plt\n",
    "import seaborn as sns"
   ]
  },
  {
   "cell_type": "code",
   "execution_count": 3,
   "metadata": {
    "_cell_guid": "79c7e3d0-c299-4dcb-8224-4455121ee9b0",
    "_kg_hide-input": true,
    "_uuid": "d629ff2d2480ee46fbb7e2d37f6b5fab8052498a",
    "execution": {
     "iopub.execute_input": "2020-09-03T07:42:33.155779Z",
     "iopub.status.busy": "2020-09-03T07:42:33.154703Z",
     "iopub.status.idle": "2020-09-03T07:42:33.839840Z",
     "shell.execute_reply": "2020-09-03T07:42:33.839029Z"
    },
    "papermill": {
     "duration": 0.701718,
     "end_time": "2020-09-03T07:42:33.840004",
     "exception": false,
     "start_time": "2020-09-03T07:42:33.138286",
     "status": "completed"
    },
    "tags": []
   },
   "outputs": [],
   "source": [
    "#df1 = pd.read_csv(\"../input/solar-power-generation-data/Plant_1_Generation_Data.csv\")\n",
    "df1=pd.read_csv('../input/solar-power-generation-data/Plant_1_Generation_Data.csv',parse_dates=['DATE_TIME'],index_col=0)\n",
    "df2 = pd.read_csv(\"../input/solar-power-generation-data/Plant_1_Weather_Sensor_Data.csv\")"
   ]
  },
  {
   "cell_type": "code",
   "execution_count": 4,
   "metadata": {
    "_kg_hide-input": true,
    "execution": {
     "iopub.execute_input": "2020-09-03T07:42:33.882085Z",
     "iopub.status.busy": "2020-09-03T07:42:33.880907Z",
     "iopub.status.idle": "2020-09-03T07:42:33.893406Z",
     "shell.execute_reply": "2020-09-03T07:42:33.894069Z"
    },
    "papermill": {
     "duration": 0.047925,
     "end_time": "2020-09-03T07:42:33.894239",
     "exception": false,
     "start_time": "2020-09-03T07:42:33.846314",
     "status": "completed"
    },
    "tags": []
   },
   "outputs": [
    {
     "data": {
      "text/html": [
       "<div>\n",
       "<style scoped>\n",
       "    .dataframe tbody tr th:only-of-type {\n",
       "        vertical-align: middle;\n",
       "    }\n",
       "\n",
       "    .dataframe tbody tr th {\n",
       "        vertical-align: top;\n",
       "    }\n",
       "\n",
       "    .dataframe thead th {\n",
       "        text-align: right;\n",
       "    }\n",
       "</style>\n",
       "<table border=\"1\" class=\"dataframe\">\n",
       "  <thead>\n",
       "    <tr style=\"text-align: right;\">\n",
       "      <th></th>\n",
       "      <th>PLANT_ID</th>\n",
       "      <th>SOURCE_KEY</th>\n",
       "      <th>DC_POWER</th>\n",
       "      <th>AC_POWER</th>\n",
       "      <th>DAILY_YIELD</th>\n",
       "      <th>TOTAL_YIELD</th>\n",
       "    </tr>\n",
       "    <tr>\n",
       "      <th>DATE_TIME</th>\n",
       "      <th></th>\n",
       "      <th></th>\n",
       "      <th></th>\n",
       "      <th></th>\n",
       "      <th></th>\n",
       "      <th></th>\n",
       "    </tr>\n",
       "  </thead>\n",
       "  <tbody>\n",
       "    <tr>\n",
       "      <th>2020-06-17 23:45:00</th>\n",
       "      <td>4135001</td>\n",
       "      <td>uHbuxQJl8lW7ozc</td>\n",
       "      <td>0.0</td>\n",
       "      <td>0.0</td>\n",
       "      <td>5967.000</td>\n",
       "      <td>7287002.0</td>\n",
       "    </tr>\n",
       "    <tr>\n",
       "      <th>2020-06-17 23:45:00</th>\n",
       "      <td>4135001</td>\n",
       "      <td>wCURE6d3bPkepu2</td>\n",
       "      <td>0.0</td>\n",
       "      <td>0.0</td>\n",
       "      <td>5147.625</td>\n",
       "      <td>7028601.0</td>\n",
       "    </tr>\n",
       "    <tr>\n",
       "      <th>2020-06-17 23:45:00</th>\n",
       "      <td>4135001</td>\n",
       "      <td>z9Y9gH1T5YWrNuG</td>\n",
       "      <td>0.0</td>\n",
       "      <td>0.0</td>\n",
       "      <td>5819.000</td>\n",
       "      <td>7251204.0</td>\n",
       "    </tr>\n",
       "    <tr>\n",
       "      <th>2020-06-17 23:45:00</th>\n",
       "      <td>4135001</td>\n",
       "      <td>zBIq5rxdHJRwDNY</td>\n",
       "      <td>0.0</td>\n",
       "      <td>0.0</td>\n",
       "      <td>5817.000</td>\n",
       "      <td>6583369.0</td>\n",
       "    </tr>\n",
       "    <tr>\n",
       "      <th>2020-06-17 23:45:00</th>\n",
       "      <td>4135001</td>\n",
       "      <td>zVJPv84UY57bAof</td>\n",
       "      <td>0.0</td>\n",
       "      <td>0.0</td>\n",
       "      <td>5910.000</td>\n",
       "      <td>7363272.0</td>\n",
       "    </tr>\n",
       "  </tbody>\n",
       "</table>\n",
       "</div>"
      ],
      "text/plain": [
       "                     PLANT_ID       SOURCE_KEY  DC_POWER  AC_POWER  \\\n",
       "DATE_TIME                                                            \n",
       "2020-06-17 23:45:00   4135001  uHbuxQJl8lW7ozc       0.0       0.0   \n",
       "2020-06-17 23:45:00   4135001  wCURE6d3bPkepu2       0.0       0.0   \n",
       "2020-06-17 23:45:00   4135001  z9Y9gH1T5YWrNuG       0.0       0.0   \n",
       "2020-06-17 23:45:00   4135001  zBIq5rxdHJRwDNY       0.0       0.0   \n",
       "2020-06-17 23:45:00   4135001  zVJPv84UY57bAof       0.0       0.0   \n",
       "\n",
       "                     DAILY_YIELD  TOTAL_YIELD  \n",
       "DATE_TIME                                      \n",
       "2020-06-17 23:45:00     5967.000    7287002.0  \n",
       "2020-06-17 23:45:00     5147.625    7028601.0  \n",
       "2020-06-17 23:45:00     5819.000    7251204.0  \n",
       "2020-06-17 23:45:00     5817.000    6583369.0  \n",
       "2020-06-17 23:45:00     5910.000    7363272.0  "
      ]
     },
     "execution_count": 4,
     "metadata": {},
     "output_type": "execute_result"
    }
   ],
   "source": [
    "df1.tail()"
   ]
  },
  {
   "cell_type": "code",
   "execution_count": 5,
   "metadata": {
    "_kg_hide-input": true,
    "execution": {
     "iopub.execute_input": "2020-09-03T07:42:33.922084Z",
     "iopub.status.busy": "2020-09-03T07:42:33.916470Z",
     "iopub.status.idle": "2020-09-03T07:42:33.928511Z",
     "shell.execute_reply": "2020-09-03T07:42:33.927407Z"
    },
    "papermill": {
     "duration": 0.027828,
     "end_time": "2020-09-03T07:42:33.928704",
     "exception": false,
     "start_time": "2020-09-03T07:42:33.900876",
     "status": "completed"
    },
    "tags": []
   },
   "outputs": [
    {
     "data": {
      "text/html": [
       "<div>\n",
       "<style scoped>\n",
       "    .dataframe tbody tr th:only-of-type {\n",
       "        vertical-align: middle;\n",
       "    }\n",
       "\n",
       "    .dataframe tbody tr th {\n",
       "        vertical-align: top;\n",
       "    }\n",
       "\n",
       "    .dataframe thead th {\n",
       "        text-align: right;\n",
       "    }\n",
       "</style>\n",
       "<table border=\"1\" class=\"dataframe\">\n",
       "  <thead>\n",
       "    <tr style=\"text-align: right;\">\n",
       "      <th></th>\n",
       "      <th>DATE_TIME</th>\n",
       "      <th>PLANT_ID</th>\n",
       "      <th>SOURCE_KEY</th>\n",
       "      <th>AMBIENT_TEMPERATURE</th>\n",
       "      <th>MODULE_TEMPERATURE</th>\n",
       "      <th>IRRADIATION</th>\n",
       "    </tr>\n",
       "  </thead>\n",
       "  <tbody>\n",
       "    <tr>\n",
       "      <th>0</th>\n",
       "      <td>2020-05-15 00:00:00</td>\n",
       "      <td>4135001</td>\n",
       "      <td>HmiyD2TTLFNqkNe</td>\n",
       "      <td>25.184316</td>\n",
       "      <td>22.857507</td>\n",
       "      <td>0.0</td>\n",
       "    </tr>\n",
       "    <tr>\n",
       "      <th>1</th>\n",
       "      <td>2020-05-15 00:15:00</td>\n",
       "      <td>4135001</td>\n",
       "      <td>HmiyD2TTLFNqkNe</td>\n",
       "      <td>25.084589</td>\n",
       "      <td>22.761668</td>\n",
       "      <td>0.0</td>\n",
       "    </tr>\n",
       "    <tr>\n",
       "      <th>2</th>\n",
       "      <td>2020-05-15 00:30:00</td>\n",
       "      <td>4135001</td>\n",
       "      <td>HmiyD2TTLFNqkNe</td>\n",
       "      <td>24.935753</td>\n",
       "      <td>22.592306</td>\n",
       "      <td>0.0</td>\n",
       "    </tr>\n",
       "    <tr>\n",
       "      <th>3</th>\n",
       "      <td>2020-05-15 00:45:00</td>\n",
       "      <td>4135001</td>\n",
       "      <td>HmiyD2TTLFNqkNe</td>\n",
       "      <td>24.846130</td>\n",
       "      <td>22.360852</td>\n",
       "      <td>0.0</td>\n",
       "    </tr>\n",
       "    <tr>\n",
       "      <th>4</th>\n",
       "      <td>2020-05-15 01:00:00</td>\n",
       "      <td>4135001</td>\n",
       "      <td>HmiyD2TTLFNqkNe</td>\n",
       "      <td>24.621525</td>\n",
       "      <td>22.165423</td>\n",
       "      <td>0.0</td>\n",
       "    </tr>\n",
       "  </tbody>\n",
       "</table>\n",
       "</div>"
      ],
      "text/plain": [
       "             DATE_TIME  PLANT_ID       SOURCE_KEY  AMBIENT_TEMPERATURE  \\\n",
       "0  2020-05-15 00:00:00   4135001  HmiyD2TTLFNqkNe            25.184316   \n",
       "1  2020-05-15 00:15:00   4135001  HmiyD2TTLFNqkNe            25.084589   \n",
       "2  2020-05-15 00:30:00   4135001  HmiyD2TTLFNqkNe            24.935753   \n",
       "3  2020-05-15 00:45:00   4135001  HmiyD2TTLFNqkNe            24.846130   \n",
       "4  2020-05-15 01:00:00   4135001  HmiyD2TTLFNqkNe            24.621525   \n",
       "\n",
       "   MODULE_TEMPERATURE  IRRADIATION  \n",
       "0           22.857507          0.0  \n",
       "1           22.761668          0.0  \n",
       "2           22.592306          0.0  \n",
       "3           22.360852          0.0  \n",
       "4           22.165423          0.0  "
      ]
     },
     "execution_count": 5,
     "metadata": {},
     "output_type": "execute_result"
    }
   ],
   "source": [
    "df2.head()"
   ]
  },
  {
   "cell_type": "code",
   "execution_count": 6,
   "metadata": {
    "execution": {
     "iopub.execute_input": "2020-09-03T07:42:33.952235Z",
     "iopub.status.busy": "2020-09-03T07:42:33.951400Z",
     "iopub.status.idle": "2020-09-03T07:42:33.954498Z",
     "shell.execute_reply": "2020-09-03T07:42:33.955250Z"
    },
    "papermill": {
     "duration": 0.016566,
     "end_time": "2020-09-03T07:42:33.955415",
     "exception": false,
     "start_time": "2020-09-03T07:42:33.938849",
     "status": "completed"
    },
    "tags": []
   },
   "outputs": [],
   "source": [
    "#df1.info()"
   ]
  },
  {
   "cell_type": "code",
   "execution_count": 7,
   "metadata": {
    "_kg_hide-input": false,
    "execution": {
     "iopub.execute_input": "2020-09-03T07:42:33.977305Z",
     "iopub.status.busy": "2020-09-03T07:42:33.976246Z",
     "iopub.status.idle": "2020-09-03T07:42:33.981834Z",
     "shell.execute_reply": "2020-09-03T07:42:33.981192Z"
    },
    "papermill": {
     "duration": 0.019436,
     "end_time": "2020-09-03T07:42:33.981993",
     "exception": false,
     "start_time": "2020-09-03T07:42:33.962557",
     "status": "completed"
    },
    "tags": []
   },
   "outputs": [
    {
     "data": {
      "text/plain": [
       "(68778, 6)"
      ]
     },
     "execution_count": 7,
     "metadata": {},
     "output_type": "execute_result"
    }
   ],
   "source": [
    "df1.shape"
   ]
  },
  {
   "cell_type": "code",
   "execution_count": 8,
   "metadata": {
    "execution": {
     "iopub.execute_input": "2020-09-03T07:42:34.008525Z",
     "iopub.status.busy": "2020-09-03T07:42:34.007478Z",
     "iopub.status.idle": "2020-09-03T07:42:34.011249Z",
     "shell.execute_reply": "2020-09-03T07:42:34.012068Z"
    },
    "papermill": {
     "duration": 0.022736,
     "end_time": "2020-09-03T07:42:34.012278",
     "exception": false,
     "start_time": "2020-09-03T07:42:33.989542",
     "status": "completed"
    },
    "tags": []
   },
   "outputs": [
    {
     "data": {
      "text/plain": [
       "PLANT_ID         int64\n",
       "SOURCE_KEY      object\n",
       "DC_POWER       float64\n",
       "AC_POWER       float64\n",
       "DAILY_YIELD    float64\n",
       "TOTAL_YIELD    float64\n",
       "dtype: object"
      ]
     },
     "execution_count": 8,
     "metadata": {},
     "output_type": "execute_result"
    }
   ],
   "source": [
    "df1.dtypes"
   ]
  },
  {
   "cell_type": "markdown",
   "execution_count": null,
   "metadata": {
    "papermill": {
     "duration": 0.0072,
     "end_time": "2020-09-03T07:42:34.027726",
     "exception": false,
     "start_time": "2020-09-03T07:42:34.020526",
     "status": "completed"
    },
    "tags": []
   },
   "source": [
    "### Summary of Dataset"
   ]
  },
  {
   "cell_type": "code",
   "execution_count": 9,
   "metadata": {
    "_kg_hide-input": true,
    "execution": {
     "iopub.execute_input": "2020-09-03T07:42:34.050805Z",
     "iopub.status.busy": "2020-09-03T07:42:34.049820Z",
     "iopub.status.idle": "2020-09-03T07:42:34.088585Z",
     "shell.execute_reply": "2020-09-03T07:42:34.087684Z"
    },
    "papermill": {
     "duration": 0.05376,
     "end_time": "2020-09-03T07:42:34.088779",
     "exception": false,
     "start_time": "2020-09-03T07:42:34.035019",
     "status": "completed"
    },
    "tags": []
   },
   "outputs": [
    {
     "name": "stdout",
     "output_type": "stream",
     "text": [
      "Rows     : 68778\n",
      "Columns  : 6\n",
      "\n",
      "Features :\n",
      "     : ['PLANT_ID', 'SOURCE_KEY', 'DC_POWER', 'AC_POWER', 'DAILY_YIELD', 'TOTAL_YIELD']\n",
      "\n",
      "Missing values    : 0\n",
      "\n",
      "Unique values :  \n",
      " PLANT_ID           1\n",
      "SOURCE_KEY        22\n",
      "DC_POWER       32909\n",
      "AC_POWER       32686\n",
      "DAILY_YIELD    29900\n",
      "TOTAL_YIELD    37267\n",
      "dtype: int64\n"
     ]
    }
   ],
   "source": [
    "print('Rows     :',df1.shape[0])\n",
    "print('Columns  :',df1.shape[1])\n",
    "print('\\nFeatures :\\n     :',df1.columns.tolist())\n",
    "print('\\nMissing values    :',df1.isnull().values.sum())\n",
    "print('\\nUnique values :  \\n',df1.nunique())\n"
   ]
  },
  {
   "cell_type": "markdown",
   "execution_count": null,
   "metadata": {
    "papermill": {
     "duration": 0.00996,
     "end_time": "2020-09-03T07:42:34.109970",
     "exception": false,
     "start_time": "2020-09-03T07:42:34.100010",
     "status": "completed"
    },
    "tags": []
   },
   "source": [
    "Luckily there are no missing values"
   ]
  },
  {
   "cell_type": "code",
   "execution_count": 10,
   "metadata": {
    "_kg_hide-input": true,
    "execution": {
     "iopub.execute_input": "2020-09-03T07:42:34.134583Z",
     "iopub.status.busy": "2020-09-03T07:42:34.133601Z",
     "iopub.status.idle": "2020-09-03T07:42:34.190427Z",
     "shell.execute_reply": "2020-09-03T07:42:34.191341Z"
    },
    "papermill": {
     "duration": 0.072779,
     "end_time": "2020-09-03T07:42:34.191599",
     "exception": false,
     "start_time": "2020-09-03T07:42:34.118820",
     "status": "completed"
    },
    "tags": []
   },
   "outputs": [],
   "source": [
    "def add_feature(df1):\n",
    "    df1['DATE_TIME']=df1.index.year\n",
    "    df1['month']=df1.index.month\n",
    "    df1['day']=df1.index.day\n",
    "    df1['dayofweek']=df1.index.dayofweek\n",
    "    df1['hour']=df1.index.hour\n",
    "\n",
    "add_feature(df1)"
   ]
  },
  {
   "cell_type": "code",
   "execution_count": 11,
   "metadata": {
    "_kg_hide-input": true,
    "execution": {
     "iopub.execute_input": "2020-09-03T07:42:34.241831Z",
     "iopub.status.busy": "2020-09-03T07:42:34.239428Z",
     "iopub.status.idle": "2020-09-03T07:42:34.246151Z",
     "shell.execute_reply": "2020-09-03T07:42:34.245226Z"
    },
    "papermill": {
     "duration": 0.043786,
     "end_time": "2020-09-03T07:42:34.246329",
     "exception": false,
     "start_time": "2020-09-03T07:42:34.202543",
     "status": "completed"
    },
    "tags": []
   },
   "outputs": [
    {
     "data": {
      "text/html": [
       "<div>\n",
       "<style scoped>\n",
       "    .dataframe tbody tr th:only-of-type {\n",
       "        vertical-align: middle;\n",
       "    }\n",
       "\n",
       "    .dataframe tbody tr th {\n",
       "        vertical-align: top;\n",
       "    }\n",
       "\n",
       "    .dataframe thead th {\n",
       "        text-align: right;\n",
       "    }\n",
       "</style>\n",
       "<table border=\"1\" class=\"dataframe\">\n",
       "  <thead>\n",
       "    <tr style=\"text-align: right;\">\n",
       "      <th></th>\n",
       "      <th>PLANT_ID</th>\n",
       "      <th>SOURCE_KEY</th>\n",
       "      <th>DC_POWER</th>\n",
       "      <th>AC_POWER</th>\n",
       "      <th>DAILY_YIELD</th>\n",
       "      <th>TOTAL_YIELD</th>\n",
       "      <th>DATE_TIME</th>\n",
       "      <th>month</th>\n",
       "      <th>day</th>\n",
       "      <th>dayofweek</th>\n",
       "      <th>hour</th>\n",
       "    </tr>\n",
       "    <tr>\n",
       "      <th>DATE_TIME</th>\n",
       "      <th></th>\n",
       "      <th></th>\n",
       "      <th></th>\n",
       "      <th></th>\n",
       "      <th></th>\n",
       "      <th></th>\n",
       "      <th></th>\n",
       "      <th></th>\n",
       "      <th></th>\n",
       "      <th></th>\n",
       "      <th></th>\n",
       "    </tr>\n",
       "  </thead>\n",
       "  <tbody>\n",
       "    <tr>\n",
       "      <th>2020-05-15</th>\n",
       "      <td>4135001</td>\n",
       "      <td>1BY6WEcLGh8j5v7</td>\n",
       "      <td>0.0</td>\n",
       "      <td>0.0</td>\n",
       "      <td>0.0</td>\n",
       "      <td>6259559.0</td>\n",
       "      <td>2020</td>\n",
       "      <td>5</td>\n",
       "      <td>15</td>\n",
       "      <td>4</td>\n",
       "      <td>0</td>\n",
       "    </tr>\n",
       "    <tr>\n",
       "      <th>2020-05-15</th>\n",
       "      <td>4135001</td>\n",
       "      <td>1IF53ai7Xc0U56Y</td>\n",
       "      <td>0.0</td>\n",
       "      <td>0.0</td>\n",
       "      <td>0.0</td>\n",
       "      <td>6183645.0</td>\n",
       "      <td>2020</td>\n",
       "      <td>5</td>\n",
       "      <td>15</td>\n",
       "      <td>4</td>\n",
       "      <td>0</td>\n",
       "    </tr>\n",
       "    <tr>\n",
       "      <th>2020-05-15</th>\n",
       "      <td>4135001</td>\n",
       "      <td>3PZuoBAID5Wc2HD</td>\n",
       "      <td>0.0</td>\n",
       "      <td>0.0</td>\n",
       "      <td>0.0</td>\n",
       "      <td>6987759.0</td>\n",
       "      <td>2020</td>\n",
       "      <td>5</td>\n",
       "      <td>15</td>\n",
       "      <td>4</td>\n",
       "      <td>0</td>\n",
       "    </tr>\n",
       "    <tr>\n",
       "      <th>2020-05-15</th>\n",
       "      <td>4135001</td>\n",
       "      <td>7JYdWkrLSPkdwr4</td>\n",
       "      <td>0.0</td>\n",
       "      <td>0.0</td>\n",
       "      <td>0.0</td>\n",
       "      <td>7602960.0</td>\n",
       "      <td>2020</td>\n",
       "      <td>5</td>\n",
       "      <td>15</td>\n",
       "      <td>4</td>\n",
       "      <td>0</td>\n",
       "    </tr>\n",
       "    <tr>\n",
       "      <th>2020-05-15</th>\n",
       "      <td>4135001</td>\n",
       "      <td>McdE0feGgRqW7Ca</td>\n",
       "      <td>0.0</td>\n",
       "      <td>0.0</td>\n",
       "      <td>0.0</td>\n",
       "      <td>7158964.0</td>\n",
       "      <td>2020</td>\n",
       "      <td>5</td>\n",
       "      <td>15</td>\n",
       "      <td>4</td>\n",
       "      <td>0</td>\n",
       "    </tr>\n",
       "  </tbody>\n",
       "</table>\n",
       "</div>"
      ],
      "text/plain": [
       "            PLANT_ID       SOURCE_KEY  DC_POWER  AC_POWER  DAILY_YIELD  \\\n",
       "DATE_TIME                                                                \n",
       "2020-05-15   4135001  1BY6WEcLGh8j5v7       0.0       0.0          0.0   \n",
       "2020-05-15   4135001  1IF53ai7Xc0U56Y       0.0       0.0          0.0   \n",
       "2020-05-15   4135001  3PZuoBAID5Wc2HD       0.0       0.0          0.0   \n",
       "2020-05-15   4135001  7JYdWkrLSPkdwr4       0.0       0.0          0.0   \n",
       "2020-05-15   4135001  McdE0feGgRqW7Ca       0.0       0.0          0.0   \n",
       "\n",
       "            TOTAL_YIELD  DATE_TIME  month  day  dayofweek  hour  \n",
       "DATE_TIME                                                        \n",
       "2020-05-15    6259559.0       2020      5   15          4     0  \n",
       "2020-05-15    6183645.0       2020      5   15          4     0  \n",
       "2020-05-15    6987759.0       2020      5   15          4     0  \n",
       "2020-05-15    7602960.0       2020      5   15          4     0  \n",
       "2020-05-15    7158964.0       2020      5   15          4     0  "
      ]
     },
     "execution_count": 11,
     "metadata": {},
     "output_type": "execute_result"
    }
   ],
   "source": [
    "df1.head()"
   ]
  },
  {
   "cell_type": "code",
   "execution_count": 12,
   "metadata": {
    "_kg_hide-input": true,
    "execution": {
     "iopub.execute_input": "2020-09-03T07:42:34.287356Z",
     "iopub.status.busy": "2020-09-03T07:42:34.286429Z",
     "iopub.status.idle": "2020-09-03T07:42:35.775396Z",
     "shell.execute_reply": "2020-09-03T07:42:35.774706Z"
    },
    "papermill": {
     "duration": 1.518517,
     "end_time": "2020-09-03T07:42:35.775534",
     "exception": false,
     "start_time": "2020-09-03T07:42:34.257017",
     "status": "completed"
    },
    "tags": []
   },
   "outputs": [
    {
     "data": {
      "image/png": "[encoded data removed]",
      "text/plain": [
       "<Figure size 1080x720 with 4 Axes>"
      ]
     },
     "metadata": {
      "needs_background": "light"
     },
     "output_type": "display_data"
    }
   ],
   "source": [
    "plt.figure(figsize=(15,10))\n",
    "plt.subplot(2,2,1,)\n",
    "df1.groupby('hour')['TOTAL_YIELD'].sum().plot.bar(width=0.5,edgecolor='k',align='center',linewidth=2)\n",
    "plt.xlabel('Hour',fontsize=15)\n",
    "plt.ylabel('Total Yeild',fontsize=15)\n",
    "plt.title('Total Yeild on Hourly Basis',fontsize=15)\n",
    "#ax.tick_params(labelsize=20)\n",
    "#ax.set_xticklabels(('Jan','Feb','Mar','Apr','May','Jun','Jul','Aug','Sep','Oct','Nov','Dec'))\n",
    "#plt.show()\n",
    "\n",
    "plt.subplot(2,2,2,)\n",
    "ax=df1.groupby('dayofweek')['TOTAL_YIELD'].sum().plot.bar(width=0.5,edgecolor='k',align='center',linewidth=2)\n",
    "plt.xlabel('Day Of Week',fontsize=15)\n",
    "plt.ylabel('Total Yeild',fontsize=15)\n",
    "plt.title('Total Yeild on Weekly Basis',fontsize=15)\n",
    "ax.set_xticklabels(('Mon','Tue','Wed','Thu','Fri','Sat','Sun'))\n",
    "\n",
    "plt.subplot(2,2,3,)\n",
    "df1.groupby('day')['TOTAL_YIELD'].sum().plot.bar(width=0.5,edgecolor='k',align='center',linewidth=2)\n",
    "plt.xlabel('Day Of Month',fontsize=15)\n",
    "plt.ylabel('Total Yeild',fontsize=15)\n",
    "plt.title('Total Yeild on Weekly Basis',fontsize=15)\n",
    "#ax.set_xticklabels(('Mon','Tue','Wed','Thu','Fri','Sat','Sun'))\n",
    "\n",
    "plt.subplot(2,2,4,)\n",
    "ax1=df1.groupby('month')['TOTAL_YIELD'].sum().plot.bar(width=0.5,edgecolor='k',align='center',linewidth=2)\n",
    "plt.xlabel('Month',fontsize=15)\n",
    "plt.ylabel('Total Yeild',fontsize=15)\n",
    "plt.title('Total Yeild on Monthly Basis',fontsize=15)\n",
    "ax1.set_xticklabels(('Jan','Feb','Mar','Apr','May','Jun','Jul','Aug','Sep','Oct','Nov','Dec'))\n",
    "\n",
    "\n",
    "plt.tight_layout()\n",
    "pass"
   ]
  },
  {
   "cell_type": "markdown",
   "execution_count": null,
   "metadata": {
    "papermill": {
     "duration": 0.008161,
     "end_time": "2020-09-03T07:42:35.792526",
     "exception": false,
     "start_time": "2020-09-03T07:42:35.784365",
     "status": "completed"
    },
    "tags": []
   },
   "source": [
    "From the above plots we can conclude that \n",
    "\n",
    "Total Yeild almost remains same throught the day\n",
    "\n",
    "Total Yeild is more on Sunday and Monday \n",
    "\n",
    "Seems Power Production happens only on few days of the month with highest yeild on day 6\n",
    "\n",
    "We can see that the yeild is more in the Month of May and June.This could be because May and Jun are summer months in India.Also the demand for power is more during summer time."
   ]
  }
 ],
 "metadata": {
  "kernelspec": {
   "display_name": "Python 3",
   "language": "python",
   "name": "python3"
  },
  "language_info": {
   "codemirror_mode": {
    "name": "ipython",
    "version": 3
   },
   "file_extension": ".py",
   "mimetype": "text/x-python",
   "name": "python",
   "nbconvert_exporter": "python",
   "pygments_lexer": "ipython3",
   "version": "3.7.6"
  },
  "papermill": {
   "duration": 9.840859,
   "end_time": "2020-09-03T07:42:35.915383",
   "environment_variables": {},
   "exception": null,
   "input_path": "__notebook__.ipynb",
   "output_path": "__notebook__.ipynb",
   "parameters": {},
   "start_time": "2020-09-03T07:42:26.074524",
   "version": "2.1.0"
  }
 },
 "nbformat": 4,
 "nbformat_minor": 4
}
