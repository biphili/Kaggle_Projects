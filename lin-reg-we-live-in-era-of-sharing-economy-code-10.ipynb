{
 "cells": [
  {
   "cell_type": "markdown",
   "metadata": {
    "papermill": {
     "duration": 0.043018,
     "end_time": "2021-02-13T07:57:47.458673",
     "exception": false,
     "start_time": "2021-02-13T07:57:47.415655",
     "status": "completed"
    },
    "tags": []
   },
   "source": [
    "### During the lockdown I published my first book titled Inspiration:Thoughts on Spirituality,Technology,Wealth,Leadership and Motivation.The preview of the book can be read from the Amazon link https://lnkd.in/gj7bMQA\n",
    "### E Book is availabe for Rs 99 in India.Paperback Edition of the book is available on Amazon.com link https://lnkd.in/gkFYYMJ\n"
   ]
  },
  {
   "cell_type": "markdown",
   "metadata": {
    "papermill": {
     "duration": 0.038827,
     "end_time": "2021-02-13T07:57:47.537159",
     "exception": false,
     "start_time": "2021-02-13T07:57:47.498332",
     "status": "completed"
    },
    "tags": []
   },
   "source": [
    "Today we live in era of Sharing Economy.The biggest company like Amazon,Airbnb,Uber,Swiggy etc dont own much physical assets.But they are using software to optimize the use of the assets available.In this kernel we will be covering following topics.\n",
    "\n",
    "1.Importing,Analysis and Vizualization of Data\n",
    "\n",
    "2.Checking Multi Linear Regression Assumptions like \n",
    "  \n",
    "  -Normality \n",
    "\n",
    "  -Linear Correlation \n",
    "  \n",
    "  -Multicollinearity\n",
    "  \n",
    "  -Autocorrelation \n",
    "  \n",
    "  -Sample Size \n",
    "\n",
    "3.Drop Irrevalent features \n",
    "\n",
    "4.Creating and Modifying features\n",
    "\n",
    "5.Create Dummy Variables \n",
    "\n",
    "6.Train Test Split \n",
    "\n",
    "7.Fit and Score Model \n",
    "\n",
    "8.Present the Results \n",
    "\n",
    "If you like the kernel please do vote.\n"
   ]
  },
  {
   "cell_type": "code",
   "execution_count": 1,
   "metadata": {
    "_cell_guid": "b1076dfc-b9ad-4769-8c92-a6c4dae69d19",
    "_kg_hide-input": true,
    "_uuid": "8f2839f25d086af736a60e9eeb907d3b93b6e0e5",
    "execution": {
     "iopub.execute_input": "2021-02-13T07:57:47.624545Z",
     "iopub.status.busy": "2021-02-13T07:57:47.623641Z",
     "iopub.status.idle": "2021-02-13T07:57:47.630181Z",
     "shell.execute_reply": "2021-02-13T07:57:47.629581Z"
    },
    "papermill": {
     "duration": 0.05347,
     "end_time": "2021-02-13T07:57:47.630317",
     "exception": false,
     "start_time": "2021-02-13T07:57:47.576847",
     "status": "completed"
    },
    "tags": []
   },
   "outputs": [
    {
     "name": "stdout",
     "output_type": "stream",
     "text": [
      "/kaggle/input/bike-sharing-demand/sampleSubmission.csv\n",
      "/kaggle/input/bike-sharing-demand/train.csv\n",
      "/kaggle/input/bike-sharing-demand/test.csv\n"
     ]
    }
   ],
   "source": [
    "# This Python 3 environment comes with many helpful analytics libraries installed\n",
    "# It is defined by the kaggle/python Docker image: https://github.com/kaggle/docker-python\n",
    "# For example, here's several helpful packages to load\n",
    "\n",
    "import numpy as np # linear algebra\n",
    "import pandas as pd # data processing, CSV file I/O (e.g. pd.read_csv)\n",
    "\n",
    "# Input data files are available in the read-only \"../input/\" directory\n",
    "# For example, running this (by clicking run or pressing Shift+Enter) will list all files under the input directory\n",
    "\n",
    "import os\n",
    "for dirname, _, filenames in os.walk('/kaggle/input'):\n",
    "    for filename in filenames:\n",
    "        print(os.path.join(dirname, filename))\n",
    "\n",
    "# You can write up to 5GB to the current directory (/kaggle/working/) that gets preserved as output when you create a version using \"Save & Run All\" \n",
    "# You can also write temporary files to /kaggle/temp/, but they won't be saved outside of the current session"
   ]
  },
  {
   "cell_type": "markdown",
   "metadata": {
    "papermill": {
     "duration": 0.039825,
     "end_time": "2021-02-13T07:57:47.712887",
     "exception": false,
     "start_time": "2021-02-13T07:57:47.673062",
     "status": "completed"
    },
    "tags": []
   },
   "source": [
    "# 1.Importing,Analysing and Vizualization of Dataset"
   ]
  },
  {
   "cell_type": "code",
   "execution_count": 2,
   "metadata": {
    "_cell_guid": "79c7e3d0-c299-4dcb-8224-4455121ee9b0",
    "_kg_hide-input": true,
    "_uuid": "d629ff2d2480ee46fbb7e2d37f6b5fab8052498a",
    "execution": {
     "iopub.execute_input": "2021-02-13T07:57:47.800855Z",
     "iopub.status.busy": "2021-02-13T07:57:47.799759Z",
     "iopub.status.idle": "2021-02-13T07:57:47.803810Z",
     "shell.execute_reply": "2021-02-13T07:57:47.803223Z"
    },
    "papermill": {
     "duration": 0.050014,
     "end_time": "2021-02-13T07:57:47.803935",
     "exception": false,
     "start_time": "2021-02-13T07:57:47.753921",
     "status": "completed"
    },
    "tags": []
   },
   "outputs": [],
   "source": [
    "import pandas as pd\n",
    "import matplotlib.pyplot as plt\n",
    "import numpy as np \n",
    "import math "
   ]
  },
  {
   "cell_type": "code",
   "execution_count": 3,
   "metadata": {
    "_kg_hide-input": true,
    "execution": {
     "iopub.execute_input": "2021-02-13T07:57:47.890371Z",
     "iopub.status.busy": "2021-02-13T07:57:47.889683Z",
     "iopub.status.idle": "2021-02-13T07:57:47.893157Z",
     "shell.execute_reply": "2021-02-13T07:57:47.892578Z"
    },
    "papermill": {
     "duration": 0.049035,
     "end_time": "2021-02-13T07:57:47.893275",
     "exception": false,
     "start_time": "2021-02-13T07:57:47.844240",
     "status": "completed"
    },
    "tags": []
   },
   "outputs": [],
   "source": [
    "pd.set_option('display.max_rows', 500)\n",
    "pd.set_option('display.max_columns', 500)"
   ]
  },
  {
   "cell_type": "code",
   "execution_count": 4,
   "metadata": {
    "_kg_hide-input": true,
    "execution": {
     "iopub.execute_input": "2021-02-13T07:57:47.984547Z",
     "iopub.status.busy": "2021-02-13T07:57:47.983649Z",
     "iopub.status.idle": "2021-02-13T07:57:48.073409Z",
     "shell.execute_reply": "2021-02-13T07:57:48.073914Z"
    },
    "papermill": {
     "duration": 0.140804,
     "end_time": "2021-02-13T07:57:48.074115",
     "exception": false,
     "start_time": "2021-02-13T07:57:47.933311",
     "status": "completed"
    },
    "tags": []
   },
   "outputs": [
    {
     "data": {
      "text/html": [
       "<div>\n",
       "<style scoped>\n",
       "    .dataframe tbody tr th:only-of-type {\n",
       "        vertical-align: middle;\n",
       "    }\n",
       "\n",
       "    .dataframe tbody tr th {\n",
       "        vertical-align: top;\n",
       "    }\n",
       "\n",
       "    .dataframe thead th {\n",
       "        text-align: right;\n",
       "    }\n",
       "</style>\n",
       "<table border=\"1\" class=\"dataframe\">\n",
       "  <thead>\n",
       "    <tr style=\"text-align: right;\">\n",
       "      <th></th>\n",
       "      <th>season</th>\n",
       "      <th>holiday</th>\n",
       "      <th>workingday</th>\n",
       "      <th>weather</th>\n",
       "      <th>temp</th>\n",
       "      <th>atemp</th>\n",
       "      <th>humidity</th>\n",
       "      <th>windspeed</th>\n",
       "      <th>casual</th>\n",
       "      <th>registered</th>\n",
       "      <th>count</th>\n",
       "    </tr>\n",
       "    <tr>\n",
       "      <th>datetime</th>\n",
       "      <th></th>\n",
       "      <th></th>\n",
       "      <th></th>\n",
       "      <th></th>\n",
       "      <th></th>\n",
       "      <th></th>\n",
       "      <th></th>\n",
       "      <th></th>\n",
       "      <th></th>\n",
       "      <th></th>\n",
       "      <th></th>\n",
       "    </tr>\n",
       "  </thead>\n",
       "  <tbody>\n",
       "    <tr>\n",
       "      <th>2011-01-01 00:00:00</th>\n",
       "      <td>1</td>\n",
       "      <td>0</td>\n",
       "      <td>0</td>\n",
       "      <td>1</td>\n",
       "      <td>9.84</td>\n",
       "      <td>14.395</td>\n",
       "      <td>81</td>\n",
       "      <td>0.0</td>\n",
       "      <td>3</td>\n",
       "      <td>13</td>\n",
       "      <td>16</td>\n",
       "    </tr>\n",
       "    <tr>\n",
       "      <th>2011-01-01 01:00:00</th>\n",
       "      <td>1</td>\n",
       "      <td>0</td>\n",
       "      <td>0</td>\n",
       "      <td>1</td>\n",
       "      <td>9.02</td>\n",
       "      <td>13.635</td>\n",
       "      <td>80</td>\n",
       "      <td>0.0</td>\n",
       "      <td>8</td>\n",
       "      <td>32</td>\n",
       "      <td>40</td>\n",
       "    </tr>\n",
       "    <tr>\n",
       "      <th>2011-01-01 02:00:00</th>\n",
       "      <td>1</td>\n",
       "      <td>0</td>\n",
       "      <td>0</td>\n",
       "      <td>1</td>\n",
       "      <td>9.02</td>\n",
       "      <td>13.635</td>\n",
       "      <td>80</td>\n",
       "      <td>0.0</td>\n",
       "      <td>5</td>\n",
       "      <td>27</td>\n",
       "      <td>32</td>\n",
       "    </tr>\n",
       "    <tr>\n",
       "      <th>2011-01-01 03:00:00</th>\n",
       "      <td>1</td>\n",
       "      <td>0</td>\n",
       "      <td>0</td>\n",
       "      <td>1</td>\n",
       "      <td>9.84</td>\n",
       "      <td>14.395</td>\n",
       "      <td>75</td>\n",
       "      <td>0.0</td>\n",
       "      <td>3</td>\n",
       "      <td>10</td>\n",
       "      <td>13</td>\n",
       "    </tr>\n",
       "    <tr>\n",
       "      <th>2011-01-01 04:00:00</th>\n",
       "      <td>1</td>\n",
       "      <td>0</td>\n",
       "      <td>0</td>\n",
       "      <td>1</td>\n",
       "      <td>9.84</td>\n",
       "      <td>14.395</td>\n",
       "      <td>75</td>\n",
       "      <td>0.0</td>\n",
       "      <td>0</td>\n",
       "      <td>1</td>\n",
       "      <td>1</td>\n",
       "    </tr>\n",
       "  </tbody>\n",
       "</table>\n",
       "</div>"
      ],
      "text/plain": [
       "                     season  holiday  workingday  weather  temp   atemp  \\\n",
       "datetime                                                                  \n",
       "2011-01-01 00:00:00       1        0           0        1  9.84  14.395   \n",
       "2011-01-01 01:00:00       1        0           0        1  9.02  13.635   \n",
       "2011-01-01 02:00:00       1        0           0        1  9.02  13.635   \n",
       "2011-01-01 03:00:00       1        0           0        1  9.84  14.395   \n",
       "2011-01-01 04:00:00       1        0           0        1  9.84  14.395   \n",
       "\n",
       "                     humidity  windspeed  casual  registered  count  \n",
       "datetime                                                             \n",
       "2011-01-01 00:00:00        81        0.0       3          13     16  \n",
       "2011-01-01 01:00:00        80        0.0       8          32     40  \n",
       "2011-01-01 02:00:00        80        0.0       5          27     32  \n",
       "2011-01-01 03:00:00        75        0.0       3          10     13  \n",
       "2011-01-01 04:00:00        75        0.0       0           1      1  "
      ]
     },
     "execution_count": 4,
     "metadata": {},
     "output_type": "execute_result"
    }
   ],
   "source": [
    "df1=pd.read_csv('../input/bike-sharing-demand/train.csv',parse_dates=['datetime'],index_col=0)\n",
    "df_test=pd.read_csv('../input/bike-sharing-demand/test.csv',parse_dates=['datetime'],index_col=0)\n",
    "df1.head()"
   ]
  },
  {
   "cell_type": "code",
   "execution_count": 5,
   "metadata": {
    "_kg_hide-input": true,
    "execution": {
     "iopub.execute_input": "2021-02-13T07:57:48.163487Z",
     "iopub.status.busy": "2021-02-13T07:57:48.162771Z",
     "iopub.status.idle": "2021-02-13T07:57:48.166685Z",
     "shell.execute_reply": "2021-02-13T07:57:48.166106Z"
    },
    "papermill": {
     "duration": 0.051883,
     "end_time": "2021-02-13T07:57:48.166816",
     "exception": false,
     "start_time": "2021-02-13T07:57:48.114933",
     "status": "completed"
    },
    "tags": []
   },
   "outputs": [],
   "source": [
    "#df1.info()\n",
    "def add_feature(df1):\n",
    "    df1['year']=df1.index.year\n",
    "    df1['month']=df1.index.month\n",
    "    df1['dayofmonth']=df1.index.day\n",
    "    df1['dayofweek']=df1.index.dayofweek\n",
    "    df1['hour']=df1.index.hour"
   ]
  },
  {
   "cell_type": "code",
   "execution_count": 6,
   "metadata": {
    "_kg_hide-input": true,
    "execution": {
     "iopub.execute_input": "2021-02-13T07:57:48.255343Z",
     "iopub.status.busy": "2021-02-13T07:57:48.254590Z",
     "iopub.status.idle": "2021-02-13T07:57:48.294161Z",
     "shell.execute_reply": "2021-02-13T07:57:48.293556Z"
    },
    "papermill": {
     "duration": 0.085859,
     "end_time": "2021-02-13T07:57:48.294298",
     "exception": false,
     "start_time": "2021-02-13T07:57:48.208439",
     "status": "completed"
    },
    "tags": []
   },
   "outputs": [
    {
     "data": {
      "text/html": [
       "<div>\n",
       "<style scoped>\n",
       "    .dataframe tbody tr th:only-of-type {\n",
       "        vertical-align: middle;\n",
       "    }\n",
       "\n",
       "    .dataframe tbody tr th {\n",
       "        vertical-align: top;\n",
       "    }\n",
       "\n",
       "    .dataframe thead th {\n",
       "        text-align: right;\n",
       "    }\n",
       "</style>\n",
       "<table border=\"1\" class=\"dataframe\">\n",
       "  <thead>\n",
       "    <tr style=\"text-align: right;\">\n",
       "      <th></th>\n",
       "      <th>season</th>\n",
       "      <th>holiday</th>\n",
       "      <th>workingday</th>\n",
       "      <th>weather</th>\n",
       "      <th>temp</th>\n",
       "      <th>atemp</th>\n",
       "      <th>humidity</th>\n",
       "      <th>windspeed</th>\n",
       "      <th>casual</th>\n",
       "      <th>registered</th>\n",
       "      <th>count</th>\n",
       "      <th>year</th>\n",
       "      <th>month</th>\n",
       "      <th>dayofmonth</th>\n",
       "      <th>dayofweek</th>\n",
       "      <th>hour</th>\n",
       "    </tr>\n",
       "    <tr>\n",
       "      <th>datetime</th>\n",
       "      <th></th>\n",
       "      <th></th>\n",
       "      <th></th>\n",
       "      <th></th>\n",
       "      <th></th>\n",
       "      <th></th>\n",
       "      <th></th>\n",
       "      <th></th>\n",
       "      <th></th>\n",
       "      <th></th>\n",
       "      <th></th>\n",
       "      <th></th>\n",
       "      <th></th>\n",
       "      <th></th>\n",
       "      <th></th>\n",
       "      <th></th>\n",
       "    </tr>\n",
       "  </thead>\n",
       "  <tbody>\n",
       "    <tr>\n",
       "      <th>2011-01-01 00:00:00</th>\n",
       "      <td>1</td>\n",
       "      <td>0</td>\n",
       "      <td>0</td>\n",
       "      <td>1</td>\n",
       "      <td>9.84</td>\n",
       "      <td>14.395</td>\n",
       "      <td>81</td>\n",
       "      <td>0.0</td>\n",
       "      <td>3</td>\n",
       "      <td>13</td>\n",
       "      <td>16</td>\n",
       "      <td>2011</td>\n",
       "      <td>1</td>\n",
       "      <td>1</td>\n",
       "      <td>5</td>\n",
       "      <td>0</td>\n",
       "    </tr>\n",
       "    <tr>\n",
       "      <th>2011-01-01 01:00:00</th>\n",
       "      <td>1</td>\n",
       "      <td>0</td>\n",
       "      <td>0</td>\n",
       "      <td>1</td>\n",
       "      <td>9.02</td>\n",
       "      <td>13.635</td>\n",
       "      <td>80</td>\n",
       "      <td>0.0</td>\n",
       "      <td>8</td>\n",
       "      <td>32</td>\n",
       "      <td>40</td>\n",
       "      <td>2011</td>\n",
       "      <td>1</td>\n",
       "      <td>1</td>\n",
       "      <td>5</td>\n",
       "      <td>1</td>\n",
       "    </tr>\n",
       "    <tr>\n",
       "      <th>2011-01-01 02:00:00</th>\n",
       "      <td>1</td>\n",
       "      <td>0</td>\n",
       "      <td>0</td>\n",
       "      <td>1</td>\n",
       "      <td>9.02</td>\n",
       "      <td>13.635</td>\n",
       "      <td>80</td>\n",
       "      <td>0.0</td>\n",
       "      <td>5</td>\n",
       "      <td>27</td>\n",
       "      <td>32</td>\n",
       "      <td>2011</td>\n",
       "      <td>1</td>\n",
       "      <td>1</td>\n",
       "      <td>5</td>\n",
       "      <td>2</td>\n",
       "    </tr>\n",
       "    <tr>\n",
       "      <th>2011-01-01 03:00:00</th>\n",
       "      <td>1</td>\n",
       "      <td>0</td>\n",
       "      <td>0</td>\n",
       "      <td>1</td>\n",
       "      <td>9.84</td>\n",
       "      <td>14.395</td>\n",
       "      <td>75</td>\n",
       "      <td>0.0</td>\n",
       "      <td>3</td>\n",
       "      <td>10</td>\n",
       "      <td>13</td>\n",
       "      <td>2011</td>\n",
       "      <td>1</td>\n",
       "      <td>1</td>\n",
       "      <td>5</td>\n",
       "      <td>3</td>\n",
       "    </tr>\n",
       "    <tr>\n",
       "      <th>2011-01-01 04:00:00</th>\n",
       "      <td>1</td>\n",
       "      <td>0</td>\n",
       "      <td>0</td>\n",
       "      <td>1</td>\n",
       "      <td>9.84</td>\n",
       "      <td>14.395</td>\n",
       "      <td>75</td>\n",
       "      <td>0.0</td>\n",
       "      <td>0</td>\n",
       "      <td>1</td>\n",
       "      <td>1</td>\n",
       "      <td>2011</td>\n",
       "      <td>1</td>\n",
       "      <td>1</td>\n",
       "      <td>5</td>\n",
       "      <td>4</td>\n",
       "    </tr>\n",
       "  </tbody>\n",
       "</table>\n",
       "</div>"
      ],
      "text/plain": [
       "                     season  holiday  workingday  weather  temp   atemp  \\\n",
       "datetime                                                                  \n",
       "2011-01-01 00:00:00       1        0           0        1  9.84  14.395   \n",
       "2011-01-01 01:00:00       1        0           0        1  9.02  13.635   \n",
       "2011-01-01 02:00:00       1        0           0        1  9.02  13.635   \n",
       "2011-01-01 03:00:00       1        0           0        1  9.84  14.395   \n",
       "2011-01-01 04:00:00       1        0           0        1  9.84  14.395   \n",
       "\n",
       "                     humidity  windspeed  casual  registered  count  year  \\\n",
       "datetime                                                                    \n",
       "2011-01-01 00:00:00        81        0.0       3          13     16  2011   \n",
       "2011-01-01 01:00:00        80        0.0       8          32     40  2011   \n",
       "2011-01-01 02:00:00        80        0.0       5          27     32  2011   \n",
       "2011-01-01 03:00:00        75        0.0       3          10     13  2011   \n",
       "2011-01-01 04:00:00        75        0.0       0           1      1  2011   \n",
       "\n",
       "                     month  dayofmonth  dayofweek  hour  \n",
       "datetime                                                 \n",
       "2011-01-01 00:00:00      1           1          5     0  \n",
       "2011-01-01 01:00:00      1           1          5     1  \n",
       "2011-01-01 02:00:00      1           1          5     2  \n",
       "2011-01-01 03:00:00      1           1          5     3  \n",
       "2011-01-01 04:00:00      1           1          5     4  "
      ]
     },
     "execution_count": 6,
     "metadata": {},
     "output_type": "execute_result"
    }
   ],
   "source": [
    "add_feature(df1)\n",
    "add_feature(df_test)\n",
    "df1.head()"
   ]
  },
  {
   "cell_type": "code",
   "execution_count": 7,
   "metadata": {
    "_kg_hide-input": true,
    "execution": {
     "iopub.execute_input": "2021-02-13T07:57:48.397890Z",
     "iopub.status.busy": "2021-02-13T07:57:48.396713Z",
     "iopub.status.idle": "2021-02-13T07:57:48.401540Z",
     "shell.execute_reply": "2021-02-13T07:57:48.402315Z"
    },
    "papermill": {
     "duration": 0.066617,
     "end_time": "2021-02-13T07:57:48.402470",
     "exception": false,
     "start_time": "2021-02-13T07:57:48.335853",
     "status": "completed"
    },
    "tags": []
   },
   "outputs": [
    {
     "data": {
      "text/plain": [
       "(10886, 16)"
      ]
     },
     "execution_count": 7,
     "metadata": {},
     "output_type": "execute_result"
    }
   ],
   "source": [
    "df1.shape"
   ]
  },
  {
   "cell_type": "code",
   "execution_count": 8,
   "metadata": {
    "_kg_hide-input": true,
    "execution": {
     "iopub.execute_input": "2021-02-13T07:57:48.510751Z",
     "iopub.status.busy": "2021-02-13T07:57:48.509776Z",
     "iopub.status.idle": "2021-02-13T07:57:48.514731Z",
     "shell.execute_reply": "2021-02-13T07:57:48.515228Z"
    },
    "papermill": {
     "duration": 0.059232,
     "end_time": "2021-02-13T07:57:48.515367",
     "exception": false,
     "start_time": "2021-02-13T07:57:48.456135",
     "status": "completed"
    },
    "tags": []
   },
   "outputs": [],
   "source": [
    "df =df1.copy()"
   ]
  },
  {
   "cell_type": "markdown",
   "metadata": {
    "papermill": {
     "duration": 0.049706,
     "end_time": "2021-02-13T07:57:48.610900",
     "exception": false,
     "start_time": "2021-02-13T07:57:48.561194",
     "status": "completed"
    },
    "tags": []
   },
   "source": [
    "### Rename Columns "
   ]
  },
  {
   "cell_type": "code",
   "execution_count": 9,
   "metadata": {
    "_kg_hide-input": true,
    "execution": {
     "iopub.execute_input": "2021-02-13T07:57:48.712219Z",
     "iopub.status.busy": "2021-02-13T07:57:48.711489Z",
     "iopub.status.idle": "2021-02-13T07:57:48.715575Z",
     "shell.execute_reply": "2021-02-13T07:57:48.714796Z"
    },
    "papermill": {
     "duration": 0.062637,
     "end_time": "2021-02-13T07:57:48.715699",
     "exception": false,
     "start_time": "2021-02-13T07:57:48.653062",
     "status": "completed"
    },
    "tags": []
   },
   "outputs": [],
   "source": [
    "df = df.rename(columns={'count':'demand'})"
   ]
  },
  {
   "cell_type": "markdown",
   "metadata": {
    "papermill": {
     "duration": 0.043591,
     "end_time": "2021-02-13T07:57:48.803695",
     "exception": false,
     "start_time": "2021-02-13T07:57:48.760104",
     "status": "completed"
    },
    "tags": []
   },
   "source": [
    "### Dropping unwanted columns "
   ]
  },
  {
   "cell_type": "code",
   "execution_count": 10,
   "metadata": {
    "_kg_hide-input": true,
    "execution": {
     "iopub.execute_input": "2021-02-13T07:57:48.899909Z",
     "iopub.status.busy": "2021-02-13T07:57:48.899167Z",
     "iopub.status.idle": "2021-02-13T07:57:48.923978Z",
     "shell.execute_reply": "2021-02-13T07:57:48.923377Z"
    },
    "papermill": {
     "duration": 0.077289,
     "end_time": "2021-02-13T07:57:48.924116",
     "exception": false,
     "start_time": "2021-02-13T07:57:48.846827",
     "status": "completed"
    },
    "tags": []
   },
   "outputs": [
    {
     "data": {
      "text/html": [
       "<div>\n",
       "<style scoped>\n",
       "    .dataframe tbody tr th:only-of-type {\n",
       "        vertical-align: middle;\n",
       "    }\n",
       "\n",
       "    .dataframe tbody tr th {\n",
       "        vertical-align: top;\n",
       "    }\n",
       "\n",
       "    .dataframe thead th {\n",
       "        text-align: right;\n",
       "    }\n",
       "</style>\n",
       "<table border=\"1\" class=\"dataframe\">\n",
       "  <thead>\n",
       "    <tr style=\"text-align: right;\">\n",
       "      <th></th>\n",
       "      <th>season</th>\n",
       "      <th>holiday</th>\n",
       "      <th>workingday</th>\n",
       "      <th>weather</th>\n",
       "      <th>temp</th>\n",
       "      <th>atemp</th>\n",
       "      <th>humidity</th>\n",
       "      <th>windspeed</th>\n",
       "      <th>demand</th>\n",
       "      <th>year</th>\n",
       "      <th>month</th>\n",
       "      <th>dayofmonth</th>\n",
       "      <th>dayofweek</th>\n",
       "      <th>hour</th>\n",
       "    </tr>\n",
       "  </thead>\n",
       "  <tbody>\n",
       "    <tr>\n",
       "      <th>0</th>\n",
       "      <td>1</td>\n",
       "      <td>0</td>\n",
       "      <td>0</td>\n",
       "      <td>1</td>\n",
       "      <td>9.84</td>\n",
       "      <td>14.395</td>\n",
       "      <td>81</td>\n",
       "      <td>0.0</td>\n",
       "      <td>16</td>\n",
       "      <td>2011</td>\n",
       "      <td>1</td>\n",
       "      <td>1</td>\n",
       "      <td>5</td>\n",
       "      <td>0</td>\n",
       "    </tr>\n",
       "    <tr>\n",
       "      <th>1</th>\n",
       "      <td>1</td>\n",
       "      <td>0</td>\n",
       "      <td>0</td>\n",
       "      <td>1</td>\n",
       "      <td>9.02</td>\n",
       "      <td>13.635</td>\n",
       "      <td>80</td>\n",
       "      <td>0.0</td>\n",
       "      <td>40</td>\n",
       "      <td>2011</td>\n",
       "      <td>1</td>\n",
       "      <td>1</td>\n",
       "      <td>5</td>\n",
       "      <td>1</td>\n",
       "    </tr>\n",
       "    <tr>\n",
       "      <th>2</th>\n",
       "      <td>1</td>\n",
       "      <td>0</td>\n",
       "      <td>0</td>\n",
       "      <td>1</td>\n",
       "      <td>9.02</td>\n",
       "      <td>13.635</td>\n",
       "      <td>80</td>\n",
       "      <td>0.0</td>\n",
       "      <td>32</td>\n",
       "      <td>2011</td>\n",
       "      <td>1</td>\n",
       "      <td>1</td>\n",
       "      <td>5</td>\n",
       "      <td>2</td>\n",
       "    </tr>\n",
       "    <tr>\n",
       "      <th>3</th>\n",
       "      <td>1</td>\n",
       "      <td>0</td>\n",
       "      <td>0</td>\n",
       "      <td>1</td>\n",
       "      <td>9.84</td>\n",
       "      <td>14.395</td>\n",
       "      <td>75</td>\n",
       "      <td>0.0</td>\n",
       "      <td>13</td>\n",
       "      <td>2011</td>\n",
       "      <td>1</td>\n",
       "      <td>1</td>\n",
       "      <td>5</td>\n",
       "      <td>3</td>\n",
       "    </tr>\n",
       "    <tr>\n",
       "      <th>4</th>\n",
       "      <td>1</td>\n",
       "      <td>0</td>\n",
       "      <td>0</td>\n",
       "      <td>1</td>\n",
       "      <td>9.84</td>\n",
       "      <td>14.395</td>\n",
       "      <td>75</td>\n",
       "      <td>0.0</td>\n",
       "      <td>1</td>\n",
       "      <td>2011</td>\n",
       "      <td>1</td>\n",
       "      <td>1</td>\n",
       "      <td>5</td>\n",
       "      <td>4</td>\n",
       "    </tr>\n",
       "  </tbody>\n",
       "</table>\n",
       "</div>"
      ],
      "text/plain": [
       "   season  holiday  workingday  weather  temp   atemp  humidity  windspeed  \\\n",
       "0       1        0           0        1  9.84  14.395        81        0.0   \n",
       "1       1        0           0        1  9.02  13.635        80        0.0   \n",
       "2       1        0           0        1  9.02  13.635        80        0.0   \n",
       "3       1        0           0        1  9.84  14.395        75        0.0   \n",
       "4       1        0           0        1  9.84  14.395        75        0.0   \n",
       "\n",
       "   demand  year  month  dayofmonth  dayofweek  hour  \n",
       "0      16  2011      1           1          5     0  \n",
       "1      40  2011      1           1          5     1  \n",
       "2      32  2011      1           1          5     2  \n",
       "3      13  2011      1           1          5     3  \n",
       "4       1  2011      1           1          5     4  "
      ]
     },
     "execution_count": 10,
     "metadata": {},
     "output_type": "execute_result"
    }
   ],
   "source": [
    "df.reset_index(drop=True, inplace=True)\n",
    "df = df.drop(['casual','registered'],axis=1)\n",
    "df.head()"
   ]
  },
  {
   "cell_type": "markdown",
   "metadata": {
    "papermill": {
     "duration": 0.048907,
     "end_time": "2021-02-13T07:57:49.018431",
     "exception": false,
     "start_time": "2021-02-13T07:57:48.969524",
     "status": "completed"
    },
    "tags": []
   },
   "source": [
    "We have dropped the index, Datetime,Casual and Registered columns from our dataset.The column count is a sum of Casual and Registered,We will be predicting the column count so we habe dropped the columns casual and registered from our dataset."
   ]
  },
  {
   "cell_type": "markdown",
   "metadata": {
    "papermill": {
     "duration": 0.043773,
     "end_time": "2021-02-13T07:57:49.107865",
     "exception": false,
     "start_time": "2021-02-13T07:57:49.064092",
     "status": "completed"
    },
    "tags": []
   },
   "source": [
    "### Checking Missing Values "
   ]
  },
  {
   "cell_type": "code",
   "execution_count": 11,
   "metadata": {
    "_kg_hide-input": true,
    "execution": {
     "iopub.execute_input": "2021-02-13T07:57:49.203191Z",
     "iopub.status.busy": "2021-02-13T07:57:49.202213Z",
     "iopub.status.idle": "2021-02-13T07:57:49.212814Z",
     "shell.execute_reply": "2021-02-13T07:57:49.212258Z"
    },
    "papermill": {
     "duration": 0.06051,
     "end_time": "2021-02-13T07:57:49.212991",
     "exception": false,
     "start_time": "2021-02-13T07:57:49.152481",
     "status": "completed"
    },
    "tags": []
   },
   "outputs": [
    {
     "data": {
      "text/plain": [
       "season        0\n",
       "holiday       0\n",
       "workingday    0\n",
       "weather       0\n",
       "temp          0\n",
       "atemp         0\n",
       "humidity      0\n",
       "windspeed     0\n",
       "demand        0\n",
       "year          0\n",
       "month         0\n",
       "dayofmonth    0\n",
       "dayofweek     0\n",
       "hour          0\n",
       "dtype: int64"
      ]
     },
     "execution_count": 11,
     "metadata": {},
     "output_type": "execute_result"
    }
   ],
   "source": [
    "df.isnull().sum()"
   ]
  },
  {
   "cell_type": "markdown",
   "metadata": {
    "papermill": {
     "duration": 0.0444,
     "end_time": "2021-02-13T07:57:49.301499",
     "exception": false,
     "start_time": "2021-02-13T07:57:49.257099",
     "status": "completed"
    },
    "tags": []
   },
   "source": [
    "We can see that there are no missing values in the dataset.So we can proceed further."
   ]
  },
  {
   "cell_type": "markdown",
   "metadata": {
    "papermill": {
     "duration": 0.044505,
     "end_time": "2021-02-13T07:57:49.390564",
     "exception": false,
     "start_time": "2021-02-13T07:57:49.346059",
     "status": "completed"
    },
    "tags": []
   },
   "source": [
    "### Histogram"
   ]
  },
  {
   "cell_type": "code",
   "execution_count": 12,
   "metadata": {
    "_kg_hide-input": true,
    "execution": {
     "iopub.execute_input": "2021-02-13T07:57:49.485950Z",
     "iopub.status.busy": "2021-02-13T07:57:49.485180Z",
     "iopub.status.idle": "2021-02-13T07:57:52.043363Z",
     "shell.execute_reply": "2021-02-13T07:57:52.042712Z"
    },
    "papermill": {
     "duration": 2.608705,
     "end_time": "2021-02-13T07:57:52.043484",
     "exception": false,
     "start_time": "2021-02-13T07:57:49.434779",
     "status": "completed"
    },
    "tags": []
   },
   "outputs": [
    {
     "data": {
      "image/png": "[encoded data removed]",
      "text/plain": [
       "<Figure size 1080x720 with 16 Axes>"
      ]
     },
     "metadata": {
      "needs_background": "light"
     },
     "output_type": "display_data"
    }
   ],
   "source": [
    "df.hist(figsize = (15,10))\n",
    "plt.tight_layout()\n",
    "plt.show()"
   ]
  },
  {
   "cell_type": "markdown",
   "metadata": {
    "papermill": {
     "duration": 0.044591,
     "end_time": "2021-02-13T07:57:52.133305",
     "exception": false,
     "start_time": "2021-02-13T07:57:52.088714",
     "status": "completed"
    },
    "tags": []
   },
   "source": [
    "We can see that the demand remains same for all the fours seasons.So we can drop this feature while predicting the demand.The count(demand) is not normally distributed.We need to transform the count(demand) feature."
   ]
  },
  {
   "cell_type": "markdown",
   "metadata": {
    "papermill": {
     "duration": 0.044667,
     "end_time": "2021-02-13T07:57:52.222984",
     "exception": false,
     "start_time": "2021-02-13T07:57:52.178317",
     "status": "completed"
    },
    "tags": []
   },
   "source": [
    "### Vizualise the Continous features Vs Demand (Count)"
   ]
  },
  {
   "cell_type": "code",
   "execution_count": 13,
   "metadata": {
    "_kg_hide-input": true,
    "execution": {
     "iopub.execute_input": "2021-02-13T07:57:52.341651Z",
     "iopub.status.busy": "2021-02-13T07:57:52.340636Z",
     "iopub.status.idle": "2021-02-13T07:57:53.050513Z",
     "shell.execute_reply": "2021-02-13T07:57:53.051038Z"
    },
    "papermill": {
     "duration": 0.783096,
     "end_time": "2021-02-13T07:57:53.051181",
     "exception": false,
     "start_time": "2021-02-13T07:57:52.268085",
     "status": "completed"
    },
    "tags": []
   },
   "outputs": [
    {
     "data": {
      "image/png": "[encoded data removed]",
      "text/plain": [
       "<Figure size 1080x720 with 4 Axes>"
      ]
     },
     "metadata": {
      "needs_background": "light"
     },
     "output_type": "display_data"
    }
   ],
   "source": [
    "plt.figure(figsize=(15,10))\n",
    "plt.subplot(2,2,1,)\n",
    "plt.title('Temperature Vs Demand')\n",
    "plt.xlabel('Temperature')\n",
    "plt.ylabel('Demand')\n",
    "plt.scatter(df['temp'],df['demand'],s=2,c='g')\n",
    "\n",
    "plt.subplot(2,2,2)\n",
    "plt.title('Abs Temperature Vs Demand')\n",
    "plt.xlabel('Abs Temperature')\n",
    "plt.ylabel('Demand')\n",
    "plt.scatter(df['atemp'],df['demand'],s=2,c='b')\n",
    "\n",
    "plt.subplot(2,2,3)\n",
    "plt.title('Humidity Vs Demand')\n",
    "plt.xlabel('Humidity')\n",
    "plt.ylabel('Demand')\n",
    "plt.scatter(df['humidity'],df['demand'],c='r')\n",
    "\n",
    "plt.subplot(2,2,4)\n",
    "plt.title('Windspeed Vs Demand')\n",
    "plt.xlabel('Windspeed')\n",
    "plt.ylabel('Demand')\n",
    "plt.scatter(df['windspeed'],df['demand'],c='c')\n",
    "\n",
    "plt.tight_layout()\n",
    "\n",
    "pass"
   ]
  },
  {
   "cell_type": "markdown",
   "metadata": {
    "papermill": {
     "duration": 0.049162,
     "end_time": "2021-02-13T07:57:53.149190",
     "exception": false,
     "start_time": "2021-02-13T07:57:53.100028",
     "status": "completed"
    },
    "tags": []
   },
   "source": [
    "From the above plots we can see that temperature and Windspeed Have an affect on Bike demand.\n",
    "\n",
    "Temperature and Absolute temperature plots are alsmost similar in nature.This indicated high colinearity between the two feature.We can drop one of the features to avoid the colinearity."
   ]
  },
  {
   "cell_type": "markdown",
   "metadata": {
    "papermill": {
     "duration": 0.048255,
     "end_time": "2021-02-13T07:57:53.245873",
     "exception": false,
     "start_time": "2021-02-13T07:57:53.197618",
     "status": "completed"
    },
    "tags": []
   },
   "source": [
    "### Visualse the categorical features"
   ]
  },
  {
   "cell_type": "code",
   "execution_count": 14,
   "metadata": {
    "_kg_hide-input": true,
    "execution": {
     "iopub.execute_input": "2021-02-13T07:57:53.352915Z",
     "iopub.status.busy": "2021-02-13T07:57:53.352268Z",
     "iopub.status.idle": "2021-02-13T07:57:55.092462Z",
     "shell.execute_reply": "2021-02-13T07:57:55.091931Z"
    },
    "papermill": {
     "duration": 1.798064,
     "end_time": "2021-02-13T07:57:55.092587",
     "exception": false,
     "start_time": "2021-02-13T07:57:53.294523",
     "status": "completed"
    },
    "tags": []
   },
   "outputs": [
    {
     "data": {
      "image/png": "[encoded data removed]",
      "text/plain": [
       "<Figure size 1080x720 with 9 Axes>"
      ]
     },
     "metadata": {
      "needs_background": "light"
     },
     "output_type": "display_data"
    }
   ],
   "source": [
    "colors = ['g','r','m','b']\n",
    "\n",
    "plt.figure(figsize=(15,10))\n",
    "plt.subplot(3,3,1,)\n",
    "plt.title('Seasons Vs Demand')\n",
    "plt.xlabel('Seasons')\n",
    "plt.ylabel('Demand')\n",
    "cat_list=df['season'].unique()\n",
    "cat_average=df.groupby('season').mean()['demand']\n",
    "plt.bar(cat_list,cat_average,color=colors)\n",
    "\n",
    "plt.subplot(3,3,2,)\n",
    "plt.title('Holiday Vs Demand')\n",
    "plt.xlabel('Holiday')\n",
    "plt.ylabel('Demand')\n",
    "cat_list=df['holiday'].unique()\n",
    "cat_average=df.groupby('holiday').mean()['demand']\n",
    "plt.bar(cat_list,cat_average,color=colors)\n",
    "\n",
    "plt.subplot(3,3,3,)\n",
    "plt.title('Working Day Vs Demand')\n",
    "plt.xlabel('Working Day')\n",
    "plt.ylabel('Demand')\n",
    "cat_list=df['workingday'].unique()\n",
    "cat_average=df.groupby('workingday').mean()['demand']\n",
    "plt.bar(cat_list,cat_average,color=colors)\n",
    "\n",
    "plt.subplot(3,3,4,)\n",
    "plt.title('Weather Vs Demand')\n",
    "plt.xlabel('Weather')\n",
    "plt.ylabel('Demand')\n",
    "cat_list=df['weather'].unique()\n",
    "cat_average=df.groupby('weather').mean()['demand']\n",
    "plt.bar(cat_list,cat_average,color=colors)\n",
    "\n",
    "plt.subplot(3,3,5,)\n",
    "plt.title('Year Vs Demand')\n",
    "plt.xlabel('Year')\n",
    "plt.ylabel('Demand')\n",
    "cat_list=df['year'].unique()\n",
    "cat_average=df.groupby('year').mean()['demand']\n",
    "plt.bar(cat_list,cat_average,color=colors)\n",
    "\n",
    "plt.subplot(3,3,6,)\n",
    "plt.title('Month Vs Demand')\n",
    "plt.xlabel('Month')\n",
    "plt.ylabel('Demand')\n",
    "cat_list=df['month'].unique()\n",
    "cat_average=df.groupby('month').mean()['demand']\n",
    "plt.bar(cat_list,cat_average,color=colors)\n",
    "\n",
    "plt.subplot(3,3,7,)\n",
    "plt.title('Day Of Month Vs Demand')\n",
    "plt.xlabel('Day Of Month')\n",
    "plt.ylabel('Demand')\n",
    "cat_list=df['dayofmonth'].unique()\n",
    "cat_average=df.groupby('dayofmonth').mean()['demand']\n",
    "plt.bar(cat_list,cat_average,color=colors)\n",
    "\n",
    "plt.subplot(3,3,8,)\n",
    "plt.title('Day Of Week Vs Demand')\n",
    "plt.xlabel('Day Of Week')\n",
    "plt.ylabel('Demand')\n",
    "cat_list=df['dayofweek'].unique()\n",
    "cat_average=df.groupby('dayofweek').mean()['demand']\n",
    "plt.bar(cat_list,cat_average,color=colors)\n",
    "\n",
    "plt.subplot(3,3,9,)\n",
    "plt.title('Hour Vs Demand')\n",
    "plt.xlabel('Hour')\n",
    "plt.ylabel('Demand')\n",
    "cat_list=df['hour'].unique()\n",
    "cat_average=df.groupby('hour').mean()['demand']\n",
    "plt.bar(cat_list,cat_average,color=colors)\n",
    "\n",
    "\n",
    "plt.tight_layout()\n",
    "pass"
   ]
  },
  {
   "cell_type": "markdown",
   "metadata": {
    "papermill": {
     "duration": 0.049934,
     "end_time": "2021-02-13T07:57:55.192705",
     "exception": false,
     "start_time": "2021-02-13T07:57:55.142771",
     "status": "completed"
    },
    "tags": []
   },
   "source": [
    "We can see that the features working day,holiday,day of month,day of week, dont have any affect on the bike demand.So we can drop these features from our prediction  model.Also we have data for only two years.So the column of year can also be dropped from our dataset.From the Hour plot we can clearly make out that the demand for bikes is highest at 8 am and 5 pm.This is due to more demand during office going hours."
   ]
  },
  {
   "cell_type": "markdown",
   "metadata": {
    "papermill": {
     "duration": 0.050276,
     "end_time": "2021-02-13T07:57:55.293508",
     "exception": false,
     "start_time": "2021-02-13T07:57:55.243232",
     "status": "completed"
    },
    "tags": []
   },
   "source": [
    "# 2.Checking Multi Linear Regression Assumptions"
   ]
  },
  {
   "cell_type": "code",
   "execution_count": 15,
   "metadata": {
    "_kg_hide-input": true,
    "execution": {
     "iopub.execute_input": "2021-02-13T07:57:55.399225Z",
     "iopub.status.busy": "2021-02-13T07:57:55.398582Z",
     "iopub.status.idle": "2021-02-13T07:57:55.401390Z",
     "shell.execute_reply": "2021-02-13T07:57:55.401988Z"
    },
    "papermill": {
     "duration": 0.058069,
     "end_time": "2021-02-13T07:57:55.402158",
     "exception": false,
     "start_time": "2021-02-13T07:57:55.344089",
     "status": "completed"
    },
    "tags": []
   },
   "outputs": [],
   "source": [
    "df_prep = df.copy()\n",
    "#df_prep"
   ]
  },
  {
   "cell_type": "markdown",
   "metadata": {
    "papermill": {
     "duration": 0.050184,
     "end_time": "2021-02-13T07:57:55.503382",
     "exception": false,
     "start_time": "2021-02-13T07:57:55.453198",
     "status": "completed"
    },
    "tags": []
   },
   "source": [
    "### Checking Outliers"
   ]
  },
  {
   "cell_type": "code",
   "execution_count": 16,
   "metadata": {
    "_kg_hide-input": true,
    "execution": {
     "iopub.execute_input": "2021-02-13T07:57:55.609669Z",
     "iopub.status.busy": "2021-02-13T07:57:55.609022Z",
     "iopub.status.idle": "2021-02-13T07:57:55.623074Z",
     "shell.execute_reply": "2021-02-13T07:57:55.622459Z"
    },
    "papermill": {
     "duration": 0.069248,
     "end_time": "2021-02-13T07:57:55.623190",
     "exception": false,
     "start_time": "2021-02-13T07:57:55.553942",
     "status": "completed"
    },
    "tags": []
   },
   "outputs": [
    {
     "data": {
      "text/plain": [
       "count    10886.000000\n",
       "mean       191.574132\n",
       "std        181.144454\n",
       "min          1.000000\n",
       "25%         42.000000\n",
       "50%        145.000000\n",
       "75%        284.000000\n",
       "max        977.000000\n",
       "Name: demand, dtype: float64"
      ]
     },
     "execution_count": 16,
     "metadata": {},
     "output_type": "execute_result"
    }
   ],
   "source": [
    "df_prep['demand'].describe()"
   ]
  },
  {
   "cell_type": "markdown",
   "metadata": {
    "papermill": {
     "duration": 0.053348,
     "end_time": "2021-02-13T07:57:55.728822",
     "exception": false,
     "start_time": "2021-02-13T07:57:55.675474",
     "status": "completed"
    },
    "tags": []
   },
   "source": [
    "From the above stats we can see that 50% of the values lie between demand value 42 to 284.Now we will analyse the outliers in the dataset."
   ]
  },
  {
   "cell_type": "code",
   "execution_count": 17,
   "metadata": {
    "_kg_hide-input": true,
    "execution": {
     "iopub.execute_input": "2021-02-13T07:57:55.834297Z",
     "iopub.status.busy": "2021-02-13T07:57:55.833615Z",
     "iopub.status.idle": "2021-02-13T07:57:55.843796Z",
     "shell.execute_reply": "2021-02-13T07:57:55.843146Z"
    },
    "papermill": {
     "duration": 0.064293,
     "end_time": "2021-02-13T07:57:55.843906",
     "exception": false,
     "start_time": "2021-02-13T07:57:55.779613",
     "status": "completed"
    },
    "tags": []
   },
   "outputs": [
    {
     "data": {
      "text/plain": [
       "0.05      5.00\n",
       "0.10      9.00\n",
       "0.15     16.00\n",
       "0.90    452.00\n",
       "0.99    774.15\n",
       "Name: demand, dtype: float64"
      ]
     },
     "execution_count": 17,
     "metadata": {},
     "output_type": "execute_result"
    }
   ],
   "source": [
    "df_prep['demand'].quantile([0.05,0.1,0.15,0.9,0.99])"
   ]
  },
  {
   "cell_type": "markdown",
   "metadata": {
    "papermill": {
     "duration": 0.051296,
     "end_time": "2021-02-13T07:57:55.947629",
     "exception": false,
     "start_time": "2021-02-13T07:57:55.896333",
     "status": "completed"
    },
    "tags": []
   },
   "source": [
    "From the data we can say 5% of the time the demand was less than 5 and 1 % of the time the demand was more than 774."
   ]
  },
  {
   "cell_type": "markdown",
   "metadata": {
    "papermill": {
     "duration": 0.053345,
     "end_time": "2021-02-13T07:57:56.052823",
     "exception": false,
     "start_time": "2021-02-13T07:57:55.999478",
     "status": "completed"
    },
    "tags": []
   },
   "source": [
    "### Checking Multicollinearity"
   ]
  },
  {
   "cell_type": "code",
   "execution_count": 18,
   "metadata": {
    "_kg_hide-input": true,
    "execution": {
     "iopub.execute_input": "2021-02-13T07:57:56.165297Z",
     "iopub.status.busy": "2021-02-13T07:57:56.164600Z",
     "iopub.status.idle": "2021-02-13T07:57:56.180837Z",
     "shell.execute_reply": "2021-02-13T07:57:56.180136Z"
    },
    "papermill": {
     "duration": 0.075887,
     "end_time": "2021-02-13T07:57:56.180974",
     "exception": false,
     "start_time": "2021-02-13T07:57:56.105087",
     "status": "completed"
    },
    "tags": []
   },
   "outputs": [
    {
     "data": {
      "text/html": [
       "<div>\n",
       "<style scoped>\n",
       "    .dataframe tbody tr th:only-of-type {\n",
       "        vertical-align: middle;\n",
       "    }\n",
       "\n",
       "    .dataframe tbody tr th {\n",
       "        vertical-align: top;\n",
       "    }\n",
       "\n",
       "    .dataframe thead th {\n",
       "        text-align: right;\n",
       "    }\n",
       "</style>\n",
       "<table border=\"1\" class=\"dataframe\">\n",
       "  <thead>\n",
       "    <tr style=\"text-align: right;\">\n",
       "      <th></th>\n",
       "      <th>temp</th>\n",
       "      <th>atemp</th>\n",
       "      <th>humidity</th>\n",
       "      <th>demand</th>\n",
       "    </tr>\n",
       "  </thead>\n",
       "  <tbody>\n",
       "    <tr>\n",
       "      <th>temp</th>\n",
       "      <td>1.000000</td>\n",
       "      <td>0.984948</td>\n",
       "      <td>-0.064949</td>\n",
       "      <td>0.394454</td>\n",
       "    </tr>\n",
       "    <tr>\n",
       "      <th>atemp</th>\n",
       "      <td>0.984948</td>\n",
       "      <td>1.000000</td>\n",
       "      <td>-0.043536</td>\n",
       "      <td>0.389784</td>\n",
       "    </tr>\n",
       "    <tr>\n",
       "      <th>humidity</th>\n",
       "      <td>-0.064949</td>\n",
       "      <td>-0.043536</td>\n",
       "      <td>1.000000</td>\n",
       "      <td>-0.317371</td>\n",
       "    </tr>\n",
       "    <tr>\n",
       "      <th>demand</th>\n",
       "      <td>0.394454</td>\n",
       "      <td>0.389784</td>\n",
       "      <td>-0.317371</td>\n",
       "      <td>1.000000</td>\n",
       "    </tr>\n",
       "  </tbody>\n",
       "</table>\n",
       "</div>"
      ],
      "text/plain": [
       "              temp     atemp  humidity    demand\n",
       "temp      1.000000  0.984948 -0.064949  0.394454\n",
       "atemp     0.984948  1.000000 -0.043536  0.389784\n",
       "humidity -0.064949 -0.043536  1.000000 -0.317371\n",
       "demand    0.394454  0.389784 -0.317371  1.000000"
      ]
     },
     "execution_count": 18,
     "metadata": {},
     "output_type": "execute_result"
    }
   ],
   "source": [
    "correlation = df_prep[['temp','atemp','humidity','demand']].corr()\n",
    "correlation"
   ]
  },
  {
   "cell_type": "markdown",
   "metadata": {
    "papermill": {
     "duration": 0.052539,
     "end_time": "2021-02-13T07:57:56.286140",
     "exception": false,
     "start_time": "2021-02-13T07:57:56.233601",
     "status": "completed"
    },
    "tags": []
   },
   "source": [
    "We can see that there is a high correlation between temp and atemp.There is a neegative correlation between the demand and humidity."
   ]
  },
  {
   "cell_type": "markdown",
   "metadata": {
    "papermill": {
     "duration": 0.051115,
     "end_time": "2021-02-13T07:57:56.436233",
     "exception": false,
     "start_time": "2021-02-13T07:57:56.385118",
     "status": "completed"
    },
    "tags": []
   },
   "source": [
    "# 3.Dropping Unwanted Features "
   ]
  },
  {
   "cell_type": "code",
   "execution_count": 19,
   "metadata": {
    "_kg_hide-input": true,
    "execution": {
     "iopub.execute_input": "2021-02-13T07:57:56.546336Z",
     "iopub.status.busy": "2021-02-13T07:57:56.545367Z",
     "iopub.status.idle": "2021-02-13T07:57:56.549191Z",
     "shell.execute_reply": "2021-02-13T07:57:56.548501Z"
    },
    "papermill": {
     "duration": 0.061079,
     "end_time": "2021-02-13T07:57:56.549307",
     "exception": false,
     "start_time": "2021-02-13T07:57:56.488228",
     "status": "completed"
    },
    "tags": []
   },
   "outputs": [],
   "source": [
    "#df.head()"
   ]
  },
  {
   "cell_type": "code",
   "execution_count": 20,
   "metadata": {
    "_kg_hide-input": true,
    "execution": {
     "iopub.execute_input": "2021-02-13T07:57:56.671038Z",
     "iopub.status.busy": "2021-02-13T07:57:56.670315Z",
     "iopub.status.idle": "2021-02-13T07:57:56.673677Z",
     "shell.execute_reply": "2021-02-13T07:57:56.674250Z"
    },
    "papermill": {
     "duration": 0.072812,
     "end_time": "2021-02-13T07:57:56.674419",
     "exception": false,
     "start_time": "2021-02-13T07:57:56.601607",
     "status": "completed"
    },
    "tags": []
   },
   "outputs": [
    {
     "data": {
      "text/html": [
       "<div>\n",
       "<style scoped>\n",
       "    .dataframe tbody tr th:only-of-type {\n",
       "        vertical-align: middle;\n",
       "    }\n",
       "\n",
       "    .dataframe tbody tr th {\n",
       "        vertical-align: top;\n",
       "    }\n",
       "\n",
       "    .dataframe thead th {\n",
       "        text-align: right;\n",
       "    }\n",
       "</style>\n",
       "<table border=\"1\" class=\"dataframe\">\n",
       "  <thead>\n",
       "    <tr style=\"text-align: right;\">\n",
       "      <th></th>\n",
       "      <th>season</th>\n",
       "      <th>weather</th>\n",
       "      <th>temp</th>\n",
       "      <th>humidity</th>\n",
       "      <th>windspeed</th>\n",
       "      <th>demand</th>\n",
       "      <th>month</th>\n",
       "      <th>hour</th>\n",
       "    </tr>\n",
       "  </thead>\n",
       "  <tbody>\n",
       "    <tr>\n",
       "      <th>0</th>\n",
       "      <td>1</td>\n",
       "      <td>1</td>\n",
       "      <td>9.84</td>\n",
       "      <td>81</td>\n",
       "      <td>0.0</td>\n",
       "      <td>16</td>\n",
       "      <td>1</td>\n",
       "      <td>0</td>\n",
       "    </tr>\n",
       "    <tr>\n",
       "      <th>1</th>\n",
       "      <td>1</td>\n",
       "      <td>1</td>\n",
       "      <td>9.02</td>\n",
       "      <td>80</td>\n",
       "      <td>0.0</td>\n",
       "      <td>40</td>\n",
       "      <td>1</td>\n",
       "      <td>1</td>\n",
       "    </tr>\n",
       "    <tr>\n",
       "      <th>2</th>\n",
       "      <td>1</td>\n",
       "      <td>1</td>\n",
       "      <td>9.02</td>\n",
       "      <td>80</td>\n",
       "      <td>0.0</td>\n",
       "      <td>32</td>\n",
       "      <td>1</td>\n",
       "      <td>2</td>\n",
       "    </tr>\n",
       "    <tr>\n",
       "      <th>3</th>\n",
       "      <td>1</td>\n",
       "      <td>1</td>\n",
       "      <td>9.84</td>\n",
       "      <td>75</td>\n",
       "      <td>0.0</td>\n",
       "      <td>13</td>\n",
       "      <td>1</td>\n",
       "      <td>3</td>\n",
       "    </tr>\n",
       "    <tr>\n",
       "      <th>4</th>\n",
       "      <td>1</td>\n",
       "      <td>1</td>\n",
       "      <td>9.84</td>\n",
       "      <td>75</td>\n",
       "      <td>0.0</td>\n",
       "      <td>1</td>\n",
       "      <td>1</td>\n",
       "      <td>4</td>\n",
       "    </tr>\n",
       "  </tbody>\n",
       "</table>\n",
       "</div>"
      ],
      "text/plain": [
       "   season  weather  temp  humidity  windspeed  demand  month  hour\n",
       "0       1        1  9.84        81        0.0      16      1     0\n",
       "1       1        1  9.02        80        0.0      40      1     1\n",
       "2       1        1  9.02        80        0.0      32      1     2\n",
       "3       1        1  9.84        75        0.0      13      1     3\n",
       "4       1        1  9.84        75        0.0       1      1     4"
      ]
     },
     "execution_count": 20,
     "metadata": {},
     "output_type": "execute_result"
    }
   ],
   "source": [
    "df_prep = df_prep.drop(['atemp','holiday','workingday','year','dayofmonth','dayofweek'],axis=1)\n",
    "df_prep.head()\n"
   ]
  },
  {
   "cell_type": "markdown",
   "metadata": {
    "papermill": {
     "duration": 0.054479,
     "end_time": "2021-02-13T07:57:56.783542",
     "exception": false,
     "start_time": "2021-02-13T07:57:56.729063",
     "status": "completed"
    },
    "tags": []
   },
   "source": [
    "So we have dropped features like atemp,holiday,workingday,year,dayofmonth and dayofweek because they have no impact on the outcome of our prediction."
   ]
  },
  {
   "cell_type": "markdown",
   "metadata": {
    "papermill": {
     "duration": 0.053862,
     "end_time": "2021-02-13T07:57:56.891236",
     "exception": false,
     "start_time": "2021-02-13T07:57:56.837374",
     "status": "completed"
    },
    "tags": []
   },
   "source": [
    "# 4.Creating and Modifying Features"
   ]
  },
  {
   "cell_type": "markdown",
   "metadata": {
    "papermill": {
     "duration": 0.053879,
     "end_time": "2021-02-13T07:57:57.000491",
     "exception": false,
     "start_time": "2021-02-13T07:57:56.946612",
     "status": "completed"
    },
    "tags": []
   },
   "source": [
    "### Checking Autocorrelation"
   ]
  },
  {
   "cell_type": "code",
   "execution_count": 21,
   "metadata": {
    "_kg_hide-input": true,
    "execution": {
     "iopub.execute_input": "2021-02-13T07:57:57.111541Z",
     "iopub.status.busy": "2021-02-13T07:57:57.110853Z",
     "iopub.status.idle": "2021-02-13T07:57:57.271135Z",
     "shell.execute_reply": "2021-02-13T07:57:57.270513Z"
    },
    "papermill": {
     "duration": 0.217043,
     "end_time": "2021-02-13T07:57:57.271274",
     "exception": false,
     "start_time": "2021-02-13T07:57:57.054231",
     "status": "completed"
    },
    "tags": []
   },
   "outputs": [
    {
     "data": {
      "image/png": "[encoded data removed]",
      "text/plain": [
       "<Figure size 432x288 with 1 Axes>"
      ]
     },
     "metadata": {
      "needs_background": "light"
     },
     "output_type": "display_data"
    }
   ],
   "source": [
    "df2 = pd.to_numeric(df_prep['demand'],downcast='float')\n",
    "plt.acorr(df2,maxlags=12)\n",
    "pass"
   ]
  },
  {
   "cell_type": "markdown",
   "metadata": {
    "papermill": {
     "duration": 0.053263,
     "end_time": "2021-02-13T07:57:57.379362",
     "exception": false,
     "start_time": "2021-02-13T07:57:57.326099",
     "status": "completed"
    },
    "tags": []
   },
   "source": [
    "From the above plot we can see that there is autocorrelation in the demand. Auto correlation means the value of demand at time t is dependent on the value at time t-1 or t-2 ... The idependent variable demand has auto correlation and it has a log normal distribution.We need to fix this to improve our results."
   ]
  },
  {
   "cell_type": "markdown",
   "metadata": {
    "papermill": {
     "duration": 0.053254,
     "end_time": "2021-02-13T07:57:57.486293",
     "exception": false,
     "start_time": "2021-02-13T07:57:57.433039",
     "status": "completed"
    },
    "tags": []
   },
   "source": [
    "### Transforming Demand to Normal Distribution "
   ]
  },
  {
   "cell_type": "code",
   "execution_count": 22,
   "metadata": {
    "_kg_hide-input": true,
    "execution": {
     "iopub.execute_input": "2021-02-13T07:57:57.605215Z",
     "iopub.status.busy": "2021-02-13T07:57:57.604182Z",
     "iopub.status.idle": "2021-02-13T07:57:57.975238Z",
     "shell.execute_reply": "2021-02-13T07:57:57.975733Z"
    },
    "papermill": {
     "duration": 0.435634,
     "end_time": "2021-02-13T07:57:57.975910",
     "exception": false,
     "start_time": "2021-02-13T07:57:57.540276",
     "status": "completed"
    },
    "tags": []
   },
   "outputs": [
    {
     "data": {
      "image/png": "[encoded data removed]",
      "text/plain": [
       "<Figure size 1080x720 with 2 Axes>"
      ]
     },
     "metadata": {
      "needs_background": "light"
     },
     "output_type": "display_data"
    }
   ],
   "source": [
    "d1 = df_prep['demand']\n",
    "d2 = np.log(d1)\n",
    "\n",
    "plt.figure(figsize=(15,10))\n",
    "plt.subplot(1,2,1,)\n",
    "plt.title('Actual Demand Plot')\n",
    "plt.xlabel('Frequncy')\n",
    "plt.ylabel('Demand')\n",
    "d1.hist(rwidth=0.9)\n",
    "\n",
    "plt.subplot(1,2,2,)\n",
    "plt.title('Log Transform Demand Plot')\n",
    "plt.xlabel('Frequncy')\n",
    "plt.ylabel('Demand')\n",
    "d2.hist(rwidth=0.9)\n",
    "\n",
    "pass\n"
   ]
  },
  {
   "cell_type": "markdown",
   "metadata": {
    "papermill": {
     "duration": 0.055156,
     "end_time": "2021-02-13T07:57:58.086827",
     "exception": false,
     "start_time": "2021-02-13T07:57:58.031671",
     "status": "completed"
    },
    "tags": []
   },
   "source": [
    "From the above plot we can see that by doing a log transform on the demand we can convert it to a normal distribution curve."
   ]
  },
  {
   "cell_type": "code",
   "execution_count": 23,
   "metadata": {
    "_kg_hide-input": true,
    "execution": {
     "iopub.execute_input": "2021-02-13T07:57:58.208859Z",
     "iopub.status.busy": "2021-02-13T07:57:58.207872Z",
     "iopub.status.idle": "2021-02-13T07:57:58.212775Z",
     "shell.execute_reply": "2021-02-13T07:57:58.213350Z"
    },
    "papermill": {
     "duration": 0.070726,
     "end_time": "2021-02-13T07:57:58.213519",
     "exception": false,
     "start_time": "2021-02-13T07:57:58.142793",
     "status": "completed"
    },
    "tags": []
   },
   "outputs": [],
   "source": [
    "df_prep['demand'] = np.log(df_prep['demand'])\n",
    "#df_prep"
   ]
  },
  {
   "cell_type": "markdown",
   "metadata": {
    "papermill": {
     "duration": 0.054316,
     "end_time": "2021-02-13T07:57:58.322915",
     "exception": false,
     "start_time": "2021-02-13T07:57:58.268599",
     "status": "completed"
    },
    "tags": []
   },
   "source": [
    "### Taking Care of Auto Correlation "
   ]
  },
  {
   "cell_type": "code",
   "execution_count": 24,
   "metadata": {
    "_kg_hide-input": true,
    "execution": {
     "iopub.execute_input": "2021-02-13T07:57:58.436535Z",
     "iopub.status.busy": "2021-02-13T07:57:58.435833Z",
     "iopub.status.idle": "2021-02-13T07:57:58.444772Z",
     "shell.execute_reply": "2021-02-13T07:57:58.445251Z"
    },
    "papermill": {
     "duration": 0.067572,
     "end_time": "2021-02-13T07:57:58.445396",
     "exception": false,
     "start_time": "2021-02-13T07:57:58.377824",
     "status": "completed"
    },
    "tags": []
   },
   "outputs": [],
   "source": [
    "t_1 = df_prep['demand'].shift(+1).to_frame()\n",
    "t_1.columns = ['t-1']\n",
    "\n",
    "t_2 = df_prep['demand'].shift(+2).to_frame()\n",
    "t_2.columns = ['t-2']\n",
    "\n",
    "t_3 = df_prep['demand'].shift(+3).to_frame()\n",
    "t_3.columns = ['t-3']"
   ]
  },
  {
   "cell_type": "code",
   "execution_count": 25,
   "metadata": {
    "_kg_hide-input": true,
    "execution": {
     "iopub.execute_input": "2021-02-13T07:57:58.558753Z",
     "iopub.status.busy": "2021-02-13T07:57:58.558118Z",
     "iopub.status.idle": "2021-02-13T07:57:58.600950Z",
     "shell.execute_reply": "2021-02-13T07:57:58.601533Z"
    },
    "papermill": {
     "duration": 0.101608,
     "end_time": "2021-02-13T07:57:58.601720",
     "exception": false,
     "start_time": "2021-02-13T07:57:58.500112",
     "status": "completed"
    },
    "tags": []
   },
   "outputs": [
    {
     "data": {
      "text/html": [
       "<div>\n",
       "<style scoped>\n",
       "    .dataframe tbody tr th:only-of-type {\n",
       "        vertical-align: middle;\n",
       "    }\n",
       "\n",
       "    .dataframe tbody tr th {\n",
       "        vertical-align: top;\n",
       "    }\n",
       "\n",
       "    .dataframe thead th {\n",
       "        text-align: right;\n",
       "    }\n",
       "</style>\n",
       "<table border=\"1\" class=\"dataframe\">\n",
       "  <thead>\n",
       "    <tr style=\"text-align: right;\">\n",
       "      <th></th>\n",
       "      <th>season</th>\n",
       "      <th>weather</th>\n",
       "      <th>temp</th>\n",
       "      <th>humidity</th>\n",
       "      <th>windspeed</th>\n",
       "      <th>demand</th>\n",
       "      <th>month</th>\n",
       "      <th>hour</th>\n",
       "      <th>t-1</th>\n",
       "      <th>t-2</th>\n",
       "      <th>t-3</th>\n",
       "    </tr>\n",
       "  </thead>\n",
       "  <tbody>\n",
       "    <tr>\n",
       "      <th>3</th>\n",
       "      <td>1</td>\n",
       "      <td>1</td>\n",
       "      <td>9.84</td>\n",
       "      <td>75</td>\n",
       "      <td>0.0000</td>\n",
       "      <td>2.564949</td>\n",
       "      <td>1</td>\n",
       "      <td>3</td>\n",
       "      <td>3.465736</td>\n",
       "      <td>3.688879</td>\n",
       "      <td>2.772589</td>\n",
       "    </tr>\n",
       "    <tr>\n",
       "      <th>4</th>\n",
       "      <td>1</td>\n",
       "      <td>1</td>\n",
       "      <td>9.84</td>\n",
       "      <td>75</td>\n",
       "      <td>0.0000</td>\n",
       "      <td>0.000000</td>\n",
       "      <td>1</td>\n",
       "      <td>4</td>\n",
       "      <td>2.564949</td>\n",
       "      <td>3.465736</td>\n",
       "      <td>3.688879</td>\n",
       "    </tr>\n",
       "    <tr>\n",
       "      <th>5</th>\n",
       "      <td>1</td>\n",
       "      <td>2</td>\n",
       "      <td>9.84</td>\n",
       "      <td>75</td>\n",
       "      <td>6.0032</td>\n",
       "      <td>0.000000</td>\n",
       "      <td>1</td>\n",
       "      <td>5</td>\n",
       "      <td>0.000000</td>\n",
       "      <td>2.564949</td>\n",
       "      <td>3.465736</td>\n",
       "    </tr>\n",
       "    <tr>\n",
       "      <th>6</th>\n",
       "      <td>1</td>\n",
       "      <td>1</td>\n",
       "      <td>9.02</td>\n",
       "      <td>80</td>\n",
       "      <td>0.0000</td>\n",
       "      <td>0.693147</td>\n",
       "      <td>1</td>\n",
       "      <td>6</td>\n",
       "      <td>0.000000</td>\n",
       "      <td>0.000000</td>\n",
       "      <td>2.564949</td>\n",
       "    </tr>\n",
       "    <tr>\n",
       "      <th>7</th>\n",
       "      <td>1</td>\n",
       "      <td>1</td>\n",
       "      <td>8.20</td>\n",
       "      <td>86</td>\n",
       "      <td>0.0000</td>\n",
       "      <td>1.098612</td>\n",
       "      <td>1</td>\n",
       "      <td>7</td>\n",
       "      <td>0.693147</td>\n",
       "      <td>0.000000</td>\n",
       "      <td>0.000000</td>\n",
       "    </tr>\n",
       "  </tbody>\n",
       "</table>\n",
       "</div>"
      ],
      "text/plain": [
       "   season  weather  temp  humidity  windspeed    demand  month  hour  \\\n",
       "3       1        1  9.84        75     0.0000  2.564949      1     3   \n",
       "4       1        1  9.84        75     0.0000  0.000000      1     4   \n",
       "5       1        2  9.84        75     6.0032  0.000000      1     5   \n",
       "6       1        1  9.02        80     0.0000  0.693147      1     6   \n",
       "7       1        1  8.20        86     0.0000  1.098612      1     7   \n",
       "\n",
       "        t-1       t-2       t-3  \n",
       "3  3.465736  3.688879  2.772589  \n",
       "4  2.564949  3.465736  3.688879  \n",
       "5  0.000000  2.564949  3.465736  \n",
       "6  0.000000  0.000000  2.564949  \n",
       "7  0.693147  0.000000  0.000000  "
      ]
     },
     "execution_count": 25,
     "metadata": {},
     "output_type": "execute_result"
    }
   ],
   "source": [
    "df_prep_lag = pd.concat([df_prep,t_1,t_2,t_3],axis=1)\n",
    "df_prep_lag = df_prep_lag.dropna()\n",
    "df_prep_lag.head()"
   ]
  },
  {
   "cell_type": "markdown",
   "metadata": {
    "papermill": {
     "duration": 0.058332,
     "end_time": "2021-02-13T07:57:58.716947",
     "exception": false,
     "start_time": "2021-02-13T07:57:58.658615",
     "status": "completed"
    },
    "tags": []
   },
   "source": [
    "From the above table one can observe that we have created addition column of features t-1,t-2,t-3 to take care of autocorrelation oof the demand dataset.This additional created features will be used to predict the demand."
   ]
  },
  {
   "cell_type": "markdown",
   "metadata": {
    "papermill": {
     "duration": 0.056215,
     "end_time": "2021-02-13T07:57:58.830533",
     "exception": false,
     "start_time": "2021-02-13T07:57:58.774318",
     "status": "completed"
    },
    "tags": []
   },
   "source": [
    "# 5.Create Dummy Variables"
   ]
  },
  {
   "cell_type": "code",
   "execution_count": 26,
   "metadata": {
    "_kg_hide-input": true,
    "execution": {
     "iopub.execute_input": "2021-02-13T07:57:58.948979Z",
     "iopub.status.busy": "2021-02-13T07:57:58.948307Z",
     "iopub.status.idle": "2021-02-13T07:57:58.957305Z",
     "shell.execute_reply": "2021-02-13T07:57:58.956739Z"
    },
    "papermill": {
     "duration": 0.069957,
     "end_time": "2021-02-13T07:57:58.957432",
     "exception": false,
     "start_time": "2021-02-13T07:57:58.887475",
     "status": "completed"
    },
    "tags": []
   },
   "outputs": [
    {
     "data": {
      "text/plain": [
       "season         int64\n",
       "weather        int64\n",
       "temp         float64\n",
       "humidity       int64\n",
       "windspeed    float64\n",
       "demand       float64\n",
       "month          int64\n",
       "hour           int64\n",
       "t-1          float64\n",
       "t-2          float64\n",
       "t-3          float64\n",
       "dtype: object"
      ]
     },
     "execution_count": 26,
     "metadata": {},
     "output_type": "execute_result"
    }
   ],
   "source": [
    "df_prep_lag.dtypes"
   ]
  },
  {
   "cell_type": "markdown",
   "metadata": {
    "papermill": {
     "duration": 0.058102,
     "end_time": "2021-02-13T07:57:59.075339",
     "exception": false,
     "start_time": "2021-02-13T07:57:59.017237",
     "status": "completed"
    },
    "tags": []
   },
   "source": [
    "For making the dummies command to work we need the categorical data in object or category type.Let covert the type of data."
   ]
  },
  {
   "cell_type": "code",
   "execution_count": 27,
   "metadata": {
    "_kg_hide-input": true,
    "execution": {
     "iopub.execute_input": "2021-02-13T07:57:59.196840Z",
     "iopub.status.busy": "2021-02-13T07:57:59.196138Z",
     "iopub.status.idle": "2021-02-13T07:57:59.240710Z",
     "shell.execute_reply": "2021-02-13T07:57:59.241241Z"
    },
    "papermill": {
     "duration": 0.109065,
     "end_time": "2021-02-13T07:57:59.241409",
     "exception": false,
     "start_time": "2021-02-13T07:57:59.132344",
     "status": "completed"
    },
    "tags": []
   },
   "outputs": [
    {
     "data": {
      "text/html": [
       "<div>\n",
       "<style scoped>\n",
       "    .dataframe tbody tr th:only-of-type {\n",
       "        vertical-align: middle;\n",
       "    }\n",
       "\n",
       "    .dataframe tbody tr th {\n",
       "        vertical-align: top;\n",
       "    }\n",
       "\n",
       "    .dataframe thead th {\n",
       "        text-align: right;\n",
       "    }\n",
       "</style>\n",
       "<table border=\"1\" class=\"dataframe\">\n",
       "  <thead>\n",
       "    <tr style=\"text-align: right;\">\n",
       "      <th></th>\n",
       "      <th>temp</th>\n",
       "      <th>humidity</th>\n",
       "      <th>windspeed</th>\n",
       "      <th>demand</th>\n",
       "      <th>t-1</th>\n",
       "      <th>t-2</th>\n",
       "      <th>t-3</th>\n",
       "      <th>season_2</th>\n",
       "      <th>season_3</th>\n",
       "      <th>season_4</th>\n",
       "      <th>weather_2</th>\n",
       "      <th>weather_3</th>\n",
       "      <th>weather_4</th>\n",
       "      <th>month_2</th>\n",
       "      <th>month_3</th>\n",
       "      <th>month_4</th>\n",
       "      <th>month_5</th>\n",
       "      <th>month_6</th>\n",
       "      <th>month_7</th>\n",
       "      <th>month_8</th>\n",
       "      <th>month_9</th>\n",
       "      <th>month_10</th>\n",
       "      <th>month_11</th>\n",
       "      <th>month_12</th>\n",
       "      <th>hour_1</th>\n",
       "      <th>hour_2</th>\n",
       "      <th>hour_3</th>\n",
       "      <th>hour_4</th>\n",
       "      <th>hour_5</th>\n",
       "      <th>hour_6</th>\n",
       "      <th>hour_7</th>\n",
       "      <th>hour_8</th>\n",
       "      <th>hour_9</th>\n",
       "      <th>hour_10</th>\n",
       "      <th>hour_11</th>\n",
       "      <th>hour_12</th>\n",
       "      <th>hour_13</th>\n",
       "      <th>hour_14</th>\n",
       "      <th>hour_15</th>\n",
       "      <th>hour_16</th>\n",
       "      <th>hour_17</th>\n",
       "      <th>hour_18</th>\n",
       "      <th>hour_19</th>\n",
       "      <th>hour_20</th>\n",
       "      <th>hour_21</th>\n",
       "      <th>hour_22</th>\n",
       "      <th>hour_23</th>\n",
       "    </tr>\n",
       "  </thead>\n",
       "  <tbody>\n",
       "    <tr>\n",
       "      <th>3</th>\n",
       "      <td>9.84</td>\n",
       "      <td>75</td>\n",
       "      <td>0.0000</td>\n",
       "      <td>2.564949</td>\n",
       "      <td>3.465736</td>\n",
       "      <td>3.688879</td>\n",
       "      <td>2.772589</td>\n",
       "      <td>0</td>\n",
       "      <td>0</td>\n",
       "      <td>0</td>\n",
       "      <td>0</td>\n",
       "      <td>0</td>\n",
       "      <td>0</td>\n",
       "      <td>0</td>\n",
       "      <td>0</td>\n",
       "      <td>0</td>\n",
       "      <td>0</td>\n",
       "      <td>0</td>\n",
       "      <td>0</td>\n",
       "      <td>0</td>\n",
       "      <td>0</td>\n",
       "      <td>0</td>\n",
       "      <td>0</td>\n",
       "      <td>0</td>\n",
       "      <td>0</td>\n",
       "      <td>0</td>\n",
       "      <td>1</td>\n",
       "      <td>0</td>\n",
       "      <td>0</td>\n",
       "      <td>0</td>\n",
       "      <td>0</td>\n",
       "      <td>0</td>\n",
       "      <td>0</td>\n",
       "      <td>0</td>\n",
       "      <td>0</td>\n",
       "      <td>0</td>\n",
       "      <td>0</td>\n",
       "      <td>0</td>\n",
       "      <td>0</td>\n",
       "      <td>0</td>\n",
       "      <td>0</td>\n",
       "      <td>0</td>\n",
       "      <td>0</td>\n",
       "      <td>0</td>\n",
       "      <td>0</td>\n",
       "      <td>0</td>\n",
       "      <td>0</td>\n",
       "    </tr>\n",
       "    <tr>\n",
       "      <th>4</th>\n",
       "      <td>9.84</td>\n",
       "      <td>75</td>\n",
       "      <td>0.0000</td>\n",
       "      <td>0.000000</td>\n",
       "      <td>2.564949</td>\n",
       "      <td>3.465736</td>\n",
       "      <td>3.688879</td>\n",
       "      <td>0</td>\n",
       "      <td>0</td>\n",
       "      <td>0</td>\n",
       "      <td>0</td>\n",
       "      <td>0</td>\n",
       "      <td>0</td>\n",
       "      <td>0</td>\n",
       "      <td>0</td>\n",
       "      <td>0</td>\n",
       "      <td>0</td>\n",
       "      <td>0</td>\n",
       "      <td>0</td>\n",
       "      <td>0</td>\n",
       "      <td>0</td>\n",
       "      <td>0</td>\n",
       "      <td>0</td>\n",
       "      <td>0</td>\n",
       "      <td>0</td>\n",
       "      <td>0</td>\n",
       "      <td>0</td>\n",
       "      <td>1</td>\n",
       "      <td>0</td>\n",
       "      <td>0</td>\n",
       "      <td>0</td>\n",
       "      <td>0</td>\n",
       "      <td>0</td>\n",
       "      <td>0</td>\n",
       "      <td>0</td>\n",
       "      <td>0</td>\n",
       "      <td>0</td>\n",
       "      <td>0</td>\n",
       "      <td>0</td>\n",
       "      <td>0</td>\n",
       "      <td>0</td>\n",
       "      <td>0</td>\n",
       "      <td>0</td>\n",
       "      <td>0</td>\n",
       "      <td>0</td>\n",
       "      <td>0</td>\n",
       "      <td>0</td>\n",
       "    </tr>\n",
       "    <tr>\n",
       "      <th>5</th>\n",
       "      <td>9.84</td>\n",
       "      <td>75</td>\n",
       "      <td>6.0032</td>\n",
       "      <td>0.000000</td>\n",
       "      <td>0.000000</td>\n",
       "      <td>2.564949</td>\n",
       "      <td>3.465736</td>\n",
       "      <td>0</td>\n",
       "      <td>0</td>\n",
       "      <td>0</td>\n",
       "      <td>1</td>\n",
       "      <td>0</td>\n",
       "      <td>0</td>\n",
       "      <td>0</td>\n",
       "      <td>0</td>\n",
       "      <td>0</td>\n",
       "      <td>0</td>\n",
       "      <td>0</td>\n",
       "      <td>0</td>\n",
       "      <td>0</td>\n",
       "      <td>0</td>\n",
       "      <td>0</td>\n",
       "      <td>0</td>\n",
       "      <td>0</td>\n",
       "      <td>0</td>\n",
       "      <td>0</td>\n",
       "      <td>0</td>\n",
       "      <td>0</td>\n",
       "      <td>1</td>\n",
       "      <td>0</td>\n",
       "      <td>0</td>\n",
       "      <td>0</td>\n",
       "      <td>0</td>\n",
       "      <td>0</td>\n",
       "      <td>0</td>\n",
       "      <td>0</td>\n",
       "      <td>0</td>\n",
       "      <td>0</td>\n",
       "      <td>0</td>\n",
       "      <td>0</td>\n",
       "      <td>0</td>\n",
       "      <td>0</td>\n",
       "      <td>0</td>\n",
       "      <td>0</td>\n",
       "      <td>0</td>\n",
       "      <td>0</td>\n",
       "      <td>0</td>\n",
       "    </tr>\n",
       "    <tr>\n",
       "      <th>6</th>\n",
       "      <td>9.02</td>\n",
       "      <td>80</td>\n",
       "      <td>0.0000</td>\n",
       "      <td>0.693147</td>\n",
       "      <td>0.000000</td>\n",
       "      <td>0.000000</td>\n",
       "      <td>2.564949</td>\n",
       "      <td>0</td>\n",
       "      <td>0</td>\n",
       "      <td>0</td>\n",
       "      <td>0</td>\n",
       "      <td>0</td>\n",
       "      <td>0</td>\n",
       "      <td>0</td>\n",
       "      <td>0</td>\n",
       "      <td>0</td>\n",
       "      <td>0</td>\n",
       "      <td>0</td>\n",
       "      <td>0</td>\n",
       "      <td>0</td>\n",
       "      <td>0</td>\n",
       "      <td>0</td>\n",
       "      <td>0</td>\n",
       "      <td>0</td>\n",
       "      <td>0</td>\n",
       "      <td>0</td>\n",
       "      <td>0</td>\n",
       "      <td>0</td>\n",
       "      <td>0</td>\n",
       "      <td>1</td>\n",
       "      <td>0</td>\n",
       "      <td>0</td>\n",
       "      <td>0</td>\n",
       "      <td>0</td>\n",
       "      <td>0</td>\n",
       "      <td>0</td>\n",
       "      <td>0</td>\n",
       "      <td>0</td>\n",
       "      <td>0</td>\n",
       "      <td>0</td>\n",
       "      <td>0</td>\n",
       "      <td>0</td>\n",
       "      <td>0</td>\n",
       "      <td>0</td>\n",
       "      <td>0</td>\n",
       "      <td>0</td>\n",
       "      <td>0</td>\n",
       "    </tr>\n",
       "    <tr>\n",
       "      <th>7</th>\n",
       "      <td>8.20</td>\n",
       "      <td>86</td>\n",
       "      <td>0.0000</td>\n",
       "      <td>1.098612</td>\n",
       "      <td>0.693147</td>\n",
       "      <td>0.000000</td>\n",
       "      <td>0.000000</td>\n",
       "      <td>0</td>\n",
       "      <td>0</td>\n",
       "      <td>0</td>\n",
       "      <td>0</td>\n",
       "      <td>0</td>\n",
       "      <td>0</td>\n",
       "      <td>0</td>\n",
       "      <td>0</td>\n",
       "      <td>0</td>\n",
       "      <td>0</td>\n",
       "      <td>0</td>\n",
       "      <td>0</td>\n",
       "      <td>0</td>\n",
       "      <td>0</td>\n",
       "      <td>0</td>\n",
       "      <td>0</td>\n",
       "      <td>0</td>\n",
       "      <td>0</td>\n",
       "      <td>0</td>\n",
       "      <td>0</td>\n",
       "      <td>0</td>\n",
       "      <td>0</td>\n",
       "      <td>0</td>\n",
       "      <td>1</td>\n",
       "      <td>0</td>\n",
       "      <td>0</td>\n",
       "      <td>0</td>\n",
       "      <td>0</td>\n",
       "      <td>0</td>\n",
       "      <td>0</td>\n",
       "      <td>0</td>\n",
       "      <td>0</td>\n",
       "      <td>0</td>\n",
       "      <td>0</td>\n",
       "      <td>0</td>\n",
       "      <td>0</td>\n",
       "      <td>0</td>\n",
       "      <td>0</td>\n",
       "      <td>0</td>\n",
       "      <td>0</td>\n",
       "    </tr>\n",
       "  </tbody>\n",
       "</table>\n",
       "</div>"
      ],
      "text/plain": [
       "   temp  humidity  windspeed    demand       t-1       t-2       t-3  \\\n",
       "3  9.84        75     0.0000  2.564949  3.465736  3.688879  2.772589   \n",
       "4  9.84        75     0.0000  0.000000  2.564949  3.465736  3.688879   \n",
       "5  9.84        75     6.0032  0.000000  0.000000  2.564949  3.465736   \n",
       "6  9.02        80     0.0000  0.693147  0.000000  0.000000  2.564949   \n",
       "7  8.20        86     0.0000  1.098612  0.693147  0.000000  0.000000   \n",
       "\n",
       "   season_2  season_3  season_4  weather_2  weather_3  weather_4  month_2  \\\n",
       "3         0         0         0          0          0          0        0   \n",
       "4         0         0         0          0          0          0        0   \n",
       "5         0         0         0          1          0          0        0   \n",
       "6         0         0         0          0          0          0        0   \n",
       "7         0         0         0          0          0          0        0   \n",
       "\n",
       "   month_3  month_4  month_5  month_6  month_7  month_8  month_9  month_10  \\\n",
       "3        0        0        0        0        0        0        0         0   \n",
       "4        0        0        0        0        0        0        0         0   \n",
       "5        0        0        0        0        0        0        0         0   \n",
       "6        0        0        0        0        0        0        0         0   \n",
       "7        0        0        0        0        0        0        0         0   \n",
       "\n",
       "   month_11  month_12  hour_1  hour_2  hour_3  hour_4  hour_5  hour_6  hour_7  \\\n",
       "3         0         0       0       0       1       0       0       0       0   \n",
       "4         0         0       0       0       0       1       0       0       0   \n",
       "5         0         0       0       0       0       0       1       0       0   \n",
       "6         0         0       0       0       0       0       0       1       0   \n",
       "7         0         0       0       0       0       0       0       0       1   \n",
       "\n",
       "   hour_8  hour_9  hour_10  hour_11  hour_12  hour_13  hour_14  hour_15  \\\n",
       "3       0       0        0        0        0        0        0        0   \n",
       "4       0       0        0        0        0        0        0        0   \n",
       "5       0       0        0        0        0        0        0        0   \n",
       "6       0       0        0        0        0        0        0        0   \n",
       "7       0       0        0        0        0        0        0        0   \n",
       "\n",
       "   hour_16  hour_17  hour_18  hour_19  hour_20  hour_21  hour_22  hour_23  \n",
       "3        0        0        0        0        0        0        0        0  \n",
       "4        0        0        0        0        0        0        0        0  \n",
       "5        0        0        0        0        0        0        0        0  \n",
       "6        0        0        0        0        0        0        0        0  \n",
       "7        0        0        0        0        0        0        0        0  "
      ]
     },
     "execution_count": 27,
     "metadata": {},
     "output_type": "execute_result"
    }
   ],
   "source": [
    "df_prep_lag['season'] = df_prep_lag['season'].astype('category')\n",
    "df_prep_lag['weather'] = df_prep_lag['weather'].astype('category')\n",
    "df_prep_lag['month'] = df_prep_lag['month'].astype('category')\n",
    "df_prep_lag['hour'] = df_prep_lag['hour'].astype('category')\n",
    "dummy_df = pd.get_dummies(df_prep_lag,drop_first=True)\n",
    "dummy_df.head()\n",
    "#dummy_df.shape"
   ]
  },
  {
   "cell_type": "markdown",
   "metadata": {
    "papermill": {
     "duration": 0.057794,
     "end_time": "2021-02-13T07:57:59.357269",
     "exception": false,
     "start_time": "2021-02-13T07:57:59.299475",
     "status": "completed"
    },
    "tags": []
   },
   "source": [
    "So we have created dummy variables and avoided the dummy variable trap by removing the unwanted column of categorical data."
   ]
  },
  {
   "cell_type": "markdown",
   "metadata": {
    "papermill": {
     "duration": 0.058499,
     "end_time": "2021-02-13T07:57:59.474180",
     "exception": false,
     "start_time": "2021-02-13T07:57:59.415681",
     "status": "completed"
    },
    "tags": []
   },
   "source": [
    "# 6.Train Test Split"
   ]
  },
  {
   "cell_type": "code",
   "execution_count": 28,
   "metadata": {
    "_kg_hide-input": true,
    "execution": {
     "iopub.execute_input": "2021-02-13T07:57:59.599516Z",
     "iopub.status.busy": "2021-02-13T07:57:59.598794Z",
     "iopub.status.idle": "2021-02-13T07:57:59.602653Z",
     "shell.execute_reply": "2021-02-13T07:57:59.601951Z"
    },
    "papermill": {
     "duration": 0.070409,
     "end_time": "2021-02-13T07:57:59.602777",
     "exception": false,
     "start_time": "2021-02-13T07:57:59.532368",
     "status": "completed"
    },
    "tags": []
   },
   "outputs": [],
   "source": [
    "y = df_prep_lag[['demand']]\n",
    "X = df_prep_lag.drop(['demand'],axis=1)"
   ]
  },
  {
   "cell_type": "code",
   "execution_count": 29,
   "metadata": {
    "_kg_hide-input": true,
    "execution": {
     "iopub.execute_input": "2021-02-13T07:57:59.729696Z",
     "iopub.status.busy": "2021-02-13T07:57:59.728581Z",
     "iopub.status.idle": "2021-02-13T07:57:59.736338Z",
     "shell.execute_reply": "2021-02-13T07:57:59.735677Z"
    },
    "papermill": {
     "duration": 0.074974,
     "end_time": "2021-02-13T07:57:59.736458",
     "exception": false,
     "start_time": "2021-02-13T07:57:59.661484",
     "status": "completed"
    },
    "tags": []
   },
   "outputs": [],
   "source": [
    "# Creating the training set at 70%\n",
    "tr_size = 0.7*len(X)\n",
    "tr_size = int(tr_size)\n",
    "\n",
    "X_train = X.values[0:tr_size]\n",
    "X_test = X.values[tr_size:len(X)]\n",
    "\n",
    "y_train = y.values[0:tr_size]\n",
    "y_test = y.values[tr_size:len(y)]"
   ]
  },
  {
   "cell_type": "markdown",
   "metadata": {
    "papermill": {
     "duration": 0.057502,
     "end_time": "2021-02-13T07:57:59.852166",
     "exception": false,
     "start_time": "2021-02-13T07:57:59.794664",
     "status": "completed"
    },
    "tags": []
   },
   "source": [
    "Our demand data is a time series data.So the sequence of the data for features are important to predict demand.So while splitting the data we have maintained the sequence of the data."
   ]
  },
  {
   "cell_type": "markdown",
   "metadata": {
    "papermill": {
     "duration": 0.058902,
     "end_time": "2021-02-13T07:57:59.968100",
     "exception": false,
     "start_time": "2021-02-13T07:57:59.909198",
     "status": "completed"
    },
    "tags": []
   },
   "source": [
    "# 7.Fit and Score Model"
   ]
  },
  {
   "cell_type": "code",
   "execution_count": 30,
   "metadata": {
    "_kg_hide-input": true,
    "execution": {
     "iopub.execute_input": "2021-02-13T07:58:00.089686Z",
     "iopub.status.busy": "2021-02-13T07:58:00.089039Z",
     "iopub.status.idle": "2021-02-13T07:58:01.275910Z",
     "shell.execute_reply": "2021-02-13T07:58:01.274422Z"
    },
    "papermill": {
     "duration": 1.250276,
     "end_time": "2021-02-13T07:58:01.276112",
     "exception": false,
     "start_time": "2021-02-13T07:58:00.025836",
     "status": "completed"
    },
    "tags": []
   },
   "outputs": [
    {
     "data": {
      "text/plain": [
       "LinearRegression()"
      ]
     },
     "execution_count": 30,
     "metadata": {},
     "output_type": "execute_result"
    }
   ],
   "source": [
    "from sklearn.linear_model import LinearRegression \n",
    "\n",
    "std_reg = LinearRegression()\n",
    "std_reg.fit(X_train,y_train)"
   ]
  },
  {
   "cell_type": "markdown",
   "metadata": {
    "papermill": {
     "duration": 0.060054,
     "end_time": "2021-02-13T07:58:01.399505",
     "exception": false,
     "start_time": "2021-02-13T07:58:01.339451",
     "status": "completed"
    },
    "tags": []
   },
   "source": [
    "### R Square Error "
   ]
  },
  {
   "cell_type": "code",
   "execution_count": 31,
   "metadata": {
    "_kg_hide-input": true,
    "execution": {
     "iopub.execute_input": "2021-02-13T07:58:01.525156Z",
     "iopub.status.busy": "2021-02-13T07:58:01.523918Z",
     "iopub.status.idle": "2021-02-13T07:58:01.533723Z",
     "shell.execute_reply": "2021-02-13T07:58:01.533015Z"
    },
    "papermill": {
     "duration": 0.075297,
     "end_time": "2021-02-13T07:58:01.533862",
     "exception": false,
     "start_time": "2021-02-13T07:58:01.458565",
     "status": "completed"
    },
    "tags": []
   },
   "outputs": [
    {
     "name": "stdout",
     "output_type": "stream",
     "text": [
      "R Suared Error for Train set: 0.8627353465714249\n",
      "R Suared Error for Test set: 0.8865223634446046\n"
     ]
    }
   ],
   "source": [
    "r2_train = std_reg.score(X_train,y_train)\n",
    "r2_test = std_reg.score(X_test,y_test)\n",
    "print('R Suared Error for Train set:',r2_train)\n",
    "print('R Suared Error for Test set:',r2_test)"
   ]
  },
  {
   "cell_type": "markdown",
   "metadata": {
    "papermill": {
     "duration": 0.058192,
     "end_time": "2021-02-13T07:58:01.653093",
     "exception": false,
     "start_time": "2021-02-13T07:58:01.594901",
     "status": "completed"
    },
    "tags": []
   },
   "source": [
    "The R square value for the test set is higher.Which tells us that there is no overfitting in the model."
   ]
  },
  {
   "cell_type": "code",
   "execution_count": 32,
   "metadata": {
    "_kg_hide-input": true,
    "execution": {
     "iopub.execute_input": "2021-02-13T07:58:01.777275Z",
     "iopub.status.busy": "2021-02-13T07:58:01.776539Z",
     "iopub.status.idle": "2021-02-13T07:58:01.780688Z",
     "shell.execute_reply": "2021-02-13T07:58:01.781415Z"
    },
    "papermill": {
     "duration": 0.06848,
     "end_time": "2021-02-13T07:58:01.781613",
     "exception": false,
     "start_time": "2021-02-13T07:58:01.713133",
     "status": "completed"
    },
    "tags": []
   },
   "outputs": [],
   "source": [
    "# Create Predictions \n",
    "y_predict = std_reg.predict(X_test)\n"
   ]
  },
  {
   "cell_type": "markdown",
   "metadata": {
    "papermill": {
     "duration": 0.05917,
     "end_time": "2021-02-13T07:58:01.901647",
     "exception": false,
     "start_time": "2021-02-13T07:58:01.842477",
     "status": "completed"
    },
    "tags": []
   },
   "source": [
    "### RMSE"
   ]
  },
  {
   "cell_type": "code",
   "execution_count": 33,
   "metadata": {
    "_kg_hide-input": true,
    "execution": {
     "iopub.execute_input": "2021-02-13T07:58:02.036056Z",
     "iopub.status.busy": "2021-02-13T07:58:02.035329Z",
     "iopub.status.idle": "2021-02-13T07:58:02.044276Z",
     "shell.execute_reply": "2021-02-13T07:58:02.045262Z"
    },
    "papermill": {
     "duration": 0.082855,
     "end_time": "2021-02-13T07:58:02.045507",
     "exception": false,
     "start_time": "2021-02-13T07:58:01.962652",
     "status": "completed"
    },
    "tags": []
   },
   "outputs": [
    {
     "name": "stdout",
     "output_type": "stream",
     "text": [
      "RMSE of the model: 0.4685808629145551\n"
     ]
    }
   ],
   "source": [
    "from sklearn.metrics import mean_squared_error\n",
    "rmse = math.sqrt(mean_squared_error(y_test,y_predict))\n",
    "print('RMSE of the model:',rmse)"
   ]
  },
  {
   "cell_type": "markdown",
   "metadata": {
    "papermill": {
     "duration": 0.07193,
     "end_time": "2021-02-13T07:58:02.198766",
     "exception": false,
     "start_time": "2021-02-13T07:58:02.126836",
     "status": "completed"
    },
    "tags": []
   },
   "source": [
    "Low value of RMSE tells us that our model is quite good."
   ]
  },
  {
   "cell_type": "markdown",
   "metadata": {
    "papermill": {
     "duration": 0.061199,
     "end_time": "2021-02-13T07:58:02.321014",
     "exception": false,
     "start_time": "2021-02-13T07:58:02.259815",
     "status": "completed"
    },
    "tags": []
   },
   "source": [
    "### RMSLE"
   ]
  },
  {
   "cell_type": "code",
   "execution_count": 34,
   "metadata": {
    "_kg_hide-input": true,
    "execution": {
     "iopub.execute_input": "2021-02-13T07:58:02.451367Z",
     "iopub.status.busy": "2021-02-13T07:58:02.450333Z",
     "iopub.status.idle": "2021-02-13T07:58:02.466889Z",
     "shell.execute_reply": "2021-02-13T07:58:02.466179Z"
    },
    "papermill": {
     "duration": 0.085092,
     "end_time": "2021-02-13T07:58:02.467028",
     "exception": false,
     "start_time": "2021-02-13T07:58:02.381936",
     "status": "completed"
    },
    "tags": []
   },
   "outputs": [
    {
     "name": "stdout",
     "output_type": "stream",
     "text": [
      "0.4476284768565324\n"
     ]
    }
   ],
   "source": [
    "y_test_e = []\n",
    "y_predict_e = []\n",
    "\n",
    "\n",
    "for i in range(0,len(y_test)):\n",
    "    y_test_e.append(math.exp(y_test[i]))\n",
    "    y_predict_e.append(math.exp(y_predict[i]))\n",
    "    \n",
    "# Calculate the sum\n",
    "log_sq_sum = 0.0\n",
    "\n",
    "for i in range(0,len(y_test_e)):\n",
    "    log_a = math.log(y_test_e[i] +1)\n",
    "    log_p = math.log(y_predict_e[i] +1)\n",
    "    log_diff = (log_p - log_a)**2\n",
    "    log_sq_sum = log_sq_sum + log_diff\n",
    "    \n",
    "rmsle = math.sqrt(log_sq_sum/len(y_test))\n",
    "print(rmsle)\n"
   ]
  },
  {
   "cell_type": "markdown",
   "metadata": {
    "papermill": {
     "duration": 0.059449,
     "end_time": "2021-02-13T07:58:02.586426",
     "exception": false,
     "start_time": "2021-02-13T07:58:02.526977",
     "status": "completed"
    },
    "tags": []
   },
   "source": [
    "# 8.Result Discussion \n",
    "\n",
    "We have completed the task of predicting the demand for bikes. In this kernels we have go through topics like data exploration,data cleaning,Feature selection and finally model build using Multi Linear Regression.We have got a got level of R square value of around 86%"
   ]
  }
 ],
 "metadata": {
  "kernelspec": {
   "display_name": "Python 3",
   "language": "python",
   "name": "python3"
  },
  "language_info": {
   "codemirror_mode": {
    "name": "ipython",
    "version": 3
   },
   "file_extension": ".py",
   "mimetype": "text/x-python",
   "name": "python",
   "nbconvert_exporter": "python",
   "pygments_lexer": "ipython3",
   "version": "3.7.6"
  },
  "papermill": {
   "duration": 20.995834,
   "end_time": "2021-02-13T07:58:03.722660",
   "environment_variables": {},
   "exception": null,
   "input_path": "__notebook__.ipynb",
   "output_path": "__notebook__.ipynb",
   "parameters": {},
   "start_time": "2021-02-13T07:57:42.726826",
   "version": "2.1.0"
  }
 },
 "nbformat": 4,
 "nbformat_minor": 4
}
