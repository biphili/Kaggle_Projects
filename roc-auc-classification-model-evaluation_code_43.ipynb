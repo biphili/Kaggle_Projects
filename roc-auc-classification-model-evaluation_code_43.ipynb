{
 "cells": [
  {
   "cell_type": "markdown",
   "metadata": {
    "papermill": {
     "duration": 0.036105,
     "end_time": "2021-02-02T06:08:47.335038",
     "exception": false,
     "start_time": "2021-02-02T06:08:47.298933",
     "status": "completed"
    },
    "tags": []
   },
   "source": [
    "# During the lockdown I published my first book titled Inspiration:Thoughts on Spirituality,Technology,Wealth,Leadership and Motivation.The preview of the book can be read from the Amazon link https://lnkd.in/gj7bMQA .\n",
    "# E Book is availabe for Rs 99 in India.Paperback Edition of the book is available on Amazon.com link https://lnkd.in/gkFYYMJ"
   ]
  },
  {
   "cell_type": "markdown",
   "metadata": {
    "papermill": {
     "duration": 0.031062,
     "end_time": "2021-02-02T06:08:47.398462",
     "exception": false,
     "start_time": "2021-02-02T06:08:47.367400",
     "status": "completed"
    },
    "tags": []
   },
   "source": [
    "In this kernel we will be covering various methods to do classification.In this kernel we will be covering following things.\n",
    "\n",
    "1.Data import,Data Exploration and Vizualization\n",
    "\n",
    "2.Model Built\n",
    "\n",
    "3.Model Evaluation\n",
    "\n",
    "4.Changing the Threshold of the model\n",
    "\n",
    "5.ROC and AOC for evaluating the model\n",
    "\n",
    "This kernel is a work in process.If you like the kernel please do vote.       \n"
   ]
  },
  {
   "cell_type": "code",
   "execution_count": 1,
   "metadata": {
    "_cell_guid": "b1076dfc-b9ad-4769-8c92-a6c4dae69d19",
    "_kg_hide-input": true,
    "_uuid": "8f2839f25d086af736a60e9eeb907d3b93b6e0e5",
    "execution": {
     "iopub.execute_input": "2021-02-02T06:08:47.469972Z",
     "iopub.status.busy": "2021-02-02T06:08:47.469123Z",
     "iopub.status.idle": "2021-02-02T06:08:47.486801Z",
     "shell.execute_reply": "2021-02-02T06:08:47.485464Z"
    },
    "papermill": {
     "duration": 0.056841,
     "end_time": "2021-02-02T06:08:47.487045",
     "exception": false,
     "start_time": "2021-02-02T06:08:47.430204",
     "status": "completed"
    },
    "tags": []
   },
   "outputs": [
    {
     "name": "stdout",
     "output_type": "stream",
     "text": [
      "/kaggle/input/loan-approval/01Exercise1.csv\n"
     ]
    }
   ],
   "source": [
    "# This Python 3 environment comes with many helpful analytics libraries installed\n",
    "# It is defined by the kaggle/python Docker image: https://github.com/kaggle/docker-python\n",
    "# For example, here's several helpful packages to load\n",
    "\n",
    "import numpy as np # linear algebra\n",
    "import pandas as pd # data processing, CSV file I/O (e.g. pd.read_csv)\n",
    "\n",
    "# Input data files are available in the read-only \"../input/\" directory\n",
    "# For example, running this (by clicking run or pressing Shift+Enter) will list all files under the input directory\n",
    "\n",
    "import os\n",
    "for dirname, _, filenames in os.walk('/kaggle/input'):\n",
    "    for filename in filenames:\n",
    "        print(os.path.join(dirname, filename))\n",
    "\n",
    "# You can write up to 5GB to the current directory (/kaggle/working/) that gets preserved as output when you create a version using \"Save & Run All\" \n",
    "# You can also write temporary files to /kaggle/temp/, but they won't be saved outside of the current session"
   ]
  },
  {
   "cell_type": "markdown",
   "metadata": {
    "papermill": {
     "duration": 0.032287,
     "end_time": "2021-02-02T06:08:47.552907",
     "exception": false,
     "start_time": "2021-02-02T06:08:47.520620",
     "status": "completed"
    },
    "tags": []
   },
   "source": [
    "# 1.Importing,Data Exploration and Vizualization "
   ]
  },
  {
   "cell_type": "code",
   "execution_count": 2,
   "metadata": {
    "_kg_hide-input": true,
    "execution": {
     "iopub.execute_input": "2021-02-02T06:08:47.624296Z",
     "iopub.status.busy": "2021-02-02T06:08:47.623433Z",
     "iopub.status.idle": "2021-02-02T06:08:48.941869Z",
     "shell.execute_reply": "2021-02-02T06:08:48.941211Z"
    },
    "papermill": {
     "duration": 1.357507,
     "end_time": "2021-02-02T06:08:48.942340",
     "exception": false,
     "start_time": "2021-02-02T06:08:47.584833",
     "status": "completed"
    },
    "tags": []
   },
   "outputs": [],
   "source": [
    "import matplotlib.pyplot as plt\n",
    "import seaborn as sns"
   ]
  },
  {
   "cell_type": "code",
   "execution_count": 3,
   "metadata": {
    "_cell_guid": "79c7e3d0-c299-4dcb-8224-4455121ee9b0",
    "_kg_hide-input": true,
    "_uuid": "d629ff2d2480ee46fbb7e2d37f6b5fab8052498a",
    "execution": {
     "iopub.execute_input": "2021-02-02T06:08:49.016974Z",
     "iopub.status.busy": "2021-02-02T06:08:49.016145Z",
     "iopub.status.idle": "2021-02-02T06:08:49.050841Z",
     "shell.execute_reply": "2021-02-02T06:08:49.050071Z"
    },
    "papermill": {
     "duration": 0.075084,
     "end_time": "2021-02-02T06:08:49.050976",
     "exception": false,
     "start_time": "2021-02-02T06:08:48.975892",
     "status": "completed"
    },
    "tags": []
   },
   "outputs": [
    {
     "data": {
      "text/html": [
       "<div>\n",
       "<style scoped>\n",
       "    .dataframe tbody tr th:only-of-type {\n",
       "        vertical-align: middle;\n",
       "    }\n",
       "\n",
       "    .dataframe tbody tr th {\n",
       "        vertical-align: top;\n",
       "    }\n",
       "\n",
       "    .dataframe thead th {\n",
       "        text-align: right;\n",
       "    }\n",
       "</style>\n",
       "<table border=\"1\" class=\"dataframe\">\n",
       "  <thead>\n",
       "    <tr style=\"text-align: right;\">\n",
       "      <th></th>\n",
       "      <th>gender</th>\n",
       "      <th>married</th>\n",
       "      <th>ch</th>\n",
       "      <th>income</th>\n",
       "      <th>loanamt</th>\n",
       "      <th>status</th>\n",
       "    </tr>\n",
       "  </thead>\n",
       "  <tbody>\n",
       "    <tr>\n",
       "      <th>0</th>\n",
       "      <td>Male</td>\n",
       "      <td>No</td>\n",
       "      <td>1.0</td>\n",
       "      <td>5849</td>\n",
       "      <td>NaN</td>\n",
       "      <td>Y</td>\n",
       "    </tr>\n",
       "    <tr>\n",
       "      <th>1</th>\n",
       "      <td>Male</td>\n",
       "      <td>Yes</td>\n",
       "      <td>1.0</td>\n",
       "      <td>4583</td>\n",
       "      <td>128.0</td>\n",
       "      <td>N</td>\n",
       "    </tr>\n",
       "    <tr>\n",
       "      <th>2</th>\n",
       "      <td>Male</td>\n",
       "      <td>Yes</td>\n",
       "      <td>1.0</td>\n",
       "      <td>3000</td>\n",
       "      <td>66.0</td>\n",
       "      <td>Y</td>\n",
       "    </tr>\n",
       "    <tr>\n",
       "      <th>3</th>\n",
       "      <td>Male</td>\n",
       "      <td>Yes</td>\n",
       "      <td>1.0</td>\n",
       "      <td>2583</td>\n",
       "      <td>120.0</td>\n",
       "      <td>Y</td>\n",
       "    </tr>\n",
       "    <tr>\n",
       "      <th>4</th>\n",
       "      <td>Male</td>\n",
       "      <td>No</td>\n",
       "      <td>1.0</td>\n",
       "      <td>6000</td>\n",
       "      <td>141.0</td>\n",
       "      <td>Y</td>\n",
       "    </tr>\n",
       "  </tbody>\n",
       "</table>\n",
       "</div>"
      ],
      "text/plain": [
       "  gender married   ch  income  loanamt status\n",
       "0   Male      No  1.0    5849      NaN      Y\n",
       "1   Male     Yes  1.0    4583    128.0      N\n",
       "2   Male     Yes  1.0    3000     66.0      Y\n",
       "3   Male     Yes  1.0    2583    120.0      Y\n",
       "4   Male      No  1.0    6000    141.0      Y"
      ]
     },
     "execution_count": 3,
     "metadata": {},
     "output_type": "execute_result"
    }
   ],
   "source": [
    "df = pd.read_csv('../input/loan-approval/01Exercise1.csv')\n",
    "df.head()"
   ]
  },
  {
   "cell_type": "markdown",
   "metadata": {
    "papermill": {
     "duration": 0.033082,
     "end_time": "2021-02-02T06:08:49.117955",
     "exception": false,
     "start_time": "2021-02-02T06:08:49.084873",
     "status": "completed"
    },
    "tags": []
   },
   "source": [
    "ch - Credit history \n",
    "\n",
    "Status - If the loan is approved or not."
   ]
  },
  {
   "cell_type": "markdown",
   "metadata": {
    "papermill": {
     "duration": 0.032813,
     "end_time": "2021-02-02T06:08:49.184425",
     "exception": false,
     "start_time": "2021-02-02T06:08:49.151612",
     "status": "completed"
    },
    "tags": []
   },
   "source": [
    "### Summary of Dataset"
   ]
  },
  {
   "cell_type": "code",
   "execution_count": 4,
   "metadata": {
    "_kg_hide-input": true,
    "execution": {
     "iopub.execute_input": "2021-02-02T06:08:49.261575Z",
     "iopub.status.busy": "2021-02-02T06:08:49.260322Z",
     "iopub.status.idle": "2021-02-02T06:08:49.278505Z",
     "shell.execute_reply": "2021-02-02T06:08:49.279129Z"
    },
    "papermill": {
     "duration": 0.061362,
     "end_time": "2021-02-02T06:08:49.279313",
     "exception": false,
     "start_time": "2021-02-02T06:08:49.217951",
     "status": "completed"
    },
    "tags": []
   },
   "outputs": [
    {
     "name": "stdout",
     "output_type": "stream",
     "text": [
      "Rows     : 614\n",
      "Columns  : 6\n",
      "\n",
      "Features :\n",
      "     : ['gender', 'married', 'ch', 'income', 'loanamt', 'status']\n",
      "\n",
      "Missing values    : 88\n",
      "\n",
      "Unique values :  \n",
      " gender       2\n",
      "married      2\n",
      "ch           2\n",
      "income     505\n",
      "loanamt    203\n",
      "status       2\n",
      "dtype: int64\n"
     ]
    }
   ],
   "source": [
    "print('Rows     :',df.shape[0])\n",
    "print('Columns  :',df.shape[1])\n",
    "print('\\nFeatures :\\n     :',df.columns.tolist())\n",
    "print('\\nMissing values    :',df.isnull().values.sum())\n",
    "print('\\nUnique values :  \\n',df.nunique())"
   ]
  },
  {
   "cell_type": "markdown",
   "metadata": {
    "papermill": {
     "duration": 0.035782,
     "end_time": "2021-02-02T06:08:49.348913",
     "exception": false,
     "start_time": "2021-02-02T06:08:49.313131",
     "status": "completed"
    },
    "tags": []
   },
   "source": [
    "### Displaying Missing Data "
   ]
  },
  {
   "cell_type": "code",
   "execution_count": 5,
   "metadata": {
    "_kg_hide-input": true,
    "execution": {
     "iopub.execute_input": "2021-02-02T06:08:49.426292Z",
     "iopub.status.busy": "2021-02-02T06:08:49.425497Z",
     "iopub.status.idle": "2021-02-02T06:08:50.214466Z",
     "shell.execute_reply": "2021-02-02T06:08:50.214978Z"
    },
    "papermill": {
     "duration": 0.831559,
     "end_time": "2021-02-02T06:08:50.215183",
     "exception": false,
     "start_time": "2021-02-02T06:08:49.383624",
     "status": "completed"
    },
    "tags": []
   },
   "outputs": [
    {
     "data": {
      "image/png": "[encoded data removed]",
      "text/plain": [
       "<Figure size 720x720 with 1 Axes>"
      ]
     },
     "metadata": {
      "needs_background": "light"
     },
     "output_type": "display_data"
    }
   ],
   "source": [
    "plt.figure(figsize=(10,10))\n",
    "sns.heatmap(df.isnull(),cbar=False,cmap='YlGnBu')\n",
    "plt.ioff()"
   ]
  },
  {
   "cell_type": "code",
   "execution_count": 6,
   "metadata": {
    "execution": {
     "iopub.execute_input": "2021-02-02T06:08:50.290548Z",
     "iopub.status.busy": "2021-02-02T06:08:50.289371Z",
     "iopub.status.idle": "2021-02-02T06:08:50.298902Z",
     "shell.execute_reply": "2021-02-02T06:08:50.299497Z"
    },
    "papermill": {
     "duration": 0.049505,
     "end_time": "2021-02-02T06:08:50.299682",
     "exception": false,
     "start_time": "2021-02-02T06:08:50.250177",
     "status": "completed"
    },
    "tags": []
   },
   "outputs": [
    {
     "data": {
      "text/plain": [
       "gender     13\n",
       "married     3\n",
       "ch         50\n",
       "income      0\n",
       "loanamt    22\n",
       "status      0\n",
       "dtype: int64"
      ]
     },
     "execution_count": 6,
     "metadata": {},
     "output_type": "execute_result"
    }
   ],
   "source": [
    "df.isnull().sum()"
   ]
  },
  {
   "cell_type": "code",
   "execution_count": 7,
   "metadata": {
    "execution": {
     "iopub.execute_input": "2021-02-02T06:08:50.375523Z",
     "iopub.status.busy": "2021-02-02T06:08:50.374474Z",
     "iopub.status.idle": "2021-02-02T06:08:50.382143Z",
     "shell.execute_reply": "2021-02-02T06:08:50.381520Z"
    },
    "papermill": {
     "duration": 0.046603,
     "end_time": "2021-02-02T06:08:50.382292",
     "exception": false,
     "start_time": "2021-02-02T06:08:50.335689",
     "status": "completed"
    },
    "tags": []
   },
   "outputs": [
    {
     "data": {
      "text/plain": [
       "(614, 6)"
      ]
     },
     "execution_count": 7,
     "metadata": {},
     "output_type": "execute_result"
    }
   ],
   "source": [
    "df.shape"
   ]
  },
  {
   "cell_type": "markdown",
   "metadata": {
    "papermill": {
     "duration": 0.035866,
     "end_time": "2021-02-02T06:08:50.458795",
     "exception": false,
     "start_time": "2021-02-02T06:08:50.422929",
     "status": "completed"
    },
    "tags": []
   },
   "source": [
    "We can see that there missing values in gender,married,ch(credit history),loan amount colums.We can update the gender column with mode value,credit history with mode and loan amount by mean values.But for our convience we can delete missing rows."
   ]
  },
  {
   "cell_type": "markdown",
   "metadata": {
    "papermill": {
     "duration": 0.035796,
     "end_time": "2021-02-02T06:08:50.530976",
     "exception": false,
     "start_time": "2021-02-02T06:08:50.495180",
     "status": "completed"
    },
    "tags": []
   },
   "source": [
    "### Dropping the missing values"
   ]
  },
  {
   "cell_type": "code",
   "execution_count": 8,
   "metadata": {
    "_kg_hide-input": true,
    "execution": {
     "iopub.execute_input": "2021-02-02T06:08:50.618289Z",
     "iopub.status.busy": "2021-02-02T06:08:50.613354Z",
     "iopub.status.idle": "2021-02-02T06:08:50.623984Z",
     "shell.execute_reply": "2021-02-02T06:08:50.623079Z"
    },
    "papermill": {
     "duration": 0.05731,
     "end_time": "2021-02-02T06:08:50.624140",
     "exception": false,
     "start_time": "2021-02-02T06:08:50.566830",
     "status": "completed"
    },
    "tags": []
   },
   "outputs": [
    {
     "data": {
      "text/html": [
       "<div>\n",
       "<style scoped>\n",
       "    .dataframe tbody tr th:only-of-type {\n",
       "        vertical-align: middle;\n",
       "    }\n",
       "\n",
       "    .dataframe tbody tr th {\n",
       "        vertical-align: top;\n",
       "    }\n",
       "\n",
       "    .dataframe thead th {\n",
       "        text-align: right;\n",
       "    }\n",
       "</style>\n",
       "<table border=\"1\" class=\"dataframe\">\n",
       "  <thead>\n",
       "    <tr style=\"text-align: right;\">\n",
       "      <th></th>\n",
       "      <th>gender</th>\n",
       "      <th>married</th>\n",
       "      <th>ch</th>\n",
       "      <th>income</th>\n",
       "      <th>loanamt</th>\n",
       "      <th>status</th>\n",
       "    </tr>\n",
       "  </thead>\n",
       "  <tbody>\n",
       "    <tr>\n",
       "      <th>0</th>\n",
       "      <td>Male</td>\n",
       "      <td>No</td>\n",
       "      <td>1.0</td>\n",
       "      <td>5849</td>\n",
       "      <td>NaN</td>\n",
       "      <td>Y</td>\n",
       "    </tr>\n",
       "    <tr>\n",
       "      <th>1</th>\n",
       "      <td>Male</td>\n",
       "      <td>Yes</td>\n",
       "      <td>1.0</td>\n",
       "      <td>4583</td>\n",
       "      <td>128.0</td>\n",
       "      <td>N</td>\n",
       "    </tr>\n",
       "    <tr>\n",
       "      <th>2</th>\n",
       "      <td>Male</td>\n",
       "      <td>Yes</td>\n",
       "      <td>1.0</td>\n",
       "      <td>3000</td>\n",
       "      <td>66.0</td>\n",
       "      <td>Y</td>\n",
       "    </tr>\n",
       "    <tr>\n",
       "      <th>3</th>\n",
       "      <td>Male</td>\n",
       "      <td>Yes</td>\n",
       "      <td>1.0</td>\n",
       "      <td>2583</td>\n",
       "      <td>120.0</td>\n",
       "      <td>Y</td>\n",
       "    </tr>\n",
       "    <tr>\n",
       "      <th>4</th>\n",
       "      <td>Male</td>\n",
       "      <td>No</td>\n",
       "      <td>1.0</td>\n",
       "      <td>6000</td>\n",
       "      <td>141.0</td>\n",
       "      <td>Y</td>\n",
       "    </tr>\n",
       "  </tbody>\n",
       "</table>\n",
       "</div>"
      ],
      "text/plain": [
       "  gender married   ch  income  loanamt status\n",
       "0   Male      No  1.0    5849      NaN      Y\n",
       "1   Male     Yes  1.0    4583    128.0      N\n",
       "2   Male     Yes  1.0    3000     66.0      Y\n",
       "3   Male     Yes  1.0    2583    120.0      Y\n",
       "4   Male      No  1.0    6000    141.0      Y"
      ]
     },
     "execution_count": 8,
     "metadata": {},
     "output_type": "execute_result"
    }
   ],
   "source": [
    "df_prep =df.copy() \n",
    "df_prep.head()"
   ]
  },
  {
   "cell_type": "markdown",
   "metadata": {
    "papermill": {
     "duration": 0.037186,
     "end_time": "2021-02-02T06:08:50.697898",
     "exception": false,
     "start_time": "2021-02-02T06:08:50.660712",
     "status": "completed"
    },
    "tags": []
   },
   "source": [
    "### Dropping the missing value "
   ]
  },
  {
   "cell_type": "code",
   "execution_count": 9,
   "metadata": {
    "_kg_hide-input": true,
    "execution": {
     "iopub.execute_input": "2021-02-02T06:08:50.781447Z",
     "iopub.status.busy": "2021-02-02T06:08:50.780449Z",
     "iopub.status.idle": "2021-02-02T06:08:50.812897Z",
     "shell.execute_reply": "2021-02-02T06:08:50.812273Z"
    },
    "papermill": {
     "duration": 0.077562,
     "end_time": "2021-02-02T06:08:50.813046",
     "exception": false,
     "start_time": "2021-02-02T06:08:50.735484",
     "status": "completed"
    },
    "tags": []
   },
   "outputs": [
    {
     "data": {
      "text/plain": [
       "(529, 6)"
      ]
     },
     "execution_count": 9,
     "metadata": {},
     "output_type": "execute_result"
    }
   ],
   "source": [
    "df_prep = df_prep.dropna()\n",
    "df_prep.shape"
   ]
  },
  {
   "cell_type": "markdown",
   "metadata": {
    "papermill": {
     "duration": 0.037913,
     "end_time": "2021-02-02T06:08:50.888265",
     "exception": false,
     "start_time": "2021-02-02T06:08:50.850352",
     "status": "completed"
    },
    "tags": []
   },
   "source": [
    "So the number of rows of data has reduced from 614 to 529 numbers."
   ]
  },
  {
   "cell_type": "markdown",
   "metadata": {
    "papermill": {
     "duration": 0.037846,
     "end_time": "2021-02-02T06:08:50.963873",
     "exception": false,
     "start_time": "2021-02-02T06:08:50.926027",
     "status": "completed"
    },
    "tags": []
   },
   "source": [
    "### Dropping Unwanted Columns "
   ]
  },
  {
   "cell_type": "code",
   "execution_count": 10,
   "metadata": {
    "_kg_hide-input": true,
    "execution": {
     "iopub.execute_input": "2021-02-02T06:08:51.048450Z",
     "iopub.status.busy": "2021-02-02T06:08:51.047673Z",
     "iopub.status.idle": "2021-02-02T06:08:51.051817Z",
     "shell.execute_reply": "2021-02-02T06:08:51.051096Z"
    },
    "papermill": {
     "duration": 0.049873,
     "end_time": "2021-02-02T06:08:51.051965",
     "exception": false,
     "start_time": "2021-02-02T06:08:51.002092",
     "status": "completed"
    },
    "tags": []
   },
   "outputs": [],
   "source": [
    "df_prep = df_prep.drop(['gender'],axis=1)"
   ]
  },
  {
   "cell_type": "markdown",
   "metadata": {
    "papermill": {
     "duration": 0.038623,
     "end_time": "2021-02-02T06:08:51.128175",
     "exception": false,
     "start_time": "2021-02-02T06:08:51.089552",
     "status": "completed"
    },
    "tags": []
   },
   "source": [
    "### Creating Dummy Variables\n",
    "\n",
    "As there are only two categories in the data status we need not convert it from object to category type.Else we need to convert from Object to category data type."
   ]
  },
  {
   "cell_type": "code",
   "execution_count": 11,
   "metadata": {
    "_kg_hide-input": true,
    "execution": {
     "iopub.execute_input": "2021-02-02T06:08:51.214169Z",
     "iopub.status.busy": "2021-02-02T06:08:51.213393Z",
     "iopub.status.idle": "2021-02-02T06:08:51.230069Z",
     "shell.execute_reply": "2021-02-02T06:08:51.229428Z"
    },
    "papermill": {
     "duration": 0.064884,
     "end_time": "2021-02-02T06:08:51.230227",
     "exception": false,
     "start_time": "2021-02-02T06:08:51.165343",
     "status": "completed"
    },
    "tags": []
   },
   "outputs": [
    {
     "data": {
      "text/html": [
       "<div>\n",
       "<style scoped>\n",
       "    .dataframe tbody tr th:only-of-type {\n",
       "        vertical-align: middle;\n",
       "    }\n",
       "\n",
       "    .dataframe tbody tr th {\n",
       "        vertical-align: top;\n",
       "    }\n",
       "\n",
       "    .dataframe thead th {\n",
       "        text-align: right;\n",
       "    }\n",
       "</style>\n",
       "<table border=\"1\" class=\"dataframe\">\n",
       "  <thead>\n",
       "    <tr style=\"text-align: right;\">\n",
       "      <th></th>\n",
       "      <th>ch</th>\n",
       "      <th>income</th>\n",
       "      <th>loanamt</th>\n",
       "      <th>married_Yes</th>\n",
       "      <th>status_Y</th>\n",
       "    </tr>\n",
       "  </thead>\n",
       "  <tbody>\n",
       "    <tr>\n",
       "      <th>1</th>\n",
       "      <td>1.0</td>\n",
       "      <td>4583</td>\n",
       "      <td>128.0</td>\n",
       "      <td>1</td>\n",
       "      <td>0</td>\n",
       "    </tr>\n",
       "    <tr>\n",
       "      <th>2</th>\n",
       "      <td>1.0</td>\n",
       "      <td>3000</td>\n",
       "      <td>66.0</td>\n",
       "      <td>1</td>\n",
       "      <td>1</td>\n",
       "    </tr>\n",
       "    <tr>\n",
       "      <th>3</th>\n",
       "      <td>1.0</td>\n",
       "      <td>2583</td>\n",
       "      <td>120.0</td>\n",
       "      <td>1</td>\n",
       "      <td>1</td>\n",
       "    </tr>\n",
       "    <tr>\n",
       "      <th>4</th>\n",
       "      <td>1.0</td>\n",
       "      <td>6000</td>\n",
       "      <td>141.0</td>\n",
       "      <td>0</td>\n",
       "      <td>1</td>\n",
       "    </tr>\n",
       "    <tr>\n",
       "      <th>5</th>\n",
       "      <td>1.0</td>\n",
       "      <td>5417</td>\n",
       "      <td>267.0</td>\n",
       "      <td>1</td>\n",
       "      <td>1</td>\n",
       "    </tr>\n",
       "  </tbody>\n",
       "</table>\n",
       "</div>"
      ],
      "text/plain": [
       "    ch  income  loanamt  married_Yes  status_Y\n",
       "1  1.0    4583    128.0            1         0\n",
       "2  1.0    3000     66.0            1         1\n",
       "3  1.0    2583    120.0            1         1\n",
       "4  1.0    6000    141.0            0         1\n",
       "5  1.0    5417    267.0            1         1"
      ]
     },
     "execution_count": 11,
     "metadata": {},
     "output_type": "execute_result"
    }
   ],
   "source": [
    "df_prep = pd.get_dummies(df_prep,drop_first=True)\n",
    "df_prep.head()"
   ]
  },
  {
   "cell_type": "markdown",
   "metadata": {
    "papermill": {
     "duration": 0.039146,
     "end_time": "2021-02-02T06:08:51.308287",
     "exception": false,
     "start_time": "2021-02-02T06:08:51.269141",
     "status": "completed"
    },
    "tags": []
   },
   "source": [
    "### Normalising Data"
   ]
  },
  {
   "cell_type": "code",
   "execution_count": 12,
   "metadata": {
    "_kg_hide-input": true,
    "execution": {
     "iopub.execute_input": "2021-02-02T06:08:51.392518Z",
     "iopub.status.busy": "2021-02-02T06:08:51.391765Z",
     "iopub.status.idle": "2021-02-02T06:08:51.498654Z",
     "shell.execute_reply": "2021-02-02T06:08:51.499191Z"
    },
    "papermill": {
     "duration": 0.153092,
     "end_time": "2021-02-02T06:08:51.499391",
     "exception": false,
     "start_time": "2021-02-02T06:08:51.346299",
     "status": "completed"
    },
    "tags": []
   },
   "outputs": [],
   "source": [
    "from sklearn.preprocessing import StandardScaler \n",
    "sc_X=StandardScaler()\n",
    "df_prep['income'] = sc_X.fit_transform(df_prep[['income']])\n",
    "df_prep['loanamt'] = sc_X.fit_transform(df_prep[['loanamt']])"
   ]
  },
  {
   "cell_type": "markdown",
   "metadata": {
    "papermill": {
     "duration": 0.039042,
     "end_time": "2021-02-02T06:08:51.577365",
     "exception": false,
     "start_time": "2021-02-02T06:08:51.538323",
     "status": "completed"
    },
    "tags": []
   },
   "source": [
    "### Creating Matrix of Features"
   ]
  },
  {
   "cell_type": "code",
   "execution_count": 13,
   "metadata": {
    "execution": {
     "iopub.execute_input": "2021-02-02T06:08:51.662487Z",
     "iopub.status.busy": "2021-02-02T06:08:51.661745Z",
     "iopub.status.idle": "2021-02-02T06:08:51.666673Z",
     "shell.execute_reply": "2021-02-02T06:08:51.665851Z"
    },
    "papermill": {
     "duration": 0.051406,
     "end_time": "2021-02-02T06:08:51.666818",
     "exception": false,
     "start_time": "2021-02-02T06:08:51.615412",
     "status": "completed"
    },
    "tags": []
   },
   "outputs": [
    {
     "data": {
      "text/plain": [
       "Index(['ch', 'income', 'loanamt', 'married_Yes', 'status_Y'], dtype='object')"
      ]
     },
     "execution_count": 13,
     "metadata": {},
     "output_type": "execute_result"
    }
   ],
   "source": [
    "df_prep.columns"
   ]
  },
  {
   "cell_type": "code",
   "execution_count": 14,
   "metadata": {
    "execution": {
     "iopub.execute_input": "2021-02-02T06:08:51.753244Z",
     "iopub.status.busy": "2021-02-02T06:08:51.752096Z",
     "iopub.status.idle": "2021-02-02T06:08:51.761289Z",
     "shell.execute_reply": "2021-02-02T06:08:51.762027Z"
    },
    "papermill": {
     "duration": 0.055692,
     "end_time": "2021-02-02T06:08:51.762226",
     "exception": false,
     "start_time": "2021-02-02T06:08:51.706534",
     "status": "completed"
    },
    "tags": []
   },
   "outputs": [
    {
     "data": {
      "text/plain": [
       "1    365\n",
       "0    164\n",
       "Name: status_Y, dtype: int64"
      ]
     },
     "execution_count": 14,
     "metadata": {},
     "output_type": "execute_result"
    }
   ],
   "source": [
    "df_prep['status_Y'].value_counts()"
   ]
  },
  {
   "cell_type": "code",
   "execution_count": 15,
   "metadata": {
    "_kg_hide-input": true,
    "execution": {
     "iopub.execute_input": "2021-02-02T06:08:51.850333Z",
     "iopub.status.busy": "2021-02-02T06:08:51.848574Z",
     "iopub.status.idle": "2021-02-02T06:08:51.856318Z",
     "shell.execute_reply": "2021-02-02T06:08:51.856854Z"
    },
    "papermill": {
     "duration": 0.053066,
     "end_time": "2021-02-02T06:08:51.857062",
     "exception": false,
     "start_time": "2021-02-02T06:08:51.803996",
     "status": "completed"
    },
    "tags": []
   },
   "outputs": [],
   "source": [
    "X = df_prep.drop(labels='status_Y',axis=1)\n",
    "y = df_prep['status_Y']"
   ]
  },
  {
   "cell_type": "markdown",
   "metadata": {
    "papermill": {
     "duration": 0.038411,
     "end_time": "2021-02-02T06:08:51.934563",
     "exception": false,
     "start_time": "2021-02-02T06:08:51.896152",
     "status": "completed"
    },
    "tags": []
   },
   "source": [
    "### Train Test Split"
   ]
  },
  {
   "cell_type": "code",
   "execution_count": 16,
   "metadata": {
    "_kg_hide-input": true,
    "execution": {
     "iopub.execute_input": "2021-02-02T06:08:52.022231Z",
     "iopub.status.busy": "2021-02-02T06:08:52.021046Z",
     "iopub.status.idle": "2021-02-02T06:08:52.114136Z",
     "shell.execute_reply": "2021-02-02T06:08:52.114727Z"
    },
    "papermill": {
     "duration": 0.138751,
     "end_time": "2021-02-02T06:08:52.114935",
     "exception": false,
     "start_time": "2021-02-02T06:08:51.976184",
     "status": "completed"
    },
    "tags": []
   },
   "outputs": [],
   "source": [
    "from sklearn.model_selection import train_test_split\n",
    "X_train, X_test, y_train, y_test = train_test_split(X,y,test_size=0.3,random_state= 1234,stratify=y)"
   ]
  },
  {
   "cell_type": "markdown",
   "metadata": {
    "papermill": {
     "duration": 0.038965,
     "end_time": "2021-02-02T06:08:52.193816",
     "exception": false,
     "start_time": "2021-02-02T06:08:52.154851",
     "status": "completed"
    },
    "tags": []
   },
   "source": [
    "# 2.Logistic Regression"
   ]
  },
  {
   "cell_type": "code",
   "execution_count": 17,
   "metadata": {
    "_kg_hide-input": true,
    "execution": {
     "iopub.execute_input": "2021-02-02T06:08:52.276695Z",
     "iopub.status.busy": "2021-02-02T06:08:52.275978Z",
     "iopub.status.idle": "2021-02-02T06:08:52.415156Z",
     "shell.execute_reply": "2021-02-02T06:08:52.415938Z"
    },
    "papermill": {
     "duration": 0.182856,
     "end_time": "2021-02-02T06:08:52.416155",
     "exception": false,
     "start_time": "2021-02-02T06:08:52.233299",
     "status": "completed"
    },
    "tags": []
   },
   "outputs": [],
   "source": [
    "from sklearn.linear_model import LogisticRegression\n",
    "lr =LogisticRegression(random_state=0)\n",
    "lr.fit(X_train,y_train)\n",
    "y_pred=lr.predict(X_test)\n",
    "#y_pred"
   ]
  },
  {
   "cell_type": "markdown",
   "metadata": {
    "papermill": {
     "duration": 0.040412,
     "end_time": "2021-02-02T06:08:52.499872",
     "exception": false,
     "start_time": "2021-02-02T06:08:52.459460",
     "status": "completed"
    },
    "tags": []
   },
   "source": [
    "# 3.Model Evaluation"
   ]
  },
  {
   "cell_type": "code",
   "execution_count": 18,
   "metadata": {
    "_kg_hide-input": true,
    "execution": {
     "iopub.execute_input": "2021-02-02T06:08:52.583548Z",
     "iopub.status.busy": "2021-02-02T06:08:52.582472Z",
     "iopub.status.idle": "2021-02-02T06:08:52.772429Z",
     "shell.execute_reply": "2021-02-02T06:08:52.773026Z"
    },
    "papermill": {
     "duration": 0.233788,
     "end_time": "2021-02-02T06:08:52.773237",
     "exception": false,
     "start_time": "2021-02-02T06:08:52.539449",
     "status": "completed"
    },
    "tags": []
   },
   "outputs": [
    {
     "data": {
      "image/png": "[encoded data removed]",
      "text/plain": [
       "<Figure size 360x360 with 2 Axes>"
      ]
     },
     "metadata": {
      "needs_background": "light"
     },
     "output_type": "display_data"
    }
   ],
   "source": [
    "\n",
    "from sklearn.metrics import confusion_matrix,classification_report,accuracy_score\n",
    "cm=confusion_matrix(y_test,y_pred)\n",
    "import seaborn as sns\n",
    "import matplotlib.pyplot as plt\n",
    "f, ax = plt.subplots(figsize =(5,5))\n",
    "sns.heatmap(cm,annot = True,linewidths=0.5,linecolor=\"red\",fmt = \".0f\",ax=ax)\n",
    "pass"
   ]
  },
  {
   "cell_type": "markdown",
   "metadata": {
    "papermill": {
     "duration": 0.039783,
     "end_time": "2021-02-02T06:08:52.855630",
     "exception": false,
     "start_time": "2021-02-02T06:08:52.815847",
     "status": "completed"
    },
    "tags": []
   },
   "source": [
    "### Accuracy Score "
   ]
  },
  {
   "cell_type": "code",
   "execution_count": 19,
   "metadata": {
    "_kg_hide-input": true,
    "execution": {
     "iopub.execute_input": "2021-02-02T06:08:52.945580Z",
     "iopub.status.busy": "2021-02-02T06:08:52.944866Z",
     "iopub.status.idle": "2021-02-02T06:08:52.950155Z",
     "shell.execute_reply": "2021-02-02T06:08:52.949417Z"
    },
    "papermill": {
     "duration": 0.054729,
     "end_time": "2021-02-02T06:08:52.950295",
     "exception": false,
     "start_time": "2021-02-02T06:08:52.895566",
     "status": "completed"
    },
    "tags": []
   },
   "outputs": [
    {
     "name": "stdout",
     "output_type": "stream",
     "text": [
      "Accuracy score of the model is: 0.8616352201257862\n"
     ]
    }
   ],
   "source": [
    "score = lr.score(X_test,y_test)\n",
    "print(\"Accuracy score of the model is:\",score)"
   ]
  },
  {
   "cell_type": "markdown",
   "metadata": {
    "papermill": {
     "duration": 0.041602,
     "end_time": "2021-02-02T06:08:53.032642",
     "exception": false,
     "start_time": "2021-02-02T06:08:52.991040",
     "status": "completed"
    },
    "tags": []
   },
   "source": [
    "### Classification Report "
   ]
  },
  {
   "cell_type": "code",
   "execution_count": 20,
   "metadata": {
    "_kg_hide-input": true,
    "execution": {
     "iopub.execute_input": "2021-02-02T06:08:53.123439Z",
     "iopub.status.busy": "2021-02-02T06:08:53.122194Z",
     "iopub.status.idle": "2021-02-02T06:08:53.132939Z",
     "shell.execute_reply": "2021-02-02T06:08:53.133639Z"
    },
    "papermill": {
     "duration": 0.059933,
     "end_time": "2021-02-02T06:08:53.133855",
     "exception": false,
     "start_time": "2021-02-02T06:08:53.073922",
     "status": "completed"
    },
    "tags": []
   },
   "outputs": [
    {
     "name": "stdout",
     "output_type": "stream",
     "text": [
      "Classification Report\n",
      "              precision    recall  f1-score   support\n",
      "\n",
      "           0       0.94      0.59      0.72        49\n",
      "           1       0.84      0.98      0.91       110\n",
      "\n",
      "    accuracy                           0.86       159\n",
      "   macro avg       0.89      0.79      0.82       159\n",
      "weighted avg       0.87      0.86      0.85       159\n",
      "\n"
     ]
    }
   ],
   "source": [
    "cr =classification_report(y_test,y_pred)\n",
    "print(\"Classification Report\")\n",
    "print(cr)"
   ]
  },
  {
   "cell_type": "markdown",
   "metadata": {
    "papermill": {
     "duration": 0.042598,
     "end_time": "2021-02-02T06:08:53.218217",
     "exception": false,
     "start_time": "2021-02-02T06:08:53.175619",
     "status": "completed"
    },
    "tags": []
   },
   "source": [
    "From the confusion matrix we can see that we have 20 false positive predictions.This means we would wrongly approve loans in 20 of the cases.This is very bad for the business as these lons wont be returned by the customers.So in the loan approval problem our aim should be to reduce the false positive cases.In our logistic regression the assumption is the threshold probability is 0.5. We can change the value of the threshold in our model and try to twik the model as per our needs.To reduce false positives we have to increase the threshold probability above 0.5"
   ]
  },
  {
   "cell_type": "markdown",
   "metadata": {
    "papermill": {
     "duration": 0.040635,
     "end_time": "2021-02-02T06:08:53.300194",
     "exception": false,
     "start_time": "2021-02-02T06:08:53.259559",
     "status": "completed"
    },
    "tags": []
   },
   "source": [
    "# 4.Adjusting the Probabilities"
   ]
  },
  {
   "cell_type": "code",
   "execution_count": 21,
   "metadata": {
    "_kg_hide-input": true,
    "execution": {
     "iopub.execute_input": "2021-02-02T06:08:53.392046Z",
     "iopub.status.busy": "2021-02-02T06:08:53.391096Z",
     "iopub.status.idle": "2021-02-02T06:08:53.395018Z",
     "shell.execute_reply": "2021-02-02T06:08:53.394420Z"
    },
    "papermill": {
     "duration": 0.053632,
     "end_time": "2021-02-02T06:08:53.395149",
     "exception": false,
     "start_time": "2021-02-02T06:08:53.341517",
     "status": "completed"
    },
    "tags": []
   },
   "outputs": [],
   "source": [
    "y_prob = lr.predict_proba(X_test)[:,1]\n",
    "#y_prob"
   ]
  },
  {
   "cell_type": "markdown",
   "metadata": {
    "papermill": {
     "duration": 0.041747,
     "end_time": "2021-02-02T06:08:53.478364",
     "exception": false,
     "start_time": "2021-02-02T06:08:53.436617",
     "status": "completed"
    },
    "tags": []
   },
   "source": [
    "In y_prob we have the probabilities of the class 1 ( Loan approved)."
   ]
  },
  {
   "cell_type": "code",
   "execution_count": 22,
   "metadata": {
    "_kg_hide-input": true,
    "execution": {
     "iopub.execute_input": "2021-02-02T06:08:53.568889Z",
     "iopub.status.busy": "2021-02-02T06:08:53.568022Z",
     "iopub.status.idle": "2021-02-02T06:08:53.571927Z",
     "shell.execute_reply": "2021-02-02T06:08:53.571382Z"
    },
    "papermill": {
     "duration": 0.052358,
     "end_time": "2021-02-02T06:08:53.572059",
     "exception": false,
     "start_time": "2021-02-02T06:08:53.519701",
     "status": "completed"
    },
    "tags": []
   },
   "outputs": [],
   "source": [
    "# Classification based on the probability values\n",
    "\n",
    "y_new_pred = []\n",
    "threshold = 0.8 \n",
    "\n",
    "for i in range(0,len(y_prob)):\n",
    "    if y_prob[i]> threshold:\n",
    "        y_new_pred.append(1)\n",
    "    else:\n",
    "        y_new_pred.append(0)"
   ]
  },
  {
   "cell_type": "markdown",
   "metadata": {
    "papermill": {
     "duration": 0.041682,
     "end_time": "2021-02-02T06:08:53.655375",
     "exception": false,
     "start_time": "2021-02-02T06:08:53.613693",
     "status": "completed"
    },
    "tags": []
   },
   "source": [
    "### Evaluating the model with threshold 0.8"
   ]
  },
  {
   "cell_type": "code",
   "execution_count": 23,
   "metadata": {
    "_kg_hide-input": true,
    "execution": {
     "iopub.execute_input": "2021-02-02T06:08:53.878210Z",
     "iopub.status.busy": "2021-02-02T06:08:53.872799Z",
     "iopub.status.idle": "2021-02-02T06:08:54.046677Z",
     "shell.execute_reply": "2021-02-02T06:08:54.047215Z"
    },
    "papermill": {
     "duration": 0.349378,
     "end_time": "2021-02-02T06:08:54.047380",
     "exception": false,
     "start_time": "2021-02-02T06:08:53.698002",
     "status": "completed"
    },
    "tags": []
   },
   "outputs": [
    {
     "data": {
      "image/png": "[encoded data removed]",
      "text/plain": [
       "<Figure size 360x360 with 2 Axes>"
      ]
     },
     "metadata": {
      "needs_background": "light"
     },
     "output_type": "display_data"
    }
   ],
   "source": [
    "from sklearn.metrics import confusion_matrix,classification_report,accuracy_score\n",
    "cm1=confusion_matrix(y_test,y_new_pred)\n",
    "import seaborn as sns\n",
    "import matplotlib.pyplot as plt\n",
    "f, ax = plt.subplots(figsize =(5,5))\n",
    "sns.heatmap(cm1,annot = True,linewidths=0.5,linecolor=\"red\",fmt = \".0f\",ax=ax)\n",
    "pass"
   ]
  },
  {
   "cell_type": "code",
   "execution_count": 24,
   "metadata": {
    "_kg_hide-input": true,
    "execution": {
     "iopub.execute_input": "2021-02-02T06:08:54.143734Z",
     "iopub.status.busy": "2021-02-02T06:08:54.142954Z",
     "iopub.status.idle": "2021-02-02T06:08:54.146243Z",
     "shell.execute_reply": "2021-02-02T06:08:54.147047Z"
    },
    "papermill": {
     "duration": 0.057493,
     "end_time": "2021-02-02T06:08:54.147279",
     "exception": false,
     "start_time": "2021-02-02T06:08:54.089786",
     "status": "completed"
    },
    "tags": []
   },
   "outputs": [
    {
     "name": "stdout",
     "output_type": "stream",
     "text": [
      "Accuracy score of the model is: 0.5283018867924528\n"
     ]
    }
   ],
   "source": [
    "score = lr.score(X_test,y_new_pred)\n",
    "print(\"Accuracy score of the model is:\",score)"
   ]
  },
  {
   "cell_type": "code",
   "execution_count": 25,
   "metadata": {
    "_kg_hide-input": true,
    "execution": {
     "iopub.execute_input": "2021-02-02T06:08:54.239140Z",
     "iopub.status.busy": "2021-02-02T06:08:54.238321Z",
     "iopub.status.idle": "2021-02-02T06:08:54.250514Z",
     "shell.execute_reply": "2021-02-02T06:08:54.251292Z"
    },
    "papermill": {
     "duration": 0.060299,
     "end_time": "2021-02-02T06:08:54.252034",
     "exception": false,
     "start_time": "2021-02-02T06:08:54.191735",
     "status": "completed"
    },
    "tags": []
   },
   "outputs": [
    {
     "name": "stdout",
     "output_type": "stream",
     "text": [
      "Classification Report\n",
      "              precision    recall  f1-score   support\n",
      "\n",
      "           0       0.43      0.94      0.59        49\n",
      "           1       0.94      0.45      0.61       110\n",
      "\n",
      "    accuracy                           0.60       159\n",
      "   macro avg       0.69      0.70      0.60       159\n",
      "weighted avg       0.79      0.60      0.61       159\n",
      "\n"
     ]
    }
   ],
   "source": [
    "cr =classification_report(y_test,y_new_pred)\n",
    "print(\"Classification Report\")\n",
    "print(cr)"
   ]
  },
  {
   "cell_type": "markdown",
   "metadata": {
    "papermill": {
     "duration": 0.04315,
     "end_time": "2021-02-02T06:08:54.339226",
     "exception": false,
     "start_time": "2021-02-02T06:08:54.296076",
     "status": "completed"
    },
    "tags": []
   },
   "source": [
    "Now we can see that by increasing the threshold from 0.5 to 0.8 we have reduced the number of false positive values.Our precision value for class 1 (loan approved) has increased from  0.84 to 0.94.This means our model has possibility of approving 3 bad loans comapared to 20 earlier.\n",
    "\n",
    "But this increase in the threshold has increased number of false negative( class 0) also reducing the true positive prediction.\n",
    "\n",
    "Overall accuracy of the model has come down from 0.86 to 0.52. This still could be acceptable to the business or bank as their main agenda is to increase automatiom but simultaneously it needs to be ensured that bad loan approvals ( False positive) numbers are also very low."
   ]
  },
  {
   "cell_type": "markdown",
   "metadata": {
    "papermill": {
     "duration": 0.042936,
     "end_time": "2021-02-02T06:08:54.426010",
     "exception": false,
     "start_time": "2021-02-02T06:08:54.383074",
     "status": "completed"
    },
    "tags": []
   },
   "source": [
    "# 5.AUC-ROC Curve"
   ]
  },
  {
   "cell_type": "code",
   "execution_count": 26,
   "metadata": {
    "_kg_hide-input": true,
    "execution": {
     "iopub.execute_input": "2021-02-02T06:08:54.523855Z",
     "iopub.status.busy": "2021-02-02T06:08:54.522668Z",
     "iopub.status.idle": "2021-02-02T06:08:54.527911Z",
     "shell.execute_reply": "2021-02-02T06:08:54.527239Z"
    },
    "papermill": {
     "duration": 0.058171,
     "end_time": "2021-02-02T06:08:54.528055",
     "exception": false,
     "start_time": "2021-02-02T06:08:54.469884",
     "status": "completed"
    },
    "tags": []
   },
   "outputs": [],
   "source": [
    "from sklearn.metrics import roc_curve,roc_auc_score\n",
    "\n",
    "fpr,tpr,threshold = roc_curve(y_test,y_prob)\n",
    "\n",
    "auc = roc_auc_score(y_test,y_prob)     "
   ]
  },
  {
   "cell_type": "markdown",
   "metadata": {
    "papermill": {
     "duration": 0.043113,
     "end_time": "2021-02-02T06:08:54.614417",
     "exception": false,
     "start_time": "2021-02-02T06:08:54.571304",
     "status": "completed"
    },
    "tags": []
   },
   "source": [
    "### Plotting ROC curve"
   ]
  },
  {
   "cell_type": "code",
   "execution_count": 27,
   "metadata": {
    "_kg_hide-input": true,
    "execution": {
     "iopub.execute_input": "2021-02-02T06:08:54.714697Z",
     "iopub.status.busy": "2021-02-02T06:08:54.708685Z",
     "iopub.status.idle": "2021-02-02T06:08:54.880489Z",
     "shell.execute_reply": "2021-02-02T06:08:54.879777Z"
    },
    "papermill": {
     "duration": 0.22202,
     "end_time": "2021-02-02T06:08:54.880638",
     "exception": false,
     "start_time": "2021-02-02T06:08:54.658618",
     "status": "completed"
    },
    "tags": []
   },
   "outputs": [
    {
     "data": {
      "image/png": "[encoded data removed]",
      "text/plain": [
       "<Figure size 432x288 with 1 Axes>"
      ]
     },
     "metadata": {
      "needs_background": "light"
     },
     "output_type": "display_data"
    }
   ],
   "source": [
    "import matplotlib.pyplot as plt \n",
    "plt.plot(fpr,tpr,linewidth=4)\n",
    "plt.xlabel(\"False Positive Rate\")\n",
    "plt.ylabel(\"True Positive Rate\")\n",
    "plt.title(\"ROC Curve for Loan Prediction\")\n",
    "plt.grid()"
   ]
  },
  {
   "cell_type": "markdown",
   "metadata": {
    "papermill": {
     "duration": 0.04399,
     "end_time": "2021-02-02T06:08:54.968865",
     "exception": false,
     "start_time": "2021-02-02T06:08:54.924875",
     "status": "completed"
    },
    "tags": []
   },
   "source": [
    "So from the Graph we can see that in order achieve a True positive rate of 1 we have to accept that the false postive rate of 0.4.This means if we want while we try to increase the True positive rate to 1 we will be predicting 40 % more False Positive.We can explain this with the results of confusion matrix from threshold 0.5."
   ]
  },
  {
   "cell_type": "code",
   "execution_count": 28,
   "metadata": {
    "_kg_hide-input": true,
    "execution": {
     "iopub.execute_input": "2021-02-02T06:08:55.065064Z",
     "iopub.status.busy": "2021-02-02T06:08:55.063960Z",
     "iopub.status.idle": "2021-02-02T06:08:55.068884Z",
     "shell.execute_reply": "2021-02-02T06:08:55.069376Z"
    },
    "papermill": {
     "duration": 0.056106,
     "end_time": "2021-02-02T06:08:55.069559",
     "exception": false,
     "start_time": "2021-02-02T06:08:55.013453",
     "status": "completed"
    },
    "tags": []
   },
   "outputs": [
    {
     "data": {
      "text/plain": [
       "array([[ 29,  20],\n",
       "       [  2, 108]])"
      ]
     },
     "execution_count": 28,
     "metadata": {},
     "output_type": "execute_result"
    }
   ],
   "source": [
    "cm"
   ]
  },
  {
   "cell_type": "markdown",
   "metadata": {
    "papermill": {
     "duration": 0.04479,
     "end_time": "2021-02-02T06:08:55.159073",
     "exception": false,
     "start_time": "2021-02-02T06:08:55.114283",
     "status": "completed"
    },
    "tags": []
   },
   "source": [
    "Now we can see that for a threshod of 0.5 we have predicted 108 TP and 2 False Negative.This means we have a very high value of True positive rate close to one. \n",
    "\n",
    "But we have predicted 20 False Positive value out of (29 +20) 0 class.Which means we have a false positve rate of 40 %."
   ]
  },
  {
   "cell_type": "markdown",
   "metadata": {
    "papermill": {
     "duration": 0.044365,
     "end_time": "2021-02-02T06:08:55.248578",
     "exception": false,
     "start_time": "2021-02-02T06:08:55.204213",
     "status": "completed"
    },
    "tags": []
   },
   "source": [
    "### AUC (Area Under the Curve)"
   ]
  },
  {
   "cell_type": "code",
   "execution_count": 29,
   "metadata": {
    "_kg_hide-input": true,
    "execution": {
     "iopub.execute_input": "2021-02-02T06:08:55.346036Z",
     "iopub.status.busy": "2021-02-02T06:08:55.345078Z",
     "iopub.status.idle": "2021-02-02T06:08:55.350173Z",
     "shell.execute_reply": "2021-02-02T06:08:55.349384Z"
    },
    "papermill": {
     "duration": 0.055901,
     "end_time": "2021-02-02T06:08:55.350311",
     "exception": false,
     "start_time": "2021-02-02T06:08:55.294410",
     "status": "completed"
    },
    "tags": []
   },
   "outputs": [
    {
     "data": {
      "text/plain": [
       "0.8716141001855288"
      ]
     },
     "execution_count": 29,
     "metadata": {},
     "output_type": "execute_result"
    }
   ],
   "source": [
    "auc"
   ]
  },
  {
   "cell_type": "markdown",
   "metadata": {
    "papermill": {
     "duration": 0.045183,
     "end_time": "2021-02-02T06:08:55.441290",
     "exception": false,
     "start_time": "2021-02-02T06:08:55.396107",
     "status": "completed"
    },
    "tags": []
   },
   "source": [
    "So we have acheived 0.87 as the value for area under the curve.Higher the auc value better is our model.If we want to compare two different models we have to compare the auc values for the two models."
   ]
  }
 ],
 "metadata": {
  "kernelspec": {
   "display_name": "Python 3",
   "language": "python",
   "name": "python3"
  },
  "language_info": {
   "codemirror_mode": {
    "name": "ipython",
    "version": 3
   },
   "file_extension": ".py",
   "mimetype": "text/x-python",
   "name": "python",
   "nbconvert_exporter": "python",
   "pygments_lexer": "ipython3",
   "version": "3.7.6"
  },
  "papermill": {
   "duration": 14.095567,
   "end_time": "2021-02-02T06:08:55.596892",
   "environment_variables": {},
   "exception": null,
   "input_path": "__notebook__.ipynb",
   "output_path": "__notebook__.ipynb",
   "parameters": {},
   "start_time": "2021-02-02T06:08:41.501325",
   "version": "2.1.0"
  }
 },
 "nbformat": 4,
 "nbformat_minor": 4
}
